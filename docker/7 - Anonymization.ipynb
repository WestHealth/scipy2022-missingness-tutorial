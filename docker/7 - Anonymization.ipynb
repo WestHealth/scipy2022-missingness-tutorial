{
  "cells": [
    {
      "cell_type": "markdown",
      "metadata": {
        "id": "WvQYUhOqtN0d"
      },
      "source": [
        "# $\\color{purple}{\\text{Understanding Missing Data and How to Deal with It (Part 7)}}$"
      ]
    },
    {
      "cell_type": "markdown",
      "metadata": {
        "id": "TopzKHmOtVtL"
      },
      "source": [
        "## $\\color{purple}{\\text{Imputation Application to Anonymization}}$"
      ]
    },
    {
      "cell_type": "markdown",
      "metadata": {},
      "source": [
        "### $\\color{purple}{\\text{Libraries for this lesson}}$"
      ]
    },
    {
      "cell_type": "code",
      "execution_count": null,
      "metadata": {
        "id": "zjpQsy_SuNx6"
      },
      "outputs": [],
      "source": [
        "from helpers import clobber, stat_comparison\n",
        "import pandas as pd\n",
        "from autoimpute.imputations import SingleImputer"
      ]
    },
    {
      "cell_type": "markdown",
      "metadata": {},
      "source": [
        "### $\\color{purple}{\\text{Anonymizing Data}}$\n",
        "\n",
        "\n",
        "![](https://raw.githubusercontent.com/WestHealth/scipy2022-missingness-tutorial/main/images/clobber.svg)\n",
        "\n",
        "One application of imputation is to anonymize data. The basic idea is to make missing a small amount of data then impute the missing data. The process is then repeated until enough identifiable data is removed and replaced to render the data set anonymized.\n",
        "\n",
        "Since we've already established that MCAR missingness is the easiest to deal with. It is easier to clobber data using an MCAR mechanism. Advantage here is that we control the way missingness occurs.\n",
        "\n",
        "We'll merge the data from the Wine Quality Data Set from the previous lesson. And to avoid confusion drop the categorical variable."
      ]
    },
    {
      "cell_type": "code",
      "execution_count": null,
      "metadata": {},
      "outputs": [],
      "source": [
        "wine_quality = pd.concat([pd.read_csv('data/original_wine_training.csv'), pd.read_csv('data/original_wine_test.csv')]).drop(columns='type').reset_index()"
      ]
    },
    {
      "cell_type": "markdown",
      "metadata": {},
      "source": [
        "For speed and simplicity we'll demonstrate with the `stochasitc` imputer"
      ]
    },
    {
      "cell_type": "code",
      "execution_count": null,
      "metadata": {},
      "outputs": [],
      "source": [
        "imputer = SingleImputer('stochastic')"
      ]
    },
    {
      "cell_type": "markdown",
      "metadata": {},
      "source": [
        "The basic step is to clobber a single column using an MCAR mechanism"
      ]
    },
    {
      "cell_type": "code",
      "execution_count": null,
      "metadata": {},
      "outputs": [],
      "source": [
        "clobbered = clobber(wine_quality, 'fixed acidity', 0.1)\n",
        "clobbered"
      ]
    },
    {
      "cell_type": "markdown",
      "metadata": {},
      "source": [
        "Then we will impute that clobbered dataset"
      ]
    },
    {
      "cell_type": "code",
      "execution_count": null,
      "metadata": {},
      "outputs": [],
      "source": [
        "imputer.fit_transform(clobbered)"
      ]
    },
    {
      "cell_type": "markdown",
      "metadata": {},
      "source": [
        "We'll iterate over all the feature columns with 10% missing rate. Then repeat 10 times."
      ]
    },
    {
      "cell_type": "code",
      "execution_count": null,
      "metadata": {},
      "outputs": [],
      "source": [
        "anonymized=wine_quality\n",
        "for _ in range (0,10):\n",
        "    for column in wine_quality.columns[0:-1]:\n",
        "            anonymized = imputer.fit_transform(clobber(anonymized, column, 0.1))"
      ]
    },
    {
      "cell_type": "code",
      "execution_count": null,
      "metadata": {
        "tags": [
          "master"
        ]
      },
      "outputs": [],
      "source": []
    },
    {
      "cell_type": "code",
      "execution_count": null,
      "metadata": {},
      "outputs": [],
      "source": []
    }
  ],
  "metadata": {
    "colab": {
      "authorship_tag": "ABX9TyNxJZJ5sy1NcpYGdObH/Z0z",
      "collapsed_sections": [],
      "name": "Untitled4.ipynb",
      "provenance": []
    },
    "kernelspec": {
      "display_name": "Python 3 (ipykernel)",
      "language": "python",
      "name": "python3"
    },
    "language_info": {
      "codemirror_mode": {
        "name": "ipython",
        "version": 3
      },
      "file_extension": ".py",
      "mimetype": "text/x-python",
      "name": "python",
      "nbconvert_exporter": "python",
      "pygments_lexer": "ipython3",
      "version": "3.9.7"
    }
  },
  "nbformat": 4,
  "nbformat_minor": 4
}