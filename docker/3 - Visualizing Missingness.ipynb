{
  "cells": [
    {
      "cell_type": "markdown",
      "metadata": {
        "id": "oHGlOxoYDI4i"
      },
      "source": [
        "# $\\color{purple}{\\text{Understanding Missing Data and How to Deal with It (Part 3)}}$"
      ]
    },
    {
      "cell_type": "markdown",
      "metadata": {
        "id": "fw0nulddDLYI"
      },
      "source": [
        "## $\\color{purple}{\\text{Visualizing Missing Data and Analysis of Missingness Patterns}}$"
      ]
    },
    {
      "cell_type": "markdown",
      "metadata": {},
      "source": [
        "### $\\color{purple}{\\text{Libraries for this lesson}}$"
      ]
    },
    {
      "cell_type": "code",
      "execution_count": null,
      "metadata": {
        "executionInfo": {
          "elapsed": 476,
          "status": "ok",
          "timestamp": 1654711991909,
          "user": {
            "displayName": "Haw-minn Lu",
            "userId": "16109571175851064283"
          },
          "user_tz": 420
        },
        "id": "bdiCXDBrhRVH"
      },
      "outputs": [],
      "source": [
        "import pandas as pd\n",
        "import missingno"
      ]
    },
    {
      "cell_type": "markdown",
      "metadata": {
        "id": "fZ7RtWXA9faV"
      },
      "source": [
        "## $\\color{purple}{\\text{Visualizing Missing Data with missingno}}$\n",
        "\n",
        "The following data set was taken from [kaggle](https://www.kaggle.com/datasets/justinas/housing-in-london). This module draws heavily from this [tutorial](https://coderzcolumn.com/tutorials/data-science/missingno-visualize-missing-data-in-python)"
      ]
    },
    {
      "cell_type": "code",
      "execution_count": null,
      "metadata": {
        "executionInfo": {
          "elapsed": 175,
          "status": "ok",
          "timestamp": 1654712058764,
          "user": {
            "displayName": "Haw-minn Lu",
            "userId": "16109571175851064283"
          },
          "user_tz": 420
        },
        "id": "kwJllT0ehTp2"
      },
      "outputs": [],
      "source": [
        "london_housing = pd.read_csv('data/housing_in_london_yearly_variables.csv')"
      ]
    },
    {
      "cell_type": "markdown",
      "metadata": {},
      "source": [
        "### $\\color{purple}{\\text{Bar Graph}}$\n",
        "First thing most people do to check assess missing data is to count the nulls by feature."
      ]
    },
    {
      "cell_type": "code",
      "execution_count": null,
      "metadata": {
        "colab": {
          "base_uri": "https://localhost:8080/"
        },
        "executionInfo": {
          "elapsed": 197,
          "status": "ok",
          "timestamp": 1654712366173,
          "user": {
            "displayName": "Haw-minn Lu",
            "userId": "16109571175851064283"
          },
          "user_tz": 420
        },
        "id": "q3I0M2lhhuiZ",
        "outputId": "3558c9fe-1b4a-4be3-dcb0-4c6da3e7630e"
      },
      "outputs": [],
      "source": [
        "london_housing.isnull().sum()"
      ]
    },
    {
      "cell_type": "markdown",
      "metadata": {},
      "source": [
        "The bar graph method of `missingno` provides the same information graphically. It can be sorted and displayed logarithmically."
      ]
    },
    {
      "cell_type": "code",
      "execution_count": null,
      "metadata": {
        "colab": {
          "base_uri": "https://localhost:8080/",
          "height": 441
        },
        "executionInfo": {
          "elapsed": 3026,
          "status": "ok",
          "timestamp": 1654712575142,
          "user": {
            "displayName": "Haw-minn Lu",
            "userId": "16109571175851064283"
          },
          "user_tz": 420
        },
        "id": "ZsC6j33fhbGW",
        "outputId": "18a0726e-d455-42bb-fd3e-0e0cdd2dc5ea"
      },
      "outputs": [],
      "source": [
        "missingno.bar(london_housing, color='deepskyblue', figsize=(10,5), fontsize=12, sort='descending')"
      ]
    },
    {
      "cell_type": "markdown",
      "metadata": {},
      "source": [
        "### $\\color{purple}{\\text{Matrix}}$\n",
        "This provides a high level visual view of co-missing features."
      ]
    },
    {
      "cell_type": "code",
      "execution_count": null,
      "metadata": {
        "colab": {
          "base_uri": "https://localhost:8080/",
          "height": 395
        },
        "executionInfo": {
          "elapsed": 813,
          "status": "ok",
          "timestamp": 1654712696369,
          "user": {
            "displayName": "Haw-minn Lu",
            "userId": "16109571175851064283"
          },
          "user_tz": 420
        },
        "id": "WkUnd5T4hjMF",
        "outputId": "76d1ca51-fe5c-4eb4-a075-1b5ee9f6e40a"
      },
      "outputs": [],
      "source": [
        "missingno.matrix(london_housing, figsize=(10,5), fontsize=12, color=(0.27, 0.52, 1.0));"
      ]
    },
    {
      "cell_type": "markdown",
      "metadata": {},
      "source": [
        "### $\\color{purple}{\\text{HeatMap}}$\n",
        "Provides a more mathematical expression of co-missingness"
      ]
    },
    {
      "cell_type": "code",
      "execution_count": null,
      "metadata": {
        "colab": {
          "base_uri": "https://localhost:8080/",
          "height": 390
        },
        "executionInfo": {
          "elapsed": 1770,
          "status": "ok",
          "timestamp": 1654712731140,
          "user": {
            "displayName": "Haw-minn Lu",
            "userId": "16109571175851064283"
          },
          "user_tz": 420
        },
        "id": "tTecCiaOjtzP",
        "outputId": "3ee1eb25-d564-4d1f-ded9-eb67d72481ab"
      },
      "outputs": [],
      "source": [
        "missingno.heatmap(london_housing, cmap=\"RdYlGn\", figsize=(10,5), fontsize=12);"
      ]
    },
    {
      "cell_type": "markdown",
      "metadata": {
        "id": "XZeDaA_zkS8R"
      },
      "source": [
        "### $\\color{purple}{\\text{Dendrogram}}$\n",
        "This provides a breakdown of missingess clusters. It can be a valuable roadmap to guide imputation strategy"
      ]
    },
    {
      "cell_type": "code",
      "execution_count": null,
      "metadata": {
        "colab": {
          "base_uri": "https://localhost:8080/",
          "height": 386
        },
        "executionInfo": {
          "elapsed": 777,
          "status": "ok",
          "timestamp": 1654712775579,
          "user": {
            "displayName": "Haw-minn Lu",
            "userId": "16109571175851064283"
          },
          "user_tz": 420
        },
        "id": "c564_r0HkH3x",
        "outputId": "1c80c9a3-3eb7-4f3a-9c5c-49b9a7fcb3a3"
      },
      "outputs": [],
      "source": [
        "missingno.dendrogram(london_housing, figsize=(10,5), fontsize=12);"
      ]
    },
    {
      "cell_type": "markdown",
      "metadata": {},
      "source": [
        "## $\\color{purple}{\\text{Takeaways}}$\n",
        "* Visualization as part of exploratory data analysis can help quickly gauge the extent of missingness\n",
        "* Can easily assess the different missingness patterns\n",
        "* Can be used as a tool to guide imputation strategies"
      ]
    },
    {
      "cell_type": "markdown",
      "metadata": {},
      "source": [
        "### $\\color{purple}{\\text{References}}$\n",
        " * missingno Source: https://github.com/ResidentMario/missingno\n",
        " *_missingno - Visualize Missing Data_: https://coderzcolumn.com/tutorials/data-science/missingno-visualize-missing-data-in-python\n",
        " * McDonald, A.: Using the missingno Python library to Identify and Visualise Missing Data Prior to Machine Learning, _Towards DataScience_, https://towardsdatascience.com/using-the-missingno-python-library-to-identify-and-visualise-missing-data-prior-to-machine-learning-34c8c5b5f009"
      ]
    },
    {
      "cell_type": "code",
      "execution_count": null,
      "metadata": {},
      "outputs": [],
      "source": []
    }
  ],
  "metadata": {
    "colab": {
      "authorship_tag": "ABX9TyOwgAs2jJ3yEtkJ8V77OezW",
      "collapsed_sections": [],
      "name": "2 - Visualizing Missingness.ipynb",
      "provenance": []
    },
    "kernelspec": {
      "display_name": "Python 3 (ipykernel)",
      "language": "python",
      "name": "python3"
    },
    "language_info": {
      "codemirror_mode": {
        "name": "ipython",
        "version": 3
      },
      "file_extension": ".py",
      "mimetype": "text/x-python",
      "name": "python",
      "nbconvert_exporter": "python",
      "pygments_lexer": "ipython3",
      "version": "3.9.7"
    },
    "toc": {
      "base_numbering": 1,
      "nav_menu": {},
      "number_sections": true,
      "sideBar": true,
      "skip_h1_title": false,
      "title_cell": "Table of Contents",
      "title_sidebar": "Contents",
      "toc_cell": false,
      "toc_position": {},
      "toc_section_display": true,
      "toc_window_display": false
    }
  },
  "nbformat": 4,
  "nbformat_minor": 1
}