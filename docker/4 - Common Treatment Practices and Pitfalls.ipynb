{
  "cells": [
    {
      "cell_type": "markdown",
      "metadata": {
        "id": "tub1CBws92hf"
      },
      "source": [
        "# $\\color{purple}{\\text{Understanding Missing Data and How to Deal with It (Part 4)}}$\n",
        "\n",
        "## $\\color{purple}{\\text{Common Treatment Practices}}$"
      ]
    },
    {
      "cell_type": "markdown",
      "metadata": {},
      "source": [
        "### $\\color{purple}{\\text{Libraries for this lesson}}$"
      ]
    },
    {
      "cell_type": "code",
      "execution_count": null,
      "metadata": {
        "id": "IpdrS926-znQ"
      },
      "outputs": [],
      "source": [
        "import pandas as pd\n",
        "import matplotlib.pyplot as plt\n",
        "import matplotlib\n",
        "import missingno\n",
        "import numpy as np\n",
        "plt.style.use('ggplot')\n",
        "from helpers import stat_comparison\n",
        "from autoimpute.imputations import SingleImputer"
      ]
    },
    {
      "cell_type": "markdown",
      "metadata": {},
      "source": [
        "### $\\color{purple}{\\text{Load Datasets for this Lesson}}$\n",
        "These datasets will be used for most of this section"
      ]
    },
    {
      "cell_type": "code",
      "execution_count": null,
      "metadata": {
        "id": "J5_auknDp8jf"
      },
      "outputs": [],
      "source": [
        "pristine_df=pd.read_csv('data/full_set.csv')\n",
        "mcar_df = pd.read_csv('data/mcar_set.csv')\n",
        "mar_df = pd.read_csv('data/mar_set.csv')"
      ]
    },
    {
      "cell_type": "markdown",
      "metadata": {
        "id": "oj4YGFTZ-x3q"
      },
      "source": [
        "### $\\color{purple}{\\text{Deletion}}$\n",
        "\n",
        "Deletion is the most common form of treatment, but is the most susceptible to bias. It is intended to be used with MCAR mechanism. Some scenarios have guidelines where if the missingness is below a threshold then deletion bias is considered acceptable.\n",
        "\n",
        "Deletion comes in two flavors, _list deletion_ and _pair deletion_"
      ]
    },
    {
      "cell_type": "markdown",
      "metadata": {},
      "source": [
        "#### $\\color{purple}{\\text{List Deletion}}$\n",
        "This is the simplest, you simply drop the records that have missing values"
      ]
    },
    {
      "cell_type": "code",
      "execution_count": null,
      "metadata": {
        "id": "-toqYD9OqK5u"
      },
      "outputs": [],
      "source": [
        "cleaned=mar_df.dropna()"
      ]
    },
    {
      "cell_type": "code",
      "execution_count": null,
      "metadata": {
        "id": "yuEldk8P_MHA"
      },
      "outputs": [],
      "source": [
        "stat_comparison( pristine_df, cleaned, 'feature a')"
      ]
    },
    {
      "cell_type": "markdown",
      "metadata": {},
      "source": [
        "#### $\\color{purple}{\\text{Pair Deletion}}$\n",
        "Values are dropped if they are used. \n",
        "For example for covariance\n",
        "\n",
        "$$\\sigma_{ij} =\\sum_{k} \\frac{(x_{ik}-\\mu_i)(x_{jk}-\\mu_j)}{N^*} $$\n",
        "where for all $k$ where $x_{ik}$ and $x_{jk}$ are not missing and $N^*$ is the count of all pairs where neither $x_{ik}$ and $x_{jk}$ are missing. This is how the the `cov` method deals with missing data"
      ]
    },
    {
      "cell_type": "code",
      "execution_count": null,
      "metadata": {
        "tags": [
          "master"
        ]
      },
      "outputs": [],
      "source": []
    },
    {
      "cell_type": "code",
      "execution_count": null,
      "metadata": {
        "tags": [
          "master"
        ]
      },
      "outputs": [],
      "source": []
    },
    {
      "cell_type": "markdown",
      "metadata": {
        "id": "3PJCEgBa_pY9"
      },
      "source": [
        "### $\\color{purple}{\\text{Interpolation}}$\n",
        "\n",
        "If the rows have a geometric relationship (time-series, spatial relation), interpolation could be applied and the feature in question is thought to be continuous.\n",
        "\n",
        "The interpolate dataset is constructed by sampling a continuous functions simulating a timeseries data.\n",
        "\n",
        "Here is a little EDA on this set."
      ]
    },
    {
      "cell_type": "code",
      "execution_count": null,
      "metadata": {
        "id": "3sXn6Xl--n7B"
      },
      "outputs": [],
      "source": [
        "df=pd.read_csv('data/interpolate.csv')\n",
        "df"
      ]
    },
    {
      "cell_type": "code",
      "execution_count": null,
      "metadata": {
        "tags": [
          "master"
        ]
      },
      "outputs": [],
      "source": []
    },
    {
      "cell_type": "code",
      "execution_count": null,
      "metadata": {
        "id": "KQfKoMnREcPT",
        "tags": [
          "master"
        ]
      },
      "outputs": [],
      "source": []
    },
    {
      "cell_type": "markdown",
      "metadata": {},
      "source": [
        "We'll create a missing column so when we graph we can see the data that was interpolated. Also create a more attractive colormap for plotting."
      ]
    },
    {
      "cell_type": "code",
      "execution_count": null,
      "metadata": {
        "id": "yv6E0tR3CNbR"
      },
      "outputs": [],
      "source": [
        "df['missing']=df.y.isnull().astype(int)\n",
        "cmap=matplotlib.colors.ListedColormap(['red', 'deepskyblue'])"
      ]
    },
    {
      "cell_type": "markdown",
      "metadata": {},
      "source": [
        "#### $\\color{purple}{\\text{Back Fill/Forward Fill}}$\n",
        "\n",
        "The simplest interpolation method (only applies to 1 dimension)\n",
        "\n",
        " * Forward Fill / Last Observation Forward\n",
        " * Back Fill / Next Observation Backward"
      ]
    },
    {
      "cell_type": "code",
      "execution_count": null,
      "metadata": {
        "id": "7EGqdztAEy7d"
      },
      "outputs": [],
      "source": [
        "ndf=df.sort_values('x').fillna(method='ffill')\n",
        "plt.scatter(ndf.x, ndf.y, cmap=cmap, c=df.missing)"
      ]
    },
    {
      "cell_type": "markdown",
      "metadata": {
        "id": "O5Y0SdktApte"
      },
      "source": [
        "#### $\\color{purple}{\\text{Other Interpolation Techniques}}$\n",
        "\n",
        "Some types supported by `scipy`\n",
        "* linear\n",
        "* quadratic\n",
        "* cubic"
      ]
    },
    {
      "cell_type": "code",
      "execution_count": null,
      "metadata": {
        "id": "_sf0hD4LHy4K"
      },
      "outputs": [],
      "source": [
        "from scipy import interpolate\n",
        "kind='linear'\n",
        "ndf=df.copy()\n",
        "interpolator_y = interpolate.interp1d(df.dropna().x, df.dropna().y, kind=kind)\n",
        "ndf['y']=interpolator_y(ndf.x)\n",
        "interpolator_z = interpolate.interp1d(df.dropna().x, df.dropna().z, kind=kind)\n",
        "ndf['z']=interpolator_z(ndf.x)\n",
        "plt.scatter(ndf.y, ndf.z, c=df.missing, cmap=cmap)"
      ]
    },
    {
      "cell_type": "markdown",
      "metadata": {
        "id": "5BBSTzI3E-wZ"
      },
      "source": [
        "### $\\color{purple}{\\text{Univariate Imputation}}$\n",
        "* Fill - Not recommended\n",
        "    * `df.fillna(0)`\n",
        "* Mean/Median\n",
        "* Mode/Frequent\n",
        "* Random"
      ]
    },
    {
      "cell_type": "markdown",
      "metadata": {
        "id": "YhroZFWjBqrX"
      },
      "source": [
        "#### $\\color{purple}{\\text{Mean or Median Imputation}}$\n",
        "For any column fill each missing value with the mean or the median of that feature\n",
        "* Easy and quick\n",
        "* Does not correct bias for MAR (or MNAR data)\n",
        "* Induces a bias in variance a lower value\n"
      ]
    },
    {
      "cell_type": "code",
      "execution_count": null,
      "metadata": {},
      "outputs": [],
      "source": [
        "imputed_df = mar_df.fillna(mar_df['feature a'].mean())\n",
        "stat_comparison( pristine_df, imputed_df, 'feature a')"
      ]
    },
    {
      "cell_type": "code",
      "execution_count": null,
      "metadata": {
        "tags": [
          "master"
        ]
      },
      "outputs": [],
      "source": []
    },
    {
      "cell_type": "code",
      "execution_count": null,
      "metadata": {
        "id": "fTmyFiNVBuI7"
      },
      "outputs": [],
      "source": [
        "# Use autoimpute\n",
        "imputer=SingleImputer('mean')\n",
        "imputed = imputer.fit_transform(mar_df)"
      ]
    },
    {
      "cell_type": "code",
      "execution_count": null,
      "metadata": {
        "id": "aP5MaTxoGdkF",
        "tags": [
          "master"
        ]
      },
      "outputs": [],
      "source": []
    },
    {
      "cell_type": "markdown",
      "metadata": {
        "id": "OpvPq4_IJoKW"
      },
      "source": [
        "#### $\\color{purple}{\\text{Mode/Frequent Imputation}}$\n",
        "For any column fill each missing value with the most frequent value \n",
        "* Same drawbacks as mean or median imputation for continuous values"
      ]
    },
    {
      "cell_type": "code",
      "execution_count": null,
      "metadata": {},
      "outputs": [],
      "source": [
        "cat_mar_df = pd.read_csv('data/categorical_mar.csv')"
      ]
    },
    {
      "cell_type": "code",
      "execution_count": null,
      "metadata": {},
      "outputs": [],
      "source": [
        "cat_mar_df.fillna(cat_mar_df['cat feature'].mode().iat[0])"
      ]
    },
    {
      "cell_type": "markdown",
      "metadata": {
        "id": "5Z_-4V4bfeQu"
      },
      "source": [
        "#### $\\color{purple}{\\text{Random/Normal}}$\n",
        "Basically pick a random value based on the distribution of the rest of the column\n",
        "* Advantage over median or mean imputation as it preserves the variance\n",
        "* Still does not correct bias in MAR"
      ]
    },
    {
      "cell_type": "code",
      "execution_count": null,
      "metadata": {
        "id": "ToZXpvrQfhDV"
      },
      "outputs": [],
      "source": [
        "filler=np.random.normal(mar_df['feature a'].mean(), mar_df['feature a'].std(), 20000)\n",
        "imputed=mar_df.assign(**{'feature a': mar_df['feature a'].where(~mar_df['feature a'].isnull(), filler)})"
      ]
    },
    {
      "cell_type": "code",
      "execution_count": null,
      "metadata": {
        "id": "sWjeN5w5fxb2"
      },
      "outputs": [],
      "source": [
        "\n",
        "stat_comparison( pristine_df, imputed_df, 'feature a')"
      ]
    },
    {
      "cell_type": "code",
      "execution_count": null,
      "metadata": {
        "id": "1orCCjk0gmxh",
        "tags": [
          "master"
        ]
      },
      "outputs": [],
      "source": []
    },
    {
      "cell_type": "code",
      "execution_count": null,
      "metadata": {
        "id": "-ybRMX-5gobQ",
        "tags": [
          "master"
        ]
      },
      "outputs": [],
      "source": []
    },
    {
      "cell_type": "markdown",
      "metadata": {},
      "source": [
        "## $\\color{purple}{\\text{Takeaways}}$\n",
        "* Interpolation can (and maybe should) be used in cases of spatial or time connected data features that are believed continuous\n",
        "* Deletion and Univariate Imputation can be used for MCAR missingness or when the expected bias can be tolerated (i.e., very small amount of data missing)"
      ]
    },
    {
      "cell_type": "markdown",
      "metadata": {},
      "source": [
        "### $\\color{purple}{\\text{References}}$\n",
        " * Autoimpute Documentation: https://autoimpute.readthedocs.io/en/latest/index.html"
      ]
    },
    {
      "cell_type": "code",
      "execution_count": null,
      "metadata": {},
      "outputs": [],
      "source": []
    }
  ],
  "metadata": {
    "colab": {
      "authorship_tag": "ABX9TyPThFxeTVWCR4k5kX6b6Bmu",
      "collapsed_sections": [],
      "name": "3 - Common Treatment Practices and Pitfalls.ipynb",
      "private_outputs": true,
      "provenance": []
    },
    "kernelspec": {
      "display_name": "Python 3 (ipykernel)",
      "language": "python",
      "name": "python3"
    },
    "language_info": {
      "codemirror_mode": {
        "name": "ipython",
        "version": 3
      },
      "file_extension": ".py",
      "mimetype": "text/x-python",
      "name": "python",
      "nbconvert_exporter": "python",
      "pygments_lexer": "ipython3",
      "version": "3.9.7"
    },
    "toc": {
      "base_numbering": 1,
      "nav_menu": {},
      "number_sections": true,
      "sideBar": true,
      "skip_h1_title": false,
      "title_cell": "Table of Contents",
      "title_sidebar": "Contents",
      "toc_cell": false,
      "toc_position": {},
      "toc_section_display": true,
      "toc_window_display": false
    }
  },
  "nbformat": 4,
  "nbformat_minor": 1
}