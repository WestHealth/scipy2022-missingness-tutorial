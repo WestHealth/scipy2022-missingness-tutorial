{
  "cells": [
    {
      "cell_type": "markdown",
      "metadata": {},
      "source": [
        "# $\\color{purple}{\\text{Understanding Missing Data and How to Deal with It (Part 1)}}$\n",
        "## $\\color{purple}{\\text{Introduction to Missingness}}$"
      ]
    },
    {
      "cell_type": "code",
      "metadata": {
        "tags": [
          "colab"
        ]
      },
      "source": [
        "### $\\color{purple}{\\text{Colab Environmental Setup}}$\n",
        "We will be saving and reading files. If you are following along with me and use colab. It will be a lot easier to mount your google drive.\n"
      ],
      "outputs": [],
      "execution_count": null
    },
    {
      "cell_type": "code",
      "metadata": {
        "tags": [
          "colab"
        ]
      },
      "source": [
        "from google.colab import drive\n",
        "drive.mount('/content/drive')\n",
        "import os\n",
        "#os.mkdir('/content/drive/My Drive/missingness_tutorial')\n",
        "os.chdir('/content/drive/My Drive/missingness_tutorial')"
      ],
      "outputs": [],
      "execution_count": null
    },
    {
      "cell_type": "markdown",
      "metadata": {},
      "source": [
        "### $\\color{purple}{\\text{Libraries for this lesson}}$"
      ]
    },
    {
      "cell_type": "code",
      "execution_count": null,
      "metadata": {},
      "outputs": [],
      "source": [
        "import pandas as pd\n",
        "import numpy as np"
      ]
    },
    {
      "cell_type": "markdown",
      "metadata": {},
      "source": [
        "## $\\color{purple}{\\text{Nomenclature}}$\n",
        "\n",
        "* columns\n",
        "  * features\n",
        "  * variables\n",
        "\n",
        "* rows\n",
        "  * observations\n",
        "  * cases\n",
        "  * records\n",
        "\n",
        "Below is a little mnemonic Dataframe that encapsulates these synonyms"
      ]
    },
    {
      "cell_type": "code",
      "execution_count": null,
      "metadata": {},
      "outputs": [],
      "source": [
        "pd.DataFrame(np.random.randn(4, 3), columns=['columns', 'features', 'variables'], index=['rows', 'observations', 'cases', 'records'])"
      ]
    },
    {
      "cell_type": "markdown",
      "metadata": {},
      "source": [
        "## $\\color{purple}{\\text{Identifying Missing Features}}$\n",
        "$\\color{red}{\\Large{\\text{ \u26a0}}}$ Always examine your data and determine what are missing values\n",
        "\n",
        "  * Values that are missing:\n",
        "      * CSV files with blanks\n",
        "      * NULL in a database\n",
        "      * Impossible Values\n",
        "  * Values that are non necessarily missing:\n",
        "      * N/A\n",
        "        * Not Available - missing\n",
        "        * Not Applicable - maybe not missing\n",
        "      * NaN\n",
        "\n",
        "| Patient | Sex| Pregnant | Testicular Cancer |\n",
        "|---------|----|----------|-------------------|\n",
        "| Mary    | F  |  N       |   N/A             |\n",
        "| John    | M  |  N/A     |    N              |\n",
        "\n",
        "\n",
        "Is N/A really missing or just Not Applicable in this case?"
      ]
    },
    {
      "cell_type": "markdown",
      "metadata": {},
      "source": [
        "### $\\color{red}{\\Large{\\text{ \u26a0}}}$ Remember NaN really stands for Not a Number. \n",
        "\n",
        "Many python tools use NaN to denote missing values in a table. But it does not necessarily mean the value is missing. A NaN could be incurred from bad processing somewhere in the pipeline or could even be expected.\n",
        "\n",
        "However, for the rest of this we will use NaN in a `pandas` `DataFrame` to denote a missing value."
      ]
    },
    {
      "cell_type": "code",
      "execution_count": null,
      "metadata": {},
      "outputs": [],
      "source": [
        "df = pd.DataFrame({'a': [1,2,3], 'b': [1, -1, 4]})\n",
        "df['sqrt_b']=np.sqrt(df.b)"
      ]
    },
    {
      "cell_type": "code",
      "execution_count": null,
      "metadata": {},
      "outputs": [],
      "source": [
        "df"
      ]
    },
    {
      "cell_type": "markdown",
      "metadata": {},
      "source": [
        "## $\\color{purple}{\\text{Missingness Mechanism vs. Pattern}}$\n",
        "\n",
        "* Missingness Mechanism (Is an observation complete?)\n",
        "  * Missing Completely at Random (MCAR)\n",
        "  * Missing at Random (MAR)\n",
        "  * Missing not at Random (MNAR)\n",
        "\n",
        "* Missingness Pattern (What features are missing within an observation?)\n",
        "  * Uniform\n",
        "  * Monotonic\n",
        "  * Random"
      ]
    },
    {
      "cell_type": "markdown",
      "metadata": {},
      "source": [
        "## $\\color{purple}{\\text{Missingness Patterns}}$\n",
        "No standard terminology but here is one version:\n",
        "* If a row has missing data, the same features are always missing\n",
        "#### $\\color{purple}{\\text{Uniform}}$\n",
        "\n",
        "| Height | Weight | Sex  | Temperature | Pulse | BP Systolic |\n",
        "| ------ | ------ | ---- | ----------- | ----- | ----------- |\n",
        "| NaN    | NaN    | M    | 98.6        | 70    | NaN         |\n",
        "| 61     | 120    | F    | 98.2        | 77    | 110         |\n",
        "| 65     | 160    | M    | 99.1        | 62    | 140         |\n",
        "| NaN    | NaN    | F    | 98.9        | 55    | NaN         |\n",
        "\n",
        "* If a feature is missing, the rest of the features in the row are missing\n",
        "\n",
        "<font color='red'>\n",
        "The monotone missing pattern is where the set of observed rows  in one column is\n",
        "always a subset of the set of observed rows for another column. This means that the columns can be ordered by the respective number of missing elements (least-to-greatest) in each column. When reordered this way, a missing element along any row/column implies that the rest of the columns to the right along that row are also missing.\n",
        "</font> \n",
        "\n",
        "\n",
        "#### $\\color{purple}{\\text{Monotonic}}$\n",
        "\n",
        "| Height | Weight | Sex  | Temperature | Pulse | BP Systolic |\n",
        "| ------ | ------ | ---- | ----------- | ----- | ----------- |\n",
        "| 71     | 190    | M    | 98.6        | 70    | 120         |\n",
        "| 61     | 120    |      | NaN         | NaN   | NaN         |\n",
        "| 65     | 160    | M    | 99.1        | 62    | 140         |\n",
        "| 63     | 125    | F    | 98.9        | NaN   | NaN         |\n",
        "\n",
        "* No particular pattern to the missingness\n",
        "#### $\\color{purple}{\\text{Random}}$\n",
        "\n",
        "| Height | Weight | Sex  | Temperature | Pulse | BP Systolic |\n",
        "| ------ | ------ | ---- | ----------- | ----- | ----------- |\n",
        "| 71     | NaN    | M    | 98.6        | NaN   | 120         |\n",
        "| 61     | 120    | F    | 98.2        | 77    | 110         |\n",
        "| 65     | NaN    | M    | NaN         | NaN   | 140         |\n",
        "| 63     | 125    | F    | 98.9        | 55    | 100         |\n",
        "\n",
        "\n",
        "\n",
        "\n"
      ]
    },
    {
      "cell_type": "markdown",
      "metadata": {},
      "source": [
        "## $\\color{purple}{\\text{Missingness Mechanisms}}$\n",
        "\n",
        "Rubin\u2019s taxonomy:\n",
        "  * MCAR: the probability of data being missing does not depend on the values\n",
        "observed or unobserved variables\n",
        "  * MAR: the probability of data being missing does not depend on the unobserved\n",
        "data, conditional on the observed data\n",
        "  * MNAR: the probability of data being missing depends on the unobserved data,\n",
        "**even after conditioning on the observed data** \n",
        "\n",
        "Source: [Missing data in propensity\n",
        "score analysis](\n",
        "https://www.ucl.ac.uk/population-health-sciences/sites/population_health_sciences/files/nash-missing_dataps_clemence_leyret.pdf)"
      ]
    },
    {
      "cell_type": "markdown",
      "metadata": {},
      "source": [
        "## $\\color{purple}{\\text{Why Should I Care? Missing is Missing}}$\n",
        " * MCAR can apply deletion\n",
        " * MAR can use imputation\n",
        " * MNAR requires looking outside the data to handle\n",
        "\n",
        "$\\color{red}{\\text{\u26a0}}$ Many research papers purport to be able to impute MNAR data. Do not believe them, most of the methodology is the claims is faulty."
      ]
    },
    {
      "cell_type": "markdown",
      "metadata": {},
      "source": [
        "## $\\color{purple}{\\text{Simple Case of Unimputatble NMAR Data}}$\n",
        "The following example is a simple example of an MNAR mechanism. \n",
        "\n",
        "\n",
        "This data set is a fictitious scenario where 100 people were surveyed to pick a number between 1 and 10. Due to some unknown mechanism even numbers on occasionally lost. \n",
        "\n",
        "* `first_name` - first name of person polled\n",
        "* `number` - They were asked to pick a number between 1-10\n",
        "* missingness - with a small probability, numbers are missing if they are odd"
      ]
    },
    {
      "cell_type": "code",
      "execution_count": null,
      "metadata": {},
      "outputs": [],
      "source": [
        "df=pd.read_csv('data/favorite_numbers.csv')\n",
        "df.head(20)"
      ]
    },
    {
      "cell_type": "markdown",
      "metadata": {},
      "source": [
        "### $\\color{purple}{\\text{What can we tell about the missing data ?}}$\n",
        "* Data itself can tell us nothing\n",
        "* Outside knowledge can help\n",
        "* More data can help\n",
        "\n",
        "Based on the data set alone, there is knowledge as to what the missing values are aside from that they are even. \n",
        "One might assume that since most people tend to pick numbers from the middle hence you might infer that the numbers 4 and 6 are more common. However, this is based on knowledge outside the data set itself. Furthermore you might have statistics from outside sources indicating gender preference.\n"
      ]
    },
    {
      "cell_type": "code",
      "execution_count": null,
      "metadata": {
        "tags": [
          "master"
        ]
      },
      "outputs": [],
      "source": []
    },
    {
      "cell_type": "code",
      "execution_count": null,
      "metadata": {
        "tags": [
          "master"
        ]
      },
      "outputs": [],
      "source": []
    },
    {
      "cell_type": "markdown",
      "metadata": {},
      "source": [
        "Suppose now we have their last names. We see the surnames and might be able to apply additional domain knowledge to better determine how likely the distribution of the missing numbers might be.\n",
        "\n",
        "Traditionally, in Chinese culture, 6 and 8 are considered lucky where 4 and 10 are considered unlucky."
      ]
    },
    {
      "cell_type": "code",
      "execution_count": null,
      "metadata": {},
      "outputs": [],
      "source": [
        "df=pd.read_csv('data/favorite_numbers_full_name.csv')\n",
        "df.head(20)"
      ]
    },
    {
      "cell_type": "code",
      "execution_count": null,
      "metadata": {
        "tags": [
          "master"
        ]
      },
      "outputs": [],
      "source": []
    },
    {
      "cell_type": "code",
      "execution_count": null,
      "metadata": {
        "tags": [
          "master"
        ]
      },
      "outputs": [],
      "source": []
    },
    {
      "cell_type": "markdown",
      "metadata": {},
      "source": [
        "## $\\color{purple}{\\text{Key Takeaways}}$\n",
        "* Be sure to correctly identify what is truly missing\n",
        "* The proper treatment of missing data requires identifying the type of missingness mechanism (MCAR, MAR, MNAR)\n",
        "* Data missing due to MNAR requires domain knowledge to address"
      ]
    },
    {
      "cell_type": "markdown",
      "metadata": {},
      "source": [
        "## $\\color{purple}{\\text{References}}$\n",
        " * Leyrat, C., Williamson E.,: Missing data in propensity score analysis. _Perils and promises of propensity scores_, https://www.ucl.ac.uk/population-health-sciences/sites/population_health_sciences/files/nash-missing_dataps_clemence_leyret.pdf * Li, L., Shen, C., Li, X., Robins, J.M.: On weighting approaches for missing data. _Statistical methods in medical research\n",
        "22(1), 14\u201330 (Feb 2013)_. https://doi.org/10.1177/0962280211403597,\n",
        "https://www.ncbi.nlm.nih.gov/pubmed/21705435, 21705435[pmid]\n",
        " * Rubin, D.: Inference and missing data. _Biometrika, Volume 63, Issue 3, December 1976_, Pages 581\u2013592, https://doi.org/10.1093/biomet/63.3.581"
      ]
    },
    {
      "cell_type": "code",
      "execution_count": null,
      "metadata": {},
      "outputs": [],
      "source": []
    }
  ],
  "metadata": {
    "colab": {
      "authorship_tag": "ABX9TyPJPCKz3Vf0S1QHlXB9OeAl",
      "collapsed_sections": [],
      "name": "0-Introduction to Missingness.ipynb",
      "provenance": []
    },
    "kernelspec": {
      "display_name": "Python 3 (ipykernel)",
      "language": "python",
      "name": "python3"
    },
    "language_info": {
      "codemirror_mode": {
        "name": "ipython",
        "version": 3
      },
      "file_extension": ".py",
      "mimetype": "text/x-python",
      "name": "python",
      "nbconvert_exporter": "python",
      "pygments_lexer": "ipython3",
      "version": "3.9.7"
    },
    "toc": {
      "base_numbering": 1,
      "nav_menu": {},
      "number_sections": true,
      "sideBar": true,
      "skip_h1_title": false,
      "title_cell": "Table of Contents",
      "title_sidebar": "Contents",
      "toc_cell": false,
      "toc_position": {},
      "toc_section_display": true,
      "toc_window_display": false
    }
  },
  "nbformat": 4,
  "nbformat_minor": 1
}