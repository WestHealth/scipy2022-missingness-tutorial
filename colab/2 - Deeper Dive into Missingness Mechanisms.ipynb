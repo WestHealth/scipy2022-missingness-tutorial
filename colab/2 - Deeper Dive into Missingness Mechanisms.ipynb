{
  "cells": [
    {
      "cell_type": "markdown",
      "metadata": {
        "id": "IcWr96v59sU8"
      },
      "source": [
        "# $\\color{purple}{\\text{Understanding Missing Data and How to Deal with It (Part 2)}}$"
      ]
    },
    {
      "cell_type": "markdown",
      "metadata": {
        "tags": [
          "colab"
        ]
      },
      "source": [
        "### $\\color{purple}{\\text{Colab Environmental Setup}}$"
      ]
    },
    {
      "cell_type": "code",
      "metadata": {
        "tags": [
          "colab"
        ]
      },
      "source": [
        "from google.colab import drive\n",
        "import os\n",
        "drive.mount('/content/drive')\n",
        "os.chdir('/content/drive/My Drive/missingness_tutorial')"
      ],
      "outputs": [],
      "execution_count": null
    },
    {
      "cell_type": "markdown",
      "metadata": {},
      "source": [
        "### $\\color{purple}{\\text{Libraries for this lesson}}$"
      ]
    },
    {
      "cell_type": "code",
      "execution_count": null,
      "metadata": {
        "executionInfo": {
          "elapsed": 177,
          "status": "ok",
          "timestamp": 1654210166360,
          "user": {
            "displayName": "Haw-minn Lu",
            "userId": "16109571175851064283"
          },
          "user_tz": 420
        },
        "id": "AjbBlydaP97E"
      },
      "outputs": [],
      "source": [
        "import numpy as np\n",
        "import pandas as pd\n",
        "from helpers import clobber, stat_comparison"
      ]
    },
    {
      "cell_type": "markdown",
      "metadata": {},
      "source": [
        "## $\\color{purple}{\\text{Deeper Dive into Missingness Mechanisms}}$"
      ]
    },
    {
      "cell_type": "markdown",
      "metadata": {
        "id": "qFTeZP_Q_VPd"
      },
      "source": [
        "## $\\color{purple}{\\text{Setting Up Test Data}}$\n",
        "\n",
        "$\\color{red}{\\Large{\\text{ \u26a0}}}$ We synthensize a statiscally controlled example to more clearly illustrate the concepts. This dataset will satisfy the normality condition set forth in many of the statistical assumptions. These may not carry over to your datasets.\n",
        "\n",
        "We will cause missingness in approximately 20% of the observations. This may (hopefully) be more that you will experience, but this high proportion will amplify effects such as bias.\n",
        "\n",
        "`observations` will be the size of our test set. The covariance matrix `cov` supplied shows some nice characteristics with two highly correlated features. But you can generate a completely random covariance matrix using the following:\n",
        "```\n",
        "A = np.random.rand(variables, row_size)\n",
        "cov = np.dot(A, A.transpose())\n",
        "```\n",
        "where `variables` is the number of variables and `row_size` is any number greater thanor equal to `variables` to insure a positive semidefinite matrix.\n",
        "\n",
        "We selected a `mean` to be taken from an normal distribution with a mean between 1 and 5 and a standard deviation between 0 and 5.\n",
        "\n",
        "This dataset will serve as one of the major datasets for this and subsequent notebooks."
      ]
    },
    {
      "cell_type": "code",
      "execution_count": null,
      "metadata": {
        "executionInfo": {
          "elapsed": 186,
          "status": "ok",
          "timestamp": 1654210167452,
          "user": {
            "displayName": "Haw-minn Lu",
            "userId": "16109571175851064283"
          },
          "user_tz": 420
        },
        "id": "0gi0Vfz3QNMh"
      },
      "outputs": [],
      "source": [
        "# This covariance matrix has some nice properties to demonstrate. Originally this was generated at random\n",
        "cov = [\n",
        "    [1.6545195264181267, 0.6346001403246381, 1.573255077832285, 0.7457615955325402],\n",
        "    [0.6346001403246381, 0.5636389213610075, 0.5861890592085826, 0.6638139531999303],\n",
        "    [1.573255077832285, 0.5861890592085826, 1.6461885333121087, 0.4916921086792136],\n",
        "    [0.7457615955325402, 0.6638139531999303, 0.4916921086792136, 1.0900299890979697],\n",
        "]\n",
        "mean = np.random.normal(np.random.uniform(low=1, high=5), np.random.uniform(high=5), 4)\n",
        "mean"
      ]
    },
    {
      "cell_type": "markdown",
      "metadata": {
        "id": "uY6_V9KAw1IW"
      },
      "source": [
        "List the covariance matrix and compare to the original. \n",
        "This is only important to insure the number of observations selected is sufficient to give the right characteristics."
      ]
    },
    {
      "cell_type": "code",
      "execution_count": null,
      "metadata": {
        "colab": {
          "base_uri": "https://localhost:8080/",
          "height": 175
        },
        "executionInfo": {
          "elapsed": 171,
          "status": "ok",
          "timestamp": 1654210274317,
          "user": {
            "displayName": "Haw-minn Lu",
            "userId": "16109571175851064283"
          },
          "user_tz": 420
        },
        "id": "wvvEfIz-QBFY",
        "outputId": "9e4edddb-046f-4191-d402-7708c4aadbae"
      },
      "outputs": [],
      "source": [
        "observations = 20000\n",
        "df = pd.DataFrame(\n",
        "    np.random.multivariate_normal(mean, cov, size=observations),\n",
        "    columns=[\"feature a\", \"feature b\", \"feature c\", \"feature d\"],\n",
        ")\n",
        "df.cov()"
      ]
    },
    {
      "cell_type": "markdown",
      "metadata": {
        "id": "JL2-GxfbxYxe"
      },
      "source": [
        "Now we add one variable that is completely uncorrelated with the other features and show the correlation matrix to confirm. We'll save this dataset off for later use."
      ]
    },
    {
      "cell_type": "code",
      "execution_count": null,
      "metadata": {
        "executionInfo": {
          "elapsed": 440,
          "status": "ok",
          "timestamp": 1654210275954,
          "user": {
            "displayName": "Haw-minn Lu",
            "userId": "16109571175851064283"
          },
          "user_tz": 420
        },
        "id": "FjAlEhf2RCUw"
      },
      "outputs": [],
      "source": [
        "df[\"uncorrelated\"] = np.random.rand(observations)\n",
        "df.to_csv('full_set.csv', index=False)"
      ]
    },
    {
      "cell_type": "code",
      "execution_count": null,
      "metadata": {
        "colab": {
          "base_uri": "https://localhost:8080/",
          "height": 206
        },
        "executionInfo": {
          "elapsed": 191,
          "status": "ok",
          "timestamp": 1654210277357,
          "user": {
            "displayName": "Haw-minn Lu",
            "userId": "16109571175851064283"
          },
          "user_tz": 420
        },
        "id": "Wg2zYRxQRT6o",
        "outputId": "8da665ed-9055-44d4-8224-bd722fd79a8a",
        "tags": [
          "master"
        ]
      },
      "outputs": [],
      "source": []
    },
    {
      "cell_type": "markdown",
      "metadata": {},
      "source": [
        "The two helper functions `clobber` and `stat_comparison` are universally helpful. Detailed description in `helpers.py`"
      ]
    },
    {
      "cell_type": "markdown",
      "metadata": {
        "id": "aA1H16X5i9Gu"
      },
      "source": [
        "## $\\color{purple}{\\text{MCAR and MAR Data Set}}$\n",
        "In this subsection, we will induce missingness to the dataset we just constructed. This will enable demonstrations of missingness mechanism tests as well as to demonstrate treatment techniques in subsequent notebooks"
      ]
    },
    {
      "cell_type": "markdown",
      "metadata": {},
      "source": [
        "### $\\color{purple}{\\text{MCAR}}$\n",
        "We induce MCAR missingness in one and two columns then save off the files for later use"
      ]
    },
    {
      "cell_type": "code",
      "execution_count": null,
      "metadata": {
        "colab": {
          "base_uri": "https://localhost:8080/"
        },
        "executionInfo": {
          "elapsed": 400,
          "status": "ok",
          "timestamp": 1654210293212,
          "user": {
            "displayName": "Haw-minn Lu",
            "userId": "16109571175851064283"
          },
          "user_tz": 420
        },
        "id": "D_zmd2jAkj3-",
        "outputId": "d79d564b-8c46-41f8-a1d3-54b3cb9e422f"
      },
      "outputs": [],
      "source": [
        "mcar_df = clobber(df, \"feature a\", 0.2)\n",
        "\n",
        "mcar_df.to_csv('mcar_set.csv', index=False)\n",
        "mcar_df[\"feature a\"].isnull().sum()"
      ]
    },
    {
      "cell_type": "code",
      "execution_count": null,
      "metadata": {
        "colab": {
          "base_uri": "https://localhost:8080/",
          "height": 143
        },
        "executionInfo": {
          "elapsed": 4,
          "status": "ok",
          "timestamp": 1654210293598,
          "user": {
            "displayName": "Haw-minn Lu",
            "userId": "16109571175851064283"
          },
          "user_tz": 420
        },
        "id": "JERGhxH1kuhE",
        "outputId": "1ef75aa8-1403-49bf-beee-96f7ce05bb61"
      },
      "outputs": [],
      "source": [
        "stat_comparison(df, mcar_df, \"feature a\")"
      ]
    },
    {
      "cell_type": "code",
      "execution_count": null,
      "metadata": {
        "colab": {
          "base_uri": "https://localhost:8080/",
          "height": 206
        },
        "executionInfo": {
          "elapsed": 182,
          "status": "ok",
          "timestamp": 1654210294563,
          "user": {
            "displayName": "Haw-minn Lu",
            "userId": "16109571175851064283"
          },
          "user_tz": 420
        },
        "id": "UulFZyscsOa3",
        "outputId": "b97d9944-c3ff-4fb0-e630-45610864edbd"
      },
      "outputs": [],
      "source": [
        "mcar_df.cov()"
      ]
    },
    {
      "cell_type": "code",
      "execution_count": null,
      "metadata": {
        "colab": {
          "base_uri": "https://localhost:8080/",
          "height": 206
        },
        "executionInfo": {
          "elapsed": 187,
          "status": "ok",
          "timestamp": 1654210295598,
          "user": {
            "displayName": "Haw-minn Lu",
            "userId": "16109571175851064283"
          },
          "user_tz": 420
        },
        "id": "R_1FmxbTsRt1",
        "outputId": "5c1471e5-0fda-4bf0-b5e9-8d3b7a04e108",
        "tags": [
          "master"
        ]
      },
      "outputs": [],
      "source": []
    },
    {
      "cell_type": "markdown",
      "metadata": {},
      "source": [
        "Clobber a second column"
      ]
    },
    {
      "cell_type": "code",
      "execution_count": null,
      "metadata": {},
      "outputs": [],
      "source": [
        "double_mcar_df = clobber(mcar_df, \"feature b\", 0.2)\n",
        "\n",
        "double_mcar_df.to_csv('double_mcar_set.csv', index=False)\n",
        "double_mcar_df.isnull().sum()"
      ]
    },
    {
      "cell_type": "markdown",
      "metadata": {},
      "source": [
        "### $\\color{purple}{\\text{MAR}}$\n",
        "We induce MAR missingness in one and two columns then save off the files for later use"
      ]
    },
    {
      "cell_type": "code",
      "execution_count": null,
      "metadata": {
        "colab": {
          "base_uri": "https://localhost:8080/"
        },
        "executionInfo": {
          "elapsed": 387,
          "status": "ok",
          "timestamp": 1654210305297,
          "user": {
            "displayName": "Haw-minn Lu",
            "userId": "16109571175851064283"
          },
          "user_tz": 420
        },
        "id": "d7NC0PSLw5Df",
        "outputId": "e30bc252-3558-4c8f-9531-0fd8c55c316e"
      },
      "outputs": [],
      "source": [
        "mar_df = clobber(df, \"feature a\", 0.4, depends=[\"feature c\"])\n",
        "\n",
        "mar_df.to_csv('mar_set.csv', index=False)\n",
        "mar_df[\"feature a\"].isnull().sum()"
      ]
    },
    {
      "cell_type": "code",
      "execution_count": null,
      "metadata": {
        "colab": {
          "base_uri": "https://localhost:8080/",
          "height": 143
        },
        "executionInfo": {
          "elapsed": 5,
          "status": "ok",
          "timestamp": 1654210305298,
          "user": {
            "displayName": "Haw-minn Lu",
            "userId": "16109571175851064283"
          },
          "user_tz": 420
        },
        "id": "QDV_fAqlzP1b",
        "outputId": "8841bfb5-e3a6-4f60-ee35-3e929989d4f9"
      },
      "outputs": [],
      "source": [
        "stat_comparison(df, mar_df, \"feature a\")"
      ]
    },
    {
      "cell_type": "code",
      "execution_count": null,
      "metadata": {
        "colab": {
          "base_uri": "https://localhost:8080/",
          "height": 206
        },
        "executionInfo": {
          "elapsed": 185,
          "status": "ok",
          "timestamp": 1654210306828,
          "user": {
            "displayName": "Haw-minn Lu",
            "userId": "16109571175851064283"
          },
          "user_tz": 420
        },
        "id": "_2loK31DseV2",
        "outputId": "941a1f08-b144-413f-9a6a-8bcb97bfffb9",
        "tags": [
          "master"
        ]
      },
      "outputs": [],
      "source": []
    },
    {
      "cell_type": "markdown",
      "metadata": {
        "colab": {
          "base_uri": "https://localhost:8080/",
          "height": 206
        },
        "executionInfo": {
          "elapsed": 7,
          "status": "ok",
          "timestamp": 1654210307739,
          "user": {
            "displayName": "Haw-minn Lu",
            "userId": "16109571175851064283"
          },
          "user_tz": 420
        },
        "id": "i-deY7jUsgEO",
        "outputId": "4519d8c1-96b4-4aac-90ca-441503114257",
        "tags": [
          "master"
        ]
      },
      "source": []
    },
    {
      "cell_type": "code",
      "execution_count": null,
      "metadata": {},
      "outputs": [],
      "source": [
        "double_mar_df = clobber(mar_df, \"feature b\", 0.4, depends=['feature d'])\n",
        "\n",
        "double_mar_df.to_csv('double_mar_set.csv', index=False)\n",
        "double_mar_df.isnull().sum()"
      ]
    },
    {
      "cell_type": "markdown",
      "metadata": {
        "id": "J5vRbGy2PBnh"
      },
      "source": [
        "## $\\color{purple}{\\text{Simple MAR Test}}$\n",
        "\n",
        "The procedure is simple. For any columns with missing data, construct a new column relating to the missingness of that column"
      ]
    },
    {
      "cell_type": "code",
      "execution_count": null,
      "metadata": {
        "executionInfo": {
          "elapsed": 183,
          "status": "ok",
          "timestamp": 1654210311122,
          "user": {
            "displayName": "Haw-minn Lu",
            "userId": "16109571175851064283"
          },
          "user_tz": 420
        },
        "id": "if4EvRoJPmdb"
      },
      "outputs": [],
      "source": [
        "test_df = mcar_df.copy()"
      ]
    },
    {
      "cell_type": "code",
      "execution_count": null,
      "metadata": {
        "executionInfo": {
          "elapsed": 180,
          "status": "ok",
          "timestamp": 1654210312320,
          "user": {
            "displayName": "Haw-minn Lu",
            "userId": "16109571175851064283"
          },
          "user_tz": 420
        },
        "id": "EqFldfrIQNg0"
      },
      "outputs": [],
      "source": [
        "test_df['missingness']=test_df['feature a'].isnull()"
      ]
    },
    {
      "cell_type": "markdown",
      "metadata": {
        "id": "MdQ2L6jfQydn"
      },
      "source": [
        "Then test to see if that new feature is \"related\" to any of the columns. If it is then the missingness mechanism is MAR. We will use the \"eyeball\" test by using correlation. There are statistically robust tests such as using Student's t-test or use logistic regression on the other features to predict the missingness, etc."
      ]
    },
    {
      "cell_type": "code",
      "execution_count": null,
      "metadata": {
        "colab": {
          "base_uri": "https://localhost:8080/",
          "height": 238
        },
        "executionInfo": {
          "elapsed": 182,
          "status": "ok",
          "timestamp": 1654210315093,
          "user": {
            "displayName": "Haw-minn Lu",
            "userId": "16109571175851064283"
          },
          "user_tz": 420
        },
        "id": "EemPE61bQZTm",
        "outputId": "df1fdb82-f124-486c-d550-0e1551f920f3"
      },
      "outputs": [],
      "source": [
        "test_df.corr()"
      ]
    },
    {
      "cell_type": "markdown",
      "metadata": {
        "id": "MdQ2L6jfQydn"
      },
      "source": [
        "Repeat for MAR"
      ]
    },
    {
      "cell_type": "code",
      "execution_count": null,
      "metadata": {
        "executionInfo": {
          "elapsed": 183,
          "status": "ok",
          "timestamp": 1654210311122,
          "user": {
            "displayName": "Haw-minn Lu",
            "userId": "16109571175851064283"
          },
          "user_tz": 420
        },
        "id": "if4EvRoJPmdb",
        "tags": [
          "master"
        ]
      },
      "outputs": [],
      "source": []
    },
    {
      "cell_type": "code",
      "execution_count": null,
      "metadata": {
        "executionInfo": {
          "elapsed": 180,
          "status": "ok",
          "timestamp": 1654210312320,
          "user": {
            "displayName": "Haw-minn Lu",
            "userId": "16109571175851064283"
          },
          "user_tz": 420
        },
        "id": "EqFldfrIQNg0",
        "tags": [
          "master"
        ]
      },
      "outputs": [],
      "source": []
    },
    {
      "cell_type": "code",
      "execution_count": null,
      "metadata": {
        "colab": {
          "base_uri": "https://localhost:8080/",
          "height": 238
        },
        "executionInfo": {
          "elapsed": 182,
          "status": "ok",
          "timestamp": 1654210315093,
          "user": {
            "displayName": "Haw-minn Lu",
            "userId": "16109571175851064283"
          },
          "user_tz": 420
        },
        "id": "EemPE61bQZTm",
        "outputId": "df1fdb82-f124-486c-d550-0e1551f920f3",
        "tags": [
          "master"
        ]
      },
      "outputs": [],
      "source": []
    },
    {
      "cell_type": "markdown",
      "metadata": {},
      "source": [
        "We can do this too with multiple columns missing"
      ]
    },
    {
      "cell_type": "code",
      "execution_count": null,
      "metadata": {},
      "outputs": [],
      "source": [
        "test_df = double_mcar_df.copy()"
      ]
    },
    {
      "cell_type": "code",
      "execution_count": null,
      "metadata": {},
      "outputs": [],
      "source": [
        "test_df['missingness_a']=test_df['feature a'].isnull()\n",
        "test_df['missingness_b']=test_df['feature b'].isnull()\n",
        "test_df.corr()"
      ]
    },
    {
      "cell_type": "markdown",
      "metadata": {
        "id": "Vmq94Bhdox_x"
      },
      "source": [
        "## $\\color{purple}{\\text{Poor Man's Version of Little's MCAR Test (or rather not MAR Test)}}$\n",
        "\n",
        "The test given above is a little awkward if more than one column has missing data. Originally, Little proposed the following test for MCAR. \n",
        "\n",
        "$\\color{red}{\\text \u26a0}$ The code below demonstrates the simplified principle behind Little's MCAR Test but a lot of the statistical rigor has been relaxed.\n",
        "\n",
        "We adopt the \"eyeball\" test of whether statistics match or not. In principle, some statistical assumptions are made resulting in a $p$-value. In particular, Little used made normality assumptions resulting in a $\\chi^2$ distribution."
      ]
    },
    {
      "cell_type": "markdown",
      "metadata": {
        "id": "BASell68qEXh"
      },
      "source": [
        "First the observations are segregated into their various patterns. In our case, there are only two tests, observation is complete. Observation is missing \"feature a\""
      ]
    },
    {
      "cell_type": "code",
      "execution_count": null,
      "metadata": {
        "executionInfo": {
          "elapsed": 249,
          "status": "ok",
          "timestamp": 1654210317168,
          "user": {
            "displayName": "Haw-minn Lu",
            "userId": "16109571175851064283"
          },
          "user_tz": 420
        },
        "id": "CVzC1W13qLLR"
      },
      "outputs": [],
      "source": [
        "pattern1 = mar_df.dropna(subset=[\"feature a\"])\n",
        "pattern2 = mar_df[mar_df[\"feature a\"].isnull()]"
      ]
    },
    {
      "cell_type": "markdown",
      "metadata": {
        "id": "NhDCPK2sSxU2"
      },
      "source": [
        "The formal version of Little's Test uses maximum likelihood estimations to estimate statistcal features of each group and compares them. If they are statistcally the same then he declares the missingness mechanism as MCAR. \n",
        "Here we use the eyeball test"
      ]
    },
    {
      "cell_type": "code",
      "execution_count": null,
      "metadata": {
        "colab": {
          "base_uri": "https://localhost:8080/",
          "height": 206
        },
        "executionInfo": {
          "elapsed": 7,
          "status": "ok",
          "timestamp": 1654210318261,
          "user": {
            "displayName": "Haw-minn Lu",
            "userId": "16109571175851064283"
          },
          "user_tz": 420
        },
        "id": "54hqXIEBoxJz",
        "outputId": "340db2ea-b701-4fdb-9cd0-47ce72b72cd3"
      },
      "outputs": [],
      "source": [
        "pd.concat([pattern1.mean(), pattern2.mean(),pattern1.mean()- pattern2.mean()], axis=\"columns\")"
      ]
    },
    {
      "cell_type": "markdown",
      "metadata": {},
      "source": [
        "You might want to look at covariances"
      ]
    },
    {
      "cell_type": "code",
      "execution_count": null,
      "metadata": {
        "colab": {
          "base_uri": "https://localhost:8080/",
          "height": 175
        },
        "executionInfo": {
          "elapsed": 5,
          "status": "ok",
          "timestamp": 1654210318882,
          "user": {
            "displayName": "Haw-minn Lu",
            "userId": "16109571175851064283"
          },
          "user_tz": 420
        },
        "id": "VMn-t4z6y8o_",
        "outputId": "8a313297-10e6-4bb4-d66e-98ba31a19a74",
        "tags": [
          "master"
        ]
      },
      "outputs": [],
      "source": []
    },
    {
      "cell_type": "code",
      "execution_count": null,
      "metadata": {
        "colab": {
          "base_uri": "https://localhost:8080/",
          "height": 175
        },
        "executionInfo": {
          "elapsed": 179,
          "status": "ok",
          "timestamp": 1654210320110,
          "user": {
            "displayName": "Haw-minn Lu",
            "userId": "16109571175851064283"
          },
          "user_tz": 420
        },
        "id": "vV29aRm9s7XM",
        "outputId": "791c817c-06c1-46d1-98ed-ebd50c99caae",
        "tags": [
          "master"
        ]
      },
      "outputs": [],
      "source": []
    },
    {
      "cell_type": "markdown",
      "metadata": {},
      "source": [
        "Create a little helper to look at means"
      ]
    },
    {
      "cell_type": "code",
      "execution_count": null,
      "metadata": {
        "executionInfo": {
          "elapsed": 7,
          "status": "ok",
          "timestamp": 1654210318262,
          "user": {
            "displayName": "Haw-minn Lu",
            "userId": "16109571175851064283"
          },
          "user_tz": 420
        },
        "id": "zJaOEizUT7Wg"
      },
      "outputs": [],
      "source": [
        "def littles_eyeball_test(df, column):\n",
        "    \"\"\"\n",
        "    \"Eyeball\" version of Little's MCAR test for missingness in 1 columns \n",
        "    \"\"\"\n",
        "    pattern1 = df.dropna(subset=[column])\n",
        "    pattern2 = df[df[column].isnull()]\n",
        "    return pd.concat([pattern1.mean(), pattern2.mean(), pattern1.mean() - pattern2.mean()], axis=\"columns\")"
      ]
    },
    {
      "cell_type": "code",
      "execution_count": null,
      "metadata": {
        "colab": {
          "base_uri": "https://localhost:8080/",
          "height": 206
        },
        "executionInfo": {
          "elapsed": 6,
          "status": "ok",
          "timestamp": 1654210318699,
          "user": {
            "displayName": "Haw-minn Lu",
            "userId": "16109571175851064283"
          },
          "user_tz": 420
        },
        "id": "HaYhhQ5vUQpX",
        "outputId": "bbba2235-22ba-44fe-d5ba-9e8e0997fe02"
      },
      "outputs": [],
      "source": [
        "littles_eyeball_test(mar_df,'feature a')"
      ]
    },
    {
      "cell_type": "markdown",
      "metadata": {},
      "source": [
        "The \"double missingness\" sets exhibit 4 patterns so we'll expand our experiment to 4"
      ]
    },
    {
      "cell_type": "code",
      "execution_count": null,
      "metadata": {},
      "outputs": [],
      "source": [
        "def littles_eyeball_test_double(df):\n",
        "    \"\"\"\n",
        "    \"Eyeball\" version of Little's MCAR test for missingness in 2 columns. 4 patterns in all\n",
        "    \"\"\"\n",
        "    pattern1 = df[df['feature a'].isnull() & df['feature b'].isnull()]\n",
        "    pattern2 = df[df['feature a'].isnull() & ~df['feature b'].isnull()]\n",
        "    pattern3 = df[~df['feature a'].isnull() & df['feature b'].isnull()]\n",
        "    pattern4 = df[~df['feature a'].isnull() & ~df['feature b'].isnull()]\n",
        "    return pd.concat([pattern1.mean(), pattern2.mean(), pattern3.mean(), pattern4.mean()], axis=\"columns\")"
      ]
    },
    {
      "cell_type": "code",
      "execution_count": null,
      "metadata": {
        "id": "zyueVR_3UQMn"
      },
      "outputs": [],
      "source": [
        "littles_eyeball_test_double(double_mcar_df)"
      ]
    },
    {
      "cell_type": "code",
      "execution_count": null,
      "metadata": {
        "tags": [
          "master"
        ]
      },
      "outputs": [],
      "source": []
    },
    {
      "cell_type": "markdown",
      "metadata": {
        "id": "W56W7NVSTfqv"
      },
      "source": [
        "## $\\color{purple}{\\text{MNAR: The missingness you don't want}}$\n"
      ]
    },
    {
      "cell_type": "markdown",
      "metadata": {
        "id": "MIrZa7KjOwuh"
      },
      "source": [
        "### $\\color{purple}{\\text{How NOT to synthesize MNAR Missingness}}$\n",
        "\n",
        "This is how \"MNAR\" is often done in the literature to demonstrate imputation techniques. As you will see this is not true MNAR."
      ]
    },
    {
      "cell_type": "code",
      "execution_count": null,
      "metadata": {
        "colab": {
          "base_uri": "https://localhost:8080/"
        },
        "executionInfo": {
          "elapsed": 4,
          "status": "ok",
          "timestamp": 1654210322960,
          "user": {
            "displayName": "Haw-minn Lu",
            "userId": "16109571175851064283"
          },
          "user_tz": 420
        },
        "id": "8jzpGFjLzlbM",
        "outputId": "13acbeab-f54f-4ee7-9425-669a85370956"
      },
      "outputs": [],
      "source": [
        "fmnar_df = clobber(df, \"feature a\", 0.4, depends=[\"feature a\"])\n",
        "fmnar_df[\"feature a\"].isnull().sum()"
      ]
    },
    {
      "cell_type": "code",
      "execution_count": null,
      "metadata": {
        "colab": {
          "base_uri": "https://localhost:8080/",
          "height": 143
        },
        "executionInfo": {
          "elapsed": 193,
          "status": "ok",
          "timestamp": 1654210324513,
          "user": {
            "displayName": "Haw-minn Lu",
            "userId": "16109571175851064283"
          },
          "user_tz": 420
        },
        "id": "Zo6Kgm5nzPNO",
        "outputId": "cd8e54c9-9091-4907-c7bd-6f4be6c20a7c"
      },
      "outputs": [],
      "source": [
        "stat_comparison(df, fmnar_df, \"feature a\")"
      ]
    },
    {
      "cell_type": "code",
      "execution_count": null,
      "metadata": {
        "colab": {
          "base_uri": "https://localhost:8080/",
          "height": 206
        },
        "executionInfo": {
          "elapsed": 182,
          "status": "ok",
          "timestamp": 1654210327094,
          "user": {
            "displayName": "Haw-minn Lu",
            "userId": "16109571175851064283"
          },
          "user_tz": 420
        },
        "id": "ULLlB-2zU7FD",
        "outputId": "98162217-683c-4e6a-e29f-e5cd79ebb5a7"
      },
      "outputs": [],
      "source": [
        "littles_eyeball_test(fmnar_df, 'feature a')"
      ]
    },
    {
      "cell_type": "markdown",
      "metadata": {},
      "source": [
        "This is actually MAR. Recall from the definition in the previous section MNAR is \"the probability of data being missing depends on the unobserved data, **even after conditioning on the observed data**\". Turns out `feature a` is highly correlated to `feature c` so there is a statistically dependency on `feature c` even though we constructed the missingness based on `feature a`. "
      ]
    },
    {
      "cell_type": "markdown",
      "metadata": {},
      "source": [
        "### $\\color{purple}{\\text{A true NMAR missigness}}$\n",
        "\n",
        "In order to be NMAR the missingness must be uncorrelated to the visible data."
      ]
    },
    {
      "cell_type": "code",
      "execution_count": null,
      "metadata": {
        "colab": {
          "base_uri": "https://localhost:8080/"
        },
        "executionInfo": {
          "elapsed": 401,
          "status": "ok",
          "timestamp": 1654210336585,
          "user": {
            "displayName": "Haw-minn Lu",
            "userId": "16109571175851064283"
          },
          "user_tz": 420
        },
        "id": "4JYTV89OzBaN",
        "outputId": "aa0fe90d-d029-4015-8465-f8c12c43d737"
      },
      "outputs": [],
      "source": [
        "mnar_df = clobber(df, \"uncorrelated\", 0.4, depends=[\"uncorrelated\"])\n",
        "\n",
        "mnar_df.to_csv('mnar_set.csv', index=False)\n",
        "mnar_df[\"uncorrelated\"].isnull().sum()"
      ]
    },
    {
      "cell_type": "code",
      "execution_count": null,
      "metadata": {
        "colab": {
          "base_uri": "https://localhost:8080/",
          "height": 206
        },
        "executionInfo": {
          "elapsed": 186,
          "status": "ok",
          "timestamp": 1654205524328,
          "user": {
            "displayName": "Haw-minn Lu",
            "userId": "16109571175851064283"
          },
          "user_tz": 420
        },
        "id": "v8sH4-1PVJ2w",
        "outputId": "ed7a2b9d-a52f-428b-a962-0648bcf9b312"
      },
      "outputs": [],
      "source": [
        "littles_eyeball_test(mnar_df, 'uncorrelated')"
      ]
    },
    {
      "cell_type": "markdown",
      "metadata": {
        "colab": {
          "base_uri": "https://localhost:8080/",
          "height": 206
        },
        "executionInfo": {
          "elapsed": 217,
          "status": "ok",
          "timestamp": 1654205475189,
          "user": {
            "displayName": "Haw-minn Lu",
            "userId": "16109571175851064283"
          },
          "user_tz": 420
        },
        "id": "BPEUP2yNuW3G",
        "outputId": "e6361517-e889-4960-c32e-94ce8af310ca"
      },
      "source": [
        "### $\\color{purple}{\\text{Final thoughts on MNAR}}$\n",
        "You'll see it said that there is not statistical test for MNAR which is true, but a better statement is that there is no statistical way to distinguish MCAR and MNAR. You can test to see if missingness is MAR or not."
      ]
    },
    {
      "cell_type": "markdown",
      "metadata": {
        "id": "mHr5KNxKWE7V"
      },
      "source": [
        "### $\\color{purple}{\\text{Conclusion on the Theory Section}}$\n",
        "\n",
        "*   There is no way from just the data itself to distinguish between MCAR and MNAR. \n",
        "\n",
        "*   The so-called MCAR tests are really \"not MAR\" tests\n",
        "  * Most those tests assume you have already excluded MNAR\n",
        "* Recommend if the missingness is not MAR assume the worst and treat it as MNAR.\n",
        "* If missingness is MAR, you should use multivariate imputation not deletion.\n",
        "* Be careful synthesizing NMAR missingness for benchmarking\n"
      ]
    },
    {
      "cell_type": "markdown",
      "metadata": {},
      "source": [
        "### $\\color{purple}{\\text{References}}$\n",
        " * Little, R. J. A., A test of missing completely at random for multivariate data with missing values. _Journal of the American Statistical Association 83_ 1988 pages 1198\u20131202. https://doi.org/10.1080/01621459.1988.10478722"
      ]
    },
    {
      "cell_type": "code",
      "execution_count": null,
      "metadata": {},
      "outputs": [],
      "source": []
    }
  ],
  "metadata": {
    "colab": {
      "collapsed_sections": [],
      "name": "1-Deeper Dive into Missingness Mechanisms.ipynb",
      "provenance": [
        {
          "file_id": "147R7Q0ENB8T3VuWNvb_JVzLUW967tWTz",
          "timestamp": 1651305625803
        }
      ]
    },
    "kernelspec": {
      "display_name": "Python 3 (ipykernel)",
      "language": "python",
      "name": "python3"
    },
    "language_info": {
      "codemirror_mode": {
        "name": "ipython",
        "version": 3
      },
      "file_extension": ".py",
      "mimetype": "text/x-python",
      "name": "python",
      "nbconvert_exporter": "python",
      "pygments_lexer": "ipython3",
      "version": "3.9.7"
    },
    "toc": {
      "base_numbering": 1,
      "nav_menu": {},
      "number_sections": true,
      "sideBar": true,
      "skip_h1_title": false,
      "title_cell": "Table of Contents",
      "title_sidebar": "Contents",
      "toc_cell": false,
      "toc_position": {},
      "toc_section_display": true,
      "toc_window_display": false
    }
  },
  "nbformat": 4,
  "nbformat_minor": 1
}