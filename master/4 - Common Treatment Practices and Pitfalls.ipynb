{
 "cells": [
  {
   "cell_type": "markdown",
   "metadata": {
    "id": "tub1CBws92hf"
   },
   "source": [
    "# $\\color{purple}{\\text{Understanding Missing Data and How to Deal with It (Part 4)}}$\n",
    "\n",
    "## $\\color{purple}{\\text{Common Treatment Practices}}$"
   ]
  },
  {
   "cell_type": "markdown",
   "metadata": {
    "tags": [
     "colab"
    ]
   },
   "source": [
    "### $\\color{purple}{\\text{Colab Environmental Setup}}$"
   ]
  },
  {
   "cell_type": "raw",
   "metadata": {
    "id": "x240DOArE5Wb",
    "tags": [
     "colab"
    ]
   },
   "source": [
    "%pip install autoimpute"
   ]
  },
  {
   "cell_type": "raw",
   "metadata": {
    "tags": [
     "colab"
    ]
   },
   "source": [
    "from google.colab import drive\n",
    "import os\n",
    "drive.mount('/content/drive')\n",
    "os.chdir('/content/drive/My Drive/missingness_tutorial')"
   ]
  },
  {
   "cell_type": "markdown",
   "metadata": {},
   "source": [
    "### $\\color{purple}{\\text{Libraries for this lesson}}$"
   ]
  },
  {
   "cell_type": "code",
   "execution_count": 3,
   "metadata": {
    "id": "IpdrS926-znQ"
   },
   "outputs": [],
   "source": [
    "import pandas as pd\n",
    "import matplotlib.pyplot as plt\n",
    "import matplotlib\n",
    "import missingno\n",
    "import numpy as np\n",
    "plt.style.use('ggplot')\n",
    "from helpers import stat_comparison\n",
    "from autoimpute.imputations import SingleImputer"
   ]
  },
  {
   "cell_type": "markdown",
   "metadata": {},
   "source": [
    "### $\\color{purple}{\\text{Load Datasets for this Lesson}}$\n",
    "These datasets will be used for most of this section"
   ]
  },
  {
   "cell_type": "code",
   "execution_count": 4,
   "metadata": {
    "id": "J5_auknDp8jf"
   },
   "outputs": [],
   "source": [
    "pristine_df=pd.read_csv('data/full_set.csv')\n",
    "mcar_df = pd.read_csv('data/mcar_set.csv')\n",
    "mar_df = pd.read_csv('data/mar_set.csv')"
   ]
  },
  {
   "cell_type": "markdown",
   "metadata": {
    "id": "oj4YGFTZ-x3q"
   },
   "source": [
    "### $\\color{purple}{\\text{Deletion}}$\n",
    "\n",
    "Deletion is the most common form of treatment, but is the most susceptible to bias. It is intended to be used with MCAR mechanism. Some scenarios have guidelines where if the missingness is below a threshold then deletion bias is considered acceptable.\n",
    "\n",
    "Deletion comes in two flavors, _list deletion_ and _pair deletion_"
   ]
  },
  {
   "cell_type": "markdown",
   "metadata": {},
   "source": [
    "#### $\\color{purple}{\\text{List Deletion}}$\n",
    "This is the simplest, you simply drop the records that have missing values"
   ]
  },
  {
   "cell_type": "code",
   "execution_count": 5,
   "metadata": {
    "id": "-toqYD9OqK5u"
   },
   "outputs": [],
   "source": [
    "cleaned=mar_df.dropna()"
   ]
  },
  {
   "cell_type": "code",
   "execution_count": 6,
   "metadata": {
    "id": "yuEldk8P_MHA"
   },
   "outputs": [
    {
     "data": {
      "text/html": [
       "<div>\n",
       "<style scoped>\n",
       "    .dataframe tbody tr th:only-of-type {\n",
       "        vertical-align: middle;\n",
       "    }\n",
       "\n",
       "    .dataframe tbody tr th {\n",
       "        vertical-align: top;\n",
       "    }\n",
       "\n",
       "    .dataframe thead th {\n",
       "        text-align: right;\n",
       "    }\n",
       "</style>\n",
       "<table border=\"1\" class=\"dataframe\">\n",
       "  <thead>\n",
       "    <tr style=\"text-align: right;\">\n",
       "      <th></th>\n",
       "      <th>Original</th>\n",
       "      <th>With Missing Data</th>\n",
       "      <th>difference</th>\n",
       "      <th>percentage</th>\n",
       "    </tr>\n",
       "  </thead>\n",
       "  <tbody>\n",
       "    <tr>\n",
       "      <th>mean</th>\n",
       "      <td>2.367217</td>\n",
       "      <td>2.127196</td>\n",
       "      <td>0.240020</td>\n",
       "      <td>10.139349</td>\n",
       "    </tr>\n",
       "    <tr>\n",
       "      <th>median</th>\n",
       "      <td>2.380412</td>\n",
       "      <td>2.070274</td>\n",
       "      <td>0.310138</td>\n",
       "      <td>13.028759</td>\n",
       "    </tr>\n",
       "    <tr>\n",
       "      <th>stdev</th>\n",
       "      <td>1.280482</td>\n",
       "      <td>1.255276</td>\n",
       "      <td>0.025206</td>\n",
       "      <td>1.968470</td>\n",
       "    </tr>\n",
       "  </tbody>\n",
       "</table>\n",
       "</div>"
      ],
      "text/plain": [
       "        Original  With Missing Data  difference  percentage\n",
       "mean    2.367217           2.127196    0.240020   10.139349\n",
       "median  2.380412           2.070274    0.310138   13.028759\n",
       "stdev   1.280482           1.255276    0.025206    1.968470"
      ]
     },
     "execution_count": 6,
     "metadata": {},
     "output_type": "execute_result"
    }
   ],
   "source": [
    "stat_comparison( pristine_df, cleaned, 'feature a')"
   ]
  },
  {
   "cell_type": "markdown",
   "metadata": {},
   "source": [
    "#### $\\color{purple}{\\text{Pair Deletion}}$\n",
    "Values are dropped if they are used. \n",
    "For example for covariance\n",
    "\n",
    "$$\\sigma_{ij} =\\sum_{k} \\frac{(x_{ik}-\\mu_i)(x_{jk}-\\mu_j)}{N^*} $$\n",
    "where for all $k$ where $x_{ik}$ and $x_{jk}$ are not missing and $N^*$ is the count of all pairs where neither $x_{ik}$ and $x_{jk}$ are missing. This is how the the `cov` method deals with missing data"
   ]
  },
  {
   "cell_type": "code",
   "execution_count": 7,
   "metadata": {
    "tags": [
     "master"
    ]
   },
   "outputs": [
    {
     "data": {
      "text/html": [
       "<div>\n",
       "<style scoped>\n",
       "    .dataframe tbody tr th:only-of-type {\n",
       "        vertical-align: middle;\n",
       "    }\n",
       "\n",
       "    .dataframe tbody tr th {\n",
       "        vertical-align: top;\n",
       "    }\n",
       "\n",
       "    .dataframe thead th {\n",
       "        text-align: right;\n",
       "    }\n",
       "</style>\n",
       "<table border=\"1\" class=\"dataframe\">\n",
       "  <thead>\n",
       "    <tr style=\"text-align: right;\">\n",
       "      <th></th>\n",
       "      <th>feature a</th>\n",
       "      <th>feature b</th>\n",
       "      <th>feature c</th>\n",
       "      <th>feature d</th>\n",
       "      <th>uncorrelated</th>\n",
       "    </tr>\n",
       "  </thead>\n",
       "  <tbody>\n",
       "    <tr>\n",
       "      <th>feature a</th>\n",
       "      <td>1.575718</td>\n",
       "      <td>0.618051</td>\n",
       "      <td>1.493658</td>\n",
       "      <td>0.731672</td>\n",
       "      <td>-0.004067</td>\n",
       "    </tr>\n",
       "    <tr>\n",
       "      <th>feature b</th>\n",
       "      <td>0.618051</td>\n",
       "      <td>0.567885</td>\n",
       "      <td>0.592470</td>\n",
       "      <td>0.666410</td>\n",
       "      <td>-0.000740</td>\n",
       "    </tr>\n",
       "    <tr>\n",
       "      <th>feature c</th>\n",
       "      <td>1.493658</td>\n",
       "      <td>0.592470</td>\n",
       "      <td>1.641659</td>\n",
       "      <td>0.491526</td>\n",
       "      <td>-0.002669</td>\n",
       "    </tr>\n",
       "    <tr>\n",
       "      <th>feature d</th>\n",
       "      <td>0.731672</td>\n",
       "      <td>0.666410</td>\n",
       "      <td>0.491526</td>\n",
       "      <td>1.092563</td>\n",
       "      <td>-0.000852</td>\n",
       "    </tr>\n",
       "    <tr>\n",
       "      <th>uncorrelated</th>\n",
       "      <td>-0.004067</td>\n",
       "      <td>-0.000740</td>\n",
       "      <td>-0.002669</td>\n",
       "      <td>-0.000852</td>\n",
       "      <td>0.083923</td>\n",
       "    </tr>\n",
       "  </tbody>\n",
       "</table>\n",
       "</div>"
      ],
      "text/plain": [
       "              feature a  feature b  feature c  feature d  uncorrelated\n",
       "feature a      1.575718   0.618051   1.493658   0.731672     -0.004067\n",
       "feature b      0.618051   0.567885   0.592470   0.666410     -0.000740\n",
       "feature c      1.493658   0.592470   1.641659   0.491526     -0.002669\n",
       "feature d      0.731672   0.666410   0.491526   1.092563     -0.000852\n",
       "uncorrelated  -0.004067  -0.000740  -0.002669  -0.000852      0.083923"
      ]
     },
     "execution_count": 7,
     "metadata": {},
     "output_type": "execute_result"
    }
   ],
   "source": [
    "mar_df.cov()"
   ]
  },
  {
   "cell_type": "code",
   "execution_count": 8,
   "metadata": {
    "tags": [
     "master"
    ]
   },
   "outputs": [
    {
     "data": {
      "text/html": [
       "<div>\n",
       "<style scoped>\n",
       "    .dataframe tbody tr th:only-of-type {\n",
       "        vertical-align: middle;\n",
       "    }\n",
       "\n",
       "    .dataframe tbody tr th {\n",
       "        vertical-align: top;\n",
       "    }\n",
       "\n",
       "    .dataframe thead th {\n",
       "        text-align: right;\n",
       "    }\n",
       "</style>\n",
       "<table border=\"1\" class=\"dataframe\">\n",
       "  <thead>\n",
       "    <tr style=\"text-align: right;\">\n",
       "      <th></th>\n",
       "      <th>feature a</th>\n",
       "      <th>feature b</th>\n",
       "      <th>feature c</th>\n",
       "      <th>feature d</th>\n",
       "      <th>uncorrelated</th>\n",
       "    </tr>\n",
       "  </thead>\n",
       "  <tbody>\n",
       "    <tr>\n",
       "      <th>feature a</th>\n",
       "      <td>1.000000</td>\n",
       "      <td>0.656741</td>\n",
       "      <td>0.950822</td>\n",
       "      <td>0.557643</td>\n",
       "      <td>-0.011174</td>\n",
       "    </tr>\n",
       "    <tr>\n",
       "      <th>feature b</th>\n",
       "      <td>0.656741</td>\n",
       "      <td>1.000000</td>\n",
       "      <td>0.613613</td>\n",
       "      <td>0.846035</td>\n",
       "      <td>-0.003388</td>\n",
       "    </tr>\n",
       "    <tr>\n",
       "      <th>feature c</th>\n",
       "      <td>0.950822</td>\n",
       "      <td>0.613613</td>\n",
       "      <td>1.000000</td>\n",
       "      <td>0.367013</td>\n",
       "      <td>-0.007192</td>\n",
       "    </tr>\n",
       "    <tr>\n",
       "      <th>feature d</th>\n",
       "      <td>0.557643</td>\n",
       "      <td>0.846035</td>\n",
       "      <td>0.367013</td>\n",
       "      <td>1.000000</td>\n",
       "      <td>-0.002815</td>\n",
       "    </tr>\n",
       "    <tr>\n",
       "      <th>uncorrelated</th>\n",
       "      <td>-0.011174</td>\n",
       "      <td>-0.003388</td>\n",
       "      <td>-0.007192</td>\n",
       "      <td>-0.002815</td>\n",
       "      <td>1.000000</td>\n",
       "    </tr>\n",
       "  </tbody>\n",
       "</table>\n",
       "</div>"
      ],
      "text/plain": [
       "              feature a  feature b  feature c  feature d  uncorrelated\n",
       "feature a      1.000000   0.656741   0.950822   0.557643     -0.011174\n",
       "feature b      0.656741   1.000000   0.613613   0.846035     -0.003388\n",
       "feature c      0.950822   0.613613   1.000000   0.367013     -0.007192\n",
       "feature d      0.557643   0.846035   0.367013   1.000000     -0.002815\n",
       "uncorrelated  -0.011174  -0.003388  -0.007192  -0.002815      1.000000"
      ]
     },
     "execution_count": 8,
     "metadata": {},
     "output_type": "execute_result"
    }
   ],
   "source": [
    "mar_df.corr()"
   ]
  },
  {
   "cell_type": "markdown",
   "metadata": {
    "id": "3PJCEgBa_pY9"
   },
   "source": [
    "### $\\color{purple}{\\text{Interpolation}}$\n",
    "\n",
    "If the rows have a geometric relationship (time-series, spatial relation), interpolation could be applied and the feature in question is thought to be continuous.\n",
    "\n",
    "The interpolate dataset is constructed by sampling a continuous functions simulating a timeseries data.\n",
    "\n",
    "Here is a little EDA on this set."
   ]
  },
  {
   "cell_type": "code",
   "execution_count": 9,
   "metadata": {
    "id": "3sXn6Xl--n7B"
   },
   "outputs": [
    {
     "data": {
      "text/html": [
       "<div>\n",
       "<style scoped>\n",
       "    .dataframe tbody tr th:only-of-type {\n",
       "        vertical-align: middle;\n",
       "    }\n",
       "\n",
       "    .dataframe tbody tr th {\n",
       "        vertical-align: top;\n",
       "    }\n",
       "\n",
       "    .dataframe thead th {\n",
       "        text-align: right;\n",
       "    }\n",
       "</style>\n",
       "<table border=\"1\" class=\"dataframe\">\n",
       "  <thead>\n",
       "    <tr style=\"text-align: right;\">\n",
       "      <th></th>\n",
       "      <th>x</th>\n",
       "      <th>y</th>\n",
       "      <th>z</th>\n",
       "    </tr>\n",
       "  </thead>\n",
       "  <tbody>\n",
       "    <tr>\n",
       "      <th>0</th>\n",
       "      <td>1.714373</td>\n",
       "      <td>NaN</td>\n",
       "      <td>NaN</td>\n",
       "    </tr>\n",
       "    <tr>\n",
       "      <th>1</th>\n",
       "      <td>5.798870</td>\n",
       "      <td>NaN</td>\n",
       "      <td>NaN</td>\n",
       "    </tr>\n",
       "    <tr>\n",
       "      <th>2</th>\n",
       "      <td>0.722063</td>\n",
       "      <td>NaN</td>\n",
       "      <td>NaN</td>\n",
       "    </tr>\n",
       "    <tr>\n",
       "      <th>3</th>\n",
       "      <td>0.212829</td>\n",
       "      <td>NaN</td>\n",
       "      <td>NaN</td>\n",
       "    </tr>\n",
       "    <tr>\n",
       "      <th>4</th>\n",
       "      <td>3.909096</td>\n",
       "      <td>-6.943405e-01</td>\n",
       "      <td>-0.719647</td>\n",
       "    </tr>\n",
       "    <tr>\n",
       "      <th>5</th>\n",
       "      <td>0.063520</td>\n",
       "      <td>NaN</td>\n",
       "      <td>NaN</td>\n",
       "    </tr>\n",
       "    <tr>\n",
       "      <th>6</th>\n",
       "      <td>2.964356</td>\n",
       "      <td>NaN</td>\n",
       "      <td>NaN</td>\n",
       "    </tr>\n",
       "    <tr>\n",
       "      <th>7</th>\n",
       "      <td>3.839445</td>\n",
       "      <td>NaN</td>\n",
       "      <td>NaN</td>\n",
       "    </tr>\n",
       "    <tr>\n",
       "      <th>8</th>\n",
       "      <td>4.703316</td>\n",
       "      <td>-9.999588e-01</td>\n",
       "      <td>-0.009072</td>\n",
       "    </tr>\n",
       "    <tr>\n",
       "      <th>9</th>\n",
       "      <td>2.527044</td>\n",
       "      <td>NaN</td>\n",
       "      <td>NaN</td>\n",
       "    </tr>\n",
       "    <tr>\n",
       "      <th>10</th>\n",
       "      <td>0.605393</td>\n",
       "      <td>NaN</td>\n",
       "      <td>NaN</td>\n",
       "    </tr>\n",
       "    <tr>\n",
       "      <th>11</th>\n",
       "      <td>2.677131</td>\n",
       "      <td>NaN</td>\n",
       "      <td>NaN</td>\n",
       "    </tr>\n",
       "    <tr>\n",
       "      <th>12</th>\n",
       "      <td>3.358797</td>\n",
       "      <td>NaN</td>\n",
       "      <td>NaN</td>\n",
       "    </tr>\n",
       "    <tr>\n",
       "      <th>13</th>\n",
       "      <td>4.110251</td>\n",
       "      <td>NaN</td>\n",
       "      <td>NaN</td>\n",
       "    </tr>\n",
       "    <tr>\n",
       "      <th>14</th>\n",
       "      <td>5.887712</td>\n",
       "      <td>NaN</td>\n",
       "      <td>NaN</td>\n",
       "    </tr>\n",
       "    <tr>\n",
       "      <th>15</th>\n",
       "      <td>1.570568</td>\n",
       "      <td>1.000000e+00</td>\n",
       "      <td>0.000228</td>\n",
       "    </tr>\n",
       "    <tr>\n",
       "      <th>16</th>\n",
       "      <td>3.150379</td>\n",
       "      <td>NaN</td>\n",
       "      <td>NaN</td>\n",
       "    </tr>\n",
       "    <tr>\n",
       "      <th>17</th>\n",
       "      <td>4.364771</td>\n",
       "      <td>NaN</td>\n",
       "      <td>NaN</td>\n",
       "    </tr>\n",
       "    <tr>\n",
       "      <th>18</th>\n",
       "      <td>5.665669</td>\n",
       "      <td>NaN</td>\n",
       "      <td>NaN</td>\n",
       "    </tr>\n",
       "    <tr>\n",
       "      <th>19</th>\n",
       "      <td>6.283185</td>\n",
       "      <td>-2.450000e-16</td>\n",
       "      <td>1.000000</td>\n",
       "    </tr>\n",
       "    <tr>\n",
       "      <th>20</th>\n",
       "      <td>5.542348</td>\n",
       "      <td>NaN</td>\n",
       "      <td>NaN</td>\n",
       "    </tr>\n",
       "    <tr>\n",
       "      <th>21</th>\n",
       "      <td>3.301756</td>\n",
       "      <td>NaN</td>\n",
       "      <td>NaN</td>\n",
       "    </tr>\n",
       "    <tr>\n",
       "      <th>22</th>\n",
       "      <td>3.173051</td>\n",
       "      <td>NaN</td>\n",
       "      <td>NaN</td>\n",
       "    </tr>\n",
       "    <tr>\n",
       "      <th>23</th>\n",
       "      <td>6.020795</td>\n",
       "      <td>-2.593895e-01</td>\n",
       "      <td>0.965773</td>\n",
       "    </tr>\n",
       "    <tr>\n",
       "      <th>24</th>\n",
       "      <td>5.594181</td>\n",
       "      <td>NaN</td>\n",
       "      <td>NaN</td>\n",
       "    </tr>\n",
       "    <tr>\n",
       "      <th>25</th>\n",
       "      <td>4.089258</td>\n",
       "      <td>-8.120554e-01</td>\n",
       "      <td>-0.583580</td>\n",
       "    </tr>\n",
       "    <tr>\n",
       "      <th>26</th>\n",
       "      <td>5.888448</td>\n",
       "      <td>-3.845659e-01</td>\n",
       "      <td>0.923098</td>\n",
       "    </tr>\n",
       "    <tr>\n",
       "      <th>27</th>\n",
       "      <td>0.387658</td>\n",
       "      <td>3.780212e-01</td>\n",
       "      <td>0.925797</td>\n",
       "    </tr>\n",
       "    <tr>\n",
       "      <th>28</th>\n",
       "      <td>1.932078</td>\n",
       "      <td>NaN</td>\n",
       "      <td>NaN</td>\n",
       "    </tr>\n",
       "    <tr>\n",
       "      <th>29</th>\n",
       "      <td>1.491538</td>\n",
       "      <td>NaN</td>\n",
       "      <td>NaN</td>\n",
       "    </tr>\n",
       "    <tr>\n",
       "      <th>30</th>\n",
       "      <td>2.104435</td>\n",
       "      <td>NaN</td>\n",
       "      <td>NaN</td>\n",
       "    </tr>\n",
       "    <tr>\n",
       "      <th>31</th>\n",
       "      <td>0.748300</td>\n",
       "      <td>NaN</td>\n",
       "      <td>NaN</td>\n",
       "    </tr>\n",
       "    <tr>\n",
       "      <th>32</th>\n",
       "      <td>5.432265</td>\n",
       "      <td>NaN</td>\n",
       "      <td>NaN</td>\n",
       "    </tr>\n",
       "    <tr>\n",
       "      <th>33</th>\n",
       "      <td>0.254507</td>\n",
       "      <td>NaN</td>\n",
       "      <td>NaN</td>\n",
       "    </tr>\n",
       "    <tr>\n",
       "      <th>34</th>\n",
       "      <td>1.799015</td>\n",
       "      <td>NaN</td>\n",
       "      <td>NaN</td>\n",
       "    </tr>\n",
       "    <tr>\n",
       "      <th>35</th>\n",
       "      <td>0.873483</td>\n",
       "      <td>NaN</td>\n",
       "      <td>NaN</td>\n",
       "    </tr>\n",
       "    <tr>\n",
       "      <th>36</th>\n",
       "      <td>3.267893</td>\n",
       "      <td>NaN</td>\n",
       "      <td>NaN</td>\n",
       "    </tr>\n",
       "    <tr>\n",
       "      <th>37</th>\n",
       "      <td>1.523731</td>\n",
       "      <td>NaN</td>\n",
       "      <td>NaN</td>\n",
       "    </tr>\n",
       "    <tr>\n",
       "      <th>38</th>\n",
       "      <td>1.921696</td>\n",
       "      <td>NaN</td>\n",
       "      <td>NaN</td>\n",
       "    </tr>\n",
       "    <tr>\n",
       "      <th>39</th>\n",
       "      <td>5.669951</td>\n",
       "      <td>-5.755157e-01</td>\n",
       "      <td>0.817791</td>\n",
       "    </tr>\n",
       "    <tr>\n",
       "      <th>40</th>\n",
       "      <td>0.000000</td>\n",
       "      <td>0.000000e+00</td>\n",
       "      <td>1.000000</td>\n",
       "    </tr>\n",
       "    <tr>\n",
       "      <th>41</th>\n",
       "      <td>0.716968</td>\n",
       "      <td>NaN</td>\n",
       "      <td>NaN</td>\n",
       "    </tr>\n",
       "    <tr>\n",
       "      <th>42</th>\n",
       "      <td>5.565233</td>\n",
       "      <td>NaN</td>\n",
       "      <td>NaN</td>\n",
       "    </tr>\n",
       "    <tr>\n",
       "      <th>43</th>\n",
       "      <td>0.352227</td>\n",
       "      <td>NaN</td>\n",
       "      <td>NaN</td>\n",
       "    </tr>\n",
       "    <tr>\n",
       "      <th>44</th>\n",
       "      <td>0.562806</td>\n",
       "      <td>NaN</td>\n",
       "      <td>NaN</td>\n",
       "    </tr>\n",
       "    <tr>\n",
       "      <th>45</th>\n",
       "      <td>4.209400</td>\n",
       "      <td>NaN</td>\n",
       "      <td>NaN</td>\n",
       "    </tr>\n",
       "    <tr>\n",
       "      <th>46</th>\n",
       "      <td>2.131243</td>\n",
       "      <td>NaN</td>\n",
       "      <td>NaN</td>\n",
       "    </tr>\n",
       "    <tr>\n",
       "      <th>47</th>\n",
       "      <td>6.004188</td>\n",
       "      <td>NaN</td>\n",
       "      <td>NaN</td>\n",
       "    </tr>\n",
       "    <tr>\n",
       "      <th>48</th>\n",
       "      <td>5.965093</td>\n",
       "      <td>NaN</td>\n",
       "      <td>NaN</td>\n",
       "    </tr>\n",
       "    <tr>\n",
       "      <th>49</th>\n",
       "      <td>2.984108</td>\n",
       "      <td>NaN</td>\n",
       "      <td>NaN</td>\n",
       "    </tr>\n",
       "  </tbody>\n",
       "</table>\n",
       "</div>"
      ],
      "text/plain": [
       "           x             y         z\n",
       "0   1.714373           NaN       NaN\n",
       "1   5.798870           NaN       NaN\n",
       "2   0.722063           NaN       NaN\n",
       "3   0.212829           NaN       NaN\n",
       "4   3.909096 -6.943405e-01 -0.719647\n",
       "5   0.063520           NaN       NaN\n",
       "6   2.964356           NaN       NaN\n",
       "7   3.839445           NaN       NaN\n",
       "8   4.703316 -9.999588e-01 -0.009072\n",
       "9   2.527044           NaN       NaN\n",
       "10  0.605393           NaN       NaN\n",
       "11  2.677131           NaN       NaN\n",
       "12  3.358797           NaN       NaN\n",
       "13  4.110251           NaN       NaN\n",
       "14  5.887712           NaN       NaN\n",
       "15  1.570568  1.000000e+00  0.000228\n",
       "16  3.150379           NaN       NaN\n",
       "17  4.364771           NaN       NaN\n",
       "18  5.665669           NaN       NaN\n",
       "19  6.283185 -2.450000e-16  1.000000\n",
       "20  5.542348           NaN       NaN\n",
       "21  3.301756           NaN       NaN\n",
       "22  3.173051           NaN       NaN\n",
       "23  6.020795 -2.593895e-01  0.965773\n",
       "24  5.594181           NaN       NaN\n",
       "25  4.089258 -8.120554e-01 -0.583580\n",
       "26  5.888448 -3.845659e-01  0.923098\n",
       "27  0.387658  3.780212e-01  0.925797\n",
       "28  1.932078           NaN       NaN\n",
       "29  1.491538           NaN       NaN\n",
       "30  2.104435           NaN       NaN\n",
       "31  0.748300           NaN       NaN\n",
       "32  5.432265           NaN       NaN\n",
       "33  0.254507           NaN       NaN\n",
       "34  1.799015           NaN       NaN\n",
       "35  0.873483           NaN       NaN\n",
       "36  3.267893           NaN       NaN\n",
       "37  1.523731           NaN       NaN\n",
       "38  1.921696           NaN       NaN\n",
       "39  5.669951 -5.755157e-01  0.817791\n",
       "40  0.000000  0.000000e+00  1.000000\n",
       "41  0.716968           NaN       NaN\n",
       "42  5.565233           NaN       NaN\n",
       "43  0.352227           NaN       NaN\n",
       "44  0.562806           NaN       NaN\n",
       "45  4.209400           NaN       NaN\n",
       "46  2.131243           NaN       NaN\n",
       "47  6.004188           NaN       NaN\n",
       "48  5.965093           NaN       NaN\n",
       "49  2.984108           NaN       NaN"
      ]
     },
     "execution_count": 9,
     "metadata": {},
     "output_type": "execute_result"
    }
   ],
   "source": [
    "df=pd.read_csv('data/interpolate.csv')\n",
    "df"
   ]
  },
  {
   "cell_type": "code",
   "execution_count": 10,
   "metadata": {
    "tags": [
     "master"
    ]
   },
   "outputs": [
    {
     "data": {
      "image/png": "[encoded data removed]",
      "text/plain": [
       "<Figure size 720x360 with 2 Axes>"
      ]
     },
     "metadata": {},
     "output_type": "display_data"
    }
   ],
   "source": [
    "missingno.matrix(df, figsize=(10,5), fontsize=12, color=(0.27, 0.52, 1.0));"
   ]
  },
  {
   "cell_type": "code",
   "execution_count": 11,
   "metadata": {
    "id": "KQfKoMnREcPT",
    "tags": [
     "master"
    ]
   },
   "outputs": [
    {
     "data": {
      "text/plain": [
       "x     0\n",
       "y    40\n",
       "z    40\n",
       "dtype: int64"
      ]
     },
     "execution_count": 11,
     "metadata": {},
     "output_type": "execute_result"
    }
   ],
   "source": [
    "df.isnull().sum()"
   ]
  },
  {
   "cell_type": "markdown",
   "metadata": {},
   "source": [
    "We'll create a missing column so when we graph we can see the data that was interpolated. Also create a more attractive colormap for plotting."
   ]
  },
  {
   "cell_type": "code",
   "execution_count": 12,
   "metadata": {
    "id": "yv6E0tR3CNbR"
   },
   "outputs": [],
   "source": [
    "df['missing']=df.y.isnull().astype(int)\n",
    "cmap=matplotlib.colors.ListedColormap(['red', 'deepskyblue'])"
   ]
  },
  {
   "cell_type": "markdown",
   "metadata": {},
   "source": [
    "#### $\\color{purple}{\\text{Back Fill/Forward Fill}}$\n",
    "\n",
    "The simplest interpolation method (only applies to 1 dimension)\n",
    "\n",
    " * Forward Fill / Last Observation Forward\n",
    " * Back Fill / Next Observation Backward"
   ]
  },
  {
   "cell_type": "code",
   "execution_count": 13,
   "metadata": {
    "id": "7EGqdztAEy7d"
   },
   "outputs": [
    {
     "data": {
      "text/plain": [
       "<matplotlib.collections.PathCollection at 0x7facd446b640>"
      ]
     },
     "execution_count": 13,
     "metadata": {},
     "output_type": "execute_result"
    },
    {
     "data": {
      "image/png": "[encoded data removed]",
      "text/plain": [
       "<Figure size 432x288 with 1 Axes>"
      ]
     },
     "metadata": {},
     "output_type": "display_data"
    }
   ],
   "source": [
    "ndf=df.sort_values('x').fillna(method='ffill')\n",
    "plt.scatter(ndf.x, ndf.y, cmap=cmap, c=df.missing)"
   ]
  },
  {
   "cell_type": "markdown",
   "metadata": {
    "id": "O5Y0SdktApte"
   },
   "source": [
    "#### $\\color{purple}{\\text{Other Interpolation Techniques}}$\n",
    "\n",
    "Some types supported by `scipy`\n",
    "* linear\n",
    "* quadratic\n",
    "* cubic"
   ]
  },
  {
   "cell_type": "code",
   "execution_count": 14,
   "metadata": {
    "id": "_sf0hD4LHy4K"
   },
   "outputs": [
    {
     "data": {
      "text/plain": [
       "<matplotlib.collections.PathCollection at 0x7facd4407550>"
      ]
     },
     "execution_count": 14,
     "metadata": {},
     "output_type": "execute_result"
    },
    {
     "data": {
      "image/png": "[encoded data removed]",
      "text/plain": [
       "<Figure size 432x288 with 1 Axes>"
      ]
     },
     "metadata": {},
     "output_type": "display_data"
    }
   ],
   "source": [
    "from scipy import interpolate\n",
    "kind='linear'\n",
    "ndf=df.copy()\n",
    "interpolator_y = interpolate.interp1d(df.dropna().x, df.dropna().y, kind=kind)\n",
    "ndf['y']=interpolator_y(ndf.x)\n",
    "interpolator_z = interpolate.interp1d(df.dropna().x, df.dropna().z, kind=kind)\n",
    "ndf['z']=interpolator_z(ndf.x)\n",
    "plt.scatter(ndf.y, ndf.z, c=df.missing, cmap=cmap)"
   ]
  },
  {
   "cell_type": "markdown",
   "metadata": {
    "id": "5BBSTzI3E-wZ"
   },
   "source": [
    "### $\\color{purple}{\\text{Univariate Imputation}}$\n",
    "* Fill - Not recommended\n",
    "    * `df.fillna(0)`\n",
    "* Mean/Median\n",
    "* Mode/Frequent\n",
    "* Random"
   ]
  },
  {
   "cell_type": "markdown",
   "metadata": {
    "id": "YhroZFWjBqrX"
   },
   "source": [
    "#### $\\color{purple}{\\text{Mean or Median Imputation}}$\n",
    "For any column fill each missing value with the mean or the median of that feature\n",
    "* Easy and quick\n",
    "* Does not correct bias for MAR (or MNAR data)\n",
    "* Induces a bias in variance a lower value\n"
   ]
  },
  {
   "cell_type": "code",
   "execution_count": 15,
   "metadata": {},
   "outputs": [
    {
     "data": {
      "text/html": [
       "<div>\n",
       "<style scoped>\n",
       "    .dataframe tbody tr th:only-of-type {\n",
       "        vertical-align: middle;\n",
       "    }\n",
       "\n",
       "    .dataframe tbody tr th {\n",
       "        vertical-align: top;\n",
       "    }\n",
       "\n",
       "    .dataframe thead th {\n",
       "        text-align: right;\n",
       "    }\n",
       "</style>\n",
       "<table border=\"1\" class=\"dataframe\">\n",
       "  <thead>\n",
       "    <tr style=\"text-align: right;\">\n",
       "      <th></th>\n",
       "      <th>Original</th>\n",
       "      <th>With Missing Data</th>\n",
       "      <th>difference</th>\n",
       "      <th>percentage</th>\n",
       "    </tr>\n",
       "  </thead>\n",
       "  <tbody>\n",
       "    <tr>\n",
       "      <th>mean</th>\n",
       "      <td>2.367217</td>\n",
       "      <td>2.127196</td>\n",
       "      <td>0.240020</td>\n",
       "      <td>10.139349</td>\n",
       "    </tr>\n",
       "    <tr>\n",
       "      <th>median</th>\n",
       "      <td>2.380412</td>\n",
       "      <td>2.127196</td>\n",
       "      <td>0.253216</td>\n",
       "      <td>10.637486</td>\n",
       "    </tr>\n",
       "    <tr>\n",
       "      <th>stdev</th>\n",
       "      <td>1.280482</td>\n",
       "      <td>1.124639</td>\n",
       "      <td>0.155843</td>\n",
       "      <td>12.170634</td>\n",
       "    </tr>\n",
       "  </tbody>\n",
       "</table>\n",
       "</div>"
      ],
      "text/plain": [
       "        Original  With Missing Data  difference  percentage\n",
       "mean    2.367217           2.127196    0.240020   10.139349\n",
       "median  2.380412           2.127196    0.253216   10.637486\n",
       "stdev   1.280482           1.124639    0.155843   12.170634"
      ]
     },
     "execution_count": 15,
     "metadata": {},
     "output_type": "execute_result"
    }
   ],
   "source": [
    "imputed_df = mar_df.fillna(mar_df['feature a'].mean())\n",
    "stat_comparison( pristine_df, imputed_df, 'feature a')"
   ]
  },
  {
   "cell_type": "code",
   "execution_count": 17,
   "metadata": {
    "tags": [
     "master"
    ]
   },
   "outputs": [
    {
     "data": {
      "text/html": [
       "<div>\n",
       "<style scoped>\n",
       "    .dataframe tbody tr th:only-of-type {\n",
       "        vertical-align: middle;\n",
       "    }\n",
       "\n",
       "    .dataframe tbody tr th {\n",
       "        vertical-align: top;\n",
       "    }\n",
       "\n",
       "    .dataframe thead th {\n",
       "        text-align: right;\n",
       "    }\n",
       "</style>\n",
       "<table border=\"1\" class=\"dataframe\">\n",
       "  <thead>\n",
       "    <tr style=\"text-align: right;\">\n",
       "      <th></th>\n",
       "      <th>Original</th>\n",
       "      <th>With Missing Data</th>\n",
       "      <th>difference</th>\n",
       "      <th>percentage</th>\n",
       "    </tr>\n",
       "  </thead>\n",
       "  <tbody>\n",
       "    <tr>\n",
       "      <th>mean</th>\n",
       "      <td>2.367217</td>\n",
       "      <td>2.115965</td>\n",
       "      <td>0.251251</td>\n",
       "      <td>10.613777</td>\n",
       "    </tr>\n",
       "    <tr>\n",
       "      <th>median</th>\n",
       "      <td>2.380412</td>\n",
       "      <td>2.070274</td>\n",
       "      <td>0.310138</td>\n",
       "      <td>13.028759</td>\n",
       "    </tr>\n",
       "    <tr>\n",
       "      <th>stdev</th>\n",
       "      <td>1.280482</td>\n",
       "      <td>1.124867</td>\n",
       "      <td>0.155615</td>\n",
       "      <td>12.152819</td>\n",
       "    </tr>\n",
       "  </tbody>\n",
       "</table>\n",
       "</div>"
      ],
      "text/plain": [
       "        Original  With Missing Data  difference  percentage\n",
       "mean    2.367217           2.115965    0.251251   10.613777\n",
       "median  2.380412           2.070274    0.310138   13.028759\n",
       "stdev   1.280482           1.124867    0.155615   12.152819"
      ]
     },
     "execution_count": 17,
     "metadata": {},
     "output_type": "execute_result"
    }
   ],
   "source": [
    "imputed_df = mar_df.fillna(mar_df['feature a'].median())\n",
    "stat_comparison( pristine_df, imputed_df, 'feature a')"
   ]
  },
  {
   "cell_type": "code",
   "execution_count": 18,
   "metadata": {
    "id": "fTmyFiNVBuI7"
   },
   "outputs": [],
   "source": [
    "# Use autoimpute\n",
    "imputer=SingleImputer('mean')\n",
    "imputed = imputer.fit_transform(mar_df)"
   ]
  },
  {
   "cell_type": "code",
   "execution_count": 19,
   "metadata": {
    "id": "aP5MaTxoGdkF",
    "tags": [
     "master"
    ]
   },
   "outputs": [
    {
     "data": {
      "text/html": [
       "<div>\n",
       "<style scoped>\n",
       "    .dataframe tbody tr th:only-of-type {\n",
       "        vertical-align: middle;\n",
       "    }\n",
       "\n",
       "    .dataframe tbody tr th {\n",
       "        vertical-align: top;\n",
       "    }\n",
       "\n",
       "    .dataframe thead th {\n",
       "        text-align: right;\n",
       "    }\n",
       "</style>\n",
       "<table border=\"1\" class=\"dataframe\">\n",
       "  <thead>\n",
       "    <tr style=\"text-align: right;\">\n",
       "      <th></th>\n",
       "      <th>Original</th>\n",
       "      <th>With Missing Data</th>\n",
       "      <th>difference</th>\n",
       "      <th>percentage</th>\n",
       "    </tr>\n",
       "  </thead>\n",
       "  <tbody>\n",
       "    <tr>\n",
       "      <th>mean</th>\n",
       "      <td>2.367217</td>\n",
       "      <td>2.127196</td>\n",
       "      <td>0.240020</td>\n",
       "      <td>10.139349</td>\n",
       "    </tr>\n",
       "    <tr>\n",
       "      <th>median</th>\n",
       "      <td>2.380412</td>\n",
       "      <td>2.127196</td>\n",
       "      <td>0.253216</td>\n",
       "      <td>10.637486</td>\n",
       "    </tr>\n",
       "    <tr>\n",
       "      <th>stdev</th>\n",
       "      <td>1.280482</td>\n",
       "      <td>1.124639</td>\n",
       "      <td>0.155843</td>\n",
       "      <td>12.170634</td>\n",
       "    </tr>\n",
       "  </tbody>\n",
       "</table>\n",
       "</div>"
      ],
      "text/plain": [
       "        Original  With Missing Data  difference  percentage\n",
       "mean    2.367217           2.127196    0.240020   10.139349\n",
       "median  2.380412           2.127196    0.253216   10.637486\n",
       "stdev   1.280482           1.124639    0.155843   12.170634"
      ]
     },
     "execution_count": 19,
     "metadata": {},
     "output_type": "execute_result"
    }
   ],
   "source": [
    "stat_comparison( pristine_df, imputed, 'feature a')"
   ]
  },
  {
   "cell_type": "markdown",
   "metadata": {
    "id": "OpvPq4_IJoKW"
   },
   "source": [
    "#### $\\color{purple}{\\text{Mode/Frequent Imputation}}$\n",
    "For any column fill each missing value with the most frequent value \n",
    "* Same drawbacks as mean or median imputation for continuous values"
   ]
  },
  {
   "cell_type": "code",
   "execution_count": 46,
   "metadata": {},
   "outputs": [],
   "source": [
    "cat_mar_df = pd.read_csv('data/categorical_mar.csv')"
   ]
  },
  {
   "cell_type": "code",
   "execution_count": 51,
   "metadata": {},
   "outputs": [
    {
     "data": {
      "text/html": [
       "<div>\n",
       "<style scoped>\n",
       "    .dataframe tbody tr th:only-of-type {\n",
       "        vertical-align: middle;\n",
       "    }\n",
       "\n",
       "    .dataframe tbody tr th {\n",
       "        vertical-align: top;\n",
       "    }\n",
       "\n",
       "    .dataframe thead th {\n",
       "        text-align: right;\n",
       "    }\n",
       "</style>\n",
       "<table border=\"1\" class=\"dataframe\">\n",
       "  <thead>\n",
       "    <tr style=\"text-align: right;\">\n",
       "      <th></th>\n",
       "      <th>feature a</th>\n",
       "      <th>feature b</th>\n",
       "      <th>feature c</th>\n",
       "      <th>cat feature</th>\n",
       "    </tr>\n",
       "  </thead>\n",
       "  <tbody>\n",
       "    <tr>\n",
       "      <th>0</th>\n",
       "      <td>-1.407780</td>\n",
       "      <td>2.469328</td>\n",
       "      <td>-0.530309</td>\n",
       "      <td>Cat A</td>\n",
       "    </tr>\n",
       "    <tr>\n",
       "      <th>1</th>\n",
       "      <td>15.752722</td>\n",
       "      <td>9.793495</td>\n",
       "      <td>9.382818</td>\n",
       "      <td>Cat C</td>\n",
       "    </tr>\n",
       "    <tr>\n",
       "      <th>2</th>\n",
       "      <td>-1.056187</td>\n",
       "      <td>1.978559</td>\n",
       "      <td>1.036313</td>\n",
       "      <td>Cat A</td>\n",
       "    </tr>\n",
       "    <tr>\n",
       "      <th>3</th>\n",
       "      <td>13.942551</td>\n",
       "      <td>9.976267</td>\n",
       "      <td>8.633593</td>\n",
       "      <td>Cat B</td>\n",
       "    </tr>\n",
       "    <tr>\n",
       "      <th>4</th>\n",
       "      <td>11.956025</td>\n",
       "      <td>7.871260</td>\n",
       "      <td>6.549692</td>\n",
       "      <td>Cat B</td>\n",
       "    </tr>\n",
       "    <tr>\n",
       "      <th>...</th>\n",
       "      <td>...</td>\n",
       "      <td>...</td>\n",
       "      <td>...</td>\n",
       "      <td>...</td>\n",
       "    </tr>\n",
       "    <tr>\n",
       "      <th>19995</th>\n",
       "      <td>0.667009</td>\n",
       "      <td>3.019559</td>\n",
       "      <td>1.400296</td>\n",
       "      <td>Cat A</td>\n",
       "    </tr>\n",
       "    <tr>\n",
       "      <th>19996</th>\n",
       "      <td>5.947251</td>\n",
       "      <td>8.087175</td>\n",
       "      <td>6.023416</td>\n",
       "      <td>Cat C</td>\n",
       "    </tr>\n",
       "    <tr>\n",
       "      <th>19997</th>\n",
       "      <td>12.211766</td>\n",
       "      <td>8.338764</td>\n",
       "      <td>15.438918</td>\n",
       "      <td>Cat C</td>\n",
       "    </tr>\n",
       "    <tr>\n",
       "      <th>19998</th>\n",
       "      <td>0.715749</td>\n",
       "      <td>2.312163</td>\n",
       "      <td>7.851357</td>\n",
       "      <td>Cat D</td>\n",
       "    </tr>\n",
       "    <tr>\n",
       "      <th>19999</th>\n",
       "      <td>17.048617</td>\n",
       "      <td>13.959204</td>\n",
       "      <td>10.310331</td>\n",
       "      <td>Cat C</td>\n",
       "    </tr>\n",
       "  </tbody>\n",
       "</table>\n",
       "<p>20000 rows × 4 columns</p>\n",
       "</div>"
      ],
      "text/plain": [
       "       feature a  feature b  feature c cat feature\n",
       "0      -1.407780   2.469328  -0.530309       Cat A\n",
       "1      15.752722   9.793495   9.382818       Cat C\n",
       "2      -1.056187   1.978559   1.036313       Cat A\n",
       "3      13.942551   9.976267   8.633593       Cat B\n",
       "4      11.956025   7.871260   6.549692       Cat B\n",
       "...          ...        ...        ...         ...\n",
       "19995   0.667009   3.019559   1.400296       Cat A\n",
       "19996   5.947251   8.087175   6.023416       Cat C\n",
       "19997  12.211766   8.338764  15.438918       Cat C\n",
       "19998   0.715749   2.312163   7.851357       Cat D\n",
       "19999  17.048617  13.959204  10.310331       Cat C\n",
       "\n",
       "[20000 rows x 4 columns]"
      ]
     },
     "execution_count": 51,
     "metadata": {},
     "output_type": "execute_result"
    }
   ],
   "source": [
    "cat_mar_df.fillna(cat_mar_df['cat feature'].mode().iat[0])"
   ]
  },
  {
   "cell_type": "markdown",
   "metadata": {
    "id": "5Z_-4V4bfeQu"
   },
   "source": [
    "#### $\\color{purple}{\\text{Random/Normal}}$\n",
    "Basically pick a random value based on the distribution of the rest of the column\n",
    "* Advantage over median or mean imputation as it preserves the variance\n",
    "* Still does not correct bias in MAR"
   ]
  },
  {
   "cell_type": "code",
   "execution_count": 20,
   "metadata": {
    "id": "ToZXpvrQfhDV"
   },
   "outputs": [],
   "source": [
    "filler=np.random.normal(mar_df['feature a'].mean(), mar_df['feature a'].std(), 20000)\n",
    "imputed=mar_df.assign(**{'feature a': mar_df['feature a'].where(~mar_df['feature a'].isnull(), filler)})"
   ]
  },
  {
   "cell_type": "code",
   "execution_count": 21,
   "metadata": {
    "id": "sWjeN5w5fxb2"
   },
   "outputs": [
    {
     "data": {
      "text/html": [
       "<div>\n",
       "<style scoped>\n",
       "    .dataframe tbody tr th:only-of-type {\n",
       "        vertical-align: middle;\n",
       "    }\n",
       "\n",
       "    .dataframe tbody tr th {\n",
       "        vertical-align: top;\n",
       "    }\n",
       "\n",
       "    .dataframe thead th {\n",
       "        text-align: right;\n",
       "    }\n",
       "</style>\n",
       "<table border=\"1\" class=\"dataframe\">\n",
       "  <thead>\n",
       "    <tr style=\"text-align: right;\">\n",
       "      <th></th>\n",
       "      <th>Original</th>\n",
       "      <th>With Missing Data</th>\n",
       "      <th>difference</th>\n",
       "      <th>percentage</th>\n",
       "    </tr>\n",
       "  </thead>\n",
       "  <tbody>\n",
       "    <tr>\n",
       "      <th>mean</th>\n",
       "      <td>2.367217</td>\n",
       "      <td>2.115965</td>\n",
       "      <td>0.251251</td>\n",
       "      <td>10.613777</td>\n",
       "    </tr>\n",
       "    <tr>\n",
       "      <th>median</th>\n",
       "      <td>2.380412</td>\n",
       "      <td>2.070274</td>\n",
       "      <td>0.310138</td>\n",
       "      <td>13.028759</td>\n",
       "    </tr>\n",
       "    <tr>\n",
       "      <th>stdev</th>\n",
       "      <td>1.280482</td>\n",
       "      <td>1.124867</td>\n",
       "      <td>0.155615</td>\n",
       "      <td>12.152819</td>\n",
       "    </tr>\n",
       "  </tbody>\n",
       "</table>\n",
       "</div>"
      ],
      "text/plain": [
       "        Original  With Missing Data  difference  percentage\n",
       "mean    2.367217           2.115965    0.251251   10.613777\n",
       "median  2.380412           2.070274    0.310138   13.028759\n",
       "stdev   1.280482           1.124867    0.155615   12.152819"
      ]
     },
     "execution_count": 21,
     "metadata": {},
     "output_type": "execute_result"
    }
   ],
   "source": [
    "\n",
    "stat_comparison( pristine_df, imputed_df, 'feature a')"
   ]
  },
  {
   "cell_type": "code",
   "execution_count": 22,
   "metadata": {
    "id": "1orCCjk0gmxh",
    "tags": [
     "master"
    ]
   },
   "outputs": [],
   "source": [
    "imputer=SingleImputer('norm')\n",
    "imputed = imputer.fit_transform(mar_df)"
   ]
  },
  {
   "cell_type": "code",
   "execution_count": 45,
   "metadata": {
    "id": "-ybRMX-5gobQ",
    "tags": [
     "master"
    ]
   },
   "outputs": [
    {
     "data": {
      "text/html": [
       "<div>\n",
       "<style scoped>\n",
       "    .dataframe tbody tr th:only-of-type {\n",
       "        vertical-align: middle;\n",
       "    }\n",
       "\n",
       "    .dataframe tbody tr th {\n",
       "        vertical-align: top;\n",
       "    }\n",
       "\n",
       "    .dataframe thead th {\n",
       "        text-align: right;\n",
       "    }\n",
       "</style>\n",
       "<table border=\"1\" class=\"dataframe\">\n",
       "  <thead>\n",
       "    <tr style=\"text-align: right;\">\n",
       "      <th></th>\n",
       "      <th>Original</th>\n",
       "      <th>With Missing Data</th>\n",
       "      <th>difference</th>\n",
       "      <th>percentate</th>\n",
       "    </tr>\n",
       "  </thead>\n",
       "  <tbody>\n",
       "    <tr>\n",
       "      <th>mean</th>\n",
       "      <td>2.367217</td>\n",
       "      <td>2.115965</td>\n",
       "      <td>0.251251</td>\n",
       "      <td>10.613777</td>\n",
       "    </tr>\n",
       "    <tr>\n",
       "      <th>median</th>\n",
       "      <td>2.380412</td>\n",
       "      <td>2.070274</td>\n",
       "      <td>0.310138</td>\n",
       "      <td>13.028759</td>\n",
       "    </tr>\n",
       "    <tr>\n",
       "      <th>stdev</th>\n",
       "      <td>1.280482</td>\n",
       "      <td>1.124867</td>\n",
       "      <td>0.155615</td>\n",
       "      <td>12.152819</td>\n",
       "    </tr>\n",
       "  </tbody>\n",
       "</table>\n",
       "</div>"
      ],
      "text/plain": [
       "        Original  With Missing Data  difference  percentate\n",
       "mean    2.367217           2.115965    0.251251   10.613777\n",
       "median  2.380412           2.070274    0.310138   13.028759\n",
       "stdev   1.280482           1.124867    0.155615   12.152819"
      ]
     },
     "execution_count": 45,
     "metadata": {},
     "output_type": "execute_result"
    }
   ],
   "source": [
    "\n",
    "stat_comparison( pristine_df, imputed, 'feature a')"
   ]
  },
  {
   "cell_type": "markdown",
   "metadata": {},
   "source": [
    "## $\\color{purple}{\\text{Takeaways}}$\n",
    "* Interpolation can (and maybe should) be used in cases of spatial or time connected data features that are believed continuous\n",
    "* Deletion and Univariate Imputation can be used for MCAR missingness or when the expected bias can be tolerated (i.e., very small amount of data missing)"
   ]
  },
  {
   "cell_type": "code",
   "execution_count": null,
   "metadata": {},
   "outputs": [],
   "source": []
  }
 ],
 "metadata": {
  "celltoolbar": "Tags",
  "colab": {
   "authorship_tag": "ABX9TyPThFxeTVWCR4k5kX6b6Bmu",
   "collapsed_sections": [],
   "name": "3 - Common Treatment Practices and Pitfalls.ipynb",
   "private_outputs": true,
   "provenance": []
  },
  "kernelspec": {
   "display_name": "Python 3 (ipykernel)",
   "language": "python",
   "name": "python3"
  },
  "language_info": {
   "codemirror_mode": {
    "name": "ipython",
    "version": 3
   },
   "file_extension": ".py",
   "mimetype": "text/x-python",
   "name": "python",
   "nbconvert_exporter": "python",
   "pygments_lexer": "ipython3",
   "version": "3.9.7"
  }
 },
 "nbformat": 4,
 "nbformat_minor": 1
}
