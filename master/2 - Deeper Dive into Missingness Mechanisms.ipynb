{
 "cells": [
  {
   "cell_type": "markdown",
   "metadata": {
    "id": "IcWr96v59sU8"
   },
   "source": [
    "# $\\color{purple}{\\text{Understanding Missing Data and How to Deal with It (Part 2)}}$"
   ]
  },
  {
   "cell_type": "markdown",
   "metadata": {
    "tags": [
     "colab"
    ]
   },
   "source": [
    "### $\\color{purple}{\\text{Colab Environmental Setup}}$"
   ]
  },
  {
   "cell_type": "raw",
   "metadata": {
    "tags": [
     "colab"
    ]
   },
   "source": [
    "from google.colab import drive\n",
    "import os\n",
    "drive.mount('/content/drive')\n",
    "os.chdir('/content/drive/My Drive/missingness_tutorial')"
   ]
  },
  {
   "cell_type": "markdown",
   "metadata": {},
   "source": [
    "### $\\color{purple}{\\text{Libraries for this lesson}}$"
   ]
  },
  {
   "cell_type": "code",
   "execution_count": 1,
   "metadata": {
    "executionInfo": {
     "elapsed": 177,
     "status": "ok",
     "timestamp": 1654210166360,
     "user": {
      "displayName": "Haw-minn Lu",
      "userId": "16109571175851064283"
     },
     "user_tz": 420
    },
    "id": "AjbBlydaP97E"
   },
   "outputs": [],
   "source": [
    "import numpy as np\n",
    "import pandas as pd"
   ]
  },
  {
   "cell_type": "markdown",
   "metadata": {
    "id": "qFTeZP_Q_VPd"
   },
   "source": [
    "## $\\color{purple}{\\text{Setting Up Test Data}}$\n",
    "\n",
    "$\\color{red}{\\Large{\\text{ ⚠}}}$ We synthensize a statiscally controlled example to more clearly illustrate the concepts. This dataset will satisfy the normality condition set forth in many of the statistical assumptions. These may not carry over to your datasets.\n",
    "\n",
    "We will cause missingness in approximately 20% of the observations. This may (hopefully) be more that you will experience, but this high proportion will amplify effects such as bias.\n",
    "\n",
    "`observations` will be the size of our test set. The covariance matrix `cov` supplied shows some nice characteristics with two highly correlated features. But you can generate a completely random covariance matrix using the following:\n",
    "```\n",
    "A = np.random.rand(variables, row_size)\n",
    "cov = np.dot(A, A.transpose()\n",
    "```\n",
    "where `variables` is the number of variables and `row_size` is any number greater thanor equal to `variables` to insure a positive semidefinite matrix.\n",
    "\n",
    "We selected a `mean` to be taken from an normal distribution with a mean between 1 and 5 and a standard deviation between 0 and 5.\n",
    "\n",
    "This dataset will serve as one of the major datasets for this and subsequent notebooks."
   ]
  },
  {
   "cell_type": "code",
   "execution_count": 39,
   "metadata": {
    "executionInfo": {
     "elapsed": 186,
     "status": "ok",
     "timestamp": 1654210167452,
     "user": {
      "displayName": "Haw-minn Lu",
      "userId": "16109571175851064283"
     },
     "user_tz": 420
    },
    "id": "0gi0Vfz3QNMh"
   },
   "outputs": [],
   "source": [
    "# This covariance matrix has some nice properties to demonstrate. Originally this was generated at random\n",
    "cov = [\n",
    "    [1.6545195264181267, 0.6346001403246381, 1.573255077832285, 0.7457615955325402],\n",
    "    [0.6346001403246381, 0.5636389213610075, 0.5861890592085826, 0.6638139531999303],\n",
    "    [1.573255077832285, 0.5861890592085826, 1.6461885333121087, 0.4916921086792136],\n",
    "    [0.7457615955325402, 0.6638139531999303, 0.4916921086792136, 1.0900299890979697],\n",
    "]\n",
    "mean = np.random.normal(np.random.uniform(low=1, high=5), np.random.uniform(high=5), 4)"
   ]
  },
  {
   "cell_type": "code",
   "execution_count": 40,
   "metadata": {
    "colab": {
     "base_uri": "https://localhost:8080/"
    },
    "executionInfo": {
     "elapsed": 3,
     "status": "ok",
     "timestamp": 1654210168334,
     "user": {
      "displayName": "Haw-minn Lu",
      "userId": "16109571175851064283"
     },
     "user_tz": 420
    },
    "id": "kGWSxd4AQgaI",
    "outputId": "b4b71e3a-ee60-4458-c104-bb45c21bd366"
   },
   "outputs": [
    {
     "data": {
      "text/plain": [
       "array([-3.44982925,  8.56662185,  4.93010042,  5.06163308])"
      ]
     },
     "execution_count": 40,
     "metadata": {},
     "output_type": "execute_result"
    }
   ],
   "source": [
    "mean"
   ]
  },
  {
   "cell_type": "markdown",
   "metadata": {
    "id": "uY6_V9KAw1IW"
   },
   "source": [
    "List the covariance matrix and compare to the original. \n",
    "This is only important to insure the number of observations selected is sufficient to give the right characteristics."
   ]
  },
  {
   "cell_type": "code",
   "execution_count": 42,
   "metadata": {
    "colab": {
     "base_uri": "https://localhost:8080/",
     "height": 175
    },
    "executionInfo": {
     "elapsed": 171,
     "status": "ok",
     "timestamp": 1654210274317,
     "user": {
      "displayName": "Haw-minn Lu",
      "userId": "16109571175851064283"
     },
     "user_tz": 420
    },
    "id": "wvvEfIz-QBFY",
    "outputId": "9e4edddb-046f-4191-d402-7708c4aadbae"
   },
   "outputs": [
    {
     "data": {
      "text/html": [
       "<div>\n",
       "<style scoped>\n",
       "    .dataframe tbody tr th:only-of-type {\n",
       "        vertical-align: middle;\n",
       "    }\n",
       "\n",
       "    .dataframe tbody tr th {\n",
       "        vertical-align: top;\n",
       "    }\n",
       "\n",
       "    .dataframe thead th {\n",
       "        text-align: right;\n",
       "    }\n",
       "</style>\n",
       "<table border=\"1\" class=\"dataframe\">\n",
       "  <thead>\n",
       "    <tr style=\"text-align: right;\">\n",
       "      <th></th>\n",
       "      <th>feature a</th>\n",
       "      <th>feature b</th>\n",
       "      <th>feature c</th>\n",
       "      <th>feature d</th>\n",
       "    </tr>\n",
       "  </thead>\n",
       "  <tbody>\n",
       "    <tr>\n",
       "      <th>feature a</th>\n",
       "      <td>1.644890</td>\n",
       "      <td>0.632174</td>\n",
       "      <td>1.559663</td>\n",
       "      <td>0.746702</td>\n",
       "    </tr>\n",
       "    <tr>\n",
       "      <th>feature b</th>\n",
       "      <td>0.632174</td>\n",
       "      <td>0.558006</td>\n",
       "      <td>0.585077</td>\n",
       "      <td>0.652994</td>\n",
       "    </tr>\n",
       "    <tr>\n",
       "      <th>feature c</th>\n",
       "      <td>1.559663</td>\n",
       "      <td>0.585077</td>\n",
       "      <td>1.626630</td>\n",
       "      <td>0.497506</td>\n",
       "    </tr>\n",
       "    <tr>\n",
       "      <th>feature d</th>\n",
       "      <td>0.746702</td>\n",
       "      <td>0.652994</td>\n",
       "      <td>0.497506</td>\n",
       "      <td>1.067495</td>\n",
       "    </tr>\n",
       "  </tbody>\n",
       "</table>\n",
       "</div>"
      ],
      "text/plain": [
       "           feature a  feature b  feature c  feature d\n",
       "feature a   1.644890   0.632174   1.559663   0.746702\n",
       "feature b   0.632174   0.558006   0.585077   0.652994\n",
       "feature c   1.559663   0.585077   1.626630   0.497506\n",
       "feature d   0.746702   0.652994   0.497506   1.067495"
      ]
     },
     "execution_count": 42,
     "metadata": {},
     "output_type": "execute_result"
    }
   ],
   "source": [
    "observations = 20000\n",
    "df = pd.DataFrame(\n",
    "    np.random.multivariate_normal(mean, cov, size=observations),\n",
    "    columns=[\"feature a\", \"feature b\", \"feature c\", \"feature d\"],\n",
    ")\n",
    "df.cov()"
   ]
  },
  {
   "cell_type": "markdown",
   "metadata": {
    "id": "JL2-GxfbxYxe"
   },
   "source": [
    "Now we add one variable that is completely uncorrelated with the other features and show the correlation matrix to confirm."
   ]
  },
  {
   "cell_type": "code",
   "execution_count": 43,
   "metadata": {
    "executionInfo": {
     "elapsed": 440,
     "status": "ok",
     "timestamp": 1654210275954,
     "user": {
      "displayName": "Haw-minn Lu",
      "userId": "16109571175851064283"
     },
     "user_tz": 420
    },
    "id": "FjAlEhf2RCUw"
   },
   "outputs": [],
   "source": [
    "df[\"uncorrelated\"] = np.random.rand(observations)\n",
    "df.to_csv('full_set.csv', index=False)"
   ]
  },
  {
   "cell_type": "code",
   "execution_count": 44,
   "metadata": {
    "colab": {
     "base_uri": "https://localhost:8080/",
     "height": 206
    },
    "executionInfo": {
     "elapsed": 191,
     "status": "ok",
     "timestamp": 1654210277357,
     "user": {
      "displayName": "Haw-minn Lu",
      "userId": "16109571175851064283"
     },
     "user_tz": 420
    },
    "id": "Wg2zYRxQRT6o",
    "outputId": "8da665ed-9055-44d4-8224-bd722fd79a8a"
   },
   "outputs": [
    {
     "data": {
      "text/html": [
       "<div>\n",
       "<style scoped>\n",
       "    .dataframe tbody tr th:only-of-type {\n",
       "        vertical-align: middle;\n",
       "    }\n",
       "\n",
       "    .dataframe tbody tr th {\n",
       "        vertical-align: top;\n",
       "    }\n",
       "\n",
       "    .dataframe thead th {\n",
       "        text-align: right;\n",
       "    }\n",
       "</style>\n",
       "<table border=\"1\" class=\"dataframe\">\n",
       "  <thead>\n",
       "    <tr style=\"text-align: right;\">\n",
       "      <th></th>\n",
       "      <th>feature a</th>\n",
       "      <th>feature b</th>\n",
       "      <th>feature c</th>\n",
       "      <th>feature d</th>\n",
       "      <th>uncorrelated</th>\n",
       "    </tr>\n",
       "  </thead>\n",
       "  <tbody>\n",
       "    <tr>\n",
       "      <th>feature a</th>\n",
       "      <td>1.000000</td>\n",
       "      <td>0.659855</td>\n",
       "      <td>0.953494</td>\n",
       "      <td>0.563503</td>\n",
       "      <td>0.007345</td>\n",
       "    </tr>\n",
       "    <tr>\n",
       "      <th>feature b</th>\n",
       "      <td>0.659855</td>\n",
       "      <td>1.000000</td>\n",
       "      <td>0.614114</td>\n",
       "      <td>0.846070</td>\n",
       "      <td>0.000318</td>\n",
       "    </tr>\n",
       "    <tr>\n",
       "      <th>feature c</th>\n",
       "      <td>0.953494</td>\n",
       "      <td>0.614114</td>\n",
       "      <td>1.000000</td>\n",
       "      <td>0.377547</td>\n",
       "      <td>0.008364</td>\n",
       "    </tr>\n",
       "    <tr>\n",
       "      <th>feature d</th>\n",
       "      <td>0.563503</td>\n",
       "      <td>0.846070</td>\n",
       "      <td>0.377547</td>\n",
       "      <td>1.000000</td>\n",
       "      <td>-0.001936</td>\n",
       "    </tr>\n",
       "    <tr>\n",
       "      <th>uncorrelated</th>\n",
       "      <td>0.007345</td>\n",
       "      <td>0.000318</td>\n",
       "      <td>0.008364</td>\n",
       "      <td>-0.001936</td>\n",
       "      <td>1.000000</td>\n",
       "    </tr>\n",
       "  </tbody>\n",
       "</table>\n",
       "</div>"
      ],
      "text/plain": [
       "              feature a  feature b  feature c  feature d  uncorrelated\n",
       "feature a      1.000000   0.659855   0.953494   0.563503      0.007345\n",
       "feature b      0.659855   1.000000   0.614114   0.846070      0.000318\n",
       "feature c      0.953494   0.614114   1.000000   0.377547      0.008364\n",
       "feature d      0.563503   0.846070   0.377547   1.000000     -0.001936\n",
       "uncorrelated   0.007345   0.000318   0.008364  -0.001936      1.000000"
      ]
     },
     "execution_count": 44,
     "metadata": {},
     "output_type": "execute_result"
    }
   ],
   "source": [
    "df.corr()"
   ]
  },
  {
   "cell_type": "code",
   "execution_count": 45,
   "metadata": {
    "executionInfo": {
     "elapsed": 2,
     "status": "ok",
     "timestamp": 1654210278090,
     "user": {
      "displayName": "Haw-minn Lu",
      "userId": "16109571175851064283"
     },
     "user_tz": 420
    },
    "id": "Mh5-y5musg4i"
   },
   "outputs": [],
   "source": [
    "# A function to cause missingness in a given column optionally\n",
    "def clobber(df, column, probability, depends=[]):\n",
    "    clob = df[column] == df[column]  # Always True\n",
    "    for dep_column in depends:\n",
    "        clob &= df[dep_column] > df[dep_column].median()\n",
    "    clob *= probability\n",
    "    rand = np.random.uniform(0, 1, size=len(clob))\n",
    "    ret = df.copy()  # We copy to avoid clobbering the original\n",
    "    ret[column] = np.where(clob < rand, df[column], np.nan)\n",
    "    return ret"
   ]
  },
  {
   "cell_type": "code",
   "execution_count": 46,
   "metadata": {
    "executionInfo": {
     "elapsed": 1,
     "status": "ok",
     "timestamp": 1654210278950,
     "user": {
      "displayName": "Haw-minn Lu",
      "userId": "16109571175851064283"
     },
     "user_tz": 420
    },
    "id": "iZclVS9ulNRS"
   },
   "outputs": [],
   "source": [
    "def stat_comparison(original, missing, column):\n",
    "    df = pd.DataFrame.from_dict(\n",
    "        dict(\n",
    "            mean=[original[column].mean(), missing[column].mean()],\n",
    "            median=[original[column].median(), missing[column].median()],\n",
    "            stdev=[original[column].std(), missing[column].std()],\n",
    "        ),\n",
    "        orient=\"index\",\n",
    "        columns=[\"Original\", \"With Missing Data\"],\n",
    "    )\n",
    "    df[\"difference\"] = (df[\"Original\"] - df[\"With Missing Data\"]).abs()\n",
    "    df[\"percentage\"] = df[\"difference\"] / df[\"Original\"] * 100\n",
    "    return df"
   ]
  },
  {
   "cell_type": "markdown",
   "metadata": {
    "id": "aA1H16X5i9Gu"
   },
   "source": [
    "## $\\color{purple}{\\text{MCAR and MAR Data Set}}$\n",
    "In this subsection, we will induce missingness to the dataset we just constructed. This will enable demonstrations of missingness mechanism test as well as to demonstrate treatment techniques in subsequent notebooks"
   ]
  },
  {
   "cell_type": "markdown",
   "metadata": {},
   "source": [
    "### $\\color{purple}{\\text{MCAR}}$"
   ]
  },
  {
   "cell_type": "code",
   "execution_count": 47,
   "metadata": {
    "colab": {
     "base_uri": "https://localhost:8080/"
    },
    "executionInfo": {
     "elapsed": 400,
     "status": "ok",
     "timestamp": 1654210293212,
     "user": {
      "displayName": "Haw-minn Lu",
      "userId": "16109571175851064283"
     },
     "user_tz": 420
    },
    "id": "D_zmd2jAkj3-",
    "outputId": "d79d564b-8c46-41f8-a1d3-54b3cb9e422f"
   },
   "outputs": [
    {
     "data": {
      "text/plain": [
       "3997"
      ]
     },
     "execution_count": 47,
     "metadata": {},
     "output_type": "execute_result"
    }
   ],
   "source": [
    "mcar_df = clobber(df, \"feature a\", 0.2)\n",
    "\n",
    "mcar_df.to_csv('mcar_set.csv', index=False)\n",
    "mcar_df[\"feature a\"].isnull().sum()"
   ]
  },
  {
   "cell_type": "code",
   "execution_count": 48,
   "metadata": {
    "colab": {
     "base_uri": "https://localhost:8080/",
     "height": 143
    },
    "executionInfo": {
     "elapsed": 4,
     "status": "ok",
     "timestamp": 1654210293598,
     "user": {
      "displayName": "Haw-minn Lu",
      "userId": "16109571175851064283"
     },
     "user_tz": 420
    },
    "id": "JERGhxH1kuhE",
    "outputId": "1ef75aa8-1403-49bf-beee-96f7ce05bb61"
   },
   "outputs": [
    {
     "data": {
      "text/html": [
       "<div>\n",
       "<style scoped>\n",
       "    .dataframe tbody tr th:only-of-type {\n",
       "        vertical-align: middle;\n",
       "    }\n",
       "\n",
       "    .dataframe tbody tr th {\n",
       "        vertical-align: top;\n",
       "    }\n",
       "\n",
       "    .dataframe thead th {\n",
       "        text-align: right;\n",
       "    }\n",
       "</style>\n",
       "<table border=\"1\" class=\"dataframe\">\n",
       "  <thead>\n",
       "    <tr style=\"text-align: right;\">\n",
       "      <th></th>\n",
       "      <th>Original</th>\n",
       "      <th>With Missing Data</th>\n",
       "      <th>difference</th>\n",
       "      <th>percentage</th>\n",
       "    </tr>\n",
       "  </thead>\n",
       "  <tbody>\n",
       "    <tr>\n",
       "      <th>mean</th>\n",
       "      <td>-3.455239</td>\n",
       "      <td>-3.453419</td>\n",
       "      <td>0.001820</td>\n",
       "      <td>-0.052672</td>\n",
       "    </tr>\n",
       "    <tr>\n",
       "      <th>median</th>\n",
       "      <td>-3.454605</td>\n",
       "      <td>-3.446362</td>\n",
       "      <td>0.008243</td>\n",
       "      <td>-0.238609</td>\n",
       "    </tr>\n",
       "    <tr>\n",
       "      <th>stdev</th>\n",
       "      <td>1.282532</td>\n",
       "      <td>1.286197</td>\n",
       "      <td>0.003665</td>\n",
       "      <td>0.285756</td>\n",
       "    </tr>\n",
       "  </tbody>\n",
       "</table>\n",
       "</div>"
      ],
      "text/plain": [
       "        Original  With Missing Data  difference  percentage\n",
       "mean   -3.455239          -3.453419    0.001820   -0.052672\n",
       "median -3.454605          -3.446362    0.008243   -0.238609\n",
       "stdev   1.282532           1.286197    0.003665    0.285756"
      ]
     },
     "execution_count": 48,
     "metadata": {},
     "output_type": "execute_result"
    }
   ],
   "source": [
    "stat_comparison(df, mcar_df, \"feature a\")"
   ]
  },
  {
   "cell_type": "code",
   "execution_count": 51,
   "metadata": {
    "colab": {
     "base_uri": "https://localhost:8080/",
     "height": 206
    },
    "executionInfo": {
     "elapsed": 182,
     "status": "ok",
     "timestamp": 1654210294563,
     "user": {
      "displayName": "Haw-minn Lu",
      "userId": "16109571175851064283"
     },
     "user_tz": 420
    },
    "id": "UulFZyscsOa3",
    "outputId": "b97d9944-c3ff-4fb0-e630-45610864edbd"
   },
   "outputs": [
    {
     "data": {
      "text/html": [
       "<div>\n",
       "<style scoped>\n",
       "    .dataframe tbody tr th:only-of-type {\n",
       "        vertical-align: middle;\n",
       "    }\n",
       "\n",
       "    .dataframe tbody tr th {\n",
       "        vertical-align: top;\n",
       "    }\n",
       "\n",
       "    .dataframe thead th {\n",
       "        text-align: right;\n",
       "    }\n",
       "</style>\n",
       "<table border=\"1\" class=\"dataframe\">\n",
       "  <thead>\n",
       "    <tr style=\"text-align: right;\">\n",
       "      <th></th>\n",
       "      <th>feature a</th>\n",
       "      <th>feature b</th>\n",
       "      <th>feature c</th>\n",
       "      <th>feature d</th>\n",
       "      <th>uncorrelated</th>\n",
       "    </tr>\n",
       "  </thead>\n",
       "  <tbody>\n",
       "    <tr>\n",
       "      <th>feature a</th>\n",
       "      <td>1.654304</td>\n",
       "      <td>0.635491</td>\n",
       "      <td>1.570566</td>\n",
       "      <td>0.748323</td>\n",
       "      <td>-0.000240</td>\n",
       "    </tr>\n",
       "    <tr>\n",
       "      <th>feature b</th>\n",
       "      <td>0.635491</td>\n",
       "      <td>0.558006</td>\n",
       "      <td>0.585077</td>\n",
       "      <td>0.652994</td>\n",
       "      <td>0.000069</td>\n",
       "    </tr>\n",
       "    <tr>\n",
       "      <th>feature c</th>\n",
       "      <td>1.570566</td>\n",
       "      <td>0.585077</td>\n",
       "      <td>1.626630</td>\n",
       "      <td>0.497506</td>\n",
       "      <td>0.003088</td>\n",
       "    </tr>\n",
       "    <tr>\n",
       "      <th>feature d</th>\n",
       "      <td>0.748323</td>\n",
       "      <td>0.652994</td>\n",
       "      <td>0.497506</td>\n",
       "      <td>1.067495</td>\n",
       "      <td>-0.000579</td>\n",
       "    </tr>\n",
       "    <tr>\n",
       "      <th>uncorrelated</th>\n",
       "      <td>-0.000240</td>\n",
       "      <td>0.000069</td>\n",
       "      <td>0.003088</td>\n",
       "      <td>-0.000579</td>\n",
       "      <td>0.083787</td>\n",
       "    </tr>\n",
       "  </tbody>\n",
       "</table>\n",
       "</div>"
      ],
      "text/plain": [
       "              feature a  feature b  feature c  feature d  uncorrelated\n",
       "feature a      1.654304   0.635491   1.570566   0.748323     -0.000240\n",
       "feature b      0.635491   0.558006   0.585077   0.652994      0.000069\n",
       "feature c      1.570566   0.585077   1.626630   0.497506      0.003088\n",
       "feature d      0.748323   0.652994   0.497506   1.067495     -0.000579\n",
       "uncorrelated  -0.000240   0.000069   0.003088  -0.000579      0.083787"
      ]
     },
     "execution_count": 51,
     "metadata": {},
     "output_type": "execute_result"
    }
   ],
   "source": [
    "mcar_df.cov()"
   ]
  },
  {
   "cell_type": "code",
   "execution_count": 50,
   "metadata": {
    "colab": {
     "base_uri": "https://localhost:8080/",
     "height": 206
    },
    "executionInfo": {
     "elapsed": 187,
     "status": "ok",
     "timestamp": 1654210295598,
     "user": {
      "displayName": "Haw-minn Lu",
      "userId": "16109571175851064283"
     },
     "user_tz": 420
    },
    "id": "R_1FmxbTsRt1",
    "outputId": "5c1471e5-0fda-4bf0-b5e9-8d3b7a04e108"
   },
   "outputs": [
    {
     "data": {
      "text/html": [
       "<div>\n",
       "<style scoped>\n",
       "    .dataframe tbody tr th:only-of-type {\n",
       "        vertical-align: middle;\n",
       "    }\n",
       "\n",
       "    .dataframe tbody tr th {\n",
       "        vertical-align: top;\n",
       "    }\n",
       "\n",
       "    .dataframe thead th {\n",
       "        text-align: right;\n",
       "    }\n",
       "</style>\n",
       "<table border=\"1\" class=\"dataframe\">\n",
       "  <thead>\n",
       "    <tr style=\"text-align: right;\">\n",
       "      <th></th>\n",
       "      <th>feature a</th>\n",
       "      <th>feature b</th>\n",
       "      <th>feature c</th>\n",
       "      <th>feature d</th>\n",
       "      <th>uncorrelated</th>\n",
       "    </tr>\n",
       "  </thead>\n",
       "  <tbody>\n",
       "    <tr>\n",
       "      <th>feature a</th>\n",
       "      <td>0.572328</td>\n",
       "      <td>5.247330e-01</td>\n",
       "      <td>6.990851e-01</td>\n",
       "      <td>2.170555e-01</td>\n",
       "      <td>1.088015e+02</td>\n",
       "    </tr>\n",
       "    <tr>\n",
       "      <th>feature b</th>\n",
       "      <td>0.524733</td>\n",
       "      <td>1.392737e-13</td>\n",
       "      <td>3.036109e-13</td>\n",
       "      <td>6.290760e-13</td>\n",
       "      <td>9.522756e-11</td>\n",
       "    </tr>\n",
       "    <tr>\n",
       "      <th>feature c</th>\n",
       "      <td>0.699085</td>\n",
       "      <td>3.036109e-13</td>\n",
       "      <td>2.457106e-13</td>\n",
       "      <td>4.351578e-13</td>\n",
       "      <td>8.005993e-13</td>\n",
       "    </tr>\n",
       "    <tr>\n",
       "      <th>feature d</th>\n",
       "      <td>0.217055</td>\n",
       "      <td>6.290760e-13</td>\n",
       "      <td>4.351578e-13</td>\n",
       "      <td>4.368110e-13</td>\n",
       "      <td>-8.089509e-12</td>\n",
       "    </tr>\n",
       "    <tr>\n",
       "      <th>uncorrelated</th>\n",
       "      <td>108.801461</td>\n",
       "      <td>9.522756e-11</td>\n",
       "      <td>8.005993e-13</td>\n",
       "      <td>-8.089509e-12</td>\n",
       "      <td>1.656320e-14</td>\n",
       "    </tr>\n",
       "  </tbody>\n",
       "</table>\n",
       "</div>"
      ],
      "text/plain": [
       "               feature a     feature b     feature c     feature d  \\\n",
       "feature a       0.572328  5.247330e-01  6.990851e-01  2.170555e-01   \n",
       "feature b       0.524733  1.392737e-13  3.036109e-13  6.290760e-13   \n",
       "feature c       0.699085  3.036109e-13  2.457106e-13  4.351578e-13   \n",
       "feature d       0.217055  6.290760e-13  4.351578e-13  4.368110e-13   \n",
       "uncorrelated  108.801461  9.522756e-11  8.005993e-13 -8.089509e-12   \n",
       "\n",
       "              uncorrelated  \n",
       "feature a     1.088015e+02  \n",
       "feature b     9.522756e-11  \n",
       "feature c     8.005993e-13  \n",
       "feature d    -8.089509e-12  \n",
       "uncorrelated  1.656320e-14  "
      ]
     },
     "execution_count": 50,
     "metadata": {},
     "output_type": "execute_result"
    }
   ],
   "source": [
    "(df.cov() - mcar_df.cov()).abs()/df.cov()*100"
   ]
  },
  {
   "cell_type": "code",
   "execution_count": 53,
   "metadata": {},
   "outputs": [
    {
     "data": {
      "text/plain": [
       "feature a       3997\n",
       "feature b       3951\n",
       "feature c          0\n",
       "feature d          0\n",
       "uncorrelated       0\n",
       "dtype: int64"
      ]
     },
     "execution_count": 53,
     "metadata": {},
     "output_type": "execute_result"
    }
   ],
   "source": [
    "double_mcar_df = clobber(mcar_df, \"feature b\", 0.2)\n",
    "\n",
    "double_mcar_df.to_csv('double_mcar_set.csv', index=False)\n",
    "double_mcar_df.isnull().sum()"
   ]
  },
  {
   "cell_type": "markdown",
   "metadata": {},
   "source": [
    "### $\\color{purple}{\\text{MAR}}$"
   ]
  },
  {
   "cell_type": "code",
   "execution_count": 14,
   "metadata": {
    "colab": {
     "base_uri": "https://localhost:8080/"
    },
    "executionInfo": {
     "elapsed": 387,
     "status": "ok",
     "timestamp": 1654210305297,
     "user": {
      "displayName": "Haw-minn Lu",
      "userId": "16109571175851064283"
     },
     "user_tz": 420
    },
    "id": "d7NC0PSLw5Df",
    "outputId": "e30bc252-3558-4c8f-9531-0fd8c55c316e"
   },
   "outputs": [
    {
     "data": {
      "text/plain": [
       "3961"
      ]
     },
     "execution_count": 14,
     "metadata": {},
     "output_type": "execute_result"
    }
   ],
   "source": [
    "mar_df = clobber(df, \"feature a\", 0.4, depends=[\"feature c\"])\n",
    "\n",
    "mar_df.to_csv('mar_set.csv', index=False)\n",
    "mar_df[\"feature a\"].isnull().sum()"
   ]
  },
  {
   "cell_type": "code",
   "execution_count": 15,
   "metadata": {
    "colab": {
     "base_uri": "https://localhost:8080/",
     "height": 143
    },
    "executionInfo": {
     "elapsed": 5,
     "status": "ok",
     "timestamp": 1654210305298,
     "user": {
      "displayName": "Haw-minn Lu",
      "userId": "16109571175851064283"
     },
     "user_tz": 420
    },
    "id": "QDV_fAqlzP1b",
    "outputId": "8841bfb5-e3a6-4f60-ee35-3e929989d4f9"
   },
   "outputs": [
    {
     "data": {
      "text/html": [
       "<div>\n",
       "<style scoped>\n",
       "    .dataframe tbody tr th:only-of-type {\n",
       "        vertical-align: middle;\n",
       "    }\n",
       "\n",
       "    .dataframe tbody tr th {\n",
       "        vertical-align: top;\n",
       "    }\n",
       "\n",
       "    .dataframe thead th {\n",
       "        text-align: right;\n",
       "    }\n",
       "</style>\n",
       "<table border=\"1\" class=\"dataframe\">\n",
       "  <thead>\n",
       "    <tr style=\"text-align: right;\">\n",
       "      <th></th>\n",
       "      <th>Original</th>\n",
       "      <th>With Missing Data</th>\n",
       "      <th>difference</th>\n",
       "      <th>percentage</th>\n",
       "    </tr>\n",
       "  </thead>\n",
       "  <tbody>\n",
       "    <tr>\n",
       "      <th>mean</th>\n",
       "      <td>0.429916</td>\n",
       "      <td>0.194008</td>\n",
       "      <td>0.235908</td>\n",
       "      <td>54.872960</td>\n",
       "    </tr>\n",
       "    <tr>\n",
       "      <th>median</th>\n",
       "      <td>0.434693</td>\n",
       "      <td>0.131259</td>\n",
       "      <td>0.303434</td>\n",
       "      <td>69.804284</td>\n",
       "    </tr>\n",
       "    <tr>\n",
       "      <th>stdev</th>\n",
       "      <td>1.282751</td>\n",
       "      <td>1.262807</td>\n",
       "      <td>0.019944</td>\n",
       "      <td>1.554770</td>\n",
       "    </tr>\n",
       "  </tbody>\n",
       "</table>\n",
       "</div>"
      ],
      "text/plain": [
       "        Original  With Missing Data  difference  percentage\n",
       "mean    0.429916           0.194008    0.235908   54.872960\n",
       "median  0.434693           0.131259    0.303434   69.804284\n",
       "stdev   1.282751           1.262807    0.019944    1.554770"
      ]
     },
     "execution_count": 15,
     "metadata": {},
     "output_type": "execute_result"
    }
   ],
   "source": [
    "stat_comparison(df, mar_df, \"feature a\")"
   ]
  },
  {
   "cell_type": "code",
   "execution_count": 16,
   "metadata": {
    "colab": {
     "base_uri": "https://localhost:8080/",
     "height": 206
    },
    "executionInfo": {
     "elapsed": 185,
     "status": "ok",
     "timestamp": 1654210306828,
     "user": {
      "displayName": "Haw-minn Lu",
      "userId": "16109571175851064283"
     },
     "user_tz": 420
    },
    "id": "_2loK31DseV2",
    "outputId": "941a1f08-b144-413f-9a6a-8bcb97bfffb9"
   },
   "outputs": [
    {
     "data": {
      "text/html": [
       "<div>\n",
       "<style scoped>\n",
       "    .dataframe tbody tr th:only-of-type {\n",
       "        vertical-align: middle;\n",
       "    }\n",
       "\n",
       "    .dataframe tbody tr th {\n",
       "        vertical-align: top;\n",
       "    }\n",
       "\n",
       "    .dataframe thead th {\n",
       "        text-align: right;\n",
       "    }\n",
       "</style>\n",
       "<table border=\"1\" class=\"dataframe\">\n",
       "  <thead>\n",
       "    <tr style=\"text-align: right;\">\n",
       "      <th></th>\n",
       "      <th>feature a</th>\n",
       "      <th>feature b</th>\n",
       "      <th>feature c</th>\n",
       "      <th>feature d</th>\n",
       "      <th>uncorrelated</th>\n",
       "    </tr>\n",
       "  </thead>\n",
       "  <tbody>\n",
       "    <tr>\n",
       "      <th>feature a</th>\n",
       "      <td>1.645449</td>\n",
       "      <td>0.634248</td>\n",
       "      <td>1.571306</td>\n",
       "      <td>0.738141</td>\n",
       "      <td>-0.002366</td>\n",
       "    </tr>\n",
       "    <tr>\n",
       "      <th>feature b</th>\n",
       "      <td>0.634248</td>\n",
       "      <td>0.569882</td>\n",
       "      <td>0.589823</td>\n",
       "      <td>0.666099</td>\n",
       "      <td>-0.003302</td>\n",
       "    </tr>\n",
       "    <tr>\n",
       "      <th>feature c</th>\n",
       "      <td>1.571306</td>\n",
       "      <td>0.589823</td>\n",
       "      <td>1.650693</td>\n",
       "      <td>0.490209</td>\n",
       "      <td>-0.002004</td>\n",
       "    </tr>\n",
       "    <tr>\n",
       "      <th>feature d</th>\n",
       "      <td>0.738141</td>\n",
       "      <td>0.666099</td>\n",
       "      <td>0.490209</td>\n",
       "      <td>1.084064</td>\n",
       "      <td>-0.004531</td>\n",
       "    </tr>\n",
       "    <tr>\n",
       "      <th>uncorrelated</th>\n",
       "      <td>-0.002366</td>\n",
       "      <td>-0.003302</td>\n",
       "      <td>-0.002004</td>\n",
       "      <td>-0.004531</td>\n",
       "      <td>0.082964</td>\n",
       "    </tr>\n",
       "  </tbody>\n",
       "</table>\n",
       "</div>"
      ],
      "text/plain": [
       "              feature a  feature b  feature c  feature d  uncorrelated\n",
       "feature a      1.645449   0.634248   1.571306   0.738141     -0.002366\n",
       "feature b      0.634248   0.569882   0.589823   0.666099     -0.003302\n",
       "feature c      1.571306   0.589823   1.650693   0.490209     -0.002004\n",
       "feature d      0.738141   0.666099   0.490209   1.084064     -0.004531\n",
       "uncorrelated  -0.002366  -0.003302  -0.002004  -0.004531      0.082964"
      ]
     },
     "execution_count": 16,
     "metadata": {},
     "output_type": "execute_result"
    }
   ],
   "source": [
    "df.cov()"
   ]
  },
  {
   "cell_type": "code",
   "execution_count": 17,
   "metadata": {
    "colab": {
     "base_uri": "https://localhost:8080/",
     "height": 206
    },
    "executionInfo": {
     "elapsed": 7,
     "status": "ok",
     "timestamp": 1654210307739,
     "user": {
      "displayName": "Haw-minn Lu",
      "userId": "16109571175851064283"
     },
     "user_tz": 420
    },
    "id": "i-deY7jUsgEO",
    "outputId": "4519d8c1-96b4-4aac-90ca-441503114257"
   },
   "outputs": [
    {
     "data": {
      "text/html": [
       "<div>\n",
       "<style scoped>\n",
       "    .dataframe tbody tr th:only-of-type {\n",
       "        vertical-align: middle;\n",
       "    }\n",
       "\n",
       "    .dataframe tbody tr th {\n",
       "        vertical-align: top;\n",
       "    }\n",
       "\n",
       "    .dataframe thead th {\n",
       "        text-align: right;\n",
       "    }\n",
       "</style>\n",
       "<table border=\"1\" class=\"dataframe\">\n",
       "  <thead>\n",
       "    <tr style=\"text-align: right;\">\n",
       "      <th></th>\n",
       "      <th>feature a</th>\n",
       "      <th>feature b</th>\n",
       "      <th>feature c</th>\n",
       "      <th>feature d</th>\n",
       "      <th>uncorrelated</th>\n",
       "    </tr>\n",
       "  </thead>\n",
       "  <tbody>\n",
       "    <tr>\n",
       "      <th>feature a</th>\n",
       "      <td>3.085367</td>\n",
       "      <td>2.446220e+00</td>\n",
       "      <td>3.537814e+00</td>\n",
       "      <td>1.150359e+00</td>\n",
       "      <td>-9.626216e+01</td>\n",
       "    </tr>\n",
       "    <tr>\n",
       "      <th>feature b</th>\n",
       "      <td>2.446220</td>\n",
       "      <td>1.753346e-13</td>\n",
       "      <td>4.329284e-13</td>\n",
       "      <td>5.166940e-13</td>\n",
       "      <td>-1.050801e-13</td>\n",
       "    </tr>\n",
       "    <tr>\n",
       "      <th>feature c</th>\n",
       "      <td>3.537814</td>\n",
       "      <td>4.329284e-13</td>\n",
       "      <td>1.345160e-13</td>\n",
       "      <td>3.397194e-13</td>\n",
       "      <td>-1.254918e-12</td>\n",
       "    </tr>\n",
       "    <tr>\n",
       "      <th>feature d</th>\n",
       "      <td>1.150359</td>\n",
       "      <td>5.166940e-13</td>\n",
       "      <td>3.397194e-13</td>\n",
       "      <td>2.048261e-14</td>\n",
       "      <td>-6.700219e-13</td>\n",
       "    </tr>\n",
       "    <tr>\n",
       "      <th>uncorrelated</th>\n",
       "      <td>-96.262158</td>\n",
       "      <td>-1.050801e-13</td>\n",
       "      <td>-1.254918e-12</td>\n",
       "      <td>-6.700219e-13</td>\n",
       "      <td>1.672747e-14</td>\n",
       "    </tr>\n",
       "  </tbody>\n",
       "</table>\n",
       "</div>"
      ],
      "text/plain": [
       "              feature a     feature b     feature c     feature d  \\\n",
       "feature a      3.085367  2.446220e+00  3.537814e+00  1.150359e+00   \n",
       "feature b      2.446220  1.753346e-13  4.329284e-13  5.166940e-13   \n",
       "feature c      3.537814  4.329284e-13  1.345160e-13  3.397194e-13   \n",
       "feature d      1.150359  5.166940e-13  3.397194e-13  2.048261e-14   \n",
       "uncorrelated -96.262158 -1.050801e-13 -1.254918e-12 -6.700219e-13   \n",
       "\n",
       "              uncorrelated  \n",
       "feature a    -9.626216e+01  \n",
       "feature b    -1.050801e-13  \n",
       "feature c    -1.254918e-12  \n",
       "feature d    -6.700219e-13  \n",
       "uncorrelated  1.672747e-14  "
      ]
     },
     "execution_count": 17,
     "metadata": {},
     "output_type": "execute_result"
    }
   ],
   "source": [
    "(df.cov() - mar_df.cov()).abs()/df.cov()*100"
   ]
  },
  {
   "cell_type": "code",
   "execution_count": 54,
   "metadata": {},
   "outputs": [
    {
     "data": {
      "text/plain": [
       "feature a       3961\n",
       "feature b       4045\n",
       "feature c          0\n",
       "feature d          0\n",
       "uncorrelated       0\n",
       "dtype: int64"
      ]
     },
     "execution_count": 54,
     "metadata": {},
     "output_type": "execute_result"
    }
   ],
   "source": [
    "double_mar_df = clobber(mar_df, \"feature b\", 0.4, depends=['feature d'])\n",
    "\n",
    "double_mar_df.to_csv('double_mar_set.csv', index=False)\n",
    "double_mar_df.isnull().sum()"
   ]
  },
  {
   "cell_type": "markdown",
   "metadata": {
    "id": "J5vRbGy2PBnh"
   },
   "source": [
    "## $\\color{purple}{\\text{Simple MAR Test}}$\n",
    "\n",
    "The procedure is simple. For any columns with missing data, construct a new column relating to the missingness of that column"
   ]
  },
  {
   "cell_type": "code",
   "execution_count": 18,
   "metadata": {
    "executionInfo": {
     "elapsed": 183,
     "status": "ok",
     "timestamp": 1654210311122,
     "user": {
      "displayName": "Haw-minn Lu",
      "userId": "16109571175851064283"
     },
     "user_tz": 420
    },
    "id": "if4EvRoJPmdb"
   },
   "outputs": [],
   "source": [
    "test_df = mar_df.copy()"
   ]
  },
  {
   "cell_type": "code",
   "execution_count": 19,
   "metadata": {
    "executionInfo": {
     "elapsed": 180,
     "status": "ok",
     "timestamp": 1654210312320,
     "user": {
      "displayName": "Haw-minn Lu",
      "userId": "16109571175851064283"
     },
     "user_tz": 420
    },
    "id": "EqFldfrIQNg0"
   },
   "outputs": [],
   "source": [
    "test_df['missingness']=test_df['feature a'].isnull()"
   ]
  },
  {
   "cell_type": "markdown",
   "metadata": {
    "id": "MdQ2L6jfQydn"
   },
   "source": [
    "Then test to see if that new feature is \"related\" to any of the columns. If it is then the missingness mechanism is MAR. We will use the \"eyeball\" test by using correlation. There are statistically robust tests such as using Student's t-test or use logistic regression on the other features to predict the missingness, etc."
   ]
  },
  {
   "cell_type": "code",
   "execution_count": 20,
   "metadata": {
    "colab": {
     "base_uri": "https://localhost:8080/",
     "height": 238
    },
    "executionInfo": {
     "elapsed": 182,
     "status": "ok",
     "timestamp": 1654210315093,
     "user": {
      "displayName": "Haw-minn Lu",
      "userId": "16109571175851064283"
     },
     "user_tz": 420
    },
    "id": "EemPE61bQZTm",
    "outputId": "df1fdb82-f124-486c-d550-0e1551f920f3"
   },
   "outputs": [
    {
     "data": {
      "text/html": [
       "<div>\n",
       "<style scoped>\n",
       "    .dataframe tbody tr th:only-of-type {\n",
       "        vertical-align: middle;\n",
       "    }\n",
       "\n",
       "    .dataframe tbody tr th {\n",
       "        vertical-align: top;\n",
       "    }\n",
       "\n",
       "    .dataframe thead th {\n",
       "        text-align: right;\n",
       "    }\n",
       "</style>\n",
       "<table border=\"1\" class=\"dataframe\">\n",
       "  <thead>\n",
       "    <tr style=\"text-align: right;\">\n",
       "      <th></th>\n",
       "      <th>feature a</th>\n",
       "      <th>feature b</th>\n",
       "      <th>feature c</th>\n",
       "      <th>feature d</th>\n",
       "      <th>uncorrelated</th>\n",
       "      <th>missingness</th>\n",
       "    </tr>\n",
       "  </thead>\n",
       "  <tbody>\n",
       "    <tr>\n",
       "      <th>feature a</th>\n",
       "      <td>1.000000</td>\n",
       "      <td>0.652763</td>\n",
       "      <td>0.951741</td>\n",
       "      <td>0.555481</td>\n",
       "      <td>-0.012754</td>\n",
       "      <td>NaN</td>\n",
       "    </tr>\n",
       "    <tr>\n",
       "      <th>feature b</th>\n",
       "      <td>0.652763</td>\n",
       "      <td>1.000000</td>\n",
       "      <td>0.608130</td>\n",
       "      <td>0.847459</td>\n",
       "      <td>-0.015185</td>\n",
       "      <td>0.230646</td>\n",
       "    </tr>\n",
       "    <tr>\n",
       "      <th>feature c</th>\n",
       "      <td>0.951741</td>\n",
       "      <td>0.608130</td>\n",
       "      <td>1.000000</td>\n",
       "      <td>0.366455</td>\n",
       "      <td>-0.005416</td>\n",
       "      <td>0.391072</td>\n",
       "    </tr>\n",
       "    <tr>\n",
       "      <th>feature d</th>\n",
       "      <td>0.555481</td>\n",
       "      <td>0.847459</td>\n",
       "      <td>0.366455</td>\n",
       "      <td>1.000000</td>\n",
       "      <td>-0.015108</td>\n",
       "      <td>0.134442</td>\n",
       "    </tr>\n",
       "    <tr>\n",
       "      <th>uncorrelated</th>\n",
       "      <td>-0.012754</td>\n",
       "      <td>-0.015185</td>\n",
       "      <td>-0.005416</td>\n",
       "      <td>-0.015108</td>\n",
       "      <td>1.000000</td>\n",
       "      <td>0.009247</td>\n",
       "    </tr>\n",
       "    <tr>\n",
       "      <th>missingness</th>\n",
       "      <td>NaN</td>\n",
       "      <td>0.230646</td>\n",
       "      <td>0.391072</td>\n",
       "      <td>0.134442</td>\n",
       "      <td>0.009247</td>\n",
       "      <td>1.000000</td>\n",
       "    </tr>\n",
       "  </tbody>\n",
       "</table>\n",
       "</div>"
      ],
      "text/plain": [
       "              feature a  feature b  feature c  feature d  uncorrelated  \\\n",
       "feature a      1.000000   0.652763   0.951741   0.555481     -0.012754   \n",
       "feature b      0.652763   1.000000   0.608130   0.847459     -0.015185   \n",
       "feature c      0.951741   0.608130   1.000000   0.366455     -0.005416   \n",
       "feature d      0.555481   0.847459   0.366455   1.000000     -0.015108   \n",
       "uncorrelated  -0.012754  -0.015185  -0.005416  -0.015108      1.000000   \n",
       "missingness         NaN   0.230646   0.391072   0.134442      0.009247   \n",
       "\n",
       "              missingness  \n",
       "feature a             NaN  \n",
       "feature b        0.230646  \n",
       "feature c        0.391072  \n",
       "feature d        0.134442  \n",
       "uncorrelated     0.009247  \n",
       "missingness      1.000000  "
      ]
     },
     "execution_count": 20,
     "metadata": {},
     "output_type": "execute_result"
    }
   ],
   "source": [
    "test_df.corr()"
   ]
  },
  {
   "cell_type": "code",
   "execution_count": 58,
   "metadata": {},
   "outputs": [],
   "source": [
    "test_df = double_mcar_df.copy()"
   ]
  },
  {
   "cell_type": "code",
   "execution_count": 59,
   "metadata": {},
   "outputs": [
    {
     "data": {
      "text/html": [
       "<div>\n",
       "<style scoped>\n",
       "    .dataframe tbody tr th:only-of-type {\n",
       "        vertical-align: middle;\n",
       "    }\n",
       "\n",
       "    .dataframe tbody tr th {\n",
       "        vertical-align: top;\n",
       "    }\n",
       "\n",
       "    .dataframe thead th {\n",
       "        text-align: right;\n",
       "    }\n",
       "</style>\n",
       "<table border=\"1\" class=\"dataframe\">\n",
       "  <thead>\n",
       "    <tr style=\"text-align: right;\">\n",
       "      <th></th>\n",
       "      <th>feature a</th>\n",
       "      <th>feature b</th>\n",
       "      <th>feature c</th>\n",
       "      <th>feature d</th>\n",
       "      <th>uncorrelated</th>\n",
       "      <th>missingness_a</th>\n",
       "      <th>missingness_b</th>\n",
       "    </tr>\n",
       "  </thead>\n",
       "  <tbody>\n",
       "    <tr>\n",
       "      <th>feature a</th>\n",
       "      <td>1.000000</td>\n",
       "      <td>0.660166</td>\n",
       "      <td>0.953609</td>\n",
       "      <td>0.561643</td>\n",
       "      <td>-0.000647</td>\n",
       "      <td>NaN</td>\n",
       "      <td>0.008199</td>\n",
       "    </tr>\n",
       "    <tr>\n",
       "      <th>feature b</th>\n",
       "      <td>0.660166</td>\n",
       "      <td>1.000000</td>\n",
       "      <td>0.614897</td>\n",
       "      <td>0.845913</td>\n",
       "      <td>0.002864</td>\n",
       "      <td>-0.005626</td>\n",
       "      <td>NaN</td>\n",
       "    </tr>\n",
       "    <tr>\n",
       "      <th>feature c</th>\n",
       "      <td>0.953609</td>\n",
       "      <td>0.614897</td>\n",
       "      <td>1.000000</td>\n",
       "      <td>0.377547</td>\n",
       "      <td>0.008364</td>\n",
       "      <td>-0.004621</td>\n",
       "      <td>0.007811</td>\n",
       "    </tr>\n",
       "    <tr>\n",
       "      <th>feature d</th>\n",
       "      <td>0.561643</td>\n",
       "      <td>0.845913</td>\n",
       "      <td>0.377547</td>\n",
       "      <td>1.000000</td>\n",
       "      <td>-0.001936</td>\n",
       "      <td>-0.002487</td>\n",
       "      <td>0.004325</td>\n",
       "    </tr>\n",
       "    <tr>\n",
       "      <th>uncorrelated</th>\n",
       "      <td>-0.000647</td>\n",
       "      <td>0.002864</td>\n",
       "      <td>0.008364</td>\n",
       "      <td>-0.001936</td>\n",
       "      <td>1.000000</td>\n",
       "      <td>0.004491</td>\n",
       "      <td>0.001223</td>\n",
       "    </tr>\n",
       "    <tr>\n",
       "      <th>missingness_a</th>\n",
       "      <td>NaN</td>\n",
       "      <td>-0.005626</td>\n",
       "      <td>-0.004621</td>\n",
       "      <td>-0.002487</td>\n",
       "      <td>0.004491</td>\n",
       "      <td>1.000000</td>\n",
       "      <td>0.000437</td>\n",
       "    </tr>\n",
       "    <tr>\n",
       "      <th>missingness_b</th>\n",
       "      <td>0.008199</td>\n",
       "      <td>NaN</td>\n",
       "      <td>0.007811</td>\n",
       "      <td>0.004325</td>\n",
       "      <td>0.001223</td>\n",
       "      <td>0.000437</td>\n",
       "      <td>1.000000</td>\n",
       "    </tr>\n",
       "  </tbody>\n",
       "</table>\n",
       "</div>"
      ],
      "text/plain": [
       "               feature a  feature b  feature c  feature d  uncorrelated  \\\n",
       "feature a       1.000000   0.660166   0.953609   0.561643     -0.000647   \n",
       "feature b       0.660166   1.000000   0.614897   0.845913      0.002864   \n",
       "feature c       0.953609   0.614897   1.000000   0.377547      0.008364   \n",
       "feature d       0.561643   0.845913   0.377547   1.000000     -0.001936   \n",
       "uncorrelated   -0.000647   0.002864   0.008364  -0.001936      1.000000   \n",
       "missingness_a        NaN  -0.005626  -0.004621  -0.002487      0.004491   \n",
       "missingness_b   0.008199        NaN   0.007811   0.004325      0.001223   \n",
       "\n",
       "               missingness_a  missingness_b  \n",
       "feature a                NaN       0.008199  \n",
       "feature b          -0.005626            NaN  \n",
       "feature c          -0.004621       0.007811  \n",
       "feature d          -0.002487       0.004325  \n",
       "uncorrelated        0.004491       0.001223  \n",
       "missingness_a       1.000000       0.000437  \n",
       "missingness_b       0.000437       1.000000  "
      ]
     },
     "execution_count": 59,
     "metadata": {},
     "output_type": "execute_result"
    }
   ],
   "source": [
    "test_df['missingness_a']=test_df['feature a'].isnull()\n",
    "test_df['missingness_b']=test_df['feature b'].isnull()\n",
    "test_df.corr()"
   ]
  },
  {
   "cell_type": "markdown",
   "metadata": {
    "id": "Vmq94Bhdox_x"
   },
   "source": [
    "## $\\color{purple}{\\text{Poor Man's Version of Little's MCAR Test (or rather not MAR Test)}}$\n",
    "\n",
    "The test given above is a little awkward if more than one column has missing data. Originally, Little proposed the following test for MCAR. \n",
    "\n",
    "$\\color{red}{\\text ⚠}$ The code below demonstrates the simplified principle behind Little's MCAR Test but a lot of the statistical rigor has been relaxed.\n",
    "\n",
    "We adopt the \"eyeball\" test of whether statistics match or not. In principle, some statistical assumptions are made resulting in a $p$-value. In particular, Little used made normality assumptions resulting in a $\\chi^2$ distribution."
   ]
  },
  {
   "cell_type": "markdown",
   "metadata": {
    "id": "BASell68qEXh"
   },
   "source": [
    "First the observations are segregated into their various patterns. In our case, there are only two tests, observation is complete. Observation is missing \"feature a\""
   ]
  },
  {
   "cell_type": "code",
   "execution_count": null,
   "metadata": {
    "executionInfo": {
     "elapsed": 249,
     "status": "ok",
     "timestamp": 1654210317168,
     "user": {
      "displayName": "Haw-minn Lu",
      "userId": "16109571175851064283"
     },
     "user_tz": 420
    },
    "id": "CVzC1W13qLLR"
   },
   "outputs": [],
   "source": [
    "pattern1 = mar_df.dropna(subset=[\"feature a\"])\n",
    "pattern2 = mar_df[mar_df[\"feature a\"].isnull()]"
   ]
  },
  {
   "cell_type": "markdown",
   "metadata": {
    "id": "NhDCPK2sSxU2"
   },
   "source": [
    "The formal version of Little's Test uses maximum likelihood estimations to estimate statistcal features of each group and compares them. If they are statistcally the same then he declares the missingness mechanism as MCAR. \n",
    "Here we use the eyeball test"
   ]
  },
  {
   "cell_type": "code",
   "execution_count": null,
   "metadata": {
    "executionInfo": {
     "elapsed": 1,
     "status": "ok",
     "timestamp": 1654210318044,
     "user": {
      "displayName": "Haw-minn Lu",
      "userId": "16109571175851064283"
     },
     "user_tz": 420
    },
    "id": "1qHdvl0xz1K1"
   },
   "outputs": [],
   "source": [
    "pattern1 = mcar_df.dropna(subset=[\"feature a\"])\n",
    "pattern2 = mcar_df[mcar_df[\"feature a\"].isnull()]"
   ]
  },
  {
   "cell_type": "code",
   "execution_count": null,
   "metadata": {
    "colab": {
     "base_uri": "https://localhost:8080/",
     "height": 206
    },
    "executionInfo": {
     "elapsed": 7,
     "status": "ok",
     "timestamp": 1654210318261,
     "user": {
      "displayName": "Haw-minn Lu",
      "userId": "16109571175851064283"
     },
     "user_tz": 420
    },
    "id": "54hqXIEBoxJz",
    "outputId": "340db2ea-b701-4fdb-9cd0-47ce72b72cd3"
   },
   "outputs": [],
   "source": [
    "pd.concat([pattern1.mean(), pattern2.mean()], axis=\"columns\")"
   ]
  },
  {
   "cell_type": "code",
   "execution_count": null,
   "metadata": {
    "executionInfo": {
     "elapsed": 7,
     "status": "ok",
     "timestamp": 1654210318262,
     "user": {
      "displayName": "Haw-minn Lu",
      "userId": "16109571175851064283"
     },
     "user_tz": 420
    },
    "id": "zJaOEizUT7Wg"
   },
   "outputs": [],
   "source": [
    "def littles_eyeball_test(df, column):\n",
    "  pattern1 = df.dropna(subset=[column])\n",
    "  pattern2 = df[df[column].isnull()]\n",
    "  return pd.concat([pattern1.mean(), pattern2.mean()], axis=\"columns\")"
   ]
  },
  {
   "cell_type": "code",
   "execution_count": null,
   "metadata": {
    "colab": {
     "base_uri": "https://localhost:8080/",
     "height": 206
    },
    "executionInfo": {
     "elapsed": 6,
     "status": "ok",
     "timestamp": 1654210318699,
     "user": {
      "displayName": "Haw-minn Lu",
      "userId": "16109571175851064283"
     },
     "user_tz": 420
    },
    "id": "HaYhhQ5vUQpX",
    "outputId": "bbba2235-22ba-44fe-d5ba-9e8e0997fe02"
   },
   "outputs": [],
   "source": [
    "littles_eyeball_test(mar_df,'feature a')"
   ]
  },
  {
   "cell_type": "code",
   "execution_count": null,
   "metadata": {
    "colab": {
     "base_uri": "https://localhost:8080/",
     "height": 175
    },
    "executionInfo": {
     "elapsed": 5,
     "status": "ok",
     "timestamp": 1654210318882,
     "user": {
      "displayName": "Haw-minn Lu",
      "userId": "16109571175851064283"
     },
     "user_tz": 420
    },
    "id": "VMn-t4z6y8o_",
    "outputId": "8a313297-10e6-4bb4-d66e-98ba31a19a74"
   },
   "outputs": [],
   "source": [
    "pattern1.drop(columns=[\"feature a\"]).cov()"
   ]
  },
  {
   "cell_type": "code",
   "execution_count": null,
   "metadata": {
    "colab": {
     "base_uri": "https://localhost:8080/",
     "height": 175
    },
    "executionInfo": {
     "elapsed": 179,
     "status": "ok",
     "timestamp": 1654210320110,
     "user": {
      "displayName": "Haw-minn Lu",
      "userId": "16109571175851064283"
     },
     "user_tz": 420
    },
    "id": "vV29aRm9s7XM",
    "outputId": "791c817c-06c1-46d1-98ed-ebd50c99caae"
   },
   "outputs": [],
   "source": [
    "pattern2.drop(columns=[\"feature a\"]).cov()"
   ]
  },
  {
   "cell_type": "code",
   "execution_count": null,
   "metadata": {
    "colab": {
     "base_uri": "https://localhost:8080/",
     "height": 175
    },
    "executionInfo": {
     "elapsed": 6,
     "status": "ok",
     "timestamp": 1654210320798,
     "user": {
      "displayName": "Haw-minn Lu",
      "userId": "16109571175851064283"
     },
     "user_tz": 420
    },
    "id": "I1-vMknXrybH",
    "outputId": "7b55bd6c-599e-442b-ce26-7abeb318de21"
   },
   "outputs": [],
   "source": [
    "(\n",
    "    pattern1.drop(columns=[\"feature a\"]).cov()\n",
    "    - pattern2.drop(columns=[\"feature a\"]).cov()\n",
    ").abs()"
   ]
  },
  {
   "cell_type": "code",
   "execution_count": 32,
   "metadata": {
    "id": "zyueVR_3UQMn"
   },
   "outputs": [],
   "source": [
    "pattern1 = double_mar_df[double_mar_df['feature a'].isnull() & double_mar_df['feature b'].isnull()]\n",
    "pattern2 = double_mar_df[double_mar_df['feature a'].isnull() & ~double_mar_df['feature b'].isnull()]\n",
    "pattern3 = double_mar_df[~double_mar_df['feature a'].isnull() & double_mar_df['feature b'].isnull()]\n",
    "pattern4 = double_mar_df[~double_mar_df['feature a'].isnull() & ~double_mar_df['feature b'].isnull()]"
   ]
  },
  {
   "cell_type": "code",
   "execution_count": 34,
   "metadata": {},
   "outputs": [
    {
     "data": {
      "text/plain": [
       "feature a            NaN\n",
       "feature b            NaN\n",
       "feature c       3.654174\n",
       "feature d       4.515005\n",
       "uncorrelated    0.507271\n",
       "dtype: float64"
      ]
     },
     "execution_count": 34,
     "metadata": {},
     "output_type": "execute_result"
    }
   ],
   "source": [
    "pattern1.mean()"
   ]
  },
  {
   "cell_type": "code",
   "execution_count": 36,
   "metadata": {},
   "outputs": [
    {
     "data": {
      "text/plain": [
       "feature a            NaN\n",
       "feature b      -2.087032\n",
       "feature c       3.557205\n",
       "feature d       3.667919\n",
       "uncorrelated    0.507479\n",
       "dtype: float64"
      ]
     },
     "execution_count": 36,
     "metadata": {},
     "output_type": "execute_result"
    }
   ],
   "source": [
    "pattern2.mean()"
   ]
  },
  {
   "cell_type": "code",
   "execution_count": 37,
   "metadata": {},
   "outputs": [
    {
     "data": {
      "text/plain": [
       "feature a       0.768768\n",
       "feature b            NaN\n",
       "feature c       2.697769\n",
       "feature d       4.378241\n",
       "uncorrelated    0.504480\n",
       "dtype: float64"
      ]
     },
     "execution_count": 37,
     "metadata": {},
     "output_type": "execute_result"
    }
   ],
   "source": [
    "pattern3.mean()"
   ]
  },
  {
   "cell_type": "code",
   "execution_count": 38,
   "metadata": {},
   "outputs": [
    {
     "data": {
      "text/plain": [
       "feature a       0.059974\n",
       "feature b      -2.539017\n",
       "feature c       2.230655\n",
       "feature d       3.311503\n",
       "uncorrelated    0.499877\n",
       "dtype: float64"
      ]
     },
     "execution_count": 38,
     "metadata": {},
     "output_type": "execute_result"
    }
   ],
   "source": [
    "pattern4.mean()"
   ]
  },
  {
   "cell_type": "markdown",
   "metadata": {
    "id": "W56W7NVSTfqv"
   },
   "source": [
    "## $\\color{purple}{\\text{MNAR: The real painful situation}}$\n"
   ]
  },
  {
   "cell_type": "markdown",
   "metadata": {
    "id": "MIrZa7KjOwuh"
   },
   "source": [
    "### $\\color{purple}{\\text{How NOT to synthesize MNAR Missingness}}$"
   ]
  },
  {
   "cell_type": "code",
   "execution_count": null,
   "metadata": {
    "colab": {
     "base_uri": "https://localhost:8080/"
    },
    "executionInfo": {
     "elapsed": 4,
     "status": "ok",
     "timestamp": 1654210322960,
     "user": {
      "displayName": "Haw-minn Lu",
      "userId": "16109571175851064283"
     },
     "user_tz": 420
    },
    "id": "8jzpGFjLzlbM",
    "outputId": "13acbeab-f54f-4ee7-9425-669a85370956"
   },
   "outputs": [],
   "source": [
    "fmnar_df = clobber(df, \"feature a\", 0.4, depends=[\"feature a\"])\n",
    "fmnar_df[\"feature a\"].isnull().sum()"
   ]
  },
  {
   "cell_type": "code",
   "execution_count": null,
   "metadata": {
    "colab": {
     "base_uri": "https://localhost:8080/",
     "height": 143
    },
    "executionInfo": {
     "elapsed": 193,
     "status": "ok",
     "timestamp": 1654210324513,
     "user": {
      "displayName": "Haw-minn Lu",
      "userId": "16109571175851064283"
     },
     "user_tz": 420
    },
    "id": "Zo6Kgm5nzPNO",
    "outputId": "cd8e54c9-9091-4907-c7bd-6f4be6c20a7c"
   },
   "outputs": [],
   "source": [
    "stat_comparison(df, fmnar_df, \"feature a\")"
   ]
  },
  {
   "cell_type": "code",
   "execution_count": null,
   "metadata": {
    "colab": {
     "base_uri": "https://localhost:8080/",
     "height": 206
    },
    "executionInfo": {
     "elapsed": 182,
     "status": "ok",
     "timestamp": 1654210327094,
     "user": {
      "displayName": "Haw-minn Lu",
      "userId": "16109571175851064283"
     },
     "user_tz": 420
    },
    "id": "ULLlB-2zU7FD",
    "outputId": "98162217-683c-4e6a-e29f-e5cd79ebb5a7"
   },
   "outputs": [],
   "source": [
    "littles_eyeball_test(fmnar_df, 'feature a')"
   ]
  },
  {
   "cell_type": "code",
   "execution_count": null,
   "metadata": {
    "colab": {
     "base_uri": "https://localhost:8080/"
    },
    "executionInfo": {
     "elapsed": 401,
     "status": "ok",
     "timestamp": 1654210336585,
     "user": {
      "displayName": "Haw-minn Lu",
      "userId": "16109571175851064283"
     },
     "user_tz": 420
    },
    "id": "4JYTV89OzBaN",
    "outputId": "aa0fe90d-d029-4015-8465-f8c12c43d737"
   },
   "outputs": [],
   "source": [
    "mnar_df = clobber(df, \"uncorrelated\", 0.4, depends=[\"uncorrelated\"])\n",
    "\n",
    "mnar_df.to_csv('mnar_set.csv', index=False)\n",
    "mnar_df[\"uncorrelated\"].isnull().sum()"
   ]
  },
  {
   "cell_type": "code",
   "execution_count": null,
   "metadata": {
    "executionInfo": {
     "elapsed": 2,
     "status": "ok",
     "timestamp": 1654210337318,
     "user": {
      "displayName": "Haw-minn Lu",
      "userId": "16109571175851064283"
     },
     "user_tz": 420
    },
    "id": "Go6jAE2_0cU8"
   },
   "outputs": [],
   "source": [
    "pattern1 = mnar_df.dropna(subset=[\"uncorrelated\"])\n",
    "pattern2 = mnar_df[mnar_df[\"uncorrelated\"].isnull()]"
   ]
  },
  {
   "cell_type": "code",
   "execution_count": null,
   "metadata": {
    "colab": {
     "base_uri": "https://localhost:8080/",
     "height": 206
    },
    "executionInfo": {
     "elapsed": 186,
     "status": "ok",
     "timestamp": 1654205524328,
     "user": {
      "displayName": "Haw-minn Lu",
      "userId": "16109571175851064283"
     },
     "user_tz": 420
    },
    "id": "v8sH4-1PVJ2w",
    "outputId": "ed7a2b9d-a52f-428b-a962-0648bcf9b312"
   },
   "outputs": [],
   "source": [
    "littles_eyeball_test(mnar_df, 'uncorrelated')"
   ]
  },
  {
   "cell_type": "code",
   "execution_count": null,
   "metadata": {
    "colab": {
     "base_uri": "https://localhost:8080/",
     "height": 206
    },
    "executionInfo": {
     "elapsed": 217,
     "status": "ok",
     "timestamp": 1654205475189,
     "user": {
      "displayName": "Haw-minn Lu",
      "userId": "16109571175851064283"
     },
     "user_tz": 420
    },
    "id": "BPEUP2yNuW3G",
    "outputId": "e6361517-e889-4960-c32e-94ce8af310ca"
   },
   "outputs": [],
   "source": [
    "pd.concat([pattern1.mean(), pattern2.mean()], axis=\"columns\")"
   ]
  },
  {
   "cell_type": "code",
   "execution_count": null,
   "metadata": {
    "colab": {
     "base_uri": "https://localhost:8080/",
     "height": 175
    },
    "executionInfo": {
     "elapsed": 258,
     "status": "ok",
     "timestamp": 1651309592931,
     "user": {
      "displayName": "Haw-minn Lu",
      "userId": "16109571175851064283"
     },
     "user_tz": 420
    },
    "id": "EYh7wFg0t1w3",
    "outputId": "3042c470-2c1b-4747-e680-a93abe8c637a"
   },
   "outputs": [],
   "source": [
    "pattern1.drop(columns=[\"uncorrelated\"]).cov()"
   ]
  },
  {
   "cell_type": "code",
   "execution_count": null,
   "metadata": {
    "colab": {
     "base_uri": "https://localhost:8080/",
     "height": 175
    },
    "executionInfo": {
     "elapsed": 171,
     "status": "ok",
     "timestamp": 1651309608637,
     "user": {
      "displayName": "Haw-minn Lu",
      "userId": "16109571175851064283"
     },
     "user_tz": 420
    },
    "id": "S6uuM0Lw1aIL",
    "outputId": "bb659088-d459-485a-97c7-01f56a556d07"
   },
   "outputs": [],
   "source": [
    "pattern2.drop(columns=[\"uncorrelated\"]).cov()"
   ]
  },
  {
   "cell_type": "code",
   "execution_count": null,
   "metadata": {
    "colab": {
     "base_uri": "https://localhost:8080/",
     "height": 175
    },
    "executionInfo": {
     "elapsed": 14,
     "status": "ok",
     "timestamp": 1651309699372,
     "user": {
      "displayName": "Haw-minn Lu",
      "userId": "16109571175851064283"
     },
     "user_tz": 420
    },
    "id": "e12nOYCQ1lgy",
    "outputId": "c5044a32-c569-4e1d-fe76-7544ef1e997e"
   },
   "outputs": [],
   "source": [
    "(\n",
    "    pattern1.drop(columns=[\"uncorrelated\"]).cov()\n",
    "    - pattern2.drop(columns=[\"uncorrelated\"]).cov()\n",
    ")"
   ]
  },
  {
   "cell_type": "code",
   "execution_count": null,
   "metadata": {
    "colab": {
     "base_uri": "https://localhost:8080/",
     "height": 238
    },
    "executionInfo": {
     "elapsed": 187,
     "status": "ok",
     "timestamp": 1651295586355,
     "user": {
      "displayName": "Haw-minn Lu",
      "userId": "16109571175851064283"
     },
     "user_tz": 420
    },
    "id": "-iY5BPfJ2BVE",
    "outputId": "548a309f-d35d-45bf-d233-ff878212a8f0"
   },
   "outputs": [],
   "source": [
    "fmnar_df.corr()"
   ]
  },
  {
   "cell_type": "markdown",
   "metadata": {
    "id": "IoHIBEteF04C"
   },
   "source": []
  },
  {
   "cell_type": "markdown",
   "metadata": {
    "id": "sgzuGawv9dxu"
   },
   "source": []
  },
  {
   "cell_type": "code",
   "execution_count": null,
   "metadata": {
    "id": "uKVI6Ks6lASt"
   },
   "outputs": [],
   "source": [
    "from sklearn.covariance import EmpiricalCovariance"
   ]
  },
  {
   "cell_type": "code",
   "execution_count": null,
   "metadata": {
    "colab": {
     "base_uri": "https://localhost:8080/"
    },
    "executionInfo": {
     "elapsed": 201,
     "status": "ok",
     "timestamp": 1651302557042,
     "user": {
      "displayName": "Haw-minn Lu",
      "userId": "16109571175851064283"
     },
     "user_tz": 420
    },
    "id": "hJB1x8DIlD3k",
    "outputId": "199a4a71-b149-4397-8037-f4e2fc059583"
   },
   "outputs": [],
   "source": [
    "mcar_df.mean()"
   ]
  },
  {
   "cell_type": "code",
   "execution_count": null,
   "metadata": {
    "colab": {
     "base_uri": "https://localhost:8080/"
    },
    "executionInfo": {
     "elapsed": 222,
     "status": "ok",
     "timestamp": 1651302552049,
     "user": {
      "displayName": "Haw-minn Lu",
      "userId": "16109571175851064283"
     },
     "user_tz": 420
    },
    "id": "7ZZQXg82lEgW",
    "outputId": "821ce4df-119b-451f-84c2-9ac91ff4a889"
   },
   "outputs": [],
   "source": [
    "mcar_df.dropna().mean()"
   ]
  },
  {
   "cell_type": "code",
   "execution_count": null,
   "metadata": {
    "colab": {
     "base_uri": "https://localhost:8080/"
    },
    "executionInfo": {
     "elapsed": 217,
     "status": "ok",
     "timestamp": 1651302649454,
     "user": {
      "displayName": "Haw-minn Lu",
      "userId": "16109571175851064283"
     },
     "user_tz": 420
    },
    "id": "Iy0fRo2YTXVF",
    "outputId": "ed031b94-4ec5-4c96-9697-f4381f8a5947"
   },
   "outputs": [],
   "source": [
    "mcar_df[mcar_df[\"feature a\"].isnull()].mean()"
   ]
  },
  {
   "cell_type": "code",
   "execution_count": null,
   "metadata": {
    "colab": {
     "base_uri": "https://localhost:8080/"
    },
    "executionInfo": {
     "elapsed": 209,
     "status": "ok",
     "timestamp": 1651302410166,
     "user": {
      "displayName": "Haw-minn Lu",
      "userId": "16109571175851064283"
     },
     "user_tz": 420
    },
    "id": "CHpIl1-dlN4d",
    "outputId": "c755ca8e-a5cb-4be4-bf08-1094dbe6f599"
   },
   "outputs": [],
   "source": [
    "mar_df.dropna().mean()"
   ]
  },
  {
   "cell_type": "code",
   "execution_count": null,
   "metadata": {
    "colab": {
     "base_uri": "https://localhost:8080/"
    },
    "executionInfo": {
     "elapsed": 155,
     "status": "ok",
     "timestamp": 1651302478623,
     "user": {
      "displayName": "Haw-minn Lu",
      "userId": "16109571175851064283"
     },
     "user_tz": 420
    },
    "id": "j7Phhtt6lOYr",
    "outputId": "329860d8-4d66-4259-ac68-60ef80ee98c4"
   },
   "outputs": [],
   "source": [
    "mar_df.mean()"
   ]
  },
  {
   "cell_type": "code",
   "execution_count": null,
   "metadata": {
    "colab": {
     "base_uri": "https://localhost:8080/"
    },
    "executionInfo": {
     "elapsed": 285,
     "status": "ok",
     "timestamp": 1651302509298,
     "user": {
      "displayName": "Haw-minn Lu",
      "userId": "16109571175851064283"
     },
     "user_tz": 420
    },
    "id": "w3PcA1lmlYBD",
    "outputId": "a4df85d6-d009-46bd-9ff3-352020dc8143"
   },
   "outputs": [],
   "source": [
    "mar_df[mar_df[\"feature a\"].isnull()].mean()"
   ]
  },
  {
   "cell_type": "code",
   "execution_count": null,
   "metadata": {
    "colab": {
     "base_uri": "https://localhost:8080/",
     "height": 38
    },
    "executionInfo": {
     "elapsed": 175,
     "status": "ok",
     "timestamp": 1651122920379,
     "user": {
      "displayName": "Haw-minn Lu",
      "userId": "16109571175851064283"
     },
     "user_tz": 420
    },
    "id": "TVxmiyNylx7r",
    "outputId": "22fd0d32-1acf-4126-d649-3e88198c2f33"
   },
   "outputs": [],
   "source": []
  },
  {
   "cell_type": "markdown",
   "metadata": {
    "id": "mHr5KNxKWE7V"
   },
   "source": [
    "Conclusion on the Theory Section\n",
    "\n",
    "*   There is no way from just the data itself to distinguish between MCAR and MNAR. \n",
    "\n",
    "*   The so-called MCAR tests are really \"not MAR\" tests\n",
    "  * Most those tests assume you have already excluded MNAR\n",
    "* Recommend if the missingness is not MAR assume the worst and treat it as MNAR.\n",
    "* If missingness is MAR, you should use multivariate imputation not deletion.\n",
    "* Be careful synthesizing NMAR missingness for benchmarking\n"
   ]
  }
 ],
 "metadata": {
  "celltoolbar": "Tags",
  "colab": {
   "collapsed_sections": [],
   "name": "1-Deeper Dive into Missingness Mechanisms.ipynb",
   "provenance": [
    {
     "file_id": "147R7Q0ENB8T3VuWNvb_JVzLUW967tWTz",
     "timestamp": 1651305625803
    }
   ]
  },
  "kernelspec": {
   "display_name": "Python 3 (ipykernel)",
   "language": "python",
   "name": "python3"
  },
  "language_info": {
   "codemirror_mode": {
    "name": "ipython",
    "version": 3
   },
   "file_extension": ".py",
   "mimetype": "text/x-python",
   "name": "python",
   "nbconvert_exporter": "python",
   "pygments_lexer": "ipython3",
   "version": "3.9.7"
  }
 },
 "nbformat": 4,
 "nbformat_minor": 1
}
