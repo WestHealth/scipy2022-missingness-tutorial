{
 "cells": [
  {
   "cell_type": "markdown",
   "metadata": {
    "id": "IcWr96v59sU8"
   },
   "source": [
    "# $\\color{purple}{\\text{Understanding Missing Data and How to Deal with It (Part 2)}}$"
   ]
  },
  {
   "cell_type": "markdown",
   "metadata": {
    "tags": [
     "colab"
    ]
   },
   "source": [
    "### $\\color{purple}{\\text{Colab Environmental Setup}}$"
   ]
  },
  {
   "cell_type": "raw",
   "metadata": {
    "tags": [
     "colab"
    ]
   },
   "source": [
    "from google.colab import drive\n",
    "import os\n",
    "drive.mount('/content/drive')\n",
    "os.chdir('/content/drive/My Drive/missingness_tutorial')"
   ]
  },
  {
   "cell_type": "markdown",
   "metadata": {},
   "source": [
    "### $\\color{purple}{\\text{Libraries for this lesson}}$"
   ]
  },
  {
   "cell_type": "code",
   "execution_count": 1,
   "metadata": {
    "executionInfo": {
     "elapsed": 177,
     "status": "ok",
     "timestamp": 1654210166360,
     "user": {
      "displayName": "Haw-minn Lu",
      "userId": "16109571175851064283"
     },
     "user_tz": 420
    },
    "id": "AjbBlydaP97E"
   },
   "outputs": [],
   "source": [
    "import numpy as np\n",
    "import pandas as pd"
   ]
  },
  {
   "cell_type": "markdown",
   "metadata": {
    "id": "qFTeZP_Q_VPd"
   },
   "source": [
    "## $\\color{purple}{\\text{Setting Up Test Data}}$\n",
    "\n",
    "$\\color{red}{\\Large{\\text{ ⚠}}}$ We synthensize a statiscally controlled example to more clearly illustrate the concepts. This dataset will satisfy the normality condition set forth in many of the statistical assumptions. These may not carry over to your datasets.\n",
    "\n",
    "We will cause missingness in approximately 20% of the observations. This may (hopefully) be more that you will experience, but this high proportion will amplify effects such as bias.\n",
    "\n",
    "`observations` will be the size of our test set. The covariance matrix `cov` supplied shows some nice characteristics with two highly correlated features. But you can generate a completely random covariance matrix using the following:\n",
    "```\n",
    "A = np.random.rand(variables, row_size)\n",
    "cov = np.dot(A, A.transpose())\n",
    "```\n",
    "where `variables` is the number of variables and `row_size` is any number greater thanor equal to `variables` to insure a positive semidefinite matrix.\n",
    "\n",
    "We selected a `mean` to be taken from an normal distribution with a mean between 1 and 5 and a standard deviation between 0 and 5.\n",
    "\n",
    "This dataset will serve as one of the major datasets for this and subsequent notebooks."
   ]
  },
  {
   "cell_type": "code",
   "execution_count": 2,
   "metadata": {
    "executionInfo": {
     "elapsed": 186,
     "status": "ok",
     "timestamp": 1654210167452,
     "user": {
      "displayName": "Haw-minn Lu",
      "userId": "16109571175851064283"
     },
     "user_tz": 420
    },
    "id": "0gi0Vfz3QNMh"
   },
   "outputs": [
    {
     "data": {
      "text/plain": [
       "array([2.22612584, 3.68112922, 3.57906565, 3.57187154])"
      ]
     },
     "execution_count": 2,
     "metadata": {},
     "output_type": "execute_result"
    }
   ],
   "source": [
    "# This covariance matrix has some nice properties to demonstrate. Originally this was generated at random\n",
    "cov = [\n",
    "    [1.6545195264181267, 0.6346001403246381, 1.573255077832285, 0.7457615955325402],\n",
    "    [0.6346001403246381, 0.5636389213610075, 0.5861890592085826, 0.6638139531999303],\n",
    "    [1.573255077832285, 0.5861890592085826, 1.6461885333121087, 0.4916921086792136],\n",
    "    [0.7457615955325402, 0.6638139531999303, 0.4916921086792136, 1.0900299890979697],\n",
    "]\n",
    "mean = np.random.normal(np.random.uniform(low=1, high=5), np.random.uniform(high=5), 4)\n",
    "mean"
   ]
  },
  {
   "cell_type": "markdown",
   "metadata": {
    "id": "uY6_V9KAw1IW"
   },
   "source": [
    "List the covariance matrix and compare to the original. \n",
    "This is only important to insure the number of observations selected is sufficient to give the right characteristics."
   ]
  },
  {
   "cell_type": "code",
   "execution_count": 3,
   "metadata": {
    "colab": {
     "base_uri": "https://localhost:8080/",
     "height": 175
    },
    "executionInfo": {
     "elapsed": 171,
     "status": "ok",
     "timestamp": 1654210274317,
     "user": {
      "displayName": "Haw-minn Lu",
      "userId": "16109571175851064283"
     },
     "user_tz": 420
    },
    "id": "wvvEfIz-QBFY",
    "outputId": "9e4edddb-046f-4191-d402-7708c4aadbae"
   },
   "outputs": [
    {
     "data": {
      "text/html": [
       "<div>\n",
       "<style scoped>\n",
       "    .dataframe tbody tr th:only-of-type {\n",
       "        vertical-align: middle;\n",
       "    }\n",
       "\n",
       "    .dataframe tbody tr th {\n",
       "        vertical-align: top;\n",
       "    }\n",
       "\n",
       "    .dataframe thead th {\n",
       "        text-align: right;\n",
       "    }\n",
       "</style>\n",
       "<table border=\"1\" class=\"dataframe\">\n",
       "  <thead>\n",
       "    <tr style=\"text-align: right;\">\n",
       "      <th></th>\n",
       "      <th>feature a</th>\n",
       "      <th>feature b</th>\n",
       "      <th>feature c</th>\n",
       "      <th>feature d</th>\n",
       "    </tr>\n",
       "  </thead>\n",
       "  <tbody>\n",
       "    <tr>\n",
       "      <th>feature a</th>\n",
       "      <td>1.633559</td>\n",
       "      <td>0.625852</td>\n",
       "      <td>1.553296</td>\n",
       "      <td>0.735798</td>\n",
       "    </tr>\n",
       "    <tr>\n",
       "      <th>feature b</th>\n",
       "      <td>0.625852</td>\n",
       "      <td>0.560295</td>\n",
       "      <td>0.576702</td>\n",
       "      <td>0.660979</td>\n",
       "    </tr>\n",
       "    <tr>\n",
       "      <th>feature c</th>\n",
       "      <td>1.553296</td>\n",
       "      <td>0.576702</td>\n",
       "      <td>1.624997</td>\n",
       "      <td>0.483581</td>\n",
       "    </tr>\n",
       "    <tr>\n",
       "      <th>feature d</th>\n",
       "      <td>0.735798</td>\n",
       "      <td>0.660979</td>\n",
       "      <td>0.483581</td>\n",
       "      <td>1.084855</td>\n",
       "    </tr>\n",
       "  </tbody>\n",
       "</table>\n",
       "</div>"
      ],
      "text/plain": [
       "           feature a  feature b  feature c  feature d\n",
       "feature a   1.633559   0.625852   1.553296   0.735798\n",
       "feature b   0.625852   0.560295   0.576702   0.660979\n",
       "feature c   1.553296   0.576702   1.624997   0.483581\n",
       "feature d   0.735798   0.660979   0.483581   1.084855"
      ]
     },
     "execution_count": 3,
     "metadata": {},
     "output_type": "execute_result"
    }
   ],
   "source": [
    "observations = 20000\n",
    "df = pd.DataFrame(\n",
    "    np.random.multivariate_normal(mean, cov, size=observations),\n",
    "    columns=[\"feature a\", \"feature b\", \"feature c\", \"feature d\"],\n",
    ")\n",
    "df.cov()"
   ]
  },
  {
   "cell_type": "markdown",
   "metadata": {
    "id": "JL2-GxfbxYxe"
   },
   "source": [
    "Now we add one variable that is completely uncorrelated with the other features and show the correlation matrix to confirm. We'll save this dataset off for later use."
   ]
  },
  {
   "cell_type": "code",
   "execution_count": 4,
   "metadata": {
    "executionInfo": {
     "elapsed": 440,
     "status": "ok",
     "timestamp": 1654210275954,
     "user": {
      "displayName": "Haw-minn Lu",
      "userId": "16109571175851064283"
     },
     "user_tz": 420
    },
    "id": "FjAlEhf2RCUw"
   },
   "outputs": [],
   "source": [
    "df[\"uncorrelated\"] = np.random.rand(observations)\n",
    "df.to_csv('full_set.csv', index=False)"
   ]
  },
  {
   "cell_type": "code",
   "execution_count": 5,
   "metadata": {
    "colab": {
     "base_uri": "https://localhost:8080/",
     "height": 206
    },
    "executionInfo": {
     "elapsed": 191,
     "status": "ok",
     "timestamp": 1654210277357,
     "user": {
      "displayName": "Haw-minn Lu",
      "userId": "16109571175851064283"
     },
     "user_tz": 420
    },
    "id": "Wg2zYRxQRT6o",
    "outputId": "8da665ed-9055-44d4-8224-bd722fd79a8a",
    "tags": [
     "master"
    ]
   },
   "outputs": [
    {
     "data": {
      "text/html": [
       "<div>\n",
       "<style scoped>\n",
       "    .dataframe tbody tr th:only-of-type {\n",
       "        vertical-align: middle;\n",
       "    }\n",
       "\n",
       "    .dataframe tbody tr th {\n",
       "        vertical-align: top;\n",
       "    }\n",
       "\n",
       "    .dataframe thead th {\n",
       "        text-align: right;\n",
       "    }\n",
       "</style>\n",
       "<table border=\"1\" class=\"dataframe\">\n",
       "  <thead>\n",
       "    <tr style=\"text-align: right;\">\n",
       "      <th></th>\n",
       "      <th>feature a</th>\n",
       "      <th>feature b</th>\n",
       "      <th>feature c</th>\n",
       "      <th>feature d</th>\n",
       "      <th>uncorrelated</th>\n",
       "    </tr>\n",
       "  </thead>\n",
       "  <tbody>\n",
       "    <tr>\n",
       "      <th>feature a</th>\n",
       "      <td>1.000000</td>\n",
       "      <td>0.654178</td>\n",
       "      <td>0.953368</td>\n",
       "      <td>0.552720</td>\n",
       "      <td>0.004156</td>\n",
       "    </tr>\n",
       "    <tr>\n",
       "      <th>feature b</th>\n",
       "      <td>0.654178</td>\n",
       "      <td>1.000000</td>\n",
       "      <td>0.604390</td>\n",
       "      <td>0.847800</td>\n",
       "      <td>-0.009361</td>\n",
       "    </tr>\n",
       "    <tr>\n",
       "      <th>feature c</th>\n",
       "      <td>0.953368</td>\n",
       "      <td>0.604390</td>\n",
       "      <td>1.000000</td>\n",
       "      <td>0.364214</td>\n",
       "      <td>0.001700</td>\n",
       "    </tr>\n",
       "    <tr>\n",
       "      <th>feature d</th>\n",
       "      <td>0.552720</td>\n",
       "      <td>0.847800</td>\n",
       "      <td>0.364214</td>\n",
       "      <td>1.000000</td>\n",
       "      <td>-0.006177</td>\n",
       "    </tr>\n",
       "    <tr>\n",
       "      <th>uncorrelated</th>\n",
       "      <td>0.004156</td>\n",
       "      <td>-0.009361</td>\n",
       "      <td>0.001700</td>\n",
       "      <td>-0.006177</td>\n",
       "      <td>1.000000</td>\n",
       "    </tr>\n",
       "  </tbody>\n",
       "</table>\n",
       "</div>"
      ],
      "text/plain": [
       "              feature a  feature b  feature c  feature d  uncorrelated\n",
       "feature a      1.000000   0.654178   0.953368   0.552720      0.004156\n",
       "feature b      0.654178   1.000000   0.604390   0.847800     -0.009361\n",
       "feature c      0.953368   0.604390   1.000000   0.364214      0.001700\n",
       "feature d      0.552720   0.847800   0.364214   1.000000     -0.006177\n",
       "uncorrelated   0.004156  -0.009361   0.001700  -0.006177      1.000000"
      ]
     },
     "execution_count": 5,
     "metadata": {},
     "output_type": "execute_result"
    }
   ],
   "source": [
    "df.corr()"
   ]
  },
  {
   "cell_type": "markdown",
   "metadata": {},
   "source": [
    "Add two helper functions that will be universally useful. I've added these to `helpers.py` for use by later notebooks"
   ]
  },
  {
   "cell_type": "markdown",
   "metadata": {},
   "source": [
    "<font color='red'>need docstrings in functions and more explanation of what function does </font> "
   ]
  },
  {
   "cell_type": "code",
   "execution_count": 6,
   "metadata": {
    "executionInfo": {
     "elapsed": 2,
     "status": "ok",
     "timestamp": 1654210278090,
     "user": {
      "displayName": "Haw-minn Lu",
      "userId": "16109571175851064283"
     },
     "user_tz": 420
    },
    "id": "Mh5-y5musg4i"
   },
   "outputs": [],
   "source": [
    "# A function to cause missingness in a given column optionally\n",
    "def clobber(df, column, probability, depends=[]):\n",
    "    clob = df[column] == df[column]  # Always True\n",
    "    for dep_column in depends:\n",
    "        clob &= df[dep_column] > df[dep_column].median()\n",
    "    clob *= probability\n",
    "    rand = np.random.uniform(0, 1, size=len(clob))\n",
    "    ret = df.copy()  # We copy to avoid clobbering the original\n",
    "    ret[column] = np.where(clob < rand, df[column], np.nan)\n",
    "    return ret"
   ]
  },
  {
   "cell_type": "markdown",
   "metadata": {},
   "source": [
    "<font color='red'>need docstrings in functions</font> "
   ]
  },
  {
   "cell_type": "code",
   "execution_count": 7,
   "metadata": {
    "executionInfo": {
     "elapsed": 1,
     "status": "ok",
     "timestamp": 1654210278950,
     "user": {
      "displayName": "Haw-minn Lu",
      "userId": "16109571175851064283"
     },
     "user_tz": 420
    },
    "id": "iZclVS9ulNRS"
   },
   "outputs": [],
   "source": [
    "def stat_comparison(original, missing, column):\n",
    "    df = pd.DataFrame.from_dict(\n",
    "        dict(\n",
    "            mean=[original[column].mean(), missing[column].mean()],\n",
    "            median=[original[column].median(), missing[column].median()],\n",
    "            stdev=[original[column].std(), missing[column].std()],\n",
    "        ),\n",
    "        orient=\"index\",\n",
    "        columns=[\"Original\", \"With Missing Data\"],\n",
    "    )\n",
    "    df[\"difference\"] = (df[\"Original\"] - df[\"With Missing Data\"]).abs()\n",
    "    df[\"percentage\"] = df[\"difference\"] / df[\"Original\"] * 100\n",
    "    return df"
   ]
  },
  {
   "cell_type": "markdown",
   "metadata": {
    "id": "aA1H16X5i9Gu"
   },
   "source": [
    "## $\\color{purple}{\\text{MCAR and MAR Data Set}}$\n",
    "In this subsection, we will induce missingness to the dataset we just constructed. This will enable demonstrations of missingness mechanism tests as well as to demonstrate treatment techniques in subsequent notebooks"
   ]
  },
  {
   "cell_type": "markdown",
   "metadata": {},
   "source": [
    "### $\\color{purple}{\\text{MCAR}}$\n",
    "We induce MCAR missingness in one and two columns then save off the files for later use"
   ]
  },
  {
   "cell_type": "code",
   "execution_count": 8,
   "metadata": {
    "colab": {
     "base_uri": "https://localhost:8080/"
    },
    "executionInfo": {
     "elapsed": 400,
     "status": "ok",
     "timestamp": 1654210293212,
     "user": {
      "displayName": "Haw-minn Lu",
      "userId": "16109571175851064283"
     },
     "user_tz": 420
    },
    "id": "D_zmd2jAkj3-",
    "outputId": "d79d564b-8c46-41f8-a1d3-54b3cb9e422f"
   },
   "outputs": [
    {
     "data": {
      "text/plain": [
       "4040"
      ]
     },
     "execution_count": 8,
     "metadata": {},
     "output_type": "execute_result"
    }
   ],
   "source": [
    "mcar_df = clobber(df, \"feature a\", 0.2)\n",
    "\n",
    "mcar_df.to_csv('mcar_set.csv', index=False)\n",
    "mcar_df[\"feature a\"].isnull().sum()"
   ]
  },
  {
   "cell_type": "code",
   "execution_count": 9,
   "metadata": {
    "colab": {
     "base_uri": "https://localhost:8080/",
     "height": 143
    },
    "executionInfo": {
     "elapsed": 4,
     "status": "ok",
     "timestamp": 1654210293598,
     "user": {
      "displayName": "Haw-minn Lu",
      "userId": "16109571175851064283"
     },
     "user_tz": 420
    },
    "id": "JERGhxH1kuhE",
    "outputId": "1ef75aa8-1403-49bf-beee-96f7ce05bb61"
   },
   "outputs": [
    {
     "data": {
      "text/html": [
       "<div>\n",
       "<style scoped>\n",
       "    .dataframe tbody tr th:only-of-type {\n",
       "        vertical-align: middle;\n",
       "    }\n",
       "\n",
       "    .dataframe tbody tr th {\n",
       "        vertical-align: top;\n",
       "    }\n",
       "\n",
       "    .dataframe thead th {\n",
       "        text-align: right;\n",
       "    }\n",
       "</style>\n",
       "<table border=\"1\" class=\"dataframe\">\n",
       "  <thead>\n",
       "    <tr style=\"text-align: right;\">\n",
       "      <th></th>\n",
       "      <th>Original</th>\n",
       "      <th>With Missing Data</th>\n",
       "      <th>difference</th>\n",
       "      <th>percentage</th>\n",
       "    </tr>\n",
       "  </thead>\n",
       "  <tbody>\n",
       "    <tr>\n",
       "      <th>mean</th>\n",
       "      <td>2.225971</td>\n",
       "      <td>2.224831</td>\n",
       "      <td>0.001140</td>\n",
       "      <td>0.051214</td>\n",
       "    </tr>\n",
       "    <tr>\n",
       "      <th>median</th>\n",
       "      <td>2.223995</td>\n",
       "      <td>2.221182</td>\n",
       "      <td>0.002813</td>\n",
       "      <td>0.126502</td>\n",
       "    </tr>\n",
       "    <tr>\n",
       "      <th>stdev</th>\n",
       "      <td>1.278108</td>\n",
       "      <td>1.278788</td>\n",
       "      <td>0.000681</td>\n",
       "      <td>0.053250</td>\n",
       "    </tr>\n",
       "  </tbody>\n",
       "</table>\n",
       "</div>"
      ],
      "text/plain": [
       "        Original  With Missing Data  difference  percentage\n",
       "mean    2.225971           2.224831    0.001140    0.051214\n",
       "median  2.223995           2.221182    0.002813    0.126502\n",
       "stdev   1.278108           1.278788    0.000681    0.053250"
      ]
     },
     "execution_count": 9,
     "metadata": {},
     "output_type": "execute_result"
    }
   ],
   "source": [
    "stat_comparison(df, mcar_df, \"feature a\")"
   ]
  },
  {
   "cell_type": "code",
   "execution_count": 10,
   "metadata": {
    "colab": {
     "base_uri": "https://localhost:8080/",
     "height": 206
    },
    "executionInfo": {
     "elapsed": 182,
     "status": "ok",
     "timestamp": 1654210294563,
     "user": {
      "displayName": "Haw-minn Lu",
      "userId": "16109571175851064283"
     },
     "user_tz": 420
    },
    "id": "UulFZyscsOa3",
    "outputId": "b97d9944-c3ff-4fb0-e630-45610864edbd"
   },
   "outputs": [
    {
     "data": {
      "text/html": [
       "<div>\n",
       "<style scoped>\n",
       "    .dataframe tbody tr th:only-of-type {\n",
       "        vertical-align: middle;\n",
       "    }\n",
       "\n",
       "    .dataframe tbody tr th {\n",
       "        vertical-align: top;\n",
       "    }\n",
       "\n",
       "    .dataframe thead th {\n",
       "        text-align: right;\n",
       "    }\n",
       "</style>\n",
       "<table border=\"1\" class=\"dataframe\">\n",
       "  <thead>\n",
       "    <tr style=\"text-align: right;\">\n",
       "      <th></th>\n",
       "      <th>feature a</th>\n",
       "      <th>feature b</th>\n",
       "      <th>feature c</th>\n",
       "      <th>feature d</th>\n",
       "      <th>uncorrelated</th>\n",
       "    </tr>\n",
       "  </thead>\n",
       "  <tbody>\n",
       "    <tr>\n",
       "      <th>feature a</th>\n",
       "      <td>1.635299</td>\n",
       "      <td>0.627553</td>\n",
       "      <td>1.555728</td>\n",
       "      <td>0.737193</td>\n",
       "      <td>0.001880</td>\n",
       "    </tr>\n",
       "    <tr>\n",
       "      <th>feature b</th>\n",
       "      <td>0.627553</td>\n",
       "      <td>0.560295</td>\n",
       "      <td>0.576702</td>\n",
       "      <td>0.660979</td>\n",
       "      <td>-0.002024</td>\n",
       "    </tr>\n",
       "    <tr>\n",
       "      <th>feature c</th>\n",
       "      <td>1.555728</td>\n",
       "      <td>0.576702</td>\n",
       "      <td>1.624997</td>\n",
       "      <td>0.483581</td>\n",
       "      <td>0.000626</td>\n",
       "    </tr>\n",
       "    <tr>\n",
       "      <th>feature d</th>\n",
       "      <td>0.737193</td>\n",
       "      <td>0.660979</td>\n",
       "      <td>0.483581</td>\n",
       "      <td>1.084855</td>\n",
       "      <td>-0.001858</td>\n",
       "    </tr>\n",
       "    <tr>\n",
       "      <th>uncorrelated</th>\n",
       "      <td>0.001880</td>\n",
       "      <td>-0.002024</td>\n",
       "      <td>0.000626</td>\n",
       "      <td>-0.001858</td>\n",
       "      <td>0.083437</td>\n",
       "    </tr>\n",
       "  </tbody>\n",
       "</table>\n",
       "</div>"
      ],
      "text/plain": [
       "              feature a  feature b  feature c  feature d  uncorrelated\n",
       "feature a      1.635299   0.627553   1.555728   0.737193      0.001880\n",
       "feature b      0.627553   0.560295   0.576702   0.660979     -0.002024\n",
       "feature c      1.555728   0.576702   1.624997   0.483581      0.000626\n",
       "feature d      0.737193   0.660979   0.483581   1.084855     -0.001858\n",
       "uncorrelated   0.001880  -0.002024   0.000626  -0.001858      0.083437"
      ]
     },
     "execution_count": 10,
     "metadata": {},
     "output_type": "execute_result"
    }
   ],
   "source": [
    "mcar_df.cov()"
   ]
  },
  {
   "cell_type": "markdown",
   "metadata": {},
   "source": [
    "<font color='red'> please explain what the following cell is computing </font> "
   ]
  },
  {
   "cell_type": "code",
   "execution_count": 11,
   "metadata": {
    "colab": {
     "base_uri": "https://localhost:8080/",
     "height": 206
    },
    "executionInfo": {
     "elapsed": 187,
     "status": "ok",
     "timestamp": 1654210295598,
     "user": {
      "displayName": "Haw-minn Lu",
      "userId": "16109571175851064283"
     },
     "user_tz": 420
    },
    "id": "R_1FmxbTsRt1",
    "outputId": "5c1471e5-0fda-4bf0-b5e9-8d3b7a04e108",
    "tags": [
     "master"
    ]
   },
   "outputs": [
    {
     "data": {
      "text/html": [
       "<div>\n",
       "<style scoped>\n",
       "    .dataframe tbody tr th:only-of-type {\n",
       "        vertical-align: middle;\n",
       "    }\n",
       "\n",
       "    .dataframe tbody tr th {\n",
       "        vertical-align: top;\n",
       "    }\n",
       "\n",
       "    .dataframe thead th {\n",
       "        text-align: right;\n",
       "    }\n",
       "</style>\n",
       "<table border=\"1\" class=\"dataframe\">\n",
       "  <thead>\n",
       "    <tr style=\"text-align: right;\">\n",
       "      <th></th>\n",
       "      <th>feature a</th>\n",
       "      <th>feature b</th>\n",
       "      <th>feature c</th>\n",
       "      <th>feature d</th>\n",
       "      <th>uncorrelated</th>\n",
       "    </tr>\n",
       "  </thead>\n",
       "  <tbody>\n",
       "    <tr>\n",
       "      <th>feature a</th>\n",
       "      <td>0.106528</td>\n",
       "      <td>2.717151e-01</td>\n",
       "      <td>1.565769e-01</td>\n",
       "      <td>1.895896e-01</td>\n",
       "      <td>2.250525e+01</td>\n",
       "    </tr>\n",
       "    <tr>\n",
       "      <th>feature b</th>\n",
       "      <td>0.271715</td>\n",
       "      <td>5.548193e-13</td>\n",
       "      <td>3.465222e-13</td>\n",
       "      <td>3.527294e-13</td>\n",
       "      <td>-3.214156e-13</td>\n",
       "    </tr>\n",
       "    <tr>\n",
       "      <th>feature c</th>\n",
       "      <td>0.156577</td>\n",
       "      <td>3.465222e-13</td>\n",
       "      <td>1.776360e-13</td>\n",
       "      <td>1.492294e-13</td>\n",
       "      <td>3.930611e-12</td>\n",
       "    </tr>\n",
       "    <tr>\n",
       "      <th>feature d</th>\n",
       "      <td>0.189590</td>\n",
       "      <td>3.527294e-13</td>\n",
       "      <td>1.492294e-13</td>\n",
       "      <td>5.730948e-13</td>\n",
       "      <td>-1.516808e-13</td>\n",
       "    </tr>\n",
       "    <tr>\n",
       "      <th>uncorrelated</th>\n",
       "      <td>22.505254</td>\n",
       "      <td>-3.214156e-13</td>\n",
       "      <td>3.930611e-12</td>\n",
       "      <td>-1.516808e-13</td>\n",
       "      <td>4.324473e-13</td>\n",
       "    </tr>\n",
       "  </tbody>\n",
       "</table>\n",
       "</div>"
      ],
      "text/plain": [
       "              feature a     feature b     feature c     feature d  \\\n",
       "feature a      0.106528  2.717151e-01  1.565769e-01  1.895896e-01   \n",
       "feature b      0.271715  5.548193e-13  3.465222e-13  3.527294e-13   \n",
       "feature c      0.156577  3.465222e-13  1.776360e-13  1.492294e-13   \n",
       "feature d      0.189590  3.527294e-13  1.492294e-13  5.730948e-13   \n",
       "uncorrelated  22.505254 -3.214156e-13  3.930611e-12 -1.516808e-13   \n",
       "\n",
       "              uncorrelated  \n",
       "feature a     2.250525e+01  \n",
       "feature b    -3.214156e-13  \n",
       "feature c     3.930611e-12  \n",
       "feature d    -1.516808e-13  \n",
       "uncorrelated  4.324473e-13  "
      ]
     },
     "execution_count": 11,
     "metadata": {},
     "output_type": "execute_result"
    }
   ],
   "source": [
    "(df.cov() - mcar_df.cov()).abs()/df.cov()*100"
   ]
  },
  {
   "cell_type": "markdown",
   "metadata": {},
   "source": [
    "Clobber a second column"
   ]
  },
  {
   "cell_type": "code",
   "execution_count": 12,
   "metadata": {},
   "outputs": [
    {
     "data": {
      "text/plain": [
       "feature a       4040\n",
       "feature b       4034\n",
       "feature c          0\n",
       "feature d          0\n",
       "uncorrelated       0\n",
       "dtype: int64"
      ]
     },
     "execution_count": 12,
     "metadata": {},
     "output_type": "execute_result"
    }
   ],
   "source": [
    "double_mcar_df = clobber(mcar_df, \"feature b\", 0.2)\n",
    "\n",
    "double_mcar_df.to_csv('double_mcar_set.csv', index=False)\n",
    "double_mcar_df.isnull().sum()"
   ]
  },
  {
   "cell_type": "markdown",
   "metadata": {},
   "source": [
    "### $\\color{purple}{\\text{MAR}}$\n",
    "We induce MAR missingness in one and two columns then save off the files for later use"
   ]
  },
  {
   "cell_type": "code",
   "execution_count": 13,
   "metadata": {
    "colab": {
     "base_uri": "https://localhost:8080/"
    },
    "executionInfo": {
     "elapsed": 387,
     "status": "ok",
     "timestamp": 1654210305297,
     "user": {
      "displayName": "Haw-minn Lu",
      "userId": "16109571175851064283"
     },
     "user_tz": 420
    },
    "id": "d7NC0PSLw5Df",
    "outputId": "e30bc252-3558-4c8f-9531-0fd8c55c316e"
   },
   "outputs": [
    {
     "data": {
      "text/plain": [
       "3965"
      ]
     },
     "execution_count": 13,
     "metadata": {},
     "output_type": "execute_result"
    }
   ],
   "source": [
    "mar_df = clobber(df, \"feature a\", 0.4, depends=[\"feature c\"])\n",
    "\n",
    "mar_df.to_csv('mar_set.csv', index=False)\n",
    "mar_df[\"feature a\"].isnull().sum()"
   ]
  },
  {
   "cell_type": "code",
   "execution_count": 14,
   "metadata": {
    "colab": {
     "base_uri": "https://localhost:8080/",
     "height": 143
    },
    "executionInfo": {
     "elapsed": 5,
     "status": "ok",
     "timestamp": 1654210305298,
     "user": {
      "displayName": "Haw-minn Lu",
      "userId": "16109571175851064283"
     },
     "user_tz": 420
    },
    "id": "QDV_fAqlzP1b",
    "outputId": "8841bfb5-e3a6-4f60-ee35-3e929989d4f9"
   },
   "outputs": [
    {
     "data": {
      "text/html": [
       "<div>\n",
       "<style scoped>\n",
       "    .dataframe tbody tr th:only-of-type {\n",
       "        vertical-align: middle;\n",
       "    }\n",
       "\n",
       "    .dataframe tbody tr th {\n",
       "        vertical-align: top;\n",
       "    }\n",
       "\n",
       "    .dataframe thead th {\n",
       "        text-align: right;\n",
       "    }\n",
       "</style>\n",
       "<table border=\"1\" class=\"dataframe\">\n",
       "  <thead>\n",
       "    <tr style=\"text-align: right;\">\n",
       "      <th></th>\n",
       "      <th>Original</th>\n",
       "      <th>With Missing Data</th>\n",
       "      <th>difference</th>\n",
       "      <th>percentage</th>\n",
       "    </tr>\n",
       "  </thead>\n",
       "  <tbody>\n",
       "    <tr>\n",
       "      <th>mean</th>\n",
       "      <td>2.225971</td>\n",
       "      <td>1.981865</td>\n",
       "      <td>0.244105</td>\n",
       "      <td>10.966242</td>\n",
       "    </tr>\n",
       "    <tr>\n",
       "      <th>median</th>\n",
       "      <td>2.223995</td>\n",
       "      <td>1.921194</td>\n",
       "      <td>0.302801</td>\n",
       "      <td>13.615194</td>\n",
       "    </tr>\n",
       "    <tr>\n",
       "      <th>stdev</th>\n",
       "      <td>1.278108</td>\n",
       "      <td>1.252240</td>\n",
       "      <td>0.025868</td>\n",
       "      <td>2.023903</td>\n",
       "    </tr>\n",
       "  </tbody>\n",
       "</table>\n",
       "</div>"
      ],
      "text/plain": [
       "        Original  With Missing Data  difference  percentage\n",
       "mean    2.225971           1.981865    0.244105   10.966242\n",
       "median  2.223995           1.921194    0.302801   13.615194\n",
       "stdev   1.278108           1.252240    0.025868    2.023903"
      ]
     },
     "execution_count": 14,
     "metadata": {},
     "output_type": "execute_result"
    }
   ],
   "source": [
    "stat_comparison(df, mar_df, \"feature a\")"
   ]
  },
  {
   "cell_type": "markdown",
   "metadata": {},
   "source": [
    "<font color='red'> please explain what the following cell is computing </font> "
   ]
  },
  {
   "cell_type": "code",
   "execution_count": 15,
   "metadata": {
    "colab": {
     "base_uri": "https://localhost:8080/",
     "height": 206
    },
    "executionInfo": {
     "elapsed": 185,
     "status": "ok",
     "timestamp": 1654210306828,
     "user": {
      "displayName": "Haw-minn Lu",
      "userId": "16109571175851064283"
     },
     "user_tz": 420
    },
    "id": "_2loK31DseV2",
    "outputId": "941a1f08-b144-413f-9a6a-8bcb97bfffb9"
   },
   "outputs": [
    {
     "data": {
      "text/html": [
       "<div>\n",
       "<style scoped>\n",
       "    .dataframe tbody tr th:only-of-type {\n",
       "        vertical-align: middle;\n",
       "    }\n",
       "\n",
       "    .dataframe tbody tr th {\n",
       "        vertical-align: top;\n",
       "    }\n",
       "\n",
       "    .dataframe thead th {\n",
       "        text-align: right;\n",
       "    }\n",
       "</style>\n",
       "<table border=\"1\" class=\"dataframe\">\n",
       "  <thead>\n",
       "    <tr style=\"text-align: right;\">\n",
       "      <th></th>\n",
       "      <th>feature a</th>\n",
       "      <th>feature b</th>\n",
       "      <th>feature c</th>\n",
       "      <th>feature d</th>\n",
       "      <th>uncorrelated</th>\n",
       "    </tr>\n",
       "  </thead>\n",
       "  <tbody>\n",
       "    <tr>\n",
       "      <th>feature a</th>\n",
       "      <td>1.633559</td>\n",
       "      <td>0.625852</td>\n",
       "      <td>1.553296</td>\n",
       "      <td>0.735798</td>\n",
       "      <td>0.001534</td>\n",
       "    </tr>\n",
       "    <tr>\n",
       "      <th>feature b</th>\n",
       "      <td>0.625852</td>\n",
       "      <td>0.560295</td>\n",
       "      <td>0.576702</td>\n",
       "      <td>0.660979</td>\n",
       "      <td>-0.002024</td>\n",
       "    </tr>\n",
       "    <tr>\n",
       "      <th>feature c</th>\n",
       "      <td>1.553296</td>\n",
       "      <td>0.576702</td>\n",
       "      <td>1.624997</td>\n",
       "      <td>0.483581</td>\n",
       "      <td>0.000626</td>\n",
       "    </tr>\n",
       "    <tr>\n",
       "      <th>feature d</th>\n",
       "      <td>0.735798</td>\n",
       "      <td>0.660979</td>\n",
       "      <td>0.483581</td>\n",
       "      <td>1.084855</td>\n",
       "      <td>-0.001858</td>\n",
       "    </tr>\n",
       "    <tr>\n",
       "      <th>uncorrelated</th>\n",
       "      <td>0.001534</td>\n",
       "      <td>-0.002024</td>\n",
       "      <td>0.000626</td>\n",
       "      <td>-0.001858</td>\n",
       "      <td>0.083437</td>\n",
       "    </tr>\n",
       "  </tbody>\n",
       "</table>\n",
       "</div>"
      ],
      "text/plain": [
       "              feature a  feature b  feature c  feature d  uncorrelated\n",
       "feature a      1.633559   0.625852   1.553296   0.735798      0.001534\n",
       "feature b      0.625852   0.560295   0.576702   0.660979     -0.002024\n",
       "feature c      1.553296   0.576702   1.624997   0.483581      0.000626\n",
       "feature d      0.735798   0.660979   0.483581   1.084855     -0.001858\n",
       "uncorrelated   0.001534  -0.002024   0.000626  -0.001858      0.083437"
      ]
     },
     "execution_count": 15,
     "metadata": {},
     "output_type": "execute_result"
    }
   ],
   "source": [
    "df.cov()"
   ]
  },
  {
   "cell_type": "markdown",
   "metadata": {},
   "source": [
    "<font color='red'> please explain what the following cell is computing </font> "
   ]
  },
  {
   "cell_type": "markdown",
   "metadata": {
    "colab": {
     "base_uri": "https://localhost:8080/",
     "height": 206
    },
    "executionInfo": {
     "elapsed": 7,
     "status": "ok",
     "timestamp": 1654210307739,
     "user": {
      "displayName": "Haw-minn Lu",
      "userId": "16109571175851064283"
     },
     "user_tz": 420
    },
    "id": "i-deY7jUsgEO",
    "outputId": "4519d8c1-96b4-4aac-90ca-441503114257",
    "tags": [
     "master"
    ]
   },
   "source": [
    "(df.cov() - mar_df.cov()).abs()/df.cov()*100"
   ]
  },
  {
   "cell_type": "code",
   "execution_count": 16,
   "metadata": {},
   "outputs": [
    {
     "data": {
      "text/plain": [
       "feature a       3965\n",
       "feature b       4041\n",
       "feature c          0\n",
       "feature d          0\n",
       "uncorrelated       0\n",
       "dtype: int64"
      ]
     },
     "execution_count": 16,
     "metadata": {},
     "output_type": "execute_result"
    }
   ],
   "source": [
    "double_mar_df = clobber(mar_df, \"feature b\", 0.4, depends=['feature d'])\n",
    "\n",
    "double_mar_df.to_csv('double_mar_set.csv', index=False)\n",
    "double_mar_df.isnull().sum()"
   ]
  },
  {
   "cell_type": "markdown",
   "metadata": {
    "id": "J5vRbGy2PBnh"
   },
   "source": [
    "## $\\color{purple}{\\text{Simple MAR Test}}$\n",
    "\n",
    "The procedure is simple. For any columns with missing data, construct a new column relating to the missingness of that column"
   ]
  },
  {
   "cell_type": "code",
   "execution_count": 17,
   "metadata": {
    "executionInfo": {
     "elapsed": 183,
     "status": "ok",
     "timestamp": 1654210311122,
     "user": {
      "displayName": "Haw-minn Lu",
      "userId": "16109571175851064283"
     },
     "user_tz": 420
    },
    "id": "if4EvRoJPmdb"
   },
   "outputs": [],
   "source": [
    "test_df = mcar_df.copy()"
   ]
  },
  {
   "cell_type": "code",
   "execution_count": 18,
   "metadata": {
    "executionInfo": {
     "elapsed": 180,
     "status": "ok",
     "timestamp": 1654210312320,
     "user": {
      "displayName": "Haw-minn Lu",
      "userId": "16109571175851064283"
     },
     "user_tz": 420
    },
    "id": "EqFldfrIQNg0"
   },
   "outputs": [],
   "source": [
    "test_df['missingness']=test_df['feature a'].isnull()"
   ]
  },
  {
   "cell_type": "markdown",
   "metadata": {
    "id": "MdQ2L6jfQydn"
   },
   "source": [
    "Then test to see if that new feature is \"related\" to any of the columns. If it is then the missingness mechanism is MAR. We will use the \"eyeball\" test by using correlation. There are statistically robust tests such as using Student's t-test or use logistic regression on the other features to predict the missingness, etc."
   ]
  },
  {
   "cell_type": "code",
   "execution_count": 19,
   "metadata": {
    "colab": {
     "base_uri": "https://localhost:8080/",
     "height": 238
    },
    "executionInfo": {
     "elapsed": 182,
     "status": "ok",
     "timestamp": 1654210315093,
     "user": {
      "displayName": "Haw-minn Lu",
      "userId": "16109571175851064283"
     },
     "user_tz": 420
    },
    "id": "EemPE61bQZTm",
    "outputId": "df1fdb82-f124-486c-d550-0e1551f920f3"
   },
   "outputs": [
    {
     "data": {
      "text/html": [
       "<div>\n",
       "<style scoped>\n",
       "    .dataframe tbody tr th:only-of-type {\n",
       "        vertical-align: middle;\n",
       "    }\n",
       "\n",
       "    .dataframe tbody tr th {\n",
       "        vertical-align: top;\n",
       "    }\n",
       "\n",
       "    .dataframe thead th {\n",
       "        text-align: right;\n",
       "    }\n",
       "</style>\n",
       "<table border=\"1\" class=\"dataframe\">\n",
       "  <thead>\n",
       "    <tr style=\"text-align: right;\">\n",
       "      <th></th>\n",
       "      <th>feature a</th>\n",
       "      <th>feature b</th>\n",
       "      <th>feature c</th>\n",
       "      <th>feature d</th>\n",
       "      <th>uncorrelated</th>\n",
       "      <th>missingness</th>\n",
       "    </tr>\n",
       "  </thead>\n",
       "  <tbody>\n",
       "    <tr>\n",
       "      <th>feature a</th>\n",
       "      <td>1.000000</td>\n",
       "      <td>0.654402</td>\n",
       "      <td>0.953773</td>\n",
       "      <td>0.553083</td>\n",
       "      <td>0.005086</td>\n",
       "      <td>NaN</td>\n",
       "    </tr>\n",
       "    <tr>\n",
       "      <th>feature b</th>\n",
       "      <td>0.654402</td>\n",
       "      <td>1.000000</td>\n",
       "      <td>0.604390</td>\n",
       "      <td>0.847800</td>\n",
       "      <td>-0.009361</td>\n",
       "      <td>0.001734</td>\n",
       "    </tr>\n",
       "    <tr>\n",
       "      <th>feature c</th>\n",
       "      <td>0.953773</td>\n",
       "      <td>0.604390</td>\n",
       "      <td>1.000000</td>\n",
       "      <td>0.364214</td>\n",
       "      <td>0.001700</td>\n",
       "      <td>0.004364</td>\n",
       "    </tr>\n",
       "    <tr>\n",
       "      <th>feature d</th>\n",
       "      <td>0.553083</td>\n",
       "      <td>0.847800</td>\n",
       "      <td>0.364214</td>\n",
       "      <td>1.000000</td>\n",
       "      <td>-0.006177</td>\n",
       "      <td>-0.002379</td>\n",
       "    </tr>\n",
       "    <tr>\n",
       "      <th>uncorrelated</th>\n",
       "      <td>0.005086</td>\n",
       "      <td>-0.009361</td>\n",
       "      <td>0.001700</td>\n",
       "      <td>-0.006177</td>\n",
       "      <td>1.000000</td>\n",
       "      <td>-0.004810</td>\n",
       "    </tr>\n",
       "    <tr>\n",
       "      <th>missingness</th>\n",
       "      <td>NaN</td>\n",
       "      <td>0.001734</td>\n",
       "      <td>0.004364</td>\n",
       "      <td>-0.002379</td>\n",
       "      <td>-0.004810</td>\n",
       "      <td>1.000000</td>\n",
       "    </tr>\n",
       "  </tbody>\n",
       "</table>\n",
       "</div>"
      ],
      "text/plain": [
       "              feature a  feature b  feature c  feature d  uncorrelated  \\\n",
       "feature a      1.000000   0.654402   0.953773   0.553083      0.005086   \n",
       "feature b      0.654402   1.000000   0.604390   0.847800     -0.009361   \n",
       "feature c      0.953773   0.604390   1.000000   0.364214      0.001700   \n",
       "feature d      0.553083   0.847800   0.364214   1.000000     -0.006177   \n",
       "uncorrelated   0.005086  -0.009361   0.001700  -0.006177      1.000000   \n",
       "missingness         NaN   0.001734   0.004364  -0.002379     -0.004810   \n",
       "\n",
       "              missingness  \n",
       "feature a             NaN  \n",
       "feature b        0.001734  \n",
       "feature c        0.004364  \n",
       "feature d       -0.002379  \n",
       "uncorrelated    -0.004810  \n",
       "missingness      1.000000  "
      ]
     },
     "execution_count": 19,
     "metadata": {},
     "output_type": "execute_result"
    }
   ],
   "source": [
    "test_df.corr()"
   ]
  },
  {
   "cell_type": "markdown",
   "metadata": {
    "id": "MdQ2L6jfQydn"
   },
   "source": [
    "Repeat for MAR"
   ]
  },
  {
   "cell_type": "code",
   "execution_count": 20,
   "metadata": {
    "executionInfo": {
     "elapsed": 183,
     "status": "ok",
     "timestamp": 1654210311122,
     "user": {
      "displayName": "Haw-minn Lu",
      "userId": "16109571175851064283"
     },
     "user_tz": 420
    },
    "id": "if4EvRoJPmdb",
    "tags": [
     "master"
    ]
   },
   "outputs": [],
   "source": [
    "test_df = mar_df.copy()"
   ]
  },
  {
   "cell_type": "code",
   "execution_count": 21,
   "metadata": {
    "executionInfo": {
     "elapsed": 180,
     "status": "ok",
     "timestamp": 1654210312320,
     "user": {
      "displayName": "Haw-minn Lu",
      "userId": "16109571175851064283"
     },
     "user_tz": 420
    },
    "id": "EqFldfrIQNg0",
    "tags": [
     "master"
    ]
   },
   "outputs": [],
   "source": [
    "test_df['missingness']=test_df['feature a'].isnull()"
   ]
  },
  {
   "cell_type": "code",
   "execution_count": 22,
   "metadata": {
    "colab": {
     "base_uri": "https://localhost:8080/",
     "height": 238
    },
    "executionInfo": {
     "elapsed": 182,
     "status": "ok",
     "timestamp": 1654210315093,
     "user": {
      "displayName": "Haw-minn Lu",
      "userId": "16109571175851064283"
     },
     "user_tz": 420
    },
    "id": "EemPE61bQZTm",
    "outputId": "df1fdb82-f124-486c-d550-0e1551f920f3",
    "tags": [
     "master"
    ]
   },
   "outputs": [
    {
     "data": {
      "text/html": [
       "<div>\n",
       "<style scoped>\n",
       "    .dataframe tbody tr th:only-of-type {\n",
       "        vertical-align: middle;\n",
       "    }\n",
       "\n",
       "    .dataframe tbody tr th {\n",
       "        vertical-align: top;\n",
       "    }\n",
       "\n",
       "    .dataframe thead th {\n",
       "        text-align: right;\n",
       "    }\n",
       "</style>\n",
       "<table border=\"1\" class=\"dataframe\">\n",
       "  <thead>\n",
       "    <tr style=\"text-align: right;\">\n",
       "      <th></th>\n",
       "      <th>feature a</th>\n",
       "      <th>feature b</th>\n",
       "      <th>feature c</th>\n",
       "      <th>feature d</th>\n",
       "      <th>uncorrelated</th>\n",
       "      <th>missingness</th>\n",
       "    </tr>\n",
       "  </thead>\n",
       "  <tbody>\n",
       "    <tr>\n",
       "      <th>feature a</th>\n",
       "      <td>1.000000</td>\n",
       "      <td>0.645647</td>\n",
       "      <td>0.951092</td>\n",
       "      <td>0.551391</td>\n",
       "      <td>0.003427</td>\n",
       "      <td>NaN</td>\n",
       "    </tr>\n",
       "    <tr>\n",
       "      <th>feature b</th>\n",
       "      <td>0.645647</td>\n",
       "      <td>1.000000</td>\n",
       "      <td>0.604390</td>\n",
       "      <td>0.847800</td>\n",
       "      <td>-0.009361</td>\n",
       "      <td>0.245944</td>\n",
       "    </tr>\n",
       "    <tr>\n",
       "      <th>feature c</th>\n",
       "      <td>0.951092</td>\n",
       "      <td>0.604390</td>\n",
       "      <td>1.000000</td>\n",
       "      <td>0.364214</td>\n",
       "      <td>0.001700</td>\n",
       "      <td>0.404307</td>\n",
       "    </tr>\n",
       "    <tr>\n",
       "      <th>feature d</th>\n",
       "      <td>0.551391</td>\n",
       "      <td>0.847800</td>\n",
       "      <td>0.364214</td>\n",
       "      <td>1.000000</td>\n",
       "      <td>-0.006177</td>\n",
       "      <td>0.146959</td>\n",
       "    </tr>\n",
       "    <tr>\n",
       "      <th>uncorrelated</th>\n",
       "      <td>0.003427</td>\n",
       "      <td>-0.009361</td>\n",
       "      <td>0.001700</td>\n",
       "      <td>-0.006177</td>\n",
       "      <td>1.000000</td>\n",
       "      <td>0.000189</td>\n",
       "    </tr>\n",
       "    <tr>\n",
       "      <th>missingness</th>\n",
       "      <td>NaN</td>\n",
       "      <td>0.245944</td>\n",
       "      <td>0.404307</td>\n",
       "      <td>0.146959</td>\n",
       "      <td>0.000189</td>\n",
       "      <td>1.000000</td>\n",
       "    </tr>\n",
       "  </tbody>\n",
       "</table>\n",
       "</div>"
      ],
      "text/plain": [
       "              feature a  feature b  feature c  feature d  uncorrelated  \\\n",
       "feature a      1.000000   0.645647   0.951092   0.551391      0.003427   \n",
       "feature b      0.645647   1.000000   0.604390   0.847800     -0.009361   \n",
       "feature c      0.951092   0.604390   1.000000   0.364214      0.001700   \n",
       "feature d      0.551391   0.847800   0.364214   1.000000     -0.006177   \n",
       "uncorrelated   0.003427  -0.009361   0.001700  -0.006177      1.000000   \n",
       "missingness         NaN   0.245944   0.404307   0.146959      0.000189   \n",
       "\n",
       "              missingness  \n",
       "feature a             NaN  \n",
       "feature b        0.245944  \n",
       "feature c        0.404307  \n",
       "feature d        0.146959  \n",
       "uncorrelated     0.000189  \n",
       "missingness      1.000000  "
      ]
     },
     "execution_count": 22,
     "metadata": {},
     "output_type": "execute_result"
    }
   ],
   "source": [
    "test_df.corr()"
   ]
  },
  {
   "cell_type": "markdown",
   "metadata": {},
   "source": [
    "We can do this too with multiple columns missing"
   ]
  },
  {
   "cell_type": "code",
   "execution_count": 23,
   "metadata": {},
   "outputs": [],
   "source": [
    "test_df = double_mcar_df.copy()"
   ]
  },
  {
   "cell_type": "code",
   "execution_count": 24,
   "metadata": {},
   "outputs": [
    {
     "data": {
      "text/html": [
       "<div>\n",
       "<style scoped>\n",
       "    .dataframe tbody tr th:only-of-type {\n",
       "        vertical-align: middle;\n",
       "    }\n",
       "\n",
       "    .dataframe tbody tr th {\n",
       "        vertical-align: top;\n",
       "    }\n",
       "\n",
       "    .dataframe thead th {\n",
       "        text-align: right;\n",
       "    }\n",
       "</style>\n",
       "<table border=\"1\" class=\"dataframe\">\n",
       "  <thead>\n",
       "    <tr style=\"text-align: right;\">\n",
       "      <th></th>\n",
       "      <th>feature a</th>\n",
       "      <th>feature b</th>\n",
       "      <th>feature c</th>\n",
       "      <th>feature d</th>\n",
       "      <th>uncorrelated</th>\n",
       "      <th>missingness_a</th>\n",
       "      <th>missingness_b</th>\n",
       "    </tr>\n",
       "  </thead>\n",
       "  <tbody>\n",
       "    <tr>\n",
       "      <th>feature a</th>\n",
       "      <td>1.000000</td>\n",
       "      <td>0.656268</td>\n",
       "      <td>0.953773</td>\n",
       "      <td>0.553083</td>\n",
       "      <td>0.005086</td>\n",
       "      <td>NaN</td>\n",
       "      <td>-0.002164</td>\n",
       "    </tr>\n",
       "    <tr>\n",
       "      <th>feature b</th>\n",
       "      <td>0.656268</td>\n",
       "      <td>1.000000</td>\n",
       "      <td>0.606866</td>\n",
       "      <td>0.848452</td>\n",
       "      <td>-0.010137</td>\n",
       "      <td>-0.000534</td>\n",
       "      <td>NaN</td>\n",
       "    </tr>\n",
       "    <tr>\n",
       "      <th>feature c</th>\n",
       "      <td>0.953773</td>\n",
       "      <td>0.606866</td>\n",
       "      <td>1.000000</td>\n",
       "      <td>0.364214</td>\n",
       "      <td>0.001700</td>\n",
       "      <td>0.004364</td>\n",
       "      <td>0.002447</td>\n",
       "    </tr>\n",
       "    <tr>\n",
       "      <th>feature d</th>\n",
       "      <td>0.553083</td>\n",
       "      <td>0.848452</td>\n",
       "      <td>0.364214</td>\n",
       "      <td>1.000000</td>\n",
       "      <td>-0.006177</td>\n",
       "      <td>-0.002379</td>\n",
       "      <td>-0.001941</td>\n",
       "    </tr>\n",
       "    <tr>\n",
       "      <th>uncorrelated</th>\n",
       "      <td>0.005086</td>\n",
       "      <td>-0.010137</td>\n",
       "      <td>0.001700</td>\n",
       "      <td>-0.006177</td>\n",
       "      <td>1.000000</td>\n",
       "      <td>-0.004810</td>\n",
       "      <td>0.003029</td>\n",
       "    </tr>\n",
       "    <tr>\n",
       "      <th>missingness_a</th>\n",
       "      <td>NaN</td>\n",
       "      <td>-0.000534</td>\n",
       "      <td>0.004364</td>\n",
       "      <td>-0.002379</td>\n",
       "      <td>-0.004810</td>\n",
       "      <td>1.000000</td>\n",
       "      <td>-0.000580</td>\n",
       "    </tr>\n",
       "    <tr>\n",
       "      <th>missingness_b</th>\n",
       "      <td>-0.002164</td>\n",
       "      <td>NaN</td>\n",
       "      <td>0.002447</td>\n",
       "      <td>-0.001941</td>\n",
       "      <td>0.003029</td>\n",
       "      <td>-0.000580</td>\n",
       "      <td>1.000000</td>\n",
       "    </tr>\n",
       "  </tbody>\n",
       "</table>\n",
       "</div>"
      ],
      "text/plain": [
       "               feature a  feature b  feature c  feature d  uncorrelated  \\\n",
       "feature a       1.000000   0.656268   0.953773   0.553083      0.005086   \n",
       "feature b       0.656268   1.000000   0.606866   0.848452     -0.010137   \n",
       "feature c       0.953773   0.606866   1.000000   0.364214      0.001700   \n",
       "feature d       0.553083   0.848452   0.364214   1.000000     -0.006177   \n",
       "uncorrelated    0.005086  -0.010137   0.001700  -0.006177      1.000000   \n",
       "missingness_a        NaN  -0.000534   0.004364  -0.002379     -0.004810   \n",
       "missingness_b  -0.002164        NaN   0.002447  -0.001941      0.003029   \n",
       "\n",
       "               missingness_a  missingness_b  \n",
       "feature a                NaN      -0.002164  \n",
       "feature b          -0.000534            NaN  \n",
       "feature c           0.004364       0.002447  \n",
       "feature d          -0.002379      -0.001941  \n",
       "uncorrelated       -0.004810       0.003029  \n",
       "missingness_a       1.000000      -0.000580  \n",
       "missingness_b      -0.000580       1.000000  "
      ]
     },
     "execution_count": 24,
     "metadata": {},
     "output_type": "execute_result"
    }
   ],
   "source": [
    "test_df['missingness_a']=test_df['feature a'].isnull()\n",
    "test_df['missingness_b']=test_df['feature b'].isnull()\n",
    "test_df.corr()"
   ]
  },
  {
   "cell_type": "markdown",
   "metadata": {
    "id": "Vmq94Bhdox_x"
   },
   "source": [
    "## $\\color{purple}{\\text{Poor Man's Version of Little's MCAR Test (or rather not MAR Test)}}$\n",
    "\n",
    "The test given above is a little awkward if more than one column has missing data. Originally, Little proposed the following test for MCAR. \n",
    "\n",
    "$\\color{red}{\\text ⚠}$ The code below demonstrates the simplified principle behind Little's MCAR Test but a lot of the statistical rigor has been relaxed.\n",
    "\n",
    "We adopt the \"eyeball\" test of whether statistics match or not. In principle, some statistical assumptions are made resulting in a $p$-value. In particular, Little used made normality assumptions resulting in a $\\chi^2$ distribution."
   ]
  },
  {
   "cell_type": "markdown",
   "metadata": {
    "id": "BASell68qEXh"
   },
   "source": [
    "First the observations are segregated into their various patterns. In our case, there are only two tests, observation is complete. Observation is missing \"feature a\""
   ]
  },
  {
   "cell_type": "code",
   "execution_count": 25,
   "metadata": {
    "executionInfo": {
     "elapsed": 249,
     "status": "ok",
     "timestamp": 1654210317168,
     "user": {
      "displayName": "Haw-minn Lu",
      "userId": "16109571175851064283"
     },
     "user_tz": 420
    },
    "id": "CVzC1W13qLLR"
   },
   "outputs": [],
   "source": [
    "pattern1 = mar_df.dropna(subset=[\"feature a\"])\n",
    "pattern2 = mar_df[mar_df[\"feature a\"].isnull()]"
   ]
  },
  {
   "cell_type": "markdown",
   "metadata": {
    "id": "NhDCPK2sSxU2"
   },
   "source": [
    "The formal version of Little's Test uses maximum likelihood estimations to estimate statistcal features of each group and compares them. If they are statistcally the same then he declares the missingness mechanism as MCAR. \n",
    "Here we use the eyeball test"
   ]
  },
  {
   "cell_type": "code",
   "execution_count": 26,
   "metadata": {
    "colab": {
     "base_uri": "https://localhost:8080/",
     "height": 206
    },
    "executionInfo": {
     "elapsed": 7,
     "status": "ok",
     "timestamp": 1654210318261,
     "user": {
      "displayName": "Haw-minn Lu",
      "userId": "16109571175851064283"
     },
     "user_tz": 420
    },
    "id": "54hqXIEBoxJz",
    "outputId": "340db2ea-b701-4fdb-9cd0-47ce72b72cd3"
   },
   "outputs": [
    {
     "data": {
      "text/html": [
       "<div>\n",
       "<style scoped>\n",
       "    .dataframe tbody tr th:only-of-type {\n",
       "        vertical-align: middle;\n",
       "    }\n",
       "\n",
       "    .dataframe tbody tr th {\n",
       "        vertical-align: top;\n",
       "    }\n",
       "\n",
       "    .dataframe thead th {\n",
       "        text-align: right;\n",
       "    }\n",
       "</style>\n",
       "<table border=\"1\" class=\"dataframe\">\n",
       "  <thead>\n",
       "    <tr style=\"text-align: right;\">\n",
       "      <th></th>\n",
       "      <th>0</th>\n",
       "      <th>1</th>\n",
       "      <th>2</th>\n",
       "    </tr>\n",
       "  </thead>\n",
       "  <tbody>\n",
       "    <tr>\n",
       "      <th>feature a</th>\n",
       "      <td>1.981865</td>\n",
       "      <td>NaN</td>\n",
       "      <td>NaN</td>\n",
       "    </tr>\n",
       "    <tr>\n",
       "      <th>feature b</th>\n",
       "      <td>3.592969</td>\n",
       "      <td>4.054720</td>\n",
       "      <td>-0.461750</td>\n",
       "    </tr>\n",
       "    <tr>\n",
       "      <th>feature c</th>\n",
       "      <td>3.320484</td>\n",
       "      <td>4.613192</td>\n",
       "      <td>-1.292708</td>\n",
       "    </tr>\n",
       "    <tr>\n",
       "      <th>feature d</th>\n",
       "      <td>3.501761</td>\n",
       "      <td>3.885684</td>\n",
       "      <td>-0.383923</td>\n",
       "    </tr>\n",
       "    <tr>\n",
       "      <th>uncorrelated</th>\n",
       "      <td>0.495927</td>\n",
       "      <td>0.496064</td>\n",
       "      <td>-0.000137</td>\n",
       "    </tr>\n",
       "  </tbody>\n",
       "</table>\n",
       "</div>"
      ],
      "text/plain": [
       "                     0         1         2\n",
       "feature a     1.981865       NaN       NaN\n",
       "feature b     3.592969  4.054720 -0.461750\n",
       "feature c     3.320484  4.613192 -1.292708\n",
       "feature d     3.501761  3.885684 -0.383923\n",
       "uncorrelated  0.495927  0.496064 -0.000137"
      ]
     },
     "execution_count": 26,
     "metadata": {},
     "output_type": "execute_result"
    }
   ],
   "source": [
    "pd.concat([pattern1.mean(), pattern2.mean(),pattern1.mean()- pattern2.mean()], axis=\"columns\")"
   ]
  },
  {
   "cell_type": "markdown",
   "metadata": {},
   "source": [
    "You might want to look at covariances"
   ]
  },
  {
   "cell_type": "code",
   "execution_count": 27,
   "metadata": {
    "colab": {
     "base_uri": "https://localhost:8080/",
     "height": 175
    },
    "executionInfo": {
     "elapsed": 5,
     "status": "ok",
     "timestamp": 1654210318882,
     "user": {
      "displayName": "Haw-minn Lu",
      "userId": "16109571175851064283"
     },
     "user_tz": 420
    },
    "id": "VMn-t4z6y8o_",
    "outputId": "8a313297-10e6-4bb4-d66e-98ba31a19a74",
    "tags": [
     "master"
    ]
   },
   "outputs": [
    {
     "data": {
      "text/html": [
       "<div>\n",
       "<style scoped>\n",
       "    .dataframe tbody tr th:only-of-type {\n",
       "        vertical-align: middle;\n",
       "    }\n",
       "\n",
       "    .dataframe tbody tr th {\n",
       "        vertical-align: top;\n",
       "    }\n",
       "\n",
       "    .dataframe thead th {\n",
       "        text-align: right;\n",
       "    }\n",
       "</style>\n",
       "<table border=\"1\" class=\"dataframe\">\n",
       "  <thead>\n",
       "    <tr style=\"text-align: right;\">\n",
       "      <th></th>\n",
       "      <th>feature b</th>\n",
       "      <th>feature c</th>\n",
       "      <th>feature d</th>\n",
       "      <th>uncorrelated</th>\n",
       "    </tr>\n",
       "  </thead>\n",
       "  <tbody>\n",
       "    <tr>\n",
       "      <th>feature b</th>\n",
       "      <td>0.551477</td>\n",
       "      <td>0.549309</td>\n",
       "      <td>0.654647</td>\n",
       "      <td>-0.002076</td>\n",
       "    </tr>\n",
       "    <tr>\n",
       "      <th>feature c</th>\n",
       "      <td>0.549309</td>\n",
       "      <td>1.550097</td>\n",
       "      <td>0.463217</td>\n",
       "      <td>0.000691</td>\n",
       "    </tr>\n",
       "    <tr>\n",
       "      <th>feature d</th>\n",
       "      <td>0.654647</td>\n",
       "      <td>0.463217</td>\n",
       "      <td>1.081674</td>\n",
       "      <td>-0.001982</td>\n",
       "    </tr>\n",
       "    <tr>\n",
       "      <th>uncorrelated</th>\n",
       "      <td>-0.002076</td>\n",
       "      <td>0.000691</td>\n",
       "      <td>-0.001982</td>\n",
       "      <td>0.083493</td>\n",
       "    </tr>\n",
       "  </tbody>\n",
       "</table>\n",
       "</div>"
      ],
      "text/plain": [
       "              feature b  feature c  feature d  uncorrelated\n",
       "feature b      0.551477   0.549309   0.654647     -0.002076\n",
       "feature c      0.549309   1.550097   0.463217      0.000691\n",
       "feature d      0.654647   0.463217   1.081674     -0.001982\n",
       "uncorrelated  -0.002076   0.000691  -0.001982      0.083493"
      ]
     },
     "execution_count": 27,
     "metadata": {},
     "output_type": "execute_result"
    }
   ],
   "source": [
    "pattern1.drop(columns=[\"feature a\"]).cov()"
   ]
  },
  {
   "cell_type": "code",
   "execution_count": 28,
   "metadata": {
    "colab": {
     "base_uri": "https://localhost:8080/",
     "height": 175
    },
    "executionInfo": {
     "elapsed": 179,
     "status": "ok",
     "timestamp": 1654210320110,
     "user": {
      "displayName": "Haw-minn Lu",
      "userId": "16109571175851064283"
     },
     "user_tz": 420
    },
    "id": "vV29aRm9s7XM",
    "outputId": "791c817c-06c1-46d1-98ed-ebd50c99caae",
    "tags": [
     "master"
    ]
   },
   "outputs": [
    {
     "data": {
      "text/html": [
       "<div>\n",
       "<style scoped>\n",
       "    .dataframe tbody tr th:only-of-type {\n",
       "        vertical-align: middle;\n",
       "    }\n",
       "\n",
       "    .dataframe tbody tr th {\n",
       "        vertical-align: top;\n",
       "    }\n",
       "\n",
       "    .dataframe thead th {\n",
       "        text-align: right;\n",
       "    }\n",
       "</style>\n",
       "<table border=\"1\" class=\"dataframe\">\n",
       "  <thead>\n",
       "    <tr style=\"text-align: right;\">\n",
       "      <th></th>\n",
       "      <th>feature b</th>\n",
       "      <th>feature c</th>\n",
       "      <th>feature d</th>\n",
       "      <th>uncorrelated</th>\n",
       "    </tr>\n",
       "  </thead>\n",
       "  <tbody>\n",
       "    <tr>\n",
       "      <th>feature b</th>\n",
       "      <td>0.425117</td>\n",
       "      <td>0.208960</td>\n",
       "      <td>0.544591</td>\n",
       "      <td>-0.001865</td>\n",
       "    </tr>\n",
       "    <tr>\n",
       "      <th>feature c</th>\n",
       "      <td>0.208960</td>\n",
       "      <td>0.588234</td>\n",
       "      <td>0.168066</td>\n",
       "      <td>0.000222</td>\n",
       "    </tr>\n",
       "    <tr>\n",
       "      <th>feature d</th>\n",
       "      <td>0.544591</td>\n",
       "      <td>0.168066</td>\n",
       "      <td>0.979790</td>\n",
       "      <td>-0.001402</td>\n",
       "    </tr>\n",
       "    <tr>\n",
       "      <th>uncorrelated</th>\n",
       "      <td>-0.001865</td>\n",
       "      <td>0.000222</td>\n",
       "      <td>-0.001402</td>\n",
       "      <td>0.083232</td>\n",
       "    </tr>\n",
       "  </tbody>\n",
       "</table>\n",
       "</div>"
      ],
      "text/plain": [
       "              feature b  feature c  feature d  uncorrelated\n",
       "feature b      0.425117   0.208960   0.544591     -0.001865\n",
       "feature c      0.208960   0.588234   0.168066      0.000222\n",
       "feature d      0.544591   0.168066   0.979790     -0.001402\n",
       "uncorrelated  -0.001865   0.000222  -0.001402      0.083232"
      ]
     },
     "execution_count": 28,
     "metadata": {},
     "output_type": "execute_result"
    }
   ],
   "source": [
    "pattern2.drop(columns=[\"feature a\"]).cov()"
   ]
  },
  {
   "cell_type": "markdown",
   "metadata": {},
   "source": [
    "Create a little helper to look at means"
   ]
  },
  {
   "cell_type": "code",
   "execution_count": 29,
   "metadata": {
    "executionInfo": {
     "elapsed": 7,
     "status": "ok",
     "timestamp": 1654210318262,
     "user": {
      "displayName": "Haw-minn Lu",
      "userId": "16109571175851064283"
     },
     "user_tz": 420
    },
    "id": "zJaOEizUT7Wg"
   },
   "outputs": [],
   "source": [
    "def littles_eyeball_test(df, column):\n",
    "  pattern1 = df.dropna(subset=[column])\n",
    "  pattern2 = df[df[column].isnull()]\n",
    "  return pd.concat([pattern1.mean(), pattern2.mean(), pattern1.mean() - pattern2.mean()], axis=\"columns\")"
   ]
  },
  {
   "cell_type": "code",
   "execution_count": 30,
   "metadata": {
    "colab": {
     "base_uri": "https://localhost:8080/",
     "height": 206
    },
    "executionInfo": {
     "elapsed": 6,
     "status": "ok",
     "timestamp": 1654210318699,
     "user": {
      "displayName": "Haw-minn Lu",
      "userId": "16109571175851064283"
     },
     "user_tz": 420
    },
    "id": "HaYhhQ5vUQpX",
    "outputId": "bbba2235-22ba-44fe-d5ba-9e8e0997fe02"
   },
   "outputs": [
    {
     "data": {
      "text/html": [
       "<div>\n",
       "<style scoped>\n",
       "    .dataframe tbody tr th:only-of-type {\n",
       "        vertical-align: middle;\n",
       "    }\n",
       "\n",
       "    .dataframe tbody tr th {\n",
       "        vertical-align: top;\n",
       "    }\n",
       "\n",
       "    .dataframe thead th {\n",
       "        text-align: right;\n",
       "    }\n",
       "</style>\n",
       "<table border=\"1\" class=\"dataframe\">\n",
       "  <thead>\n",
       "    <tr style=\"text-align: right;\">\n",
       "      <th></th>\n",
       "      <th>0</th>\n",
       "      <th>1</th>\n",
       "      <th>2</th>\n",
       "    </tr>\n",
       "  </thead>\n",
       "  <tbody>\n",
       "    <tr>\n",
       "      <th>feature a</th>\n",
       "      <td>1.981865</td>\n",
       "      <td>NaN</td>\n",
       "      <td>NaN</td>\n",
       "    </tr>\n",
       "    <tr>\n",
       "      <th>feature b</th>\n",
       "      <td>3.592969</td>\n",
       "      <td>4.054720</td>\n",
       "      <td>-0.461750</td>\n",
       "    </tr>\n",
       "    <tr>\n",
       "      <th>feature c</th>\n",
       "      <td>3.320484</td>\n",
       "      <td>4.613192</td>\n",
       "      <td>-1.292708</td>\n",
       "    </tr>\n",
       "    <tr>\n",
       "      <th>feature d</th>\n",
       "      <td>3.501761</td>\n",
       "      <td>3.885684</td>\n",
       "      <td>-0.383923</td>\n",
       "    </tr>\n",
       "    <tr>\n",
       "      <th>uncorrelated</th>\n",
       "      <td>0.495927</td>\n",
       "      <td>0.496064</td>\n",
       "      <td>-0.000137</td>\n",
       "    </tr>\n",
       "  </tbody>\n",
       "</table>\n",
       "</div>"
      ],
      "text/plain": [
       "                     0         1         2\n",
       "feature a     1.981865       NaN       NaN\n",
       "feature b     3.592969  4.054720 -0.461750\n",
       "feature c     3.320484  4.613192 -1.292708\n",
       "feature d     3.501761  3.885684 -0.383923\n",
       "uncorrelated  0.495927  0.496064 -0.000137"
      ]
     },
     "execution_count": 30,
     "metadata": {},
     "output_type": "execute_result"
    }
   ],
   "source": [
    "littles_eyeball_test(mar_df,'feature a')"
   ]
  },
  {
   "cell_type": "markdown",
   "metadata": {},
   "source": [
    "The \"double missingness\" sets exhibit 4 patterns so we'll expand our experiment to 4"
   ]
  },
  {
   "cell_type": "code",
   "execution_count": 31,
   "metadata": {},
   "outputs": [],
   "source": [
    "def littles_eyeball_test_double(df):\n",
    "    pattern1 = df[df['feature a'].isnull() & df['feature b'].isnull()]\n",
    "    pattern2 = df[df['feature a'].isnull() & ~df['feature b'].isnull()]\n",
    "    pattern3 = df[~df['feature a'].isnull() & df['feature b'].isnull()]\n",
    "    pattern4 = df[~df['feature a'].isnull() & ~df['feature b'].isnull()]\n",
    "    return pd.concat([pattern1.mean(), pattern2.mean(), pattern3.mean(), pattern4.mean()], axis=\"columns\")"
   ]
  },
  {
   "cell_type": "code",
   "execution_count": 32,
   "metadata": {
    "id": "zyueVR_3UQMn"
   },
   "outputs": [
    {
     "data": {
      "text/html": [
       "<div>\n",
       "<style scoped>\n",
       "    .dataframe tbody tr th:only-of-type {\n",
       "        vertical-align: middle;\n",
       "    }\n",
       "\n",
       "    .dataframe tbody tr th {\n",
       "        vertical-align: top;\n",
       "    }\n",
       "\n",
       "    .dataframe thead th {\n",
       "        text-align: right;\n",
       "    }\n",
       "</style>\n",
       "<table border=\"1\" class=\"dataframe\">\n",
       "  <thead>\n",
       "    <tr style=\"text-align: right;\">\n",
       "      <th></th>\n",
       "      <th>0</th>\n",
       "      <th>1</th>\n",
       "      <th>2</th>\n",
       "      <th>3</th>\n",
       "    </tr>\n",
       "  </thead>\n",
       "  <tbody>\n",
       "    <tr>\n",
       "      <th>feature a</th>\n",
       "      <td>NaN</td>\n",
       "      <td>NaN</td>\n",
       "      <td>2.219328</td>\n",
       "      <td>2.226222</td>\n",
       "    </tr>\n",
       "    <tr>\n",
       "      <th>feature b</th>\n",
       "      <td>NaN</td>\n",
       "      <td>3.684886</td>\n",
       "      <td>NaN</td>\n",
       "      <td>3.685884</td>\n",
       "    </tr>\n",
       "    <tr>\n",
       "      <th>feature c</th>\n",
       "      <td>3.637705</td>\n",
       "      <td>3.575252</td>\n",
       "      <td>3.569152</td>\n",
       "      <td>3.575182</td>\n",
       "    </tr>\n",
       "    <tr>\n",
       "      <th>feature d</th>\n",
       "      <td>3.572827</td>\n",
       "      <td>3.572980</td>\n",
       "      <td>3.574110</td>\n",
       "      <td>3.580387</td>\n",
       "    </tr>\n",
       "    <tr>\n",
       "      <th>uncorrelated</th>\n",
       "      <td>0.497588</td>\n",
       "      <td>0.492085</td>\n",
       "      <td>0.497722</td>\n",
       "      <td>0.496383</td>\n",
       "    </tr>\n",
       "  </tbody>\n",
       "</table>\n",
       "</div>"
      ],
      "text/plain": [
       "                     0         1         2         3\n",
       "feature a          NaN       NaN  2.219328  2.226222\n",
       "feature b          NaN  3.684886       NaN  3.685884\n",
       "feature c     3.637705  3.575252  3.569152  3.575182\n",
       "feature d     3.572827  3.572980  3.574110  3.580387\n",
       "uncorrelated  0.497588  0.492085  0.497722  0.496383"
      ]
     },
     "execution_count": 32,
     "metadata": {},
     "output_type": "execute_result"
    }
   ],
   "source": [
    "littles_eyeball_test_double(double_mcar_df)"
   ]
  },
  {
   "cell_type": "code",
   "execution_count": 33,
   "metadata": {
    "tags": [
     "master"
    ]
   },
   "outputs": [
    {
     "data": {
      "text/html": [
       "<div>\n",
       "<style scoped>\n",
       "    .dataframe tbody tr th:only-of-type {\n",
       "        vertical-align: middle;\n",
       "    }\n",
       "\n",
       "    .dataframe tbody tr th {\n",
       "        vertical-align: top;\n",
       "    }\n",
       "\n",
       "    .dataframe thead th {\n",
       "        text-align: right;\n",
       "    }\n",
       "</style>\n",
       "<table border=\"1\" class=\"dataframe\">\n",
       "  <thead>\n",
       "    <tr style=\"text-align: right;\">\n",
       "      <th></th>\n",
       "      <th>0</th>\n",
       "      <th>1</th>\n",
       "      <th>2</th>\n",
       "      <th>3</th>\n",
       "    </tr>\n",
       "  </thead>\n",
       "  <tbody>\n",
       "    <tr>\n",
       "      <th>feature a</th>\n",
       "      <td>NaN</td>\n",
       "      <td>NaN</td>\n",
       "      <td>2.567100</td>\n",
       "      <td>1.846344</td>\n",
       "    </tr>\n",
       "    <tr>\n",
       "      <th>feature b</th>\n",
       "      <td>NaN</td>\n",
       "      <td>3.937308</td>\n",
       "      <td>NaN</td>\n",
       "      <td>3.469348</td>\n",
       "    </tr>\n",
       "    <tr>\n",
       "      <th>feature c</th>\n",
       "      <td>4.721765</td>\n",
       "      <td>4.575289</td>\n",
       "      <td>3.687987</td>\n",
       "      <td>3.235383</td>\n",
       "    </tr>\n",
       "    <tr>\n",
       "      <th>feature d</th>\n",
       "      <td>4.507087</td>\n",
       "      <td>3.668753</td>\n",
       "      <td>4.395672</td>\n",
       "      <td>3.294761</td>\n",
       "    </tr>\n",
       "    <tr>\n",
       "      <th>uncorrelated</th>\n",
       "      <td>0.494836</td>\n",
       "      <td>0.496492</td>\n",
       "      <td>0.494785</td>\n",
       "      <td>0.496191</td>\n",
       "    </tr>\n",
       "  </tbody>\n",
       "</table>\n",
       "</div>"
      ],
      "text/plain": [
       "                     0         1         2         3\n",
       "feature a          NaN       NaN  2.567100  1.846344\n",
       "feature b          NaN  3.937308       NaN  3.469348\n",
       "feature c     4.721765  4.575289  3.687987  3.235383\n",
       "feature d     4.507087  3.668753  4.395672  3.294761\n",
       "uncorrelated  0.494836  0.496492  0.494785  0.496191"
      ]
     },
     "execution_count": 33,
     "metadata": {},
     "output_type": "execute_result"
    }
   ],
   "source": [
    "littles_eyeball_test_double(double_mar_df)"
   ]
  },
  {
   "cell_type": "markdown",
   "metadata": {
    "id": "W56W7NVSTfqv"
   },
   "source": [
    "## $\\color{purple}{\\text{MNAR: The missingness you don't want}}$\n"
   ]
  },
  {
   "cell_type": "markdown",
   "metadata": {
    "id": "MIrZa7KjOwuh"
   },
   "source": [
    "### $\\color{purple}{\\text{How NOT to synthesize MNAR Missingness}}$\n",
    "\n",
    "This is how \"MNAR\" is often done in the literature to demonstrate imputation techniques. As you will see this is not true MNAR."
   ]
  },
  {
   "cell_type": "code",
   "execution_count": 34,
   "metadata": {
    "colab": {
     "base_uri": "https://localhost:8080/"
    },
    "executionInfo": {
     "elapsed": 4,
     "status": "ok",
     "timestamp": 1654210322960,
     "user": {
      "displayName": "Haw-minn Lu",
      "userId": "16109571175851064283"
     },
     "user_tz": 420
    },
    "id": "8jzpGFjLzlbM",
    "outputId": "13acbeab-f54f-4ee7-9425-669a85370956"
   },
   "outputs": [
    {
     "data": {
      "text/plain": [
       "3932"
      ]
     },
     "execution_count": 34,
     "metadata": {},
     "output_type": "execute_result"
    }
   ],
   "source": [
    "fmnar_df = clobber(df, \"feature a\", 0.4, depends=[\"feature a\"])\n",
    "fmnar_df[\"feature a\"].isnull().sum()"
   ]
  },
  {
   "cell_type": "code",
   "execution_count": 35,
   "metadata": {
    "colab": {
     "base_uri": "https://localhost:8080/",
     "height": 143
    },
    "executionInfo": {
     "elapsed": 193,
     "status": "ok",
     "timestamp": 1654210324513,
     "user": {
      "displayName": "Haw-minn Lu",
      "userId": "16109571175851064283"
     },
     "user_tz": 420
    },
    "id": "Zo6Kgm5nzPNO",
    "outputId": "cd8e54c9-9091-4907-c7bd-6f4be6c20a7c"
   },
   "outputs": [
    {
     "data": {
      "text/html": [
       "<div>\n",
       "<style scoped>\n",
       "    .dataframe tbody tr th:only-of-type {\n",
       "        vertical-align: middle;\n",
       "    }\n",
       "\n",
       "    .dataframe tbody tr th {\n",
       "        vertical-align: top;\n",
       "    }\n",
       "\n",
       "    .dataframe thead th {\n",
       "        text-align: right;\n",
       "    }\n",
       "</style>\n",
       "<table border=\"1\" class=\"dataframe\">\n",
       "  <thead>\n",
       "    <tr style=\"text-align: right;\">\n",
       "      <th></th>\n",
       "      <th>Original</th>\n",
       "      <th>With Missing Data</th>\n",
       "      <th>difference</th>\n",
       "      <th>percentage</th>\n",
       "    </tr>\n",
       "  </thead>\n",
       "  <tbody>\n",
       "    <tr>\n",
       "      <th>mean</th>\n",
       "      <td>2.225971</td>\n",
       "      <td>1.976750</td>\n",
       "      <td>0.249221</td>\n",
       "      <td>11.196060</td>\n",
       "    </tr>\n",
       "    <tr>\n",
       "      <th>median</th>\n",
       "      <td>2.223995</td>\n",
       "      <td>1.903549</td>\n",
       "      <td>0.320446</td>\n",
       "      <td>14.408575</td>\n",
       "    </tr>\n",
       "    <tr>\n",
       "      <th>stdev</th>\n",
       "      <td>1.278108</td>\n",
       "      <td>1.251113</td>\n",
       "      <td>0.026994</td>\n",
       "      <td>2.112052</td>\n",
       "    </tr>\n",
       "  </tbody>\n",
       "</table>\n",
       "</div>"
      ],
      "text/plain": [
       "        Original  With Missing Data  difference  percentage\n",
       "mean    2.225971           1.976750    0.249221   11.196060\n",
       "median  2.223995           1.903549    0.320446   14.408575\n",
       "stdev   1.278108           1.251113    0.026994    2.112052"
      ]
     },
     "execution_count": 35,
     "metadata": {},
     "output_type": "execute_result"
    }
   ],
   "source": [
    "stat_comparison(df, fmnar_df, \"feature a\")"
   ]
  },
  {
   "cell_type": "code",
   "execution_count": 36,
   "metadata": {
    "colab": {
     "base_uri": "https://localhost:8080/",
     "height": 206
    },
    "executionInfo": {
     "elapsed": 182,
     "status": "ok",
     "timestamp": 1654210327094,
     "user": {
      "displayName": "Haw-minn Lu",
      "userId": "16109571175851064283"
     },
     "user_tz": 420
    },
    "id": "ULLlB-2zU7FD",
    "outputId": "98162217-683c-4e6a-e29f-e5cd79ebb5a7"
   },
   "outputs": [
    {
     "data": {
      "text/html": [
       "<div>\n",
       "<style scoped>\n",
       "    .dataframe tbody tr th:only-of-type {\n",
       "        vertical-align: middle;\n",
       "    }\n",
       "\n",
       "    .dataframe tbody tr th {\n",
       "        vertical-align: top;\n",
       "    }\n",
       "\n",
       "    .dataframe thead th {\n",
       "        text-align: right;\n",
       "    }\n",
       "</style>\n",
       "<table border=\"1\" class=\"dataframe\">\n",
       "  <thead>\n",
       "    <tr style=\"text-align: right;\">\n",
       "      <th></th>\n",
       "      <th>0</th>\n",
       "      <th>1</th>\n",
       "      <th>2</th>\n",
       "    </tr>\n",
       "  </thead>\n",
       "  <tbody>\n",
       "    <tr>\n",
       "      <th>feature a</th>\n",
       "      <td>1.976750</td>\n",
       "      <td>NaN</td>\n",
       "      <td>NaN</td>\n",
       "    </tr>\n",
       "    <tr>\n",
       "      <th>feature b</th>\n",
       "      <td>3.589478</td>\n",
       "      <td>4.072865</td>\n",
       "      <td>-0.483387</td>\n",
       "    </tr>\n",
       "    <tr>\n",
       "      <th>feature c</th>\n",
       "      <td>3.339796</td>\n",
       "      <td>4.545123</td>\n",
       "      <td>-1.205327</td>\n",
       "    </tr>\n",
       "    <tr>\n",
       "      <th>feature d</th>\n",
       "      <td>3.465267</td>\n",
       "      <td>4.038037</td>\n",
       "      <td>-0.572770</td>\n",
       "    </tr>\n",
       "    <tr>\n",
       "      <th>uncorrelated</th>\n",
       "      <td>0.495141</td>\n",
       "      <td>0.499274</td>\n",
       "      <td>-0.004133</td>\n",
       "    </tr>\n",
       "  </tbody>\n",
       "</table>\n",
       "</div>"
      ],
      "text/plain": [
       "                     0         1         2\n",
       "feature a     1.976750       NaN       NaN\n",
       "feature b     3.589478  4.072865 -0.483387\n",
       "feature c     3.339796  4.545123 -1.205327\n",
       "feature d     3.465267  4.038037 -0.572770\n",
       "uncorrelated  0.495141  0.499274 -0.004133"
      ]
     },
     "execution_count": 36,
     "metadata": {},
     "output_type": "execute_result"
    }
   ],
   "source": [
    "littles_eyeball_test(fmnar_df, 'feature a')"
   ]
  },
  {
   "cell_type": "markdown",
   "metadata": {},
   "source": [
    "This is actually MAR. Recall from the definition in the previous section MNAR is \"the probability of data being missing depends on the unobserved data, **even after conditioning on the observed data**\". Turns out `feature a` is highly correlated to `feature c` so there is a statistically dependency on `feature c` even though we constructed the missingness based on `feature a`. "
   ]
  },
  {
   "cell_type": "markdown",
   "metadata": {},
   "source": [
    "### $\\color{purple}{\\text{A true NMAR missigness}}$\n",
    "\n",
    "In order to be NMAR the missingness must be uncorrelated to the visible data."
   ]
  },
  {
   "cell_type": "code",
   "execution_count": 37,
   "metadata": {
    "colab": {
     "base_uri": "https://localhost:8080/"
    },
    "executionInfo": {
     "elapsed": 401,
     "status": "ok",
     "timestamp": 1654210336585,
     "user": {
      "displayName": "Haw-minn Lu",
      "userId": "16109571175851064283"
     },
     "user_tz": 420
    },
    "id": "4JYTV89OzBaN",
    "outputId": "aa0fe90d-d029-4015-8465-f8c12c43d737"
   },
   "outputs": [
    {
     "data": {
      "text/plain": [
       "3913"
      ]
     },
     "execution_count": 37,
     "metadata": {},
     "output_type": "execute_result"
    }
   ],
   "source": [
    "mnar_df = clobber(df, \"uncorrelated\", 0.4, depends=[\"uncorrelated\"])\n",
    "\n",
    "mnar_df.to_csv('mnar_set.csv', index=False)\n",
    "mnar_df[\"uncorrelated\"].isnull().sum()"
   ]
  },
  {
   "cell_type": "code",
   "execution_count": 38,
   "metadata": {
    "colab": {
     "base_uri": "https://localhost:8080/",
     "height": 206
    },
    "executionInfo": {
     "elapsed": 186,
     "status": "ok",
     "timestamp": 1654205524328,
     "user": {
      "displayName": "Haw-minn Lu",
      "userId": "16109571175851064283"
     },
     "user_tz": 420
    },
    "id": "v8sH4-1PVJ2w",
    "outputId": "ed7a2b9d-a52f-428b-a962-0648bcf9b312"
   },
   "outputs": [
    {
     "data": {
      "text/html": [
       "<div>\n",
       "<style scoped>\n",
       "    .dataframe tbody tr th:only-of-type {\n",
       "        vertical-align: middle;\n",
       "    }\n",
       "\n",
       "    .dataframe tbody tr th {\n",
       "        vertical-align: top;\n",
       "    }\n",
       "\n",
       "    .dataframe thead th {\n",
       "        text-align: right;\n",
       "    }\n",
       "</style>\n",
       "<table border=\"1\" class=\"dataframe\">\n",
       "  <thead>\n",
       "    <tr style=\"text-align: right;\">\n",
       "      <th></th>\n",
       "      <th>0</th>\n",
       "      <th>1</th>\n",
       "      <th>2</th>\n",
       "    </tr>\n",
       "  </thead>\n",
       "  <tbody>\n",
       "    <tr>\n",
       "      <th>feature a</th>\n",
       "      <td>2.225122</td>\n",
       "      <td>2.229458</td>\n",
       "      <td>-0.004336</td>\n",
       "    </tr>\n",
       "    <tr>\n",
       "      <th>feature b</th>\n",
       "      <td>3.684429</td>\n",
       "      <td>3.684849</td>\n",
       "      <td>-0.000420</td>\n",
       "    </tr>\n",
       "    <tr>\n",
       "      <th>feature c</th>\n",
       "      <td>3.577770</td>\n",
       "      <td>3.572624</td>\n",
       "      <td>0.005146</td>\n",
       "    </tr>\n",
       "    <tr>\n",
       "      <th>feature d</th>\n",
       "      <td>3.575599</td>\n",
       "      <td>3.587227</td>\n",
       "      <td>-0.011628</td>\n",
       "    </tr>\n",
       "    <tr>\n",
       "      <th>uncorrelated</th>\n",
       "      <td>0.435574</td>\n",
       "      <td>NaN</td>\n",
       "      <td>NaN</td>\n",
       "    </tr>\n",
       "  </tbody>\n",
       "</table>\n",
       "</div>"
      ],
      "text/plain": [
       "                     0         1         2\n",
       "feature a     2.225122  2.229458 -0.004336\n",
       "feature b     3.684429  3.684849 -0.000420\n",
       "feature c     3.577770  3.572624  0.005146\n",
       "feature d     3.575599  3.587227 -0.011628\n",
       "uncorrelated  0.435574       NaN       NaN"
      ]
     },
     "execution_count": 38,
     "metadata": {},
     "output_type": "execute_result"
    }
   ],
   "source": [
    "littles_eyeball_test(mnar_df, 'uncorrelated')"
   ]
  },
  {
   "cell_type": "markdown",
   "metadata": {
    "colab": {
     "base_uri": "https://localhost:8080/",
     "height": 206
    },
    "executionInfo": {
     "elapsed": 217,
     "status": "ok",
     "timestamp": 1654205475189,
     "user": {
      "displayName": "Haw-minn Lu",
      "userId": "16109571175851064283"
     },
     "user_tz": 420
    },
    "id": "BPEUP2yNuW3G",
    "outputId": "e6361517-e889-4960-c32e-94ce8af310ca"
   },
   "source": [
    "### $\\color{purple}{\\text{Final thoughts on MNAR}}$\n",
    "You'll see it said that there is not statistical test for MNAR which is true, but a better statement is that there is no statistical way to distinguish MCAR and MNAR. You can test to see if missingness is MAR or not."
   ]
  },
  {
   "cell_type": "markdown",
   "metadata": {
    "id": "mHr5KNxKWE7V"
   },
   "source": [
    "### $\\color{purple}{\\text{Conclusion on the Theory Section}}$\n",
    "\n",
    "*   There is no way from just the data itself to distinguish between MCAR and MNAR. \n",
    "\n",
    "*   The so-called MCAR tests are really \"not MAR\" tests\n",
    "  * Most those tests assume you have already excluded MNAR\n",
    "* Recommend if the missingness is not MAR assume the worst and treat it as MNAR.\n",
    "* If missingness is MAR, you should use multivariate imputation not deletion.\n",
    "* Be careful synthesizing NMAR missingness for benchmarking\n"
   ]
  }
 ],
 "metadata": {
  "celltoolbar": "Tags",
  "colab": {
   "collapsed_sections": [],
   "name": "1-Deeper Dive into Missingness Mechanisms.ipynb",
   "provenance": [
    {
     "file_id": "147R7Q0ENB8T3VuWNvb_JVzLUW967tWTz",
     "timestamp": 1651305625803
    }
   ]
  },
  "kernelspec": {
   "display_name": "Python 3 (ipykernel)",
   "language": "python",
   "name": "python3"
  },
  "language_info": {
   "codemirror_mode": {
    "name": "ipython",
    "version": 3
   },
   "file_extension": ".py",
   "mimetype": "text/x-python",
   "name": "python",
   "nbconvert_exporter": "python",
   "pygments_lexer": "ipython3",
   "version": "3.9.7"
  },
  "toc": {
   "base_numbering": 1,
   "nav_menu": {},
   "number_sections": true,
   "sideBar": true,
   "skip_h1_title": false,
   "title_cell": "Table of Contents",
   "title_sidebar": "Contents",
   "toc_cell": false,
   "toc_position": {},
   "toc_section_display": true,
   "toc_window_display": false
  }
 },
 "nbformat": 4,
 "nbformat_minor": 1
}
