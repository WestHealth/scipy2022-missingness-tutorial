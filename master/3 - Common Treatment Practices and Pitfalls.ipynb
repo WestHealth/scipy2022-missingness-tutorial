{
 "cells": [
  {
   "cell_type": "code",
   "execution_count": null,
   "metadata": {
    "id": "x240DOArE5Wb"
   },
   "outputs": [],
   "source": [
    "%pip install autoimpute\n"
   ]
  },
  {
   "cell_type": "markdown",
   "metadata": {
    "id": "tub1CBws92hf"
   },
   "source": [
    "# $\\color{purple}{\\text{Understanding Missing Data and How to Deal with It (Part 4)}}$\n",
    "\n",
    "## $\\color{purple}{\\text{Common Treatment Practices}}$"
   ]
  },
  {
   "cell_type": "code",
   "execution_count": null,
   "metadata": {
    "id": "8tdWZiHkmz1L"
   },
   "outputs": [],
   "source": [
    "from google.colab import drive\n",
    "import os\n",
    "drive.mount('/content/drive')\n",
    "os.chdir('/content/drive/My Drive/missingness_tutorial')"
   ]
  },
  {
   "cell_type": "code",
   "execution_count": null,
   "metadata": {
    "id": "IpdrS926-znQ"
   },
   "outputs": [],
   "source": [
    "import pandas as pd"
   ]
  },
  {
   "cell_type": "code",
   "execution_count": null,
   "metadata": {
    "id": "DU0F-fGNpzY_"
   },
   "outputs": [],
   "source": [
    "df=pd.read_csv('full_set.csv')\n",
    "df"
   ]
  },
  {
   "cell_type": "code",
   "execution_count": null,
   "metadata": {
    "id": "J5_auknDp8jf"
   },
   "outputs": [],
   "source": [
    "mcar_df = pd.read_csv('mcar_set.csv')\n",
    "mcar_df\n",
    "mar_df = pd.read_csv('mar_set.csv')\n",
    "mar_df\n"
   ]
  },
  {
   "cell_type": "markdown",
   "metadata": {
    "id": "oj4YGFTZ-x3q"
   },
   "source": [
    "### $\\color{purple}{\\text{Deletion}}$\n",
    "\n",
    "#### $\\color{purple}{\\text{List Deletion}}$\n",
    "mcar_df.dropna()\n",
    "#### $\\color{purple}{\\text{Pair Deletion}}$"
   ]
  },
  {
   "cell_type": "code",
   "execution_count": null,
   "metadata": {
    "id": "-toqYD9OqK5u"
   },
   "outputs": [],
   "source": [
    "cleaned=mar_df.dropna()"
   ]
  },
  {
   "cell_type": "code",
   "execution_count": null,
   "metadata": {
    "id": "N7JniitC_CeH"
   },
   "outputs": [],
   "source": [
    "from helpers import stat_comparison"
   ]
  },
  {
   "cell_type": "markdown",
   "metadata": {
    "id": "BUb1ukJN_HxY"
   },
   "source": [
    "stat_comparison(cleaned, df)"
   ]
  },
  {
   "cell_type": "code",
   "execution_count": null,
   "metadata": {
    "id": "yuEldk8P_MHA"
   },
   "outputs": [],
   "source": [
    "stat_comparison( df, cleaned, 'feature a')"
   ]
  },
  {
   "cell_type": "markdown",
   "metadata": {
    "id": "3PJCEgBa_pY9"
   },
   "source": [
    "### $\\color{purple}{\\text{Interpolation}}$\n",
    "\n",
    "#### $\\color{purple}{\\text{Back Fill/Forward Fill}}$\n",
    "\n",
    "#### $\\color{purple}{\\text{Linear Interpolation}}$\n",
    "\n",
    "#### $\\color{purple}{\\text{Other Interpolation}}$\n"
   ]
  },
  {
   "cell_type": "code",
   "execution_count": null,
   "metadata": {
    "id": "3sXn6Xl--n7B"
   },
   "outputs": [],
   "source": [
    "import pandas as pd\n",
    "import matplotlib.pyplot as plt  # a library to plot nice graphs. plt is just a short alias\n",
    "import matplotlib\n",
    "plt.style.use('ggplot')\n",
    "df=pd.read_csv('interpolate.csv')\n",
    "#plt.plot(df.x,df.y,'ro')\n",
    "plt.plot(df.y, df.z, 'ro')"
   ]
  },
  {
   "cell_type": "code",
   "execution_count": null,
   "metadata": {
    "id": "KQfKoMnREcPT"
   },
   "outputs": [],
   "source": [
    "df.isnull().sum()"
   ]
  },
  {
   "cell_type": "code",
   "execution_count": null,
   "metadata": {
    "id": "yv6E0tR3CNbR"
   },
   "outputs": [],
   "source": [
    "df['missing']=df.y.isnull().astype(int)"
   ]
  },
  {
   "cell_type": "code",
   "execution_count": null,
   "metadata": {
    "id": "7EGqdztAEy7d"
   },
   "outputs": [],
   "source": [
    "ndf=df.sort_values('x').fillna(method='ffill')\n",
    "plt.scatter(ndf.x, ndf.y, c=df.missing, cmap=matplotlib.colors.ListedColormap(['red', 'deepskyblue'] ))"
   ]
  },
  {
   "cell_type": "code",
   "execution_count": null,
   "metadata": {
    "id": "O5Y0SdktApte"
   },
   "outputs": [],
   "source": [
    "plt.scatter(ndf.y, ndf.z, c=df.missing, cmap=matplotlib.colors.ListedColormap(['red', 'deepskyblue'] ))"
   ]
  },
  {
   "cell_type": "code",
   "execution_count": null,
   "metadata": {
    "id": "tT6qHj3qERyT"
   },
   "outputs": [],
   "source": [
    "plt.scatter(ndf.y, ndf.z, c=df.missing, cmap='Dark2')"
   ]
  },
  {
   "cell_type": "code",
   "execution_count": null,
   "metadata": {
    "id": "_sf0hD4LHy4K"
   },
   "outputs": [],
   "source": [
    "from scipy import interpolate\n",
    "interpolator_y = interpolate.interp1d(df.dropna().x, df.dropna().y, kind='linear')\n",
    "ndf['y']=interpolator_y(ndf.x)\n",
    "interpolator_z = interpolate.interp1d(df.dropna().x, df.dropna().z, kind='cubic')\n",
    "ndf['z']=interpolator_z(ndf.x)\n",
    "plt.scatter(ndf.y, ndf.z, c=df.missing, cmap=matplotlib.colors.ListedColormap(['red', 'deepskyblue']))"
   ]
  },
  {
   "cell_type": "markdown",
   "metadata": {
    "id": "5BBSTzI3E-wZ"
   },
   "source": [
    "### $\\color{purple}{\\text{Imputation}}$\n",
    "\n",
    "\n",
    "#### $\\color{purple}{\\text{Univariate}}$\n",
    "Mean/Median\n",
    "\n",
    "Mode/Frequent\n",
    "\n",
    "Random\n",
    "\n",
    "\n",
    "\n",
    "* Backfill\n",
    "* Forward Fill\n",
    "* Deletion\n",
    "* Zero Fill\n",
    "* Mean Fill\n",
    "* Interpolation\n",
    "* Imputation\n",
    "\n",
    "https://www.numpyninja.com/post/mice-algorithm-to-impute-missing-values-in-a-dataset\n"
   ]
  },
  {
   "cell_type": "code",
   "execution_count": null,
   "metadata": {
    "id": "YhroZFWjBqrX"
   },
   "outputs": [],
   "source": [
    "import autoimpute"
   ]
  },
  {
   "cell_type": "code",
   "execution_count": null,
   "metadata": {
    "id": "jbu4JeBBBrhM"
   },
   "outputs": [],
   "source": [
    "from autoimpute.imputations import SingleImputer"
   ]
  },
  {
   "cell_type": "markdown",
   "metadata": {
    "id": "p3nnMrYiiirs"
   },
   "source": []
  },
  {
   "cell_type": "code",
   "execution_count": null,
   "metadata": {
    "id": "fTmyFiNVBuI7"
   },
   "outputs": [],
   "source": [
    "imputer=SingleImputer('mean')"
   ]
  },
  {
   "cell_type": "code",
   "execution_count": null,
   "metadata": {
    "id": "bLvCvl83i5nA"
   },
   "outputs": [],
   "source": [
    "imputations = imputer.fit_transform(mar_df)"
   ]
  },
  {
   "cell_type": "code",
   "execution_count": null,
   "metadata": {
    "id": "0LFoIjcVC3Hu"
   },
   "outputs": [],
   "source": [
    "imputations"
   ]
  },
  {
   "cell_type": "code",
   "execution_count": null,
   "metadata": {
    "id": "NaJTXvFQjVJX"
   },
   "outputs": [],
   "source": [
    "mar_df"
   ]
  },
  {
   "cell_type": "code",
   "execution_count": null,
   "metadata": {
    "id": "aP5MaTxoGdkF"
   },
   "outputs": [],
   "source": [
    "mar_df.fillna(mar_df['feature a'].mean())"
   ]
  },
  {
   "cell_type": "code",
   "execution_count": null,
   "metadata": {
    "id": "OS5Ca5xiGou0"
   },
   "outputs": [],
   "source": [
    "mar_df.fillna(mar_df['feature a'].median())"
   ]
  },
  {
   "cell_type": "code",
   "execution_count": null,
   "metadata": {
    "id": "OpvPq4_IJoKW"
   },
   "outputs": [],
   "source": []
  },
  {
   "cell_type": "code",
   "execution_count": null,
   "metadata": {
    "id": "5Z_-4V4bfeQu"
   },
   "outputs": [],
   "source": [
    "import numpy as np"
   ]
  },
  {
   "cell_type": "code",
   "execution_count": null,
   "metadata": {
    "id": "ToZXpvrQfhDV"
   },
   "outputs": [],
   "source": [
    "filler=np.random.normal(mar_df['feature a'].mean(), mar_df['feature a'].std(), 20000)\n",
    "mar_df.assign(**{'feature a': mar_df['feature a'].where(~mar_df['feature a'].isnull(), filler)})"
   ]
  },
  {
   "cell_type": "code",
   "execution_count": null,
   "metadata": {
    "id": "sWjeN5w5fxb2"
   },
   "outputs": [],
   "source": [
    "filler"
   ]
  },
  {
   "cell_type": "code",
   "execution_count": null,
   "metadata": {
    "id": "1orCCjk0gmxh"
   },
   "outputs": [],
   "source": [
    "pd.Series(filler)"
   ]
  },
  {
   "cell_type": "code",
   "execution_count": null,
   "metadata": {
    "id": "-ybRMX-5gobQ"
   },
   "outputs": [],
   "source": []
  }
 ],
 "metadata": {
  "colab": {
   "authorship_tag": "ABX9TyPThFxeTVWCR4k5kX6b6Bmu",
   "collapsed_sections": [],
   "name": "3 - Common Treatment Practices and Pitfalls.ipynb",
   "private_outputs": true,
   "provenance": []
  },
  "kernelspec": {
   "display_name": "Python 3",
   "name": "python3"
  },
  "language_info": {
   "name": "python"
  }
 },
 "nbformat": 4,
 "nbformat_minor": 0
}
