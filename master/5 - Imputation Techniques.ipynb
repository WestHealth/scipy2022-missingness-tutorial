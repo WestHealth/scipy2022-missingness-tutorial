{
 "cells": [
  {
   "cell_type": "markdown",
   "metadata": {
    "id": "XGJmuVrOrepP"
   },
   "source": [
    "# $\\color{purple}{\\text{Understanding Missing Data and How to Deal with It (Part 5)}}$\n",
    "\n",
    "## $\\color{purple}{\\text{Advanced Imputation Techniques}}$"
   ]
  },
  {
   "cell_type": "markdown",
   "metadata": {
    "tags": [
     "colab"
    ]
   },
   "source": [
    "### $\\color{purple}{\\text{Colab Environmental Setup}}$"
   ]
  },
  {
   "cell_type": "raw",
   "metadata": {
    "tags": [
     "colab"
    ]
   },
   "source": [
    "from google.colab import drive\n",
    "import os\n",
    "drive.mount('/content/drive')\n",
    "os.chdir('/content/drive/My Drive/missingness_tutorial')"
   ]
  },
  {
   "cell_type": "markdown",
   "metadata": {},
   "source": [
    "### $\\color{purple}{\\text{Libraries for this lesson}}$"
   ]
  },
  {
   "cell_type": "code",
   "execution_count": 1,
   "metadata": {},
   "outputs": [],
   "source": [
    "import pandas as pd\n",
    "import numpy as np\n",
    "from helpers import stat_comparison, spotlight_donors, ImputationDisplayer\n",
    "from sklearn.ensemble import RandomForestClassifier\n",
    "from sklearn.linear_model import LinearRegression\n",
    "from sklearn.ensemble import RandomForestRegressor\n",
    "\n",
    "from autoimpute.imputations import SingleImputer\n",
    "from autoimpute.imputations import MultipleImputer\n",
    "from autoimpute.imputations import MiceImputer"
   ]
  },
  {
   "cell_type": "code",
   "execution_count": 2,
   "metadata": {
    "colab": {
     "base_uri": "https://localhost:8080/",
     "height": 450
    },
    "executionInfo": {
     "elapsed": 20431,
     "status": "ok",
     "timestamp": 1654721415225,
     "user": {
      "displayName": "Haw-minn Lu",
      "userId": "16109571175851064283"
     },
     "user_tz": 420
    },
    "id": "e7N2XN4NFG-d",
    "outputId": "6103427b-15a2-4d9f-9d57-579328cc0633"
   },
   "outputs": [
    {
     "data": {
      "text/plain": [
       "<helpers.ImputationDisplayer at 0x7f9014071d60>"
      ]
     },
     "execution_count": 2,
     "metadata": {},
     "output_type": "execute_result"
    }
   ],
   "source": [
    "df = pd.read_csv('data/full_set.csv')\n",
    "mar_df = pd.read_csv('data/mar_set.csv')\n",
    "ImputationDisplayer(mar_df)"
   ]
  },
  {
   "cell_type": "markdown",
   "metadata": {},
   "source": [
    "## $\\color{purple}{\\text{Multivariate Imputation}}$\n",
    "Conventional Multivariate Imputation falls into 2 categories\n",
    "* Regression Imputation\n",
    "* Hot Deck Imputation\n",
    "\n",
    "Another cutting edge method worth mentioning\n",
    "* Neural Network Autoencoder"
   ]
  },
  {
   "cell_type": "markdown",
   "metadata": {
    "id": "l-lI2daBFGxl"
   },
   "source": [
    "## $\\color{purple}{\\text{Regression Imputation}}$\n",
    "\n",
    "General Technique:\n",
    "Use Regression/Classification Models to impute Numeric/Categorical Missing Values\n",
    "* Linear Regression\n",
    "* Stocastic Linear Regression\n",
    "* Logistic Regression\n",
    "* Other Possibilities (generally unexplored)\n",
    "  * Random Forest\n",
    "  * Decision Trees\n",
    "  * KNN"
   ]
  },
  {
   "cell_type": "markdown",
   "metadata": {
    "id": "NGTqexiQMgmM"
   },
   "source": [
    "### $\\color{purple}{\\text{Linear Regression}}$\n",
    "\n",
    "* Works with MAR\n",
    "* Can impute illegal (out of bounds) values\n",
    "* Can under estimate variance/covariance"
   ]
  },
  {
   "cell_type": "code",
   "execution_count": 3,
   "metadata": {
    "id": "KSE9PBfSoF3c"
   },
   "outputs": [],
   "source": [
    "linear_regressor = LinearRegression()"
   ]
  },
  {
   "cell_type": "markdown",
   "metadata": {},
   "source": [
    "#### Perform the linear regresssion\n",
    "\n",
    "We base the prediction of `feature a` on the remaining features in `rest`. We only run the regression on data with full rows, `full_data`."
   ]
  },
  {
   "cell_type": "code",
   "execution_count": 4,
   "metadata": {},
   "outputs": [],
   "source": [
    "rest = ['feature b', 'feature c', 'feature d', 'uncorrelated']\n",
    "full_data = mar_df.dropna()\n",
    "linear_regressor.fit(full_data[rest], full_data['feature a'])\n",
    "predicted = linear_regressor.predict(mar_df[rest])"
   ]
  },
  {
   "cell_type": "markdown",
   "metadata": {},
   "source": [
    "#### A note about a code pattern\n",
    "\n",
    "I will be repeating the following code pattern or variation thereof. \n",
    "\n",
    "```.assign(**{'feature a': df['feature a'].where(~df['feature a'].isnull(), predicted)``` \n",
    "\n",
    "Depending on the use case, I'll either be filling in a value when the value is missing or substituting a NaN where a missing value is (see section on MICE below).\n",
    "\n",
    "This basically substitutes the predicted value only when values are missing.\n",
    "\n",
    "This is basically the same pattern as\n",
    "\n",
    "```df['feature a'] = df['feature a'].where(~df['feature a'].isnull(), predicted)```\n",
    "\n",
    "but allows for passing the dataframe or method chaining"
   ]
  },
  {
   "cell_type": "code",
   "execution_count": 5,
   "metadata": {},
   "outputs": [],
   "source": [
    "imputed=mar_df.assign(**{'feature a': mar_df['feature a'].where(~mar_df['feature a'].isnull(), \n",
    "                        predicted)}\n",
    "                     )"
   ]
  },
  {
   "cell_type": "markdown",
   "metadata": {},
   "source": [
    "### $\\color{purple}{\\text{Analyze the Results}}$"
   ]
  },
  {
   "cell_type": "code",
   "execution_count": 6,
   "metadata": {},
   "outputs": [
    {
     "data": {
      "text/html": [
       "<div>\n",
       "<style scoped>\n",
       "    .dataframe tbody tr th:only-of-type {\n",
       "        vertical-align: middle;\n",
       "    }\n",
       "\n",
       "    .dataframe tbody tr th {\n",
       "        vertical-align: top;\n",
       "    }\n",
       "\n",
       "    .dataframe thead th {\n",
       "        text-align: right;\n",
       "    }\n",
       "</style>\n",
       "<table border=\"1\" class=\"dataframe\">\n",
       "  <thead>\n",
       "    <tr style=\"text-align: right;\">\n",
       "      <th></th>\n",
       "      <th>Original</th>\n",
       "      <th>With Missing Data</th>\n",
       "      <th>difference</th>\n",
       "      <th>percentage</th>\n",
       "    </tr>\n",
       "  </thead>\n",
       "  <tbody>\n",
       "    <tr>\n",
       "      <th>mean</th>\n",
       "      <td>2.411082</td>\n",
       "      <td>2.410061</td>\n",
       "      <td>0.001021</td>\n",
       "      <td>0.042360</td>\n",
       "    </tr>\n",
       "    <tr>\n",
       "      <th>median</th>\n",
       "      <td>2.420924</td>\n",
       "      <td>2.421312</td>\n",
       "      <td>0.000388</td>\n",
       "      <td>0.016017</td>\n",
       "    </tr>\n",
       "    <tr>\n",
       "      <th>stdev</th>\n",
       "      <td>1.279456</td>\n",
       "      <td>1.276724</td>\n",
       "      <td>0.002731</td>\n",
       "      <td>0.213476</td>\n",
       "    </tr>\n",
       "  </tbody>\n",
       "</table>\n",
       "</div>"
      ],
      "text/plain": [
       "        Original  With Missing Data  difference  percentage\n",
       "mean    2.411082           2.410061    0.001021    0.042360\n",
       "median  2.420924           2.421312    0.000388    0.016017\n",
       "stdev   1.279456           1.276724    0.002731    0.213476"
      ]
     },
     "execution_count": 6,
     "metadata": {},
     "output_type": "execute_result"
    }
   ],
   "source": [
    "stat_comparison(df, imputed, 'feature a')"
   ]
  },
  {
   "cell_type": "code",
   "execution_count": 7,
   "metadata": {},
   "outputs": [
    {
     "data": {
      "text/html": [
       "<style type=\"text/css\">\n",
       "#T_e95e2_row1_col0, #T_e95e2_row8_col0, #T_e95e2_row12_col0 {\n",
       "  background-color: paleturquoise;\n",
       "}\n",
       "</style>\n",
       "<table id=\"T_e95e2\">\n",
       "  <thead>\n",
       "    <tr>\n",
       "      <th class=\"blank level0\" >&nbsp;</th>\n",
       "      <th id=\"T_e95e2_level0_col0\" class=\"col_heading level0 col0\" >feature a</th>\n",
       "      <th id=\"T_e95e2_level0_col1\" class=\"col_heading level0 col1\" >feature b</th>\n",
       "      <th id=\"T_e95e2_level0_col2\" class=\"col_heading level0 col2\" >feature c</th>\n",
       "      <th id=\"T_e95e2_level0_col3\" class=\"col_heading level0 col3\" >feature d</th>\n",
       "      <th id=\"T_e95e2_level0_col4\" class=\"col_heading level0 col4\" >uncorrelated</th>\n",
       "    </tr>\n",
       "  </thead>\n",
       "  <tbody>\n",
       "    <tr>\n",
       "      <th id=\"T_e95e2_level0_row0\" class=\"row_heading level0 row0\" >0</th>\n",
       "      <td id=\"T_e95e2_row0_col0\" class=\"data row0 col0\" >2.777245</td>\n",
       "      <td id=\"T_e95e2_row0_col1\" class=\"data row0 col1\" >2.234252</td>\n",
       "      <td id=\"T_e95e2_row0_col2\" class=\"data row0 col2\" >-1.552282</td>\n",
       "      <td id=\"T_e95e2_row0_col3\" class=\"data row0 col3\" >8.772158</td>\n",
       "      <td id=\"T_e95e2_row0_col4\" class=\"data row0 col4\" >0.360789</td>\n",
       "    </tr>\n",
       "    <tr>\n",
       "      <th id=\"T_e95e2_level0_row1\" class=\"row_heading level0 row1\" >1</th>\n",
       "      <td id=\"T_e95e2_row1_col0\" class=\"data row1 col0\" >3.955997</td>\n",
       "      <td id=\"T_e95e2_row1_col1\" class=\"data row1 col1\" >2.223169</td>\n",
       "      <td id=\"T_e95e2_row1_col2\" class=\"data row1 col2\" >-0.645673</td>\n",
       "      <td id=\"T_e95e2_row1_col3\" class=\"data row1 col3\" >8.815675</td>\n",
       "      <td id=\"T_e95e2_row1_col4\" class=\"data row1 col4\" >0.393466</td>\n",
       "    </tr>\n",
       "    <tr>\n",
       "      <th id=\"T_e95e2_level0_row2\" class=\"row_heading level0 row2\" >2</th>\n",
       "      <td id=\"T_e95e2_row2_col0\" class=\"data row2 col0\" >1.936893</td>\n",
       "      <td id=\"T_e95e2_row2_col1\" class=\"data row2 col1\" >2.182897</td>\n",
       "      <td id=\"T_e95e2_row2_col2\" class=\"data row2 col2\" >-2.474526</td>\n",
       "      <td id=\"T_e95e2_row2_col3\" class=\"data row2 col3\" >8.549983</td>\n",
       "      <td id=\"T_e95e2_row2_col4\" class=\"data row2 col4\" >0.891191</td>\n",
       "    </tr>\n",
       "    <tr>\n",
       "      <th id=\"T_e95e2_level0_row3\" class=\"row_heading level0 row3\" >3</th>\n",
       "      <td id=\"T_e95e2_row3_col0\" class=\"data row3 col0\" >2.484183</td>\n",
       "      <td id=\"T_e95e2_row3_col1\" class=\"data row3 col1\" >1.618856</td>\n",
       "      <td id=\"T_e95e2_row3_col2\" class=\"data row3 col2\" >-1.404809</td>\n",
       "      <td id=\"T_e95e2_row3_col3\" class=\"data row3 col3\" >7.360904</td>\n",
       "      <td id=\"T_e95e2_row3_col4\" class=\"data row3 col4\" >0.156937</td>\n",
       "    </tr>\n",
       "    <tr>\n",
       "      <th id=\"T_e95e2_level0_row4\" class=\"row_heading level0 row4\" >4</th>\n",
       "      <td id=\"T_e95e2_row4_col0\" class=\"data row4 col0\" >2.089727</td>\n",
       "      <td id=\"T_e95e2_row4_col1\" class=\"data row4 col1\" >2.698967</td>\n",
       "      <td id=\"T_e95e2_row4_col2\" class=\"data row4 col2\" >-1.464007</td>\n",
       "      <td id=\"T_e95e2_row4_col3\" class=\"data row4 col3\" >7.786100</td>\n",
       "      <td id=\"T_e95e2_row4_col4\" class=\"data row4 col4\" >0.046178</td>\n",
       "    </tr>\n",
       "    <tr>\n",
       "      <th id=\"T_e95e2_level0_row5\" class=\"row_heading level0 row5\" >5</th>\n",
       "      <td id=\"T_e95e2_row5_col0\" class=\"data row5 col0\" >3.369940</td>\n",
       "      <td id=\"T_e95e2_row5_col1\" class=\"data row5 col1\" >2.842243</td>\n",
       "      <td id=\"T_e95e2_row5_col2\" class=\"data row5 col2\" >-0.716772</td>\n",
       "      <td id=\"T_e95e2_row5_col3\" class=\"data row5 col3\" >8.767852</td>\n",
       "      <td id=\"T_e95e2_row5_col4\" class=\"data row5 col4\" >0.342830</td>\n",
       "    </tr>\n",
       "    <tr>\n",
       "      <th id=\"T_e95e2_level0_row6\" class=\"row_heading level0 row6\" >6</th>\n",
       "      <td id=\"T_e95e2_row6_col0\" class=\"data row6 col0\" >0.764542</td>\n",
       "      <td id=\"T_e95e2_row6_col1\" class=\"data row6 col1\" >1.532282</td>\n",
       "      <td id=\"T_e95e2_row6_col2\" class=\"data row6 col2\" >-3.850084</td>\n",
       "      <td id=\"T_e95e2_row6_col3\" class=\"data row6 col3\" >7.992571</td>\n",
       "      <td id=\"T_e95e2_row6_col4\" class=\"data row6 col4\" >0.678203</td>\n",
       "    </tr>\n",
       "    <tr>\n",
       "      <th id=\"T_e95e2_level0_row7\" class=\"row_heading level0 row7\" >7</th>\n",
       "      <td id=\"T_e95e2_row7_col0\" class=\"data row7 col0\" >3.539507</td>\n",
       "      <td id=\"T_e95e2_row7_col1\" class=\"data row7 col1\" >2.120999</td>\n",
       "      <td id=\"T_e95e2_row7_col2\" class=\"data row7 col2\" >0.181066</td>\n",
       "      <td id=\"T_e95e2_row7_col3\" class=\"data row7 col3\" >7.158813</td>\n",
       "      <td id=\"T_e95e2_row7_col4\" class=\"data row7 col4\" >0.942345</td>\n",
       "    </tr>\n",
       "    <tr>\n",
       "      <th id=\"T_e95e2_level0_row8\" class=\"row_heading level0 row8\" >8</th>\n",
       "      <td id=\"T_e95e2_row8_col0\" class=\"data row8 col0\" >3.118221</td>\n",
       "      <td id=\"T_e95e2_row8_col1\" class=\"data row8 col1\" >1.816557</td>\n",
       "      <td id=\"T_e95e2_row8_col2\" class=\"data row8 col2\" >-1.325628</td>\n",
       "      <td id=\"T_e95e2_row8_col3\" class=\"data row8 col3\" >8.144401</td>\n",
       "      <td id=\"T_e95e2_row8_col4\" class=\"data row8 col4\" >0.460626</td>\n",
       "    </tr>\n",
       "    <tr>\n",
       "      <th id=\"T_e95e2_level0_row9\" class=\"row_heading level0 row9\" >9</th>\n",
       "      <td id=\"T_e95e2_row9_col0\" class=\"data row9 col0\" >0.445575</td>\n",
       "      <td id=\"T_e95e2_row9_col1\" class=\"data row9 col1\" >0.827475</td>\n",
       "      <td id=\"T_e95e2_row9_col2\" class=\"data row9 col2\" >-4.705004</td>\n",
       "      <td id=\"T_e95e2_row9_col3\" class=\"data row9 col3\" >8.161819</td>\n",
       "      <td id=\"T_e95e2_row9_col4\" class=\"data row9 col4\" >0.014623</td>\n",
       "    </tr>\n",
       "    <tr>\n",
       "      <th id=\"T_e95e2_level0_row10\" class=\"row_heading level0 row10\" >10</th>\n",
       "      <td id=\"T_e95e2_row10_col0\" class=\"data row10 col0\" >1.753775</td>\n",
       "      <td id=\"T_e95e2_row10_col1\" class=\"data row10 col1\" >2.827564</td>\n",
       "      <td id=\"T_e95e2_row10_col2\" class=\"data row10 col2\" >-2.582017</td>\n",
       "      <td id=\"T_e95e2_row10_col3\" class=\"data row10 col3\" >8.975136</td>\n",
       "      <td id=\"T_e95e2_row10_col4\" class=\"data row10 col4\" >0.590877</td>\n",
       "    </tr>\n",
       "    <tr>\n",
       "      <th id=\"T_e95e2_level0_row11\" class=\"row_heading level0 row11\" >11</th>\n",
       "      <td id=\"T_e95e2_row11_col0\" class=\"data row11 col0\" >2.289564</td>\n",
       "      <td id=\"T_e95e2_row11_col1\" class=\"data row11 col1\" >1.991754</td>\n",
       "      <td id=\"T_e95e2_row11_col2\" class=\"data row11 col2\" >-1.575980</td>\n",
       "      <td id=\"T_e95e2_row11_col3\" class=\"data row11 col3\" >7.188518</td>\n",
       "      <td id=\"T_e95e2_row11_col4\" class=\"data row11 col4\" >0.040173</td>\n",
       "    </tr>\n",
       "    <tr>\n",
       "      <th id=\"T_e95e2_level0_row12\" class=\"row_heading level0 row12\" >12</th>\n",
       "      <td id=\"T_e95e2_row12_col0\" class=\"data row12 col0\" >3.128492</td>\n",
       "      <td id=\"T_e95e2_row12_col1\" class=\"data row12 col1\" >1.524238</td>\n",
       "      <td id=\"T_e95e2_row12_col2\" class=\"data row12 col2\" >-0.903384</td>\n",
       "      <td id=\"T_e95e2_row12_col3\" class=\"data row12 col3\" >7.192445</td>\n",
       "      <td id=\"T_e95e2_row12_col4\" class=\"data row12 col4\" >0.224120</td>\n",
       "    </tr>\n",
       "    <tr>\n",
       "      <th id=\"T_e95e2_level0_row13\" class=\"row_heading level0 row13\" >13</th>\n",
       "      <td id=\"T_e95e2_row13_col0\" class=\"data row13 col0\" >2.500479</td>\n",
       "      <td id=\"T_e95e2_row13_col1\" class=\"data row13 col1\" >1.652539</td>\n",
       "      <td id=\"T_e95e2_row13_col2\" class=\"data row13 col2\" >-1.647218</td>\n",
       "      <td id=\"T_e95e2_row13_col3\" class=\"data row13 col3\" >7.449799</td>\n",
       "      <td id=\"T_e95e2_row13_col4\" class=\"data row13 col4\" >0.430489</td>\n",
       "    </tr>\n",
       "    <tr>\n",
       "      <th id=\"T_e95e2_level0_row14\" class=\"row_heading level0 row14\" >14</th>\n",
       "      <td id=\"T_e95e2_row14_col0\" class=\"data row14 col0\" >1.813547</td>\n",
       "      <td id=\"T_e95e2_row14_col1\" class=\"data row14 col1\" >1.764213</td>\n",
       "      <td id=\"T_e95e2_row14_col2\" class=\"data row14 col2\" >-2.917344</td>\n",
       "      <td id=\"T_e95e2_row14_col3\" class=\"data row14 col3\" >8.678066</td>\n",
       "      <td id=\"T_e95e2_row14_col4\" class=\"data row14 col4\" >0.866894</td>\n",
       "    </tr>\n",
       "  </tbody>\n",
       "</table>\n"
      ],
      "text/plain": [
       "<pandas.io.formats.style.Styler at 0x7f8fcf6da070>"
      ]
     },
     "execution_count": 7,
     "metadata": {},
     "output_type": "execute_result"
    }
   ],
   "source": [
    "mar_df.displayer(imputed, 15)"
   ]
  },
  {
   "cell_type": "markdown",
   "metadata": {},
   "source": [
    "### $\\color{purple}{\\text{Stochastic Regression}}$\n",
    "* Extends Linear Regression by adding noise modelling the residuals\n",
    "* Better simulates variance\n",
    "* Can also produce out of bounds values"
   ]
  },
  {
   "cell_type": "markdown",
   "metadata": {},
   "source": [
    "We rely on the linear regression prediction above. And calculate the statistics behind the residuals of the linear regression."
   ]
  },
  {
   "cell_type": "code",
   "execution_count": 8,
   "metadata": {},
   "outputs": [
    {
     "data": {
      "text/plain": [
       "0.1564667846459442"
      ]
     },
     "execution_count": 8,
     "metadata": {},
     "output_type": "execute_result"
    }
   ],
   "source": [
    "residual = mar_df['feature a'] - predicted\n",
    "residual.mean()\n",
    "residual.std()"
   ]
  },
  {
   "cell_type": "markdown",
   "metadata": {},
   "source": [
    "For the prediction we model the residual noise as a normal distribution and adjust predictions accordingly."
   ]
  },
  {
   "cell_type": "code",
   "execution_count": 9,
   "metadata": {},
   "outputs": [],
   "source": [
    "residual_noise=np.random.normal(residual.mean(), residual.std(), 20000)\n",
    "predicted+=residual_noise"
   ]
  },
  {
   "cell_type": "code",
   "execution_count": 10,
   "metadata": {},
   "outputs": [],
   "source": [
    "imputed=mar_df.assign(**{'feature a': mar_df['feature a'].where(~mar_df['feature a'].isnull(), \n",
    "                        predicted)}\n",
    "                     )"
   ]
  },
  {
   "cell_type": "markdown",
   "metadata": {},
   "source": [
    "### $\\color{purple}{\\text{Analyze the Results}}$"
   ]
  },
  {
   "cell_type": "code",
   "execution_count": 11,
   "metadata": {
    "tags": [
     "master"
    ]
   },
   "outputs": [
    {
     "data": {
      "text/html": [
       "<div>\n",
       "<style scoped>\n",
       "    .dataframe tbody tr th:only-of-type {\n",
       "        vertical-align: middle;\n",
       "    }\n",
       "\n",
       "    .dataframe tbody tr th {\n",
       "        vertical-align: top;\n",
       "    }\n",
       "\n",
       "    .dataframe thead th {\n",
       "        text-align: right;\n",
       "    }\n",
       "</style>\n",
       "<table border=\"1\" class=\"dataframe\">\n",
       "  <thead>\n",
       "    <tr style=\"text-align: right;\">\n",
       "      <th></th>\n",
       "      <th>Original</th>\n",
       "      <th>With Missing Data</th>\n",
       "      <th>difference</th>\n",
       "      <th>percentage</th>\n",
       "    </tr>\n",
       "  </thead>\n",
       "  <tbody>\n",
       "    <tr>\n",
       "      <th>mean</th>\n",
       "      <td>2.411082</td>\n",
       "      <td>2.410422</td>\n",
       "      <td>0.000660</td>\n",
       "      <td>0.027379</td>\n",
       "    </tr>\n",
       "    <tr>\n",
       "      <th>median</th>\n",
       "      <td>2.420924</td>\n",
       "      <td>2.419920</td>\n",
       "      <td>0.001005</td>\n",
       "      <td>0.041504</td>\n",
       "    </tr>\n",
       "    <tr>\n",
       "      <th>stdev</th>\n",
       "      <td>1.279456</td>\n",
       "      <td>1.278250</td>\n",
       "      <td>0.001206</td>\n",
       "      <td>0.094247</td>\n",
       "    </tr>\n",
       "  </tbody>\n",
       "</table>\n",
       "</div>"
      ],
      "text/plain": [
       "        Original  With Missing Data  difference  percentage\n",
       "mean    2.411082           2.410422    0.000660    0.027379\n",
       "median  2.420924           2.419920    0.001005    0.041504\n",
       "stdev   1.279456           1.278250    0.001206    0.094247"
      ]
     },
     "execution_count": 11,
     "metadata": {},
     "output_type": "execute_result"
    }
   ],
   "source": [
    "stat_comparison(df, imputed, 'feature a')"
   ]
  },
  {
   "cell_type": "code",
   "execution_count": 12,
   "metadata": {
    "tags": [
     "master"
    ]
   },
   "outputs": [
    {
     "data": {
      "text/html": [
       "<style type=\"text/css\">\n",
       "#T_d6437_row1_col0, #T_d6437_row8_col0, #T_d6437_row12_col0 {\n",
       "  background-color: paleturquoise;\n",
       "}\n",
       "</style>\n",
       "<table id=\"T_d6437\">\n",
       "  <thead>\n",
       "    <tr>\n",
       "      <th class=\"blank level0\" >&nbsp;</th>\n",
       "      <th id=\"T_d6437_level0_col0\" class=\"col_heading level0 col0\" >feature a</th>\n",
       "      <th id=\"T_d6437_level0_col1\" class=\"col_heading level0 col1\" >feature b</th>\n",
       "      <th id=\"T_d6437_level0_col2\" class=\"col_heading level0 col2\" >feature c</th>\n",
       "      <th id=\"T_d6437_level0_col3\" class=\"col_heading level0 col3\" >feature d</th>\n",
       "      <th id=\"T_d6437_level0_col4\" class=\"col_heading level0 col4\" >uncorrelated</th>\n",
       "    </tr>\n",
       "  </thead>\n",
       "  <tbody>\n",
       "    <tr>\n",
       "      <th id=\"T_d6437_level0_row0\" class=\"row_heading level0 row0\" >0</th>\n",
       "      <td id=\"T_d6437_row0_col0\" class=\"data row0 col0\" >2.777245</td>\n",
       "      <td id=\"T_d6437_row0_col1\" class=\"data row0 col1\" >2.234252</td>\n",
       "      <td id=\"T_d6437_row0_col2\" class=\"data row0 col2\" >-1.552282</td>\n",
       "      <td id=\"T_d6437_row0_col3\" class=\"data row0 col3\" >8.772158</td>\n",
       "      <td id=\"T_d6437_row0_col4\" class=\"data row0 col4\" >0.360789</td>\n",
       "    </tr>\n",
       "    <tr>\n",
       "      <th id=\"T_d6437_level0_row1\" class=\"row_heading level0 row1\" >1</th>\n",
       "      <td id=\"T_d6437_row1_col0\" class=\"data row1 col0\" >3.470138</td>\n",
       "      <td id=\"T_d6437_row1_col1\" class=\"data row1 col1\" >2.223169</td>\n",
       "      <td id=\"T_d6437_row1_col2\" class=\"data row1 col2\" >-0.645673</td>\n",
       "      <td id=\"T_d6437_row1_col3\" class=\"data row1 col3\" >8.815675</td>\n",
       "      <td id=\"T_d6437_row1_col4\" class=\"data row1 col4\" >0.393466</td>\n",
       "    </tr>\n",
       "    <tr>\n",
       "      <th id=\"T_d6437_level0_row2\" class=\"row_heading level0 row2\" >2</th>\n",
       "      <td id=\"T_d6437_row2_col0\" class=\"data row2 col0\" >1.936893</td>\n",
       "      <td id=\"T_d6437_row2_col1\" class=\"data row2 col1\" >2.182897</td>\n",
       "      <td id=\"T_d6437_row2_col2\" class=\"data row2 col2\" >-2.474526</td>\n",
       "      <td id=\"T_d6437_row2_col3\" class=\"data row2 col3\" >8.549983</td>\n",
       "      <td id=\"T_d6437_row2_col4\" class=\"data row2 col4\" >0.891191</td>\n",
       "    </tr>\n",
       "    <tr>\n",
       "      <th id=\"T_d6437_level0_row3\" class=\"row_heading level0 row3\" >3</th>\n",
       "      <td id=\"T_d6437_row3_col0\" class=\"data row3 col0\" >2.484183</td>\n",
       "      <td id=\"T_d6437_row3_col1\" class=\"data row3 col1\" >1.618856</td>\n",
       "      <td id=\"T_d6437_row3_col2\" class=\"data row3 col2\" >-1.404809</td>\n",
       "      <td id=\"T_d6437_row3_col3\" class=\"data row3 col3\" >7.360904</td>\n",
       "      <td id=\"T_d6437_row3_col4\" class=\"data row3 col4\" >0.156937</td>\n",
       "    </tr>\n",
       "    <tr>\n",
       "      <th id=\"T_d6437_level0_row4\" class=\"row_heading level0 row4\" >4</th>\n",
       "      <td id=\"T_d6437_row4_col0\" class=\"data row4 col0\" >2.089727</td>\n",
       "      <td id=\"T_d6437_row4_col1\" class=\"data row4 col1\" >2.698967</td>\n",
       "      <td id=\"T_d6437_row4_col2\" class=\"data row4 col2\" >-1.464007</td>\n",
       "      <td id=\"T_d6437_row4_col3\" class=\"data row4 col3\" >7.786100</td>\n",
       "      <td id=\"T_d6437_row4_col4\" class=\"data row4 col4\" >0.046178</td>\n",
       "    </tr>\n",
       "    <tr>\n",
       "      <th id=\"T_d6437_level0_row5\" class=\"row_heading level0 row5\" >5</th>\n",
       "      <td id=\"T_d6437_row5_col0\" class=\"data row5 col0\" >3.369940</td>\n",
       "      <td id=\"T_d6437_row5_col1\" class=\"data row5 col1\" >2.842243</td>\n",
       "      <td id=\"T_d6437_row5_col2\" class=\"data row5 col2\" >-0.716772</td>\n",
       "      <td id=\"T_d6437_row5_col3\" class=\"data row5 col3\" >8.767852</td>\n",
       "      <td id=\"T_d6437_row5_col4\" class=\"data row5 col4\" >0.342830</td>\n",
       "    </tr>\n",
       "    <tr>\n",
       "      <th id=\"T_d6437_level0_row6\" class=\"row_heading level0 row6\" >6</th>\n",
       "      <td id=\"T_d6437_row6_col0\" class=\"data row6 col0\" >0.764542</td>\n",
       "      <td id=\"T_d6437_row6_col1\" class=\"data row6 col1\" >1.532282</td>\n",
       "      <td id=\"T_d6437_row6_col2\" class=\"data row6 col2\" >-3.850084</td>\n",
       "      <td id=\"T_d6437_row6_col3\" class=\"data row6 col3\" >7.992571</td>\n",
       "      <td id=\"T_d6437_row6_col4\" class=\"data row6 col4\" >0.678203</td>\n",
       "    </tr>\n",
       "    <tr>\n",
       "      <th id=\"T_d6437_level0_row7\" class=\"row_heading level0 row7\" >7</th>\n",
       "      <td id=\"T_d6437_row7_col0\" class=\"data row7 col0\" >3.539507</td>\n",
       "      <td id=\"T_d6437_row7_col1\" class=\"data row7 col1\" >2.120999</td>\n",
       "      <td id=\"T_d6437_row7_col2\" class=\"data row7 col2\" >0.181066</td>\n",
       "      <td id=\"T_d6437_row7_col3\" class=\"data row7 col3\" >7.158813</td>\n",
       "      <td id=\"T_d6437_row7_col4\" class=\"data row7 col4\" >0.942345</td>\n",
       "    </tr>\n",
       "    <tr>\n",
       "      <th id=\"T_d6437_level0_row8\" class=\"row_heading level0 row8\" >8</th>\n",
       "      <td id=\"T_d6437_row8_col0\" class=\"data row8 col0\" >3.381843</td>\n",
       "      <td id=\"T_d6437_row8_col1\" class=\"data row8 col1\" >1.816557</td>\n",
       "      <td id=\"T_d6437_row8_col2\" class=\"data row8 col2\" >-1.325628</td>\n",
       "      <td id=\"T_d6437_row8_col3\" class=\"data row8 col3\" >8.144401</td>\n",
       "      <td id=\"T_d6437_row8_col4\" class=\"data row8 col4\" >0.460626</td>\n",
       "    </tr>\n",
       "    <tr>\n",
       "      <th id=\"T_d6437_level0_row9\" class=\"row_heading level0 row9\" >9</th>\n",
       "      <td id=\"T_d6437_row9_col0\" class=\"data row9 col0\" >0.445575</td>\n",
       "      <td id=\"T_d6437_row9_col1\" class=\"data row9 col1\" >0.827475</td>\n",
       "      <td id=\"T_d6437_row9_col2\" class=\"data row9 col2\" >-4.705004</td>\n",
       "      <td id=\"T_d6437_row9_col3\" class=\"data row9 col3\" >8.161819</td>\n",
       "      <td id=\"T_d6437_row9_col4\" class=\"data row9 col4\" >0.014623</td>\n",
       "    </tr>\n",
       "    <tr>\n",
       "      <th id=\"T_d6437_level0_row10\" class=\"row_heading level0 row10\" >10</th>\n",
       "      <td id=\"T_d6437_row10_col0\" class=\"data row10 col0\" >1.753775</td>\n",
       "      <td id=\"T_d6437_row10_col1\" class=\"data row10 col1\" >2.827564</td>\n",
       "      <td id=\"T_d6437_row10_col2\" class=\"data row10 col2\" >-2.582017</td>\n",
       "      <td id=\"T_d6437_row10_col3\" class=\"data row10 col3\" >8.975136</td>\n",
       "      <td id=\"T_d6437_row10_col4\" class=\"data row10 col4\" >0.590877</td>\n",
       "    </tr>\n",
       "    <tr>\n",
       "      <th id=\"T_d6437_level0_row11\" class=\"row_heading level0 row11\" >11</th>\n",
       "      <td id=\"T_d6437_row11_col0\" class=\"data row11 col0\" >2.289564</td>\n",
       "      <td id=\"T_d6437_row11_col1\" class=\"data row11 col1\" >1.991754</td>\n",
       "      <td id=\"T_d6437_row11_col2\" class=\"data row11 col2\" >-1.575980</td>\n",
       "      <td id=\"T_d6437_row11_col3\" class=\"data row11 col3\" >7.188518</td>\n",
       "      <td id=\"T_d6437_row11_col4\" class=\"data row11 col4\" >0.040173</td>\n",
       "    </tr>\n",
       "    <tr>\n",
       "      <th id=\"T_d6437_level0_row12\" class=\"row_heading level0 row12\" >12</th>\n",
       "      <td id=\"T_d6437_row12_col0\" class=\"data row12 col0\" >3.188068</td>\n",
       "      <td id=\"T_d6437_row12_col1\" class=\"data row12 col1\" >1.524238</td>\n",
       "      <td id=\"T_d6437_row12_col2\" class=\"data row12 col2\" >-0.903384</td>\n",
       "      <td id=\"T_d6437_row12_col3\" class=\"data row12 col3\" >7.192445</td>\n",
       "      <td id=\"T_d6437_row12_col4\" class=\"data row12 col4\" >0.224120</td>\n",
       "    </tr>\n",
       "    <tr>\n",
       "      <th id=\"T_d6437_level0_row13\" class=\"row_heading level0 row13\" >13</th>\n",
       "      <td id=\"T_d6437_row13_col0\" class=\"data row13 col0\" >2.500479</td>\n",
       "      <td id=\"T_d6437_row13_col1\" class=\"data row13 col1\" >1.652539</td>\n",
       "      <td id=\"T_d6437_row13_col2\" class=\"data row13 col2\" >-1.647218</td>\n",
       "      <td id=\"T_d6437_row13_col3\" class=\"data row13 col3\" >7.449799</td>\n",
       "      <td id=\"T_d6437_row13_col4\" class=\"data row13 col4\" >0.430489</td>\n",
       "    </tr>\n",
       "    <tr>\n",
       "      <th id=\"T_d6437_level0_row14\" class=\"row_heading level0 row14\" >14</th>\n",
       "      <td id=\"T_d6437_row14_col0\" class=\"data row14 col0\" >1.813547</td>\n",
       "      <td id=\"T_d6437_row14_col1\" class=\"data row14 col1\" >1.764213</td>\n",
       "      <td id=\"T_d6437_row14_col2\" class=\"data row14 col2\" >-2.917344</td>\n",
       "      <td id=\"T_d6437_row14_col3\" class=\"data row14 col3\" >8.678066</td>\n",
       "      <td id=\"T_d6437_row14_col4\" class=\"data row14 col4\" >0.866894</td>\n",
       "    </tr>\n",
       "  </tbody>\n",
       "</table>\n"
      ],
      "text/plain": [
       "<pandas.io.formats.style.Styler at 0x7f8fcf751070>"
      ]
     },
     "execution_count": 12,
     "metadata": {},
     "output_type": "execute_result"
    }
   ],
   "source": [
    "mar_df.displayer(imputed, 15)"
   ]
  },
  {
   "cell_type": "markdown",
   "metadata": {},
   "source": [
    "### $\\color{purple}{\\text{Built into}}$ `autoimpute`"
   ]
  },
  {
   "cell_type": "code",
   "execution_count": 13,
   "metadata": {},
   "outputs": [],
   "source": [
    "imputer=SingleImputer('least squares')\n",
    "ls_imputations = imputer.fit_transform(mar_df)"
   ]
  },
  {
   "cell_type": "code",
   "execution_count": 14,
   "metadata": {},
   "outputs": [],
   "source": [
    "from autoimpute.imputations import SingleImputer\n",
    "imputer=SingleImputer('stochastic')\n",
    "st_imputations = imputer.fit_transform(mar_df)"
   ]
  },
  {
   "cell_type": "markdown",
   "metadata": {},
   "source": [
    "#### $\\color{purple}{\\text{Analyze Results}}$"
   ]
  },
  {
   "cell_type": "markdown",
   "metadata": {},
   "source": [
    "### $\\color{purple}{\\text{Just For Fun}}$\n",
    "Let's use a Random Forest Regression instead"
   ]
  },
  {
   "cell_type": "code",
   "execution_count": 15,
   "metadata": {},
   "outputs": [],
   "source": [
    "rf_regressor = RandomForestRegressor()\n",
    "rest = ['feature b', 'feature c', 'feature d', 'uncorrelated']\n",
    "full_data = mar_df.dropna()\n",
    "rf_regressor.fit(full_data[rest], full_data['feature a'])\n",
    "predicted = rf_regressor.predict(mar_df[rest])"
   ]
  },
  {
   "cell_type": "code",
   "execution_count": 16,
   "metadata": {},
   "outputs": [],
   "source": [
    "imputed=mar_df.assign(**{'feature a': mar_df['feature a'].where(~mar_df['feature a'].isnull(), \n",
    "                        predicted)}\n",
    "                     )"
   ]
  },
  {
   "cell_type": "markdown",
   "metadata": {},
   "source": [
    "#### $\\color{purple}{\\text{Analyze Results}}$"
   ]
  },
  {
   "cell_type": "code",
   "execution_count": 17,
   "metadata": {
    "tags": [
     "master"
    ]
   },
   "outputs": [
    {
     "data": {
      "text/html": [
       "<style type=\"text/css\">\n",
       "#T_e9432_row1_col0, #T_e9432_row8_col0, #T_e9432_row12_col0 {\n",
       "  background-color: paleturquoise;\n",
       "}\n",
       "</style>\n",
       "<table id=\"T_e9432\">\n",
       "  <thead>\n",
       "    <tr>\n",
       "      <th class=\"blank level0\" >&nbsp;</th>\n",
       "      <th id=\"T_e9432_level0_col0\" class=\"col_heading level0 col0\" >feature a</th>\n",
       "      <th id=\"T_e9432_level0_col1\" class=\"col_heading level0 col1\" >feature b</th>\n",
       "      <th id=\"T_e9432_level0_col2\" class=\"col_heading level0 col2\" >feature c</th>\n",
       "      <th id=\"T_e9432_level0_col3\" class=\"col_heading level0 col3\" >feature d</th>\n",
       "      <th id=\"T_e9432_level0_col4\" class=\"col_heading level0 col4\" >uncorrelated</th>\n",
       "    </tr>\n",
       "  </thead>\n",
       "  <tbody>\n",
       "    <tr>\n",
       "      <th id=\"T_e9432_level0_row0\" class=\"row_heading level0 row0\" >0</th>\n",
       "      <td id=\"T_e9432_row0_col0\" class=\"data row0 col0\" >2.777245</td>\n",
       "      <td id=\"T_e9432_row0_col1\" class=\"data row0 col1\" >2.234252</td>\n",
       "      <td id=\"T_e9432_row0_col2\" class=\"data row0 col2\" >-1.552282</td>\n",
       "      <td id=\"T_e9432_row0_col3\" class=\"data row0 col3\" >8.772158</td>\n",
       "      <td id=\"T_e9432_row0_col4\" class=\"data row0 col4\" >0.360789</td>\n",
       "    </tr>\n",
       "    <tr>\n",
       "      <th id=\"T_e9432_level0_row1\" class=\"row_heading level0 row1\" >1</th>\n",
       "      <td id=\"T_e9432_row1_col0\" class=\"data row1 col0\" >3.780304</td>\n",
       "      <td id=\"T_e9432_row1_col1\" class=\"data row1 col1\" >2.223169</td>\n",
       "      <td id=\"T_e9432_row1_col2\" class=\"data row1 col2\" >-0.645673</td>\n",
       "      <td id=\"T_e9432_row1_col3\" class=\"data row1 col3\" >8.815675</td>\n",
       "      <td id=\"T_e9432_row1_col4\" class=\"data row1 col4\" >0.393466</td>\n",
       "    </tr>\n",
       "    <tr>\n",
       "      <th id=\"T_e9432_level0_row2\" class=\"row_heading level0 row2\" >2</th>\n",
       "      <td id=\"T_e9432_row2_col0\" class=\"data row2 col0\" >1.936893</td>\n",
       "      <td id=\"T_e9432_row2_col1\" class=\"data row2 col1\" >2.182897</td>\n",
       "      <td id=\"T_e9432_row2_col2\" class=\"data row2 col2\" >-2.474526</td>\n",
       "      <td id=\"T_e9432_row2_col3\" class=\"data row2 col3\" >8.549983</td>\n",
       "      <td id=\"T_e9432_row2_col4\" class=\"data row2 col4\" >0.891191</td>\n",
       "    </tr>\n",
       "    <tr>\n",
       "      <th id=\"T_e9432_level0_row3\" class=\"row_heading level0 row3\" >3</th>\n",
       "      <td id=\"T_e9432_row3_col0\" class=\"data row3 col0\" >2.484183</td>\n",
       "      <td id=\"T_e9432_row3_col1\" class=\"data row3 col1\" >1.618856</td>\n",
       "      <td id=\"T_e9432_row3_col2\" class=\"data row3 col2\" >-1.404809</td>\n",
       "      <td id=\"T_e9432_row3_col3\" class=\"data row3 col3\" >7.360904</td>\n",
       "      <td id=\"T_e9432_row3_col4\" class=\"data row3 col4\" >0.156937</td>\n",
       "    </tr>\n",
       "    <tr>\n",
       "      <th id=\"T_e9432_level0_row4\" class=\"row_heading level0 row4\" >4</th>\n",
       "      <td id=\"T_e9432_row4_col0\" class=\"data row4 col0\" >2.089727</td>\n",
       "      <td id=\"T_e9432_row4_col1\" class=\"data row4 col1\" >2.698967</td>\n",
       "      <td id=\"T_e9432_row4_col2\" class=\"data row4 col2\" >-1.464007</td>\n",
       "      <td id=\"T_e9432_row4_col3\" class=\"data row4 col3\" >7.786100</td>\n",
       "      <td id=\"T_e9432_row4_col4\" class=\"data row4 col4\" >0.046178</td>\n",
       "    </tr>\n",
       "    <tr>\n",
       "      <th id=\"T_e9432_level0_row5\" class=\"row_heading level0 row5\" >5</th>\n",
       "      <td id=\"T_e9432_row5_col0\" class=\"data row5 col0\" >3.369940</td>\n",
       "      <td id=\"T_e9432_row5_col1\" class=\"data row5 col1\" >2.842243</td>\n",
       "      <td id=\"T_e9432_row5_col2\" class=\"data row5 col2\" >-0.716772</td>\n",
       "      <td id=\"T_e9432_row5_col3\" class=\"data row5 col3\" >8.767852</td>\n",
       "      <td id=\"T_e9432_row5_col4\" class=\"data row5 col4\" >0.342830</td>\n",
       "    </tr>\n",
       "    <tr>\n",
       "      <th id=\"T_e9432_level0_row6\" class=\"row_heading level0 row6\" >6</th>\n",
       "      <td id=\"T_e9432_row6_col0\" class=\"data row6 col0\" >0.764542</td>\n",
       "      <td id=\"T_e9432_row6_col1\" class=\"data row6 col1\" >1.532282</td>\n",
       "      <td id=\"T_e9432_row6_col2\" class=\"data row6 col2\" >-3.850084</td>\n",
       "      <td id=\"T_e9432_row6_col3\" class=\"data row6 col3\" >7.992571</td>\n",
       "      <td id=\"T_e9432_row6_col4\" class=\"data row6 col4\" >0.678203</td>\n",
       "    </tr>\n",
       "    <tr>\n",
       "      <th id=\"T_e9432_level0_row7\" class=\"row_heading level0 row7\" >7</th>\n",
       "      <td id=\"T_e9432_row7_col0\" class=\"data row7 col0\" >3.539507</td>\n",
       "      <td id=\"T_e9432_row7_col1\" class=\"data row7 col1\" >2.120999</td>\n",
       "      <td id=\"T_e9432_row7_col2\" class=\"data row7 col2\" >0.181066</td>\n",
       "      <td id=\"T_e9432_row7_col3\" class=\"data row7 col3\" >7.158813</td>\n",
       "      <td id=\"T_e9432_row7_col4\" class=\"data row7 col4\" >0.942345</td>\n",
       "    </tr>\n",
       "    <tr>\n",
       "      <th id=\"T_e9432_level0_row8\" class=\"row_heading level0 row8\" >8</th>\n",
       "      <td id=\"T_e9432_row8_col0\" class=\"data row8 col0\" >3.201221</td>\n",
       "      <td id=\"T_e9432_row8_col1\" class=\"data row8 col1\" >1.816557</td>\n",
       "      <td id=\"T_e9432_row8_col2\" class=\"data row8 col2\" >-1.325628</td>\n",
       "      <td id=\"T_e9432_row8_col3\" class=\"data row8 col3\" >8.144401</td>\n",
       "      <td id=\"T_e9432_row8_col4\" class=\"data row8 col4\" >0.460626</td>\n",
       "    </tr>\n",
       "    <tr>\n",
       "      <th id=\"T_e9432_level0_row9\" class=\"row_heading level0 row9\" >9</th>\n",
       "      <td id=\"T_e9432_row9_col0\" class=\"data row9 col0\" >0.445575</td>\n",
       "      <td id=\"T_e9432_row9_col1\" class=\"data row9 col1\" >0.827475</td>\n",
       "      <td id=\"T_e9432_row9_col2\" class=\"data row9 col2\" >-4.705004</td>\n",
       "      <td id=\"T_e9432_row9_col3\" class=\"data row9 col3\" >8.161819</td>\n",
       "      <td id=\"T_e9432_row9_col4\" class=\"data row9 col4\" >0.014623</td>\n",
       "    </tr>\n",
       "    <tr>\n",
       "      <th id=\"T_e9432_level0_row10\" class=\"row_heading level0 row10\" >10</th>\n",
       "      <td id=\"T_e9432_row10_col0\" class=\"data row10 col0\" >1.753775</td>\n",
       "      <td id=\"T_e9432_row10_col1\" class=\"data row10 col1\" >2.827564</td>\n",
       "      <td id=\"T_e9432_row10_col2\" class=\"data row10 col2\" >-2.582017</td>\n",
       "      <td id=\"T_e9432_row10_col3\" class=\"data row10 col3\" >8.975136</td>\n",
       "      <td id=\"T_e9432_row10_col4\" class=\"data row10 col4\" >0.590877</td>\n",
       "    </tr>\n",
       "    <tr>\n",
       "      <th id=\"T_e9432_level0_row11\" class=\"row_heading level0 row11\" >11</th>\n",
       "      <td id=\"T_e9432_row11_col0\" class=\"data row11 col0\" >2.289564</td>\n",
       "      <td id=\"T_e9432_row11_col1\" class=\"data row11 col1\" >1.991754</td>\n",
       "      <td id=\"T_e9432_row11_col2\" class=\"data row11 col2\" >-1.575980</td>\n",
       "      <td id=\"T_e9432_row11_col3\" class=\"data row11 col3\" >7.188518</td>\n",
       "      <td id=\"T_e9432_row11_col4\" class=\"data row11 col4\" >0.040173</td>\n",
       "    </tr>\n",
       "    <tr>\n",
       "      <th id=\"T_e9432_level0_row12\" class=\"row_heading level0 row12\" >12</th>\n",
       "      <td id=\"T_e9432_row12_col0\" class=\"data row12 col0\" >3.026301</td>\n",
       "      <td id=\"T_e9432_row12_col1\" class=\"data row12 col1\" >1.524238</td>\n",
       "      <td id=\"T_e9432_row12_col2\" class=\"data row12 col2\" >-0.903384</td>\n",
       "      <td id=\"T_e9432_row12_col3\" class=\"data row12 col3\" >7.192445</td>\n",
       "      <td id=\"T_e9432_row12_col4\" class=\"data row12 col4\" >0.224120</td>\n",
       "    </tr>\n",
       "    <tr>\n",
       "      <th id=\"T_e9432_level0_row13\" class=\"row_heading level0 row13\" >13</th>\n",
       "      <td id=\"T_e9432_row13_col0\" class=\"data row13 col0\" >2.500479</td>\n",
       "      <td id=\"T_e9432_row13_col1\" class=\"data row13 col1\" >1.652539</td>\n",
       "      <td id=\"T_e9432_row13_col2\" class=\"data row13 col2\" >-1.647218</td>\n",
       "      <td id=\"T_e9432_row13_col3\" class=\"data row13 col3\" >7.449799</td>\n",
       "      <td id=\"T_e9432_row13_col4\" class=\"data row13 col4\" >0.430489</td>\n",
       "    </tr>\n",
       "    <tr>\n",
       "      <th id=\"T_e9432_level0_row14\" class=\"row_heading level0 row14\" >14</th>\n",
       "      <td id=\"T_e9432_row14_col0\" class=\"data row14 col0\" >1.813547</td>\n",
       "      <td id=\"T_e9432_row14_col1\" class=\"data row14 col1\" >1.764213</td>\n",
       "      <td id=\"T_e9432_row14_col2\" class=\"data row14 col2\" >-2.917344</td>\n",
       "      <td id=\"T_e9432_row14_col3\" class=\"data row14 col3\" >8.678066</td>\n",
       "      <td id=\"T_e9432_row14_col4\" class=\"data row14 col4\" >0.866894</td>\n",
       "    </tr>\n",
       "  </tbody>\n",
       "</table>\n"
      ],
      "text/plain": [
       "<pandas.io.formats.style.Styler at 0x7f8fcf6bea60>"
      ]
     },
     "execution_count": 17,
     "metadata": {},
     "output_type": "execute_result"
    }
   ],
   "source": [
    "mar_df.displayer(imputed, 15)"
   ]
  },
  {
   "cell_type": "code",
   "execution_count": 18,
   "metadata": {
    "tags": [
     "master"
    ]
   },
   "outputs": [
    {
     "data": {
      "text/html": [
       "<div>\n",
       "<style scoped>\n",
       "    .dataframe tbody tr th:only-of-type {\n",
       "        vertical-align: middle;\n",
       "    }\n",
       "\n",
       "    .dataframe tbody tr th {\n",
       "        vertical-align: top;\n",
       "    }\n",
       "\n",
       "    .dataframe thead th {\n",
       "        text-align: right;\n",
       "    }\n",
       "</style>\n",
       "<table border=\"1\" class=\"dataframe\">\n",
       "  <thead>\n",
       "    <tr style=\"text-align: right;\">\n",
       "      <th></th>\n",
       "      <th>Original</th>\n",
       "      <th>With Missing Data</th>\n",
       "      <th>difference</th>\n",
       "      <th>percentage</th>\n",
       "    </tr>\n",
       "  </thead>\n",
       "  <tbody>\n",
       "    <tr>\n",
       "      <th>mean</th>\n",
       "      <td>2.411082</td>\n",
       "      <td>2.410268</td>\n",
       "      <td>0.000815</td>\n",
       "      <td>0.033782</td>\n",
       "    </tr>\n",
       "    <tr>\n",
       "      <th>median</th>\n",
       "      <td>2.420924</td>\n",
       "      <td>2.424967</td>\n",
       "      <td>0.004043</td>\n",
       "      <td>0.166989</td>\n",
       "    </tr>\n",
       "    <tr>\n",
       "      <th>stdev</th>\n",
       "      <td>1.279456</td>\n",
       "      <td>1.275119</td>\n",
       "      <td>0.004337</td>\n",
       "      <td>0.338986</td>\n",
       "    </tr>\n",
       "  </tbody>\n",
       "</table>\n",
       "</div>"
      ],
      "text/plain": [
       "        Original  With Missing Data  difference  percentage\n",
       "mean    2.411082           2.410268    0.000815    0.033782\n",
       "median  2.420924           2.424967    0.004043    0.166989\n",
       "stdev   1.279456           1.275119    0.004337    0.338986"
      ]
     },
     "execution_count": 18,
     "metadata": {},
     "output_type": "execute_result"
    }
   ],
   "source": [
    "stat_comparison(df, imputed, 'feature a')"
   ]
  },
  {
   "cell_type": "markdown",
   "metadata": {
    "id": "D13nfWuLsk-u"
   },
   "source": [
    "\n",
    "## $\\color{purple}{\\text{Categorical Variables}}$\n",
    "\n",
    "Imputation of categorical variables employs classification in place of regression. Most common is multinomial logistic regression."
   ]
  },
  {
   "cell_type": "code",
   "execution_count": 19,
   "metadata": {},
   "outputs": [
    {
     "data": {
      "text/plain": [
       "<helpers.ImputationDisplayer at 0x7f902c518df0>"
      ]
     },
     "execution_count": 19,
     "metadata": {},
     "output_type": "execute_result"
    }
   ],
   "source": [
    "cat_mar_df = pd.read_csv('data/categorical_mar.csv')\n",
    "ImputationDisplayer(cat_mar_df)"
   ]
  },
  {
   "cell_type": "code",
   "execution_count": 20,
   "metadata": {
    "tags": [
     "master"
    ]
   },
   "outputs": [
    {
     "data": {
      "text/plain": [
       "feature a         0\n",
       "feature b         0\n",
       "feature c         0\n",
       "cat feature    4108\n",
       "dtype: int64"
      ]
     },
     "execution_count": 20,
     "metadata": {},
     "output_type": "execute_result"
    }
   ],
   "source": [
    "# A little EDA\n",
    "cat_mar_df.isnull().sum()"
   ]
  },
  {
   "cell_type": "code",
   "execution_count": 21,
   "metadata": {},
   "outputs": [],
   "source": [
    "from sklearn.linear_model import LogisticRegression\n",
    "rest = ['feature a', 'feature b', 'feature c']\n",
    "from sklearn.preprocessing import LabelEncoder\n",
    "cleaned_df = cat_mar_df.dropna()\n",
    "lr = LogisticRegression(random_state=0, max_iter=1000).fit(cleaned_df[rest], cleaned_df['cat feature'])"
   ]
  },
  {
   "cell_type": "code",
   "execution_count": 22,
   "metadata": {},
   "outputs": [],
   "source": [
    "impute = lr.predict(cat_mar_df[rest])"
   ]
  },
  {
   "cell_type": "code",
   "execution_count": 23,
   "metadata": {},
   "outputs": [],
   "source": [
    "imputed=cat_mar_df.assign(**{'cat feature': cat_mar_df['cat feature'].where(~cat_mar_df['cat feature'].isnull(), impute)})"
   ]
  },
  {
   "cell_type": "code",
   "execution_count": 24,
   "metadata": {},
   "outputs": [
    {
     "data": {
      "text/html": [
       "<style type=\"text/css\">\n",
       "#T_ee924_row1_col3, #T_ee924_row6_col3 {\n",
       "  background-color: paleturquoise;\n",
       "}\n",
       "</style>\n",
       "<table id=\"T_ee924\">\n",
       "  <thead>\n",
       "    <tr>\n",
       "      <th class=\"blank level0\" >&nbsp;</th>\n",
       "      <th id=\"T_ee924_level0_col0\" class=\"col_heading level0 col0\" >feature a</th>\n",
       "      <th id=\"T_ee924_level0_col1\" class=\"col_heading level0 col1\" >feature b</th>\n",
       "      <th id=\"T_ee924_level0_col2\" class=\"col_heading level0 col2\" >feature c</th>\n",
       "      <th id=\"T_ee924_level0_col3\" class=\"col_heading level0 col3\" >cat feature</th>\n",
       "    </tr>\n",
       "  </thead>\n",
       "  <tbody>\n",
       "    <tr>\n",
       "      <th id=\"T_ee924_level0_row0\" class=\"row_heading level0 row0\" >0</th>\n",
       "      <td id=\"T_ee924_row0_col0\" class=\"data row0 col0\" >-1.407780</td>\n",
       "      <td id=\"T_ee924_row0_col1\" class=\"data row0 col1\" >2.469328</td>\n",
       "      <td id=\"T_ee924_row0_col2\" class=\"data row0 col2\" >-0.530309</td>\n",
       "      <td id=\"T_ee924_row0_col3\" class=\"data row0 col3\" >Cat A</td>\n",
       "    </tr>\n",
       "    <tr>\n",
       "      <th id=\"T_ee924_level0_row1\" class=\"row_heading level0 row1\" >1</th>\n",
       "      <td id=\"T_ee924_row1_col0\" class=\"data row1 col0\" >15.752722</td>\n",
       "      <td id=\"T_ee924_row1_col1\" class=\"data row1 col1\" >9.793495</td>\n",
       "      <td id=\"T_ee924_row1_col2\" class=\"data row1 col2\" >9.382818</td>\n",
       "      <td id=\"T_ee924_row1_col3\" class=\"data row1 col3\" >Cat B</td>\n",
       "    </tr>\n",
       "    <tr>\n",
       "      <th id=\"T_ee924_level0_row2\" class=\"row_heading level0 row2\" >2</th>\n",
       "      <td id=\"T_ee924_row2_col0\" class=\"data row2 col0\" >-1.056187</td>\n",
       "      <td id=\"T_ee924_row2_col1\" class=\"data row2 col1\" >1.978559</td>\n",
       "      <td id=\"T_ee924_row2_col2\" class=\"data row2 col2\" >1.036313</td>\n",
       "      <td id=\"T_ee924_row2_col3\" class=\"data row2 col3\" >Cat A</td>\n",
       "    </tr>\n",
       "    <tr>\n",
       "      <th id=\"T_ee924_level0_row3\" class=\"row_heading level0 row3\" >3</th>\n",
       "      <td id=\"T_ee924_row3_col0\" class=\"data row3 col0\" >13.942551</td>\n",
       "      <td id=\"T_ee924_row3_col1\" class=\"data row3 col1\" >9.976267</td>\n",
       "      <td id=\"T_ee924_row3_col2\" class=\"data row3 col2\" >8.633593</td>\n",
       "      <td id=\"T_ee924_row3_col3\" class=\"data row3 col3\" >Cat B</td>\n",
       "    </tr>\n",
       "    <tr>\n",
       "      <th id=\"T_ee924_level0_row4\" class=\"row_heading level0 row4\" >4</th>\n",
       "      <td id=\"T_ee924_row4_col0\" class=\"data row4 col0\" >11.956025</td>\n",
       "      <td id=\"T_ee924_row4_col1\" class=\"data row4 col1\" >7.871260</td>\n",
       "      <td id=\"T_ee924_row4_col2\" class=\"data row4 col2\" >6.549692</td>\n",
       "      <td id=\"T_ee924_row4_col3\" class=\"data row4 col3\" >Cat B</td>\n",
       "    </tr>\n",
       "    <tr>\n",
       "      <th id=\"T_ee924_level0_row5\" class=\"row_heading level0 row5\" >5</th>\n",
       "      <td id=\"T_ee924_row5_col0\" class=\"data row5 col0\" >14.425958</td>\n",
       "      <td id=\"T_ee924_row5_col1\" class=\"data row5 col1\" >12.004184</td>\n",
       "      <td id=\"T_ee924_row5_col2\" class=\"data row5 col2\" >8.694370</td>\n",
       "      <td id=\"T_ee924_row5_col3\" class=\"data row5 col3\" >Cat B</td>\n",
       "    </tr>\n",
       "    <tr>\n",
       "      <th id=\"T_ee924_level0_row6\" class=\"row_heading level0 row6\" >6</th>\n",
       "      <td id=\"T_ee924_row6_col0\" class=\"data row6 col0\" >3.808749</td>\n",
       "      <td id=\"T_ee924_row6_col1\" class=\"data row6 col1\" >3.162104</td>\n",
       "      <td id=\"T_ee924_row6_col2\" class=\"data row6 col2\" >9.573234</td>\n",
       "      <td id=\"T_ee924_row6_col3\" class=\"data row6 col3\" >Cat D</td>\n",
       "    </tr>\n",
       "    <tr>\n",
       "      <th id=\"T_ee924_level0_row7\" class=\"row_heading level0 row7\" >7</th>\n",
       "      <td id=\"T_ee924_row7_col0\" class=\"data row7 col0\" >6.414938</td>\n",
       "      <td id=\"T_ee924_row7_col1\" class=\"data row7 col1\" >8.919951</td>\n",
       "      <td id=\"T_ee924_row7_col2\" class=\"data row7 col2\" >5.283720</td>\n",
       "      <td id=\"T_ee924_row7_col3\" class=\"data row7 col3\" >Cat C</td>\n",
       "    </tr>\n",
       "    <tr>\n",
       "      <th id=\"T_ee924_level0_row8\" class=\"row_heading level0 row8\" >8</th>\n",
       "      <td id=\"T_ee924_row8_col0\" class=\"data row8 col0\" >10.735025</td>\n",
       "      <td id=\"T_ee924_row8_col1\" class=\"data row8 col1\" >11.764753</td>\n",
       "      <td id=\"T_ee924_row8_col2\" class=\"data row8 col2\" >10.339851</td>\n",
       "      <td id=\"T_ee924_row8_col3\" class=\"data row8 col3\" >Cat C</td>\n",
       "    </tr>\n",
       "    <tr>\n",
       "      <th id=\"T_ee924_level0_row9\" class=\"row_heading level0 row9\" >9</th>\n",
       "      <td id=\"T_ee924_row9_col0\" class=\"data row9 col0\" >9.032399</td>\n",
       "      <td id=\"T_ee924_row9_col1\" class=\"data row9 col1\" >7.574074</td>\n",
       "      <td id=\"T_ee924_row9_col2\" class=\"data row9 col2\" >11.742634</td>\n",
       "      <td id=\"T_ee924_row9_col3\" class=\"data row9 col3\" >Cat E</td>\n",
       "    </tr>\n",
       "  </tbody>\n",
       "</table>\n"
      ],
      "text/plain": [
       "<pandas.io.formats.style.Styler at 0x7f902c518d30>"
      ]
     },
     "execution_count": 24,
     "metadata": {},
     "output_type": "execute_result"
    }
   ],
   "source": [
    "cat_mar_df.displayer(imputed, 10)"
   ]
  },
  {
   "cell_type": "markdown",
   "metadata": {
    "id": "fA-u2Tz8sa-8"
   },
   "source": [
    "## $\\color{purple}{\\text{Hot Deck Imputation}}$\n",
    "* General idea is to randomly sample imputed values from remaining good values.\n",
    "* Doesn't impute out of bounds values\n",
    "\n",
    "**How it works:**\n",
    "\n",
    "* For each missing value, a set of donors is selected from good values\n",
    "* A value is randomly selected from the set of donors\n",
    "* Donors are selected based on some metric based algorithm\n",
    "\n",
    "The `demo_mar.csv` dataset is the first 10 entries from one of my earlier runs. It has one missing value in `feature a`"
   ]
  },
  {
   "cell_type": "code",
   "execution_count": 25,
   "metadata": {},
   "outputs": [
    {
     "data": {
      "text/html": [
       "<div>\n",
       "<style scoped>\n",
       "    .dataframe tbody tr th:only-of-type {\n",
       "        vertical-align: middle;\n",
       "    }\n",
       "\n",
       "    .dataframe tbody tr th {\n",
       "        vertical-align: top;\n",
       "    }\n",
       "\n",
       "    .dataframe thead th {\n",
       "        text-align: right;\n",
       "    }\n",
       "</style>\n",
       "<table border=\"1\" class=\"dataframe\">\n",
       "  <thead>\n",
       "    <tr style=\"text-align: right;\">\n",
       "      <th></th>\n",
       "      <th>feature a</th>\n",
       "      <th>feature b</th>\n",
       "      <th>feature c</th>\n",
       "      <th>feature d</th>\n",
       "      <th>uncorrelated</th>\n",
       "    </tr>\n",
       "  </thead>\n",
       "  <tbody>\n",
       "    <tr>\n",
       "      <th>0</th>\n",
       "      <td>1.517509</td>\n",
       "      <td>4.229258</td>\n",
       "      <td>2.052726</td>\n",
       "      <td>0.153278</td>\n",
       "      <td>0.014975</td>\n",
       "    </tr>\n",
       "    <tr>\n",
       "      <th>1</th>\n",
       "      <td>2.536323</td>\n",
       "      <td>4.295391</td>\n",
       "      <td>2.104137</td>\n",
       "      <td>1.348000</td>\n",
       "      <td>0.998701</td>\n",
       "    </tr>\n",
       "    <tr>\n",
       "      <th>2</th>\n",
       "      <td>4.043034</td>\n",
       "      <td>5.872276</td>\n",
       "      <td>3.559629</td>\n",
       "      <td>3.274061</td>\n",
       "      <td>0.403823</td>\n",
       "    </tr>\n",
       "    <tr>\n",
       "      <th>3</th>\n",
       "      <td>0.082752</td>\n",
       "      <td>3.761743</td>\n",
       "      <td>-0.440590</td>\n",
       "      <td>1.031832</td>\n",
       "      <td>0.281023</td>\n",
       "    </tr>\n",
       "    <tr>\n",
       "      <th>4</th>\n",
       "      <td>0.196684</td>\n",
       "      <td>3.793343</td>\n",
       "      <td>1.016462</td>\n",
       "      <td>-0.667764</td>\n",
       "      <td>0.165431</td>\n",
       "    </tr>\n",
       "    <tr>\n",
       "      <th>5</th>\n",
       "      <td>2.560068</td>\n",
       "      <td>4.446726</td>\n",
       "      <td>2.420763</td>\n",
       "      <td>0.973363</td>\n",
       "      <td>0.166179</td>\n",
       "    </tr>\n",
       "    <tr>\n",
       "      <th>6</th>\n",
       "      <td>4.027199</td>\n",
       "      <td>5.079975</td>\n",
       "      <td>4.582185</td>\n",
       "      <td>0.876607</td>\n",
       "      <td>0.420479</td>\n",
       "    </tr>\n",
       "    <tr>\n",
       "      <th>7</th>\n",
       "      <td>NaN</td>\n",
       "      <td>5.339294</td>\n",
       "      <td>3.138633</td>\n",
       "      <td>1.611132</td>\n",
       "      <td>0.229141</td>\n",
       "    </tr>\n",
       "    <tr>\n",
       "      <th>8</th>\n",
       "      <td>2.743726</td>\n",
       "      <td>4.506330</td>\n",
       "      <td>2.620240</td>\n",
       "      <td>1.362915</td>\n",
       "      <td>0.011719</td>\n",
       "    </tr>\n",
       "    <tr>\n",
       "      <th>9</th>\n",
       "      <td>-0.180238</td>\n",
       "      <td>3.148906</td>\n",
       "      <td>0.280848</td>\n",
       "      <td>-0.741796</td>\n",
       "      <td>0.104471</td>\n",
       "    </tr>\n",
       "  </tbody>\n",
       "</table>\n",
       "</div>"
      ],
      "text/plain": [
       "   feature a  feature b  feature c  feature d  uncorrelated\n",
       "0   1.517509   4.229258   2.052726   0.153278      0.014975\n",
       "1   2.536323   4.295391   2.104137   1.348000      0.998701\n",
       "2   4.043034   5.872276   3.559629   3.274061      0.403823\n",
       "3   0.082752   3.761743  -0.440590   1.031832      0.281023\n",
       "4   0.196684   3.793343   1.016462  -0.667764      0.165431\n",
       "5   2.560068   4.446726   2.420763   0.973363      0.166179\n",
       "6   4.027199   5.079975   4.582185   0.876607      0.420479\n",
       "7        NaN   5.339294   3.138633   1.611132      0.229141\n",
       "8   2.743726   4.506330   2.620240   1.362915      0.011719\n",
       "9  -0.180238   3.148906   0.280848  -0.741796      0.104471"
      ]
     },
     "execution_count": 25,
     "metadata": {},
     "output_type": "execute_result"
    }
   ],
   "source": [
    "demo_df = pd.read_csv('data/demo_mar.csv')\n",
    "demo_df"
   ]
  },
  {
   "cell_type": "markdown",
   "metadata": {},
   "source": [
    "We use Euclidean distance to demonstrate how Hot Deck Imputation works, but in practice the metric is usually more statistically based and complex. For simplicity we add a `distance` feature."
   ]
  },
  {
   "cell_type": "code",
   "execution_count": 26,
   "metadata": {},
   "outputs": [],
   "source": [
    "def distance(x):\n",
    "    return np.linalg.norm((x-demo_df.iloc[7]).dropna())\n",
    "    \n",
    "demo_df['distance'] = demo_df.apply(distance, axis=1)"
   ]
  },
  {
   "cell_type": "code",
   "execution_count": 27,
   "metadata": {
    "tags": [
     "master"
    ]
   },
   "outputs": [
    {
     "data": {
      "text/html": [
       "<div>\n",
       "<style scoped>\n",
       "    .dataframe tbody tr th:only-of-type {\n",
       "        vertical-align: middle;\n",
       "    }\n",
       "\n",
       "    .dataframe tbody tr th {\n",
       "        vertical-align: top;\n",
       "    }\n",
       "\n",
       "    .dataframe thead th {\n",
       "        text-align: right;\n",
       "    }\n",
       "</style>\n",
       "<table border=\"1\" class=\"dataframe\">\n",
       "  <thead>\n",
       "    <tr style=\"text-align: right;\">\n",
       "      <th></th>\n",
       "      <th>feature a</th>\n",
       "      <th>feature b</th>\n",
       "      <th>feature c</th>\n",
       "      <th>feature d</th>\n",
       "      <th>uncorrelated</th>\n",
       "      <th>distance</th>\n",
       "    </tr>\n",
       "  </thead>\n",
       "  <tbody>\n",
       "    <tr>\n",
       "      <th>0</th>\n",
       "      <td>1.517509</td>\n",
       "      <td>4.229258</td>\n",
       "      <td>2.052726</td>\n",
       "      <td>0.153278</td>\n",
       "      <td>0.014975</td>\n",
       "      <td>2.140696</td>\n",
       "    </tr>\n",
       "    <tr>\n",
       "      <th>1</th>\n",
       "      <td>2.536323</td>\n",
       "      <td>4.295391</td>\n",
       "      <td>2.104137</td>\n",
       "      <td>1.348000</td>\n",
       "      <td>0.998701</td>\n",
       "      <td>1.679696</td>\n",
       "    </tr>\n",
       "    <tr>\n",
       "      <th>2</th>\n",
       "      <td>4.043034</td>\n",
       "      <td>5.872276</td>\n",
       "      <td>3.559629</td>\n",
       "      <td>3.274061</td>\n",
       "      <td>0.403823</td>\n",
       "      <td>1.804759</td>\n",
       "    </tr>\n",
       "    <tr>\n",
       "      <th>3</th>\n",
       "      <td>0.082752</td>\n",
       "      <td>3.761743</td>\n",
       "      <td>-0.440590</td>\n",
       "      <td>1.031832</td>\n",
       "      <td>0.281023</td>\n",
       "      <td>3.954464</td>\n",
       "    </tr>\n",
       "    <tr>\n",
       "      <th>4</th>\n",
       "      <td>0.196684</td>\n",
       "      <td>3.793343</td>\n",
       "      <td>1.016462</td>\n",
       "      <td>-0.667764</td>\n",
       "      <td>0.165431</td>\n",
       "      <td>3.477212</td>\n",
       "    </tr>\n",
       "    <tr>\n",
       "      <th>5</th>\n",
       "      <td>2.560068</td>\n",
       "      <td>4.446726</td>\n",
       "      <td>2.420763</td>\n",
       "      <td>0.973363</td>\n",
       "      <td>0.166179</td>\n",
       "      <td>1.312528</td>\n",
       "    </tr>\n",
       "    <tr>\n",
       "      <th>6</th>\n",
       "      <td>4.027199</td>\n",
       "      <td>5.079975</td>\n",
       "      <td>4.582185</td>\n",
       "      <td>0.876607</td>\n",
       "      <td>0.420479</td>\n",
       "      <td>1.651431</td>\n",
       "    </tr>\n",
       "    <tr>\n",
       "      <th>7</th>\n",
       "      <td>NaN</td>\n",
       "      <td>5.339294</td>\n",
       "      <td>3.138633</td>\n",
       "      <td>1.611132</td>\n",
       "      <td>0.229141</td>\n",
       "      <td>0.000000</td>\n",
       "    </tr>\n",
       "    <tr>\n",
       "      <th>8</th>\n",
       "      <td>2.743726</td>\n",
       "      <td>4.506330</td>\n",
       "      <td>2.620240</td>\n",
       "      <td>1.362915</td>\n",
       "      <td>0.011719</td>\n",
       "      <td>1.035106</td>\n",
       "    </tr>\n",
       "    <tr>\n",
       "      <th>9</th>\n",
       "      <td>-0.180238</td>\n",
       "      <td>3.148906</td>\n",
       "      <td>0.280848</td>\n",
       "      <td>-0.741796</td>\n",
       "      <td>0.104471</td>\n",
       "      <td>4.303085</td>\n",
       "    </tr>\n",
       "  </tbody>\n",
       "</table>\n",
       "</div>"
      ],
      "text/plain": [
       "   feature a  feature b  feature c  feature d  uncorrelated  distance\n",
       "0   1.517509   4.229258   2.052726   0.153278      0.014975  2.140696\n",
       "1   2.536323   4.295391   2.104137   1.348000      0.998701  1.679696\n",
       "2   4.043034   5.872276   3.559629   3.274061      0.403823  1.804759\n",
       "3   0.082752   3.761743  -0.440590   1.031832      0.281023  3.954464\n",
       "4   0.196684   3.793343   1.016462  -0.667764      0.165431  3.477212\n",
       "5   2.560068   4.446726   2.420763   0.973363      0.166179  1.312528\n",
       "6   4.027199   5.079975   4.582185   0.876607      0.420479  1.651431\n",
       "7        NaN   5.339294   3.138633   1.611132      0.229141  0.000000\n",
       "8   2.743726   4.506330   2.620240   1.362915      0.011719  1.035106\n",
       "9  -0.180238   3.148906   0.280848  -0.741796      0.104471  4.303085"
      ]
     },
     "execution_count": 27,
     "metadata": {},
     "output_type": "execute_result"
    }
   ],
   "source": [
    "demo_df"
   ]
  },
  {
   "cell_type": "markdown",
   "metadata": {},
   "source": [
    "#### Donor Selection\n",
    "\n",
    "[Van Buuren](https://stefvanbuuren.name/fimd/) identifies 4 methods of selecting donors\n",
    "\n",
    "#### Method 1: (Single Donor)\n",
    "\n",
    "Pick the sample closest to the missing value"
   ]
  },
  {
   "cell_type": "code",
   "execution_count": 28,
   "metadata": {},
   "outputs": [
    {
     "data": {
      "text/html": [
       "<style type=\"text/css\">\n",
       "#T_c6e77_row8_col0 {\n",
       "  background-color: lightgreen;\n",
       "}\n",
       "#T_c6e77_row8_col5 {\n",
       "  background-color: green;\n",
       "  color: white;\n",
       "}\n",
       "</style>\n",
       "<table id=\"T_c6e77\">\n",
       "  <thead>\n",
       "    <tr>\n",
       "      <th class=\"blank level0\" >&nbsp;</th>\n",
       "      <th id=\"T_c6e77_level0_col0\" class=\"col_heading level0 col0\" >feature a</th>\n",
       "      <th id=\"T_c6e77_level0_col1\" class=\"col_heading level0 col1\" >feature b</th>\n",
       "      <th id=\"T_c6e77_level0_col2\" class=\"col_heading level0 col2\" >feature c</th>\n",
       "      <th id=\"T_c6e77_level0_col3\" class=\"col_heading level0 col3\" >feature d</th>\n",
       "      <th id=\"T_c6e77_level0_col4\" class=\"col_heading level0 col4\" >uncorrelated</th>\n",
       "      <th id=\"T_c6e77_level0_col5\" class=\"col_heading level0 col5\" >distance</th>\n",
       "    </tr>\n",
       "  </thead>\n",
       "  <tbody>\n",
       "    <tr>\n",
       "      <th id=\"T_c6e77_level0_row0\" class=\"row_heading level0 row0\" >0</th>\n",
       "      <td id=\"T_c6e77_row0_col0\" class=\"data row0 col0\" >1.517509</td>\n",
       "      <td id=\"T_c6e77_row0_col1\" class=\"data row0 col1\" >4.229258</td>\n",
       "      <td id=\"T_c6e77_row0_col2\" class=\"data row0 col2\" >2.052726</td>\n",
       "      <td id=\"T_c6e77_row0_col3\" class=\"data row0 col3\" >0.153278</td>\n",
       "      <td id=\"T_c6e77_row0_col4\" class=\"data row0 col4\" >0.014975</td>\n",
       "      <td id=\"T_c6e77_row0_col5\" class=\"data row0 col5\" >2.140696</td>\n",
       "    </tr>\n",
       "    <tr>\n",
       "      <th id=\"T_c6e77_level0_row1\" class=\"row_heading level0 row1\" >1</th>\n",
       "      <td id=\"T_c6e77_row1_col0\" class=\"data row1 col0\" >2.536323</td>\n",
       "      <td id=\"T_c6e77_row1_col1\" class=\"data row1 col1\" >4.295391</td>\n",
       "      <td id=\"T_c6e77_row1_col2\" class=\"data row1 col2\" >2.104137</td>\n",
       "      <td id=\"T_c6e77_row1_col3\" class=\"data row1 col3\" >1.348000</td>\n",
       "      <td id=\"T_c6e77_row1_col4\" class=\"data row1 col4\" >0.998701</td>\n",
       "      <td id=\"T_c6e77_row1_col5\" class=\"data row1 col5\" >1.679696</td>\n",
       "    </tr>\n",
       "    <tr>\n",
       "      <th id=\"T_c6e77_level0_row2\" class=\"row_heading level0 row2\" >2</th>\n",
       "      <td id=\"T_c6e77_row2_col0\" class=\"data row2 col0\" >4.043034</td>\n",
       "      <td id=\"T_c6e77_row2_col1\" class=\"data row2 col1\" >5.872276</td>\n",
       "      <td id=\"T_c6e77_row2_col2\" class=\"data row2 col2\" >3.559629</td>\n",
       "      <td id=\"T_c6e77_row2_col3\" class=\"data row2 col3\" >3.274061</td>\n",
       "      <td id=\"T_c6e77_row2_col4\" class=\"data row2 col4\" >0.403823</td>\n",
       "      <td id=\"T_c6e77_row2_col5\" class=\"data row2 col5\" >1.804759</td>\n",
       "    </tr>\n",
       "    <tr>\n",
       "      <th id=\"T_c6e77_level0_row3\" class=\"row_heading level0 row3\" >3</th>\n",
       "      <td id=\"T_c6e77_row3_col0\" class=\"data row3 col0\" >0.082752</td>\n",
       "      <td id=\"T_c6e77_row3_col1\" class=\"data row3 col1\" >3.761743</td>\n",
       "      <td id=\"T_c6e77_row3_col2\" class=\"data row3 col2\" >-0.440590</td>\n",
       "      <td id=\"T_c6e77_row3_col3\" class=\"data row3 col3\" >1.031832</td>\n",
       "      <td id=\"T_c6e77_row3_col4\" class=\"data row3 col4\" >0.281023</td>\n",
       "      <td id=\"T_c6e77_row3_col5\" class=\"data row3 col5\" >3.954464</td>\n",
       "    </tr>\n",
       "    <tr>\n",
       "      <th id=\"T_c6e77_level0_row4\" class=\"row_heading level0 row4\" >4</th>\n",
       "      <td id=\"T_c6e77_row4_col0\" class=\"data row4 col0\" >0.196684</td>\n",
       "      <td id=\"T_c6e77_row4_col1\" class=\"data row4 col1\" >3.793343</td>\n",
       "      <td id=\"T_c6e77_row4_col2\" class=\"data row4 col2\" >1.016462</td>\n",
       "      <td id=\"T_c6e77_row4_col3\" class=\"data row4 col3\" >-0.667764</td>\n",
       "      <td id=\"T_c6e77_row4_col4\" class=\"data row4 col4\" >0.165431</td>\n",
       "      <td id=\"T_c6e77_row4_col5\" class=\"data row4 col5\" >3.477212</td>\n",
       "    </tr>\n",
       "    <tr>\n",
       "      <th id=\"T_c6e77_level0_row5\" class=\"row_heading level0 row5\" >5</th>\n",
       "      <td id=\"T_c6e77_row5_col0\" class=\"data row5 col0\" >2.560068</td>\n",
       "      <td id=\"T_c6e77_row5_col1\" class=\"data row5 col1\" >4.446726</td>\n",
       "      <td id=\"T_c6e77_row5_col2\" class=\"data row5 col2\" >2.420763</td>\n",
       "      <td id=\"T_c6e77_row5_col3\" class=\"data row5 col3\" >0.973363</td>\n",
       "      <td id=\"T_c6e77_row5_col4\" class=\"data row5 col4\" >0.166179</td>\n",
       "      <td id=\"T_c6e77_row5_col5\" class=\"data row5 col5\" >1.312528</td>\n",
       "    </tr>\n",
       "    <tr>\n",
       "      <th id=\"T_c6e77_level0_row6\" class=\"row_heading level0 row6\" >6</th>\n",
       "      <td id=\"T_c6e77_row6_col0\" class=\"data row6 col0\" >4.027199</td>\n",
       "      <td id=\"T_c6e77_row6_col1\" class=\"data row6 col1\" >5.079975</td>\n",
       "      <td id=\"T_c6e77_row6_col2\" class=\"data row6 col2\" >4.582185</td>\n",
       "      <td id=\"T_c6e77_row6_col3\" class=\"data row6 col3\" >0.876607</td>\n",
       "      <td id=\"T_c6e77_row6_col4\" class=\"data row6 col4\" >0.420479</td>\n",
       "      <td id=\"T_c6e77_row6_col5\" class=\"data row6 col5\" >1.651431</td>\n",
       "    </tr>\n",
       "    <tr>\n",
       "      <th id=\"T_c6e77_level0_row7\" class=\"row_heading level0 row7\" >7</th>\n",
       "      <td id=\"T_c6e77_row7_col0\" class=\"data row7 col0\" >nan</td>\n",
       "      <td id=\"T_c6e77_row7_col1\" class=\"data row7 col1\" >5.339294</td>\n",
       "      <td id=\"T_c6e77_row7_col2\" class=\"data row7 col2\" >3.138633</td>\n",
       "      <td id=\"T_c6e77_row7_col3\" class=\"data row7 col3\" >1.611132</td>\n",
       "      <td id=\"T_c6e77_row7_col4\" class=\"data row7 col4\" >0.229141</td>\n",
       "      <td id=\"T_c6e77_row7_col5\" class=\"data row7 col5\" >0.000000</td>\n",
       "    </tr>\n",
       "    <tr>\n",
       "      <th id=\"T_c6e77_level0_row8\" class=\"row_heading level0 row8\" >8</th>\n",
       "      <td id=\"T_c6e77_row8_col0\" class=\"data row8 col0\" >2.743726</td>\n",
       "      <td id=\"T_c6e77_row8_col1\" class=\"data row8 col1\" >4.506330</td>\n",
       "      <td id=\"T_c6e77_row8_col2\" class=\"data row8 col2\" >2.620240</td>\n",
       "      <td id=\"T_c6e77_row8_col3\" class=\"data row8 col3\" >1.362915</td>\n",
       "      <td id=\"T_c6e77_row8_col4\" class=\"data row8 col4\" >0.011719</td>\n",
       "      <td id=\"T_c6e77_row8_col5\" class=\"data row8 col5\" >1.035106</td>\n",
       "    </tr>\n",
       "    <tr>\n",
       "      <th id=\"T_c6e77_level0_row9\" class=\"row_heading level0 row9\" >9</th>\n",
       "      <td id=\"T_c6e77_row9_col0\" class=\"data row9 col0\" >-0.180238</td>\n",
       "      <td id=\"T_c6e77_row9_col1\" class=\"data row9 col1\" >3.148906</td>\n",
       "      <td id=\"T_c6e77_row9_col2\" class=\"data row9 col2\" >0.280848</td>\n",
       "      <td id=\"T_c6e77_row9_col3\" class=\"data row9 col3\" >-0.741796</td>\n",
       "      <td id=\"T_c6e77_row9_col4\" class=\"data row9 col4\" >0.104471</td>\n",
       "      <td id=\"T_c6e77_row9_col5\" class=\"data row9 col5\" >4.303085</td>\n",
       "    </tr>\n",
       "  </tbody>\n",
       "</table>\n"
      ],
      "text/plain": [
       "<pandas.io.formats.style.Styler at 0x7f8fcf745c40>"
      ]
     },
     "execution_count": 28,
     "metadata": {},
     "output_type": "execute_result"
    }
   ],
   "source": [
    "donor = demo_df.dropna().nsmallest(1, 'distance')\n",
    "spotlight_donors(demo_df,donor)"
   ]
  },
  {
   "cell_type": "markdown",
   "metadata": {},
   "source": [
    "#### Method 2:\n",
    "\n",
    "Donors selected from all points under a fixed threshold"
   ]
  },
  {
   "cell_type": "code",
   "execution_count": 29,
   "metadata": {},
   "outputs": [
    {
     "data": {
      "text/html": [
       "<style type=\"text/css\">\n",
       "#T_d07ff_row1_col0, #T_d07ff_row2_col0, #T_d07ff_row5_col0, #T_d07ff_row6_col0, #T_d07ff_row8_col0 {\n",
       "  background-color: lightgreen;\n",
       "}\n",
       "#T_d07ff_row1_col5, #T_d07ff_row2_col5, #T_d07ff_row5_col5, #T_d07ff_row6_col5, #T_d07ff_row8_col5 {\n",
       "  background-color: green;\n",
       "  color: white;\n",
       "}\n",
       "</style>\n",
       "<table id=\"T_d07ff\">\n",
       "  <thead>\n",
       "    <tr>\n",
       "      <th class=\"blank level0\" >&nbsp;</th>\n",
       "      <th id=\"T_d07ff_level0_col0\" class=\"col_heading level0 col0\" >feature a</th>\n",
       "      <th id=\"T_d07ff_level0_col1\" class=\"col_heading level0 col1\" >feature b</th>\n",
       "      <th id=\"T_d07ff_level0_col2\" class=\"col_heading level0 col2\" >feature c</th>\n",
       "      <th id=\"T_d07ff_level0_col3\" class=\"col_heading level0 col3\" >feature d</th>\n",
       "      <th id=\"T_d07ff_level0_col4\" class=\"col_heading level0 col4\" >uncorrelated</th>\n",
       "      <th id=\"T_d07ff_level0_col5\" class=\"col_heading level0 col5\" >distance</th>\n",
       "    </tr>\n",
       "  </thead>\n",
       "  <tbody>\n",
       "    <tr>\n",
       "      <th id=\"T_d07ff_level0_row0\" class=\"row_heading level0 row0\" >0</th>\n",
       "      <td id=\"T_d07ff_row0_col0\" class=\"data row0 col0\" >1.517509</td>\n",
       "      <td id=\"T_d07ff_row0_col1\" class=\"data row0 col1\" >4.229258</td>\n",
       "      <td id=\"T_d07ff_row0_col2\" class=\"data row0 col2\" >2.052726</td>\n",
       "      <td id=\"T_d07ff_row0_col3\" class=\"data row0 col3\" >0.153278</td>\n",
       "      <td id=\"T_d07ff_row0_col4\" class=\"data row0 col4\" >0.014975</td>\n",
       "      <td id=\"T_d07ff_row0_col5\" class=\"data row0 col5\" >2.140696</td>\n",
       "    </tr>\n",
       "    <tr>\n",
       "      <th id=\"T_d07ff_level0_row1\" class=\"row_heading level0 row1\" >1</th>\n",
       "      <td id=\"T_d07ff_row1_col0\" class=\"data row1 col0\" >2.536323</td>\n",
       "      <td id=\"T_d07ff_row1_col1\" class=\"data row1 col1\" >4.295391</td>\n",
       "      <td id=\"T_d07ff_row1_col2\" class=\"data row1 col2\" >2.104137</td>\n",
       "      <td id=\"T_d07ff_row1_col3\" class=\"data row1 col3\" >1.348000</td>\n",
       "      <td id=\"T_d07ff_row1_col4\" class=\"data row1 col4\" >0.998701</td>\n",
       "      <td id=\"T_d07ff_row1_col5\" class=\"data row1 col5\" >1.679696</td>\n",
       "    </tr>\n",
       "    <tr>\n",
       "      <th id=\"T_d07ff_level0_row2\" class=\"row_heading level0 row2\" >2</th>\n",
       "      <td id=\"T_d07ff_row2_col0\" class=\"data row2 col0\" >4.043034</td>\n",
       "      <td id=\"T_d07ff_row2_col1\" class=\"data row2 col1\" >5.872276</td>\n",
       "      <td id=\"T_d07ff_row2_col2\" class=\"data row2 col2\" >3.559629</td>\n",
       "      <td id=\"T_d07ff_row2_col3\" class=\"data row2 col3\" >3.274061</td>\n",
       "      <td id=\"T_d07ff_row2_col4\" class=\"data row2 col4\" >0.403823</td>\n",
       "      <td id=\"T_d07ff_row2_col5\" class=\"data row2 col5\" >1.804759</td>\n",
       "    </tr>\n",
       "    <tr>\n",
       "      <th id=\"T_d07ff_level0_row3\" class=\"row_heading level0 row3\" >3</th>\n",
       "      <td id=\"T_d07ff_row3_col0\" class=\"data row3 col0\" >0.082752</td>\n",
       "      <td id=\"T_d07ff_row3_col1\" class=\"data row3 col1\" >3.761743</td>\n",
       "      <td id=\"T_d07ff_row3_col2\" class=\"data row3 col2\" >-0.440590</td>\n",
       "      <td id=\"T_d07ff_row3_col3\" class=\"data row3 col3\" >1.031832</td>\n",
       "      <td id=\"T_d07ff_row3_col4\" class=\"data row3 col4\" >0.281023</td>\n",
       "      <td id=\"T_d07ff_row3_col5\" class=\"data row3 col5\" >3.954464</td>\n",
       "    </tr>\n",
       "    <tr>\n",
       "      <th id=\"T_d07ff_level0_row4\" class=\"row_heading level0 row4\" >4</th>\n",
       "      <td id=\"T_d07ff_row4_col0\" class=\"data row4 col0\" >0.196684</td>\n",
       "      <td id=\"T_d07ff_row4_col1\" class=\"data row4 col1\" >3.793343</td>\n",
       "      <td id=\"T_d07ff_row4_col2\" class=\"data row4 col2\" >1.016462</td>\n",
       "      <td id=\"T_d07ff_row4_col3\" class=\"data row4 col3\" >-0.667764</td>\n",
       "      <td id=\"T_d07ff_row4_col4\" class=\"data row4 col4\" >0.165431</td>\n",
       "      <td id=\"T_d07ff_row4_col5\" class=\"data row4 col5\" >3.477212</td>\n",
       "    </tr>\n",
       "    <tr>\n",
       "      <th id=\"T_d07ff_level0_row5\" class=\"row_heading level0 row5\" >5</th>\n",
       "      <td id=\"T_d07ff_row5_col0\" class=\"data row5 col0\" >2.560068</td>\n",
       "      <td id=\"T_d07ff_row5_col1\" class=\"data row5 col1\" >4.446726</td>\n",
       "      <td id=\"T_d07ff_row5_col2\" class=\"data row5 col2\" >2.420763</td>\n",
       "      <td id=\"T_d07ff_row5_col3\" class=\"data row5 col3\" >0.973363</td>\n",
       "      <td id=\"T_d07ff_row5_col4\" class=\"data row5 col4\" >0.166179</td>\n",
       "      <td id=\"T_d07ff_row5_col5\" class=\"data row5 col5\" >1.312528</td>\n",
       "    </tr>\n",
       "    <tr>\n",
       "      <th id=\"T_d07ff_level0_row6\" class=\"row_heading level0 row6\" >6</th>\n",
       "      <td id=\"T_d07ff_row6_col0\" class=\"data row6 col0\" >4.027199</td>\n",
       "      <td id=\"T_d07ff_row6_col1\" class=\"data row6 col1\" >5.079975</td>\n",
       "      <td id=\"T_d07ff_row6_col2\" class=\"data row6 col2\" >4.582185</td>\n",
       "      <td id=\"T_d07ff_row6_col3\" class=\"data row6 col3\" >0.876607</td>\n",
       "      <td id=\"T_d07ff_row6_col4\" class=\"data row6 col4\" >0.420479</td>\n",
       "      <td id=\"T_d07ff_row6_col5\" class=\"data row6 col5\" >1.651431</td>\n",
       "    </tr>\n",
       "    <tr>\n",
       "      <th id=\"T_d07ff_level0_row7\" class=\"row_heading level0 row7\" >7</th>\n",
       "      <td id=\"T_d07ff_row7_col0\" class=\"data row7 col0\" >nan</td>\n",
       "      <td id=\"T_d07ff_row7_col1\" class=\"data row7 col1\" >5.339294</td>\n",
       "      <td id=\"T_d07ff_row7_col2\" class=\"data row7 col2\" >3.138633</td>\n",
       "      <td id=\"T_d07ff_row7_col3\" class=\"data row7 col3\" >1.611132</td>\n",
       "      <td id=\"T_d07ff_row7_col4\" class=\"data row7 col4\" >0.229141</td>\n",
       "      <td id=\"T_d07ff_row7_col5\" class=\"data row7 col5\" >0.000000</td>\n",
       "    </tr>\n",
       "    <tr>\n",
       "      <th id=\"T_d07ff_level0_row8\" class=\"row_heading level0 row8\" >8</th>\n",
       "      <td id=\"T_d07ff_row8_col0\" class=\"data row8 col0\" >2.743726</td>\n",
       "      <td id=\"T_d07ff_row8_col1\" class=\"data row8 col1\" >4.506330</td>\n",
       "      <td id=\"T_d07ff_row8_col2\" class=\"data row8 col2\" >2.620240</td>\n",
       "      <td id=\"T_d07ff_row8_col3\" class=\"data row8 col3\" >1.362915</td>\n",
       "      <td id=\"T_d07ff_row8_col4\" class=\"data row8 col4\" >0.011719</td>\n",
       "      <td id=\"T_d07ff_row8_col5\" class=\"data row8 col5\" >1.035106</td>\n",
       "    </tr>\n",
       "    <tr>\n",
       "      <th id=\"T_d07ff_level0_row9\" class=\"row_heading level0 row9\" >9</th>\n",
       "      <td id=\"T_d07ff_row9_col0\" class=\"data row9 col0\" >-0.180238</td>\n",
       "      <td id=\"T_d07ff_row9_col1\" class=\"data row9 col1\" >3.148906</td>\n",
       "      <td id=\"T_d07ff_row9_col2\" class=\"data row9 col2\" >0.280848</td>\n",
       "      <td id=\"T_d07ff_row9_col3\" class=\"data row9 col3\" >-0.741796</td>\n",
       "      <td id=\"T_d07ff_row9_col4\" class=\"data row9 col4\" >0.104471</td>\n",
       "      <td id=\"T_d07ff_row9_col5\" class=\"data row9 col5\" >4.303085</td>\n",
       "    </tr>\n",
       "  </tbody>\n",
       "</table>\n"
      ],
      "text/plain": [
       "<pandas.io.formats.style.Styler at 0x7f8fcf788970>"
      ]
     },
     "execution_count": 29,
     "metadata": {},
     "output_type": "execute_result"
    }
   ],
   "source": [
    "threshold = 2\n",
    "donors = demo_df.dropna()[demo_df.dropna().distance<threshold]['feature a']\n",
    "spotlight_donors(demo_df, donors)"
   ]
  },
  {
   "cell_type": "markdown",
   "metadata": {},
   "source": [
    "#### Method 3:\n",
    "\n",
    "Closest N points selected as the set of donors"
   ]
  },
  {
   "cell_type": "code",
   "execution_count": 30,
   "metadata": {},
   "outputs": [
    {
     "data": {
      "text/html": [
       "<style type=\"text/css\">\n",
       "#T_83a26_row5_col0, #T_83a26_row6_col0, #T_83a26_row8_col0 {\n",
       "  background-color: lightgreen;\n",
       "}\n",
       "#T_83a26_row5_col5, #T_83a26_row6_col5, #T_83a26_row8_col5 {\n",
       "  background-color: green;\n",
       "  color: white;\n",
       "}\n",
       "</style>\n",
       "<table id=\"T_83a26\">\n",
       "  <thead>\n",
       "    <tr>\n",
       "      <th class=\"blank level0\" >&nbsp;</th>\n",
       "      <th id=\"T_83a26_level0_col0\" class=\"col_heading level0 col0\" >feature a</th>\n",
       "      <th id=\"T_83a26_level0_col1\" class=\"col_heading level0 col1\" >feature b</th>\n",
       "      <th id=\"T_83a26_level0_col2\" class=\"col_heading level0 col2\" >feature c</th>\n",
       "      <th id=\"T_83a26_level0_col3\" class=\"col_heading level0 col3\" >feature d</th>\n",
       "      <th id=\"T_83a26_level0_col4\" class=\"col_heading level0 col4\" >uncorrelated</th>\n",
       "      <th id=\"T_83a26_level0_col5\" class=\"col_heading level0 col5\" >distance</th>\n",
       "    </tr>\n",
       "  </thead>\n",
       "  <tbody>\n",
       "    <tr>\n",
       "      <th id=\"T_83a26_level0_row0\" class=\"row_heading level0 row0\" >0</th>\n",
       "      <td id=\"T_83a26_row0_col0\" class=\"data row0 col0\" >1.517509</td>\n",
       "      <td id=\"T_83a26_row0_col1\" class=\"data row0 col1\" >4.229258</td>\n",
       "      <td id=\"T_83a26_row0_col2\" class=\"data row0 col2\" >2.052726</td>\n",
       "      <td id=\"T_83a26_row0_col3\" class=\"data row0 col3\" >0.153278</td>\n",
       "      <td id=\"T_83a26_row0_col4\" class=\"data row0 col4\" >0.014975</td>\n",
       "      <td id=\"T_83a26_row0_col5\" class=\"data row0 col5\" >2.140696</td>\n",
       "    </tr>\n",
       "    <tr>\n",
       "      <th id=\"T_83a26_level0_row1\" class=\"row_heading level0 row1\" >1</th>\n",
       "      <td id=\"T_83a26_row1_col0\" class=\"data row1 col0\" >2.536323</td>\n",
       "      <td id=\"T_83a26_row1_col1\" class=\"data row1 col1\" >4.295391</td>\n",
       "      <td id=\"T_83a26_row1_col2\" class=\"data row1 col2\" >2.104137</td>\n",
       "      <td id=\"T_83a26_row1_col3\" class=\"data row1 col3\" >1.348000</td>\n",
       "      <td id=\"T_83a26_row1_col4\" class=\"data row1 col4\" >0.998701</td>\n",
       "      <td id=\"T_83a26_row1_col5\" class=\"data row1 col5\" >1.679696</td>\n",
       "    </tr>\n",
       "    <tr>\n",
       "      <th id=\"T_83a26_level0_row2\" class=\"row_heading level0 row2\" >2</th>\n",
       "      <td id=\"T_83a26_row2_col0\" class=\"data row2 col0\" >4.043034</td>\n",
       "      <td id=\"T_83a26_row2_col1\" class=\"data row2 col1\" >5.872276</td>\n",
       "      <td id=\"T_83a26_row2_col2\" class=\"data row2 col2\" >3.559629</td>\n",
       "      <td id=\"T_83a26_row2_col3\" class=\"data row2 col3\" >3.274061</td>\n",
       "      <td id=\"T_83a26_row2_col4\" class=\"data row2 col4\" >0.403823</td>\n",
       "      <td id=\"T_83a26_row2_col5\" class=\"data row2 col5\" >1.804759</td>\n",
       "    </tr>\n",
       "    <tr>\n",
       "      <th id=\"T_83a26_level0_row3\" class=\"row_heading level0 row3\" >3</th>\n",
       "      <td id=\"T_83a26_row3_col0\" class=\"data row3 col0\" >0.082752</td>\n",
       "      <td id=\"T_83a26_row3_col1\" class=\"data row3 col1\" >3.761743</td>\n",
       "      <td id=\"T_83a26_row3_col2\" class=\"data row3 col2\" >-0.440590</td>\n",
       "      <td id=\"T_83a26_row3_col3\" class=\"data row3 col3\" >1.031832</td>\n",
       "      <td id=\"T_83a26_row3_col4\" class=\"data row3 col4\" >0.281023</td>\n",
       "      <td id=\"T_83a26_row3_col5\" class=\"data row3 col5\" >3.954464</td>\n",
       "    </tr>\n",
       "    <tr>\n",
       "      <th id=\"T_83a26_level0_row4\" class=\"row_heading level0 row4\" >4</th>\n",
       "      <td id=\"T_83a26_row4_col0\" class=\"data row4 col0\" >0.196684</td>\n",
       "      <td id=\"T_83a26_row4_col1\" class=\"data row4 col1\" >3.793343</td>\n",
       "      <td id=\"T_83a26_row4_col2\" class=\"data row4 col2\" >1.016462</td>\n",
       "      <td id=\"T_83a26_row4_col3\" class=\"data row4 col3\" >-0.667764</td>\n",
       "      <td id=\"T_83a26_row4_col4\" class=\"data row4 col4\" >0.165431</td>\n",
       "      <td id=\"T_83a26_row4_col5\" class=\"data row4 col5\" >3.477212</td>\n",
       "    </tr>\n",
       "    <tr>\n",
       "      <th id=\"T_83a26_level0_row5\" class=\"row_heading level0 row5\" >5</th>\n",
       "      <td id=\"T_83a26_row5_col0\" class=\"data row5 col0\" >2.560068</td>\n",
       "      <td id=\"T_83a26_row5_col1\" class=\"data row5 col1\" >4.446726</td>\n",
       "      <td id=\"T_83a26_row5_col2\" class=\"data row5 col2\" >2.420763</td>\n",
       "      <td id=\"T_83a26_row5_col3\" class=\"data row5 col3\" >0.973363</td>\n",
       "      <td id=\"T_83a26_row5_col4\" class=\"data row5 col4\" >0.166179</td>\n",
       "      <td id=\"T_83a26_row5_col5\" class=\"data row5 col5\" >1.312528</td>\n",
       "    </tr>\n",
       "    <tr>\n",
       "      <th id=\"T_83a26_level0_row6\" class=\"row_heading level0 row6\" >6</th>\n",
       "      <td id=\"T_83a26_row6_col0\" class=\"data row6 col0\" >4.027199</td>\n",
       "      <td id=\"T_83a26_row6_col1\" class=\"data row6 col1\" >5.079975</td>\n",
       "      <td id=\"T_83a26_row6_col2\" class=\"data row6 col2\" >4.582185</td>\n",
       "      <td id=\"T_83a26_row6_col3\" class=\"data row6 col3\" >0.876607</td>\n",
       "      <td id=\"T_83a26_row6_col4\" class=\"data row6 col4\" >0.420479</td>\n",
       "      <td id=\"T_83a26_row6_col5\" class=\"data row6 col5\" >1.651431</td>\n",
       "    </tr>\n",
       "    <tr>\n",
       "      <th id=\"T_83a26_level0_row7\" class=\"row_heading level0 row7\" >7</th>\n",
       "      <td id=\"T_83a26_row7_col0\" class=\"data row7 col0\" >nan</td>\n",
       "      <td id=\"T_83a26_row7_col1\" class=\"data row7 col1\" >5.339294</td>\n",
       "      <td id=\"T_83a26_row7_col2\" class=\"data row7 col2\" >3.138633</td>\n",
       "      <td id=\"T_83a26_row7_col3\" class=\"data row7 col3\" >1.611132</td>\n",
       "      <td id=\"T_83a26_row7_col4\" class=\"data row7 col4\" >0.229141</td>\n",
       "      <td id=\"T_83a26_row7_col5\" class=\"data row7 col5\" >0.000000</td>\n",
       "    </tr>\n",
       "    <tr>\n",
       "      <th id=\"T_83a26_level0_row8\" class=\"row_heading level0 row8\" >8</th>\n",
       "      <td id=\"T_83a26_row8_col0\" class=\"data row8 col0\" >2.743726</td>\n",
       "      <td id=\"T_83a26_row8_col1\" class=\"data row8 col1\" >4.506330</td>\n",
       "      <td id=\"T_83a26_row8_col2\" class=\"data row8 col2\" >2.620240</td>\n",
       "      <td id=\"T_83a26_row8_col3\" class=\"data row8 col3\" >1.362915</td>\n",
       "      <td id=\"T_83a26_row8_col4\" class=\"data row8 col4\" >0.011719</td>\n",
       "      <td id=\"T_83a26_row8_col5\" class=\"data row8 col5\" >1.035106</td>\n",
       "    </tr>\n",
       "    <tr>\n",
       "      <th id=\"T_83a26_level0_row9\" class=\"row_heading level0 row9\" >9</th>\n",
       "      <td id=\"T_83a26_row9_col0\" class=\"data row9 col0\" >-0.180238</td>\n",
       "      <td id=\"T_83a26_row9_col1\" class=\"data row9 col1\" >3.148906</td>\n",
       "      <td id=\"T_83a26_row9_col2\" class=\"data row9 col2\" >0.280848</td>\n",
       "      <td id=\"T_83a26_row9_col3\" class=\"data row9 col3\" >-0.741796</td>\n",
       "      <td id=\"T_83a26_row9_col4\" class=\"data row9 col4\" >0.104471</td>\n",
       "      <td id=\"T_83a26_row9_col5\" class=\"data row9 col5\" >4.303085</td>\n",
       "    </tr>\n",
       "  </tbody>\n",
       "</table>\n"
      ],
      "text/plain": [
       "<pandas.io.formats.style.Styler at 0x7f8fcf745670>"
      ]
     },
     "execution_count": 30,
     "metadata": {},
     "output_type": "execute_result"
    }
   ],
   "source": [
    "N=3\n",
    "donors = demo_df.nsmallest(N+1, 'distance').tail(N)['feature a']\n",
    "spotlight_donors(demo_df, donors)"
   ]
  },
  {
   "cell_type": "markdown",
   "metadata": {},
   "source": [
    "#### Method 4:\n",
    "\n",
    "Donors are all points, but donor selected randomly based on the distance, closest having higher probability"
   ]
  },
  {
   "cell_type": "code",
   "execution_count": 31,
   "metadata": {},
   "outputs": [
    {
     "data": {
      "text/plain": [
       "[2.560068182587529]"
      ]
     },
     "execution_count": 31,
     "metadata": {},
     "output_type": "execute_result"
    }
   ],
   "source": [
    "import random\n",
    "# Pick with probability inversely proportionally to distance\n",
    "weights = 1/demo_df.dropna()['distance']\n",
    "random.choices(demo_df.dropna()['feature a'].to_list(), k=1, weights=weights.to_list())"
   ]
  },
  {
   "cell_type": "markdown",
   "metadata": {
    "id": "fA-u2Tz8sa-8"
   },
   "source": [
    "## $\\color{purple}{\\text{Predictive Mean Matching}}$\n",
    "Uses linear interpolation as part of the metric.\n",
    "\n",
    "Basically, the donors are selected from those observations whose predicted values from linear regression most closely matches that predicted from the missing value.\n"
   ]
  },
  {
   "cell_type": "code",
   "execution_count": 32,
   "metadata": {},
   "outputs": [],
   "source": [
    "from sklearn.linear_model import LinearRegression\n",
    "linear_regressor=LinearRegression()"
   ]
  },
  {
   "cell_type": "code",
   "execution_count": 33,
   "metadata": {},
   "outputs": [],
   "source": [
    "demo_df = pd.read_csv('data/demo_mar.csv')"
   ]
  },
  {
   "cell_type": "code",
   "execution_count": 34,
   "metadata": {},
   "outputs": [],
   "source": [
    "rest = ['feature b', 'feature c', 'feature d', 'uncorrelated']\n",
    "full_data = demo_df.dropna()\n",
    "linear_regressor.fit(full_data[rest], full_data['feature a'])\n",
    "demo_df['regression'] = linear_regressor.predict(demo_df[rest])"
   ]
  },
  {
   "cell_type": "code",
   "execution_count": 35,
   "metadata": {},
   "outputs": [],
   "source": [
    "demo_df['distance']=np.abs(demo_df.regression-demo_df.regression.iloc[7])"
   ]
  },
  {
   "cell_type": "code",
   "execution_count": 36,
   "metadata": {},
   "outputs": [
    {
     "data": {
      "text/html": [
       "<style type=\"text/css\">\n",
       "#T_57064_row1_col0, #T_57064_row5_col0, #T_57064_row8_col0 {\n",
       "  background-color: lightgreen;\n",
       "}\n",
       "#T_57064_row1_col5, #T_57064_row5_col5, #T_57064_row8_col5 {\n",
       "  background-color: darkgreen;\n",
       "  color: white;\n",
       "}\n",
       "#T_57064_row1_col6, #T_57064_row5_col6, #T_57064_row8_col6 {\n",
       "  background-color: green;\n",
       "  color: white;\n",
       "}\n",
       "#T_57064_row7_col5 {\n",
       "  background-color: yellow;\n",
       "  background-color: yellow;\n",
       "  background-color: yellow;\n",
       "}\n",
       "</style>\n",
       "<table id=\"T_57064\">\n",
       "  <thead>\n",
       "    <tr>\n",
       "      <th class=\"blank level0\" >&nbsp;</th>\n",
       "      <th id=\"T_57064_level0_col0\" class=\"col_heading level0 col0\" >feature a</th>\n",
       "      <th id=\"T_57064_level0_col1\" class=\"col_heading level0 col1\" >feature b</th>\n",
       "      <th id=\"T_57064_level0_col2\" class=\"col_heading level0 col2\" >feature c</th>\n",
       "      <th id=\"T_57064_level0_col3\" class=\"col_heading level0 col3\" >feature d</th>\n",
       "      <th id=\"T_57064_level0_col4\" class=\"col_heading level0 col4\" >uncorrelated</th>\n",
       "      <th id=\"T_57064_level0_col5\" class=\"col_heading level0 col5\" >regression</th>\n",
       "      <th id=\"T_57064_level0_col6\" class=\"col_heading level0 col6\" >distance</th>\n",
       "    </tr>\n",
       "  </thead>\n",
       "  <tbody>\n",
       "    <tr>\n",
       "      <th id=\"T_57064_level0_row0\" class=\"row_heading level0 row0\" >0</th>\n",
       "      <td id=\"T_57064_row0_col0\" class=\"data row0 col0\" >1.517509</td>\n",
       "      <td id=\"T_57064_row0_col1\" class=\"data row0 col1\" >4.229258</td>\n",
       "      <td id=\"T_57064_row0_col2\" class=\"data row0 col2\" >2.052726</td>\n",
       "      <td id=\"T_57064_row0_col3\" class=\"data row0 col3\" >0.153278</td>\n",
       "      <td id=\"T_57064_row0_col4\" class=\"data row0 col4\" >0.014975</td>\n",
       "      <td id=\"T_57064_row0_col5\" class=\"data row0 col5\" >1.520445</td>\n",
       "      <td id=\"T_57064_row0_col6\" class=\"data row0 col6\" >1.320369</td>\n",
       "    </tr>\n",
       "    <tr>\n",
       "      <th id=\"T_57064_level0_row1\" class=\"row_heading level0 row1\" >1</th>\n",
       "      <td id=\"T_57064_row1_col0\" class=\"data row1 col0\" >2.536323</td>\n",
       "      <td id=\"T_57064_row1_col1\" class=\"data row1 col1\" >4.295391</td>\n",
       "      <td id=\"T_57064_row1_col2\" class=\"data row1 col2\" >2.104137</td>\n",
       "      <td id=\"T_57064_row1_col3\" class=\"data row1 col3\" >1.348000</td>\n",
       "      <td id=\"T_57064_row1_col4\" class=\"data row1 col4\" >0.998701</td>\n",
       "      <td id=\"T_57064_row1_col5\" class=\"data row1 col5\" >2.542722</td>\n",
       "      <td id=\"T_57064_row1_col6\" class=\"data row1 col6\" >0.298092</td>\n",
       "    </tr>\n",
       "    <tr>\n",
       "      <th id=\"T_57064_level0_row2\" class=\"row_heading level0 row2\" >2</th>\n",
       "      <td id=\"T_57064_row2_col0\" class=\"data row2 col0\" >4.043034</td>\n",
       "      <td id=\"T_57064_row2_col1\" class=\"data row2 col1\" >5.872276</td>\n",
       "      <td id=\"T_57064_row2_col2\" class=\"data row2 col2\" >3.559629</td>\n",
       "      <td id=\"T_57064_row2_col3\" class=\"data row2 col3\" >3.274061</td>\n",
       "      <td id=\"T_57064_row2_col4\" class=\"data row2 col4\" >0.403823</td>\n",
       "      <td id=\"T_57064_row2_col5\" class=\"data row2 col5\" >4.117501</td>\n",
       "      <td id=\"T_57064_row2_col6\" class=\"data row2 col6\" >1.276687</td>\n",
       "    </tr>\n",
       "    <tr>\n",
       "      <th id=\"T_57064_level0_row3\" class=\"row_heading level0 row3\" >3</th>\n",
       "      <td id=\"T_57064_row3_col0\" class=\"data row3 col0\" >0.082752</td>\n",
       "      <td id=\"T_57064_row3_col1\" class=\"data row3 col1\" >3.761743</td>\n",
       "      <td id=\"T_57064_row3_col2\" class=\"data row3 col2\" >-0.440590</td>\n",
       "      <td id=\"T_57064_row3_col3\" class=\"data row3 col3\" >1.031832</td>\n",
       "      <td id=\"T_57064_row3_col4\" class=\"data row3 col4\" >0.281023</td>\n",
       "      <td id=\"T_57064_row3_col5\" class=\"data row3 col5\" >0.030163</td>\n",
       "      <td id=\"T_57064_row3_col6\" class=\"data row3 col6\" >2.810651</td>\n",
       "    </tr>\n",
       "    <tr>\n",
       "      <th id=\"T_57064_level0_row4\" class=\"row_heading level0 row4\" >4</th>\n",
       "      <td id=\"T_57064_row4_col0\" class=\"data row4 col0\" >0.196684</td>\n",
       "      <td id=\"T_57064_row4_col1\" class=\"data row4 col1\" >3.793343</td>\n",
       "      <td id=\"T_57064_row4_col2\" class=\"data row4 col2\" >1.016462</td>\n",
       "      <td id=\"T_57064_row4_col3\" class=\"data row4 col3\" >-0.667764</td>\n",
       "      <td id=\"T_57064_row4_col4\" class=\"data row4 col4\" >0.165431</td>\n",
       "      <td id=\"T_57064_row4_col5\" class=\"data row4 col5\" >0.202129</td>\n",
       "      <td id=\"T_57064_row4_col6\" class=\"data row4 col6\" >2.638685</td>\n",
       "    </tr>\n",
       "    <tr>\n",
       "      <th id=\"T_57064_level0_row5\" class=\"row_heading level0 row5\" >5</th>\n",
       "      <td id=\"T_57064_row5_col0\" class=\"data row5 col0\" >2.560068</td>\n",
       "      <td id=\"T_57064_row5_col1\" class=\"data row5 col1\" >4.446726</td>\n",
       "      <td id=\"T_57064_row5_col2\" class=\"data row5 col2\" >2.420763</td>\n",
       "      <td id=\"T_57064_row5_col3\" class=\"data row5 col3\" >0.973363</td>\n",
       "      <td id=\"T_57064_row5_col4\" class=\"data row5 col4\" >0.166179</td>\n",
       "      <td id=\"T_57064_row5_col5\" class=\"data row5 col5\" >2.363152</td>\n",
       "      <td id=\"T_57064_row5_col6\" class=\"data row5 col6\" >0.477662</td>\n",
       "    </tr>\n",
       "    <tr>\n",
       "      <th id=\"T_57064_level0_row6\" class=\"row_heading level0 row6\" >6</th>\n",
       "      <td id=\"T_57064_row6_col0\" class=\"data row6 col0\" >4.027199</td>\n",
       "      <td id=\"T_57064_row6_col1\" class=\"data row6 col1\" >5.079975</td>\n",
       "      <td id=\"T_57064_row6_col2\" class=\"data row6 col2\" >4.582185</td>\n",
       "      <td id=\"T_57064_row6_col3\" class=\"data row6 col3\" >0.876607</td>\n",
       "      <td id=\"T_57064_row6_col4\" class=\"data row6 col4\" >0.420479</td>\n",
       "      <td id=\"T_57064_row6_col5\" class=\"data row6 col5\" >4.023186</td>\n",
       "      <td id=\"T_57064_row6_col6\" class=\"data row6 col6\" >1.182373</td>\n",
       "    </tr>\n",
       "    <tr>\n",
       "      <th id=\"T_57064_level0_row7\" class=\"row_heading level0 row7\" >7</th>\n",
       "      <td id=\"T_57064_row7_col0\" class=\"data row7 col0\" >nan</td>\n",
       "      <td id=\"T_57064_row7_col1\" class=\"data row7 col1\" >5.339294</td>\n",
       "      <td id=\"T_57064_row7_col2\" class=\"data row7 col2\" >3.138633</td>\n",
       "      <td id=\"T_57064_row7_col3\" class=\"data row7 col3\" >1.611132</td>\n",
       "      <td id=\"T_57064_row7_col4\" class=\"data row7 col4\" >0.229141</td>\n",
       "      <td id=\"T_57064_row7_col5\" class=\"data row7 col5\" >2.840814</td>\n",
       "      <td id=\"T_57064_row7_col6\" class=\"data row7 col6\" >0.000000</td>\n",
       "    </tr>\n",
       "    <tr>\n",
       "      <th id=\"T_57064_level0_row8\" class=\"row_heading level0 row8\" >8</th>\n",
       "      <td id=\"T_57064_row8_col0\" class=\"data row8 col0\" >2.743726</td>\n",
       "      <td id=\"T_57064_row8_col1\" class=\"data row8 col1\" >4.506330</td>\n",
       "      <td id=\"T_57064_row8_col2\" class=\"data row8 col2\" >2.620240</td>\n",
       "      <td id=\"T_57064_row8_col3\" class=\"data row8 col3\" >1.362915</td>\n",
       "      <td id=\"T_57064_row8_col4\" class=\"data row8 col4\" >0.011719</td>\n",
       "      <td id=\"T_57064_row8_col5\" class=\"data row8 col5\" >2.801720</td>\n",
       "      <td id=\"T_57064_row8_col6\" class=\"data row8 col6\" >0.039094</td>\n",
       "    </tr>\n",
       "    <tr>\n",
       "      <th id=\"T_57064_level0_row9\" class=\"row_heading level0 row9\" >9</th>\n",
       "      <td id=\"T_57064_row9_col0\" class=\"data row9 col0\" >-0.180238</td>\n",
       "      <td id=\"T_57064_row9_col1\" class=\"data row9 col1\" >3.148906</td>\n",
       "      <td id=\"T_57064_row9_col2\" class=\"data row9 col2\" >0.280848</td>\n",
       "      <td id=\"T_57064_row9_col3\" class=\"data row9 col3\" >-0.741796</td>\n",
       "      <td id=\"T_57064_row9_col4\" class=\"data row9 col4\" >0.104471</td>\n",
       "      <td id=\"T_57064_row9_col5\" class=\"data row9 col5\" >-0.073960</td>\n",
       "      <td id=\"T_57064_row9_col6\" class=\"data row9 col6\" >2.914774</td>\n",
       "    </tr>\n",
       "  </tbody>\n",
       "</table>\n"
      ],
      "text/plain": [
       "<pandas.io.formats.style.Styler at 0x7f8fcf6bc250>"
      ]
     },
     "execution_count": 36,
     "metadata": {},
     "output_type": "execute_result"
    }
   ],
   "source": [
    "N=3\n",
    "donors = demo_df.dropna().sort_values('distance').iloc[0:N]['feature a']\n",
    "spotlight_donors(demo_df, donors, 7)"
   ]
  },
  {
   "cell_type": "markdown",
   "metadata": {},
   "source": [
    "Predictive Mean Matching is the preferred imputation method, but can be computationally expensive, so for this demo the dataset is truncated to 100 rows"
   ]
  },
  {
   "cell_type": "code",
   "execution_count": 37,
   "metadata": {},
   "outputs": [
    {
     "name": "stderr",
     "output_type": "stream",
     "text": [
      "/opt/conda/lib/python3.9/site-packages/deprecat/classic.py:215: FutureWarning: In v4.0, pm.sample will return an `arviz.InferenceData` object instead of a `MultiTrace` by default. You can pass return_inferencedata=True or return_inferencedata=False to be safe and silence this warning.\n",
      "  return wrapped_(*args_, **kwargs_)\n",
      "Auto-assigning NUTS sampler...\n",
      "Initializing NUTS using jitter+adapt_diag...\n",
      "Multiprocess sampling (4 chains in 4 jobs)\n",
      "NUTS: [σ, beta, alpha]\n"
     ]
    },
    {
     "data": {
      "text/html": [
       "\n",
       "<style>\n",
       "    /* Turns off some styling */\n",
       "    progress {\n",
       "        /* gets rid of default border in Firefox and Opera. */\n",
       "        border: none;\n",
       "        /* Needs to be in here for Safari polyfill so background images work as expected. */\n",
       "        background-size: auto;\n",
       "    }\n",
       "    .progress-bar-interrupted, .progress-bar-interrupted::-webkit-progress-bar {\n",
       "        background: #F44336;\n",
       "    }\n",
       "</style>\n"
      ],
      "text/plain": [
       "<IPython.core.display.HTML object>"
      ]
     },
     "metadata": {},
     "output_type": "display_data"
    },
    {
     "data": {
      "text/html": [
       "\n",
       "    <div>\n",
       "      <progress value='8000' class='' max='8000' style='width:300px; height:20px; vertical-align: middle;'></progress>\n",
       "      100.00% [8000/8000 00:12<00:00 Sampling 4 chains, 16 divergences]\n",
       "    </div>\n",
       "    "
      ],
      "text/plain": [
       "<IPython.core.display.HTML object>"
      ]
     },
     "metadata": {},
     "output_type": "display_data"
    },
    {
     "name": "stderr",
     "output_type": "stream",
     "text": [
      "Sampling 4 chains for 1_000 tune and 1_000 draw iterations (4_000 + 4_000 draws total) took 13 seconds.\n",
      "There were 3 divergences after tuning. Increase `target_accept` or reparameterize.\n",
      "There were 6 divergences after tuning. Increase `target_accept` or reparameterize.\n",
      "There were 2 divergences after tuning. Increase `target_accept` or reparameterize.\n",
      "There were 5 divergences after tuning. Increase `target_accept` or reparameterize.\n"
     ]
    }
   ],
   "source": [
    "from autoimpute.imputations import SingleImputer\n",
    "demo_df = mar_df[0:100].copy()\n",
    "imputer=SingleImputer('pmm')\n",
    "imputations = imputer.fit_transform(demo_df)\n"
   ]
  },
  {
   "cell_type": "code",
   "execution_count": 38,
   "metadata": {},
   "outputs": [
    {
     "data": {
      "text/html": [
       "<style type=\"text/css\">\n",
       "#T_7988e_row1_col0, #T_7988e_row8_col0 {\n",
       "  background-color: paleturquoise;\n",
       "}\n",
       "</style>\n",
       "<table id=\"T_7988e\">\n",
       "  <thead>\n",
       "    <tr>\n",
       "      <th class=\"blank level0\" >&nbsp;</th>\n",
       "      <th id=\"T_7988e_level0_col0\" class=\"col_heading level0 col0\" >feature a</th>\n",
       "      <th id=\"T_7988e_level0_col1\" class=\"col_heading level0 col1\" >feature b</th>\n",
       "      <th id=\"T_7988e_level0_col2\" class=\"col_heading level0 col2\" >feature c</th>\n",
       "      <th id=\"T_7988e_level0_col3\" class=\"col_heading level0 col3\" >feature d</th>\n",
       "      <th id=\"T_7988e_level0_col4\" class=\"col_heading level0 col4\" >uncorrelated</th>\n",
       "    </tr>\n",
       "  </thead>\n",
       "  <tbody>\n",
       "    <tr>\n",
       "      <th id=\"T_7988e_level0_row0\" class=\"row_heading level0 row0\" >0</th>\n",
       "      <td id=\"T_7988e_row0_col0\" class=\"data row0 col0\" >2.777245</td>\n",
       "      <td id=\"T_7988e_row0_col1\" class=\"data row0 col1\" >2.234252</td>\n",
       "      <td id=\"T_7988e_row0_col2\" class=\"data row0 col2\" >-1.552282</td>\n",
       "      <td id=\"T_7988e_row0_col3\" class=\"data row0 col3\" >8.772158</td>\n",
       "      <td id=\"T_7988e_row0_col4\" class=\"data row0 col4\" >0.360789</td>\n",
       "    </tr>\n",
       "    <tr>\n",
       "      <th id=\"T_7988e_level0_row1\" class=\"row_heading level0 row1\" >1</th>\n",
       "      <td id=\"T_7988e_row1_col0\" class=\"data row1 col0\" >3.369940</td>\n",
       "      <td id=\"T_7988e_row1_col1\" class=\"data row1 col1\" >2.223169</td>\n",
       "      <td id=\"T_7988e_row1_col2\" class=\"data row1 col2\" >-0.645673</td>\n",
       "      <td id=\"T_7988e_row1_col3\" class=\"data row1 col3\" >8.815675</td>\n",
       "      <td id=\"T_7988e_row1_col4\" class=\"data row1 col4\" >0.393466</td>\n",
       "    </tr>\n",
       "    <tr>\n",
       "      <th id=\"T_7988e_level0_row2\" class=\"row_heading level0 row2\" >2</th>\n",
       "      <td id=\"T_7988e_row2_col0\" class=\"data row2 col0\" >1.936893</td>\n",
       "      <td id=\"T_7988e_row2_col1\" class=\"data row2 col1\" >2.182897</td>\n",
       "      <td id=\"T_7988e_row2_col2\" class=\"data row2 col2\" >-2.474526</td>\n",
       "      <td id=\"T_7988e_row2_col3\" class=\"data row2 col3\" >8.549983</td>\n",
       "      <td id=\"T_7988e_row2_col4\" class=\"data row2 col4\" >0.891191</td>\n",
       "    </tr>\n",
       "    <tr>\n",
       "      <th id=\"T_7988e_level0_row3\" class=\"row_heading level0 row3\" >3</th>\n",
       "      <td id=\"T_7988e_row3_col0\" class=\"data row3 col0\" >2.484183</td>\n",
       "      <td id=\"T_7988e_row3_col1\" class=\"data row3 col1\" >1.618856</td>\n",
       "      <td id=\"T_7988e_row3_col2\" class=\"data row3 col2\" >-1.404809</td>\n",
       "      <td id=\"T_7988e_row3_col3\" class=\"data row3 col3\" >7.360904</td>\n",
       "      <td id=\"T_7988e_row3_col4\" class=\"data row3 col4\" >0.156937</td>\n",
       "    </tr>\n",
       "    <tr>\n",
       "      <th id=\"T_7988e_level0_row4\" class=\"row_heading level0 row4\" >4</th>\n",
       "      <td id=\"T_7988e_row4_col0\" class=\"data row4 col0\" >2.089727</td>\n",
       "      <td id=\"T_7988e_row4_col1\" class=\"data row4 col1\" >2.698967</td>\n",
       "      <td id=\"T_7988e_row4_col2\" class=\"data row4 col2\" >-1.464007</td>\n",
       "      <td id=\"T_7988e_row4_col3\" class=\"data row4 col3\" >7.786100</td>\n",
       "      <td id=\"T_7988e_row4_col4\" class=\"data row4 col4\" >0.046178</td>\n",
       "    </tr>\n",
       "    <tr>\n",
       "      <th id=\"T_7988e_level0_row5\" class=\"row_heading level0 row5\" >5</th>\n",
       "      <td id=\"T_7988e_row5_col0\" class=\"data row5 col0\" >3.369940</td>\n",
       "      <td id=\"T_7988e_row5_col1\" class=\"data row5 col1\" >2.842243</td>\n",
       "      <td id=\"T_7988e_row5_col2\" class=\"data row5 col2\" >-0.716772</td>\n",
       "      <td id=\"T_7988e_row5_col3\" class=\"data row5 col3\" >8.767852</td>\n",
       "      <td id=\"T_7988e_row5_col4\" class=\"data row5 col4\" >0.342830</td>\n",
       "    </tr>\n",
       "    <tr>\n",
       "      <th id=\"T_7988e_level0_row6\" class=\"row_heading level0 row6\" >6</th>\n",
       "      <td id=\"T_7988e_row6_col0\" class=\"data row6 col0\" >0.764542</td>\n",
       "      <td id=\"T_7988e_row6_col1\" class=\"data row6 col1\" >1.532282</td>\n",
       "      <td id=\"T_7988e_row6_col2\" class=\"data row6 col2\" >-3.850084</td>\n",
       "      <td id=\"T_7988e_row6_col3\" class=\"data row6 col3\" >7.992571</td>\n",
       "      <td id=\"T_7988e_row6_col4\" class=\"data row6 col4\" >0.678203</td>\n",
       "    </tr>\n",
       "    <tr>\n",
       "      <th id=\"T_7988e_level0_row7\" class=\"row_heading level0 row7\" >7</th>\n",
       "      <td id=\"T_7988e_row7_col0\" class=\"data row7 col0\" >3.539507</td>\n",
       "      <td id=\"T_7988e_row7_col1\" class=\"data row7 col1\" >2.120999</td>\n",
       "      <td id=\"T_7988e_row7_col2\" class=\"data row7 col2\" >0.181066</td>\n",
       "      <td id=\"T_7988e_row7_col3\" class=\"data row7 col3\" >7.158813</td>\n",
       "      <td id=\"T_7988e_row7_col4\" class=\"data row7 col4\" >0.942345</td>\n",
       "    </tr>\n",
       "    <tr>\n",
       "      <th id=\"T_7988e_level0_row8\" class=\"row_heading level0 row8\" >8</th>\n",
       "      <td id=\"T_7988e_row8_col0\" class=\"data row8 col0\" >2.488941</td>\n",
       "      <td id=\"T_7988e_row8_col1\" class=\"data row8 col1\" >1.816557</td>\n",
       "      <td id=\"T_7988e_row8_col2\" class=\"data row8 col2\" >-1.325628</td>\n",
       "      <td id=\"T_7988e_row8_col3\" class=\"data row8 col3\" >8.144401</td>\n",
       "      <td id=\"T_7988e_row8_col4\" class=\"data row8 col4\" >0.460626</td>\n",
       "    </tr>\n",
       "    <tr>\n",
       "      <th id=\"T_7988e_level0_row9\" class=\"row_heading level0 row9\" >9</th>\n",
       "      <td id=\"T_7988e_row9_col0\" class=\"data row9 col0\" >0.445575</td>\n",
       "      <td id=\"T_7988e_row9_col1\" class=\"data row9 col1\" >0.827475</td>\n",
       "      <td id=\"T_7988e_row9_col2\" class=\"data row9 col2\" >-4.705004</td>\n",
       "      <td id=\"T_7988e_row9_col3\" class=\"data row9 col3\" >8.161819</td>\n",
       "      <td id=\"T_7988e_row9_col4\" class=\"data row9 col4\" >0.014623</td>\n",
       "    </tr>\n",
       "  </tbody>\n",
       "</table>\n"
      ],
      "text/plain": [
       "<pandas.io.formats.style.Styler at 0x7f8fcf68ee20>"
      ]
     },
     "execution_count": 38,
     "metadata": {},
     "output_type": "execute_result"
    }
   ],
   "source": [
    "mar_df.displayer(imputations, 10)"
   ]
  },
  {
   "cell_type": "markdown",
   "metadata": {
    "id": "p10VFs81Y21_"
   },
   "source": [
    "## $\\color{purple}{\\text{Advanced Imputation Techniques: Multivariate Imputation by Chained Equations (MICE)}}$\n",
    "* Often considered the gold standard of imputation\n",
    "* Is actually more of an imputation blueprint\n",
    "* Applicable with missingness in multiple columns"
   ]
  },
  {
   "cell_type": "code",
   "execution_count": 39,
   "metadata": {
    "id": "4EY6qUH3oElL"
   },
   "outputs": [
    {
     "data": {
      "text/plain": [
       "<helpers.ImputationDisplayer at 0x7f8fcf7511c0>"
      ]
     },
     "execution_count": 39,
     "metadata": {},
     "output_type": "execute_result"
    }
   ],
   "source": [
    "dmcar_df = pd.read_csv('data/double_mcar_set.csv')\n",
    "missing_df=pd.DataFrame({'feature a': dmcar_df['feature a'].isnull(),\n",
    "                         'feature b': dmcar_df['feature b'].isnull()})\n",
    "ImputationDisplayer(dmcar_df)"
   ]
  },
  {
   "cell_type": "markdown",
   "metadata": {},
   "source": [
    "#### First step: Impute each missing value with some form of univariate imputation (usually mean or median)"
   ]
  },
  {
   "cell_type": "code",
   "execution_count": 41,
   "metadata": {},
   "outputs": [
    {
     "data": {
      "text/html": [
       "<style type=\"text/css\">\n",
       "#T_e3afe_row3_col0, #T_e3afe_row11_col1, #T_e3afe_row14_col0, #T_e3afe_row16_col1, #T_e3afe_row18_col1, #T_e3afe_row19_col1 {\n",
       "  background-color: paleturquoise;\n",
       "}\n",
       "</style>\n",
       "<table id=\"T_e3afe\">\n",
       "  <thead>\n",
       "    <tr>\n",
       "      <th class=\"blank level0\" >&nbsp;</th>\n",
       "      <th id=\"T_e3afe_level0_col0\" class=\"col_heading level0 col0\" >feature a</th>\n",
       "      <th id=\"T_e3afe_level0_col1\" class=\"col_heading level0 col1\" >feature b</th>\n",
       "      <th id=\"T_e3afe_level0_col2\" class=\"col_heading level0 col2\" >feature c</th>\n",
       "      <th id=\"T_e3afe_level0_col3\" class=\"col_heading level0 col3\" >feature d</th>\n",
       "      <th id=\"T_e3afe_level0_col4\" class=\"col_heading level0 col4\" >uncorrelated</th>\n",
       "    </tr>\n",
       "  </thead>\n",
       "  <tbody>\n",
       "    <tr>\n",
       "      <th id=\"T_e3afe_level0_row0\" class=\"row_heading level0 row0\" >0</th>\n",
       "      <td id=\"T_e3afe_row0_col0\" class=\"data row0 col0\" >2.777245</td>\n",
       "      <td id=\"T_e3afe_row0_col1\" class=\"data row0 col1\" >2.234252</td>\n",
       "      <td id=\"T_e3afe_row0_col2\" class=\"data row0 col2\" >-1.552282</td>\n",
       "      <td id=\"T_e3afe_row0_col3\" class=\"data row0 col3\" >8.772158</td>\n",
       "      <td id=\"T_e3afe_row0_col4\" class=\"data row0 col4\" >0.360789</td>\n",
       "    </tr>\n",
       "    <tr>\n",
       "      <th id=\"T_e3afe_level0_row1\" class=\"row_heading level0 row1\" >1</th>\n",
       "      <td id=\"T_e3afe_row1_col0\" class=\"data row1 col0\" >3.801993</td>\n",
       "      <td id=\"T_e3afe_row1_col1\" class=\"data row1 col1\" >2.223169</td>\n",
       "      <td id=\"T_e3afe_row1_col2\" class=\"data row1 col2\" >-0.645673</td>\n",
       "      <td id=\"T_e3afe_row1_col3\" class=\"data row1 col3\" >8.815675</td>\n",
       "      <td id=\"T_e3afe_row1_col4\" class=\"data row1 col4\" >0.393466</td>\n",
       "    </tr>\n",
       "    <tr>\n",
       "      <th id=\"T_e3afe_level0_row2\" class=\"row_heading level0 row2\" >2</th>\n",
       "      <td id=\"T_e3afe_row2_col0\" class=\"data row2 col0\" >1.936893</td>\n",
       "      <td id=\"T_e3afe_row2_col1\" class=\"data row2 col1\" >2.182897</td>\n",
       "      <td id=\"T_e3afe_row2_col2\" class=\"data row2 col2\" >-2.474526</td>\n",
       "      <td id=\"T_e3afe_row2_col3\" class=\"data row2 col3\" >8.549983</td>\n",
       "      <td id=\"T_e3afe_row2_col4\" class=\"data row2 col4\" >0.891191</td>\n",
       "    </tr>\n",
       "    <tr>\n",
       "      <th id=\"T_e3afe_level0_row3\" class=\"row_heading level0 row3\" >3</th>\n",
       "      <td id=\"T_e3afe_row3_col0\" class=\"data row3 col0\" >2.413902</td>\n",
       "      <td id=\"T_e3afe_row3_col1\" class=\"data row3 col1\" >1.618856</td>\n",
       "      <td id=\"T_e3afe_row3_col2\" class=\"data row3 col2\" >-1.404809</td>\n",
       "      <td id=\"T_e3afe_row3_col3\" class=\"data row3 col3\" >7.360904</td>\n",
       "      <td id=\"T_e3afe_row3_col4\" class=\"data row3 col4\" >0.156937</td>\n",
       "    </tr>\n",
       "    <tr>\n",
       "      <th id=\"T_e3afe_level0_row4\" class=\"row_heading level0 row4\" >4</th>\n",
       "      <td id=\"T_e3afe_row4_col0\" class=\"data row4 col0\" >2.089727</td>\n",
       "      <td id=\"T_e3afe_row4_col1\" class=\"data row4 col1\" >2.698967</td>\n",
       "      <td id=\"T_e3afe_row4_col2\" class=\"data row4 col2\" >-1.464007</td>\n",
       "      <td id=\"T_e3afe_row4_col3\" class=\"data row4 col3\" >7.786100</td>\n",
       "      <td id=\"T_e3afe_row4_col4\" class=\"data row4 col4\" >0.046178</td>\n",
       "    </tr>\n",
       "    <tr>\n",
       "      <th id=\"T_e3afe_level0_row5\" class=\"row_heading level0 row5\" >5</th>\n",
       "      <td id=\"T_e3afe_row5_col0\" class=\"data row5 col0\" >3.369940</td>\n",
       "      <td id=\"T_e3afe_row5_col1\" class=\"data row5 col1\" >2.842243</td>\n",
       "      <td id=\"T_e3afe_row5_col2\" class=\"data row5 col2\" >-0.716772</td>\n",
       "      <td id=\"T_e3afe_row5_col3\" class=\"data row5 col3\" >8.767852</td>\n",
       "      <td id=\"T_e3afe_row5_col4\" class=\"data row5 col4\" >0.342830</td>\n",
       "    </tr>\n",
       "    <tr>\n",
       "      <th id=\"T_e3afe_level0_row6\" class=\"row_heading level0 row6\" >6</th>\n",
       "      <td id=\"T_e3afe_row6_col0\" class=\"data row6 col0\" >0.764542</td>\n",
       "      <td id=\"T_e3afe_row6_col1\" class=\"data row6 col1\" >1.532282</td>\n",
       "      <td id=\"T_e3afe_row6_col2\" class=\"data row6 col2\" >-3.850084</td>\n",
       "      <td id=\"T_e3afe_row6_col3\" class=\"data row6 col3\" >7.992571</td>\n",
       "      <td id=\"T_e3afe_row6_col4\" class=\"data row6 col4\" >0.678203</td>\n",
       "    </tr>\n",
       "    <tr>\n",
       "      <th id=\"T_e3afe_level0_row7\" class=\"row_heading level0 row7\" >7</th>\n",
       "      <td id=\"T_e3afe_row7_col0\" class=\"data row7 col0\" >3.539507</td>\n",
       "      <td id=\"T_e3afe_row7_col1\" class=\"data row7 col1\" >2.120999</td>\n",
       "      <td id=\"T_e3afe_row7_col2\" class=\"data row7 col2\" >0.181066</td>\n",
       "      <td id=\"T_e3afe_row7_col3\" class=\"data row7 col3\" >7.158813</td>\n",
       "      <td id=\"T_e3afe_row7_col4\" class=\"data row7 col4\" >0.942345</td>\n",
       "    </tr>\n",
       "    <tr>\n",
       "      <th id=\"T_e3afe_level0_row8\" class=\"row_heading level0 row8\" >8</th>\n",
       "      <td id=\"T_e3afe_row8_col0\" class=\"data row8 col0\" >3.443095</td>\n",
       "      <td id=\"T_e3afe_row8_col1\" class=\"data row8 col1\" >1.816557</td>\n",
       "      <td id=\"T_e3afe_row8_col2\" class=\"data row8 col2\" >-1.325628</td>\n",
       "      <td id=\"T_e3afe_row8_col3\" class=\"data row8 col3\" >8.144401</td>\n",
       "      <td id=\"T_e3afe_row8_col4\" class=\"data row8 col4\" >0.460626</td>\n",
       "    </tr>\n",
       "    <tr>\n",
       "      <th id=\"T_e3afe_level0_row9\" class=\"row_heading level0 row9\" >9</th>\n",
       "      <td id=\"T_e3afe_row9_col0\" class=\"data row9 col0\" >0.445575</td>\n",
       "      <td id=\"T_e3afe_row9_col1\" class=\"data row9 col1\" >0.827475</td>\n",
       "      <td id=\"T_e3afe_row9_col2\" class=\"data row9 col2\" >-4.705004</td>\n",
       "      <td id=\"T_e3afe_row9_col3\" class=\"data row9 col3\" >8.161819</td>\n",
       "      <td id=\"T_e3afe_row9_col4\" class=\"data row9 col4\" >0.014623</td>\n",
       "    </tr>\n",
       "    <tr>\n",
       "      <th id=\"T_e3afe_level0_row10\" class=\"row_heading level0 row10\" >10</th>\n",
       "      <td id=\"T_e3afe_row10_col0\" class=\"data row10 col0\" >1.753775</td>\n",
       "      <td id=\"T_e3afe_row10_col1\" class=\"data row10 col1\" >2.827564</td>\n",
       "      <td id=\"T_e3afe_row10_col2\" class=\"data row10 col2\" >-2.582017</td>\n",
       "      <td id=\"T_e3afe_row10_col3\" class=\"data row10 col3\" >8.975136</td>\n",
       "      <td id=\"T_e3afe_row10_col4\" class=\"data row10 col4\" >0.590877</td>\n",
       "    </tr>\n",
       "    <tr>\n",
       "      <th id=\"T_e3afe_level0_row11\" class=\"row_heading level0 row11\" >11</th>\n",
       "      <td id=\"T_e3afe_row11_col0\" class=\"data row11 col0\" >2.289564</td>\n",
       "      <td id=\"T_e3afe_row11_col1\" class=\"data row11 col1\" >2.173691</td>\n",
       "      <td id=\"T_e3afe_row11_col2\" class=\"data row11 col2\" >-1.575980</td>\n",
       "      <td id=\"T_e3afe_row11_col3\" class=\"data row11 col3\" >7.188518</td>\n",
       "      <td id=\"T_e3afe_row11_col4\" class=\"data row11 col4\" >0.040173</td>\n",
       "    </tr>\n",
       "    <tr>\n",
       "      <th id=\"T_e3afe_level0_row12\" class=\"row_heading level0 row12\" >12</th>\n",
       "      <td id=\"T_e3afe_row12_col0\" class=\"data row12 col0\" >2.928236</td>\n",
       "      <td id=\"T_e3afe_row12_col1\" class=\"data row12 col1\" >1.524238</td>\n",
       "      <td id=\"T_e3afe_row12_col2\" class=\"data row12 col2\" >-0.903384</td>\n",
       "      <td id=\"T_e3afe_row12_col3\" class=\"data row12 col3\" >7.192445</td>\n",
       "      <td id=\"T_e3afe_row12_col4\" class=\"data row12 col4\" >0.224120</td>\n",
       "    </tr>\n",
       "    <tr>\n",
       "      <th id=\"T_e3afe_level0_row13\" class=\"row_heading level0 row13\" >13</th>\n",
       "      <td id=\"T_e3afe_row13_col0\" class=\"data row13 col0\" >2.500479</td>\n",
       "      <td id=\"T_e3afe_row13_col1\" class=\"data row13 col1\" >1.652539</td>\n",
       "      <td id=\"T_e3afe_row13_col2\" class=\"data row13 col2\" >-1.647218</td>\n",
       "      <td id=\"T_e3afe_row13_col3\" class=\"data row13 col3\" >7.449799</td>\n",
       "      <td id=\"T_e3afe_row13_col4\" class=\"data row13 col4\" >0.430489</td>\n",
       "    </tr>\n",
       "    <tr>\n",
       "      <th id=\"T_e3afe_level0_row14\" class=\"row_heading level0 row14\" >14</th>\n",
       "      <td id=\"T_e3afe_row14_col0\" class=\"data row14 col0\" >2.413902</td>\n",
       "      <td id=\"T_e3afe_row14_col1\" class=\"data row14 col1\" >1.764213</td>\n",
       "      <td id=\"T_e3afe_row14_col2\" class=\"data row14 col2\" >-2.917344</td>\n",
       "      <td id=\"T_e3afe_row14_col3\" class=\"data row14 col3\" >8.678066</td>\n",
       "      <td id=\"T_e3afe_row14_col4\" class=\"data row14 col4\" >0.866894</td>\n",
       "    </tr>\n",
       "    <tr>\n",
       "      <th id=\"T_e3afe_level0_row15\" class=\"row_heading level0 row15\" >15</th>\n",
       "      <td id=\"T_e3afe_row15_col0\" class=\"data row15 col0\" >3.082570</td>\n",
       "      <td id=\"T_e3afe_row15_col1\" class=\"data row15 col1\" >2.767394</td>\n",
       "      <td id=\"T_e3afe_row15_col2\" class=\"data row15 col2\" >-1.380020</td>\n",
       "      <td id=\"T_e3afe_row15_col3\" class=\"data row15 col3\" >9.398346</td>\n",
       "      <td id=\"T_e3afe_row15_col4\" class=\"data row15 col4\" >0.596667</td>\n",
       "    </tr>\n",
       "    <tr>\n",
       "      <th id=\"T_e3afe_level0_row16\" class=\"row_heading level0 row16\" >16</th>\n",
       "      <td id=\"T_e3afe_row16_col0\" class=\"data row16 col0\" >0.918543</td>\n",
       "      <td id=\"T_e3afe_row16_col1\" class=\"data row16 col1\" >2.173691</td>\n",
       "      <td id=\"T_e3afe_row16_col2\" class=\"data row16 col2\" >-3.303230</td>\n",
       "      <td id=\"T_e3afe_row16_col3\" class=\"data row16 col3\" >7.012533</td>\n",
       "      <td id=\"T_e3afe_row16_col4\" class=\"data row16 col4\" >0.668713</td>\n",
       "    </tr>\n",
       "    <tr>\n",
       "      <th id=\"T_e3afe_level0_row17\" class=\"row_heading level0 row17\" >17</th>\n",
       "      <td id=\"T_e3afe_row17_col0\" class=\"data row17 col0\" >3.108470</td>\n",
       "      <td id=\"T_e3afe_row17_col1\" class=\"data row17 col1\" >2.506403</td>\n",
       "      <td id=\"T_e3afe_row17_col2\" class=\"data row17 col2\" >-1.323373</td>\n",
       "      <td id=\"T_e3afe_row17_col3\" class=\"data row17 col3\" >8.503917</td>\n",
       "      <td id=\"T_e3afe_row17_col4\" class=\"data row17 col4\" >0.649923</td>\n",
       "    </tr>\n",
       "    <tr>\n",
       "      <th id=\"T_e3afe_level0_row18\" class=\"row_heading level0 row18\" >18</th>\n",
       "      <td id=\"T_e3afe_row18_col0\" class=\"data row18 col0\" >4.521144</td>\n",
       "      <td id=\"T_e3afe_row18_col1\" class=\"data row18 col1\" >2.173691</td>\n",
       "      <td id=\"T_e3afe_row18_col2\" class=\"data row18 col2\" >-0.307517</td>\n",
       "      <td id=\"T_e3afe_row18_col3\" class=\"data row18 col3\" >9.159686</td>\n",
       "      <td id=\"T_e3afe_row18_col4\" class=\"data row18 col4\" >0.936008</td>\n",
       "    </tr>\n",
       "    <tr>\n",
       "      <th id=\"T_e3afe_level0_row19\" class=\"row_heading level0 row19\" >19</th>\n",
       "      <td id=\"T_e3afe_row19_col0\" class=\"data row19 col0\" >2.521453</td>\n",
       "      <td id=\"T_e3afe_row19_col1\" class=\"data row19 col1\" >2.173691</td>\n",
       "      <td id=\"T_e3afe_row19_col2\" class=\"data row19 col2\" >-1.696981</td>\n",
       "      <td id=\"T_e3afe_row19_col3\" class=\"data row19 col3\" >9.143363</td>\n",
       "      <td id=\"T_e3afe_row19_col4\" class=\"data row19 col4\" >0.754756</td>\n",
       "    </tr>\n",
       "  </tbody>\n",
       "</table>\n"
      ],
      "text/plain": [
       "<pandas.io.formats.style.Styler at 0x7f8f97e591f0>"
      ]
     },
     "execution_count": 41,
     "metadata": {},
     "output_type": "execute_result"
    }
   ],
   "source": [
    "step1_df=dmcar_df.fillna({'feature a': dmcar_df['feature a'].mean(), \n",
    "                         'feature b': dmcar_df['feature b'].median()\n",
    "                        })\n",
    "dmcar_df.displayer(step1_df, 20)"
   ]
  },
  {
   "cell_type": "markdown",
   "metadata": {},
   "source": [
    "#### Second Step: For each column impute using a regression or hot deck technique\n",
    "Start with `feature a` then `feature b`"
   ]
  },
  {
   "cell_type": "markdown",
   "metadata": {},
   "source": [
    "##### Clear the missing values for the imputer then impute feature a"
   ]
  },
  {
   "cell_type": "code",
   "execution_count": 43,
   "metadata": {},
   "outputs": [
    {
     "data": {
      "text/html": [
       "<style type=\"text/css\">\n",
       "#T_df405_row3_col0 {\n",
       "  background-color: paleturquoise;\n",
       "}\n",
       "</style>\n",
       "<table id=\"T_df405\">\n",
       "  <thead>\n",
       "    <tr>\n",
       "      <th class=\"blank level0\" >&nbsp;</th>\n",
       "      <th id=\"T_df405_level0_col0\" class=\"col_heading level0 col0\" >feature a</th>\n",
       "      <th id=\"T_df405_level0_col1\" class=\"col_heading level0 col1\" >feature b</th>\n",
       "      <th id=\"T_df405_level0_col2\" class=\"col_heading level0 col2\" >feature c</th>\n",
       "      <th id=\"T_df405_level0_col3\" class=\"col_heading level0 col3\" >feature d</th>\n",
       "      <th id=\"T_df405_level0_col4\" class=\"col_heading level0 col4\" >uncorrelated</th>\n",
       "    </tr>\n",
       "  </thead>\n",
       "  <tbody>\n",
       "    <tr>\n",
       "      <th id=\"T_df405_level0_row0\" class=\"row_heading level0 row0\" >0</th>\n",
       "      <td id=\"T_df405_row0_col0\" class=\"data row0 col0\" >2.777245</td>\n",
       "      <td id=\"T_df405_row0_col1\" class=\"data row0 col1\" >2.234252</td>\n",
       "      <td id=\"T_df405_row0_col2\" class=\"data row0 col2\" >-1.552282</td>\n",
       "      <td id=\"T_df405_row0_col3\" class=\"data row0 col3\" >8.772158</td>\n",
       "      <td id=\"T_df405_row0_col4\" class=\"data row0 col4\" >0.360789</td>\n",
       "    </tr>\n",
       "    <tr>\n",
       "      <th id=\"T_df405_level0_row1\" class=\"row_heading level0 row1\" >1</th>\n",
       "      <td id=\"T_df405_row1_col0\" class=\"data row1 col0\" >3.801993</td>\n",
       "      <td id=\"T_df405_row1_col1\" class=\"data row1 col1\" >2.223169</td>\n",
       "      <td id=\"T_df405_row1_col2\" class=\"data row1 col2\" >-0.645673</td>\n",
       "      <td id=\"T_df405_row1_col3\" class=\"data row1 col3\" >8.815675</td>\n",
       "      <td id=\"T_df405_row1_col4\" class=\"data row1 col4\" >0.393466</td>\n",
       "    </tr>\n",
       "    <tr>\n",
       "      <th id=\"T_df405_level0_row2\" class=\"row_heading level0 row2\" >2</th>\n",
       "      <td id=\"T_df405_row2_col0\" class=\"data row2 col0\" >1.936893</td>\n",
       "      <td id=\"T_df405_row2_col1\" class=\"data row2 col1\" >2.182897</td>\n",
       "      <td id=\"T_df405_row2_col2\" class=\"data row2 col2\" >-2.474526</td>\n",
       "      <td id=\"T_df405_row2_col3\" class=\"data row2 col3\" >8.549983</td>\n",
       "      <td id=\"T_df405_row2_col4\" class=\"data row2 col4\" >0.891191</td>\n",
       "    </tr>\n",
       "    <tr>\n",
       "      <th id=\"T_df405_level0_row3\" class=\"row_heading level0 row3\" >3</th>\n",
       "      <td id=\"T_df405_row3_col0\" class=\"data row3 col0\" >2.648806</td>\n",
       "      <td id=\"T_df405_row3_col1\" class=\"data row3 col1\" >1.618856</td>\n",
       "      <td id=\"T_df405_row3_col2\" class=\"data row3 col2\" >-1.404809</td>\n",
       "      <td id=\"T_df405_row3_col3\" class=\"data row3 col3\" >7.360904</td>\n",
       "      <td id=\"T_df405_row3_col4\" class=\"data row3 col4\" >0.156937</td>\n",
       "    </tr>\n",
       "    <tr>\n",
       "      <th id=\"T_df405_level0_row4\" class=\"row_heading level0 row4\" >4</th>\n",
       "      <td id=\"T_df405_row4_col0\" class=\"data row4 col0\" >2.089727</td>\n",
       "      <td id=\"T_df405_row4_col1\" class=\"data row4 col1\" >2.698967</td>\n",
       "      <td id=\"T_df405_row4_col2\" class=\"data row4 col2\" >-1.464007</td>\n",
       "      <td id=\"T_df405_row4_col3\" class=\"data row4 col3\" >7.786100</td>\n",
       "      <td id=\"T_df405_row4_col4\" class=\"data row4 col4\" >0.046178</td>\n",
       "    </tr>\n",
       "    <tr>\n",
       "      <th id=\"T_df405_level0_row5\" class=\"row_heading level0 row5\" >5</th>\n",
       "      <td id=\"T_df405_row5_col0\" class=\"data row5 col0\" >3.369940</td>\n",
       "      <td id=\"T_df405_row5_col1\" class=\"data row5 col1\" >2.842243</td>\n",
       "      <td id=\"T_df405_row5_col2\" class=\"data row5 col2\" >-0.716772</td>\n",
       "      <td id=\"T_df405_row5_col3\" class=\"data row5 col3\" >8.767852</td>\n",
       "      <td id=\"T_df405_row5_col4\" class=\"data row5 col4\" >0.342830</td>\n",
       "    </tr>\n",
       "    <tr>\n",
       "      <th id=\"T_df405_level0_row6\" class=\"row_heading level0 row6\" >6</th>\n",
       "      <td id=\"T_df405_row6_col0\" class=\"data row6 col0\" >0.764542</td>\n",
       "      <td id=\"T_df405_row6_col1\" class=\"data row6 col1\" >1.532282</td>\n",
       "      <td id=\"T_df405_row6_col2\" class=\"data row6 col2\" >-3.850084</td>\n",
       "      <td id=\"T_df405_row6_col3\" class=\"data row6 col3\" >7.992571</td>\n",
       "      <td id=\"T_df405_row6_col4\" class=\"data row6 col4\" >0.678203</td>\n",
       "    </tr>\n",
       "    <tr>\n",
       "      <th id=\"T_df405_level0_row7\" class=\"row_heading level0 row7\" >7</th>\n",
       "      <td id=\"T_df405_row7_col0\" class=\"data row7 col0\" >3.539507</td>\n",
       "      <td id=\"T_df405_row7_col1\" class=\"data row7 col1\" >2.120999</td>\n",
       "      <td id=\"T_df405_row7_col2\" class=\"data row7 col2\" >0.181066</td>\n",
       "      <td id=\"T_df405_row7_col3\" class=\"data row7 col3\" >7.158813</td>\n",
       "      <td id=\"T_df405_row7_col4\" class=\"data row7 col4\" >0.942345</td>\n",
       "    </tr>\n",
       "    <tr>\n",
       "      <th id=\"T_df405_level0_row8\" class=\"row_heading level0 row8\" >8</th>\n",
       "      <td id=\"T_df405_row8_col0\" class=\"data row8 col0\" >3.443095</td>\n",
       "      <td id=\"T_df405_row8_col1\" class=\"data row8 col1\" >1.816557</td>\n",
       "      <td id=\"T_df405_row8_col2\" class=\"data row8 col2\" >-1.325628</td>\n",
       "      <td id=\"T_df405_row8_col3\" class=\"data row8 col3\" >8.144401</td>\n",
       "      <td id=\"T_df405_row8_col4\" class=\"data row8 col4\" >0.460626</td>\n",
       "    </tr>\n",
       "    <tr>\n",
       "      <th id=\"T_df405_level0_row9\" class=\"row_heading level0 row9\" >9</th>\n",
       "      <td id=\"T_df405_row9_col0\" class=\"data row9 col0\" >0.445575</td>\n",
       "      <td id=\"T_df405_row9_col1\" class=\"data row9 col1\" >0.827475</td>\n",
       "      <td id=\"T_df405_row9_col2\" class=\"data row9 col2\" >-4.705004</td>\n",
       "      <td id=\"T_df405_row9_col3\" class=\"data row9 col3\" >8.161819</td>\n",
       "      <td id=\"T_df405_row9_col4\" class=\"data row9 col4\" >0.014623</td>\n",
       "    </tr>\n",
       "  </tbody>\n",
       "</table>\n"
      ],
      "text/plain": [
       "<pandas.io.formats.style.Styler at 0x7f8ff3c18910>"
      ]
     },
     "execution_count": 43,
     "metadata": {},
     "output_type": "execute_result"
    }
   ],
   "source": [
    "imputer=SingleImputer('least squares')\n",
    "step2a_df=imputer.fit_transform(step1_df.assign(**{'feature a': step1_df['feature a'].where(~missing_df['feature a'], \n",
    "                                                  np.nan)\n",
    "                                                  }\n",
    "                                               )\n",
    "                               )\n",
    "dmcar_df.displayer(step2a_df, 10)"
   ]
  },
  {
   "cell_type": "code",
   "execution_count": 46,
   "metadata": {},
   "outputs": [
    {
     "data": {
      "text/html": [
       "<style type=\"text/css\">\n",
       "#T_4664e_row3_col0, #T_4664e_row11_col1, #T_4664e_row14_col0, #T_4664e_row16_col1, #T_4664e_row18_col1, #T_4664e_row19_col1 {\n",
       "  background-color: paleturquoise;\n",
       "}\n",
       "</style>\n",
       "<table id=\"T_4664e\">\n",
       "  <thead>\n",
       "    <tr>\n",
       "      <th class=\"blank level0\" >&nbsp;</th>\n",
       "      <th id=\"T_4664e_level0_col0\" class=\"col_heading level0 col0\" >feature a</th>\n",
       "      <th id=\"T_4664e_level0_col1\" class=\"col_heading level0 col1\" >feature b</th>\n",
       "      <th id=\"T_4664e_level0_col2\" class=\"col_heading level0 col2\" >feature c</th>\n",
       "      <th id=\"T_4664e_level0_col3\" class=\"col_heading level0 col3\" >feature d</th>\n",
       "      <th id=\"T_4664e_level0_col4\" class=\"col_heading level0 col4\" >uncorrelated</th>\n",
       "    </tr>\n",
       "  </thead>\n",
       "  <tbody>\n",
       "    <tr>\n",
       "      <th id=\"T_4664e_level0_row0\" class=\"row_heading level0 row0\" >0</th>\n",
       "      <td id=\"T_4664e_row0_col0\" class=\"data row0 col0\" >2.777245</td>\n",
       "      <td id=\"T_4664e_row0_col1\" class=\"data row0 col1\" >2.234252</td>\n",
       "      <td id=\"T_4664e_row0_col2\" class=\"data row0 col2\" >-1.552282</td>\n",
       "      <td id=\"T_4664e_row0_col3\" class=\"data row0 col3\" >8.772158</td>\n",
       "      <td id=\"T_4664e_row0_col4\" class=\"data row0 col4\" >0.360789</td>\n",
       "    </tr>\n",
       "    <tr>\n",
       "      <th id=\"T_4664e_level0_row1\" class=\"row_heading level0 row1\" >1</th>\n",
       "      <td id=\"T_4664e_row1_col0\" class=\"data row1 col0\" >3.801993</td>\n",
       "      <td id=\"T_4664e_row1_col1\" class=\"data row1 col1\" >2.223169</td>\n",
       "      <td id=\"T_4664e_row1_col2\" class=\"data row1 col2\" >-0.645673</td>\n",
       "      <td id=\"T_4664e_row1_col3\" class=\"data row1 col3\" >8.815675</td>\n",
       "      <td id=\"T_4664e_row1_col4\" class=\"data row1 col4\" >0.393466</td>\n",
       "    </tr>\n",
       "    <tr>\n",
       "      <th id=\"T_4664e_level0_row2\" class=\"row_heading level0 row2\" >2</th>\n",
       "      <td id=\"T_4664e_row2_col0\" class=\"data row2 col0\" >1.936893</td>\n",
       "      <td id=\"T_4664e_row2_col1\" class=\"data row2 col1\" >2.182897</td>\n",
       "      <td id=\"T_4664e_row2_col2\" class=\"data row2 col2\" >-2.474526</td>\n",
       "      <td id=\"T_4664e_row2_col3\" class=\"data row2 col3\" >8.549983</td>\n",
       "      <td id=\"T_4664e_row2_col4\" class=\"data row2 col4\" >0.891191</td>\n",
       "    </tr>\n",
       "    <tr>\n",
       "      <th id=\"T_4664e_level0_row3\" class=\"row_heading level0 row3\" >3</th>\n",
       "      <td id=\"T_4664e_row3_col0\" class=\"data row3 col0\" >2.648806</td>\n",
       "      <td id=\"T_4664e_row3_col1\" class=\"data row3 col1\" >1.618856</td>\n",
       "      <td id=\"T_4664e_row3_col2\" class=\"data row3 col2\" >-1.404809</td>\n",
       "      <td id=\"T_4664e_row3_col3\" class=\"data row3 col3\" >7.360904</td>\n",
       "      <td id=\"T_4664e_row3_col4\" class=\"data row3 col4\" >0.156937</td>\n",
       "    </tr>\n",
       "    <tr>\n",
       "      <th id=\"T_4664e_level0_row4\" class=\"row_heading level0 row4\" >4</th>\n",
       "      <td id=\"T_4664e_row4_col0\" class=\"data row4 col0\" >2.089727</td>\n",
       "      <td id=\"T_4664e_row4_col1\" class=\"data row4 col1\" >2.698967</td>\n",
       "      <td id=\"T_4664e_row4_col2\" class=\"data row4 col2\" >-1.464007</td>\n",
       "      <td id=\"T_4664e_row4_col3\" class=\"data row4 col3\" >7.786100</td>\n",
       "      <td id=\"T_4664e_row4_col4\" class=\"data row4 col4\" >0.046178</td>\n",
       "    </tr>\n",
       "    <tr>\n",
       "      <th id=\"T_4664e_level0_row5\" class=\"row_heading level0 row5\" >5</th>\n",
       "      <td id=\"T_4664e_row5_col0\" class=\"data row5 col0\" >3.369940</td>\n",
       "      <td id=\"T_4664e_row5_col1\" class=\"data row5 col1\" >2.842243</td>\n",
       "      <td id=\"T_4664e_row5_col2\" class=\"data row5 col2\" >-0.716772</td>\n",
       "      <td id=\"T_4664e_row5_col3\" class=\"data row5 col3\" >8.767852</td>\n",
       "      <td id=\"T_4664e_row5_col4\" class=\"data row5 col4\" >0.342830</td>\n",
       "    </tr>\n",
       "    <tr>\n",
       "      <th id=\"T_4664e_level0_row6\" class=\"row_heading level0 row6\" >6</th>\n",
       "      <td id=\"T_4664e_row6_col0\" class=\"data row6 col0\" >0.764542</td>\n",
       "      <td id=\"T_4664e_row6_col1\" class=\"data row6 col1\" >1.532282</td>\n",
       "      <td id=\"T_4664e_row6_col2\" class=\"data row6 col2\" >-3.850084</td>\n",
       "      <td id=\"T_4664e_row6_col3\" class=\"data row6 col3\" >7.992571</td>\n",
       "      <td id=\"T_4664e_row6_col4\" class=\"data row6 col4\" >0.678203</td>\n",
       "    </tr>\n",
       "    <tr>\n",
       "      <th id=\"T_4664e_level0_row7\" class=\"row_heading level0 row7\" >7</th>\n",
       "      <td id=\"T_4664e_row7_col0\" class=\"data row7 col0\" >3.539507</td>\n",
       "      <td id=\"T_4664e_row7_col1\" class=\"data row7 col1\" >2.120999</td>\n",
       "      <td id=\"T_4664e_row7_col2\" class=\"data row7 col2\" >0.181066</td>\n",
       "      <td id=\"T_4664e_row7_col3\" class=\"data row7 col3\" >7.158813</td>\n",
       "      <td id=\"T_4664e_row7_col4\" class=\"data row7 col4\" >0.942345</td>\n",
       "    </tr>\n",
       "    <tr>\n",
       "      <th id=\"T_4664e_level0_row8\" class=\"row_heading level0 row8\" >8</th>\n",
       "      <td id=\"T_4664e_row8_col0\" class=\"data row8 col0\" >3.443095</td>\n",
       "      <td id=\"T_4664e_row8_col1\" class=\"data row8 col1\" >1.816557</td>\n",
       "      <td id=\"T_4664e_row8_col2\" class=\"data row8 col2\" >-1.325628</td>\n",
       "      <td id=\"T_4664e_row8_col3\" class=\"data row8 col3\" >8.144401</td>\n",
       "      <td id=\"T_4664e_row8_col4\" class=\"data row8 col4\" >0.460626</td>\n",
       "    </tr>\n",
       "    <tr>\n",
       "      <th id=\"T_4664e_level0_row9\" class=\"row_heading level0 row9\" >9</th>\n",
       "      <td id=\"T_4664e_row9_col0\" class=\"data row9 col0\" >0.445575</td>\n",
       "      <td id=\"T_4664e_row9_col1\" class=\"data row9 col1\" >0.827475</td>\n",
       "      <td id=\"T_4664e_row9_col2\" class=\"data row9 col2\" >-4.705004</td>\n",
       "      <td id=\"T_4664e_row9_col3\" class=\"data row9 col3\" >8.161819</td>\n",
       "      <td id=\"T_4664e_row9_col4\" class=\"data row9 col4\" >0.014623</td>\n",
       "    </tr>\n",
       "    <tr>\n",
       "      <th id=\"T_4664e_level0_row10\" class=\"row_heading level0 row10\" >10</th>\n",
       "      <td id=\"T_4664e_row10_col0\" class=\"data row10 col0\" >1.753775</td>\n",
       "      <td id=\"T_4664e_row10_col1\" class=\"data row10 col1\" >2.827564</td>\n",
       "      <td id=\"T_4664e_row10_col2\" class=\"data row10 col2\" >-2.582017</td>\n",
       "      <td id=\"T_4664e_row10_col3\" class=\"data row10 col3\" >8.975136</td>\n",
       "      <td id=\"T_4664e_row10_col4\" class=\"data row10 col4\" >0.590877</td>\n",
       "    </tr>\n",
       "    <tr>\n",
       "      <th id=\"T_4664e_level0_row11\" class=\"row_heading level0 row11\" >11</th>\n",
       "      <td id=\"T_4664e_row11_col0\" class=\"data row11 col0\" >2.289564</td>\n",
       "      <td id=\"T_4664e_row11_col1\" class=\"data row11 col1\" >1.741422</td>\n",
       "      <td id=\"T_4664e_row11_col2\" class=\"data row11 col2\" >-1.575980</td>\n",
       "      <td id=\"T_4664e_row11_col3\" class=\"data row11 col3\" >7.188518</td>\n",
       "      <td id=\"T_4664e_row11_col4\" class=\"data row11 col4\" >0.040173</td>\n",
       "    </tr>\n",
       "    <tr>\n",
       "      <th id=\"T_4664e_level0_row12\" class=\"row_heading level0 row12\" >12</th>\n",
       "      <td id=\"T_4664e_row12_col0\" class=\"data row12 col0\" >2.928236</td>\n",
       "      <td id=\"T_4664e_row12_col1\" class=\"data row12 col1\" >1.524238</td>\n",
       "      <td id=\"T_4664e_row12_col2\" class=\"data row12 col2\" >-0.903384</td>\n",
       "      <td id=\"T_4664e_row12_col3\" class=\"data row12 col3\" >7.192445</td>\n",
       "      <td id=\"T_4664e_row12_col4\" class=\"data row12 col4\" >0.224120</td>\n",
       "    </tr>\n",
       "    <tr>\n",
       "      <th id=\"T_4664e_level0_row13\" class=\"row_heading level0 row13\" >13</th>\n",
       "      <td id=\"T_4664e_row13_col0\" class=\"data row13 col0\" >2.500479</td>\n",
       "      <td id=\"T_4664e_row13_col1\" class=\"data row13 col1\" >1.652539</td>\n",
       "      <td id=\"T_4664e_row13_col2\" class=\"data row13 col2\" >-1.647218</td>\n",
       "      <td id=\"T_4664e_row13_col3\" class=\"data row13 col3\" >7.449799</td>\n",
       "      <td id=\"T_4664e_row13_col4\" class=\"data row13 col4\" >0.430489</td>\n",
       "    </tr>\n",
       "    <tr>\n",
       "      <th id=\"T_4664e_level0_row14\" class=\"row_heading level0 row14\" >14</th>\n",
       "      <td id=\"T_4664e_row14_col0\" class=\"data row14 col0\" >1.777056</td>\n",
       "      <td id=\"T_4664e_row14_col1\" class=\"data row14 col1\" >1.764213</td>\n",
       "      <td id=\"T_4664e_row14_col2\" class=\"data row14 col2\" >-2.917344</td>\n",
       "      <td id=\"T_4664e_row14_col3\" class=\"data row14 col3\" >8.678066</td>\n",
       "      <td id=\"T_4664e_row14_col4\" class=\"data row14 col4\" >0.866894</td>\n",
       "    </tr>\n",
       "    <tr>\n",
       "      <th id=\"T_4664e_level0_row15\" class=\"row_heading level0 row15\" >15</th>\n",
       "      <td id=\"T_4664e_row15_col0\" class=\"data row15 col0\" >3.082570</td>\n",
       "      <td id=\"T_4664e_row15_col1\" class=\"data row15 col1\" >2.767394</td>\n",
       "      <td id=\"T_4664e_row15_col2\" class=\"data row15 col2\" >-1.380020</td>\n",
       "      <td id=\"T_4664e_row15_col3\" class=\"data row15 col3\" >9.398346</td>\n",
       "      <td id=\"T_4664e_row15_col4\" class=\"data row15 col4\" >0.596667</td>\n",
       "    </tr>\n",
       "    <tr>\n",
       "      <th id=\"T_4664e_level0_row16\" class=\"row_heading level0 row16\" >16</th>\n",
       "      <td id=\"T_4664e_row16_col0\" class=\"data row16 col0\" >0.918543</td>\n",
       "      <td id=\"T_4664e_row16_col1\" class=\"data row16 col1\" >1.123063</td>\n",
       "      <td id=\"T_4664e_row16_col2\" class=\"data row16 col2\" >-3.303230</td>\n",
       "      <td id=\"T_4664e_row16_col3\" class=\"data row16 col3\" >7.012533</td>\n",
       "      <td id=\"T_4664e_row16_col4\" class=\"data row16 col4\" >0.668713</td>\n",
       "    </tr>\n",
       "    <tr>\n",
       "      <th id=\"T_4664e_level0_row17\" class=\"row_heading level0 row17\" >17</th>\n",
       "      <td id=\"T_4664e_row17_col0\" class=\"data row17 col0\" >3.108470</td>\n",
       "      <td id=\"T_4664e_row17_col1\" class=\"data row17 col1\" >2.506403</td>\n",
       "      <td id=\"T_4664e_row17_col2\" class=\"data row17 col2\" >-1.323373</td>\n",
       "      <td id=\"T_4664e_row17_col3\" class=\"data row17 col3\" >8.503917</td>\n",
       "      <td id=\"T_4664e_row17_col4\" class=\"data row17 col4\" >0.649923</td>\n",
       "    </tr>\n",
       "    <tr>\n",
       "      <th id=\"T_4664e_level0_row18\" class=\"row_heading level0 row18\" >18</th>\n",
       "      <td id=\"T_4664e_row18_col0\" class=\"data row18 col0\" >4.521144</td>\n",
       "      <td id=\"T_4664e_row18_col1\" class=\"data row18 col1\" >2.425944</td>\n",
       "      <td id=\"T_4664e_row18_col2\" class=\"data row18 col2\" >-0.307517</td>\n",
       "      <td id=\"T_4664e_row18_col3\" class=\"data row18 col3\" >9.159686</td>\n",
       "      <td id=\"T_4664e_row18_col4\" class=\"data row18 col4\" >0.936008</td>\n",
       "    </tr>\n",
       "    <tr>\n",
       "      <th id=\"T_4664e_level0_row19\" class=\"row_heading level0 row19\" >19</th>\n",
       "      <td id=\"T_4664e_row19_col0\" class=\"data row19 col0\" >2.521453</td>\n",
       "      <td id=\"T_4664e_row19_col1\" class=\"data row19 col1\" >2.958815</td>\n",
       "      <td id=\"T_4664e_row19_col2\" class=\"data row19 col2\" >-1.696981</td>\n",
       "      <td id=\"T_4664e_row19_col3\" class=\"data row19 col3\" >9.143363</td>\n",
       "      <td id=\"T_4664e_row19_col4\" class=\"data row19 col4\" >0.754756</td>\n",
       "    </tr>\n",
       "  </tbody>\n",
       "</table>\n"
      ],
      "text/plain": [
       "<pandas.io.formats.style.Styler at 0x7f8feede0640>"
      ]
     },
     "execution_count": 46,
     "metadata": {},
     "output_type": "execute_result"
    }
   ],
   "source": [
    "imputer=SingleImputer('least squares')\n",
    "step2_df=imputer.fit_transform(step2a_df.assign(**{'feature b': step2a_df['feature b'].where(~missing_df['feature b'], \n",
    "                                                  np.nan)\n",
    "                                                  }\n",
    "                                               )\n",
    "                               )\n",
    "dmcar_df.displayer(step2_df, 20)"
   ]
  },
  {
   "cell_type": "code",
   "execution_count": null,
   "metadata": {
    "tags": [
     "master"
    ]
   },
   "outputs": [],
   "source": [
    "stat_comparison(step2_df, df, 'feature b')"
   ]
  },
  {
   "cell_type": "markdown",
   "metadata": {},
   "source": [
    "#### Repeat Step 2 until results converge sufficiently"
   ]
  },
  {
   "cell_type": "code",
   "execution_count": 47,
   "metadata": {},
   "outputs": [
    {
     "data": {
      "text/html": [
       "<style type=\"text/css\">\n",
       "#T_5301f_row3_col0, #T_5301f_row11_col1, #T_5301f_row14_col0, #T_5301f_row16_col1, #T_5301f_row18_col1, #T_5301f_row19_col1 {\n",
       "  background-color: paleturquoise;\n",
       "}\n",
       "</style>\n",
       "<table id=\"T_5301f\">\n",
       "  <thead>\n",
       "    <tr>\n",
       "      <th class=\"blank level0\" >&nbsp;</th>\n",
       "      <th id=\"T_5301f_level0_col0\" class=\"col_heading level0 col0\" >feature a</th>\n",
       "      <th id=\"T_5301f_level0_col1\" class=\"col_heading level0 col1\" >feature b</th>\n",
       "      <th id=\"T_5301f_level0_col2\" class=\"col_heading level0 col2\" >feature c</th>\n",
       "      <th id=\"T_5301f_level0_col3\" class=\"col_heading level0 col3\" >feature d</th>\n",
       "      <th id=\"T_5301f_level0_col4\" class=\"col_heading level0 col4\" >uncorrelated</th>\n",
       "    </tr>\n",
       "  </thead>\n",
       "  <tbody>\n",
       "    <tr>\n",
       "      <th id=\"T_5301f_level0_row0\" class=\"row_heading level0 row0\" >0</th>\n",
       "      <td id=\"T_5301f_row0_col0\" class=\"data row0 col0\" >2.777245</td>\n",
       "      <td id=\"T_5301f_row0_col1\" class=\"data row0 col1\" >2.234252</td>\n",
       "      <td id=\"T_5301f_row0_col2\" class=\"data row0 col2\" >-1.552282</td>\n",
       "      <td id=\"T_5301f_row0_col3\" class=\"data row0 col3\" >8.772158</td>\n",
       "      <td id=\"T_5301f_row0_col4\" class=\"data row0 col4\" >0.360789</td>\n",
       "    </tr>\n",
       "    <tr>\n",
       "      <th id=\"T_5301f_level0_row1\" class=\"row_heading level0 row1\" >1</th>\n",
       "      <td id=\"T_5301f_row1_col0\" class=\"data row1 col0\" >3.801993</td>\n",
       "      <td id=\"T_5301f_row1_col1\" class=\"data row1 col1\" >2.223169</td>\n",
       "      <td id=\"T_5301f_row1_col2\" class=\"data row1 col2\" >-0.645673</td>\n",
       "      <td id=\"T_5301f_row1_col3\" class=\"data row1 col3\" >8.815675</td>\n",
       "      <td id=\"T_5301f_row1_col4\" class=\"data row1 col4\" >0.393466</td>\n",
       "    </tr>\n",
       "    <tr>\n",
       "      <th id=\"T_5301f_level0_row2\" class=\"row_heading level0 row2\" >2</th>\n",
       "      <td id=\"T_5301f_row2_col0\" class=\"data row2 col0\" >1.936893</td>\n",
       "      <td id=\"T_5301f_row2_col1\" class=\"data row2 col1\" >2.182897</td>\n",
       "      <td id=\"T_5301f_row2_col2\" class=\"data row2 col2\" >-2.474526</td>\n",
       "      <td id=\"T_5301f_row2_col3\" class=\"data row2 col3\" >8.549983</td>\n",
       "      <td id=\"T_5301f_row2_col4\" class=\"data row2 col4\" >0.891191</td>\n",
       "    </tr>\n",
       "    <tr>\n",
       "      <th id=\"T_5301f_level0_row3\" class=\"row_heading level0 row3\" >3</th>\n",
       "      <td id=\"T_5301f_row3_col0\" class=\"data row3 col0\" >2.679381</td>\n",
       "      <td id=\"T_5301f_row3_col1\" class=\"data row3 col1\" >1.618856</td>\n",
       "      <td id=\"T_5301f_row3_col2\" class=\"data row3 col2\" >-1.404809</td>\n",
       "      <td id=\"T_5301f_row3_col3\" class=\"data row3 col3\" >7.360904</td>\n",
       "      <td id=\"T_5301f_row3_col4\" class=\"data row3 col4\" >0.156937</td>\n",
       "    </tr>\n",
       "    <tr>\n",
       "      <th id=\"T_5301f_level0_row4\" class=\"row_heading level0 row4\" >4</th>\n",
       "      <td id=\"T_5301f_row4_col0\" class=\"data row4 col0\" >2.089727</td>\n",
       "      <td id=\"T_5301f_row4_col1\" class=\"data row4 col1\" >2.698967</td>\n",
       "      <td id=\"T_5301f_row4_col2\" class=\"data row4 col2\" >-1.464007</td>\n",
       "      <td id=\"T_5301f_row4_col3\" class=\"data row4 col3\" >7.786100</td>\n",
       "      <td id=\"T_5301f_row4_col4\" class=\"data row4 col4\" >0.046178</td>\n",
       "    </tr>\n",
       "    <tr>\n",
       "      <th id=\"T_5301f_level0_row5\" class=\"row_heading level0 row5\" >5</th>\n",
       "      <td id=\"T_5301f_row5_col0\" class=\"data row5 col0\" >3.369940</td>\n",
       "      <td id=\"T_5301f_row5_col1\" class=\"data row5 col1\" >2.842243</td>\n",
       "      <td id=\"T_5301f_row5_col2\" class=\"data row5 col2\" >-0.716772</td>\n",
       "      <td id=\"T_5301f_row5_col3\" class=\"data row5 col3\" >8.767852</td>\n",
       "      <td id=\"T_5301f_row5_col4\" class=\"data row5 col4\" >0.342830</td>\n",
       "    </tr>\n",
       "    <tr>\n",
       "      <th id=\"T_5301f_level0_row6\" class=\"row_heading level0 row6\" >6</th>\n",
       "      <td id=\"T_5301f_row6_col0\" class=\"data row6 col0\" >0.764542</td>\n",
       "      <td id=\"T_5301f_row6_col1\" class=\"data row6 col1\" >1.532282</td>\n",
       "      <td id=\"T_5301f_row6_col2\" class=\"data row6 col2\" >-3.850084</td>\n",
       "      <td id=\"T_5301f_row6_col3\" class=\"data row6 col3\" >7.992571</td>\n",
       "      <td id=\"T_5301f_row6_col4\" class=\"data row6 col4\" >0.678203</td>\n",
       "    </tr>\n",
       "    <tr>\n",
       "      <th id=\"T_5301f_level0_row7\" class=\"row_heading level0 row7\" >7</th>\n",
       "      <td id=\"T_5301f_row7_col0\" class=\"data row7 col0\" >3.539507</td>\n",
       "      <td id=\"T_5301f_row7_col1\" class=\"data row7 col1\" >2.120999</td>\n",
       "      <td id=\"T_5301f_row7_col2\" class=\"data row7 col2\" >0.181066</td>\n",
       "      <td id=\"T_5301f_row7_col3\" class=\"data row7 col3\" >7.158813</td>\n",
       "      <td id=\"T_5301f_row7_col4\" class=\"data row7 col4\" >0.942345</td>\n",
       "    </tr>\n",
       "    <tr>\n",
       "      <th id=\"T_5301f_level0_row8\" class=\"row_heading level0 row8\" >8</th>\n",
       "      <td id=\"T_5301f_row8_col0\" class=\"data row8 col0\" >3.443095</td>\n",
       "      <td id=\"T_5301f_row8_col1\" class=\"data row8 col1\" >1.816557</td>\n",
       "      <td id=\"T_5301f_row8_col2\" class=\"data row8 col2\" >-1.325628</td>\n",
       "      <td id=\"T_5301f_row8_col3\" class=\"data row8 col3\" >8.144401</td>\n",
       "      <td id=\"T_5301f_row8_col4\" class=\"data row8 col4\" >0.460626</td>\n",
       "    </tr>\n",
       "    <tr>\n",
       "      <th id=\"T_5301f_level0_row9\" class=\"row_heading level0 row9\" >9</th>\n",
       "      <td id=\"T_5301f_row9_col0\" class=\"data row9 col0\" >0.445575</td>\n",
       "      <td id=\"T_5301f_row9_col1\" class=\"data row9 col1\" >0.827475</td>\n",
       "      <td id=\"T_5301f_row9_col2\" class=\"data row9 col2\" >-4.705004</td>\n",
       "      <td id=\"T_5301f_row9_col3\" class=\"data row9 col3\" >8.161819</td>\n",
       "      <td id=\"T_5301f_row9_col4\" class=\"data row9 col4\" >0.014623</td>\n",
       "    </tr>\n",
       "    <tr>\n",
       "      <th id=\"T_5301f_level0_row10\" class=\"row_heading level0 row10\" >10</th>\n",
       "      <td id=\"T_5301f_row10_col0\" class=\"data row10 col0\" >1.753775</td>\n",
       "      <td id=\"T_5301f_row10_col1\" class=\"data row10 col1\" >2.827564</td>\n",
       "      <td id=\"T_5301f_row10_col2\" class=\"data row10 col2\" >-2.582017</td>\n",
       "      <td id=\"T_5301f_row10_col3\" class=\"data row10 col3\" >8.975136</td>\n",
       "      <td id=\"T_5301f_row10_col4\" class=\"data row10 col4\" >0.590877</td>\n",
       "    </tr>\n",
       "    <tr>\n",
       "      <th id=\"T_5301f_level0_row11\" class=\"row_heading level0 row11\" >11</th>\n",
       "      <td id=\"T_5301f_row11_col0\" class=\"data row11 col0\" >2.289564</td>\n",
       "      <td id=\"T_5301f_row11_col1\" class=\"data row11 col1\" >1.732252</td>\n",
       "      <td id=\"T_5301f_row11_col2\" class=\"data row11 col2\" >-1.575980</td>\n",
       "      <td id=\"T_5301f_row11_col3\" class=\"data row11 col3\" >7.188518</td>\n",
       "      <td id=\"T_5301f_row11_col4\" class=\"data row11 col4\" >0.040173</td>\n",
       "    </tr>\n",
       "    <tr>\n",
       "      <th id=\"T_5301f_level0_row12\" class=\"row_heading level0 row12\" >12</th>\n",
       "      <td id=\"T_5301f_row12_col0\" class=\"data row12 col0\" >2.928236</td>\n",
       "      <td id=\"T_5301f_row12_col1\" class=\"data row12 col1\" >1.524238</td>\n",
       "      <td id=\"T_5301f_row12_col2\" class=\"data row12 col2\" >-0.903384</td>\n",
       "      <td id=\"T_5301f_row12_col3\" class=\"data row12 col3\" >7.192445</td>\n",
       "      <td id=\"T_5301f_row12_col4\" class=\"data row12 col4\" >0.224120</td>\n",
       "    </tr>\n",
       "    <tr>\n",
       "      <th id=\"T_5301f_level0_row13\" class=\"row_heading level0 row13\" >13</th>\n",
       "      <td id=\"T_5301f_row13_col0\" class=\"data row13 col0\" >2.500479</td>\n",
       "      <td id=\"T_5301f_row13_col1\" class=\"data row13 col1\" >1.652539</td>\n",
       "      <td id=\"T_5301f_row13_col2\" class=\"data row13 col2\" >-1.647218</td>\n",
       "      <td id=\"T_5301f_row13_col3\" class=\"data row13 col3\" >7.449799</td>\n",
       "      <td id=\"T_5301f_row13_col4\" class=\"data row13 col4\" >0.430489</td>\n",
       "    </tr>\n",
       "    <tr>\n",
       "      <th id=\"T_5301f_level0_row14\" class=\"row_heading level0 row14\" >14</th>\n",
       "      <td id=\"T_5301f_row14_col0\" class=\"data row14 col0\" >1.918547</td>\n",
       "      <td id=\"T_5301f_row14_col1\" class=\"data row14 col1\" >1.764213</td>\n",
       "      <td id=\"T_5301f_row14_col2\" class=\"data row14 col2\" >-2.917344</td>\n",
       "      <td id=\"T_5301f_row14_col3\" class=\"data row14 col3\" >8.678066</td>\n",
       "      <td id=\"T_5301f_row14_col4\" class=\"data row14 col4\" >0.866894</td>\n",
       "    </tr>\n",
       "    <tr>\n",
       "      <th id=\"T_5301f_level0_row15\" class=\"row_heading level0 row15\" >15</th>\n",
       "      <td id=\"T_5301f_row15_col0\" class=\"data row15 col0\" >3.082570</td>\n",
       "      <td id=\"T_5301f_row15_col1\" class=\"data row15 col1\" >2.767394</td>\n",
       "      <td id=\"T_5301f_row15_col2\" class=\"data row15 col2\" >-1.380020</td>\n",
       "      <td id=\"T_5301f_row15_col3\" class=\"data row15 col3\" >9.398346</td>\n",
       "      <td id=\"T_5301f_row15_col4\" class=\"data row15 col4\" >0.596667</td>\n",
       "    </tr>\n",
       "    <tr>\n",
       "      <th id=\"T_5301f_level0_row16\" class=\"row_heading level0 row16\" >16</th>\n",
       "      <td id=\"T_5301f_row16_col0\" class=\"data row16 col0\" >0.918543</td>\n",
       "      <td id=\"T_5301f_row16_col1\" class=\"data row16 col1\" >1.109106</td>\n",
       "      <td id=\"T_5301f_row16_col2\" class=\"data row16 col2\" >-3.303230</td>\n",
       "      <td id=\"T_5301f_row16_col3\" class=\"data row16 col3\" >7.012533</td>\n",
       "      <td id=\"T_5301f_row16_col4\" class=\"data row16 col4\" >0.668713</td>\n",
       "    </tr>\n",
       "    <tr>\n",
       "      <th id=\"T_5301f_level0_row17\" class=\"row_heading level0 row17\" >17</th>\n",
       "      <td id=\"T_5301f_row17_col0\" class=\"data row17 col0\" >3.108470</td>\n",
       "      <td id=\"T_5301f_row17_col1\" class=\"data row17 col1\" >2.506403</td>\n",
       "      <td id=\"T_5301f_row17_col2\" class=\"data row17 col2\" >-1.323373</td>\n",
       "      <td id=\"T_5301f_row17_col3\" class=\"data row17 col3\" >8.503917</td>\n",
       "      <td id=\"T_5301f_row17_col4\" class=\"data row17 col4\" >0.649923</td>\n",
       "    </tr>\n",
       "    <tr>\n",
       "      <th id=\"T_5301f_level0_row18\" class=\"row_heading level0 row18\" >18</th>\n",
       "      <td id=\"T_5301f_row18_col0\" class=\"data row18 col0\" >4.521144</td>\n",
       "      <td id=\"T_5301f_row18_col1\" class=\"data row18 col1\" >2.438771</td>\n",
       "      <td id=\"T_5301f_row18_col2\" class=\"data row18 col2\" >-0.307517</td>\n",
       "      <td id=\"T_5301f_row18_col3\" class=\"data row18 col3\" >9.159686</td>\n",
       "      <td id=\"T_5301f_row18_col4\" class=\"data row18 col4\" >0.936008</td>\n",
       "    </tr>\n",
       "    <tr>\n",
       "      <th id=\"T_5301f_level0_row19\" class=\"row_heading level0 row19\" >19</th>\n",
       "      <td id=\"T_5301f_row19_col0\" class=\"data row19 col0\" >2.521453</td>\n",
       "      <td id=\"T_5301f_row19_col1\" class=\"data row19 col1\" >2.963804</td>\n",
       "      <td id=\"T_5301f_row19_col2\" class=\"data row19 col2\" >-1.696981</td>\n",
       "      <td id=\"T_5301f_row19_col3\" class=\"data row19 col3\" >9.143363</td>\n",
       "      <td id=\"T_5301f_row19_col4\" class=\"data row19 col4\" >0.754756</td>\n",
       "    </tr>\n",
       "  </tbody>\n",
       "</table>\n"
      ],
      "text/plain": [
       "<pandas.io.formats.style.Styler at 0x7f8ff1272160>"
      ]
     },
     "execution_count": 47,
     "metadata": {},
     "output_type": "execute_result"
    }
   ],
   "source": [
    "imputer=SingleImputer('least squares')\n",
    "step3a_df=imputer.fit_transform(step2_df.assign(**{'feature a': step2_df['feature a'].where(~missing_df['feature a'], np.nan)}))\n",
    "step3_df=imputer.fit_transform(step3a_df.assign(**{'feature b': step3a_df['feature b'].where(~missing_df['feature b'], np.nan)}))\n",
    "dmcar_df.displayer(step3_df, 20)"
   ]
  },
  {
   "cell_type": "code",
   "execution_count": null,
   "metadata": {},
   "outputs": [],
   "source": [
    "stat_comparison(df, step3_df, 'feature a')"
   ]
  },
  {
   "cell_type": "markdown",
   "metadata": {},
   "source": [
    "stat_comparison(df, step3_df, 'feature b')"
   ]
  },
  {
   "cell_type": "markdown",
   "metadata": {},
   "source": [
    "### $\\color{purple}{\\text{MICE imputer in}}$ `autoimpute`"
   ]
  },
  {
   "cell_type": "code",
   "execution_count": null,
   "metadata": {},
   "outputs": [],
   "source": [
    "imputer=MiceImputer(n=1,k=5,strategy='least squares')"
   ]
  },
  {
   "cell_type": "code",
   "execution_count": null,
   "metadata": {},
   "outputs": [],
   "source": [
    "# MICE imputer returns a multiple imputation (see next section) we unpack it by referencing [0][1]\n",
    "imputed=[each for each in imputer.fit_transform(dmar_df)][0][1]\n",
    "displayer(imputed, 20)"
   ]
  },
  {
   "cell_type": "markdown",
   "metadata": {
    "id": "5DRKuaocr9ja"
   },
   "source": [
    "## $\\color{purple}{\\text{Advanced Imputation Techniques: Multiple Imputation}}$\n",
    "\n",
    "Many of the imputation techniques are stochastic in nature meaning that if you run the imputation a second time. You would a slightly different imputed values for the missing values.\n",
    "\n",
    "**Multiple Imputation** is the method which repeatedly imputes missing values. The result is a collection of possible imputed values.\n",
    "\n",
    "With a collection of imputed values for each missing value, you can perform statistics and carry through error margins and confidence intervals through your models. \n",
    "\n"
   ]
  },
  {
   "cell_type": "markdown",
   "metadata": {
    "id": "8MkREaCdmWXJ"
   },
   "source": [
    "We will use `autoimpute`'s multiple imputer to demonstrate, by default it produces 5 imputations. It returns this as a generator which we unpack using list."
   ]
  },
  {
   "cell_type": "code",
   "execution_count": 48,
   "metadata": {
    "colab": {
     "base_uri": "https://localhost:8080/",
     "height": 165
    },
    "executionInfo": {
     "elapsed": 336,
     "status": "error",
     "timestamp": 1653069148759,
     "user": {
      "displayName": "Haw-minn Lu",
      "userId": "16109571175851064283"
     },
     "user_tz": 420
    },
    "id": "o_H45smZmIfg",
    "outputId": "234074cd-b732-4689-84c8-f1c206c980ff"
   },
   "outputs": [],
   "source": [
    "imputer=MultipleImputer(strategy='least squares')\n",
    "imputations = imputer.fit_transform(mar_df)\n",
    "lists=list(imputations) # Unscramble the generator"
   ]
  },
  {
   "cell_type": "markdown",
   "metadata": {},
   "source": [
    "The return value is an array of tuples. Each tuple is a pair with the imputation index (ordinal count) and the imputed dataframe."
   ]
  },
  {
   "cell_type": "code",
   "execution_count": null,
   "metadata": {
    "id": "JRwJZtc7mVjK",
    "tags": [
     "master"
    ]
   },
   "outputs": [],
   "source": [
    "lists"
   ]
  },
  {
   "cell_type": "code",
   "execution_count": 51,
   "metadata": {},
   "outputs": [
    {
     "data": {
      "text/html": [
       "<style type=\"text/css\">\n",
       "#T_b5d7f_row1_col0, #T_b5d7f_row8_col0 {\n",
       "  background-color: paleturquoise;\n",
       "}\n",
       "</style>\n",
       "<table id=\"T_b5d7f\">\n",
       "  <thead>\n",
       "    <tr>\n",
       "      <th class=\"blank level0\" >&nbsp;</th>\n",
       "      <th id=\"T_b5d7f_level0_col0\" class=\"col_heading level0 col0\" >feature a</th>\n",
       "      <th id=\"T_b5d7f_level0_col1\" class=\"col_heading level0 col1\" >feature b</th>\n",
       "      <th id=\"T_b5d7f_level0_col2\" class=\"col_heading level0 col2\" >feature c</th>\n",
       "      <th id=\"T_b5d7f_level0_col3\" class=\"col_heading level0 col3\" >feature d</th>\n",
       "      <th id=\"T_b5d7f_level0_col4\" class=\"col_heading level0 col4\" >uncorrelated</th>\n",
       "    </tr>\n",
       "  </thead>\n",
       "  <tbody>\n",
       "    <tr>\n",
       "      <th id=\"T_b5d7f_level0_row0\" class=\"row_heading level0 row0\" >0</th>\n",
       "      <td id=\"T_b5d7f_row0_col0\" class=\"data row0 col0\" >2.777245</td>\n",
       "      <td id=\"T_b5d7f_row0_col1\" class=\"data row0 col1\" >2.234252</td>\n",
       "      <td id=\"T_b5d7f_row0_col2\" class=\"data row0 col2\" >-1.552282</td>\n",
       "      <td id=\"T_b5d7f_row0_col3\" class=\"data row0 col3\" >8.772158</td>\n",
       "      <td id=\"T_b5d7f_row0_col4\" class=\"data row0 col4\" >0.360789</td>\n",
       "    </tr>\n",
       "    <tr>\n",
       "      <th id=\"T_b5d7f_level0_row1\" class=\"row_heading level0 row1\" >1</th>\n",
       "      <td id=\"T_b5d7f_row1_col0\" class=\"data row1 col0\" >3.955997</td>\n",
       "      <td id=\"T_b5d7f_row1_col1\" class=\"data row1 col1\" >2.223169</td>\n",
       "      <td id=\"T_b5d7f_row1_col2\" class=\"data row1 col2\" >-0.645673</td>\n",
       "      <td id=\"T_b5d7f_row1_col3\" class=\"data row1 col3\" >8.815675</td>\n",
       "      <td id=\"T_b5d7f_row1_col4\" class=\"data row1 col4\" >0.393466</td>\n",
       "    </tr>\n",
       "    <tr>\n",
       "      <th id=\"T_b5d7f_level0_row2\" class=\"row_heading level0 row2\" >2</th>\n",
       "      <td id=\"T_b5d7f_row2_col0\" class=\"data row2 col0\" >1.936893</td>\n",
       "      <td id=\"T_b5d7f_row2_col1\" class=\"data row2 col1\" >2.182897</td>\n",
       "      <td id=\"T_b5d7f_row2_col2\" class=\"data row2 col2\" >-2.474526</td>\n",
       "      <td id=\"T_b5d7f_row2_col3\" class=\"data row2 col3\" >8.549983</td>\n",
       "      <td id=\"T_b5d7f_row2_col4\" class=\"data row2 col4\" >0.891191</td>\n",
       "    </tr>\n",
       "    <tr>\n",
       "      <th id=\"T_b5d7f_level0_row3\" class=\"row_heading level0 row3\" >3</th>\n",
       "      <td id=\"T_b5d7f_row3_col0\" class=\"data row3 col0\" >2.484183</td>\n",
       "      <td id=\"T_b5d7f_row3_col1\" class=\"data row3 col1\" >1.618856</td>\n",
       "      <td id=\"T_b5d7f_row3_col2\" class=\"data row3 col2\" >-1.404809</td>\n",
       "      <td id=\"T_b5d7f_row3_col3\" class=\"data row3 col3\" >7.360904</td>\n",
       "      <td id=\"T_b5d7f_row3_col4\" class=\"data row3 col4\" >0.156937</td>\n",
       "    </tr>\n",
       "    <tr>\n",
       "      <th id=\"T_b5d7f_level0_row4\" class=\"row_heading level0 row4\" >4</th>\n",
       "      <td id=\"T_b5d7f_row4_col0\" class=\"data row4 col0\" >2.089727</td>\n",
       "      <td id=\"T_b5d7f_row4_col1\" class=\"data row4 col1\" >2.698967</td>\n",
       "      <td id=\"T_b5d7f_row4_col2\" class=\"data row4 col2\" >-1.464007</td>\n",
       "      <td id=\"T_b5d7f_row4_col3\" class=\"data row4 col3\" >7.786100</td>\n",
       "      <td id=\"T_b5d7f_row4_col4\" class=\"data row4 col4\" >0.046178</td>\n",
       "    </tr>\n",
       "    <tr>\n",
       "      <th id=\"T_b5d7f_level0_row5\" class=\"row_heading level0 row5\" >5</th>\n",
       "      <td id=\"T_b5d7f_row5_col0\" class=\"data row5 col0\" >3.369940</td>\n",
       "      <td id=\"T_b5d7f_row5_col1\" class=\"data row5 col1\" >2.842243</td>\n",
       "      <td id=\"T_b5d7f_row5_col2\" class=\"data row5 col2\" >-0.716772</td>\n",
       "      <td id=\"T_b5d7f_row5_col3\" class=\"data row5 col3\" >8.767852</td>\n",
       "      <td id=\"T_b5d7f_row5_col4\" class=\"data row5 col4\" >0.342830</td>\n",
       "    </tr>\n",
       "    <tr>\n",
       "      <th id=\"T_b5d7f_level0_row6\" class=\"row_heading level0 row6\" >6</th>\n",
       "      <td id=\"T_b5d7f_row6_col0\" class=\"data row6 col0\" >0.764542</td>\n",
       "      <td id=\"T_b5d7f_row6_col1\" class=\"data row6 col1\" >1.532282</td>\n",
       "      <td id=\"T_b5d7f_row6_col2\" class=\"data row6 col2\" >-3.850084</td>\n",
       "      <td id=\"T_b5d7f_row6_col3\" class=\"data row6 col3\" >7.992571</td>\n",
       "      <td id=\"T_b5d7f_row6_col4\" class=\"data row6 col4\" >0.678203</td>\n",
       "    </tr>\n",
       "    <tr>\n",
       "      <th id=\"T_b5d7f_level0_row7\" class=\"row_heading level0 row7\" >7</th>\n",
       "      <td id=\"T_b5d7f_row7_col0\" class=\"data row7 col0\" >3.539507</td>\n",
       "      <td id=\"T_b5d7f_row7_col1\" class=\"data row7 col1\" >2.120999</td>\n",
       "      <td id=\"T_b5d7f_row7_col2\" class=\"data row7 col2\" >0.181066</td>\n",
       "      <td id=\"T_b5d7f_row7_col3\" class=\"data row7 col3\" >7.158813</td>\n",
       "      <td id=\"T_b5d7f_row7_col4\" class=\"data row7 col4\" >0.942345</td>\n",
       "    </tr>\n",
       "    <tr>\n",
       "      <th id=\"T_b5d7f_level0_row8\" class=\"row_heading level0 row8\" >8</th>\n",
       "      <td id=\"T_b5d7f_row8_col0\" class=\"data row8 col0\" >3.118221</td>\n",
       "      <td id=\"T_b5d7f_row8_col1\" class=\"data row8 col1\" >1.816557</td>\n",
       "      <td id=\"T_b5d7f_row8_col2\" class=\"data row8 col2\" >-1.325628</td>\n",
       "      <td id=\"T_b5d7f_row8_col3\" class=\"data row8 col3\" >8.144401</td>\n",
       "      <td id=\"T_b5d7f_row8_col4\" class=\"data row8 col4\" >0.460626</td>\n",
       "    </tr>\n",
       "    <tr>\n",
       "      <th id=\"T_b5d7f_level0_row9\" class=\"row_heading level0 row9\" >9</th>\n",
       "      <td id=\"T_b5d7f_row9_col0\" class=\"data row9 col0\" >0.445575</td>\n",
       "      <td id=\"T_b5d7f_row9_col1\" class=\"data row9 col1\" >0.827475</td>\n",
       "      <td id=\"T_b5d7f_row9_col2\" class=\"data row9 col2\" >-4.705004</td>\n",
       "      <td id=\"T_b5d7f_row9_col3\" class=\"data row9 col3\" >8.161819</td>\n",
       "      <td id=\"T_b5d7f_row9_col4\" class=\"data row9 col4\" >0.014623</td>\n",
       "    </tr>\n",
       "  </tbody>\n",
       "</table>\n"
      ],
      "text/plain": [
       "<pandas.io.formats.style.Styler at 0x7f8ff3bda6a0>"
      ]
     },
     "execution_count": 51,
     "metadata": {},
     "output_type": "execute_result"
    }
   ],
   "source": [
    "mar_df.displayer(lists[2][1], 10)"
   ]
  },
  {
   "cell_type": "markdown",
   "metadata": {},
   "source": [
    "$\\color{red}{\\Large{\\text{ ⚠}}}$ the `least squares` is option is deterministic. You will notice all the imputations are the same."
   ]
  },
  {
   "cell_type": "code",
   "execution_count": 52,
   "metadata": {},
   "outputs": [
    {
     "data": {
      "text/plain": [
       "[3.9559972510977346,\n",
       " 3.9559972510977346,\n",
       " 3.9559972510977346,\n",
       " 3.9559972510977346,\n",
       " 3.9559972510977346]"
      ]
     },
     "execution_count": 52,
     "metadata": {},
     "output_type": "execute_result"
    }
   ],
   "source": [
    "[each[1].iloc[1]['feature a'] for each in lists]"
   ]
  },
  {
   "cell_type": "markdown",
   "metadata": {},
   "source": [
    "If we use the `stochastic` strategy each missing value will have multiple imputed values"
   ]
  },
  {
   "cell_type": "code",
   "execution_count": 57,
   "metadata": {},
   "outputs": [],
   "source": [
    "imputer=MultipleImputer(strategy='stochastic')\n",
    "imputations = imputer.fit_transform(mar_df)\n",
    "lists=list(imputations) # Unscramble the generator"
   ]
  },
  {
   "cell_type": "code",
   "execution_count": 58,
   "metadata": {},
   "outputs": [
    {
     "data": {
      "text/plain": [
       "[4.092361508315227,\n",
       " 3.646324504587021,\n",
       " 3.660059879725157,\n",
       " 3.942308790112922,\n",
       " 3.9425143162704175]"
      ]
     },
     "execution_count": 58,
     "metadata": {},
     "output_type": "execute_result"
    }
   ],
   "source": [
    "[each[1].iloc[1]['feature a'] for each in lists]"
   ]
  },
  {
   "cell_type": "code",
   "execution_count": null,
   "metadata": {},
   "outputs": [],
   "source": []
  }
 ],
 "metadata": {
  "celltoolbar": "Tags",
  "colab": {
   "authorship_tag": "ABX9TyOzI6saudMRGj5Q9rKp9Mrq",
   "collapsed_sections": [],
   "name": "4 - Imputation Techniques.ipynb",
   "provenance": []
  },
  "kernelspec": {
   "display_name": "Python 3 (ipykernel)",
   "language": "python",
   "name": "python3"
  },
  "language_info": {
   "codemirror_mode": {
    "name": "ipython",
    "version": 3
   },
   "file_extension": ".py",
   "mimetype": "text/x-python",
   "name": "python",
   "nbconvert_exporter": "python",
   "pygments_lexer": "ipython3",
   "version": "3.9.7"
  },
  "toc": {
   "base_numbering": 1,
   "nav_menu": {},
   "number_sections": true,
   "sideBar": true,
   "skip_h1_title": false,
   "title_cell": "Table of Contents",
   "title_sidebar": "Contents",
   "toc_cell": false,
   "toc_position": {},
   "toc_section_display": true,
   "toc_window_display": false
  }
 },
 "nbformat": 4,
 "nbformat_minor": 1
}
