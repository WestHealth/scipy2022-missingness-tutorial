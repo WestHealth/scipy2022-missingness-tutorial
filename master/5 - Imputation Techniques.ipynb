{
 "cells": [
  {
   "cell_type": "markdown",
   "metadata": {
    "id": "XGJmuVrOrepP"
   },
   "source": [
    "# $\\color{purple}{\\text{Understanding Missing Data and How to Deal with It (Part 5)}}$\n",
    "\n",
    "## $\\color{purple}{\\text{Advanced Imputation Techniques: Multivariate Imputation}}$"
   ]
  },
  {
   "cell_type": "markdown",
   "metadata": {
    "tags": [
     "colab"
    ]
   },
   "source": [
    "### $\\color{purple}{\\text{Colab Environmental Setup}}$"
   ]
  },
  {
   "cell_type": "raw",
   "metadata": {
    "tags": [
     "colab"
    ]
   },
   "source": [
    "from google.colab import drive\n",
    "import os\n",
    "drive.mount('/content/drive')\n",
    "os.chdir('/content/drive/My Drive/missingness_tutorial')"
   ]
  },
  {
   "cell_type": "markdown",
   "metadata": {},
   "source": [
    "### $\\color{purple}{\\text{Libraries for this lesson}}$"
   ]
  },
  {
   "cell_type": "code",
   "execution_count": 6,
   "metadata": {},
   "outputs": [],
   "source": [
    "import pandas as pd\n",
    "import numpy as np\n",
    "from helpers import stat_comparison\n",
    "from sklearn.ensemble import RandomForestClassifier\n",
    "from sklearn.linear_model import LinearRegression\n",
    "\n",
    "from autoimpute.imputations import SingleImputer\n",
    "from autoimpute.imputations import MultipleImputer\n",
    "from autoimpute.imputations import MICEImputer"
   ]
  },
  {
   "cell_type": "markdown",
   "metadata": {
    "id": "l-lI2daBFGxl"
   },
   "source": [
    "## $\\color{purple}{\\text{Regression Imputation}}$\n",
    "\n",
    "General Technique:\n",
    "Use Regression/Classification Models to Imputer Numeric/Categorical Missing Values\n",
    "* Linear Regression\n",
    "* Stocastic Linear Regression\n",
    "* Logistic Regression\n",
    "* Other Possibilities Generally unexplored\n",
    "  * Random Forest\n",
    "  * Decision Trees\n",
    "  * KNN"
   ]
  },
  {
   "cell_type": "code",
   "execution_count": 3,
   "metadata": {
    "colab": {
     "base_uri": "https://localhost:8080/",
     "height": 450
    },
    "executionInfo": {
     "elapsed": 20431,
     "status": "ok",
     "timestamp": 1654721415225,
     "user": {
      "displayName": "Haw-minn Lu",
      "userId": "16109571175851064283"
     },
     "user_tz": 420
    },
    "id": "e7N2XN4NFG-d",
    "outputId": "6103427b-15a2-4d9f-9d57-579328cc0633"
   },
   "outputs": [
    {
     "data": {
      "text/html": [
       "<div>\n",
       "<style scoped>\n",
       "    .dataframe tbody tr th:only-of-type {\n",
       "        vertical-align: middle;\n",
       "    }\n",
       "\n",
       "    .dataframe tbody tr th {\n",
       "        vertical-align: top;\n",
       "    }\n",
       "\n",
       "    .dataframe thead th {\n",
       "        text-align: right;\n",
       "    }\n",
       "</style>\n",
       "<table border=\"1\" class=\"dataframe\">\n",
       "  <thead>\n",
       "    <tr style=\"text-align: right;\">\n",
       "      <th></th>\n",
       "      <th>feature a</th>\n",
       "      <th>feature b</th>\n",
       "      <th>feature c</th>\n",
       "      <th>feature d</th>\n",
       "      <th>uncorrelated</th>\n",
       "    </tr>\n",
       "  </thead>\n",
       "  <tbody>\n",
       "    <tr>\n",
       "      <th>0</th>\n",
       "      <td>1.517509</td>\n",
       "      <td>4.229258</td>\n",
       "      <td>2.052726</td>\n",
       "      <td>0.153278</td>\n",
       "      <td>0.014975</td>\n",
       "    </tr>\n",
       "    <tr>\n",
       "      <th>1</th>\n",
       "      <td>2.536323</td>\n",
       "      <td>4.295391</td>\n",
       "      <td>2.104137</td>\n",
       "      <td>1.348000</td>\n",
       "      <td>0.998701</td>\n",
       "    </tr>\n",
       "    <tr>\n",
       "      <th>2</th>\n",
       "      <td>4.043034</td>\n",
       "      <td>5.872276</td>\n",
       "      <td>3.559629</td>\n",
       "      <td>3.274061</td>\n",
       "      <td>0.403823</td>\n",
       "    </tr>\n",
       "    <tr>\n",
       "      <th>3</th>\n",
       "      <td>0.082752</td>\n",
       "      <td>3.761743</td>\n",
       "      <td>-0.440590</td>\n",
       "      <td>1.031832</td>\n",
       "      <td>0.281023</td>\n",
       "    </tr>\n",
       "    <tr>\n",
       "      <th>4</th>\n",
       "      <td>0.196684</td>\n",
       "      <td>3.793343</td>\n",
       "      <td>1.016462</td>\n",
       "      <td>-0.667764</td>\n",
       "      <td>0.165431</td>\n",
       "    </tr>\n",
       "    <tr>\n",
       "      <th>...</th>\n",
       "      <td>...</td>\n",
       "      <td>...</td>\n",
       "      <td>...</td>\n",
       "      <td>...</td>\n",
       "      <td>...</td>\n",
       "    </tr>\n",
       "    <tr>\n",
       "      <th>19995</th>\n",
       "      <td>2.090202</td>\n",
       "      <td>4.966018</td>\n",
       "      <td>1.973792</td>\n",
       "      <td>1.470606</td>\n",
       "      <td>0.666985</td>\n",
       "    </tr>\n",
       "    <tr>\n",
       "      <th>19996</th>\n",
       "      <td>NaN</td>\n",
       "      <td>4.593494</td>\n",
       "      <td>3.159423</td>\n",
       "      <td>1.212630</td>\n",
       "      <td>0.867025</td>\n",
       "    </tr>\n",
       "    <tr>\n",
       "      <th>19997</th>\n",
       "      <td>3.704028</td>\n",
       "      <td>4.852749</td>\n",
       "      <td>3.738618</td>\n",
       "      <td>1.153456</td>\n",
       "      <td>0.492664</td>\n",
       "    </tr>\n",
       "    <tr>\n",
       "      <th>19998</th>\n",
       "      <td>NaN</td>\n",
       "      <td>5.034845</td>\n",
       "      <td>4.243867</td>\n",
       "      <td>1.640312</td>\n",
       "      <td>0.269926</td>\n",
       "    </tr>\n",
       "    <tr>\n",
       "      <th>19999</th>\n",
       "      <td>2.349700</td>\n",
       "      <td>4.780939</td>\n",
       "      <td>2.928363</td>\n",
       "      <td>0.729965</td>\n",
       "      <td>0.692626</td>\n",
       "    </tr>\n",
       "  </tbody>\n",
       "</table>\n",
       "<p>20000 rows × 5 columns</p>\n",
       "</div>"
      ],
      "text/plain": [
       "       feature a  feature b  feature c  feature d  uncorrelated\n",
       "0       1.517509   4.229258   2.052726   0.153278      0.014975\n",
       "1       2.536323   4.295391   2.104137   1.348000      0.998701\n",
       "2       4.043034   5.872276   3.559629   3.274061      0.403823\n",
       "3       0.082752   3.761743  -0.440590   1.031832      0.281023\n",
       "4       0.196684   3.793343   1.016462  -0.667764      0.165431\n",
       "...          ...        ...        ...        ...           ...\n",
       "19995   2.090202   4.966018   1.973792   1.470606      0.666985\n",
       "19996        NaN   4.593494   3.159423   1.212630      0.867025\n",
       "19997   3.704028   4.852749   3.738618   1.153456      0.492664\n",
       "19998        NaN   5.034845   4.243867   1.640312      0.269926\n",
       "19999   2.349700   4.780939   2.928363   0.729965      0.692626\n",
       "\n",
       "[20000 rows x 5 columns]"
      ]
     },
     "execution_count": 3,
     "metadata": {},
     "output_type": "execute_result"
    }
   ],
   "source": [
    "df = pd.read_csv('data/full_set.csv')\n",
    "mcar_df = pd.read_csv('data/mcar_set.csv')\n",
    "mcar_df\n",
    "mar_df = pd.read_csv('data/mar_set.csv')\n",
    "mar_df\n"
   ]
  },
  {
   "cell_type": "markdown",
   "metadata": {
    "id": "GJb5m9e_l9v6"
   },
   "source": [
    "Regression Imputation"
   ]
  },
  {
   "cell_type": "code",
   "execution_count": 9,
   "metadata": {
    "id": "NGTqexiQMgmM"
   },
   "outputs": [],
   "source": []
  },
  {
   "cell_type": "code",
   "execution_count": 10,
   "metadata": {
    "id": "KSE9PBfSoF3c"
   },
   "outputs": [],
   "source": [
    "linear_regressor = LinearRegression()"
   ]
  },
  {
   "cell_type": "code",
   "execution_count": 18,
   "metadata": {},
   "outputs": [],
   "source": [
    "rest = ['feature b', 'feature c', 'feature d', 'uncorrelated']\n",
    "full_data = mar_df.dropna()\n",
    "linear_regressor.fit(full_data[rest], full_data['feature a'])\n",
    "impute = linear_regressor.predict(mar_df[rest])\n"
   ]
  },
  {
   "cell_type": "code",
   "execution_count": 19,
   "metadata": {},
   "outputs": [],
   "source": [
    "imputed=mar_df.assign(**{'feature a': mar_df['feature a'].where(~mar_df['feature a'].isnull(), impute)})"
   ]
  },
  {
   "cell_type": "code",
   "execution_count": 20,
   "metadata": {},
   "outputs": [
    {
     "data": {
      "text/html": [
       "<div>\n",
       "<style scoped>\n",
       "    .dataframe tbody tr th:only-of-type {\n",
       "        vertical-align: middle;\n",
       "    }\n",
       "\n",
       "    .dataframe tbody tr th {\n",
       "        vertical-align: top;\n",
       "    }\n",
       "\n",
       "    .dataframe thead th {\n",
       "        text-align: right;\n",
       "    }\n",
       "</style>\n",
       "<table border=\"1\" class=\"dataframe\">\n",
       "  <thead>\n",
       "    <tr style=\"text-align: right;\">\n",
       "      <th></th>\n",
       "      <th>Original</th>\n",
       "      <th>With Missing Data</th>\n",
       "      <th>difference</th>\n",
       "      <th>percentate</th>\n",
       "    </tr>\n",
       "  </thead>\n",
       "  <tbody>\n",
       "    <tr>\n",
       "      <th>mean</th>\n",
       "      <td>2.367217</td>\n",
       "      <td>2.367493</td>\n",
       "      <td>0.000276</td>\n",
       "      <td>0.011674</td>\n",
       "    </tr>\n",
       "    <tr>\n",
       "      <th>median</th>\n",
       "      <td>2.380412</td>\n",
       "      <td>2.384461</td>\n",
       "      <td>0.004049</td>\n",
       "      <td>0.170097</td>\n",
       "    </tr>\n",
       "    <tr>\n",
       "      <th>stdev</th>\n",
       "      <td>1.280482</td>\n",
       "      <td>1.278774</td>\n",
       "      <td>0.001708</td>\n",
       "      <td>0.133419</td>\n",
       "    </tr>\n",
       "  </tbody>\n",
       "</table>\n",
       "</div>"
      ],
      "text/plain": [
       "        Original  With Missing Data  difference  percentate\n",
       "mean    2.367217           2.367493    0.000276    0.011674\n",
       "median  2.380412           2.384461    0.004049    0.170097\n",
       "stdev   1.280482           1.278774    0.001708    0.133419"
      ]
     },
     "execution_count": 20,
     "metadata": {},
     "output_type": "execute_result"
    }
   ],
   "source": [
    "stat_comparison(df, imputed, 'feature a')"
   ]
  },
  {
   "cell_type": "code",
   "execution_count": 26,
   "metadata": {},
   "outputs": [
    {
     "data": {
      "text/plain": [
       "0.15480550226374812"
      ]
     },
     "execution_count": 26,
     "metadata": {},
     "output_type": "execute_result"
    }
   ],
   "source": [
    "residual = mar_df['feature a'] - impute\n",
    "residual.mean()\n",
    "residual.std()"
   ]
  },
  {
   "cell_type": "markdown",
   "metadata": {
    "id": "fA-u2Tz8sa-8"
   },
   "source": [
    "## $\\color{purple}{\\text{Hot Deck Imputation}}$\n",
    "\n",
    "General Idea is to randomly sample imputed values from remaining good values."
   ]
  },
  {
   "cell_type": "code",
   "execution_count": 57,
   "metadata": {},
   "outputs": [],
   "source": [
    "demo_df = mar_df[0:10].copy()"
   ]
  },
  {
   "cell_type": "code",
   "execution_count": 58,
   "metadata": {},
   "outputs": [],
   "source": [
    "def distance(x):\n",
    "    return np.linalg.norm((x-demo_df.iloc[7]).dropna())\n",
    "    \n",
    "demo_df['distance'] = demo_df.apply(distance, axis=1)\n",
    "demo_df=demo_df.dropna() # Drop Our Row"
   ]
  },
  {
   "cell_type": "code",
   "execution_count": 101,
   "metadata": {},
   "outputs": [],
   "source": [
    "\n",
    "imputer=SingleImputer('least squares')\n",
    "imputations = imputer.fit_transform(mar_df)"
   ]
  },
  {
   "cell_type": "code",
   "execution_count": 105,
   "metadata": {},
   "outputs": [],
   "source": [
    "from autoimpute.imputations import SingleImputer\n",
    "imputer=SingleImputer('stochastic')\n",
    "imputations = imputer.fit_transform(mar_df)"
   ]
  },
  {
   "cell_type": "markdown",
   "metadata": {},
   "source": [
    "Hot Deck Imputation Version #1\n",
    "Pick closest point threshold"
   ]
  },
  {
   "cell_type": "code",
   "execution_count": 60,
   "metadata": {},
   "outputs": [
    {
     "data": {
      "text/html": [
       "<div>\n",
       "<style scoped>\n",
       "    .dataframe tbody tr th:only-of-type {\n",
       "        vertical-align: middle;\n",
       "    }\n",
       "\n",
       "    .dataframe tbody tr th {\n",
       "        vertical-align: top;\n",
       "    }\n",
       "\n",
       "    .dataframe thead th {\n",
       "        text-align: right;\n",
       "    }\n",
       "</style>\n",
       "<table border=\"1\" class=\"dataframe\">\n",
       "  <thead>\n",
       "    <tr style=\"text-align: right;\">\n",
       "      <th></th>\n",
       "      <th>feature a</th>\n",
       "      <th>feature b</th>\n",
       "      <th>feature c</th>\n",
       "      <th>feature d</th>\n",
       "      <th>uncorrelated</th>\n",
       "      <th>distance</th>\n",
       "    </tr>\n",
       "  </thead>\n",
       "  <tbody>\n",
       "    <tr>\n",
       "      <th>0</th>\n",
       "      <td>1.517509</td>\n",
       "      <td>4.229258</td>\n",
       "      <td>2.052726</td>\n",
       "      <td>0.153278</td>\n",
       "      <td>0.014975</td>\n",
       "      <td>2.140696</td>\n",
       "    </tr>\n",
       "    <tr>\n",
       "      <th>1</th>\n",
       "      <td>2.536323</td>\n",
       "      <td>4.295391</td>\n",
       "      <td>2.104137</td>\n",
       "      <td>1.348000</td>\n",
       "      <td>0.998701</td>\n",
       "      <td>1.679696</td>\n",
       "    </tr>\n",
       "    <tr>\n",
       "      <th>2</th>\n",
       "      <td>4.043034</td>\n",
       "      <td>5.872276</td>\n",
       "      <td>3.559629</td>\n",
       "      <td>3.274061</td>\n",
       "      <td>0.403823</td>\n",
       "      <td>1.804759</td>\n",
       "    </tr>\n",
       "    <tr>\n",
       "      <th>3</th>\n",
       "      <td>0.082752</td>\n",
       "      <td>3.761743</td>\n",
       "      <td>-0.440590</td>\n",
       "      <td>1.031832</td>\n",
       "      <td>0.281023</td>\n",
       "      <td>3.954464</td>\n",
       "    </tr>\n",
       "    <tr>\n",
       "      <th>4</th>\n",
       "      <td>0.196684</td>\n",
       "      <td>3.793343</td>\n",
       "      <td>1.016462</td>\n",
       "      <td>-0.667764</td>\n",
       "      <td>0.165431</td>\n",
       "      <td>3.477212</td>\n",
       "    </tr>\n",
       "    <tr>\n",
       "      <th>5</th>\n",
       "      <td>2.560068</td>\n",
       "      <td>4.446726</td>\n",
       "      <td>2.420763</td>\n",
       "      <td>0.973363</td>\n",
       "      <td>0.166179</td>\n",
       "      <td>1.312528</td>\n",
       "    </tr>\n",
       "    <tr>\n",
       "      <th>6</th>\n",
       "      <td>4.027199</td>\n",
       "      <td>5.079975</td>\n",
       "      <td>4.582185</td>\n",
       "      <td>0.876607</td>\n",
       "      <td>0.420479</td>\n",
       "      <td>1.651431</td>\n",
       "    </tr>\n",
       "    <tr>\n",
       "      <th>8</th>\n",
       "      <td>2.743726</td>\n",
       "      <td>4.506330</td>\n",
       "      <td>2.620240</td>\n",
       "      <td>1.362915</td>\n",
       "      <td>0.011719</td>\n",
       "      <td>1.035106</td>\n",
       "    </tr>\n",
       "    <tr>\n",
       "      <th>9</th>\n",
       "      <td>-0.180238</td>\n",
       "      <td>3.148906</td>\n",
       "      <td>0.280848</td>\n",
       "      <td>-0.741796</td>\n",
       "      <td>0.104471</td>\n",
       "      <td>4.303085</td>\n",
       "    </tr>\n",
       "  </tbody>\n",
       "</table>\n",
       "</div>"
      ],
      "text/plain": [
       "   feature a  feature b  feature c  feature d  uncorrelated  distance\n",
       "0   1.517509   4.229258   2.052726   0.153278      0.014975  2.140696\n",
       "1   2.536323   4.295391   2.104137   1.348000      0.998701  1.679696\n",
       "2   4.043034   5.872276   3.559629   3.274061      0.403823  1.804759\n",
       "3   0.082752   3.761743  -0.440590   1.031832      0.281023  3.954464\n",
       "4   0.196684   3.793343   1.016462  -0.667764      0.165431  3.477212\n",
       "5   2.560068   4.446726   2.420763   0.973363      0.166179  1.312528\n",
       "6   4.027199   5.079975   4.582185   0.876607      0.420479  1.651431\n",
       "8   2.743726   4.506330   2.620240   1.362915      0.011719  1.035106\n",
       "9  -0.180238   3.148906   0.280848  -0.741796      0.104471  4.303085"
      ]
     },
     "execution_count": 60,
     "metadata": {},
     "output_type": "execute_result"
    }
   ],
   "source": [
    "demo_df"
   ]
  },
  {
   "cell_type": "code",
   "execution_count": 62,
   "metadata": {},
   "outputs": [
    {
     "data": {
      "text/plain": [
       "1    2.536323\n",
       "2    4.043034\n",
       "5    2.560068\n",
       "6    4.027199\n",
       "8    2.743726\n",
       "Name: feature a, dtype: float64"
      ]
     },
     "execution_count": 62,
     "metadata": {},
     "output_type": "execute_result"
    }
   ],
   "source": [
    "threshold = 2\n",
    "donors = demo_df[demo_df.distance<threshold]['feature a']"
   ]
  },
  {
   "cell_type": "code",
   "execution_count": null,
   "metadata": {},
   "outputs": [],
   "source": [
    "Hot Deck Imputation Version #2\n",
    "Take closest point"
   ]
  },
  {
   "cell_type": "code",
   "execution_count": 68,
   "metadata": {},
   "outputs": [
    {
     "data": {
      "text/plain": [
       "2.7437264614106294"
      ]
     },
     "execution_count": 68,
     "metadata": {},
     "output_type": "execute_result"
    }
   ],
   "source": [
    "donor = demo_df.sort_values('distance').iloc[0]['feature a']"
   ]
  },
  {
   "cell_type": "code",
   "execution_count": null,
   "metadata": {},
   "outputs": [],
   "source": [
    "Hot Deck Imputation Version #3\n",
    "Pick N Closest points"
   ]
  },
  {
   "cell_type": "code",
   "execution_count": 71,
   "metadata": {},
   "outputs": [
    {
     "data": {
      "text/plain": [
       "8    2.743726\n",
       "5    2.560068\n",
       "6    4.027199\n",
       "Name: feature a, dtype: float64"
      ]
     },
     "execution_count": 71,
     "metadata": {},
     "output_type": "execute_result"
    }
   ],
   "source": [
    "N=3\n",
    "donors = demo_df.sort_values('distance').iloc[0:N]['feature a']\n",
    "donors"
   ]
  },
  {
   "cell_type": "code",
   "execution_count": 77,
   "metadata": {},
   "outputs": [
    {
     "data": {
      "text/plain": [
       "[2.560068182587529]"
      ]
     },
     "execution_count": 77,
     "metadata": {},
     "output_type": "execute_result"
    }
   ],
   "source": [
    "import random\n",
    "#Pick with probability\n",
    "random.choices(demo_df['feature a'], k=1, weights=1/demo_df['distance'])"
   ]
  },
  {
   "cell_type": "markdown",
   "metadata": {
    "id": "fA-u2Tz8sa-8"
   },
   "source": [
    "## $\\color{purple}{\\text{Predictive Mean Matching}}$\n",
    "Uses linear interpolation as part of the metric.\n"
   ]
  },
  {
   "cell_type": "code",
   "execution_count": 81,
   "metadata": {},
   "outputs": [],
   "source": [
    "from sklearn.linear_model import LinearRegression\n",
    "linear_regressor=LinearRegression()"
   ]
  },
  {
   "cell_type": "code",
   "execution_count": 85,
   "metadata": {},
   "outputs": [],
   "source": [
    "demo_df = mar_df[0:10].copy()"
   ]
  },
  {
   "cell_type": "code",
   "execution_count": 89,
   "metadata": {},
   "outputs": [],
   "source": [
    "rest = ['feature b', 'feature c', 'feature d', 'uncorrelated']\n",
    "full_data = demo_df.dropna()\n",
    "linear_regressor.fit(full_data[rest], full_data['feature a'])\n",
    "demo_df['regression'] = linear_regressor.predict(demo_df[rest])"
   ]
  },
  {
   "cell_type": "code",
   "execution_count": 94,
   "metadata": {},
   "outputs": [],
   "source": [
    "demo_df['distance']=np.abs(demo_df.regression-demo_df.regression.iloc[7])"
   ]
  },
  {
   "cell_type": "code",
   "execution_count": 97,
   "metadata": {},
   "outputs": [
    {
     "data": {
      "text/plain": [
       "8    2.743726\n",
       "1    2.536323\n",
       "5    2.560068\n",
       "Name: feature a, dtype: float64"
      ]
     },
     "execution_count": 97,
     "metadata": {},
     "output_type": "execute_result"
    }
   ],
   "source": [
    "N=3\n",
    "donors = demo_df.dropna().sort_values('distance').iloc[0:N]['feature a']\n",
    "donors"
   ]
  },
  {
   "cell_type": "code",
   "execution_count": 110,
   "metadata": {},
   "outputs": [
    {
     "name": "stderr",
     "output_type": "stream",
     "text": [
      "/opt/conda/lib/python3.9/site-packages/deprecat/classic.py:215: FutureWarning: In v4.0, pm.sample will return an `arviz.InferenceData` object instead of a `MultiTrace` by default. You can pass return_inferencedata=True or return_inferencedata=False to be safe and silence this warning.\n",
      "  return wrapped_(*args_, **kwargs_)\n",
      "Auto-assigning NUTS sampler...\n",
      "Initializing NUTS using jitter+adapt_diag...\n",
      "Multiprocess sampling (4 chains in 4 jobs)\n",
      "NUTS: [σ, beta, alpha]\n"
     ]
    },
    {
     "data": {
      "text/html": [
       "\n",
       "<style>\n",
       "    /* Turns off some styling */\n",
       "    progress {\n",
       "        /* gets rid of default border in Firefox and Opera. */\n",
       "        border: none;\n",
       "        /* Needs to be in here for Safari polyfill so background images work as expected. */\n",
       "        background-size: auto;\n",
       "    }\n",
       "    .progress-bar-interrupted, .progress-bar-interrupted::-webkit-progress-bar {\n",
       "        background: #F44336;\n",
       "    }\n",
       "</style>\n"
      ],
      "text/plain": [
       "<IPython.core.display.HTML object>"
      ]
     },
     "metadata": {},
     "output_type": "display_data"
    },
    {
     "data": {
      "text/html": [
       "\n",
       "    <div>\n",
       "      <progress value='8000' class='' max='8000' style='width:300px; height:20px; vertical-align: middle;'></progress>\n",
       "      100.00% [8000/8000 00:09<00:00 Sampling 4 chains, 141 divergences]\n",
       "    </div>\n",
       "    "
      ],
      "text/plain": [
       "<IPython.core.display.HTML object>"
      ]
     },
     "metadata": {},
     "output_type": "display_data"
    },
    {
     "name": "stderr",
     "output_type": "stream",
     "text": [
      "Sampling 4 chains for 1_000 tune and 1_000 draw iterations (4_000 + 4_000 draws total) took 10 seconds.\n",
      "There were 98 divergences after tuning. Increase `target_accept` or reparameterize.\n",
      "There were 2 divergences after tuning. Increase `target_accept` or reparameterize.\n",
      "There were 41 divergences after tuning. Increase `target_accept` or reparameterize.\n",
      "The acceptance probability does not match the target. It is 0.8789954411303335, but should be close to 0.8. Try to increase the number of tuning steps.\n",
      "The number of effective samples is smaller than 10% for some parameters.\n"
     ]
    }
   ],
   "source": [
    "from autoimpute.imputations import SingleImputer\n",
    "demo_df = mar_df[0:100].copy()\n",
    "imputer=SingleImputer('pmm')\n",
    "imputations = imputer.fit_transform(demo_df)\n"
   ]
  },
  {
   "cell_type": "code",
   "execution_count": 112,
   "metadata": {},
   "outputs": [
    {
     "data": {
      "text/html": [
       "<div>\n",
       "<style scoped>\n",
       "    .dataframe tbody tr th:only-of-type {\n",
       "        vertical-align: middle;\n",
       "    }\n",
       "\n",
       "    .dataframe tbody tr th {\n",
       "        vertical-align: top;\n",
       "    }\n",
       "\n",
       "    .dataframe thead th {\n",
       "        text-align: right;\n",
       "    }\n",
       "</style>\n",
       "<table border=\"1\" class=\"dataframe\">\n",
       "  <thead>\n",
       "    <tr style=\"text-align: right;\">\n",
       "      <th></th>\n",
       "      <th>feature a</th>\n",
       "      <th>feature b</th>\n",
       "      <th>feature c</th>\n",
       "      <th>feature d</th>\n",
       "      <th>uncorrelated</th>\n",
       "    </tr>\n",
       "  </thead>\n",
       "  <tbody>\n",
       "    <tr>\n",
       "      <th>0</th>\n",
       "      <td>1.517509</td>\n",
       "      <td>4.229258</td>\n",
       "      <td>2.052726</td>\n",
       "      <td>0.153278</td>\n",
       "      <td>0.014975</td>\n",
       "    </tr>\n",
       "    <tr>\n",
       "      <th>1</th>\n",
       "      <td>2.536323</td>\n",
       "      <td>4.295391</td>\n",
       "      <td>2.104137</td>\n",
       "      <td>1.348000</td>\n",
       "      <td>0.998701</td>\n",
       "    </tr>\n",
       "    <tr>\n",
       "      <th>2</th>\n",
       "      <td>4.043034</td>\n",
       "      <td>5.872276</td>\n",
       "      <td>3.559629</td>\n",
       "      <td>3.274061</td>\n",
       "      <td>0.403823</td>\n",
       "    </tr>\n",
       "    <tr>\n",
       "      <th>3</th>\n",
       "      <td>0.082752</td>\n",
       "      <td>3.761743</td>\n",
       "      <td>-0.440590</td>\n",
       "      <td>1.031832</td>\n",
       "      <td>0.281023</td>\n",
       "    </tr>\n",
       "    <tr>\n",
       "      <th>4</th>\n",
       "      <td>0.196684</td>\n",
       "      <td>3.793343</td>\n",
       "      <td>1.016462</td>\n",
       "      <td>-0.667764</td>\n",
       "      <td>0.165431</td>\n",
       "    </tr>\n",
       "    <tr>\n",
       "      <th>5</th>\n",
       "      <td>2.560068</td>\n",
       "      <td>4.446726</td>\n",
       "      <td>2.420763</td>\n",
       "      <td>0.973363</td>\n",
       "      <td>0.166179</td>\n",
       "    </tr>\n",
       "    <tr>\n",
       "      <th>6</th>\n",
       "      <td>4.027199</td>\n",
       "      <td>5.079975</td>\n",
       "      <td>4.582185</td>\n",
       "      <td>0.876607</td>\n",
       "      <td>0.420479</td>\n",
       "    </tr>\n",
       "    <tr>\n",
       "      <th>7</th>\n",
       "      <td>2.754742</td>\n",
       "      <td>5.339294</td>\n",
       "      <td>3.138633</td>\n",
       "      <td>1.611132</td>\n",
       "      <td>0.229141</td>\n",
       "    </tr>\n",
       "    <tr>\n",
       "      <th>8</th>\n",
       "      <td>2.743726</td>\n",
       "      <td>4.506330</td>\n",
       "      <td>2.620240</td>\n",
       "      <td>1.362915</td>\n",
       "      <td>0.011719</td>\n",
       "    </tr>\n",
       "    <tr>\n",
       "      <th>9</th>\n",
       "      <td>-0.180238</td>\n",
       "      <td>3.148906</td>\n",
       "      <td>0.280848</td>\n",
       "      <td>-0.741796</td>\n",
       "      <td>0.104471</td>\n",
       "    </tr>\n",
       "  </tbody>\n",
       "</table>\n",
       "</div>"
      ],
      "text/plain": [
       "   feature a  feature b  feature c  feature d  uncorrelated\n",
       "0   1.517509   4.229258   2.052726   0.153278      0.014975\n",
       "1   2.536323   4.295391   2.104137   1.348000      0.998701\n",
       "2   4.043034   5.872276   3.559629   3.274061      0.403823\n",
       "3   0.082752   3.761743  -0.440590   1.031832      0.281023\n",
       "4   0.196684   3.793343   1.016462  -0.667764      0.165431\n",
       "5   2.560068   4.446726   2.420763   0.973363      0.166179\n",
       "6   4.027199   5.079975   4.582185   0.876607      0.420479\n",
       "7   2.754742   5.339294   3.138633   1.611132      0.229141\n",
       "8   2.743726   4.506330   2.620240   1.362915      0.011719\n",
       "9  -0.180238   3.148906   0.280848  -0.741796      0.104471"
      ]
     },
     "execution_count": 112,
     "metadata": {},
     "output_type": "execute_result"
    }
   ],
   "source": [
    "imputations.head(10)"
   ]
  },
  {
   "cell_type": "markdown",
   "metadata": {
    "id": "D13nfWuLsk-u"
   },
   "source": [
    "\n",
    "## $\\color{purple}{\\text{Categorical Variables}}$\n",
    "\n",
    "Logistic Regression"
   ]
  },
  {
   "cell_type": "markdown",
   "metadata": {
    "id": "K0qX6ujfsw13"
   },
   "source": [
    "## $\\color{purple}{\\text{Hot Deck Imputation}}$"
   ]
  },
  {
   "cell_type": "markdown",
   "metadata": {
    "id": "TSrPnFAvs1Mw"
   },
   "source": [
    "## $\\color{purple}{\\text{Predictive Mean Matching}}$"
   ]
  },
  {
   "cell_type": "markdown",
   "metadata": {
    "id": "p10VFs81Y21_"
   },
   "source": [
    "## $\\color{purple}{\\text{Advanced Imputation Techniques: multivariate imputation by chained equations (MICE)}}$"
   ]
  },
  {
   "cell_type": "code",
   "execution_count": null,
   "metadata": {
    "id": "4EY6qUH3oElL"
   },
   "outputs": [],
   "source": [
    "nar"
   ]
  },
  {
   "cell_type": "markdown",
   "metadata": {
    "id": "5DRKuaocr9ja"
   },
   "source": [
    "## $\\color{purple}{\\text{Advanced Imputation Techniques: Multiple Imputation}}$"
   ]
  },
  {
   "cell_type": "markdown",
   "metadata": {
    "id": "TYqrG3gMmAjw"
   },
   "source": [
    "Hot Desk Imputation"
   ]
  },
  {
   "cell_type": "markdown",
   "metadata": {
    "id": "KvGX22vBs4AH"
   },
   "source": []
  },
  {
   "cell_type": "markdown",
   "metadata": {
    "id": "syLdBFERmFUZ"
   },
   "source": [
    "Regression Imputation"
   ]
  },
  {
   "cell_type": "markdown",
   "metadata": {
    "id": "PyYEvS-knDhx"
   },
   "source": [
    "Multiple Imputation"
   ]
  },
  {
   "cell_type": "markdown",
   "metadata": {
    "id": "8MkREaCdmWXJ"
   },
   "source": [
    "MICE"
   ]
  },
  {
   "cell_type": "code",
   "execution_count": 132,
   "metadata": {
    "colab": {
     "base_uri": "https://localhost:8080/",
     "height": 165
    },
    "executionInfo": {
     "elapsed": 336,
     "status": "error",
     "timestamp": 1653069148759,
     "user": {
      "displayName": "Haw-minn Lu",
      "userId": "16109571175851064283"
     },
     "user_tz": 420
    },
    "id": "o_H45smZmIfg",
    "outputId": "234074cd-b732-4689-84c8-f1c206c980ff"
   },
   "outputs": [],
   "source": [
    "from autoimpute.imputations import MultipleImputer\n",
    "imputer=MultipleImputer(strategy='stochastic')\n",
    "imputations = imputer.fit_transform(mar_df)"
   ]
  },
  {
   "cell_type": "code",
   "execution_count": 133,
   "metadata": {
    "id": "JRwJZtc7mVjK"
   },
   "outputs": [],
   "source": [
    "lists=list(imputations)"
   ]
  },
  {
   "cell_type": "code",
   "execution_count": 137,
   "metadata": {},
   "outputs": [
    {
     "data": {
      "text/html": [
       "<div>\n",
       "<style scoped>\n",
       "    .dataframe tbody tr th:only-of-type {\n",
       "        vertical-align: middle;\n",
       "    }\n",
       "\n",
       "    .dataframe tbody tr th {\n",
       "        vertical-align: top;\n",
       "    }\n",
       "\n",
       "    .dataframe thead th {\n",
       "        text-align: right;\n",
       "    }\n",
       "</style>\n",
       "<table border=\"1\" class=\"dataframe\">\n",
       "  <thead>\n",
       "    <tr style=\"text-align: right;\">\n",
       "      <th></th>\n",
       "      <th>feature a</th>\n",
       "      <th>feature b</th>\n",
       "      <th>feature c</th>\n",
       "      <th>feature d</th>\n",
       "      <th>uncorrelated</th>\n",
       "    </tr>\n",
       "  </thead>\n",
       "  <tbody>\n",
       "    <tr>\n",
       "      <th>0</th>\n",
       "      <td>1.517509</td>\n",
       "      <td>4.229258</td>\n",
       "      <td>2.052726</td>\n",
       "      <td>0.153278</td>\n",
       "      <td>0.014975</td>\n",
       "    </tr>\n",
       "    <tr>\n",
       "      <th>1</th>\n",
       "      <td>2.536323</td>\n",
       "      <td>4.295391</td>\n",
       "      <td>2.104137</td>\n",
       "      <td>1.348000</td>\n",
       "      <td>0.998701</td>\n",
       "    </tr>\n",
       "    <tr>\n",
       "      <th>2</th>\n",
       "      <td>4.043034</td>\n",
       "      <td>5.872276</td>\n",
       "      <td>3.559629</td>\n",
       "      <td>3.274061</td>\n",
       "      <td>0.403823</td>\n",
       "    </tr>\n",
       "    <tr>\n",
       "      <th>3</th>\n",
       "      <td>0.082752</td>\n",
       "      <td>3.761743</td>\n",
       "      <td>-0.440590</td>\n",
       "      <td>1.031832</td>\n",
       "      <td>0.281023</td>\n",
       "    </tr>\n",
       "    <tr>\n",
       "      <th>4</th>\n",
       "      <td>0.196684</td>\n",
       "      <td>3.793343</td>\n",
       "      <td>1.016462</td>\n",
       "      <td>-0.667764</td>\n",
       "      <td>0.165431</td>\n",
       "    </tr>\n",
       "    <tr>\n",
       "      <th>5</th>\n",
       "      <td>2.560068</td>\n",
       "      <td>4.446726</td>\n",
       "      <td>2.420763</td>\n",
       "      <td>0.973363</td>\n",
       "      <td>0.166179</td>\n",
       "    </tr>\n",
       "    <tr>\n",
       "      <th>6</th>\n",
       "      <td>4.027199</td>\n",
       "      <td>5.079975</td>\n",
       "      <td>4.582185</td>\n",
       "      <td>0.876607</td>\n",
       "      <td>0.420479</td>\n",
       "    </tr>\n",
       "    <tr>\n",
       "      <th>7</th>\n",
       "      <td>2.953229</td>\n",
       "      <td>5.339294</td>\n",
       "      <td>3.138633</td>\n",
       "      <td>1.611132</td>\n",
       "      <td>0.229141</td>\n",
       "    </tr>\n",
       "    <tr>\n",
       "      <th>8</th>\n",
       "      <td>2.743726</td>\n",
       "      <td>4.506330</td>\n",
       "      <td>2.620240</td>\n",
       "      <td>1.362915</td>\n",
       "      <td>0.011719</td>\n",
       "    </tr>\n",
       "    <tr>\n",
       "      <th>9</th>\n",
       "      <td>-0.180238</td>\n",
       "      <td>3.148906</td>\n",
       "      <td>0.280848</td>\n",
       "      <td>-0.741796</td>\n",
       "      <td>0.104471</td>\n",
       "    </tr>\n",
       "  </tbody>\n",
       "</table>\n",
       "</div>"
      ],
      "text/plain": [
       "   feature a  feature b  feature c  feature d  uncorrelated\n",
       "0   1.517509   4.229258   2.052726   0.153278      0.014975\n",
       "1   2.536323   4.295391   2.104137   1.348000      0.998701\n",
       "2   4.043034   5.872276   3.559629   3.274061      0.403823\n",
       "3   0.082752   3.761743  -0.440590   1.031832      0.281023\n",
       "4   0.196684   3.793343   1.016462  -0.667764      0.165431\n",
       "5   2.560068   4.446726   2.420763   0.973363      0.166179\n",
       "6   4.027199   5.079975   4.582185   0.876607      0.420479\n",
       "7   2.953229   5.339294   3.138633   1.611132      0.229141\n",
       "8   2.743726   4.506330   2.620240   1.362915      0.011719\n",
       "9  -0.180238   3.148906   0.280848  -0.741796      0.104471"
      ]
     },
     "execution_count": 137,
     "metadata": {},
     "output_type": "execute_result"
    }
   ],
   "source": [
    "lists[0][1].head(10)"
   ]
  },
  {
   "cell_type": "code",
   "execution_count": 138,
   "metadata": {},
   "outputs": [
    {
     "data": {
      "text/html": [
       "<div>\n",
       "<style scoped>\n",
       "    .dataframe tbody tr th:only-of-type {\n",
       "        vertical-align: middle;\n",
       "    }\n",
       "\n",
       "    .dataframe tbody tr th {\n",
       "        vertical-align: top;\n",
       "    }\n",
       "\n",
       "    .dataframe thead th {\n",
       "        text-align: right;\n",
       "    }\n",
       "</style>\n",
       "<table border=\"1\" class=\"dataframe\">\n",
       "  <thead>\n",
       "    <tr style=\"text-align: right;\">\n",
       "      <th></th>\n",
       "      <th>feature a</th>\n",
       "      <th>feature b</th>\n",
       "      <th>feature c</th>\n",
       "      <th>feature d</th>\n",
       "      <th>uncorrelated</th>\n",
       "    </tr>\n",
       "  </thead>\n",
       "  <tbody>\n",
       "    <tr>\n",
       "      <th>0</th>\n",
       "      <td>1.517509</td>\n",
       "      <td>4.229258</td>\n",
       "      <td>2.052726</td>\n",
       "      <td>0.153278</td>\n",
       "      <td>0.014975</td>\n",
       "    </tr>\n",
       "    <tr>\n",
       "      <th>1</th>\n",
       "      <td>2.536323</td>\n",
       "      <td>4.295391</td>\n",
       "      <td>2.104137</td>\n",
       "      <td>1.348000</td>\n",
       "      <td>0.998701</td>\n",
       "    </tr>\n",
       "    <tr>\n",
       "      <th>2</th>\n",
       "      <td>4.043034</td>\n",
       "      <td>5.872276</td>\n",
       "      <td>3.559629</td>\n",
       "      <td>3.274061</td>\n",
       "      <td>0.403823</td>\n",
       "    </tr>\n",
       "    <tr>\n",
       "      <th>3</th>\n",
       "      <td>0.082752</td>\n",
       "      <td>3.761743</td>\n",
       "      <td>-0.440590</td>\n",
       "      <td>1.031832</td>\n",
       "      <td>0.281023</td>\n",
       "    </tr>\n",
       "    <tr>\n",
       "      <th>4</th>\n",
       "      <td>0.196684</td>\n",
       "      <td>3.793343</td>\n",
       "      <td>1.016462</td>\n",
       "      <td>-0.667764</td>\n",
       "      <td>0.165431</td>\n",
       "    </tr>\n",
       "    <tr>\n",
       "      <th>5</th>\n",
       "      <td>2.560068</td>\n",
       "      <td>4.446726</td>\n",
       "      <td>2.420763</td>\n",
       "      <td>0.973363</td>\n",
       "      <td>0.166179</td>\n",
       "    </tr>\n",
       "    <tr>\n",
       "      <th>6</th>\n",
       "      <td>4.027199</td>\n",
       "      <td>5.079975</td>\n",
       "      <td>4.582185</td>\n",
       "      <td>0.876607</td>\n",
       "      <td>0.420479</td>\n",
       "    </tr>\n",
       "    <tr>\n",
       "      <th>7</th>\n",
       "      <td>2.976430</td>\n",
       "      <td>5.339294</td>\n",
       "      <td>3.138633</td>\n",
       "      <td>1.611132</td>\n",
       "      <td>0.229141</td>\n",
       "    </tr>\n",
       "    <tr>\n",
       "      <th>8</th>\n",
       "      <td>2.743726</td>\n",
       "      <td>4.506330</td>\n",
       "      <td>2.620240</td>\n",
       "      <td>1.362915</td>\n",
       "      <td>0.011719</td>\n",
       "    </tr>\n",
       "    <tr>\n",
       "      <th>9</th>\n",
       "      <td>-0.180238</td>\n",
       "      <td>3.148906</td>\n",
       "      <td>0.280848</td>\n",
       "      <td>-0.741796</td>\n",
       "      <td>0.104471</td>\n",
       "    </tr>\n",
       "  </tbody>\n",
       "</table>\n",
       "</div>"
      ],
      "text/plain": [
       "   feature a  feature b  feature c  feature d  uncorrelated\n",
       "0   1.517509   4.229258   2.052726   0.153278      0.014975\n",
       "1   2.536323   4.295391   2.104137   1.348000      0.998701\n",
       "2   4.043034   5.872276   3.559629   3.274061      0.403823\n",
       "3   0.082752   3.761743  -0.440590   1.031832      0.281023\n",
       "4   0.196684   3.793343   1.016462  -0.667764      0.165431\n",
       "5   2.560068   4.446726   2.420763   0.973363      0.166179\n",
       "6   4.027199   5.079975   4.582185   0.876607      0.420479\n",
       "7   2.976430   5.339294   3.138633   1.611132      0.229141\n",
       "8   2.743726   4.506330   2.620240   1.362915      0.011719\n",
       "9  -0.180238   3.148906   0.280848  -0.741796      0.104471"
      ]
     },
     "execution_count": 138,
     "metadata": {},
     "output_type": "execute_result"
    }
   ],
   "source": [
    "lists[1][1].head(10)"
   ]
  },
  {
   "cell_type": "code",
   "execution_count": 141,
   "metadata": {},
   "outputs": [
    {
     "data": {
      "text/plain": [
       "[2.9532294619521022,\n",
       " 2.9764296840936324,\n",
       " 2.852605077672565,\n",
       " 2.772903467827853,\n",
       " 2.8978580843592163]"
      ]
     },
     "execution_count": 141,
     "metadata": {},
     "output_type": "execute_result"
    }
   ],
   "source": [
    "[each[1].iloc[7]['feature a'] for each in lists]"
   ]
  },
  {
   "cell_type": "code",
   "execution_count": 142,
   "metadata": {},
   "outputs": [
    {
     "data": {
      "text/plain": [
       "[4.027199122849932,\n",
       " 4.027199122849932,\n",
       " 4.027199122849932,\n",
       " 4.027199122849932,\n",
       " 4.027199122849932]"
      ]
     },
     "execution_count": 142,
     "metadata": {},
     "output_type": "execute_result"
    }
   ],
   "source": [
    "[each[1].iloc[6]['feature a'] for each in lists]"
   ]
  },
  {
   "cell_type": "code",
   "execution_count": null,
   "metadata": {},
   "outputs": [],
   "source": []
  }
 ],
 "metadata": {
  "colab": {
   "authorship_tag": "ABX9TyOzI6saudMRGj5Q9rKp9Mrq",
   "collapsed_sections": [],
   "name": "4 - Imputation Techniques.ipynb",
   "provenance": []
  },
  "kernelspec": {
   "display_name": "Python 3 (ipykernel)",
   "language": "python",
   "name": "python3"
  },
  "language_info": {
   "codemirror_mode": {
    "name": "ipython",
    "version": 3
   },
   "file_extension": ".py",
   "mimetype": "text/x-python",
   "name": "python",
   "nbconvert_exporter": "python",
   "pygments_lexer": "ipython3",
   "version": "3.9.7"
  }
 },
 "nbformat": 4,
 "nbformat_minor": 1
}
