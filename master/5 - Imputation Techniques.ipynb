{
 "cells": [
  {
   "cell_type": "markdown",
   "metadata": {
    "id": "XGJmuVrOrepP"
   },
   "source": [
    "# $\\color{purple}{\\text{Understanding Missing Data and How to Deal with It (Part 5)}}$\n",
    "\n",
    "## $\\color{purple}{\\text{Advanced Imputation Techniques}}$"
   ]
  },
  {
   "cell_type": "markdown",
   "metadata": {
    "tags": [
     "colab"
    ]
   },
   "source": [
    "### $\\color{purple}{\\text{Colab Environmental Setup}}$"
   ]
  },
  {
   "cell_type": "raw",
   "metadata": {
    "tags": [
     "colab"
    ]
   },
   "source": [
    "from google.colab import drive\n",
    "import os\n",
    "drive.mount('/content/drive')\n",
    "os.chdir('/content/drive/My Drive/missingness_tutorial')"
   ]
  },
  {
   "cell_type": "markdown",
   "metadata": {},
   "source": [
    "### $\\color{purple}{\\text{Libraries for this lesson}}$"
   ]
  },
  {
   "cell_type": "code",
   "execution_count": 46,
   "metadata": {},
   "outputs": [],
   "source": [
    "import pandas as pd\n",
    "import numpy as np\n",
    "from helpers import stat_comparison\n",
    "from sklearn.ensemble import RandomForestClassifier\n",
    "from sklearn.linear_model import LinearRegression\n",
    "\n",
    "from autoimpute.imputations import SingleImputer\n",
    "from autoimpute.imputations import MultipleImputer\n",
    "from autoimpute.imputations import MiceImputer"
   ]
  },
  {
   "cell_type": "markdown",
   "metadata": {},
   "source": [
    "## $\\color{purple}{\\text{Multivariate Imputation}}$"
   ]
  },
  {
   "cell_type": "markdown",
   "metadata": {
    "id": "l-lI2daBFGxl"
   },
   "source": [
    "## $\\color{purple}{\\text{Regression Imputation}}$\n",
    "\n",
    "General Technique:\n",
    "Use Regression/Classification Models to Imputer Numeric/Categorical Missing Values\n",
    "* Linear Regression\n",
    "* Stocastic Linear Regression\n",
    "* Logistic Regression\n",
    "* Other Possibilities Generally unexplored\n",
    "  * Random Forest\n",
    "  * Decision Trees\n",
    "  * KNN"
   ]
  },
  {
   "cell_type": "code",
   "execution_count": 47,
   "metadata": {
    "colab": {
     "base_uri": "https://localhost:8080/",
     "height": 450
    },
    "executionInfo": {
     "elapsed": 20431,
     "status": "ok",
     "timestamp": 1654721415225,
     "user": {
      "displayName": "Haw-minn Lu",
      "userId": "16109571175851064283"
     },
     "user_tz": 420
    },
    "id": "e7N2XN4NFG-d",
    "outputId": "6103427b-15a2-4d9f-9d57-579328cc0633"
   },
   "outputs": [
    {
     "data": {
      "text/html": [
       "<div>\n",
       "<style scoped>\n",
       "    .dataframe tbody tr th:only-of-type {\n",
       "        vertical-align: middle;\n",
       "    }\n",
       "\n",
       "    .dataframe tbody tr th {\n",
       "        vertical-align: top;\n",
       "    }\n",
       "\n",
       "    .dataframe thead th {\n",
       "        text-align: right;\n",
       "    }\n",
       "</style>\n",
       "<table border=\"1\" class=\"dataframe\">\n",
       "  <thead>\n",
       "    <tr style=\"text-align: right;\">\n",
       "      <th></th>\n",
       "      <th>feature a</th>\n",
       "      <th>feature b</th>\n",
       "      <th>feature c</th>\n",
       "      <th>feature d</th>\n",
       "      <th>uncorrelated</th>\n",
       "    </tr>\n",
       "  </thead>\n",
       "  <tbody>\n",
       "    <tr>\n",
       "      <th>0</th>\n",
       "      <td>1.517509</td>\n",
       "      <td>4.229258</td>\n",
       "      <td>2.052726</td>\n",
       "      <td>0.153278</td>\n",
       "      <td>0.014975</td>\n",
       "    </tr>\n",
       "    <tr>\n",
       "      <th>1</th>\n",
       "      <td>2.536323</td>\n",
       "      <td>4.295391</td>\n",
       "      <td>2.104137</td>\n",
       "      <td>1.348000</td>\n",
       "      <td>0.998701</td>\n",
       "    </tr>\n",
       "    <tr>\n",
       "      <th>2</th>\n",
       "      <td>4.043034</td>\n",
       "      <td>5.872276</td>\n",
       "      <td>3.559629</td>\n",
       "      <td>3.274061</td>\n",
       "      <td>0.403823</td>\n",
       "    </tr>\n",
       "    <tr>\n",
       "      <th>3</th>\n",
       "      <td>0.082752</td>\n",
       "      <td>3.761743</td>\n",
       "      <td>-0.440590</td>\n",
       "      <td>1.031832</td>\n",
       "      <td>0.281023</td>\n",
       "    </tr>\n",
       "    <tr>\n",
       "      <th>4</th>\n",
       "      <td>0.196684</td>\n",
       "      <td>3.793343</td>\n",
       "      <td>1.016462</td>\n",
       "      <td>-0.667764</td>\n",
       "      <td>0.165431</td>\n",
       "    </tr>\n",
       "    <tr>\n",
       "      <th>...</th>\n",
       "      <td>...</td>\n",
       "      <td>...</td>\n",
       "      <td>...</td>\n",
       "      <td>...</td>\n",
       "      <td>...</td>\n",
       "    </tr>\n",
       "    <tr>\n",
       "      <th>19995</th>\n",
       "      <td>2.090202</td>\n",
       "      <td>4.966018</td>\n",
       "      <td>1.973792</td>\n",
       "      <td>1.470606</td>\n",
       "      <td>0.666985</td>\n",
       "    </tr>\n",
       "    <tr>\n",
       "      <th>19996</th>\n",
       "      <td>NaN</td>\n",
       "      <td>4.593494</td>\n",
       "      <td>3.159423</td>\n",
       "      <td>1.212630</td>\n",
       "      <td>0.867025</td>\n",
       "    </tr>\n",
       "    <tr>\n",
       "      <th>19997</th>\n",
       "      <td>3.704028</td>\n",
       "      <td>4.852749</td>\n",
       "      <td>3.738618</td>\n",
       "      <td>1.153456</td>\n",
       "      <td>0.492664</td>\n",
       "    </tr>\n",
       "    <tr>\n",
       "      <th>19998</th>\n",
       "      <td>NaN</td>\n",
       "      <td>5.034845</td>\n",
       "      <td>4.243867</td>\n",
       "      <td>1.640312</td>\n",
       "      <td>0.269926</td>\n",
       "    </tr>\n",
       "    <tr>\n",
       "      <th>19999</th>\n",
       "      <td>2.349700</td>\n",
       "      <td>4.780939</td>\n",
       "      <td>2.928363</td>\n",
       "      <td>0.729965</td>\n",
       "      <td>0.692626</td>\n",
       "    </tr>\n",
       "  </tbody>\n",
       "</table>\n",
       "<p>20000 rows × 5 columns</p>\n",
       "</div>"
      ],
      "text/plain": [
       "       feature a  feature b  feature c  feature d  uncorrelated\n",
       "0       1.517509   4.229258   2.052726   0.153278      0.014975\n",
       "1       2.536323   4.295391   2.104137   1.348000      0.998701\n",
       "2       4.043034   5.872276   3.559629   3.274061      0.403823\n",
       "3       0.082752   3.761743  -0.440590   1.031832      0.281023\n",
       "4       0.196684   3.793343   1.016462  -0.667764      0.165431\n",
       "...          ...        ...        ...        ...           ...\n",
       "19995   2.090202   4.966018   1.973792   1.470606      0.666985\n",
       "19996        NaN   4.593494   3.159423   1.212630      0.867025\n",
       "19997   3.704028   4.852749   3.738618   1.153456      0.492664\n",
       "19998        NaN   5.034845   4.243867   1.640312      0.269926\n",
       "19999   2.349700   4.780939   2.928363   0.729965      0.692626\n",
       "\n",
       "[20000 rows x 5 columns]"
      ]
     },
     "execution_count": 47,
     "metadata": {},
     "output_type": "execute_result"
    }
   ],
   "source": [
    "df = pd.read_csv('data/full_set.csv')\n",
    "mcar_df = pd.read_csv('data/mcar_set.csv')\n",
    "mcar_df\n",
    "mar_df = pd.read_csv('data/mar_set.csv')\n",
    "mar_df\n"
   ]
  },
  {
   "cell_type": "markdown",
   "metadata": {
    "id": "GJb5m9e_l9v6"
   },
   "source": [
    "Regression Imputation"
   ]
  },
  {
   "cell_type": "markdown",
   "metadata": {
    "id": "NGTqexiQMgmM"
   },
   "source": [
    "### $\\color{purple}{\\text{Libear Regression}}$"
   ]
  },
  {
   "cell_type": "code",
   "execution_count": 48,
   "metadata": {
    "id": "KSE9PBfSoF3c"
   },
   "outputs": [],
   "source": [
    "linear_regressor = LinearRegression()"
   ]
  },
  {
   "cell_type": "code",
   "execution_count": 49,
   "metadata": {},
   "outputs": [],
   "source": [
    "rest = ['feature b', 'feature c', 'feature d', 'uncorrelated']\n",
    "full_data = mar_df.dropna()\n",
    "linear_regressor.fit(full_data[rest], full_data['feature a'])\n",
    "impute = linear_regressor.predict(mar_df[rest])\n"
   ]
  },
  {
   "cell_type": "code",
   "execution_count": 50,
   "metadata": {},
   "outputs": [],
   "source": [
    "imputed=mar_df.assign(**{'feature a': mar_df['feature a'].where(~mar_df['feature a'].isnull(), impute)})"
   ]
  },
  {
   "cell_type": "code",
   "execution_count": 51,
   "metadata": {},
   "outputs": [
    {
     "data": {
      "text/html": [
       "<div>\n",
       "<style scoped>\n",
       "    .dataframe tbody tr th:only-of-type {\n",
       "        vertical-align: middle;\n",
       "    }\n",
       "\n",
       "    .dataframe tbody tr th {\n",
       "        vertical-align: top;\n",
       "    }\n",
       "\n",
       "    .dataframe thead th {\n",
       "        text-align: right;\n",
       "    }\n",
       "</style>\n",
       "<table border=\"1\" class=\"dataframe\">\n",
       "  <thead>\n",
       "    <tr style=\"text-align: right;\">\n",
       "      <th></th>\n",
       "      <th>Original</th>\n",
       "      <th>With Missing Data</th>\n",
       "      <th>difference</th>\n",
       "      <th>percentage</th>\n",
       "    </tr>\n",
       "  </thead>\n",
       "  <tbody>\n",
       "    <tr>\n",
       "      <th>mean</th>\n",
       "      <td>2.367217</td>\n",
       "      <td>2.367493</td>\n",
       "      <td>0.000276</td>\n",
       "      <td>0.011674</td>\n",
       "    </tr>\n",
       "    <tr>\n",
       "      <th>median</th>\n",
       "      <td>2.380412</td>\n",
       "      <td>2.384461</td>\n",
       "      <td>0.004049</td>\n",
       "      <td>0.170097</td>\n",
       "    </tr>\n",
       "    <tr>\n",
       "      <th>stdev</th>\n",
       "      <td>1.280482</td>\n",
       "      <td>1.278774</td>\n",
       "      <td>0.001708</td>\n",
       "      <td>0.133419</td>\n",
       "    </tr>\n",
       "  </tbody>\n",
       "</table>\n",
       "</div>"
      ],
      "text/plain": [
       "        Original  With Missing Data  difference  percentage\n",
       "mean    2.367217           2.367493    0.000276    0.011674\n",
       "median  2.380412           2.384461    0.004049    0.170097\n",
       "stdev   1.280482           1.278774    0.001708    0.133419"
      ]
     },
     "execution_count": 51,
     "metadata": {},
     "output_type": "execute_result"
    }
   ],
   "source": [
    "stat_comparison(df, imputed, 'feature a')"
   ]
  },
  {
   "cell_type": "markdown",
   "metadata": {},
   "source": [
    "### $\\color{purple}{\\text{Stochastic Regression}}$"
   ]
  },
  {
   "cell_type": "code",
   "execution_count": 52,
   "metadata": {},
   "outputs": [
    {
     "data": {
      "text/plain": [
       "0.15480550226374812"
      ]
     },
     "execution_count": 52,
     "metadata": {},
     "output_type": "execute_result"
    }
   ],
   "source": [
    "residual = mar_df['feature a'] - impute\n",
    "residual.mean()\n",
    "residual.std()"
   ]
  },
  {
   "cell_type": "code",
   "execution_count": 54,
   "metadata": {},
   "outputs": [],
   "source": [
    "residual_noise=np.random.normal(residual.mean(), residual.std(), 20000)\n",
    "impute+=residual_noise"
   ]
  },
  {
   "cell_type": "code",
   "execution_count": 55,
   "metadata": {},
   "outputs": [],
   "source": [
    "imputed=mar_df.assign(**{'feature a': mar_df['feature a'].where(~mar_df['feature a'].isnull(), impute)})"
   ]
  },
  {
   "cell_type": "code",
   "execution_count": 56,
   "metadata": {},
   "outputs": [
    {
     "data": {
      "text/html": [
       "<div>\n",
       "<style scoped>\n",
       "    .dataframe tbody tr th:only-of-type {\n",
       "        vertical-align: middle;\n",
       "    }\n",
       "\n",
       "    .dataframe tbody tr th {\n",
       "        vertical-align: top;\n",
       "    }\n",
       "\n",
       "    .dataframe thead th {\n",
       "        text-align: right;\n",
       "    }\n",
       "</style>\n",
       "<table border=\"1\" class=\"dataframe\">\n",
       "  <thead>\n",
       "    <tr style=\"text-align: right;\">\n",
       "      <th></th>\n",
       "      <th>Original</th>\n",
       "      <th>With Missing Data</th>\n",
       "      <th>difference</th>\n",
       "      <th>percentage</th>\n",
       "    </tr>\n",
       "  </thead>\n",
       "  <tbody>\n",
       "    <tr>\n",
       "      <th>mean</th>\n",
       "      <td>2.367217</td>\n",
       "      <td>2.366905</td>\n",
       "      <td>0.000312</td>\n",
       "      <td>0.013167</td>\n",
       "    </tr>\n",
       "    <tr>\n",
       "      <th>median</th>\n",
       "      <td>2.380412</td>\n",
       "      <td>2.380144</td>\n",
       "      <td>0.000268</td>\n",
       "      <td>0.011246</td>\n",
       "    </tr>\n",
       "    <tr>\n",
       "      <th>stdev</th>\n",
       "      <td>1.280482</td>\n",
       "      <td>1.280378</td>\n",
       "      <td>0.000104</td>\n",
       "      <td>0.008149</td>\n",
       "    </tr>\n",
       "  </tbody>\n",
       "</table>\n",
       "</div>"
      ],
      "text/plain": [
       "        Original  With Missing Data  difference  percentage\n",
       "mean    2.367217           2.366905    0.000312    0.013167\n",
       "median  2.380412           2.380144    0.000268    0.011246\n",
       "stdev   1.280482           1.280378    0.000104    0.008149"
      ]
     },
     "execution_count": 56,
     "metadata": {},
     "output_type": "execute_result"
    }
   ],
   "source": [
    "stat_comparison(df, imputed, 'feature a')"
   ]
  },
  {
   "cell_type": "code",
   "execution_count": 10,
   "metadata": {},
   "outputs": [],
   "source": [
    "imputer=SingleImputer('least squares')\n",
    "imputations = imputer.fit_transform(mar_df)"
   ]
  },
  {
   "cell_type": "code",
   "execution_count": 11,
   "metadata": {},
   "outputs": [],
   "source": [
    "from autoimpute.imputations import SingleImputer\n",
    "imputer=SingleImputer('stochastic')\n",
    "imputations = imputer.fit_transform(mar_df)"
   ]
  },
  {
   "cell_type": "markdown",
   "metadata": {
    "id": "fA-u2Tz8sa-8"
   },
   "source": [
    "## $\\color{purple}{\\text{Hot Deck Imputation}}$\n",
    "\n",
    "General Idea is to randomly sample imputed values from remaining good values."
   ]
  },
  {
   "cell_type": "code",
   "execution_count": 8,
   "metadata": {},
   "outputs": [],
   "source": [
    "demo_df = mar_df[0:10].copy()"
   ]
  },
  {
   "cell_type": "code",
   "execution_count": 9,
   "metadata": {},
   "outputs": [],
   "source": [
    "def distance(x):\n",
    "    return np.linalg.norm((x-demo_df.iloc[7]).dropna())\n",
    "    \n",
    "demo_df['distance'] = demo_df.apply(distance, axis=1)\n",
    "demo_df=demo_df.dropna() # Drop Our Row"
   ]
  },
  {
   "cell_type": "markdown",
   "metadata": {},
   "source": [
    "Hot Deck Imputation Version #1\n",
    "Pick closest point threshold"
   ]
  },
  {
   "cell_type": "code",
   "execution_count": 12,
   "metadata": {},
   "outputs": [
    {
     "data": {
      "text/html": [
       "<div>\n",
       "<style scoped>\n",
       "    .dataframe tbody tr th:only-of-type {\n",
       "        vertical-align: middle;\n",
       "    }\n",
       "\n",
       "    .dataframe tbody tr th {\n",
       "        vertical-align: top;\n",
       "    }\n",
       "\n",
       "    .dataframe thead th {\n",
       "        text-align: right;\n",
       "    }\n",
       "</style>\n",
       "<table border=\"1\" class=\"dataframe\">\n",
       "  <thead>\n",
       "    <tr style=\"text-align: right;\">\n",
       "      <th></th>\n",
       "      <th>feature a</th>\n",
       "      <th>feature b</th>\n",
       "      <th>feature c</th>\n",
       "      <th>feature d</th>\n",
       "      <th>uncorrelated</th>\n",
       "      <th>distance</th>\n",
       "    </tr>\n",
       "  </thead>\n",
       "  <tbody>\n",
       "    <tr>\n",
       "      <th>0</th>\n",
       "      <td>1.517509</td>\n",
       "      <td>4.229258</td>\n",
       "      <td>2.052726</td>\n",
       "      <td>0.153278</td>\n",
       "      <td>0.014975</td>\n",
       "      <td>2.140696</td>\n",
       "    </tr>\n",
       "    <tr>\n",
       "      <th>1</th>\n",
       "      <td>2.536323</td>\n",
       "      <td>4.295391</td>\n",
       "      <td>2.104137</td>\n",
       "      <td>1.348000</td>\n",
       "      <td>0.998701</td>\n",
       "      <td>1.679696</td>\n",
       "    </tr>\n",
       "    <tr>\n",
       "      <th>2</th>\n",
       "      <td>4.043034</td>\n",
       "      <td>5.872276</td>\n",
       "      <td>3.559629</td>\n",
       "      <td>3.274061</td>\n",
       "      <td>0.403823</td>\n",
       "      <td>1.804759</td>\n",
       "    </tr>\n",
       "    <tr>\n",
       "      <th>3</th>\n",
       "      <td>0.082752</td>\n",
       "      <td>3.761743</td>\n",
       "      <td>-0.440590</td>\n",
       "      <td>1.031832</td>\n",
       "      <td>0.281023</td>\n",
       "      <td>3.954464</td>\n",
       "    </tr>\n",
       "    <tr>\n",
       "      <th>4</th>\n",
       "      <td>0.196684</td>\n",
       "      <td>3.793343</td>\n",
       "      <td>1.016462</td>\n",
       "      <td>-0.667764</td>\n",
       "      <td>0.165431</td>\n",
       "      <td>3.477212</td>\n",
       "    </tr>\n",
       "    <tr>\n",
       "      <th>5</th>\n",
       "      <td>2.560068</td>\n",
       "      <td>4.446726</td>\n",
       "      <td>2.420763</td>\n",
       "      <td>0.973363</td>\n",
       "      <td>0.166179</td>\n",
       "      <td>1.312528</td>\n",
       "    </tr>\n",
       "    <tr>\n",
       "      <th>6</th>\n",
       "      <td>4.027199</td>\n",
       "      <td>5.079975</td>\n",
       "      <td>4.582185</td>\n",
       "      <td>0.876607</td>\n",
       "      <td>0.420479</td>\n",
       "      <td>1.651431</td>\n",
       "    </tr>\n",
       "    <tr>\n",
       "      <th>8</th>\n",
       "      <td>2.743726</td>\n",
       "      <td>4.506330</td>\n",
       "      <td>2.620240</td>\n",
       "      <td>1.362915</td>\n",
       "      <td>0.011719</td>\n",
       "      <td>1.035106</td>\n",
       "    </tr>\n",
       "    <tr>\n",
       "      <th>9</th>\n",
       "      <td>-0.180238</td>\n",
       "      <td>3.148906</td>\n",
       "      <td>0.280848</td>\n",
       "      <td>-0.741796</td>\n",
       "      <td>0.104471</td>\n",
       "      <td>4.303085</td>\n",
       "    </tr>\n",
       "  </tbody>\n",
       "</table>\n",
       "</div>"
      ],
      "text/plain": [
       "   feature a  feature b  feature c  feature d  uncorrelated  distance\n",
       "0   1.517509   4.229258   2.052726   0.153278      0.014975  2.140696\n",
       "1   2.536323   4.295391   2.104137   1.348000      0.998701  1.679696\n",
       "2   4.043034   5.872276   3.559629   3.274061      0.403823  1.804759\n",
       "3   0.082752   3.761743  -0.440590   1.031832      0.281023  3.954464\n",
       "4   0.196684   3.793343   1.016462  -0.667764      0.165431  3.477212\n",
       "5   2.560068   4.446726   2.420763   0.973363      0.166179  1.312528\n",
       "6   4.027199   5.079975   4.582185   0.876607      0.420479  1.651431\n",
       "8   2.743726   4.506330   2.620240   1.362915      0.011719  1.035106\n",
       "9  -0.180238   3.148906   0.280848  -0.741796      0.104471  4.303085"
      ]
     },
     "execution_count": 12,
     "metadata": {},
     "output_type": "execute_result"
    }
   ],
   "source": [
    "demo_df"
   ]
  },
  {
   "cell_type": "code",
   "execution_count": 13,
   "metadata": {},
   "outputs": [],
   "source": [
    "threshold = 2\n",
    "donors = demo_df[demo_df.distance<threshold]['feature a']"
   ]
  },
  {
   "cell_type": "markdown",
   "metadata": {},
   "source": [
    "Hot Deck Imputation Version #2\n",
    "Take closest point"
   ]
  },
  {
   "cell_type": "code",
   "execution_count": 15,
   "metadata": {},
   "outputs": [],
   "source": [
    "donor = demo_df.sort_values('distance').iloc[0]['feature a']"
   ]
  },
  {
   "cell_type": "markdown",
   "metadata": {},
   "source": [
    "Hot Deck Imputation Version #3\n",
    "Pick N Closest points"
   ]
  },
  {
   "cell_type": "code",
   "execution_count": null,
   "metadata": {},
   "outputs": [],
   "source": [
    "N=3\n",
    "donors = demo_df.sort_values('distance').iloc[0:N]['feature a']\n",
    "donors"
   ]
  },
  {
   "cell_type": "code",
   "execution_count": null,
   "metadata": {},
   "outputs": [],
   "source": [
    "import random\n",
    "#Pick with probability\n",
    "random.choices(demo_df['feature a'], k=1, weights=1/demo_df['distance'])"
   ]
  },
  {
   "cell_type": "markdown",
   "metadata": {
    "id": "fA-u2Tz8sa-8"
   },
   "source": [
    "## $\\color{purple}{\\text{Predictive Mean Matching}}$\n",
    "Uses linear interpolation as part of the metric.\n"
   ]
  },
  {
   "cell_type": "code",
   "execution_count": 17,
   "metadata": {},
   "outputs": [],
   "source": [
    "from sklearn.linear_model import LinearRegression\n",
    "linear_regressor=LinearRegression()"
   ]
  },
  {
   "cell_type": "code",
   "execution_count": 18,
   "metadata": {},
   "outputs": [],
   "source": [
    "demo_df = mar_df[0:10].copy()"
   ]
  },
  {
   "cell_type": "code",
   "execution_count": 19,
   "metadata": {},
   "outputs": [],
   "source": [
    "rest = ['feature b', 'feature c', 'feature d', 'uncorrelated']\n",
    "full_data = demo_df.dropna()\n",
    "linear_regressor.fit(full_data[rest], full_data['feature a'])\n",
    "demo_df['regression'] = linear_regressor.predict(demo_df[rest])"
   ]
  },
  {
   "cell_type": "code",
   "execution_count": 20,
   "metadata": {},
   "outputs": [],
   "source": [
    "demo_df['distance']=np.abs(demo_df.regression-demo_df.regression.iloc[7])"
   ]
  },
  {
   "cell_type": "code",
   "execution_count": 21,
   "metadata": {},
   "outputs": [
    {
     "data": {
      "text/plain": [
       "8    2.743726\n",
       "1    2.536323\n",
       "5    2.560068\n",
       "Name: feature a, dtype: float64"
      ]
     },
     "execution_count": 21,
     "metadata": {},
     "output_type": "execute_result"
    }
   ],
   "source": [
    "N=3\n",
    "donors = demo_df.dropna().sort_values('distance').iloc[0:N]['feature a']\n",
    "donors"
   ]
  },
  {
   "cell_type": "code",
   "execution_count": 22,
   "metadata": {},
   "outputs": [
    {
     "name": "stderr",
     "output_type": "stream",
     "text": [
      "/opt/conda/lib/python3.9/site-packages/deprecat/classic.py:215: FutureWarning: In v4.0, pm.sample will return an `arviz.InferenceData` object instead of a `MultiTrace` by default. You can pass return_inferencedata=True or return_inferencedata=False to be safe and silence this warning.\n",
      "  return wrapped_(*args_, **kwargs_)\n",
      "Auto-assigning NUTS sampler...\n",
      "Initializing NUTS using jitter+adapt_diag...\n",
      "Multiprocess sampling (4 chains in 4 jobs)\n",
      "NUTS: [σ, beta, alpha]\n"
     ]
    },
    {
     "data": {
      "text/html": [
       "\n",
       "<style>\n",
       "    /* Turns off some styling */\n",
       "    progress {\n",
       "        /* gets rid of default border in Firefox and Opera. */\n",
       "        border: none;\n",
       "        /* Needs to be in here for Safari polyfill so background images work as expected. */\n",
       "        background-size: auto;\n",
       "    }\n",
       "    .progress-bar-interrupted, .progress-bar-interrupted::-webkit-progress-bar {\n",
       "        background: #F44336;\n",
       "    }\n",
       "</style>\n"
      ],
      "text/plain": [
       "<IPython.core.display.HTML object>"
      ]
     },
     "metadata": {},
     "output_type": "display_data"
    },
    {
     "data": {
      "text/html": [
       "\n",
       "    <div>\n",
       "      <progress value='8000' class='' max='8000' style='width:300px; height:20px; vertical-align: middle;'></progress>\n",
       "      100.00% [8000/8000 00:11<00:00 Sampling 4 chains, 236 divergences]\n",
       "    </div>\n",
       "    "
      ],
      "text/plain": [
       "<IPython.core.display.HTML object>"
      ]
     },
     "metadata": {},
     "output_type": "display_data"
    },
    {
     "name": "stderr",
     "output_type": "stream",
     "text": [
      "Sampling 4 chains for 1_000 tune and 1_000 draw iterations (4_000 + 4_000 draws total) took 12 seconds.\n",
      "There were 53 divergences after tuning. Increase `target_accept` or reparameterize.\n",
      "There were 5 divergences after tuning. Increase `target_accept` or reparameterize.\n",
      "There were 178 divergences after tuning. Increase `target_accept` or reparameterize.\n",
      "The acceptance probability does not match the target. It is 0.6683772367952452, but should be close to 0.8. Try to increase the number of tuning steps.\n",
      "The acceptance probability does not match the target. It is 0.8860422688146068, but should be close to 0.8. Try to increase the number of tuning steps.\n",
      "The estimated number of effective samples is smaller than 200 for some parameters.\n"
     ]
    }
   ],
   "source": [
    "from autoimpute.imputations import SingleImputer\n",
    "demo_df = mar_df[0:100].copy()\n",
    "imputer=SingleImputer('pmm')\n",
    "imputations = imputer.fit_transform(demo_df)\n"
   ]
  },
  {
   "cell_type": "code",
   "execution_count": 23,
   "metadata": {},
   "outputs": [
    {
     "data": {
      "text/html": [
       "<div>\n",
       "<style scoped>\n",
       "    .dataframe tbody tr th:only-of-type {\n",
       "        vertical-align: middle;\n",
       "    }\n",
       "\n",
       "    .dataframe tbody tr th {\n",
       "        vertical-align: top;\n",
       "    }\n",
       "\n",
       "    .dataframe thead th {\n",
       "        text-align: right;\n",
       "    }\n",
       "</style>\n",
       "<table border=\"1\" class=\"dataframe\">\n",
       "  <thead>\n",
       "    <tr style=\"text-align: right;\">\n",
       "      <th></th>\n",
       "      <th>feature a</th>\n",
       "      <th>feature b</th>\n",
       "      <th>feature c</th>\n",
       "      <th>feature d</th>\n",
       "      <th>uncorrelated</th>\n",
       "    </tr>\n",
       "  </thead>\n",
       "  <tbody>\n",
       "    <tr>\n",
       "      <th>0</th>\n",
       "      <td>1.517509</td>\n",
       "      <td>4.229258</td>\n",
       "      <td>2.052726</td>\n",
       "      <td>0.153278</td>\n",
       "      <td>0.014975</td>\n",
       "    </tr>\n",
       "    <tr>\n",
       "      <th>1</th>\n",
       "      <td>2.536323</td>\n",
       "      <td>4.295391</td>\n",
       "      <td>2.104137</td>\n",
       "      <td>1.348000</td>\n",
       "      <td>0.998701</td>\n",
       "    </tr>\n",
       "    <tr>\n",
       "      <th>2</th>\n",
       "      <td>4.043034</td>\n",
       "      <td>5.872276</td>\n",
       "      <td>3.559629</td>\n",
       "      <td>3.274061</td>\n",
       "      <td>0.403823</td>\n",
       "    </tr>\n",
       "    <tr>\n",
       "      <th>3</th>\n",
       "      <td>0.082752</td>\n",
       "      <td>3.761743</td>\n",
       "      <td>-0.440590</td>\n",
       "      <td>1.031832</td>\n",
       "      <td>0.281023</td>\n",
       "    </tr>\n",
       "    <tr>\n",
       "      <th>4</th>\n",
       "      <td>0.196684</td>\n",
       "      <td>3.793343</td>\n",
       "      <td>1.016462</td>\n",
       "      <td>-0.667764</td>\n",
       "      <td>0.165431</td>\n",
       "    </tr>\n",
       "    <tr>\n",
       "      <th>5</th>\n",
       "      <td>2.560068</td>\n",
       "      <td>4.446726</td>\n",
       "      <td>2.420763</td>\n",
       "      <td>0.973363</td>\n",
       "      <td>0.166179</td>\n",
       "    </tr>\n",
       "    <tr>\n",
       "      <th>6</th>\n",
       "      <td>4.027199</td>\n",
       "      <td>5.079975</td>\n",
       "      <td>4.582185</td>\n",
       "      <td>0.876607</td>\n",
       "      <td>0.420479</td>\n",
       "    </tr>\n",
       "    <tr>\n",
       "      <th>7</th>\n",
       "      <td>2.499411</td>\n",
       "      <td>5.339294</td>\n",
       "      <td>3.138633</td>\n",
       "      <td>1.611132</td>\n",
       "      <td>0.229141</td>\n",
       "    </tr>\n",
       "    <tr>\n",
       "      <th>8</th>\n",
       "      <td>2.743726</td>\n",
       "      <td>4.506330</td>\n",
       "      <td>2.620240</td>\n",
       "      <td>1.362915</td>\n",
       "      <td>0.011719</td>\n",
       "    </tr>\n",
       "    <tr>\n",
       "      <th>9</th>\n",
       "      <td>-0.180238</td>\n",
       "      <td>3.148906</td>\n",
       "      <td>0.280848</td>\n",
       "      <td>-0.741796</td>\n",
       "      <td>0.104471</td>\n",
       "    </tr>\n",
       "  </tbody>\n",
       "</table>\n",
       "</div>"
      ],
      "text/plain": [
       "   feature a  feature b  feature c  feature d  uncorrelated\n",
       "0   1.517509   4.229258   2.052726   0.153278      0.014975\n",
       "1   2.536323   4.295391   2.104137   1.348000      0.998701\n",
       "2   4.043034   5.872276   3.559629   3.274061      0.403823\n",
       "3   0.082752   3.761743  -0.440590   1.031832      0.281023\n",
       "4   0.196684   3.793343   1.016462  -0.667764      0.165431\n",
       "5   2.560068   4.446726   2.420763   0.973363      0.166179\n",
       "6   4.027199   5.079975   4.582185   0.876607      0.420479\n",
       "7   2.499411   5.339294   3.138633   1.611132      0.229141\n",
       "8   2.743726   4.506330   2.620240   1.362915      0.011719\n",
       "9  -0.180238   3.148906   0.280848  -0.741796      0.104471"
      ]
     },
     "execution_count": 23,
     "metadata": {},
     "output_type": "execute_result"
    }
   ],
   "source": [
    "imputations.head(10)"
   ]
  },
  {
   "cell_type": "markdown",
   "metadata": {
    "id": "D13nfWuLsk-u"
   },
   "source": [
    "\n",
    "## $\\color{purple}{\\text{Categorical Variables}}$\n",
    "\n",
    "Logistic Regression"
   ]
  },
  {
   "cell_type": "code",
   "execution_count": 24,
   "metadata": {},
   "outputs": [],
   "source": [
    "cat_mar_df = pd.read_csv('data/categorical_mar.csv')"
   ]
  },
  {
   "cell_type": "code",
   "execution_count": 25,
   "metadata": {},
   "outputs": [],
   "source": [
    "from sklearn.linear_model import LogisticRegression\n",
    "rest = ['feature a', 'feature b', 'feature c']\n",
    "from sklearn.preprocessing import LabelEncoder\n",
    "df = cat_mar_df.dropna()[0:100]\n",
    "lr = LogisticRegression(random_state=0, max_iter=1000).fit(df[rest], df['cat feature'])"
   ]
  },
  {
   "cell_type": "code",
   "execution_count": 26,
   "metadata": {},
   "outputs": [],
   "source": [
    "impute = lr.predict(cat_mar_df[rest])"
   ]
  },
  {
   "cell_type": "code",
   "execution_count": 27,
   "metadata": {},
   "outputs": [],
   "source": [
    "imputed=cat_mar_df.assign(**{'cat feature': cat_mar_df['cat feature'].where(~cat_mar_df['cat feature'].isnull(), impute)})"
   ]
  },
  {
   "cell_type": "markdown",
   "metadata": {
    "id": "K0qX6ujfsw13"
   },
   "source": [
    "## $\\color{purple}{\\text{Hot Deck Imputation}}$"
   ]
  },
  {
   "cell_type": "markdown",
   "metadata": {
    "id": "TSrPnFAvs1Mw"
   },
   "source": [
    "## $\\color{purple}{\\text{Predictive Mean Matching}}$"
   ]
  },
  {
   "cell_type": "markdown",
   "metadata": {
    "id": "p10VFs81Y21_"
   },
   "source": [
    "## $\\color{purple}{\\text{Advanced Imputation Techniques: multivariate imputation by chained equations (MICE)}}$"
   ]
  },
  {
   "cell_type": "code",
   "execution_count": 29,
   "metadata": {
    "id": "4EY6qUH3oElL"
   },
   "outputs": [],
   "source": [
    "dmar_df = pd.read_csv('data/double_mar_set.csv')\n",
    "missing_df=pd.DataFrame({'feature a': dmar_df['feature a'].isnull(),\n",
    "                         'feature b': dmar_df['feature b'].isnull()})"
   ]
  },
  {
   "cell_type": "code",
   "execution_count": 30,
   "metadata": {},
   "outputs": [
    {
     "ename": "SyntaxError",
     "evalue": "invalid syntax (4160535758.py, line 1)",
     "output_type": "error",
     "traceback": [
      "\u001b[0;36m  Input \u001b[0;32mIn [30]\u001b[0;36m\u001b[0m\n\u001b[0;31m    Step 0: Univariate Imputation\u001b[0m\n\u001b[0m         ^\u001b[0m\n\u001b[0;31mSyntaxError\u001b[0m\u001b[0;31m:\u001b[0m invalid syntax\n"
     ]
    }
   ],
   "source": [
    "Step 0: Univariate Imputation"
   ]
  },
  {
   "cell_type": "code",
   "execution_count": 31,
   "metadata": {},
   "outputs": [
    {
     "data": {
      "text/html": [
       "<div>\n",
       "<style scoped>\n",
       "    .dataframe tbody tr th:only-of-type {\n",
       "        vertical-align: middle;\n",
       "    }\n",
       "\n",
       "    .dataframe tbody tr th {\n",
       "        vertical-align: top;\n",
       "    }\n",
       "\n",
       "    .dataframe thead th {\n",
       "        text-align: right;\n",
       "    }\n",
       "</style>\n",
       "<table border=\"1\" class=\"dataframe\">\n",
       "  <thead>\n",
       "    <tr style=\"text-align: right;\">\n",
       "      <th></th>\n",
       "      <th>feature a</th>\n",
       "      <th>feature b</th>\n",
       "      <th>feature c</th>\n",
       "      <th>feature d</th>\n",
       "      <th>uncorrelated</th>\n",
       "    </tr>\n",
       "  </thead>\n",
       "  <tbody>\n",
       "    <tr>\n",
       "      <th>0</th>\n",
       "      <td>-2.827918</td>\n",
       "      <td>-3.926024</td>\n",
       "      <td>-0.171649</td>\n",
       "      <td>1.599414</td>\n",
       "      <td>0.808661</td>\n",
       "    </tr>\n",
       "    <tr>\n",
       "      <th>1</th>\n",
       "      <td>0.827494</td>\n",
       "      <td>-2.485444</td>\n",
       "      <td>2.251578</td>\n",
       "      <td>3.886670</td>\n",
       "      <td>0.194692</td>\n",
       "    </tr>\n",
       "    <tr>\n",
       "      <th>2</th>\n",
       "      <td>0.194008</td>\n",
       "      <td>-2.577198</td>\n",
       "      <td>2.882425</td>\n",
       "      <td>3.887535</td>\n",
       "      <td>0.886731</td>\n",
       "    </tr>\n",
       "    <tr>\n",
       "      <th>3</th>\n",
       "      <td>-1.907789</td>\n",
       "      <td>-3.792876</td>\n",
       "      <td>0.256099</td>\n",
       "      <td>2.430528</td>\n",
       "      <td>0.493951</td>\n",
       "    </tr>\n",
       "    <tr>\n",
       "      <th>4</th>\n",
       "      <td>-0.937901</td>\n",
       "      <td>-3.825973</td>\n",
       "      <td>1.862588</td>\n",
       "      <td>1.099501</td>\n",
       "      <td>0.394353</td>\n",
       "    </tr>\n",
       "    <tr>\n",
       "      <th>...</th>\n",
       "      <td>...</td>\n",
       "      <td>...</td>\n",
       "      <td>...</td>\n",
       "      <td>...</td>\n",
       "      <td>...</td>\n",
       "    </tr>\n",
       "    <tr>\n",
       "      <th>19995</th>\n",
       "      <td>-1.316783</td>\n",
       "      <td>-1.853379</td>\n",
       "      <td>0.632680</td>\n",
       "      <td>4.479027</td>\n",
       "      <td>0.334140</td>\n",
       "    </tr>\n",
       "    <tr>\n",
       "      <th>19996</th>\n",
       "      <td>1.547273</td>\n",
       "      <td>-2.070106</td>\n",
       "      <td>4.070505</td>\n",
       "      <td>3.239217</td>\n",
       "      <td>0.125296</td>\n",
       "    </tr>\n",
       "    <tr>\n",
       "      <th>19997</th>\n",
       "      <td>-0.552074</td>\n",
       "      <td>-2.135666</td>\n",
       "      <td>2.101401</td>\n",
       "      <td>3.162508</td>\n",
       "      <td>0.090778</td>\n",
       "    </tr>\n",
       "    <tr>\n",
       "      <th>19998</th>\n",
       "      <td>-0.089824</td>\n",
       "      <td>-2.312533</td>\n",
       "      <td>2.102443</td>\n",
       "      <td>3.203033</td>\n",
       "      <td>0.139082</td>\n",
       "    </tr>\n",
       "    <tr>\n",
       "      <th>19999</th>\n",
       "      <td>1.240722</td>\n",
       "      <td>-2.485444</td>\n",
       "      <td>3.435945</td>\n",
       "      <td>3.754910</td>\n",
       "      <td>0.778034</td>\n",
       "    </tr>\n",
       "  </tbody>\n",
       "</table>\n",
       "<p>20000 rows × 5 columns</p>\n",
       "</div>"
      ],
      "text/plain": [
       "       feature a  feature b  feature c  feature d  uncorrelated\n",
       "0      -2.827918  -3.926024  -0.171649   1.599414      0.808661\n",
       "1       0.827494  -2.485444   2.251578   3.886670      0.194692\n",
       "2       0.194008  -2.577198   2.882425   3.887535      0.886731\n",
       "3      -1.907789  -3.792876   0.256099   2.430528      0.493951\n",
       "4      -0.937901  -3.825973   1.862588   1.099501      0.394353\n",
       "...          ...        ...        ...        ...           ...\n",
       "19995  -1.316783  -1.853379   0.632680   4.479027      0.334140\n",
       "19996   1.547273  -2.070106   4.070505   3.239217      0.125296\n",
       "19997  -0.552074  -2.135666   2.101401   3.162508      0.090778\n",
       "19998  -0.089824  -2.312533   2.102443   3.203033      0.139082\n",
       "19999   1.240722  -2.485444   3.435945   3.754910      0.778034\n",
       "\n",
       "[20000 rows x 5 columns]"
      ]
     },
     "execution_count": 31,
     "metadata": {},
     "output_type": "execute_result"
    }
   ],
   "source": [
    "step0_df=dmar_df.fillna({'feature a': dmar_df['feature a'].mean(), 'feature b': dmar_df['feature b'].median()})\n",
    "step0_df"
   ]
  },
  {
   "cell_type": "code",
   "execution_count": 63,
   "metadata": {},
   "outputs": [],
   "source": [
    "imputer=SingleImputer('least squares')"
   ]
  },
  {
   "cell_type": "code",
   "execution_count": 64,
   "metadata": {},
   "outputs": [],
   "source": [
    "step0_df['feature a'] = np.where(missing_df['feature a'], np.nan, step0_df['feature a'])"
   ]
  },
  {
   "cell_type": "code",
   "execution_count": 65,
   "metadata": {},
   "outputs": [
    {
     "data": {
      "text/plain": [
       "0       -2.827918\n",
       "1        0.827494\n",
       "2             NaN\n",
       "3       -1.907789\n",
       "4       -0.937901\n",
       "           ...   \n",
       "19995   -1.316783\n",
       "19996    1.547273\n",
       "19997   -0.552074\n",
       "19998   -0.089824\n",
       "19999    1.240722\n",
       "Name: feature a, Length: 20000, dtype: float64"
      ]
     },
     "execution_count": 65,
     "metadata": {},
     "output_type": "execute_result"
    }
   ],
   "source": [
    "step0_df['feature a']"
   ]
  },
  {
   "cell_type": "code",
   "execution_count": 69,
   "metadata": {},
   "outputs": [],
   "source": [
    "imputer=SingleImputer('least squares')\n",
    "step1a_df=imputer.fit_transform(step0_df.assign(**{'feature a': step0_df['feature a'].where(~step0_df['feature a'].isnull(), np.nan)}))"
   ]
  },
  {
   "cell_type": "code",
   "execution_count": 70,
   "metadata": {},
   "outputs": [],
   "source": [
    "imputer=SingleImputer('least squares')\n",
    "step1_df=imputer.fit_transform(step1a_df.assign(**{'feature a': step1a_df['feature a'].where(~step1a_df['feature a'].isnull(), np.nan)}))"
   ]
  },
  {
   "cell_type": "code",
   "execution_count": 74,
   "metadata": {},
   "outputs": [
    {
     "data": {
      "text/html": [
       "<div>\n",
       "<style scoped>\n",
       "    .dataframe tbody tr th:only-of-type {\n",
       "        vertical-align: middle;\n",
       "    }\n",
       "\n",
       "    .dataframe tbody tr th {\n",
       "        vertical-align: top;\n",
       "    }\n",
       "\n",
       "    .dataframe thead th {\n",
       "        text-align: right;\n",
       "    }\n",
       "</style>\n",
       "<table border=\"1\" class=\"dataframe\">\n",
       "  <thead>\n",
       "    <tr style=\"text-align: right;\">\n",
       "      <th></th>\n",
       "      <th>Original</th>\n",
       "      <th>With Missing Data</th>\n",
       "      <th>difference</th>\n",
       "      <th>percentage</th>\n",
       "    </tr>\n",
       "  </thead>\n",
       "  <tbody>\n",
       "    <tr>\n",
       "      <th>mean</th>\n",
       "      <td>5.867453</td>\n",
       "      <td>0.430405</td>\n",
       "      <td>5.437048</td>\n",
       "      <td>92.664539</td>\n",
       "    </tr>\n",
       "    <tr>\n",
       "      <th>median</th>\n",
       "      <td>5.360496</td>\n",
       "      <td>0.440276</td>\n",
       "      <td>4.920220</td>\n",
       "      <td>91.786653</td>\n",
       "    </tr>\n",
       "    <tr>\n",
       "      <th>stdev</th>\n",
       "      <td>5.139958</td>\n",
       "      <td>1.281785</td>\n",
       "      <td>3.858173</td>\n",
       "      <td>75.062348</td>\n",
       "    </tr>\n",
       "  </tbody>\n",
       "</table>\n",
       "</div>"
      ],
      "text/plain": [
       "        Original  With Missing Data  difference  percentage\n",
       "mean    5.867453           0.430405    5.437048   92.664539\n",
       "median  5.360496           0.440276    4.920220   91.786653\n",
       "stdev   5.139958           1.281785    3.858173   75.062348"
      ]
     },
     "execution_count": 74,
     "metadata": {},
     "output_type": "execute_result"
    }
   ],
   "source": [
    "stat_comparison(df, step1_df, 'feature a')"
   ]
  },
  {
   "cell_type": "code",
   "execution_count": 33,
   "metadata": {},
   "outputs": [],
   "source": [
    "imputer=MiceImputer(strategy='least squares')"
   ]
  },
  {
   "cell_type": "code",
   "execution_count": 36,
   "metadata": {},
   "outputs": [
    {
     "data": {
      "text/plain": [
       "[(1,\n",
       "         feature a  feature b  feature c  feature d  uncorrelated\n",
       "  0      -2.827918  -3.926024  -0.171649   1.599414      0.808661\n",
       "  1       0.827494  -2.804147   2.251578   3.886670      0.194692\n",
       "  2       1.132261  -2.577198   2.882425   3.887535      0.886731\n",
       "  3      -1.907789  -3.792876   0.256099   2.430528      0.493951\n",
       "  4      -0.937901  -3.825973   1.862588   1.099501      0.394353\n",
       "  ...          ...        ...        ...        ...           ...\n",
       "  19995  -1.316783  -1.853379   0.632680   4.479027      0.334140\n",
       "  19996   1.547273  -2.070106   4.070505   3.239217      0.125296\n",
       "  19997  -0.552074  -2.135666   2.101401   3.162508      0.090778\n",
       "  19998  -0.089824  -2.312533   2.102443   3.203033      0.139082\n",
       "  19999   1.240722  -2.072572   3.435945   3.754910      0.778034\n",
       "  \n",
       "  [20000 rows x 5 columns]),\n",
       " (2,\n",
       "         feature a  feature b  feature c  feature d  uncorrelated\n",
       "  0      -2.827918  -3.926024  -0.171649   1.599414      0.808661\n",
       "  1       0.827494  -2.804147   2.251578   3.886670      0.194692\n",
       "  2       1.132261  -2.577198   2.882425   3.887535      0.886731\n",
       "  3      -1.907789  -3.792876   0.256099   2.430528      0.493951\n",
       "  4      -0.937901  -3.825973   1.862588   1.099501      0.394353\n",
       "  ...          ...        ...        ...        ...           ...\n",
       "  19995  -1.316783  -1.853379   0.632680   4.479027      0.334140\n",
       "  19996   1.547273  -2.070106   4.070505   3.239217      0.125296\n",
       "  19997  -0.552074  -2.135666   2.101401   3.162508      0.090778\n",
       "  19998  -0.089824  -2.312533   2.102443   3.203033      0.139082\n",
       "  19999   1.240722  -2.072572   3.435945   3.754910      0.778034\n",
       "  \n",
       "  [20000 rows x 5 columns]),\n",
       " (3,\n",
       "         feature a  feature b  feature c  feature d  uncorrelated\n",
       "  0      -2.827918  -3.926024  -0.171649   1.599414      0.808661\n",
       "  1       0.827494  -2.804147   2.251578   3.886670      0.194692\n",
       "  2       1.132261  -2.577198   2.882425   3.887535      0.886731\n",
       "  3      -1.907789  -3.792876   0.256099   2.430528      0.493951\n",
       "  4      -0.937901  -3.825973   1.862588   1.099501      0.394353\n",
       "  ...          ...        ...        ...        ...           ...\n",
       "  19995  -1.316783  -1.853379   0.632680   4.479027      0.334140\n",
       "  19996   1.547273  -2.070106   4.070505   3.239217      0.125296\n",
       "  19997  -0.552074  -2.135666   2.101401   3.162508      0.090778\n",
       "  19998  -0.089824  -2.312533   2.102443   3.203033      0.139082\n",
       "  19999   1.240722  -2.072572   3.435945   3.754910      0.778034\n",
       "  \n",
       "  [20000 rows x 5 columns]),\n",
       " (4,\n",
       "         feature a  feature b  feature c  feature d  uncorrelated\n",
       "  0      -2.827918  -3.926024  -0.171649   1.599414      0.808661\n",
       "  1       0.827494  -2.804147   2.251578   3.886670      0.194692\n",
       "  2       1.132261  -2.577198   2.882425   3.887535      0.886731\n",
       "  3      -1.907789  -3.792876   0.256099   2.430528      0.493951\n",
       "  4      -0.937901  -3.825973   1.862588   1.099501      0.394353\n",
       "  ...          ...        ...        ...        ...           ...\n",
       "  19995  -1.316783  -1.853379   0.632680   4.479027      0.334140\n",
       "  19996   1.547273  -2.070106   4.070505   3.239217      0.125296\n",
       "  19997  -0.552074  -2.135666   2.101401   3.162508      0.090778\n",
       "  19998  -0.089824  -2.312533   2.102443   3.203033      0.139082\n",
       "  19999   1.240722  -2.072572   3.435945   3.754910      0.778034\n",
       "  \n",
       "  [20000 rows x 5 columns]),\n",
       " (5,\n",
       "         feature a  feature b  feature c  feature d  uncorrelated\n",
       "  0      -2.827918  -3.926024  -0.171649   1.599414      0.808661\n",
       "  1       0.827494  -2.804147   2.251578   3.886670      0.194692\n",
       "  2       1.132261  -2.577198   2.882425   3.887535      0.886731\n",
       "  3      -1.907789  -3.792876   0.256099   2.430528      0.493951\n",
       "  4      -0.937901  -3.825973   1.862588   1.099501      0.394353\n",
       "  ...          ...        ...        ...        ...           ...\n",
       "  19995  -1.316783  -1.853379   0.632680   4.479027      0.334140\n",
       "  19996   1.547273  -2.070106   4.070505   3.239217      0.125296\n",
       "  19997  -0.552074  -2.135666   2.101401   3.162508      0.090778\n",
       "  19998  -0.089824  -2.312533   2.102443   3.203033      0.139082\n",
       "  19999   1.240722  -2.072572   3.435945   3.754910      0.778034\n",
       "  \n",
       "  [20000 rows x 5 columns])]"
      ]
     },
     "execution_count": 36,
     "metadata": {},
     "output_type": "execute_result"
    }
   ],
   "source": [
    "[each for each in imputer.fit_transform(dmar_df)]"
   ]
  },
  {
   "cell_type": "markdown",
   "metadata": {
    "id": "5DRKuaocr9ja"
   },
   "source": [
    "## $\\color{purple}{\\text{Advanced Imputation Techniques: Multiple Imputation}}$"
   ]
  },
  {
   "cell_type": "markdown",
   "metadata": {
    "id": "TYqrG3gMmAjw"
   },
   "source": [
    "Hot Desk Imputation"
   ]
  },
  {
   "cell_type": "markdown",
   "metadata": {
    "id": "KvGX22vBs4AH"
   },
   "source": []
  },
  {
   "cell_type": "markdown",
   "metadata": {
    "id": "syLdBFERmFUZ"
   },
   "source": [
    "Regression Imputation"
   ]
  },
  {
   "cell_type": "markdown",
   "metadata": {
    "id": "PyYEvS-knDhx"
   },
   "source": [
    "Multiple Imputation"
   ]
  },
  {
   "cell_type": "markdown",
   "metadata": {
    "id": "8MkREaCdmWXJ"
   },
   "source": [
    "MICE"
   ]
  },
  {
   "cell_type": "code",
   "execution_count": 132,
   "metadata": {
    "colab": {
     "base_uri": "https://localhost:8080/",
     "height": 165
    },
    "executionInfo": {
     "elapsed": 336,
     "status": "error",
     "timestamp": 1653069148759,
     "user": {
      "displayName": "Haw-minn Lu",
      "userId": "16109571175851064283"
     },
     "user_tz": 420
    },
    "id": "o_H45smZmIfg",
    "outputId": "234074cd-b732-4689-84c8-f1c206c980ff"
   },
   "outputs": [],
   "source": [
    "from autoimpute.imputations import MultipleImputer\n",
    "imputer=MultipleImputer(strategy='stochastic')\n",
    "imputations = imputer.fit_transform(mar_df)"
   ]
  },
  {
   "cell_type": "code",
   "execution_count": 133,
   "metadata": {
    "id": "JRwJZtc7mVjK"
   },
   "outputs": [],
   "source": [
    "lists=list(imputations)"
   ]
  },
  {
   "cell_type": "code",
   "execution_count": 137,
   "metadata": {},
   "outputs": [
    {
     "data": {
      "text/html": [
       "<div>\n",
       "<style scoped>\n",
       "    .dataframe tbody tr th:only-of-type {\n",
       "        vertical-align: middle;\n",
       "    }\n",
       "\n",
       "    .dataframe tbody tr th {\n",
       "        vertical-align: top;\n",
       "    }\n",
       "\n",
       "    .dataframe thead th {\n",
       "        text-align: right;\n",
       "    }\n",
       "</style>\n",
       "<table border=\"1\" class=\"dataframe\">\n",
       "  <thead>\n",
       "    <tr style=\"text-align: right;\">\n",
       "      <th></th>\n",
       "      <th>feature a</th>\n",
       "      <th>feature b</th>\n",
       "      <th>feature c</th>\n",
       "      <th>feature d</th>\n",
       "      <th>uncorrelated</th>\n",
       "    </tr>\n",
       "  </thead>\n",
       "  <tbody>\n",
       "    <tr>\n",
       "      <th>0</th>\n",
       "      <td>1.517509</td>\n",
       "      <td>4.229258</td>\n",
       "      <td>2.052726</td>\n",
       "      <td>0.153278</td>\n",
       "      <td>0.014975</td>\n",
       "    </tr>\n",
       "    <tr>\n",
       "      <th>1</th>\n",
       "      <td>2.536323</td>\n",
       "      <td>4.295391</td>\n",
       "      <td>2.104137</td>\n",
       "      <td>1.348000</td>\n",
       "      <td>0.998701</td>\n",
       "    </tr>\n",
       "    <tr>\n",
       "      <th>2</th>\n",
       "      <td>4.043034</td>\n",
       "      <td>5.872276</td>\n",
       "      <td>3.559629</td>\n",
       "      <td>3.274061</td>\n",
       "      <td>0.403823</td>\n",
       "    </tr>\n",
       "    <tr>\n",
       "      <th>3</th>\n",
       "      <td>0.082752</td>\n",
       "      <td>3.761743</td>\n",
       "      <td>-0.440590</td>\n",
       "      <td>1.031832</td>\n",
       "      <td>0.281023</td>\n",
       "    </tr>\n",
       "    <tr>\n",
       "      <th>4</th>\n",
       "      <td>0.196684</td>\n",
       "      <td>3.793343</td>\n",
       "      <td>1.016462</td>\n",
       "      <td>-0.667764</td>\n",
       "      <td>0.165431</td>\n",
       "    </tr>\n",
       "    <tr>\n",
       "      <th>5</th>\n",
       "      <td>2.560068</td>\n",
       "      <td>4.446726</td>\n",
       "      <td>2.420763</td>\n",
       "      <td>0.973363</td>\n",
       "      <td>0.166179</td>\n",
       "    </tr>\n",
       "    <tr>\n",
       "      <th>6</th>\n",
       "      <td>4.027199</td>\n",
       "      <td>5.079975</td>\n",
       "      <td>4.582185</td>\n",
       "      <td>0.876607</td>\n",
       "      <td>0.420479</td>\n",
       "    </tr>\n",
       "    <tr>\n",
       "      <th>7</th>\n",
       "      <td>2.953229</td>\n",
       "      <td>5.339294</td>\n",
       "      <td>3.138633</td>\n",
       "      <td>1.611132</td>\n",
       "      <td>0.229141</td>\n",
       "    </tr>\n",
       "    <tr>\n",
       "      <th>8</th>\n",
       "      <td>2.743726</td>\n",
       "      <td>4.506330</td>\n",
       "      <td>2.620240</td>\n",
       "      <td>1.362915</td>\n",
       "      <td>0.011719</td>\n",
       "    </tr>\n",
       "    <tr>\n",
       "      <th>9</th>\n",
       "      <td>-0.180238</td>\n",
       "      <td>3.148906</td>\n",
       "      <td>0.280848</td>\n",
       "      <td>-0.741796</td>\n",
       "      <td>0.104471</td>\n",
       "    </tr>\n",
       "  </tbody>\n",
       "</table>\n",
       "</div>"
      ],
      "text/plain": [
       "   feature a  feature b  feature c  feature d  uncorrelated\n",
       "0   1.517509   4.229258   2.052726   0.153278      0.014975\n",
       "1   2.536323   4.295391   2.104137   1.348000      0.998701\n",
       "2   4.043034   5.872276   3.559629   3.274061      0.403823\n",
       "3   0.082752   3.761743  -0.440590   1.031832      0.281023\n",
       "4   0.196684   3.793343   1.016462  -0.667764      0.165431\n",
       "5   2.560068   4.446726   2.420763   0.973363      0.166179\n",
       "6   4.027199   5.079975   4.582185   0.876607      0.420479\n",
       "7   2.953229   5.339294   3.138633   1.611132      0.229141\n",
       "8   2.743726   4.506330   2.620240   1.362915      0.011719\n",
       "9  -0.180238   3.148906   0.280848  -0.741796      0.104471"
      ]
     },
     "execution_count": 137,
     "metadata": {},
     "output_type": "execute_result"
    }
   ],
   "source": [
    "lists[0][1].head(10)"
   ]
  },
  {
   "cell_type": "code",
   "execution_count": 138,
   "metadata": {},
   "outputs": [
    {
     "data": {
      "text/html": [
       "<div>\n",
       "<style scoped>\n",
       "    .dataframe tbody tr th:only-of-type {\n",
       "        vertical-align: middle;\n",
       "    }\n",
       "\n",
       "    .dataframe tbody tr th {\n",
       "        vertical-align: top;\n",
       "    }\n",
       "\n",
       "    .dataframe thead th {\n",
       "        text-align: right;\n",
       "    }\n",
       "</style>\n",
       "<table border=\"1\" class=\"dataframe\">\n",
       "  <thead>\n",
       "    <tr style=\"text-align: right;\">\n",
       "      <th></th>\n",
       "      <th>feature a</th>\n",
       "      <th>feature b</th>\n",
       "      <th>feature c</th>\n",
       "      <th>feature d</th>\n",
       "      <th>uncorrelated</th>\n",
       "    </tr>\n",
       "  </thead>\n",
       "  <tbody>\n",
       "    <tr>\n",
       "      <th>0</th>\n",
       "      <td>1.517509</td>\n",
       "      <td>4.229258</td>\n",
       "      <td>2.052726</td>\n",
       "      <td>0.153278</td>\n",
       "      <td>0.014975</td>\n",
       "    </tr>\n",
       "    <tr>\n",
       "      <th>1</th>\n",
       "      <td>2.536323</td>\n",
       "      <td>4.295391</td>\n",
       "      <td>2.104137</td>\n",
       "      <td>1.348000</td>\n",
       "      <td>0.998701</td>\n",
       "    </tr>\n",
       "    <tr>\n",
       "      <th>2</th>\n",
       "      <td>4.043034</td>\n",
       "      <td>5.872276</td>\n",
       "      <td>3.559629</td>\n",
       "      <td>3.274061</td>\n",
       "      <td>0.403823</td>\n",
       "    </tr>\n",
       "    <tr>\n",
       "      <th>3</th>\n",
       "      <td>0.082752</td>\n",
       "      <td>3.761743</td>\n",
       "      <td>-0.440590</td>\n",
       "      <td>1.031832</td>\n",
       "      <td>0.281023</td>\n",
       "    </tr>\n",
       "    <tr>\n",
       "      <th>4</th>\n",
       "      <td>0.196684</td>\n",
       "      <td>3.793343</td>\n",
       "      <td>1.016462</td>\n",
       "      <td>-0.667764</td>\n",
       "      <td>0.165431</td>\n",
       "    </tr>\n",
       "    <tr>\n",
       "      <th>5</th>\n",
       "      <td>2.560068</td>\n",
       "      <td>4.446726</td>\n",
       "      <td>2.420763</td>\n",
       "      <td>0.973363</td>\n",
       "      <td>0.166179</td>\n",
       "    </tr>\n",
       "    <tr>\n",
       "      <th>6</th>\n",
       "      <td>4.027199</td>\n",
       "      <td>5.079975</td>\n",
       "      <td>4.582185</td>\n",
       "      <td>0.876607</td>\n",
       "      <td>0.420479</td>\n",
       "    </tr>\n",
       "    <tr>\n",
       "      <th>7</th>\n",
       "      <td>2.976430</td>\n",
       "      <td>5.339294</td>\n",
       "      <td>3.138633</td>\n",
       "      <td>1.611132</td>\n",
       "      <td>0.229141</td>\n",
       "    </tr>\n",
       "    <tr>\n",
       "      <th>8</th>\n",
       "      <td>2.743726</td>\n",
       "      <td>4.506330</td>\n",
       "      <td>2.620240</td>\n",
       "      <td>1.362915</td>\n",
       "      <td>0.011719</td>\n",
       "    </tr>\n",
       "    <tr>\n",
       "      <th>9</th>\n",
       "      <td>-0.180238</td>\n",
       "      <td>3.148906</td>\n",
       "      <td>0.280848</td>\n",
       "      <td>-0.741796</td>\n",
       "      <td>0.104471</td>\n",
       "    </tr>\n",
       "  </tbody>\n",
       "</table>\n",
       "</div>"
      ],
      "text/plain": [
       "   feature a  feature b  feature c  feature d  uncorrelated\n",
       "0   1.517509   4.229258   2.052726   0.153278      0.014975\n",
       "1   2.536323   4.295391   2.104137   1.348000      0.998701\n",
       "2   4.043034   5.872276   3.559629   3.274061      0.403823\n",
       "3   0.082752   3.761743  -0.440590   1.031832      0.281023\n",
       "4   0.196684   3.793343   1.016462  -0.667764      0.165431\n",
       "5   2.560068   4.446726   2.420763   0.973363      0.166179\n",
       "6   4.027199   5.079975   4.582185   0.876607      0.420479\n",
       "7   2.976430   5.339294   3.138633   1.611132      0.229141\n",
       "8   2.743726   4.506330   2.620240   1.362915      0.011719\n",
       "9  -0.180238   3.148906   0.280848  -0.741796      0.104471"
      ]
     },
     "execution_count": 138,
     "metadata": {},
     "output_type": "execute_result"
    }
   ],
   "source": [
    "lists[1][1].head(10)"
   ]
  },
  {
   "cell_type": "code",
   "execution_count": 141,
   "metadata": {},
   "outputs": [
    {
     "data": {
      "text/plain": [
       "[2.9532294619521022,\n",
       " 2.9764296840936324,\n",
       " 2.852605077672565,\n",
       " 2.772903467827853,\n",
       " 2.8978580843592163]"
      ]
     },
     "execution_count": 141,
     "metadata": {},
     "output_type": "execute_result"
    }
   ],
   "source": [
    "[each[1].iloc[7]['feature a'] for each in lists]"
   ]
  },
  {
   "cell_type": "code",
   "execution_count": 142,
   "metadata": {},
   "outputs": [
    {
     "data": {
      "text/plain": [
       "[4.027199122849932,\n",
       " 4.027199122849932,\n",
       " 4.027199122849932,\n",
       " 4.027199122849932,\n",
       " 4.027199122849932]"
      ]
     },
     "execution_count": 142,
     "metadata": {},
     "output_type": "execute_result"
    }
   ],
   "source": [
    "[each[1].iloc[6]['feature a'] for each in lists]"
   ]
  },
  {
   "cell_type": "code",
   "execution_count": null,
   "metadata": {},
   "outputs": [],
   "source": []
  }
 ],
 "metadata": {
  "colab": {
   "authorship_tag": "ABX9TyOzI6saudMRGj5Q9rKp9Mrq",
   "collapsed_sections": [],
   "name": "4 - Imputation Techniques.ipynb",
   "provenance": []
  },
  "kernelspec": {
   "display_name": "Python 3 (ipykernel)",
   "language": "python",
   "name": "python3"
  },
  "language_info": {
   "codemirror_mode": {
    "name": "ipython",
    "version": 3
   },
   "file_extension": ".py",
   "mimetype": "text/x-python",
   "name": "python",
   "nbconvert_exporter": "python",
   "pygments_lexer": "ipython3",
   "version": "3.9.7"
  }
 },
 "nbformat": 4,
 "nbformat_minor": 1
}
