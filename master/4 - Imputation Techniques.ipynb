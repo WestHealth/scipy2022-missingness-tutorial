{
 "cells": [
  {
   "cell_type": "code",
   "execution_count": null,
   "metadata": {
    "executionInfo": {
     "elapsed": 4,
     "status": "ok",
     "timestamp": 1654722444162,
     "user": {
      "displayName": "Haw-minn Lu",
      "userId": "16109571175851064283"
     },
     "user_tz": 420
    },
    "id": "KgsAmhQcY2SE"
   },
   "outputs": [],
   "source": [
    "import scipy\n",
    "from scipy import interpolate"
   ]
  },
  {
   "cell_type": "markdown",
   "metadata": {
    "id": "XGJmuVrOrepP"
   },
   "source": [
    "# $\\color{purple}{\\text{Understanding Missing Data and How to Deal with It (Part 5)}}$\n",
    "\n",
    "## $\\color{purple}{\\text{Advanced Imputation Techniques: Multivariate Imputation}}$"
   ]
  },
  {
   "cell_type": "markdown",
   "metadata": {
    "id": "l-lI2daBFGxl"
   },
   "source": [
    "## $\\color{purple}{\\text{Regression Imputation}}$\n",
    "\n",
    "General Technique:\n",
    "Use Regression/Classification Models to Imputer Numeric/Categorical Missing Values\n",
    "* Linear Regression\n",
    "* Stocastic Linear Regression\n",
    "* Logistic Regression\n",
    "* Other Possibilities Generally unexplored\n",
    "  * Random Forest\n",
    "  * Decision Trees\n",
    "  * KNN"
   ]
  },
  {
   "cell_type": "code",
   "execution_count": null,
   "metadata": {
    "colab": {
     "base_uri": "https://localhost:8080/",
     "height": 450
    },
    "executionInfo": {
     "elapsed": 20431,
     "status": "ok",
     "timestamp": 1654721415225,
     "user": {
      "displayName": "Haw-minn Lu",
      "userId": "16109571175851064283"
     },
     "user_tz": 420
    },
    "id": "e7N2XN4NFG-d",
    "outputId": "6103427b-15a2-4d9f-9d57-579328cc0633"
   },
   "outputs": [],
   "source": [
    "%pip install --upgrade --force-reinstall scipy"
   ]
  },
  {
   "cell_type": "markdown",
   "metadata": {
    "id": "GJb5m9e_l9v6"
   },
   "source": [
    "Regression Imputation"
   ]
  },
  {
   "cell_type": "code",
   "execution_count": null,
   "metadata": {
    "id": "NGTqexiQMgmM"
   },
   "outputs": [],
   "source": []
  },
  {
   "cell_type": "markdown",
   "metadata": {
    "id": "fA-u2Tz8sa-8"
   },
   "source": [
    "## $\\color{purple}{\\text{Hot Deck Imputation}}$\n",
    "## $\\color{purple}{\\text{Predictive Mean Matching}}$\n",
    "P"
   ]
  },
  {
   "cell_type": "code",
   "execution_count": null,
   "metadata": {
    "id": "KSE9PBfSoF3c"
   },
   "outputs": [],
   "source": []
  },
  {
   "cell_type": "markdown",
   "metadata": {
    "id": "D13nfWuLsk-u"
   },
   "source": [
    "## $\\color{purple}{\\text{Categorical Variables}}$"
   ]
  },
  {
   "cell_type": "markdown",
   "metadata": {
    "id": "K0qX6ujfsw13"
   },
   "source": [
    "## $\\color{purple}{\\text{Hot Deck Imputation}}$"
   ]
  },
  {
   "cell_type": "markdown",
   "metadata": {
    "id": "TSrPnFAvs1Mw"
   },
   "source": [
    "## $\\color{purple}{\\text{Predictive Mean Matching}}$"
   ]
  },
  {
   "cell_type": "markdown",
   "metadata": {
    "id": "p10VFs81Y21_"
   },
   "source": [
    "## $\\color{purple}{\\text{Advanced Imputation Techniques: multivariate imputation by chained equations (MICE)}}$"
   ]
  },
  {
   "cell_type": "code",
   "execution_count": null,
   "metadata": {
    "id": "4EY6qUH3oElL"
   },
   "outputs": [],
   "source": []
  },
  {
   "cell_type": "markdown",
   "metadata": {
    "id": "5DRKuaocr9ja"
   },
   "source": [
    "## $\\color{purple}{\\text{Advanced Imputation Techniques: Multiple Imputation}}$"
   ]
  },
  {
   "cell_type": "markdown",
   "metadata": {
    "id": "TYqrG3gMmAjw"
   },
   "source": [
    "Hot Desk Imputation"
   ]
  },
  {
   "cell_type": "markdown",
   "metadata": {
    "id": "KvGX22vBs4AH"
   },
   "source": []
  },
  {
   "cell_type": "markdown",
   "metadata": {
    "id": "syLdBFERmFUZ"
   },
   "source": [
    "Regression Imputation"
   ]
  },
  {
   "cell_type": "markdown",
   "metadata": {
    "id": "PyYEvS-knDhx"
   },
   "source": [
    "Multiple Imputation"
   ]
  },
  {
   "cell_type": "markdown",
   "metadata": {
    "id": "8MkREaCdmWXJ"
   },
   "source": [
    "MICE"
   ]
  },
  {
   "cell_type": "code",
   "execution_count": null,
   "metadata": {
    "colab": {
     "base_uri": "https://localhost:8080/",
     "height": 165
    },
    "executionInfo": {
     "elapsed": 336,
     "status": "error",
     "timestamp": 1653069148759,
     "user": {
      "displayName": "Haw-minn Lu",
      "userId": "16109571175851064283"
     },
     "user_tz": 420
    },
    "id": "o_H45smZmIfg",
    "outputId": "234074cd-b732-4689-84c8-f1c206c980ff"
   },
   "outputs": [],
   "source": [
    "MICE"
   ]
  },
  {
   "cell_type": "code",
   "execution_count": null,
   "metadata": {
    "id": "JRwJZtc7mVjK"
   },
   "outputs": [],
   "source": []
  }
 ],
 "metadata": {
  "colab": {
   "authorship_tag": "ABX9TyOzI6saudMRGj5Q9rKp9Mrq",
   "collapsed_sections": [],
   "name": "4 - Imputation Techniques.ipynb",
   "provenance": []
  },
  "kernelspec": {
   "display_name": "Python 3",
   "name": "python3"
  },
  "language_info": {
   "name": "python"
  }
 },
 "nbformat": 4,
 "nbformat_minor": 0
}
