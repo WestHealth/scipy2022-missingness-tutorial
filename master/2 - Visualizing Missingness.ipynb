{
 "cells": [
  {
   "cell_type": "markdown",
   "metadata": {
    "id": "oHGlOxoYDI4i"
   },
   "source": [
    "# $\\color{purple}{\\text{Understanding Missing Data and How to Deal with It (Part 3)}}$"
   ]
  },
  {
   "cell_type": "markdown",
   "metadata": {
    "id": "fw0nulddDLYI"
   },
   "source": [
    "## $\\color{purple}{\\text{Visualizing Missing Data and Analysis of Missingness Patterns}}$"
   ]
  },
  {
   "cell_type": "markdown",
   "metadata": {
    "id": "fZ7RtWXA9faV"
   },
   "source": [
    "\n",
    "\n",
    "Visualizing the Degree of Missing Data in a Dataset (30 minutes)\n",
    "\n",
    "In this section, participants  will use tools such as missingno to visualize the degree of missingness in a data set. Learning to interpret and assess these visualizations will help determine the usefulness of a dataset, answering questions like “Is there too much data missing?” or “Is the bulk of the missing data in columns I care about?”\n",
    "\n",
    "https://coderzcolumn.com/tutorials/data-science/missingno-visualize-missing-data-in-python"
   ]
  },
  {
   "cell_type": "code",
   "execution_count": null,
   "metadata": {
    "executionInfo": {
     "elapsed": 476,
     "status": "ok",
     "timestamp": 1654711991909,
     "user": {
      "displayName": "Haw-minn Lu",
      "userId": "16109571175851064283"
     },
     "user_tz": 420
    },
    "id": "bdiCXDBrhRVH"
   },
   "outputs": [],
   "source": [
    "import pandas as pd\n",
    "import missingno"
   ]
  },
  {
   "cell_type": "code",
   "execution_count": null,
   "metadata": {
    "executionInfo": {
     "elapsed": 175,
     "status": "ok",
     "timestamp": 1654712058764,
     "user": {
      "displayName": "Haw-minn Lu",
      "userId": "16109571175851064283"
     },
     "user_tz": 420
    },
    "id": "kwJllT0ehTp2"
   },
   "outputs": [],
   "source": [
    "london_housing = pd.read_csv('housing_in_london_yearly_variables.csv')"
   ]
  },
  {
   "cell_type": "code",
   "execution_count": null,
   "metadata": {
    "colab": {
     "base_uri": "https://localhost:8080/"
    },
    "executionInfo": {
     "elapsed": 197,
     "status": "ok",
     "timestamp": 1654712366173,
     "user": {
      "displayName": "Haw-minn Lu",
      "userId": "16109571175851064283"
     },
     "user_tz": 420
    },
    "id": "q3I0M2lhhuiZ",
    "outputId": "3558c9fe-1b4a-4be3-dcb0-4c6da3e7630e"
   },
   "outputs": [],
   "source": [
    "london_housing.isnull().sum()"
   ]
  },
  {
   "cell_type": "code",
   "execution_count": null,
   "metadata": {
    "colab": {
     "base_uri": "https://localhost:8080/",
     "height": 441
    },
    "executionInfo": {
     "elapsed": 3026,
     "status": "ok",
     "timestamp": 1654712575142,
     "user": {
      "displayName": "Haw-minn Lu",
      "userId": "16109571175851064283"
     },
     "user_tz": 420
    },
    "id": "ZsC6j33fhbGW",
    "outputId": "18a0726e-d455-42bb-fd3e-0e0cdd2dc5ea"
   },
   "outputs": [],
   "source": [
    "missingno.bar(london_housing, color='deepskyblue', figsize=(10,5), fontsize=12, sort='descending', log=True)"
   ]
  },
  {
   "cell_type": "code",
   "execution_count": null,
   "metadata": {
    "colab": {
     "base_uri": "https://localhost:8080/",
     "height": 395
    },
    "executionInfo": {
     "elapsed": 813,
     "status": "ok",
     "timestamp": 1654712696369,
     "user": {
      "displayName": "Haw-minn Lu",
      "userId": "16109571175851064283"
     },
     "user_tz": 420
    },
    "id": "WkUnd5T4hjMF",
    "outputId": "76d1ca51-fe5c-4eb4-a075-1b5ee9f6e40a"
   },
   "outputs": [],
   "source": [
    "missingno.matrix(london_housing, figsize=(10,5), fontsize=12, color=(0.27, 0.52, 1.0));"
   ]
  },
  {
   "cell_type": "code",
   "execution_count": null,
   "metadata": {
    "colab": {
     "base_uri": "https://localhost:8080/",
     "height": 390
    },
    "executionInfo": {
     "elapsed": 1770,
     "status": "ok",
     "timestamp": 1654712731140,
     "user": {
      "displayName": "Haw-minn Lu",
      "userId": "16109571175851064283"
     },
     "user_tz": 420
    },
    "id": "tTecCiaOjtzP",
    "outputId": "3ee1eb25-d564-4d1f-ded9-eb67d72481ab"
   },
   "outputs": [],
   "source": [
    "missingno.heatmap(london_housing, cmap=\"RdYlGn\", figsize=(10,5), fontsize=12);"
   ]
  },
  {
   "cell_type": "code",
   "execution_count": null,
   "metadata": {
    "colab": {
     "base_uri": "https://localhost:8080/",
     "height": 386
    },
    "executionInfo": {
     "elapsed": 777,
     "status": "ok",
     "timestamp": 1654712775579,
     "user": {
      "displayName": "Haw-minn Lu",
      "userId": "16109571175851064283"
     },
     "user_tz": 420
    },
    "id": "c564_r0HkH3x",
    "outputId": "1c80c9a3-3eb7-4f3a-9c5c-49b9a7fcb3a3"
   },
   "outputs": [],
   "source": [
    "missingno.dendrogram(london_housing, figsize=(10,5), fontsize=12);"
   ]
  },
  {
   "cell_type": "code",
   "execution_count": null,
   "metadata": {
    "id": "XZeDaA_zkS8R"
   },
   "outputs": [],
   "source": []
  }
 ],
 "metadata": {
  "colab": {
   "authorship_tag": "ABX9TyOwgAs2jJ3yEtkJ8V77OezW",
   "collapsed_sections": [],
   "name": "2 - Visualizing Missingness.ipynb",
   "provenance": []
  },
  "kernelspec": {
   "display_name": "Python 3",
   "name": "python3"
  },
  "language_info": {
   "name": "python"
  }
 },
 "nbformat": 4,
 "nbformat_minor": 0
}
