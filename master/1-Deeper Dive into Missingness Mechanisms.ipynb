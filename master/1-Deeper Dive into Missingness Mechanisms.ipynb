{
 "cells": [
  {
   "cell_type": "markdown",
   "metadata": {
    "id": "IcWr96v59sU8"
   },
   "source": [
    "# $\\color{purple}{\\text{Understanding Missing Data and How to Deal with It (Part 2)}}$"
   ]
  },
  {
   "cell_type": "code",
   "execution_count": null,
   "metadata": {
    "colab": {
     "base_uri": "https://localhost:8080/"
    },
    "executionInfo": {
     "elapsed": 19034,
     "status": "ok",
     "timestamp": 1654210160255,
     "user": {
      "displayName": "Haw-minn Lu",
      "userId": "16109571175851064283"
     },
     "user_tz": 420
    },
    "id": "8tdWZiHkmz1L",
    "outputId": "d17d1d5e-7933-4043-9865-ae3e63459883"
   },
   "outputs": [],
   "source": [
    "from google.colab import drive\n",
    "import os\n",
    "drive.mount('/content/drive')\n",
    "os.chdir('/content/drive/My Drive/missingness_tutorial')"
   ]
  },
  {
   "cell_type": "markdown",
   "metadata": {
    "id": "qFTeZP_Q_VPd"
   },
   "source": [
    "## $\\color{purple}{\\text{Setting Up Test Data}}$\n",
    "\n",
    "$\\color{red}{\\Large{\\text{ ⚠}}}$ We synthensize a statiscally controlled example to more clearly illustrate the concepts. This dataset will satisfy the normality condition set forth in many of the statistical assumptions. These may not carry over to your datasets.\n",
    "\n",
    "We will cause missingness in approximately 20% of the observations. This may (hopefully) be more that you will experience, but this high proportion will amplify effects such as bias.\n",
    "\n",
    "`observations` will be the size of our test set. The covariance matrix `cov` supplied shows some nice characteristics with two highly correlated features. But you can generate a completely random covariance matrix using the following:\n",
    "```\n",
    "A = np.random.rand(variables, row_size)\n",
    "cov = np.dot(A, A.transpose()\n",
    "```\n",
    "where `variables` is the number of variables and `row_size` is any number greater thanor equal to `variables` to insure a positive semidefinite matrix.\n",
    "\n",
    "We selected a `mean` to be taken from an normal distribution with a mean between 1 and 5 and a standard deviation between 0 and 5."
   ]
  },
  {
   "cell_type": "code",
   "execution_count": null,
   "metadata": {
    "executionInfo": {
     "elapsed": 177,
     "status": "ok",
     "timestamp": 1654210166360,
     "user": {
      "displayName": "Haw-minn Lu",
      "userId": "16109571175851064283"
     },
     "user_tz": 420
    },
    "id": "AjbBlydaP97E"
   },
   "outputs": [],
   "source": [
    "import numpy as np\n",
    "import pandas as pd"
   ]
  },
  {
   "cell_type": "code",
   "execution_count": null,
   "metadata": {
    "executionInfo": {
     "elapsed": 186,
     "status": "ok",
     "timestamp": 1654210167452,
     "user": {
      "displayName": "Haw-minn Lu",
      "userId": "16109571175851064283"
     },
     "user_tz": 420
    },
    "id": "0gi0Vfz3QNMh"
   },
   "outputs": [],
   "source": [
    "# This covariance matrix has some nice properties to demonstrate. Originally this was generated at random\n",
    "cov = [\n",
    "    [1.6545195264181267, 0.6346001403246381, 1.573255077832285, 0.7457615955325402],\n",
    "    [0.6346001403246381, 0.5636389213610075, 0.5861890592085826, 0.6638139531999303],\n",
    "    [1.573255077832285, 0.5861890592085826, 1.6461885333121087, 0.4916921086792136],\n",
    "    [0.7457615955325402, 0.6638139531999303, 0.4916921086792136, 1.0900299890979697],\n",
    "]\n",
    "mean = np.random.normal(np.random.uniform(low=1, high=5), np.random.uniform(high=5), 4)"
   ]
  },
  {
   "cell_type": "code",
   "execution_count": null,
   "metadata": {
    "colab": {
     "base_uri": "https://localhost:8080/"
    },
    "executionInfo": {
     "elapsed": 3,
     "status": "ok",
     "timestamp": 1654210168334,
     "user": {
      "displayName": "Haw-minn Lu",
      "userId": "16109571175851064283"
     },
     "user_tz": 420
    },
    "id": "kGWSxd4AQgaI",
    "outputId": "b4b71e3a-ee60-4458-c104-bb45c21bd366"
   },
   "outputs": [],
   "source": [
    "mean"
   ]
  },
  {
   "cell_type": "code",
   "execution_count": null,
   "metadata": {
    "colab": {
     "base_uri": "https://localhost:8080/"
    },
    "executionInfo": {
     "elapsed": 181,
     "status": "ok",
     "timestamp": 1654210243993,
     "user": {
      "displayName": "Haw-minn Lu",
      "userId": "16109571175851064283"
     },
     "user_tz": 420
    },
    "id": "DBtrVq30nJB5",
    "outputId": "31b5d9b3-57d3-4ee0-b868-a0b99f857dda"
   },
   "outputs": [],
   "source": [
    "os.listdir(os.getcwd())"
   ]
  },
  {
   "cell_type": "markdown",
   "metadata": {
    "id": "uY6_V9KAw1IW"
   },
   "source": [
    "List the covariance matrix and compare to the original. \n",
    "This is only important to insure the number of observations selected is sufficient to give the right characteristics."
   ]
  },
  {
   "cell_type": "code",
   "execution_count": null,
   "metadata": {
    "colab": {
     "base_uri": "https://localhost:8080/",
     "height": 175
    },
    "executionInfo": {
     "elapsed": 171,
     "status": "ok",
     "timestamp": 1654210274317,
     "user": {
      "displayName": "Haw-minn Lu",
      "userId": "16109571175851064283"
     },
     "user_tz": 420
    },
    "id": "wvvEfIz-QBFY",
    "outputId": "9e4edddb-046f-4191-d402-7708c4aadbae"
   },
   "outputs": [],
   "source": [
    "observations = 20000\n",
    "df = pd.DataFrame(\n",
    "    np.random.multivariate_normal(mean, cov, size=observations),\n",
    "    columns=[\"feature a\", \"feature b\", \"feature c\", \"feature d\"],\n",
    ")\n",
    "df.cov()"
   ]
  },
  {
   "cell_type": "markdown",
   "metadata": {
    "id": "JL2-GxfbxYxe"
   },
   "source": [
    "Now we add one variable that is completely uncorrelated with the other features and show the correlation matrix to confirm."
   ]
  },
  {
   "cell_type": "code",
   "execution_count": null,
   "metadata": {
    "executionInfo": {
     "elapsed": 440,
     "status": "ok",
     "timestamp": 1654210275954,
     "user": {
      "displayName": "Haw-minn Lu",
      "userId": "16109571175851064283"
     },
     "user_tz": 420
    },
    "id": "FjAlEhf2RCUw"
   },
   "outputs": [],
   "source": [
    "df[\"uncorrelated\"] = np.random.rand(observations)\n",
    "df.to_csv('full_set.csv', index=False)"
   ]
  },
  {
   "cell_type": "code",
   "execution_count": null,
   "metadata": {
    "colab": {
     "base_uri": "https://localhost:8080/",
     "height": 206
    },
    "executionInfo": {
     "elapsed": 191,
     "status": "ok",
     "timestamp": 1654210277357,
     "user": {
      "displayName": "Haw-minn Lu",
      "userId": "16109571175851064283"
     },
     "user_tz": 420
    },
    "id": "Wg2zYRxQRT6o",
    "outputId": "8da665ed-9055-44d4-8224-bd722fd79a8a"
   },
   "outputs": [],
   "source": [
    "df.corr()"
   ]
  },
  {
   "cell_type": "code",
   "execution_count": null,
   "metadata": {
    "executionInfo": {
     "elapsed": 2,
     "status": "ok",
     "timestamp": 1654210278090,
     "user": {
      "displayName": "Haw-minn Lu",
      "userId": "16109571175851064283"
     },
     "user_tz": 420
    },
    "id": "Mh5-y5musg4i"
   },
   "outputs": [],
   "source": [
    "# A function to cause missingness in a given column optionally\n",
    "def clobber(df, column, probability, depends=[]):\n",
    "    clob = df[column] == df[column]  # Always True\n",
    "    for dep_column in depends:\n",
    "        clob &= df[dep_column] > df[dep_column].median()\n",
    "    clob *= probability\n",
    "    rand = np.random.uniform(0, 1, size=len(clob))\n",
    "    ret = df.copy()  # We copy to avoid clobbering the original\n",
    "    ret[column] = np.where(clob < rand, df[column], np.nan)\n",
    "    return ret"
   ]
  },
  {
   "cell_type": "code",
   "execution_count": null,
   "metadata": {
    "executionInfo": {
     "elapsed": 1,
     "status": "ok",
     "timestamp": 1654210278950,
     "user": {
      "displayName": "Haw-minn Lu",
      "userId": "16109571175851064283"
     },
     "user_tz": 420
    },
    "id": "iZclVS9ulNRS"
   },
   "outputs": [],
   "source": [
    "def stat_comparison(original, missing, column):\n",
    "    df = pd.DataFrame.from_dict(\n",
    "        dict(\n",
    "            mean=[original[column].mean(), missing[column].mean()],\n",
    "            median=[original[column].median(), missing[column].median()],\n",
    "            stdev=[original[column].std(), missing[column].std()],\n",
    "        ),\n",
    "        orient=\"index\",\n",
    "        columns=[\"Original\", \"With Missing Data\"],\n",
    "    )\n",
    "    df[\"difference\"] = (df[\"Original\"] - df[\"With Missing Data\"]).abs()\n",
    "    df[\"percentage\"] = df[\"difference\"] / df[\"Original\"] * 100\n",
    "    return df"
   ]
  },
  {
   "cell_type": "markdown",
   "metadata": {
    "id": "aA1H16X5i9Gu"
   },
   "source": [
    "## $\\color{purple}{\\text{MCAR and MAR Data Set}}$"
   ]
  },
  {
   "cell_type": "code",
   "execution_count": null,
   "metadata": {
    "colab": {
     "base_uri": "https://localhost:8080/"
    },
    "executionInfo": {
     "elapsed": 400,
     "status": "ok",
     "timestamp": 1654210293212,
     "user": {
      "displayName": "Haw-minn Lu",
      "userId": "16109571175851064283"
     },
     "user_tz": 420
    },
    "id": "D_zmd2jAkj3-",
    "outputId": "d79d564b-8c46-41f8-a1d3-54b3cb9e422f"
   },
   "outputs": [],
   "source": [
    "mcar_df = clobber(df, \"feature a\", 0.2)\n",
    "\n",
    "mcar_df.to_csv('mcar_set.csv', index=False)\n",
    "mcar_df[\"feature a\"].isnull().sum()"
   ]
  },
  {
   "cell_type": "code",
   "execution_count": null,
   "metadata": {
    "colab": {
     "base_uri": "https://localhost:8080/",
     "height": 143
    },
    "executionInfo": {
     "elapsed": 4,
     "status": "ok",
     "timestamp": 1654210293598,
     "user": {
      "displayName": "Haw-minn Lu",
      "userId": "16109571175851064283"
     },
     "user_tz": 420
    },
    "id": "JERGhxH1kuhE",
    "outputId": "1ef75aa8-1403-49bf-beee-96f7ce05bb61"
   },
   "outputs": [],
   "source": [
    "stat_comparison(df, mcar_df, \"feature a\")"
   ]
  },
  {
   "cell_type": "code",
   "execution_count": null,
   "metadata": {
    "colab": {
     "base_uri": "https://localhost:8080/",
     "height": 206
    },
    "executionInfo": {
     "elapsed": 182,
     "status": "ok",
     "timestamp": 1654210294563,
     "user": {
      "displayName": "Haw-minn Lu",
      "userId": "16109571175851064283"
     },
     "user_tz": 420
    },
    "id": "UulFZyscsOa3",
    "outputId": "b97d9944-c3ff-4fb0-e630-45610864edbd"
   },
   "outputs": [],
   "source": [
    "df.cov()"
   ]
  },
  {
   "cell_type": "code",
   "execution_count": null,
   "metadata": {
    "colab": {
     "base_uri": "https://localhost:8080/",
     "height": 206
    },
    "executionInfo": {
     "elapsed": 187,
     "status": "ok",
     "timestamp": 1654210295598,
     "user": {
      "displayName": "Haw-minn Lu",
      "userId": "16109571175851064283"
     },
     "user_tz": 420
    },
    "id": "R_1FmxbTsRt1",
    "outputId": "5c1471e5-0fda-4bf0-b5e9-8d3b7a04e108"
   },
   "outputs": [],
   "source": [
    "(df.cov() - mcar_df.cov()).abs()/df.cov()*100"
   ]
  },
  {
   "cell_type": "code",
   "execution_count": null,
   "metadata": {
    "colab": {
     "base_uri": "https://localhost:8080/"
    },
    "executionInfo": {
     "elapsed": 387,
     "status": "ok",
     "timestamp": 1654210305297,
     "user": {
      "displayName": "Haw-minn Lu",
      "userId": "16109571175851064283"
     },
     "user_tz": 420
    },
    "id": "d7NC0PSLw5Df",
    "outputId": "e30bc252-3558-4c8f-9531-0fd8c55c316e"
   },
   "outputs": [],
   "source": [
    "mar_df = clobber(df, \"feature a\", 0.4, depends=[\"feature c\"])\n",
    "\n",
    "mar_df.to_csv('mar_set.csv', index=False)\n",
    "mar_df[\"feature a\"].isnull().sum()"
   ]
  },
  {
   "cell_type": "code",
   "execution_count": null,
   "metadata": {
    "colab": {
     "base_uri": "https://localhost:8080/",
     "height": 143
    },
    "executionInfo": {
     "elapsed": 5,
     "status": "ok",
     "timestamp": 1654210305298,
     "user": {
      "displayName": "Haw-minn Lu",
      "userId": "16109571175851064283"
     },
     "user_tz": 420
    },
    "id": "QDV_fAqlzP1b",
    "outputId": "8841bfb5-e3a6-4f60-ee35-3e929989d4f9"
   },
   "outputs": [],
   "source": [
    "stat_comparison(df, mar_df, \"feature a\")"
   ]
  },
  {
   "cell_type": "code",
   "execution_count": null,
   "metadata": {
    "colab": {
     "base_uri": "https://localhost:8080/",
     "height": 206
    },
    "executionInfo": {
     "elapsed": 185,
     "status": "ok",
     "timestamp": 1654210306828,
     "user": {
      "displayName": "Haw-minn Lu",
      "userId": "16109571175851064283"
     },
     "user_tz": 420
    },
    "id": "_2loK31DseV2",
    "outputId": "941a1f08-b144-413f-9a6a-8bcb97bfffb9"
   },
   "outputs": [],
   "source": [
    "df.cov()"
   ]
  },
  {
   "cell_type": "code",
   "execution_count": null,
   "metadata": {
    "colab": {
     "base_uri": "https://localhost:8080/",
     "height": 206
    },
    "executionInfo": {
     "elapsed": 7,
     "status": "ok",
     "timestamp": 1654210307739,
     "user": {
      "displayName": "Haw-minn Lu",
      "userId": "16109571175851064283"
     },
     "user_tz": 420
    },
    "id": "i-deY7jUsgEO",
    "outputId": "4519d8c1-96b4-4aac-90ca-441503114257"
   },
   "outputs": [],
   "source": [
    "(df.cov() - mar_df.cov()).abs()/df.cov()*100"
   ]
  },
  {
   "cell_type": "markdown",
   "metadata": {
    "id": "J5vRbGy2PBnh"
   },
   "source": [
    "## $\\color{purple}{\\text{Simple MAR Test}}$\n",
    "\n",
    "The procedure is simple. For any columns with missing data, construct a new column relating to the missingness of that column"
   ]
  },
  {
   "cell_type": "code",
   "execution_count": null,
   "metadata": {
    "executionInfo": {
     "elapsed": 183,
     "status": "ok",
     "timestamp": 1654210311122,
     "user": {
      "displayName": "Haw-minn Lu",
      "userId": "16109571175851064283"
     },
     "user_tz": 420
    },
    "id": "if4EvRoJPmdb"
   },
   "outputs": [],
   "source": [
    "test_df = mar_df.copy()"
   ]
  },
  {
   "cell_type": "code",
   "execution_count": null,
   "metadata": {
    "executionInfo": {
     "elapsed": 180,
     "status": "ok",
     "timestamp": 1654210312320,
     "user": {
      "displayName": "Haw-minn Lu",
      "userId": "16109571175851064283"
     },
     "user_tz": 420
    },
    "id": "EqFldfrIQNg0"
   },
   "outputs": [],
   "source": [
    "test_df['missingness']=test_df['feature a'].isnull()"
   ]
  },
  {
   "cell_type": "markdown",
   "metadata": {
    "id": "MdQ2L6jfQydn"
   },
   "source": [
    "Then test to see if that new feature is \"related\" to any of the columns. If it is then the missingness mechanism is MAR. We will use the \"eyeball\" test by using correlation. There are statistically robust tests such as using Student's t-test or use logistic regression on the other features to predict the missingness, etc."
   ]
  },
  {
   "cell_type": "code",
   "execution_count": null,
   "metadata": {
    "colab": {
     "base_uri": "https://localhost:8080/",
     "height": 238
    },
    "executionInfo": {
     "elapsed": 182,
     "status": "ok",
     "timestamp": 1654210315093,
     "user": {
      "displayName": "Haw-minn Lu",
      "userId": "16109571175851064283"
     },
     "user_tz": 420
    },
    "id": "EemPE61bQZTm",
    "outputId": "df1fdb82-f124-486c-d550-0e1551f920f3"
   },
   "outputs": [],
   "source": [
    "test_df.corr()"
   ]
  },
  {
   "cell_type": "markdown",
   "metadata": {
    "id": "Vmq94Bhdox_x"
   },
   "source": [
    "## $\\color{purple}{\\text{Poor Man's Version of Little's MCAR Test (or rather not MAR Test)}}$\n",
    "\n",
    "The test given above is a little awkward if more than one column has missing data. Originally, Little proposed the following test for MCAR. \n",
    "\n",
    "$\\color{red}{\\text ⚠}$ The code below demonstrates the simplified principle behind Little's MCAR Test but a lot of the statistical rigor has been relaxed.\n",
    "\n",
    "We adopt the \"eyeball\" test of whether statistics match or not. In principle, some statistical assumptions are made resulting in a $p$-value. In particular, Little used made normality assumptions resulting in a $\\chi^2$ distribution."
   ]
  },
  {
   "cell_type": "markdown",
   "metadata": {
    "id": "BASell68qEXh"
   },
   "source": [
    "First the observations are segregated into their various patterns. In our case, there are only two tests, observation is complete. Observation is missing \"feature a\""
   ]
  },
  {
   "cell_type": "code",
   "execution_count": null,
   "metadata": {
    "executionInfo": {
     "elapsed": 249,
     "status": "ok",
     "timestamp": 1654210317168,
     "user": {
      "displayName": "Haw-minn Lu",
      "userId": "16109571175851064283"
     },
     "user_tz": 420
    },
    "id": "CVzC1W13qLLR"
   },
   "outputs": [],
   "source": [
    "pattern1 = mar_df.dropna(subset=[\"feature a\"])\n",
    "pattern2 = mar_df[mar_df[\"feature a\"].isnull()]"
   ]
  },
  {
   "cell_type": "markdown",
   "metadata": {
    "id": "NhDCPK2sSxU2"
   },
   "source": [
    "The formal version of Little's Test uses maximum likelihood estimations to estimate statistcal features of each group and compares them. If they are statistcally the same then he declares the missingness mechanism as MCAR. \n",
    "Here we use the eyeball test"
   ]
  },
  {
   "cell_type": "code",
   "execution_count": null,
   "metadata": {
    "executionInfo": {
     "elapsed": 1,
     "status": "ok",
     "timestamp": 1654210318044,
     "user": {
      "displayName": "Haw-minn Lu",
      "userId": "16109571175851064283"
     },
     "user_tz": 420
    },
    "id": "1qHdvl0xz1K1"
   },
   "outputs": [],
   "source": [
    "pattern1 = mcar_df.dropna(subset=[\"feature a\"])\n",
    "pattern2 = mcar_df[mcar_df[\"feature a\"].isnull()]"
   ]
  },
  {
   "cell_type": "code",
   "execution_count": null,
   "metadata": {
    "colab": {
     "base_uri": "https://localhost:8080/",
     "height": 206
    },
    "executionInfo": {
     "elapsed": 7,
     "status": "ok",
     "timestamp": 1654210318261,
     "user": {
      "displayName": "Haw-minn Lu",
      "userId": "16109571175851064283"
     },
     "user_tz": 420
    },
    "id": "54hqXIEBoxJz",
    "outputId": "340db2ea-b701-4fdb-9cd0-47ce72b72cd3"
   },
   "outputs": [],
   "source": [
    "pd.concat([pattern1.mean(), pattern2.mean()], axis=\"columns\")"
   ]
  },
  {
   "cell_type": "code",
   "execution_count": null,
   "metadata": {
    "executionInfo": {
     "elapsed": 7,
     "status": "ok",
     "timestamp": 1654210318262,
     "user": {
      "displayName": "Haw-minn Lu",
      "userId": "16109571175851064283"
     },
     "user_tz": 420
    },
    "id": "zJaOEizUT7Wg"
   },
   "outputs": [],
   "source": [
    "def littles_eyeball_test(df, column):\n",
    "  pattern1 = df.dropna(subset=[column])\n",
    "  pattern2 = df[df[column].isnull()]\n",
    "  return pd.concat([pattern1.mean(), pattern2.mean()], axis=\"columns\")"
   ]
  },
  {
   "cell_type": "markdown",
   "metadata": {
    "id": "zyueVR_3UQMn"
   },
   "source": []
  },
  {
   "cell_type": "code",
   "execution_count": null,
   "metadata": {
    "colab": {
     "base_uri": "https://localhost:8080/",
     "height": 206
    },
    "executionInfo": {
     "elapsed": 6,
     "status": "ok",
     "timestamp": 1654210318699,
     "user": {
      "displayName": "Haw-minn Lu",
      "userId": "16109571175851064283"
     },
     "user_tz": 420
    },
    "id": "HaYhhQ5vUQpX",
    "outputId": "bbba2235-22ba-44fe-d5ba-9e8e0997fe02"
   },
   "outputs": [],
   "source": [
    "littles_eyeball_test(mar_df,'feature a')"
   ]
  },
  {
   "cell_type": "code",
   "execution_count": null,
   "metadata": {
    "colab": {
     "base_uri": "https://localhost:8080/",
     "height": 175
    },
    "executionInfo": {
     "elapsed": 5,
     "status": "ok",
     "timestamp": 1654210318882,
     "user": {
      "displayName": "Haw-minn Lu",
      "userId": "16109571175851064283"
     },
     "user_tz": 420
    },
    "id": "VMn-t4z6y8o_",
    "outputId": "8a313297-10e6-4bb4-d66e-98ba31a19a74"
   },
   "outputs": [],
   "source": [
    "pattern1.drop(columns=[\"feature a\"]).cov()"
   ]
  },
  {
   "cell_type": "code",
   "execution_count": null,
   "metadata": {
    "colab": {
     "base_uri": "https://localhost:8080/",
     "height": 175
    },
    "executionInfo": {
     "elapsed": 179,
     "status": "ok",
     "timestamp": 1654210320110,
     "user": {
      "displayName": "Haw-minn Lu",
      "userId": "16109571175851064283"
     },
     "user_tz": 420
    },
    "id": "vV29aRm9s7XM",
    "outputId": "791c817c-06c1-46d1-98ed-ebd50c99caae"
   },
   "outputs": [],
   "source": [
    "pattern2.drop(columns=[\"feature a\"]).cov()"
   ]
  },
  {
   "cell_type": "code",
   "execution_count": null,
   "metadata": {
    "colab": {
     "base_uri": "https://localhost:8080/",
     "height": 175
    },
    "executionInfo": {
     "elapsed": 6,
     "status": "ok",
     "timestamp": 1654210320798,
     "user": {
      "displayName": "Haw-minn Lu",
      "userId": "16109571175851064283"
     },
     "user_tz": 420
    },
    "id": "I1-vMknXrybH",
    "outputId": "7b55bd6c-599e-442b-ce26-7abeb318de21"
   },
   "outputs": [],
   "source": [
    "(\n",
    "    pattern1.drop(columns=[\"feature a\"]).cov()\n",
    "    - pattern2.drop(columns=[\"feature a\"]).cov()\n",
    ").abs()"
   ]
  },
  {
   "cell_type": "markdown",
   "metadata": {
    "id": "W56W7NVSTfqv"
   },
   "source": [
    "## $\\color{purple}{\\text{MNAR: The real painful situation}}$\n"
   ]
  },
  {
   "cell_type": "markdown",
   "metadata": {
    "id": "MIrZa7KjOwuh"
   },
   "source": [
    "### $\\color{purple}{\\text{How NOT to synthesize MNAR Missingness}}$"
   ]
  },
  {
   "cell_type": "code",
   "execution_count": null,
   "metadata": {
    "colab": {
     "base_uri": "https://localhost:8080/"
    },
    "executionInfo": {
     "elapsed": 4,
     "status": "ok",
     "timestamp": 1654210322960,
     "user": {
      "displayName": "Haw-minn Lu",
      "userId": "16109571175851064283"
     },
     "user_tz": 420
    },
    "id": "8jzpGFjLzlbM",
    "outputId": "13acbeab-f54f-4ee7-9425-669a85370956"
   },
   "outputs": [],
   "source": [
    "fmnar_df = clobber(df, \"feature a\", 0.4, depends=[\"feature a\"])\n",
    "fmnar_df[\"feature a\"].isnull().sum()"
   ]
  },
  {
   "cell_type": "code",
   "execution_count": null,
   "metadata": {
    "colab": {
     "base_uri": "https://localhost:8080/",
     "height": 143
    },
    "executionInfo": {
     "elapsed": 193,
     "status": "ok",
     "timestamp": 1654210324513,
     "user": {
      "displayName": "Haw-minn Lu",
      "userId": "16109571175851064283"
     },
     "user_tz": 420
    },
    "id": "Zo6Kgm5nzPNO",
    "outputId": "cd8e54c9-9091-4907-c7bd-6f4be6c20a7c"
   },
   "outputs": [],
   "source": [
    "stat_comparison(df, fmnar_df, \"feature a\")"
   ]
  },
  {
   "cell_type": "code",
   "execution_count": null,
   "metadata": {
    "colab": {
     "base_uri": "https://localhost:8080/",
     "height": 206
    },
    "executionInfo": {
     "elapsed": 182,
     "status": "ok",
     "timestamp": 1654210327094,
     "user": {
      "displayName": "Haw-minn Lu",
      "userId": "16109571175851064283"
     },
     "user_tz": 420
    },
    "id": "ULLlB-2zU7FD",
    "outputId": "98162217-683c-4e6a-e29f-e5cd79ebb5a7"
   },
   "outputs": [],
   "source": [
    "littles_eyeball_test(fmnar_df, 'feature a')"
   ]
  },
  {
   "cell_type": "code",
   "execution_count": null,
   "metadata": {
    "colab": {
     "base_uri": "https://localhost:8080/"
    },
    "executionInfo": {
     "elapsed": 401,
     "status": "ok",
     "timestamp": 1654210336585,
     "user": {
      "displayName": "Haw-minn Lu",
      "userId": "16109571175851064283"
     },
     "user_tz": 420
    },
    "id": "4JYTV89OzBaN",
    "outputId": "aa0fe90d-d029-4015-8465-f8c12c43d737"
   },
   "outputs": [],
   "source": [
    "mnar_df = clobber(df, \"uncorrelated\", 0.4, depends=[\"uncorrelated\"])\n",
    "\n",
    "mnar_df.to_csv('mnar_set.csv', index=False)\n",
    "mnar_df[\"uncorrelated\"].isnull().sum()"
   ]
  },
  {
   "cell_type": "code",
   "execution_count": null,
   "metadata": {
    "executionInfo": {
     "elapsed": 2,
     "status": "ok",
     "timestamp": 1654210337318,
     "user": {
      "displayName": "Haw-minn Lu",
      "userId": "16109571175851064283"
     },
     "user_tz": 420
    },
    "id": "Go6jAE2_0cU8"
   },
   "outputs": [],
   "source": [
    "pattern1 = mnar_df.dropna(subset=[\"uncorrelated\"])\n",
    "pattern2 = mnar_df[mnar_df[\"uncorrelated\"].isnull()]"
   ]
  },
  {
   "cell_type": "code",
   "execution_count": null,
   "metadata": {
    "colab": {
     "base_uri": "https://localhost:8080/",
     "height": 206
    },
    "executionInfo": {
     "elapsed": 186,
     "status": "ok",
     "timestamp": 1654205524328,
     "user": {
      "displayName": "Haw-minn Lu",
      "userId": "16109571175851064283"
     },
     "user_tz": 420
    },
    "id": "v8sH4-1PVJ2w",
    "outputId": "ed7a2b9d-a52f-428b-a962-0648bcf9b312"
   },
   "outputs": [],
   "source": [
    "littles_eyeball_test(mnar_df, 'uncorrelated')"
   ]
  },
  {
   "cell_type": "code",
   "execution_count": null,
   "metadata": {
    "colab": {
     "base_uri": "https://localhost:8080/",
     "height": 206
    },
    "executionInfo": {
     "elapsed": 217,
     "status": "ok",
     "timestamp": 1654205475189,
     "user": {
      "displayName": "Haw-minn Lu",
      "userId": "16109571175851064283"
     },
     "user_tz": 420
    },
    "id": "BPEUP2yNuW3G",
    "outputId": "e6361517-e889-4960-c32e-94ce8af310ca"
   },
   "outputs": [],
   "source": [
    "pd.concat([pattern1.mean(), pattern2.mean()], axis=\"columns\")"
   ]
  },
  {
   "cell_type": "code",
   "execution_count": null,
   "metadata": {
    "colab": {
     "base_uri": "https://localhost:8080/",
     "height": 175
    },
    "executionInfo": {
     "elapsed": 258,
     "status": "ok",
     "timestamp": 1651309592931,
     "user": {
      "displayName": "Haw-minn Lu",
      "userId": "16109571175851064283"
     },
     "user_tz": 420
    },
    "id": "EYh7wFg0t1w3",
    "outputId": "3042c470-2c1b-4747-e680-a93abe8c637a"
   },
   "outputs": [],
   "source": [
    "pattern1.drop(columns=[\"uncorrelated\"]).cov()"
   ]
  },
  {
   "cell_type": "code",
   "execution_count": null,
   "metadata": {
    "colab": {
     "base_uri": "https://localhost:8080/",
     "height": 175
    },
    "executionInfo": {
     "elapsed": 171,
     "status": "ok",
     "timestamp": 1651309608637,
     "user": {
      "displayName": "Haw-minn Lu",
      "userId": "16109571175851064283"
     },
     "user_tz": 420
    },
    "id": "S6uuM0Lw1aIL",
    "outputId": "bb659088-d459-485a-97c7-01f56a556d07"
   },
   "outputs": [],
   "source": [
    "pattern2.drop(columns=[\"uncorrelated\"]).cov()"
   ]
  },
  {
   "cell_type": "code",
   "execution_count": null,
   "metadata": {
    "colab": {
     "base_uri": "https://localhost:8080/",
     "height": 175
    },
    "executionInfo": {
     "elapsed": 14,
     "status": "ok",
     "timestamp": 1651309699372,
     "user": {
      "displayName": "Haw-minn Lu",
      "userId": "16109571175851064283"
     },
     "user_tz": 420
    },
    "id": "e12nOYCQ1lgy",
    "outputId": "c5044a32-c569-4e1d-fe76-7544ef1e997e"
   },
   "outputs": [],
   "source": [
    "(\n",
    "    pattern1.drop(columns=[\"uncorrelated\"]).cov()\n",
    "    - pattern2.drop(columns=[\"uncorrelated\"]).cov()\n",
    ")"
   ]
  },
  {
   "cell_type": "code",
   "execution_count": null,
   "metadata": {
    "colab": {
     "base_uri": "https://localhost:8080/",
     "height": 238
    },
    "executionInfo": {
     "elapsed": 187,
     "status": "ok",
     "timestamp": 1651295586355,
     "user": {
      "displayName": "Haw-minn Lu",
      "userId": "16109571175851064283"
     },
     "user_tz": 420
    },
    "id": "-iY5BPfJ2BVE",
    "outputId": "548a309f-d35d-45bf-d233-ff878212a8f0"
   },
   "outputs": [],
   "source": [
    "fmnar_df.corr()"
   ]
  },
  {
   "cell_type": "markdown",
   "metadata": {
    "id": "IoHIBEteF04C"
   },
   "source": []
  },
  {
   "cell_type": "markdown",
   "metadata": {
    "id": "sgzuGawv9dxu"
   },
   "source": []
  },
  {
   "cell_type": "code",
   "execution_count": null,
   "metadata": {
    "id": "uKVI6Ks6lASt"
   },
   "outputs": [],
   "source": [
    "from sklearn.covariance import EmpiricalCovariance"
   ]
  },
  {
   "cell_type": "code",
   "execution_count": null,
   "metadata": {
    "colab": {
     "base_uri": "https://localhost:8080/"
    },
    "executionInfo": {
     "elapsed": 201,
     "status": "ok",
     "timestamp": 1651302557042,
     "user": {
      "displayName": "Haw-minn Lu",
      "userId": "16109571175851064283"
     },
     "user_tz": 420
    },
    "id": "hJB1x8DIlD3k",
    "outputId": "199a4a71-b149-4397-8037-f4e2fc059583"
   },
   "outputs": [],
   "source": [
    "mcar_df.mean()"
   ]
  },
  {
   "cell_type": "code",
   "execution_count": null,
   "metadata": {
    "colab": {
     "base_uri": "https://localhost:8080/"
    },
    "executionInfo": {
     "elapsed": 222,
     "status": "ok",
     "timestamp": 1651302552049,
     "user": {
      "displayName": "Haw-minn Lu",
      "userId": "16109571175851064283"
     },
     "user_tz": 420
    },
    "id": "7ZZQXg82lEgW",
    "outputId": "821ce4df-119b-451f-84c2-9ac91ff4a889"
   },
   "outputs": [],
   "source": [
    "mcar_df.dropna().mean()"
   ]
  },
  {
   "cell_type": "code",
   "execution_count": null,
   "metadata": {
    "colab": {
     "base_uri": "https://localhost:8080/"
    },
    "executionInfo": {
     "elapsed": 217,
     "status": "ok",
     "timestamp": 1651302649454,
     "user": {
      "displayName": "Haw-minn Lu",
      "userId": "16109571175851064283"
     },
     "user_tz": 420
    },
    "id": "Iy0fRo2YTXVF",
    "outputId": "ed031b94-4ec5-4c96-9697-f4381f8a5947"
   },
   "outputs": [],
   "source": [
    "mcar_df[mcar_df[\"feature a\"].isnull()].mean()"
   ]
  },
  {
   "cell_type": "code",
   "execution_count": null,
   "metadata": {
    "colab": {
     "base_uri": "https://localhost:8080/"
    },
    "executionInfo": {
     "elapsed": 209,
     "status": "ok",
     "timestamp": 1651302410166,
     "user": {
      "displayName": "Haw-minn Lu",
      "userId": "16109571175851064283"
     },
     "user_tz": 420
    },
    "id": "CHpIl1-dlN4d",
    "outputId": "c755ca8e-a5cb-4be4-bf08-1094dbe6f599"
   },
   "outputs": [],
   "source": [
    "mar_df.dropna().mean()"
   ]
  },
  {
   "cell_type": "code",
   "execution_count": null,
   "metadata": {
    "colab": {
     "base_uri": "https://localhost:8080/"
    },
    "executionInfo": {
     "elapsed": 155,
     "status": "ok",
     "timestamp": 1651302478623,
     "user": {
      "displayName": "Haw-minn Lu",
      "userId": "16109571175851064283"
     },
     "user_tz": 420
    },
    "id": "j7Phhtt6lOYr",
    "outputId": "329860d8-4d66-4259-ac68-60ef80ee98c4"
   },
   "outputs": [],
   "source": [
    "mar_df.mean()"
   ]
  },
  {
   "cell_type": "code",
   "execution_count": null,
   "metadata": {
    "colab": {
     "base_uri": "https://localhost:8080/"
    },
    "executionInfo": {
     "elapsed": 285,
     "status": "ok",
     "timestamp": 1651302509298,
     "user": {
      "displayName": "Haw-minn Lu",
      "userId": "16109571175851064283"
     },
     "user_tz": 420
    },
    "id": "w3PcA1lmlYBD",
    "outputId": "a4df85d6-d009-46bd-9ff3-352020dc8143"
   },
   "outputs": [],
   "source": [
    "mar_df[mar_df[\"feature a\"].isnull()].mean()"
   ]
  },
  {
   "cell_type": "code",
   "execution_count": null,
   "metadata": {
    "colab": {
     "base_uri": "https://localhost:8080/",
     "height": 38
    },
    "executionInfo": {
     "elapsed": 175,
     "status": "ok",
     "timestamp": 1651122920379,
     "user": {
      "displayName": "Haw-minn Lu",
      "userId": "16109571175851064283"
     },
     "user_tz": 420
    },
    "id": "TVxmiyNylx7r",
    "outputId": "22fd0d32-1acf-4126-d649-3e88198c2f33"
   },
   "outputs": [],
   "source": []
  },
  {
   "cell_type": "markdown",
   "metadata": {
    "id": "mHr5KNxKWE7V"
   },
   "source": [
    "Conclusion on the Theory Section\n",
    "\n",
    "*   There is no way from just the data itself to distinguish between MCAR and MNAR. \n",
    "\n",
    "*   The so-called MCAR tests are really \"not MAR\" tests\n",
    "  * Most those tests assume you have already excluded MNAR\n",
    "* Recommend if the missingness is not MAR assume the worst and treat it as MNAR.\n",
    "* If missingness is MAR, you should use multivariate imputation not deletion.\n"
   ]
  },
  {
   "cell_type": "code",
   "execution_count": null,
   "metadata": {
    "id": "vkZSdgI7ly6M"
   },
   "outputs": [],
   "source": []
  },
  {
   "cell_type": "markdown",
   "metadata": {
    "id": "LvO5vSmaUeRj"
   },
   "source": [
    ":warning\n",
    "\n",
    "# $\\color{red}{\\text{⚠}}$\n"
   ]
  },
  {
   "cell_type": "code",
   "execution_count": null,
   "metadata": {
    "colab": {
     "base_uri": "https://localhost:8080/",
     "height": 304
    },
    "executionInfo": {
     "elapsed": 205,
     "status": "error",
     "timestamp": 1654210514533,
     "user": {
      "displayName": "Haw-minn Lu",
      "userId": "16109571175851064283"
     },
     "user_tz": 420
    },
    "id": "AjWabbXOUy2a",
    "outputId": "1fa17c15-92d8-4a03-cd9b-683910d7daca"
   },
   "outputs": [],
   "source": [
    "import autoimpute"
   ]
  },
  {
   "cell_type": "markdown",
   "metadata": {
    "id": "fZ7RtWXA9faV"
   },
   "source": [
    "Setup (10 minutes)\n",
    "\n",
    "Before the tutorial, participants will be provided with a link to a GitHub repository containing all the datasets, Jupyter notebooks and for those who have docker, a docker image prebuilt with all the necessary libraries. Using docker images is encourage as it will contain all correct and compatible version of the libraries\n",
    "\n",
    "Overview (10 minutes)\n",
    "\n",
    "The overview will outline the agenda for the workshop. Briefly touching on the theory, detection, treatment of missing data. \n",
    "\n",
    "Theory of Missing Data and Missingness Mechanisms (40 minutes)\n",
    "\n",
    "Often missing data is considered an inconvenience and swept away without much consideration. In this section of the workshop we will discuss the statistical basis of missing data including the three missingness mechanisms: MCAR (missing completely at random), MAR (missing at random) and MNAR (missing not at random).\n",
    "\n",
    "In addition, using these principles participants will construct from existing complete data sets, data sets exhibiting missing data under these mechanisms for use later in the workshop.\n",
    "\n",
    "Visualizing the Degree of Missing Data in a Dataset (30 minutes)\n",
    "\n",
    "In this section, participants  will use tools such as missingno to visualize the degree of missingness in a data set. Learning to interpret and assess these visualizations will help determine the usefulness of a dataset, answering questions like “Is there too much data missing?” or “Is the bulk of the missing data in columns I care about?”\n",
    "\n",
    "– break –\n",
    "\n",
    "Common Treatment Practices and Pitfalls (30 minutes)\n",
    "\n",
    "Using the generated incomplete datasets, we will discuss some of the common ways missing data is dealt with and using the exercises seeing the pitfalls of these techniques. The most common practices include dropping missing values, backfilling, and zero filling. The exercises will compare statistically datasets with missing values, treated datasets and the original datasets.\n",
    "\n",
    "-- break --\n",
    "\n",
    "Imputation Techniques (80 minutes)\n",
    "\n",
    "This section takes a deeper dive into conditioning datasets with missing data. Participants will employ a variety of single and multiple imputation techniques to the datasets and apply various metrics to evaluate their properties. \n",
    "\n",
    "The simplest single imputation techniques include mean and median imputation. Followed by two more complex multiple imputation techniques including multivariate imputation by chained equations (MICE) and the family of autoencoder based imputation techniques, including one published here http://www.ibai-publishing.org/html/proceedings_2020/pdf/proceedings_book_MLDM_2020.pdf p. 197 by the speaker.\n",
    "\n",
    "Since some off the shelf libraries are not available for some of these techniques, the workshop will demonstrate and provide code pieces to implement these techniques.\n",
    "\n",
    "-- break --\n",
    "\n",
    "Categorical Data  (30 minutes)\n",
    "\n",
    "Categorical data has always posed a challenge in the numerically dominated data science world. The same is true with respect to imputation. Participants will employ encoding techniques as well as imputation techniques specifically meant for categorical data including predictive mean matching and hot deck imputation.\n",
    "\n",
    "Conclusion (10 minutes)\n",
    "\n",
    "We’ll recap the lessons learned and provide references.\n",
    "\n"
   ]
  }
 ],
 "metadata": {
  "colab": {
   "collapsed_sections": [],
   "name": "1-Deeper Dive into Missingness Mechanisms.ipynb",
   "provenance": [
    {
     "file_id": "147R7Q0ENB8T3VuWNvb_JVzLUW967tWTz",
     "timestamp": 1651305625803
    }
   ]
  },
  "kernelspec": {
   "display_name": "Python 3",
   "name": "python3"
  },
  "language_info": {
   "name": "python"
  }
 },
 "nbformat": 4,
 "nbformat_minor": 0
}
