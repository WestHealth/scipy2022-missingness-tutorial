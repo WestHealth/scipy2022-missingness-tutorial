{
 "cells": [
  {
   "cell_type": "markdown",
   "metadata": {
    "id": "WvQYUhOqtN0d"
   },
   "source": [
    "# $\\color{purple}{\\text{Understanding Missing Data and How to Deal with It (Part 6)}}$"
   ]
  },
  {
   "cell_type": "markdown",
   "metadata": {
    "id": "TopzKHmOtVtL"
   },
   "source": [
    "## $\\color{purple}{\\text{Missing Data in the Age of Machine Learning and Artifical Neural Network}}$"
   ]
  },
  {
   "cell_type": "markdown",
   "metadata": {
    "tags": [
     "colab"
    ]
   },
   "source": [
    "### $\\color{purple}{\\text{Colab Environmental Setup}}$"
   ]
  },
  {
   "cell_type": "raw",
   "metadata": {
    "tags": [
     "colab"
    ]
   },
   "source": [
    "from google.colab import drive\n",
    "import os\n",
    "drive.mount('/content/drive')\n",
    "os.chdir('/content/drive/My Drive/missingness_tutorial')"
   ]
  },
  {
   "cell_type": "markdown",
   "metadata": {},
   "source": [
    "### $\\color{purple}{\\text{Libraries for this lesson}}$"
   ]
  },
  {
   "cell_type": "code",
   "execution_count": 1,
   "metadata": {},
   "outputs": [],
   "source": [
    "import matplotlib.pyplot as plt\n",
    "import numpy as np\n",
    "import pandas as pd\n",
    "import tensorflow as tf\n",
    "from autoimpute.imputations import MiceImputer\n",
    "from autoimpute.imputations import SingleImputer\n",
    "from matplotlib.patches import Rectangle\n",
    "from sklearn.compose import ColumnTransformer\n",
    "from sklearn.ensemble import RandomForestRegressor\n",
    "from sklearn.model_selection import train_test_split\n",
    "from sklearn.pipeline import make_pipeline\n",
    "from sklearn.preprocessing import FunctionTransformer\n",
    "from sklearn.preprocessing import OneHotEncoder\n",
    "from sklearn.preprocessing import StandardScaler\n",
    "\n",
    "from helpers import ImputationDisplayer, stat_comparison"
   ]
  },
  {
   "cell_type": "markdown",
   "metadata": {},
   "source": [
    "### $\\color{purple}{\\text{Neural Network Imputers}}$\n",
    "\n",
    "#### $\\color{purple}{\\text{Denoising Autoencoders}}$\n",
    "\n",
    "* The missing data (or deviation from an imputed value) is treated as noise.\n",
    "* Denoising autoencoders are neural networks trained on the same input and output.\n",
    "* Theory is that the output is trained so that the output is the input with noise removed.\n",
    "* To work properly, data should be normalized during the imputation.\n",
    "\n",
    "`scaler` uses `sklearn`'s `StandardScaler`\n"
   ]
  },
  {
   "cell_type": "code",
   "execution_count": 2,
   "metadata": {},
   "outputs": [],
   "source": [
    "df = pd.read_csv('data/full_set.csv')\n",
    "dmar_df = pd.read_csv('data/double_mar_set.csv')\n",
    "ImputationDisplayer(dmar_df)\n",
    "scaler = StandardScaler()\n",
    "scaler.fit(dmar_df)\n",
    "sdmar_df = pd.DataFrame(scaler.transform(dmar_df), columns=dmar_df.columns)"
   ]
  },
  {
   "cell_type": "code",
   "execution_count": 3,
   "metadata": {},
   "outputs": [],
   "source": [
    "def restore_df(scaler, x):\n",
    "    \"\"\"\n",
    "    Inverse the scaler and created a dataframe\n",
    "    \"\"\"\n",
    "    return pd.DataFrame(scaler.inverse_transform(x), columns=dmar_df.columns)"
   ]
  },
  {
   "cell_type": "markdown",
   "metadata": {},
   "source": [
    "The basic autoencoder proposed by [Gondara and Wang](https://arxiv.org/abs/1705.02737)\n",
    "* Deep neural network with 5 hidden layers with a dropout layer\n",
    "* $\\Theta$ is a hyperparameter governing the expansion and contraction of the layer\n",
    "* $\\Theta=7$ is suggested by best practice.\n",
    "* In the first 3 hidden layers, each layer expands by $\\Theta$ and contracts by $\\Theta$ in the last 2 hidden layers."
   ]
  },
  {
   "cell_type": "markdown",
   "metadata": {},
   "source": [
    "#### Step 1 Impute the data set using univariate imputation\n",
    "The recommendation is that mean or median imputation of numeric data and mode imputation of categorical data"
   ]
  },
  {
   "cell_type": "code",
   "execution_count": 4,
   "metadata": {},
   "outputs": [],
   "source": [
    "univariate_imputed = SingleImputer('median').fit_transform(sdmar_df)"
   ]
  },
  {
   "cell_type": "markdown",
   "metadata": {},
   "source": [
    "#### Step 2 Split data into training and test sets\n",
    "This is only necessary if you are building a model that accepts future data (open configuration). If the data set is closed (i.e. you don't expect any new data) then you can set the test_size to 0"
   ]
  },
  {
   "cell_type": "code",
   "execution_count": 5,
   "metadata": {},
   "outputs": [],
   "source": [
    "theta = 7\n",
    "# Divide into training and test sets\n",
    "training, test = train_test_split(univariate_imputed, test_size=0.3)"
   ]
  },
  {
   "cell_type": "markdown",
   "metadata": {},
   "source": [
    "#### Step 3 Build, Compile and Train a Deep Neural Network Model\n",
    "* theta and activation function are hyperparameters\n",
    "\n",
    "See `tensorflow` and `keras` documentation for further detail"
   ]
  },
  {
   "cell_type": "code",
   "execution_count": 6,
   "metadata": {},
   "outputs": [
    {
     "name": "stderr",
     "output_type": "stream",
     "text": [
      "2022-07-05 21:42:01.847637: W tensorflow/stream_executor/platform/default/dso_loader.cc:64] Could not load dynamic library 'libcuda.so.1'; dlerror: libcuda.so.1: cannot open shared object file: No such file or directory\n",
      "2022-07-05 21:42:01.847721: W tensorflow/stream_executor/cuda/cuda_driver.cc:269] failed call to cuInit: UNKNOWN ERROR (303)\n",
      "2022-07-05 21:42:01.847751: I tensorflow/stream_executor/cuda/cuda_diagnostics.cc:156] kernel driver does not appear to be running on this host (7501b53e19ae): /proc/driver/nvidia/version does not exist\n",
      "2022-07-05 21:42:01.848102: I tensorflow/core/platform/cpu_feature_guard.cc:142] This TensorFlow binary is optimized with oneAPI Deep Neural Network Library (oneDNN) to use the following CPU instructions in performance-critical operations:  SSE4.1 SSE4.2 AVX AVX2 FMA\n",
      "To enable them in other operations, rebuild TensorFlow with the appropriate compiler flags.\n"
     ]
    }
   ],
   "source": [
    "# Build the model\n",
    "model = tf.keras.models.Sequential([\n",
    "    tf.keras.layers.Dropout(0.2),\n",
    "    tf.keras.layers.Dense(5 + theta, activation=tf.nn.tanh),\n",
    "    tf.keras.layers.Dense(5 + 2 * theta, activation=tf.nn.tanh),\n",
    "    tf.keras.layers.Dense(5 + 3 * theta, activation=tf.nn.tanh),\n",
    "    tf.keras.layers.Dense(5 + 2 * theta, activation=tf.nn.tanh),\n",
    "    tf.keras.layers.Dense(5 + theta, activation=tf.nn.tanh),\n",
    "    tf.keras.layers.Dense(5)\n",
    "])"
   ]
  },
  {
   "cell_type": "code",
   "execution_count": 7,
   "metadata": {},
   "outputs": [],
   "source": [
    "# Compile the model\n",
    "model.compile(optimizer='adam', loss='mse')"
   ]
  },
  {
   "cell_type": "code",
   "execution_count": 8,
   "metadata": {},
   "outputs": [
    {
     "name": "stderr",
     "output_type": "stream",
     "text": [
      "2022-07-05 21:42:12.794264: I tensorflow/compiler/mlir/mlir_graph_optimization_pass.cc:185] None of the MLIR Optimization Passes are enabled (registered 2)\n"
     ]
    }
   ],
   "source": [
    "history = model.fit(training, training, epochs=50, verbose=False)"
   ]
  },
  {
   "cell_type": "markdown",
   "metadata": {},
   "source": [
    "You can visualize the progress of the loss"
   ]
  },
  {
   "cell_type": "code",
   "execution_count": 9,
   "metadata": {},
   "outputs": [
    {
     "data": {
      "text/plain": [
       "[<matplotlib.lines.Line2D at 0x7feb1850bc10>]"
      ]
     },
     "execution_count": 9,
     "metadata": {},
     "output_type": "execute_result"
    },
    {
     "data": {
      "image/png": "[encoded data removed]",
      "text/plain": [
       "<Figure size 432x288 with 1 Axes>"
      ]
     },
     "metadata": {
      "needs_background": "light"
     },
     "output_type": "display_data"
    }
   ],
   "source": [
    "plt.plot(history.history['loss'])"
   ]
  },
  {
   "cell_type": "markdown",
   "metadata": {},
   "source": [
    "#### Step 4 Make Prediction based on initial imputation.\n",
    "We replace the missing values with the predicted value. We also convert back to `pandas` `DataFrame`"
   ]
  },
  {
   "cell_type": "code",
   "execution_count": 10,
   "metadata": {},
   "outputs": [],
   "source": [
    "predicted = pd.DataFrame(model.predict(univariate_imputed),\n",
    "                         columns=dmar_df.columns)"
   ]
  },
  {
   "cell_type": "code",
   "execution_count": 11,
   "metadata": {},
   "outputs": [],
   "source": [
    "# Don't forget to rescale the data after filling in missing data\n",
    "imputed = restore_df(scaler, sdmar_df.combine_first(predicted))"
   ]
  },
  {
   "cell_type": "code",
   "execution_count": 12,
   "metadata": {
    "tags": [
     "master"
    ]
   },
   "outputs": [
    {
     "data": {
      "text/html": [
       "<style type=\"text/css\">\n",
       "#T_c5e7e_row0_col1, #T_c5e7e_row1_col0, #T_c5e7e_row8_col0 {\n",
       "  background-color: paleturquoise;\n",
       "}\n",
       "</style>\n",
       "<table id=\"T_c5e7e\">\n",
       "  <thead>\n",
       "    <tr>\n",
       "      <th class=\"blank level0\" >&nbsp;</th>\n",
       "      <th id=\"T_c5e7e_level0_col0\" class=\"col_heading level0 col0\" >feature a</th>\n",
       "      <th id=\"T_c5e7e_level0_col1\" class=\"col_heading level0 col1\" >feature b</th>\n",
       "      <th id=\"T_c5e7e_level0_col2\" class=\"col_heading level0 col2\" >feature c</th>\n",
       "      <th id=\"T_c5e7e_level0_col3\" class=\"col_heading level0 col3\" >feature d</th>\n",
       "      <th id=\"T_c5e7e_level0_col4\" class=\"col_heading level0 col4\" >uncorrelated</th>\n",
       "    </tr>\n",
       "  </thead>\n",
       "  <tbody>\n",
       "    <tr>\n",
       "      <th id=\"T_c5e7e_level0_row0\" class=\"row_heading level0 row0\" >0</th>\n",
       "      <td id=\"T_c5e7e_row0_col0\" class=\"data row0 col0\" >2.777245</td>\n",
       "      <td id=\"T_c5e7e_row0_col1\" class=\"data row0 col1\" >2.030612</td>\n",
       "      <td id=\"T_c5e7e_row0_col2\" class=\"data row0 col2\" >-1.552282</td>\n",
       "      <td id=\"T_c5e7e_row0_col3\" class=\"data row0 col3\" >8.772158</td>\n",
       "      <td id=\"T_c5e7e_row0_col4\" class=\"data row0 col4\" >0.360789</td>\n",
       "    </tr>\n",
       "    <tr>\n",
       "      <th id=\"T_c5e7e_level0_row1\" class=\"row_heading level0 row1\" >1</th>\n",
       "      <td id=\"T_c5e7e_row1_col0\" class=\"data row1 col0\" >2.404555</td>\n",
       "      <td id=\"T_c5e7e_row1_col1\" class=\"data row1 col1\" >2.223169</td>\n",
       "      <td id=\"T_c5e7e_row1_col2\" class=\"data row1 col2\" >-0.645673</td>\n",
       "      <td id=\"T_c5e7e_row1_col3\" class=\"data row1 col3\" >8.815675</td>\n",
       "      <td id=\"T_c5e7e_row1_col4\" class=\"data row1 col4\" >0.393466</td>\n",
       "    </tr>\n",
       "    <tr>\n",
       "      <th id=\"T_c5e7e_level0_row2\" class=\"row_heading level0 row2\" >2</th>\n",
       "      <td id=\"T_c5e7e_row2_col0\" class=\"data row2 col0\" >1.936893</td>\n",
       "      <td id=\"T_c5e7e_row2_col1\" class=\"data row2 col1\" >2.182897</td>\n",
       "      <td id=\"T_c5e7e_row2_col2\" class=\"data row2 col2\" >-2.474526</td>\n",
       "      <td id=\"T_c5e7e_row2_col3\" class=\"data row2 col3\" >8.549983</td>\n",
       "      <td id=\"T_c5e7e_row2_col4\" class=\"data row2 col4\" >0.891191</td>\n",
       "    </tr>\n",
       "    <tr>\n",
       "      <th id=\"T_c5e7e_level0_row3\" class=\"row_heading level0 row3\" >3</th>\n",
       "      <td id=\"T_c5e7e_row3_col0\" class=\"data row3 col0\" >2.484183</td>\n",
       "      <td id=\"T_c5e7e_row3_col1\" class=\"data row3 col1\" >1.618856</td>\n",
       "      <td id=\"T_c5e7e_row3_col2\" class=\"data row3 col2\" >-1.404809</td>\n",
       "      <td id=\"T_c5e7e_row3_col3\" class=\"data row3 col3\" >7.360904</td>\n",
       "      <td id=\"T_c5e7e_row3_col4\" class=\"data row3 col4\" >0.156937</td>\n",
       "    </tr>\n",
       "    <tr>\n",
       "      <th id=\"T_c5e7e_level0_row4\" class=\"row_heading level0 row4\" >4</th>\n",
       "      <td id=\"T_c5e7e_row4_col0\" class=\"data row4 col0\" >2.089727</td>\n",
       "      <td id=\"T_c5e7e_row4_col1\" class=\"data row4 col1\" >2.698967</td>\n",
       "      <td id=\"T_c5e7e_row4_col2\" class=\"data row4 col2\" >-1.464007</td>\n",
       "      <td id=\"T_c5e7e_row4_col3\" class=\"data row4 col3\" >7.786100</td>\n",
       "      <td id=\"T_c5e7e_row4_col4\" class=\"data row4 col4\" >0.046178</td>\n",
       "    </tr>\n",
       "    <tr>\n",
       "      <th id=\"T_c5e7e_level0_row5\" class=\"row_heading level0 row5\" >5</th>\n",
       "      <td id=\"T_c5e7e_row5_col0\" class=\"data row5 col0\" >3.369940</td>\n",
       "      <td id=\"T_c5e7e_row5_col1\" class=\"data row5 col1\" >2.842243</td>\n",
       "      <td id=\"T_c5e7e_row5_col2\" class=\"data row5 col2\" >-0.716772</td>\n",
       "      <td id=\"T_c5e7e_row5_col3\" class=\"data row5 col3\" >8.767852</td>\n",
       "      <td id=\"T_c5e7e_row5_col4\" class=\"data row5 col4\" >0.342830</td>\n",
       "    </tr>\n",
       "    <tr>\n",
       "      <th id=\"T_c5e7e_level0_row6\" class=\"row_heading level0 row6\" >6</th>\n",
       "      <td id=\"T_c5e7e_row6_col0\" class=\"data row6 col0\" >0.764542</td>\n",
       "      <td id=\"T_c5e7e_row6_col1\" class=\"data row6 col1\" >1.532282</td>\n",
       "      <td id=\"T_c5e7e_row6_col2\" class=\"data row6 col2\" >-3.850084</td>\n",
       "      <td id=\"T_c5e7e_row6_col3\" class=\"data row6 col3\" >7.992571</td>\n",
       "      <td id=\"T_c5e7e_row6_col4\" class=\"data row6 col4\" >0.678203</td>\n",
       "    </tr>\n",
       "    <tr>\n",
       "      <th id=\"T_c5e7e_level0_row7\" class=\"row_heading level0 row7\" >7</th>\n",
       "      <td id=\"T_c5e7e_row7_col0\" class=\"data row7 col0\" >3.539507</td>\n",
       "      <td id=\"T_c5e7e_row7_col1\" class=\"data row7 col1\" >2.120999</td>\n",
       "      <td id=\"T_c5e7e_row7_col2\" class=\"data row7 col2\" >0.181066</td>\n",
       "      <td id=\"T_c5e7e_row7_col3\" class=\"data row7 col3\" >7.158813</td>\n",
       "      <td id=\"T_c5e7e_row7_col4\" class=\"data row7 col4\" >0.942345</td>\n",
       "    </tr>\n",
       "    <tr>\n",
       "      <th id=\"T_c5e7e_level0_row8\" class=\"row_heading level0 row8\" >8</th>\n",
       "      <td id=\"T_c5e7e_row8_col0\" class=\"data row8 col0\" >2.391970</td>\n",
       "      <td id=\"T_c5e7e_row8_col1\" class=\"data row8 col1\" >1.816557</td>\n",
       "      <td id=\"T_c5e7e_row8_col2\" class=\"data row8 col2\" >-1.325628</td>\n",
       "      <td id=\"T_c5e7e_row8_col3\" class=\"data row8 col3\" >8.144401</td>\n",
       "      <td id=\"T_c5e7e_row8_col4\" class=\"data row8 col4\" >0.460626</td>\n",
       "    </tr>\n",
       "    <tr>\n",
       "      <th id=\"T_c5e7e_level0_row9\" class=\"row_heading level0 row9\" >9</th>\n",
       "      <td id=\"T_c5e7e_row9_col0\" class=\"data row9 col0\" >0.445575</td>\n",
       "      <td id=\"T_c5e7e_row9_col1\" class=\"data row9 col1\" >0.827475</td>\n",
       "      <td id=\"T_c5e7e_row9_col2\" class=\"data row9 col2\" >-4.705004</td>\n",
       "      <td id=\"T_c5e7e_row9_col3\" class=\"data row9 col3\" >8.161819</td>\n",
       "      <td id=\"T_c5e7e_row9_col4\" class=\"data row9 col4\" >0.014623</td>\n",
       "    </tr>\n",
       "  </tbody>\n",
       "</table>\n"
      ],
      "text/plain": [
       "<pandas.io.formats.style.Styler at 0x7feb183a3ac0>"
      ]
     },
     "execution_count": 12,
     "metadata": {},
     "output_type": "execute_result"
    }
   ],
   "source": [
    "dmar_df.displayer(imputed, 10)"
   ]
  },
  {
   "cell_type": "code",
   "execution_count": 13,
   "metadata": {
    "tags": [
     "master"
    ]
   },
   "outputs": [
    {
     "data": {
      "text/html": [
       "<div>\n",
       "<style scoped>\n",
       "    .dataframe tbody tr th:only-of-type {\n",
       "        vertical-align: middle;\n",
       "    }\n",
       "\n",
       "    .dataframe tbody tr th {\n",
       "        vertical-align: top;\n",
       "    }\n",
       "\n",
       "    .dataframe thead th {\n",
       "        text-align: right;\n",
       "    }\n",
       "</style>\n",
       "<table border=\"1\" class=\"dataframe\">\n",
       "  <thead>\n",
       "    <tr style=\"text-align: right;\">\n",
       "      <th></th>\n",
       "      <th>Original</th>\n",
       "      <th>With Missing Data</th>\n",
       "      <th>difference</th>\n",
       "      <th>percentage</th>\n",
       "    </tr>\n",
       "  </thead>\n",
       "  <tbody>\n",
       "    <tr>\n",
       "      <th>mean</th>\n",
       "      <td>2.411082</td>\n",
       "      <td>2.209132</td>\n",
       "      <td>0.201950</td>\n",
       "      <td>8.375926</td>\n",
       "    </tr>\n",
       "    <tr>\n",
       "      <th>median</th>\n",
       "      <td>2.420924</td>\n",
       "      <td>2.302770</td>\n",
       "      <td>0.118154</td>\n",
       "      <td>4.880549</td>\n",
       "    </tr>\n",
       "    <tr>\n",
       "      <th>stdev</th>\n",
       "      <td>1.279456</td>\n",
       "      <td>1.128238</td>\n",
       "      <td>0.151218</td>\n",
       "      <td>11.818952</td>\n",
       "    </tr>\n",
       "  </tbody>\n",
       "</table>\n",
       "</div>"
      ],
      "text/plain": [
       "        Original  With Missing Data  difference  percentage\n",
       "mean    2.411082           2.209132    0.201950    8.375926\n",
       "median  2.420924           2.302770    0.118154    4.880549\n",
       "stdev   1.279456           1.128238    0.151218   11.818952"
      ]
     },
     "execution_count": 13,
     "metadata": {},
     "output_type": "execute_result"
    }
   ],
   "source": [
    "stat_comparison(df, imputed, 'feature a')"
   ]
  },
  {
   "cell_type": "code",
   "execution_count": 14,
   "metadata": {
    "tags": [
     "master"
    ]
   },
   "outputs": [
    {
     "data": {
      "text/html": [
       "<div>\n",
       "<style scoped>\n",
       "    .dataframe tbody tr th:only-of-type {\n",
       "        vertical-align: middle;\n",
       "    }\n",
       "\n",
       "    .dataframe tbody tr th {\n",
       "        vertical-align: top;\n",
       "    }\n",
       "\n",
       "    .dataframe thead th {\n",
       "        text-align: right;\n",
       "    }\n",
       "</style>\n",
       "<table border=\"1\" class=\"dataframe\">\n",
       "  <thead>\n",
       "    <tr style=\"text-align: right;\">\n",
       "      <th></th>\n",
       "      <th>Original</th>\n",
       "      <th>With Missing Data</th>\n",
       "      <th>difference</th>\n",
       "      <th>percentage</th>\n",
       "    </tr>\n",
       "  </thead>\n",
       "  <tbody>\n",
       "    <tr>\n",
       "      <th>mean</th>\n",
       "      <td>2.167609</td>\n",
       "      <td>2.052141</td>\n",
       "      <td>0.115468</td>\n",
       "      <td>5.326985</td>\n",
       "    </tr>\n",
       "    <tr>\n",
       "      <th>median</th>\n",
       "      <td>2.169837</td>\n",
       "      <td>2.069987</td>\n",
       "      <td>0.099850</td>\n",
       "      <td>4.601742</td>\n",
       "    </tr>\n",
       "    <tr>\n",
       "      <th>stdev</th>\n",
       "      <td>0.752618</td>\n",
       "      <td>0.666328</td>\n",
       "      <td>0.086290</td>\n",
       "      <td>11.465284</td>\n",
       "    </tr>\n",
       "  </tbody>\n",
       "</table>\n",
       "</div>"
      ],
      "text/plain": [
       "        Original  With Missing Data  difference  percentage\n",
       "mean    2.167609           2.052141    0.115468    5.326985\n",
       "median  2.169837           2.069987    0.099850    4.601742\n",
       "stdev   0.752618           0.666328    0.086290   11.465284"
      ]
     },
     "execution_count": 14,
     "metadata": {},
     "output_type": "execute_result"
    }
   ],
   "source": [
    "stat_comparison(df, imputed, 'feature b')"
   ]
  },
  {
   "cell_type": "markdown",
   "metadata": {},
   "source": [
    "#### $\\color{purple}{\\text{Improved Feedback Denoising Autoencoders}}$\n",
    "\n",
    "My own enhancement to the denoising autoencoder see [here](https://arxiv.org/abs/2002.08338)\n",
    "\n",
    "The algorithm was designed for closed data sets. This example shows one enhancement to the denoising autoencoder (DAE), the iterative refinement of the imputed values. It starts similarly by univariate imputation as **step 1**."
   ]
  },
  {
   "cell_type": "code",
   "execution_count": 15,
   "metadata": {},
   "outputs": [],
   "source": [
    "univariate_imputation = SingleImputer('median').fit_transform(sdmar_df)"
   ]
  },
  {
   "cell_type": "markdown",
   "metadata": {},
   "source": [
    "#### Step 2 Build and Compile Deep Neural Network Model\n",
    "We use the same architecture as the DAE"
   ]
  },
  {
   "cell_type": "code",
   "execution_count": 16,
   "metadata": {},
   "outputs": [],
   "source": [
    "# Build the model\n",
    "model = tf.keras.models.Sequential([\n",
    "    tf.keras.layers.Dropout(0.2),\n",
    "    tf.keras.layers.Dense(5 + theta, activation=tf.nn.tanh),\n",
    "    tf.keras.layers.Dense(5 + 2 * theta, activation=tf.nn.tanh),\n",
    "    tf.keras.layers.Dense(5 + 3 * theta, activation=tf.nn.tanh),\n",
    "    tf.keras.layers.Dense(5 + 2 * theta, activation=tf.nn.tanh),\n",
    "    tf.keras.layers.Dense(5 + theta, activation=tf.nn.tanh),\n",
    "    tf.keras.layers.Dense(5)\n",
    "])"
   ]
  },
  {
   "cell_type": "code",
   "execution_count": 17,
   "metadata": {},
   "outputs": [],
   "source": [
    "# Compile the model\n",
    "model.compile(optimizer='adam', loss='mse')"
   ]
  },
  {
   "cell_type": "markdown",
   "metadata": {},
   "source": [
    "#### Step 3 Initial Fit\n",
    "Fewer epochs than standard DAE"
   ]
  },
  {
   "cell_type": "code",
   "execution_count": 18,
   "metadata": {},
   "outputs": [],
   "source": [
    "history = [\n",
    "    model.fit(univariate_imputation,\n",
    "              univariate_imputation,\n",
    "              epochs=10,\n",
    "              verbose=False)\n",
    "]"
   ]
  },
  {
   "cell_type": "markdown",
   "metadata": {},
   "source": [
    "#### Step 4 Iteration\n"
   ]
  },
  {
   "cell_type": "code",
   "execution_count": 19,
   "metadata": {},
   "outputs": [],
   "source": [
    "predicted = pd.DataFrame(model.predict(univariate_imputation),\n",
    "                         columns=dmar_df.columns)\n",
    "iterated_imputation = sdmar_df.combine_first(predicted)\n",
    "history.append(\n",
    "    model.fit(iterated_imputation,\n",
    "              iterated_imputation,\n",
    "              epochs=2,\n",
    "              verbose=False))"
   ]
  },
  {
   "cell_type": "markdown",
   "metadata": {},
   "source": [
    "#### Repeat the Iteration a Prescribed Number of Times"
   ]
  },
  {
   "cell_type": "code",
   "execution_count": 20,
   "metadata": {},
   "outputs": [],
   "source": [
    "for _ in range(0, 19):\n",
    "    predicted = pd.DataFrame(model.predict(iterated_imputation),\n",
    "                             columns=dmar_df.columns)\n",
    "    iterated_imputation = sdmar_df.combine_first(predicted)\n",
    "    history.append(\n",
    "        model.fit(iterated_imputation,\n",
    "                  iterated_imputation,\n",
    "                  epochs=2,\n",
    "                  verbose=False))"
   ]
  },
  {
   "cell_type": "code",
   "execution_count": 21,
   "metadata": {},
   "outputs": [
    {
     "data": {
      "text/plain": [
       "[<matplotlib.lines.Line2D at 0x7feb1811af40>]"
      ]
     },
     "execution_count": 21,
     "metadata": {},
     "output_type": "execute_result"
    },
    {
     "data": {
      "image/png": "[encoded data removed]",
      "text/plain": [
       "<Figure size 432x288 with 1 Axes>"
      ]
     },
     "metadata": {
      "needs_background": "light"
     },
     "output_type": "display_data"
    }
   ],
   "source": [
    "# Since we collected history in several batches, concatenate them so we can see a plot\n",
    "losses = sum([each.history['loss'] for each in history], [])\n",
    "plt.plot(losses)"
   ]
  },
  {
   "cell_type": "markdown",
   "metadata": {},
   "source": [
    "#### Plug the final prediction into the missing values and rescale the result"
   ]
  },
  {
   "cell_type": "code",
   "execution_count": 22,
   "metadata": {},
   "outputs": [],
   "source": [
    "predicted = pd.DataFrame(model.predict(iterated_imputation),\n",
    "                         columns=dmar_df.columns)\n",
    "imputed = restore_df(scaler, sdmar_df.combine_first(predicted))"
   ]
  },
  {
   "cell_type": "code",
   "execution_count": 23,
   "metadata": {},
   "outputs": [
    {
     "data": {
      "text/html": [
       "<style type=\"text/css\">\n",
       "#T_ff5f2_row0_col1, #T_ff5f2_row1_col0, #T_ff5f2_row8_col0 {\n",
       "  background-color: paleturquoise;\n",
       "}\n",
       "</style>\n",
       "<table id=\"T_ff5f2\">\n",
       "  <thead>\n",
       "    <tr>\n",
       "      <th class=\"blank level0\" >&nbsp;</th>\n",
       "      <th id=\"T_ff5f2_level0_col0\" class=\"col_heading level0 col0\" >feature a</th>\n",
       "      <th id=\"T_ff5f2_level0_col1\" class=\"col_heading level0 col1\" >feature b</th>\n",
       "      <th id=\"T_ff5f2_level0_col2\" class=\"col_heading level0 col2\" >feature c</th>\n",
       "      <th id=\"T_ff5f2_level0_col3\" class=\"col_heading level0 col3\" >feature d</th>\n",
       "      <th id=\"T_ff5f2_level0_col4\" class=\"col_heading level0 col4\" >uncorrelated</th>\n",
       "    </tr>\n",
       "  </thead>\n",
       "  <tbody>\n",
       "    <tr>\n",
       "      <th id=\"T_ff5f2_level0_row0\" class=\"row_heading level0 row0\" >0</th>\n",
       "      <td id=\"T_ff5f2_row0_col0\" class=\"data row0 col0\" >2.777245</td>\n",
       "      <td id=\"T_ff5f2_row0_col1\" class=\"data row0 col1\" >2.203462</td>\n",
       "      <td id=\"T_ff5f2_row0_col2\" class=\"data row0 col2\" >-1.552282</td>\n",
       "      <td id=\"T_ff5f2_row0_col3\" class=\"data row0 col3\" >8.772158</td>\n",
       "      <td id=\"T_ff5f2_row0_col4\" class=\"data row0 col4\" >0.360789</td>\n",
       "    </tr>\n",
       "    <tr>\n",
       "      <th id=\"T_ff5f2_level0_row1\" class=\"row_heading level0 row1\" >1</th>\n",
       "      <td id=\"T_ff5f2_row1_col0\" class=\"data row1 col0\" >2.532886</td>\n",
       "      <td id=\"T_ff5f2_row1_col1\" class=\"data row1 col1\" >2.223169</td>\n",
       "      <td id=\"T_ff5f2_row1_col2\" class=\"data row1 col2\" >-0.645673</td>\n",
       "      <td id=\"T_ff5f2_row1_col3\" class=\"data row1 col3\" >8.815675</td>\n",
       "      <td id=\"T_ff5f2_row1_col4\" class=\"data row1 col4\" >0.393466</td>\n",
       "    </tr>\n",
       "    <tr>\n",
       "      <th id=\"T_ff5f2_level0_row2\" class=\"row_heading level0 row2\" >2</th>\n",
       "      <td id=\"T_ff5f2_row2_col0\" class=\"data row2 col0\" >1.936893</td>\n",
       "      <td id=\"T_ff5f2_row2_col1\" class=\"data row2 col1\" >2.182897</td>\n",
       "      <td id=\"T_ff5f2_row2_col2\" class=\"data row2 col2\" >-2.474526</td>\n",
       "      <td id=\"T_ff5f2_row2_col3\" class=\"data row2 col3\" >8.549983</td>\n",
       "      <td id=\"T_ff5f2_row2_col4\" class=\"data row2 col4\" >0.891191</td>\n",
       "    </tr>\n",
       "    <tr>\n",
       "      <th id=\"T_ff5f2_level0_row3\" class=\"row_heading level0 row3\" >3</th>\n",
       "      <td id=\"T_ff5f2_row3_col0\" class=\"data row3 col0\" >2.484183</td>\n",
       "      <td id=\"T_ff5f2_row3_col1\" class=\"data row3 col1\" >1.618856</td>\n",
       "      <td id=\"T_ff5f2_row3_col2\" class=\"data row3 col2\" >-1.404809</td>\n",
       "      <td id=\"T_ff5f2_row3_col3\" class=\"data row3 col3\" >7.360904</td>\n",
       "      <td id=\"T_ff5f2_row3_col4\" class=\"data row3 col4\" >0.156937</td>\n",
       "    </tr>\n",
       "    <tr>\n",
       "      <th id=\"T_ff5f2_level0_row4\" class=\"row_heading level0 row4\" >4</th>\n",
       "      <td id=\"T_ff5f2_row4_col0\" class=\"data row4 col0\" >2.089727</td>\n",
       "      <td id=\"T_ff5f2_row4_col1\" class=\"data row4 col1\" >2.698967</td>\n",
       "      <td id=\"T_ff5f2_row4_col2\" class=\"data row4 col2\" >-1.464007</td>\n",
       "      <td id=\"T_ff5f2_row4_col3\" class=\"data row4 col3\" >7.786100</td>\n",
       "      <td id=\"T_ff5f2_row4_col4\" class=\"data row4 col4\" >0.046178</td>\n",
       "    </tr>\n",
       "    <tr>\n",
       "      <th id=\"T_ff5f2_level0_row5\" class=\"row_heading level0 row5\" >5</th>\n",
       "      <td id=\"T_ff5f2_row5_col0\" class=\"data row5 col0\" >3.369940</td>\n",
       "      <td id=\"T_ff5f2_row5_col1\" class=\"data row5 col1\" >2.842243</td>\n",
       "      <td id=\"T_ff5f2_row5_col2\" class=\"data row5 col2\" >-0.716772</td>\n",
       "      <td id=\"T_ff5f2_row5_col3\" class=\"data row5 col3\" >8.767852</td>\n",
       "      <td id=\"T_ff5f2_row5_col4\" class=\"data row5 col4\" >0.342830</td>\n",
       "    </tr>\n",
       "    <tr>\n",
       "      <th id=\"T_ff5f2_level0_row6\" class=\"row_heading level0 row6\" >6</th>\n",
       "      <td id=\"T_ff5f2_row6_col0\" class=\"data row6 col0\" >0.764542</td>\n",
       "      <td id=\"T_ff5f2_row6_col1\" class=\"data row6 col1\" >1.532282</td>\n",
       "      <td id=\"T_ff5f2_row6_col2\" class=\"data row6 col2\" >-3.850084</td>\n",
       "      <td id=\"T_ff5f2_row6_col3\" class=\"data row6 col3\" >7.992571</td>\n",
       "      <td id=\"T_ff5f2_row6_col4\" class=\"data row6 col4\" >0.678203</td>\n",
       "    </tr>\n",
       "    <tr>\n",
       "      <th id=\"T_ff5f2_level0_row7\" class=\"row_heading level0 row7\" >7</th>\n",
       "      <td id=\"T_ff5f2_row7_col0\" class=\"data row7 col0\" >3.539507</td>\n",
       "      <td id=\"T_ff5f2_row7_col1\" class=\"data row7 col1\" >2.120999</td>\n",
       "      <td id=\"T_ff5f2_row7_col2\" class=\"data row7 col2\" >0.181066</td>\n",
       "      <td id=\"T_ff5f2_row7_col3\" class=\"data row7 col3\" >7.158813</td>\n",
       "      <td id=\"T_ff5f2_row7_col4\" class=\"data row7 col4\" >0.942345</td>\n",
       "    </tr>\n",
       "    <tr>\n",
       "      <th id=\"T_ff5f2_level0_row8\" class=\"row_heading level0 row8\" >8</th>\n",
       "      <td id=\"T_ff5f2_row8_col0\" class=\"data row8 col0\" >2.463634</td>\n",
       "      <td id=\"T_ff5f2_row8_col1\" class=\"data row8 col1\" >1.816557</td>\n",
       "      <td id=\"T_ff5f2_row8_col2\" class=\"data row8 col2\" >-1.325628</td>\n",
       "      <td id=\"T_ff5f2_row8_col3\" class=\"data row8 col3\" >8.144401</td>\n",
       "      <td id=\"T_ff5f2_row8_col4\" class=\"data row8 col4\" >0.460626</td>\n",
       "    </tr>\n",
       "    <tr>\n",
       "      <th id=\"T_ff5f2_level0_row9\" class=\"row_heading level0 row9\" >9</th>\n",
       "      <td id=\"T_ff5f2_row9_col0\" class=\"data row9 col0\" >0.445575</td>\n",
       "      <td id=\"T_ff5f2_row9_col1\" class=\"data row9 col1\" >0.827475</td>\n",
       "      <td id=\"T_ff5f2_row9_col2\" class=\"data row9 col2\" >-4.705004</td>\n",
       "      <td id=\"T_ff5f2_row9_col3\" class=\"data row9 col3\" >8.161819</td>\n",
       "      <td id=\"T_ff5f2_row9_col4\" class=\"data row9 col4\" >0.014623</td>\n",
       "    </tr>\n",
       "  </tbody>\n",
       "</table>\n"
      ],
      "text/plain": [
       "<pandas.io.formats.style.Styler at 0x7feb1823e4f0>"
      ]
     },
     "execution_count": 23,
     "metadata": {},
     "output_type": "execute_result"
    }
   ],
   "source": [
    "dmar_df.displayer(imputed, 10)"
   ]
  },
  {
   "cell_type": "code",
   "execution_count": 24,
   "metadata": {
    "tags": [
     "master"
    ]
   },
   "outputs": [
    {
     "data": {
      "text/html": [
       "<div>\n",
       "<style scoped>\n",
       "    .dataframe tbody tr th:only-of-type {\n",
       "        vertical-align: middle;\n",
       "    }\n",
       "\n",
       "    .dataframe tbody tr th {\n",
       "        vertical-align: top;\n",
       "    }\n",
       "\n",
       "    .dataframe thead th {\n",
       "        text-align: right;\n",
       "    }\n",
       "</style>\n",
       "<table border=\"1\" class=\"dataframe\">\n",
       "  <thead>\n",
       "    <tr style=\"text-align: right;\">\n",
       "      <th></th>\n",
       "      <th>Original</th>\n",
       "      <th>With Missing Data</th>\n",
       "      <th>difference</th>\n",
       "      <th>percentage</th>\n",
       "    </tr>\n",
       "  </thead>\n",
       "  <tbody>\n",
       "    <tr>\n",
       "      <th>mean</th>\n",
       "      <td>2.411082</td>\n",
       "      <td>2.228198</td>\n",
       "      <td>0.182884</td>\n",
       "      <td>7.585142</td>\n",
       "    </tr>\n",
       "    <tr>\n",
       "      <th>median</th>\n",
       "      <td>2.420924</td>\n",
       "      <td>2.359472</td>\n",
       "      <td>0.061452</td>\n",
       "      <td>2.538379</td>\n",
       "    </tr>\n",
       "    <tr>\n",
       "      <th>stdev</th>\n",
       "      <td>1.279456</td>\n",
       "      <td>1.132350</td>\n",
       "      <td>0.147106</td>\n",
       "      <td>11.497507</td>\n",
       "    </tr>\n",
       "  </tbody>\n",
       "</table>\n",
       "</div>"
      ],
      "text/plain": [
       "        Original  With Missing Data  difference  percentage\n",
       "mean    2.411082           2.228198    0.182884    7.585142\n",
       "median  2.420924           2.359472    0.061452    2.538379\n",
       "stdev   1.279456           1.132350    0.147106   11.497507"
      ]
     },
     "execution_count": 24,
     "metadata": {},
     "output_type": "execute_result"
    }
   ],
   "source": [
    "stat_comparison(df, imputed, 'feature a')"
   ]
  },
  {
   "cell_type": "markdown",
   "metadata": {
    "id": "ILSdXRpPtiU8"
   },
   "source": [
    "## $\\color{purple}{\\text{How Imputation Fits Into Your Machine Learning Models}}$\n",
    "\n",
    "* Typical ML Workflow\n",
    "  * Train\n",
    "  * Test\n",
    "  * Use\n",
    "* Save Your Pipeline\n",
    "* You can include an imputer in your pipeline\n",
    "\n",
    "* We demonstrate this using `sklearn`'s pipeline. But this is meant to describe abstractly what you should do\n",
    "\n",
    "Same data set is taken from the [Wine Quality Dataset at UCI](https://archive.ics.uci.edu/ml/datasets/Wine+Quality)\n",
    "\n",
    "This demonstrates a typical pipeline. The final column `quality` is the predicted value. The `features` variable contains all the other column names"
   ]
  },
  {
   "cell_type": "code",
   "execution_count": 25,
   "metadata": {
    "id": "0AcjuKGBZBDN"
   },
   "outputs": [],
   "source": [
    "training = pd.read_csv('data/original_wine_training.csv')\n",
    "test = pd.read_csv('data/original_wine_test.csv')"
   ]
  },
  {
   "cell_type": "code",
   "execution_count": 26,
   "metadata": {
    "tags": [
     "master"
    ]
   },
   "outputs": [
    {
     "data": {
      "text/html": [
       "<div>\n",
       "<style scoped>\n",
       "    .dataframe tbody tr th:only-of-type {\n",
       "        vertical-align: middle;\n",
       "    }\n",
       "\n",
       "    .dataframe tbody tr th {\n",
       "        vertical-align: top;\n",
       "    }\n",
       "\n",
       "    .dataframe thead th {\n",
       "        text-align: right;\n",
       "    }\n",
       "</style>\n",
       "<table border=\"1\" class=\"dataframe\">\n",
       "  <thead>\n",
       "    <tr style=\"text-align: right;\">\n",
       "      <th></th>\n",
       "      <th>fixed acidity</th>\n",
       "      <th>volatile acidity</th>\n",
       "      <th>citric acid</th>\n",
       "      <th>residual sugar</th>\n",
       "      <th>chlorides</th>\n",
       "      <th>free sulfur dioxide</th>\n",
       "      <th>total sulfur dioxide</th>\n",
       "      <th>density</th>\n",
       "      <th>pH</th>\n",
       "      <th>sulphates</th>\n",
       "      <th>alcohol</th>\n",
       "      <th>type</th>\n",
       "      <th>quality</th>\n",
       "    </tr>\n",
       "  </thead>\n",
       "  <tbody>\n",
       "    <tr>\n",
       "      <th>0</th>\n",
       "      <td>8.0</td>\n",
       "      <td>0.500</td>\n",
       "      <td>0.39</td>\n",
       "      <td>2.60</td>\n",
       "      <td>0.082</td>\n",
       "      <td>12.0</td>\n",
       "      <td>46.0</td>\n",
       "      <td>0.99850</td>\n",
       "      <td>3.43</td>\n",
       "      <td>0.62</td>\n",
       "      <td>10.7</td>\n",
       "      <td>red</td>\n",
       "      <td>6</td>\n",
       "    </tr>\n",
       "    <tr>\n",
       "      <th>1</th>\n",
       "      <td>6.6</td>\n",
       "      <td>0.280</td>\n",
       "      <td>0.28</td>\n",
       "      <td>8.50</td>\n",
       "      <td>0.052</td>\n",
       "      <td>55.0</td>\n",
       "      <td>211.0</td>\n",
       "      <td>0.99620</td>\n",
       "      <td>3.09</td>\n",
       "      <td>0.55</td>\n",
       "      <td>8.9</td>\n",
       "      <td>white</td>\n",
       "      <td>6</td>\n",
       "    </tr>\n",
       "    <tr>\n",
       "      <th>2</th>\n",
       "      <td>7.0</td>\n",
       "      <td>0.190</td>\n",
       "      <td>0.23</td>\n",
       "      <td>5.70</td>\n",
       "      <td>0.123</td>\n",
       "      <td>27.0</td>\n",
       "      <td>104.0</td>\n",
       "      <td>0.99540</td>\n",
       "      <td>3.04</td>\n",
       "      <td>0.54</td>\n",
       "      <td>9.4</td>\n",
       "      <td>white</td>\n",
       "      <td>6</td>\n",
       "    </tr>\n",
       "    <tr>\n",
       "      <th>3</th>\n",
       "      <td>7.4</td>\n",
       "      <td>0.200</td>\n",
       "      <td>0.37</td>\n",
       "      <td>16.95</td>\n",
       "      <td>0.048</td>\n",
       "      <td>43.0</td>\n",
       "      <td>190.0</td>\n",
       "      <td>0.99950</td>\n",
       "      <td>3.03</td>\n",
       "      <td>0.42</td>\n",
       "      <td>9.2</td>\n",
       "      <td>white</td>\n",
       "      <td>6</td>\n",
       "    </tr>\n",
       "    <tr>\n",
       "      <th>4</th>\n",
       "      <td>7.8</td>\n",
       "      <td>0.280</td>\n",
       "      <td>0.34</td>\n",
       "      <td>1.60</td>\n",
       "      <td>0.028</td>\n",
       "      <td>32.0</td>\n",
       "      <td>118.0</td>\n",
       "      <td>0.99010</td>\n",
       "      <td>3.00</td>\n",
       "      <td>0.38</td>\n",
       "      <td>12.1</td>\n",
       "      <td>white</td>\n",
       "      <td>7</td>\n",
       "    </tr>\n",
       "    <tr>\n",
       "      <th>...</th>\n",
       "      <td>...</td>\n",
       "      <td>...</td>\n",
       "      <td>...</td>\n",
       "      <td>...</td>\n",
       "      <td>...</td>\n",
       "      <td>...</td>\n",
       "      <td>...</td>\n",
       "      <td>...</td>\n",
       "      <td>...</td>\n",
       "      <td>...</td>\n",
       "      <td>...</td>\n",
       "      <td>...</td>\n",
       "      <td>...</td>\n",
       "    </tr>\n",
       "    <tr>\n",
       "      <th>4995</th>\n",
       "      <td>9.8</td>\n",
       "      <td>0.300</td>\n",
       "      <td>0.39</td>\n",
       "      <td>1.70</td>\n",
       "      <td>0.062</td>\n",
       "      <td>3.0</td>\n",
       "      <td>9.0</td>\n",
       "      <td>0.99480</td>\n",
       "      <td>3.14</td>\n",
       "      <td>0.57</td>\n",
       "      <td>11.5</td>\n",
       "      <td>red</td>\n",
       "      <td>7</td>\n",
       "    </tr>\n",
       "    <tr>\n",
       "      <th>4996</th>\n",
       "      <td>8.3</td>\n",
       "      <td>0.845</td>\n",
       "      <td>0.01</td>\n",
       "      <td>2.20</td>\n",
       "      <td>0.070</td>\n",
       "      <td>5.0</td>\n",
       "      <td>14.0</td>\n",
       "      <td>0.99670</td>\n",
       "      <td>3.32</td>\n",
       "      <td>0.58</td>\n",
       "      <td>11.0</td>\n",
       "      <td>red</td>\n",
       "      <td>4</td>\n",
       "    </tr>\n",
       "    <tr>\n",
       "      <th>4997</th>\n",
       "      <td>7.1</td>\n",
       "      <td>0.360</td>\n",
       "      <td>0.28</td>\n",
       "      <td>2.40</td>\n",
       "      <td>0.036</td>\n",
       "      <td>35.0</td>\n",
       "      <td>115.0</td>\n",
       "      <td>0.98936</td>\n",
       "      <td>3.19</td>\n",
       "      <td>0.44</td>\n",
       "      <td>13.5</td>\n",
       "      <td>white</td>\n",
       "      <td>7</td>\n",
       "    </tr>\n",
       "    <tr>\n",
       "      <th>4998</th>\n",
       "      <td>6.6</td>\n",
       "      <td>0.240</td>\n",
       "      <td>0.27</td>\n",
       "      <td>15.80</td>\n",
       "      <td>0.035</td>\n",
       "      <td>46.0</td>\n",
       "      <td>188.0</td>\n",
       "      <td>0.99820</td>\n",
       "      <td>3.24</td>\n",
       "      <td>0.51</td>\n",
       "      <td>9.2</td>\n",
       "      <td>white</td>\n",
       "      <td>5</td>\n",
       "    </tr>\n",
       "    <tr>\n",
       "      <th>4999</th>\n",
       "      <td>6.9</td>\n",
       "      <td>0.300</td>\n",
       "      <td>0.45</td>\n",
       "      <td>1.40</td>\n",
       "      <td>0.039</td>\n",
       "      <td>36.0</td>\n",
       "      <td>122.0</td>\n",
       "      <td>0.99059</td>\n",
       "      <td>3.07</td>\n",
       "      <td>0.47</td>\n",
       "      <td>11.1</td>\n",
       "      <td>white</td>\n",
       "      <td>7</td>\n",
       "    </tr>\n",
       "  </tbody>\n",
       "</table>\n",
       "<p>5000 rows × 13 columns</p>\n",
       "</div>"
      ],
      "text/plain": [
       "      fixed acidity  volatile acidity  citric acid  residual sugar  chlorides  \\\n",
       "0               8.0             0.500         0.39            2.60      0.082   \n",
       "1               6.6             0.280         0.28            8.50      0.052   \n",
       "2               7.0             0.190         0.23            5.70      0.123   \n",
       "3               7.4             0.200         0.37           16.95      0.048   \n",
       "4               7.8             0.280         0.34            1.60      0.028   \n",
       "...             ...               ...          ...             ...        ...   \n",
       "4995            9.8             0.300         0.39            1.70      0.062   \n",
       "4996            8.3             0.845         0.01            2.20      0.070   \n",
       "4997            7.1             0.360         0.28            2.40      0.036   \n",
       "4998            6.6             0.240         0.27           15.80      0.035   \n",
       "4999            6.9             0.300         0.45            1.40      0.039   \n",
       "\n",
       "      free sulfur dioxide  total sulfur dioxide  density    pH  sulphates  \\\n",
       "0                    12.0                  46.0  0.99850  3.43       0.62   \n",
       "1                    55.0                 211.0  0.99620  3.09       0.55   \n",
       "2                    27.0                 104.0  0.99540  3.04       0.54   \n",
       "3                    43.0                 190.0  0.99950  3.03       0.42   \n",
       "4                    32.0                 118.0  0.99010  3.00       0.38   \n",
       "...                   ...                   ...      ...   ...        ...   \n",
       "4995                  3.0                   9.0  0.99480  3.14       0.57   \n",
       "4996                  5.0                  14.0  0.99670  3.32       0.58   \n",
       "4997                 35.0                 115.0  0.98936  3.19       0.44   \n",
       "4998                 46.0                 188.0  0.99820  3.24       0.51   \n",
       "4999                 36.0                 122.0  0.99059  3.07       0.47   \n",
       "\n",
       "      alcohol   type  quality  \n",
       "0        10.7    red        6  \n",
       "1         8.9  white        6  \n",
       "2         9.4  white        6  \n",
       "3         9.2  white        6  \n",
       "4        12.1  white        7  \n",
       "...       ...    ...      ...  \n",
       "4995     11.5    red        7  \n",
       "4996     11.0    red        4  \n",
       "4997     13.5  white        7  \n",
       "4998      9.2  white        5  \n",
       "4999     11.1  white        7  \n",
       "\n",
       "[5000 rows x 13 columns]"
      ]
     },
     "execution_count": 26,
     "metadata": {},
     "output_type": "execute_result"
    }
   ],
   "source": [
    "training"
   ]
  },
  {
   "cell_type": "code",
   "execution_count": 27,
   "metadata": {},
   "outputs": [],
   "source": [
    "features = list(training.columns[0:-1])"
   ]
  },
  {
   "cell_type": "markdown",
   "metadata": {},
   "source": [
    "We build the pipeline by one-hot encoding the `type` column which is categorical, then scale it, then apply random forest regressor"
   ]
  },
  {
   "cell_type": "code",
   "execution_count": 28,
   "metadata": {},
   "outputs": [],
   "source": [
    "pipeline = make_pipeline(\n",
    "    ColumnTransformer([(\"type\", OneHotEncoder(), [\"type\"])],\n",
    "                      remainder='passthrough'), StandardScaler(),\n",
    "    RandomForestRegressor())"
   ]
  },
  {
   "cell_type": "code",
   "execution_count": 29,
   "metadata": {},
   "outputs": [
    {
     "data": {
      "text/plain": [
       "Pipeline(steps=[('columntransformer',\n",
       "                 ColumnTransformer(remainder='passthrough',\n",
       "                                   transformers=[('type', OneHotEncoder(),\n",
       "                                                  ['type'])])),\n",
       "                ('standardscaler', StandardScaler()),\n",
       "                ('randomforestregressor', RandomForestRegressor())])"
      ]
     },
     "execution_count": 29,
     "metadata": {},
     "output_type": "execute_result"
    }
   ],
   "source": [
    "pipeline.fit(training[features], training['quality'])"
   ]
  },
  {
   "cell_type": "code",
   "execution_count": 30,
   "metadata": {},
   "outputs": [
    {
     "data": {
      "text/plain": [
       "0.541352377909254"
      ]
     },
     "execution_count": 30,
     "metadata": {},
     "output_type": "execute_result"
    }
   ],
   "source": [
    "pipeline.score(test[features], test['quality'])"
   ]
  },
  {
   "cell_type": "code",
   "execution_count": 31,
   "metadata": {},
   "outputs": [
    {
     "data": {
      "text/plain": [
       "array([5.96, 5.44, 5.95, ..., 6.89, 5.14, 6.73])"
      ]
     },
     "execution_count": 31,
     "metadata": {},
     "output_type": "execute_result"
    }
   ],
   "source": [
    "pipeline.predict(training[features])"
   ]
  },
  {
   "cell_type": "markdown",
   "metadata": {
    "id": "OZZt4mf7mpd6"
   },
   "source": [
    "### $\\color{purple}{\\text{Imputer in the Data Pipeline}}$\n",
    "\n",
    "This is meant to demonstrate workflow and `autoimpute` is used as an example.\n",
    "\n",
    "One drawback is that `autoimpute` imputers require a `pandas` `DataFrame` as an input so custom transformers need to be used.\n"
   ]
  },
  {
   "cell_type": "code",
   "execution_count": 32,
   "metadata": {},
   "outputs": [],
   "source": [
    "pandas_hack = FunctionTransformer(\n",
    "    lambda x: pd.DataFrame(x, columns=['type_r', 'type_w'] + features[0:-1]))\n",
    "pandas_hack_full = FunctionTransformer(\n",
    "    lambda x: pd.DataFrame(x, columns=['type_r', 'type_w'] + features))"
   ]
  },
  {
   "cell_type": "markdown",
   "metadata": {},
   "source": [
    "We can insert the imputer into the pipeline"
   ]
  },
  {
   "cell_type": "code",
   "execution_count": 33,
   "metadata": {},
   "outputs": [],
   "source": [
    "pipeline = make_pipeline(\n",
    "    ColumnTransformer([(\"type\", OneHotEncoder(), ['type'])],\n",
    "                      remainder='passthrough'), pandas_hack,\n",
    "    SingleImputer(strategy='least squares'), StandardScaler(),\n",
    "    RandomForestRegressor())"
   ]
  },
  {
   "cell_type": "code",
   "execution_count": 34,
   "metadata": {},
   "outputs": [
    {
     "data": {
      "text/plain": [
       "Pipeline(steps=[('columntransformer',\n",
       "                 ColumnTransformer(remainder='passthrough',\n",
       "                                   transformers=[('type', OneHotEncoder(),\n",
       "                                                  ['type'])])),\n",
       "                ('functiontransformer',\n",
       "                 FunctionTransformer(func=<function <lambda> at 0x7feb180b3700>)),\n",
       "                ('singleimputer', SingleImputer(strategy='least squares')),\n",
       "                ('standardscaler', StandardScaler()),\n",
       "                ('randomforestregressor', RandomForestRegressor())])"
      ]
     },
     "execution_count": 34,
     "metadata": {},
     "output_type": "execute_result"
    }
   ],
   "source": [
    "wine_training = pd.read_csv('data/wine_training.csv')\n",
    "pipeline.fit(wine_training[features], wine_training['quality'])"
   ]
  },
  {
   "cell_type": "code",
   "execution_count": 35,
   "metadata": {},
   "outputs": [
    {
     "data": {
      "text/plain": [
       "0.47306633820528143"
      ]
     },
     "execution_count": 35,
     "metadata": {},
     "output_type": "execute_result"
    }
   ],
   "source": [
    "wine_test = pd.read_csv('data/wine_test.csv')\n",
    "pipeline.score(wine_test[features], wine_test['quality'])"
   ]
  },
  {
   "cell_type": "code",
   "execution_count": 36,
   "metadata": {},
   "outputs": [
    {
     "data": {
      "text/plain": [
       "array([6.79, 6.36, 5.15, 4.88, 5.47, 5.11, 4.66, 5.33, 5.45, 6.19])"
      ]
     },
     "execution_count": 36,
     "metadata": {},
     "output_type": "execute_result"
    }
   ],
   "source": [
    "wine_future = pd.read_csv('data/wine_future.csv')\n",
    "pipeline.predict(wine_future[features].iloc[0:10])"
   ]
  },
  {
   "cell_type": "markdown",
   "metadata": {},
   "source": [
    "## $\\color{purple}{\\text{How does Multiple Imputation fit in?}}$\n",
    "### $\\color{purple}{\\text{Approach 1: Augment Data with Multiple Copies}}$\n",
    "\n",
    "Augmentation teachs the model that the imputed values are \"fuzzy\" by providing different values.\n",
    "\n",
    "We create the same pipeline except we have a MiceImputer at the end.\n",
    "The resultant `dfs` are 5 copies of our dataframe with 5 separate imputations"
   ]
  },
  {
   "cell_type": "code",
   "execution_count": 37,
   "metadata": {
    "colab": {
     "base_uri": "https://localhost:8080/",
     "height": 1000
    },
    "executionInfo": {
     "elapsed": 2640,
     "status": "ok",
     "timestamp": 1654712480068,
     "user": {
      "displayName": "Haw-minn Lu",
      "userId": "16109571175851064283"
     },
     "user_tz": 420
    },
    "id": "zwFrIcTcm87_",
    "outputId": "bf99ee06-2531-437c-988b-c1bd2d87652e"
   },
   "outputs": [
    {
     "data": {
      "text/plain": [
       "5"
      ]
     },
     "execution_count": 37,
     "metadata": {},
     "output_type": "execute_result"
    }
   ],
   "source": [
    "pipeline = make_pipeline(\n",
    "    ColumnTransformer([(\"type\", OneHotEncoder(), ['type'])],\n",
    "                      remainder='passthrough'), StandardScaler(), pandas_hack,\n",
    "    MiceImputer(k=5, strategy='stochastic'))\n",
    "dfs = [each[1] for each in pipeline.fit_transform(wine_training[features])]\n",
    "len(dfs)"
   ]
  },
  {
   "cell_type": "markdown",
   "metadata": {
    "id": "HdHaAdHHm38b"
   },
   "source": [
    "We augment the training set by concatenating the 5 different data frame. Equivalently, we could rotate each epoch with different imputations."
   ]
  },
  {
   "cell_type": "code",
   "execution_count": 38,
   "metadata": {},
   "outputs": [],
   "source": [
    "augmented_training = pd.concat(dfs)"
   ]
  },
  {
   "cell_type": "markdown",
   "metadata": {
    "id": "jsfJcQLfm9rh"
   },
   "source": [
    "Build out model as a classification problem. Bear in mind this is just for demonstration purposes, we model is not a particularly good estimator"
   ]
  },
  {
   "cell_type": "code",
   "execution_count": 39,
   "metadata": {},
   "outputs": [],
   "source": [
    "model = tf.keras.models.Sequential([\n",
    "    tf.keras.layers.Dropout(0.2),\n",
    "    tf.keras.layers.Dense(20, activation=tf.nn.tanh),\n",
    "    tf.keras.layers.Dense(20, activation=tf.nn.tanh),\n",
    "    tf.keras.layers.Dense(10, activation=tf.nn.softmax)\n",
    "])\n",
    "model.compile(optimizer='adam',\n",
    "              loss='sparse_categorical_crossentropy',\n",
    "              metrics=['accuracy'])"
   ]
  },
  {
   "cell_type": "code",
   "execution_count": 40,
   "metadata": {},
   "outputs": [],
   "source": [
    "quality = pd.concat([\n",
    "    wine_training.quality, wine_training.quality, wine_training.quality,\n",
    "    wine_training.quality, wine_training.quality\n",
    "])"
   ]
  },
  {
   "cell_type": "code",
   "execution_count": 41,
   "metadata": {
    "id": "e8ZUY3sEjJax"
   },
   "outputs": [
    {
     "data": {
      "text/plain": [
       "<keras.callbacks.History at 0x7feb18248cd0>"
      ]
     },
     "execution_count": 41,
     "metadata": {},
     "output_type": "execute_result"
    }
   ],
   "source": [
    "model.fit(augmented_training, quality, epochs=10, verbose=False)"
   ]
  },
  {
   "cell_type": "markdown",
   "metadata": {},
   "source": [
    "Since test set is used to evaluate when the model may hit overtraining, it is not necessary to multiply impute the tests. But you may."
   ]
  },
  {
   "cell_type": "code",
   "execution_count": 42,
   "metadata": {},
   "outputs": [],
   "source": [
    "test_dfs = [each[1] for each in pipeline.transform(wine_test[features])]\n",
    "test1 = test_dfs[0]  # Variation one, just take one imputation\n",
    "test2 = pd.concat(test_dfs)  # Variation two augment in the same way\n",
    "quality1 = wine_test.quality\n",
    "quality2 = pd.concat([quality1, quality1, quality1, quality1, quality1])"
   ]
  },
  {
   "cell_type": "code",
   "execution_count": 43,
   "metadata": {
    "tags": [
     "master"
    ]
   },
   "outputs": [
    {
     "name": "stdout",
     "output_type": "stream",
     "text": [
      "32/32 [==============================] - 1s 1ms/step - loss: 1.0475 - accuracy: 0.5520\n"
     ]
    },
    {
     "data": {
      "text/plain": [
       "[1.0474531650543213, 0.5519999861717224]"
      ]
     },
     "execution_count": 43,
     "metadata": {},
     "output_type": "execute_result"
    }
   ],
   "source": [
    "model.evaluate(test1, quality1)"
   ]
  },
  {
   "cell_type": "code",
   "execution_count": 44,
   "metadata": {
    "tags": [
     "master"
    ]
   },
   "outputs": [
    {
     "name": "stdout",
     "output_type": "stream",
     "text": [
      "157/157 [==============================] - 1s 886us/step - loss: 1.0503 - accuracy: 0.5450\n"
     ]
    },
    {
     "data": {
      "text/plain": [
       "[1.050349235534668, 0.5450000166893005]"
      ]
     },
     "execution_count": 44,
     "metadata": {},
     "output_type": "execute_result"
    }
   ],
   "source": [
    "model.evaluate(test2, quality2)"
   ]
  },
  {
   "cell_type": "markdown",
   "metadata": {},
   "source": [
    "#### What about future values?\n",
    "Same options:\n",
    " * take one imputation\n",
    " * run all imputations through the model and us an ensemble technique to combine (e.g., majority voting)"
   ]
  },
  {
   "cell_type": "code",
   "execution_count": 45,
   "metadata": {},
   "outputs": [],
   "source": [
    "future_dfs = [\n",
    "    each[1].iloc[[0]] for each in pipeline.transform(wine_future[features])\n",
    "]\n",
    "future1 = future_dfs[0]  # Variation one, just take one imputation\n",
    "future2 = pd.concat(future_dfs)  # Variation two augment in the same way"
   ]
  },
  {
   "cell_type": "code",
   "execution_count": 46,
   "metadata": {},
   "outputs": [
    {
     "data": {
      "text/plain": [
       "7"
      ]
     },
     "execution_count": 46,
     "metadata": {},
     "output_type": "execute_result"
    }
   ],
   "source": [
    "# Variation 1: Pick First Imputed\n",
    "np.argmax(model.predict(future1))"
   ]
  },
  {
   "cell_type": "code",
   "execution_count": 47,
   "metadata": {},
   "outputs": [
    {
     "data": {
      "text/plain": [
       "7"
      ]
     },
     "execution_count": 47,
     "metadata": {},
     "output_type": "execute_result"
    }
   ],
   "source": [
    "# Variation 2: Aggregate all Imputed\n",
    "np.argmax(model.predict(future2).sum(axis=0))"
   ]
  },
  {
   "cell_type": "markdown",
   "metadata": {},
   "source": [
    "### $\\color{purple}{\\text{Approach 2: Combine Multiple Models}}$"
   ]
  },
  {
   "cell_type": "code",
   "execution_count": 48,
   "metadata": {},
   "outputs": [],
   "source": [
    "models = [\n",
    "    tf.keras.models.Sequential([\n",
    "        tf.keras.layers.Dropout(0.2),\n",
    "        tf.keras.layers.Dense(20, activation=tf.nn.tanh),\n",
    "        tf.keras.layers.Dense(20, activation=tf.nn.tanh),\n",
    "        tf.keras.layers.Dense(10, activation=tf.nn.softmax)\n",
    "    ]) for _ in range(0, 5)\n",
    "]\n",
    "for model in models:\n",
    "    model.compile(optimizer='adam',\n",
    "                  loss='sparse_categorical_crossentropy',\n",
    "                  metrics=['accuracy'])"
   ]
  },
  {
   "cell_type": "markdown",
   "metadata": {},
   "source": [
    "Each model is trained on a different imputation model. Each model should be tested under each imputation model"
   ]
  },
  {
   "cell_type": "code",
   "execution_count": 49,
   "metadata": {},
   "outputs": [],
   "source": [
    "for model, training in zip(models, dfs):\n",
    "    model.fit(training, wine_training.quality, epochs=10, verbose=False)"
   ]
  },
  {
   "cell_type": "code",
   "execution_count": 50,
   "metadata": {},
   "outputs": [
    {
     "name": "stdout",
     "output_type": "stream",
     "text": [
      "[1.0651652812957764, 0.5379999876022339]\n",
      "[1.0751641988754272, 0.531000018119812]\n",
      "[1.0714432001113892, 0.5350000262260437]\n",
      "[1.0796154737472534, 0.5370000004768372]\n",
      "[1.0800997018814087, 0.5080000162124634]\n"
     ]
    }
   ],
   "source": [
    "for model, test in zip(models, test_dfs):\n",
    "    print(model.evaluate(test, wine_test.quality, verbose=False))"
   ]
  },
  {
   "cell_type": "code",
   "execution_count": 51,
   "metadata": {},
   "outputs": [
    {
     "name": "stdout",
     "output_type": "stream",
     "text": [
      "WARNING:tensorflow:5 out of the last 13130 calls to <function Model.make_predict_function.<locals>.predict_function at 0x7feb18457c10> triggered tf.function retracing. Tracing is expensive and the excessive number of tracings could be due to (1) creating @tf.function repeatedly in a loop, (2) passing tensors with different shapes, (3) passing Python objects instead of tensors. For (1), please define your @tf.function outside of the loop. For (2), @tf.function has experimental_relax_shapes=True option that relaxes argument shapes that can avoid unnecessary retracing. For (3), please refer to https://www.tensorflow.org/guide/function#controlling_retracing and https://www.tensorflow.org/api_docs/python/tf/function for  more details.\n",
      "WARNING:tensorflow:6 out of the last 13131 calls to <function Model.make_predict_function.<locals>.predict_function at 0x7feb490e0f70> triggered tf.function retracing. Tracing is expensive and the excessive number of tracings could be due to (1) creating @tf.function repeatedly in a loop, (2) passing tensors with different shapes, (3) passing Python objects instead of tensors. For (1), please define your @tf.function outside of the loop. For (2), @tf.function has experimental_relax_shapes=True option that relaxes argument shapes that can avoid unnecessary retracing. For (3), please refer to https://www.tensorflow.org/guide/function#controlling_retracing and https://www.tensorflow.org/api_docs/python/tf/function for  more details.\n"
     ]
    }
   ],
   "source": [
    "# np vstack turns the list of arrays into an array of arrays\n",
    "predictions = np.vstack(\n",
    "    [model.predict(future) for model, future in zip(models, future_dfs)])"
   ]
  },
  {
   "cell_type": "code",
   "execution_count": 52,
   "metadata": {},
   "outputs": [
    {
     "data": {
      "text/plain": [
       "7"
      ]
     },
     "execution_count": 52,
     "metadata": {},
     "output_type": "execute_result"
    }
   ],
   "source": [
    "# Aggregate predictions\n",
    "np.argmax(predictions.sum(axis=0))"
   ]
  },
  {
   "cell_type": "markdown",
   "metadata": {},
   "source": [
    "### $\\color{purple}{\\text{Worth Mentioning: Use Single Imputation with Bagging}}$\n",
    "Short for bootstrap and aggregation\n",
    "\n",
    "Rather than multiple imputation, single imputations are performed from resampled datasets (bootstrapping)\n"
   ]
  },
  {
   "cell_type": "code",
   "execution_count": 53,
   "metadata": {},
   "outputs": [],
   "source": [
    "pipeline = make_pipeline(\n",
    "    ColumnTransformer([(\"type\", OneHotEncoder(), ['type'])],\n",
    "                      remainder='passthrough'), StandardScaler(),\n",
    "    pandas_hack_full, MiceImputer(k=1, strategy='stochastic'))\n",
    "bagged_dfs = [\n",
    "    next(pipeline.fit_transform(wine_training.sample(frac=1, replace=True)))[1]\n",
    "    for _ in range(0, 5)\n",
    "]"
   ]
  },
  {
   "cell_type": "code",
   "execution_count": 54,
   "metadata": {},
   "outputs": [],
   "source": [
    "models = [\n",
    "    tf.keras.models.Sequential([\n",
    "        tf.keras.layers.Dropout(0.2),\n",
    "        tf.keras.layers.Dense(20, activation=tf.nn.tanh),\n",
    "        tf.keras.layers.Dense(20, activation=tf.nn.tanh),\n",
    "        tf.keras.layers.Dense(10, activation=tf.nn.softmax)\n",
    "    ]) for _ in range(0, 5)\n",
    "]\n",
    "for model in models:\n",
    "    model.compile(optimizer='adam',\n",
    "                  loss='sparse_categorical_crossentropy',\n",
    "                  metrics=['accuracy'])"
   ]
  },
  {
   "cell_type": "code",
   "execution_count": 55,
   "metadata": {},
   "outputs": [],
   "source": [
    "for model, training in zip(models, dfs):\n",
    "    model.fit(training, wine_training.quality, epochs=10, verbose=False)"
   ]
  },
  {
   "cell_type": "code",
   "execution_count": 56,
   "metadata": {},
   "outputs": [
    {
     "data": {
      "text/plain": [
       "7"
      ]
     },
     "execution_count": 56,
     "metadata": {},
     "output_type": "execute_result"
    }
   ],
   "source": [
    "predictions = np.vstack(\n",
    "    [model.predict(future) for model, future in zip(models, future_dfs)])\n",
    "# Aggregate predictions\n",
    "np.argmax(predictions.sum(axis=0))"
   ]
  },
  {
   "cell_type": "markdown",
   "metadata": {},
   "source": [
    "### $\\color{purple}{\\text{Worth Mentioning: Use missingness as a feature}}$\n",
    "\n",
    "The idea is that you are giving information to the model as to which values are imputed."
   ]
  },
  {
   "cell_type": "code",
   "execution_count": 57,
   "metadata": {},
   "outputs": [],
   "source": [
    "pipeline = make_pipeline(\n",
    "    ColumnTransformer([(\"type\", OneHotEncoder(), ['type'])],\n",
    "                      remainder='passthrough'), StandardScaler(), pandas_hack,\n",
    "    SingleImputer(strategy='stochastic'))\n",
    "processed = pipeline.fit_transform(wine_test[features])"
   ]
  },
  {
   "cell_type": "markdown",
   "metadata": {},
   "source": [
    "We add a feature for each feature that has missing values indicating whether the corresponding row entry is missing that feature"
   ]
  },
  {
   "cell_type": "code",
   "execution_count": 58,
   "metadata": {},
   "outputs": [],
   "source": [
    "for each in features:\n",
    "    processed[f'{each}_missing'] = wine_test[each].isnull().astype(int)"
   ]
  },
  {
   "cell_type": "code",
   "execution_count": 59,
   "metadata": {},
   "outputs": [
    {
     "data": {
      "text/html": [
       "<div>\n",
       "<style scoped>\n",
       "    .dataframe tbody tr th:only-of-type {\n",
       "        vertical-align: middle;\n",
       "    }\n",
       "\n",
       "    .dataframe tbody tr th {\n",
       "        vertical-align: top;\n",
       "    }\n",
       "\n",
       "    .dataframe thead th {\n",
       "        text-align: right;\n",
       "    }\n",
       "</style>\n",
       "<table border=\"1\" class=\"dataframe\">\n",
       "  <thead>\n",
       "    <tr style=\"text-align: right;\">\n",
       "      <th></th>\n",
       "      <th>type_r</th>\n",
       "      <th>type_w</th>\n",
       "      <th>fixed acidity</th>\n",
       "      <th>volatile acidity</th>\n",
       "      <th>citric acid</th>\n",
       "      <th>residual sugar</th>\n",
       "      <th>chlorides</th>\n",
       "      <th>free sulfur dioxide</th>\n",
       "      <th>total sulfur dioxide</th>\n",
       "      <th>density</th>\n",
       "      <th>...</th>\n",
       "      <th>citric acid_missing</th>\n",
       "      <th>residual sugar_missing</th>\n",
       "      <th>chlorides_missing</th>\n",
       "      <th>free sulfur dioxide_missing</th>\n",
       "      <th>total sulfur dioxide_missing</th>\n",
       "      <th>density_missing</th>\n",
       "      <th>pH_missing</th>\n",
       "      <th>sulphates_missing</th>\n",
       "      <th>alcohol_missing</th>\n",
       "      <th>type_missing</th>\n",
       "    </tr>\n",
       "  </thead>\n",
       "  <tbody>\n",
       "    <tr>\n",
       "      <th>0</th>\n",
       "      <td>1.718304</td>\n",
       "      <td>-1.718304</td>\n",
       "      <td>0.663555</td>\n",
       "      <td>1.448871</td>\n",
       "      <td>-0.583833</td>\n",
       "      <td>-0.568905</td>\n",
       "      <td>0.806965</td>\n",
       "      <td>-0.307492</td>\n",
       "      <td>-0.190794</td>\n",
       "      <td>0.505750</td>\n",
       "      <td>...</td>\n",
       "      <td>0</td>\n",
       "      <td>1</td>\n",
       "      <td>0</td>\n",
       "      <td>0</td>\n",
       "      <td>0</td>\n",
       "      <td>0</td>\n",
       "      <td>0</td>\n",
       "      <td>0</td>\n",
       "      <td>0</td>\n",
       "      <td>0</td>\n",
       "    </tr>\n",
       "    <tr>\n",
       "      <th>1</th>\n",
       "      <td>-0.581969</td>\n",
       "      <td>0.581969</td>\n",
       "      <td>-0.867392</td>\n",
       "      <td>0.544211</td>\n",
       "      <td>-0.507574</td>\n",
       "      <td>-0.811454</td>\n",
       "      <td>-0.619186</td>\n",
       "      <td>0.348643</td>\n",
       "      <td>0.142705</td>\n",
       "      <td>-1.665259</td>\n",
       "      <td>...</td>\n",
       "      <td>1</td>\n",
       "      <td>0</td>\n",
       "      <td>0</td>\n",
       "      <td>0</td>\n",
       "      <td>0</td>\n",
       "      <td>0</td>\n",
       "      <td>0</td>\n",
       "      <td>0</td>\n",
       "      <td>0</td>\n",
       "      <td>0</td>\n",
       "    </tr>\n",
       "    <tr>\n",
       "      <th>2</th>\n",
       "      <td>-0.581969</td>\n",
       "      <td>0.581969</td>\n",
       "      <td>0.905283</td>\n",
       "      <td>-0.860624</td>\n",
       "      <td>2.978233</td>\n",
       "      <td>-0.172977</td>\n",
       "      <td>-0.359886</td>\n",
       "      <td>0.336280</td>\n",
       "      <td>1.384973</td>\n",
       "      <td>-0.773533</td>\n",
       "      <td>...</td>\n",
       "      <td>0</td>\n",
       "      <td>0</td>\n",
       "      <td>0</td>\n",
       "      <td>1</td>\n",
       "      <td>1</td>\n",
       "      <td>0</td>\n",
       "      <td>0</td>\n",
       "      <td>0</td>\n",
       "      <td>0</td>\n",
       "      <td>0</td>\n",
       "    </tr>\n",
       "    <tr>\n",
       "      <th>3</th>\n",
       "      <td>-0.581969</td>\n",
       "      <td>0.581969</td>\n",
       "      <td>1.388740</td>\n",
       "      <td>-0.456462</td>\n",
       "      <td>0.238182</td>\n",
       "      <td>1.179730</td>\n",
       "      <td>-0.846074</td>\n",
       "      <td>-0.585088</td>\n",
       "      <td>0.879915</td>\n",
       "      <td>0.697814</td>\n",
       "      <td>...</td>\n",
       "      <td>0</td>\n",
       "      <td>0</td>\n",
       "      <td>0</td>\n",
       "      <td>0</td>\n",
       "      <td>0</td>\n",
       "      <td>0</td>\n",
       "      <td>0</td>\n",
       "      <td>0</td>\n",
       "      <td>0</td>\n",
       "      <td>0</td>\n",
       "    </tr>\n",
       "    <tr>\n",
       "      <th>4</th>\n",
       "      <td>-0.581969</td>\n",
       "      <td>0.581969</td>\n",
       "      <td>-0.464511</td>\n",
       "      <td>-1.033836</td>\n",
       "      <td>-0.035823</td>\n",
       "      <td>-0.898027</td>\n",
       "      <td>0.713658</td>\n",
       "      <td>-0.913156</td>\n",
       "      <td>-0.752478</td>\n",
       "      <td>-1.270842</td>\n",
       "      <td>...</td>\n",
       "      <td>0</td>\n",
       "      <td>0</td>\n",
       "      <td>1</td>\n",
       "      <td>0</td>\n",
       "      <td>0</td>\n",
       "      <td>0</td>\n",
       "      <td>0</td>\n",
       "      <td>0</td>\n",
       "      <td>0</td>\n",
       "      <td>0</td>\n",
       "    </tr>\n",
       "    <tr>\n",
       "      <th>...</th>\n",
       "      <td>...</td>\n",
       "      <td>...</td>\n",
       "      <td>...</td>\n",
       "      <td>...</td>\n",
       "      <td>...</td>\n",
       "      <td>...</td>\n",
       "      <td>...</td>\n",
       "      <td>...</td>\n",
       "      <td>...</td>\n",
       "      <td>...</td>\n",
       "      <td>...</td>\n",
       "      <td>...</td>\n",
       "      <td>...</td>\n",
       "      <td>...</td>\n",
       "      <td>...</td>\n",
       "      <td>...</td>\n",
       "      <td>...</td>\n",
       "      <td>...</td>\n",
       "      <td>...</td>\n",
       "      <td>...</td>\n",
       "      <td>...</td>\n",
       "    </tr>\n",
       "    <tr>\n",
       "      <th>995</th>\n",
       "      <td>-0.581969</td>\n",
       "      <td>0.581969</td>\n",
       "      <td>-0.706239</td>\n",
       "      <td>-1.033836</td>\n",
       "      <td>0.101179</td>\n",
       "      <td>-0.227085</td>\n",
       "      <td>-0.489536</td>\n",
       "      <td>0.298171</td>\n",
       "      <td>0.019837</td>\n",
       "      <td>-0.972457</td>\n",
       "      <td>...</td>\n",
       "      <td>0</td>\n",
       "      <td>0</td>\n",
       "      <td>0</td>\n",
       "      <td>0</td>\n",
       "      <td>0</td>\n",
       "      <td>0</td>\n",
       "      <td>0</td>\n",
       "      <td>0</td>\n",
       "      <td>0</td>\n",
       "      <td>0</td>\n",
       "    </tr>\n",
       "    <tr>\n",
       "      <th>996</th>\n",
       "      <td>-0.581969</td>\n",
       "      <td>0.581969</td>\n",
       "      <td>-1.092008</td>\n",
       "      <td>-0.283250</td>\n",
       "      <td>0.786192</td>\n",
       "      <td>0.199805</td>\n",
       "      <td>-0.327473</td>\n",
       "      <td>0.701946</td>\n",
       "      <td>1.704888</td>\n",
       "      <td>0.106243</td>\n",
       "      <td>...</td>\n",
       "      <td>0</td>\n",
       "      <td>1</td>\n",
       "      <td>0</td>\n",
       "      <td>0</td>\n",
       "      <td>0</td>\n",
       "      <td>1</td>\n",
       "      <td>0</td>\n",
       "      <td>0</td>\n",
       "      <td>0</td>\n",
       "      <td>0</td>\n",
       "    </tr>\n",
       "    <tr>\n",
       "      <th>997</th>\n",
       "      <td>-0.581969</td>\n",
       "      <td>0.581969</td>\n",
       "      <td>-0.786816</td>\n",
       "      <td>-0.860624</td>\n",
       "      <td>0.169681</td>\n",
       "      <td>0.032635</td>\n",
       "      <td>-0.878487</td>\n",
       "      <td>-0.509380</td>\n",
       "      <td>-0.717373</td>\n",
       "      <td>-1.555508</td>\n",
       "      <td>...</td>\n",
       "      <td>0</td>\n",
       "      <td>0</td>\n",
       "      <td>0</td>\n",
       "      <td>0</td>\n",
       "      <td>0</td>\n",
       "      <td>0</td>\n",
       "      <td>0</td>\n",
       "      <td>0</td>\n",
       "      <td>0</td>\n",
       "      <td>0</td>\n",
       "    </tr>\n",
       "    <tr>\n",
       "      <th>998</th>\n",
       "      <td>1.718304</td>\n",
       "      <td>-1.718304</td>\n",
       "      <td>-1.431425</td>\n",
       "      <td>0.409598</td>\n",
       "      <td>-0.241327</td>\n",
       "      <td>-0.703237</td>\n",
       "      <td>0.835840</td>\n",
       "      <td>-0.408436</td>\n",
       "      <td>-1.180866</td>\n",
       "      <td>0.018731</td>\n",
       "      <td>...</td>\n",
       "      <td>0</td>\n",
       "      <td>0</td>\n",
       "      <td>1</td>\n",
       "      <td>0</td>\n",
       "      <td>1</td>\n",
       "      <td>0</td>\n",
       "      <td>0</td>\n",
       "      <td>0</td>\n",
       "      <td>1</td>\n",
       "      <td>0</td>\n",
       "    </tr>\n",
       "    <tr>\n",
       "      <th>999</th>\n",
       "      <td>-0.581969</td>\n",
       "      <td>0.581969</td>\n",
       "      <td>0.180098</td>\n",
       "      <td>0.063174</td>\n",
       "      <td>-0.515332</td>\n",
       "      <td>-0.724881</td>\n",
       "      <td>-1.235025</td>\n",
       "      <td>-0.004661</td>\n",
       "      <td>-0.822689</td>\n",
       "      <td>-1.871042</td>\n",
       "      <td>...</td>\n",
       "      <td>0</td>\n",
       "      <td>0</td>\n",
       "      <td>0</td>\n",
       "      <td>0</td>\n",
       "      <td>0</td>\n",
       "      <td>0</td>\n",
       "      <td>0</td>\n",
       "      <td>0</td>\n",
       "      <td>0</td>\n",
       "      <td>0</td>\n",
       "    </tr>\n",
       "  </tbody>\n",
       "</table>\n",
       "<p>1000 rows × 25 columns</p>\n",
       "</div>"
      ],
      "text/plain": [
       "       type_r    type_w  fixed acidity  volatile acidity  citric acid  \\\n",
       "0    1.718304 -1.718304       0.663555          1.448871    -0.583833   \n",
       "1   -0.581969  0.581969      -0.867392          0.544211    -0.507574   \n",
       "2   -0.581969  0.581969       0.905283         -0.860624     2.978233   \n",
       "3   -0.581969  0.581969       1.388740         -0.456462     0.238182   \n",
       "4   -0.581969  0.581969      -0.464511         -1.033836    -0.035823   \n",
       "..        ...       ...            ...               ...          ...   \n",
       "995 -0.581969  0.581969      -0.706239         -1.033836     0.101179   \n",
       "996 -0.581969  0.581969      -1.092008         -0.283250     0.786192   \n",
       "997 -0.581969  0.581969      -0.786816         -0.860624     0.169681   \n",
       "998  1.718304 -1.718304      -1.431425          0.409598    -0.241327   \n",
       "999 -0.581969  0.581969       0.180098          0.063174    -0.515332   \n",
       "\n",
       "     residual sugar  chlorides  free sulfur dioxide  total sulfur dioxide  \\\n",
       "0         -0.568905   0.806965            -0.307492             -0.190794   \n",
       "1         -0.811454  -0.619186             0.348643              0.142705   \n",
       "2         -0.172977  -0.359886             0.336280              1.384973   \n",
       "3          1.179730  -0.846074            -0.585088              0.879915   \n",
       "4         -0.898027   0.713658            -0.913156             -0.752478   \n",
       "..              ...        ...                  ...                   ...   \n",
       "995       -0.227085  -0.489536             0.298171              0.019837   \n",
       "996        0.199805  -0.327473             0.701946              1.704888   \n",
       "997        0.032635  -0.878487            -0.509380             -0.717373   \n",
       "998       -0.703237   0.835840            -0.408436             -1.180866   \n",
       "999       -0.724881  -1.235025            -0.004661             -0.822689   \n",
       "\n",
       "      density  ...  citric acid_missing  residual sugar_missing  \\\n",
       "0    0.505750  ...                    0                       1   \n",
       "1   -1.665259  ...                    1                       0   \n",
       "2   -0.773533  ...                    0                       0   \n",
       "3    0.697814  ...                    0                       0   \n",
       "4   -1.270842  ...                    0                       0   \n",
       "..        ...  ...                  ...                     ...   \n",
       "995 -0.972457  ...                    0                       0   \n",
       "996  0.106243  ...                    0                       1   \n",
       "997 -1.555508  ...                    0                       0   \n",
       "998  0.018731  ...                    0                       0   \n",
       "999 -1.871042  ...                    0                       0   \n",
       "\n",
       "     chlorides_missing  free sulfur dioxide_missing  \\\n",
       "0                    0                            0   \n",
       "1                    0                            0   \n",
       "2                    0                            1   \n",
       "3                    0                            0   \n",
       "4                    1                            0   \n",
       "..                 ...                          ...   \n",
       "995                  0                            0   \n",
       "996                  0                            0   \n",
       "997                  0                            0   \n",
       "998                  1                            0   \n",
       "999                  0                            0   \n",
       "\n",
       "     total sulfur dioxide_missing  density_missing  pH_missing  \\\n",
       "0                               0                0           0   \n",
       "1                               0                0           0   \n",
       "2                               1                0           0   \n",
       "3                               0                0           0   \n",
       "4                               0                0           0   \n",
       "..                            ...              ...         ...   \n",
       "995                             0                0           0   \n",
       "996                             0                1           0   \n",
       "997                             0                0           0   \n",
       "998                             1                0           0   \n",
       "999                             0                0           0   \n",
       "\n",
       "     sulphates_missing  alcohol_missing  type_missing  \n",
       "0                    0                0             0  \n",
       "1                    0                0             0  \n",
       "2                    0                0             0  \n",
       "3                    0                0             0  \n",
       "4                    0                0             0  \n",
       "..                 ...              ...           ...  \n",
       "995                  0                0             0  \n",
       "996                  0                0             0  \n",
       "997                  0                0             0  \n",
       "998                  0                1             0  \n",
       "999                  0                0             0  \n",
       "\n",
       "[1000 rows x 25 columns]"
      ]
     },
     "execution_count": 59,
     "metadata": {},
     "output_type": "execute_result"
    }
   ],
   "source": [
    "processed"
   ]
  },
  {
   "cell_type": "markdown",
   "metadata": {},
   "source": [
    "## $\\color{purple}{\\text{Conclusion}}$\n",
    "\n",
    "\n",
    "* The bulk of work with models dealing with missing data uses decision tree derivative models\n",
    "* Neural Networks can be used for imputation\n",
    "* Several strategies for integrating imputation into model building pipelines\n",
    "  * Imputer should be a processing step (important that models are saveable)\n",
    "  * Multiple Imputation can use data augmentation or multiple models\n",
    "  * Bagging can be applied to single imputation performed multiply\n",
    "  * Missingness (or imputed) can be added as a flag."
   ]
  },
  {
   "cell_type": "markdown",
   "metadata": {},
   "source": [
    "## $\\color{purple}{\\text{References}}$\n",
    "* Gondara, L., Wang, K.: Mida: Multiple imputation using denoising autoencoders.\n",
    "In: Phung, D., Tseng, V.S., Webb, G.I., Ho, B., Ganji, M., Rashidi, L. (eds.)\n",
    "_Advances in Knowledge Discovery and Data Mining_. pp. 260–272. Springer International Publishing, Cham (2018)\n",
    "* Jiang, W., Josse, J., Lavielle, M: Logistic regression with missing covariates–parameter estimation, model selection and prediction. _Computational and Statistics Analysis_, 2019.\n",
    "* Lu, H.-m., Perrone, G., & Unpingco, J.: Multiple imputation with denoising autoencoder using metamorphic truth and imputation feedback, _Machine Learning and Data Mining in Pattern Recognition, 16th International\n",
    "Conference on Machine Learning and Data Mining, MLDM 2020_,Amsterdam, The Netherlands, July 20-21, 2020, Proceedings,\n",
    "pages 197–208.\n",
    "* Perez-Lebel, A., Varoquaux, G., Le Morvan, M., Josse, J., Poline, J.-B.: Benchmarking missing-values approaches for predictive models on health databases, _GigaScience_, Volume 11, 2022, https://doi.org/10.1093/gigascience/giac013\n"
   ]
  },
  {
   "cell_type": "code",
   "execution_count": null,
   "metadata": {},
   "outputs": [],
   "source": []
  }
 ],
 "metadata": {
  "celltoolbar": "Tags",
  "colab": {
   "authorship_tag": "ABX9TyPpLv6R3L0XkmwitYmu11KS",
   "collapsed_sections": [],
   "name": "Untitled5.ipynb",
   "provenance": []
  },
  "kernelspec": {
   "display_name": "Python 3 (ipykernel)",
   "language": "python",
   "name": "python3"
  },
  "language_info": {
   "codemirror_mode": {
    "name": "ipython",
    "version": 3
   },
   "file_extension": ".py",
   "mimetype": "text/x-python",
   "name": "python",
   "nbconvert_exporter": "python",
   "pygments_lexer": "ipython3",
   "version": "3.9.7"
  }
 },
 "nbformat": 4,
 "nbformat_minor": 1
}
