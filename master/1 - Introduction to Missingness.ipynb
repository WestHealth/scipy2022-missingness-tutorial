{
 "cells": [
  {
   "cell_type": "markdown",
   "metadata": {},
   "source": [
    "# $\\color{purple}{\\text{Understanding Missing Data and How to Deal with It (Part 1)}}$\n",
    "## $\\color{purple}{\\text{Introduction to Missingness}}$"
   ]
  },
  {
   "cell_type": "markdown",
   "metadata": {
    "tags": [
     "colab"
    ]
   },
   "source": [
    "### $\\color{purple}{\\text{Colab Environmental Setup}}$\n",
    "We will be saving and reading files. If you are following along with me and use colab. It will be a lot easier to mount your google drive.\n"
   ]
  },
  {
   "cell_type": "raw",
   "metadata": {
    "tags": [
     "colab"
    ]
   },
   "source": [
    "from google.colab import drive\n",
    "drive.mount('/content/drive')\n",
    "import os\n",
    "#os.mkdir('/content/drive/My Drive/missingness_tutorial')\n",
    "os.chdir('/content/drive/My Drive/missingness_tutorial')"
   ]
  },
  {
   "cell_type": "markdown",
   "metadata": {},
   "source": [
    "### $\\color{purple}{\\text{Libraries for this lesson}}$"
   ]
  },
  {
   "cell_type": "code",
   "execution_count": 2,
   "metadata": {},
   "outputs": [],
   "source": [
    "import pandas as pd\n",
    "import numpy as np"
   ]
  },
  {
   "cell_type": "markdown",
   "metadata": {},
   "source": [
    "## $\\color{purple}{\\text{Nomenclature}}$\n",
    "\n",
    "* columns\n",
    "  * features\n",
    "  * variables\n",
    "\n",
    "* rows\n",
    "  * observations\n",
    "  * cases\n",
    "  * records\n",
    "\n",
    "Below is a little mnemonic Dataframe that encapsulates these synonyms"
   ]
  },
  {
   "cell_type": "code",
   "execution_count": 3,
   "metadata": {},
   "outputs": [
    {
     "data": {
      "text/html": [
       "<div>\n",
       "<style scoped>\n",
       "    .dataframe tbody tr th:only-of-type {\n",
       "        vertical-align: middle;\n",
       "    }\n",
       "\n",
       "    .dataframe tbody tr th {\n",
       "        vertical-align: top;\n",
       "    }\n",
       "\n",
       "    .dataframe thead th {\n",
       "        text-align: right;\n",
       "    }\n",
       "</style>\n",
       "<table border=\"1\" class=\"dataframe\">\n",
       "  <thead>\n",
       "    <tr style=\"text-align: right;\">\n",
       "      <th></th>\n",
       "      <th>columns</th>\n",
       "      <th>features</th>\n",
       "      <th>variables</th>\n",
       "    </tr>\n",
       "  </thead>\n",
       "  <tbody>\n",
       "    <tr>\n",
       "      <th>rows</th>\n",
       "      <td>0.821113</td>\n",
       "      <td>-1.569125</td>\n",
       "      <td>-0.526226</td>\n",
       "    </tr>\n",
       "    <tr>\n",
       "      <th>observations</th>\n",
       "      <td>1.768810</td>\n",
       "      <td>0.842561</td>\n",
       "      <td>-2.070881</td>\n",
       "    </tr>\n",
       "    <tr>\n",
       "      <th>cases</th>\n",
       "      <td>0.533786</td>\n",
       "      <td>-1.484466</td>\n",
       "      <td>1.100254</td>\n",
       "    </tr>\n",
       "    <tr>\n",
       "      <th>records</th>\n",
       "      <td>-0.718479</td>\n",
       "      <td>-0.399845</td>\n",
       "      <td>0.911505</td>\n",
       "    </tr>\n",
       "  </tbody>\n",
       "</table>\n",
       "</div>"
      ],
      "text/plain": [
       "               columns  features  variables\n",
       "rows          0.821113 -1.569125  -0.526226\n",
       "observations  1.768810  0.842561  -2.070881\n",
       "cases         0.533786 -1.484466   1.100254\n",
       "records      -0.718479 -0.399845   0.911505"
      ]
     },
     "execution_count": 3,
     "metadata": {},
     "output_type": "execute_result"
    }
   ],
   "source": [
    "pd.DataFrame(np.random.randn(4, 3), columns=['columns', 'features', 'variables'], index=['rows', 'observations', 'cases', 'records'])"
   ]
  },
  {
   "cell_type": "markdown",
   "metadata": {},
   "source": [
    "## $\\color{purple}{\\text{Identifying Missing Features}}$\n",
    "$\\color{red}{\\Large{\\text{ ⚠}}}$ Always examine your data and determine what are missing values\n",
    "\n",
    "  * Values that are missing:\n",
    "      * CSV files with blanks\n",
    "      * NULL in a database\n",
    "      * Impossible Values\n",
    "  * Values that are non necessarily missing:\n",
    "      * N/A\n",
    "        * Not Available - missing\n",
    "        * Not Applicable - maybe not missing\n",
    "      * NaN\n",
    "\n",
    "| Patient | Sex| Pregnant | Testicular Cancer |\n",
    "|---------|----|----------|-------------------|\n",
    "| Mary    | F  |  N       |   N/A             |\n",
    "| John    | M  |  N/A     |    N              |\n",
    "\n",
    "\n",
    "Is N/A really missing or just Not Applicable in this case?"
   ]
  },
  {
   "cell_type": "markdown",
   "metadata": {},
   "source": [
    "### $\\color{red}{\\Large{\\text{ ⚠}}}$ Remember NaN really stands for Not a Number. \n",
    "\n",
    "Many python tools use NaN to denote missing values in a table. But it does not necessarily mean the value is missing. A NaN could be incurred from bad processing somewhere in the pipeline or could even be expected.\n",
    "\n",
    "However, for the rest of this we will use NaN in a `pandas` `DataFrame` to denote a missing value."
   ]
  },
  {
   "cell_type": "code",
   "execution_count": 4,
   "metadata": {},
   "outputs": [
    {
     "name": "stderr",
     "output_type": "stream",
     "text": [
      "/home/unpingco/.conda/envs/py39/lib/python3.9/site-packages/pandas/core/arraylike.py:397: RuntimeWarning: invalid value encountered in sqrt\n",
      "  result = getattr(ufunc, method)(*inputs, **kwargs)\n"
     ]
    }
   ],
   "source": [
    "df = pd.DataFrame({'a': [1,2,3], 'b': [1, -1, 4]})\n",
    "df['sqrt_b']=np.sqrt(df.b)"
   ]
  },
  {
   "cell_type": "code",
   "execution_count": 5,
   "metadata": {},
   "outputs": [
    {
     "data": {
      "text/html": [
       "<div>\n",
       "<style scoped>\n",
       "    .dataframe tbody tr th:only-of-type {\n",
       "        vertical-align: middle;\n",
       "    }\n",
       "\n",
       "    .dataframe tbody tr th {\n",
       "        vertical-align: top;\n",
       "    }\n",
       "\n",
       "    .dataframe thead th {\n",
       "        text-align: right;\n",
       "    }\n",
       "</style>\n",
       "<table border=\"1\" class=\"dataframe\">\n",
       "  <thead>\n",
       "    <tr style=\"text-align: right;\">\n",
       "      <th></th>\n",
       "      <th>a</th>\n",
       "      <th>b</th>\n",
       "      <th>sqrt_b</th>\n",
       "    </tr>\n",
       "  </thead>\n",
       "  <tbody>\n",
       "    <tr>\n",
       "      <th>0</th>\n",
       "      <td>1</td>\n",
       "      <td>1</td>\n",
       "      <td>1.0</td>\n",
       "    </tr>\n",
       "    <tr>\n",
       "      <th>1</th>\n",
       "      <td>2</td>\n",
       "      <td>-1</td>\n",
       "      <td>NaN</td>\n",
       "    </tr>\n",
       "    <tr>\n",
       "      <th>2</th>\n",
       "      <td>3</td>\n",
       "      <td>4</td>\n",
       "      <td>2.0</td>\n",
       "    </tr>\n",
       "  </tbody>\n",
       "</table>\n",
       "</div>"
      ],
      "text/plain": [
       "   a  b  sqrt_b\n",
       "0  1  1     1.0\n",
       "1  2 -1     NaN\n",
       "2  3  4     2.0"
      ]
     },
     "execution_count": 5,
     "metadata": {},
     "output_type": "execute_result"
    }
   ],
   "source": [
    "df"
   ]
  },
  {
   "cell_type": "markdown",
   "metadata": {},
   "source": [
    "## $\\color{purple}{\\text{Missingness Mechanism vs. Pattern}}$\n",
    "\n",
    "* Missingness Mechanism (Is an observation complete?)\n",
    "  * Missing Completely at Random (MCAR)\n",
    "  * Missing at Random (MAR)\n",
    "  * Missing not at Random (MNAR)\n",
    "\n",
    "* Missingness Pattern (What features are missing within an observation?)\n",
    "  * Uniform\n",
    "  * Monotonic\n",
    "  * Random"
   ]
  },
  {
   "cell_type": "markdown",
   "metadata": {},
   "source": [
    "## $\\color{purple}{\\text{Missingness Patterns}}$\n",
    "No standard terminology but here is one version:\n",
    "* If a row has missing data, the same features are always missing\n",
    "#### $\\color{purple}{\\text{Uniform}}$\n",
    "\n",
    "| Height | Weight | Sex  | Temperature | Pulse | BP Systolic |\n",
    "| ------ | ------ | ---- | ----------- | ----- | ----------- |\n",
    "| NaN    | NaN    | M    | 98.6        | 70    | NaN         |\n",
    "| 61     | 120    | F    | 98.2        | 77    | 110         |\n",
    "| 65     | 160    | M    | 99.1        | 62    | 140         |\n",
    "| NaN    | NaN    | F    | 98.9        | 55    | NaN         |\n",
    "\n",
    "* If a feature is missing, the rest of the features in the row are missing\n",
    "\n",
    "<font color='red'>\n",
    "The monotone missing pattern is where the set of observed rows  in one column is\n",
    "always a subset of the set of observed rows for another column. This means that the columns can be ordered by the respective number of missing elements (least-to-greatest) in each column. When reordered this way, a missing element along any row/column implies that the rest of the columns to the right along that row are also missing.\n",
    "</font> \n",
    "\n",
    "\n",
    "#### $\\color{purple}{\\text{Monotonic}}$\n",
    "\n",
    "| Height | Weight | Sex  | Temperature | Pulse | BP Systolic |\n",
    "| ------ | ------ | ---- | ----------- | ----- | ----------- |\n",
    "| 71     | 190    | M    | 98.6        | 70    | 120         |\n",
    "| 61     | 120    |      | NaN         | NaN   | NaN         |\n",
    "| 65     | 160    | M    | 99.1        | 62    | 140         |\n",
    "| 63     | 125    | F    | 98.9        | NaN   | NaN         |\n",
    "\n",
    "* No particular pattern to the missingness\n",
    "#### $\\color{purple}{\\text{Random}}$\n",
    "\n",
    "| Height | Weight | Sex  | Temperature | Pulse | BP Systolic |\n",
    "| ------ | ------ | ---- | ----------- | ----- | ----------- |\n",
    "| 71     | NaN    | M    | 98.6        | NaN   | 120         |\n",
    "| 61     | 120    | F    | 98.2        | 77    | 110         |\n",
    "| 65     | NaN    | M    | NaN         | NaN   | 140         |\n",
    "| 63     | 125    | F    | 98.9        | 55    | 100         |\n",
    "\n",
    "\n",
    "\n",
    "\n"
   ]
  },
  {
   "cell_type": "markdown",
   "metadata": {},
   "source": [
    "## $\\color{purple}{\\text{Missingness Mechanisms}}$\n",
    "\n",
    "Rubin’s taxonomy:\n",
    "  * MCAR: the probability of data being missing does not depend on the values\n",
    "observed or unobserved variables\n",
    "  * MAR: the probability of data being missing does not depend on the unobserved\n",
    "data, conditional on the observed data\n",
    "  * MNAR: the probability of data being missing depends on the unobserved data,\n",
    "**even after conditioning on the observed data** \n",
    "\n",
    "Source: [Missing data in propensity\n",
    "score analysis](\n",
    "https://www.ucl.ac.uk/population-health-sciences/sites/population_health_sciences/files/nash-missing_dataps_clemence_leyret.pdf)"
   ]
  },
  {
   "cell_type": "markdown",
   "metadata": {},
   "source": [
    "## $\\color{purple}{\\text{Why Should I Care? Missing is Missing}}$\n",
    " * MCAR can apply deletion\n",
    " * MAR can use imputation\n",
    " * MNAR requires looking outside the data to handle\n",
    "\n",
    "$\\color{red}{\\text{⚠}}$ Many research papers purport to be able to impute MNAR data. Do not believe them, most of the methodology is the claims is faulty."
   ]
  },
  {
   "cell_type": "markdown",
   "metadata": {},
   "source": [
    "## $\\color{purple}{\\text{Simple Case of Unimputatble NMAR Data}}$\n",
    "The following example is a simple example of an MNAR mechanism. \n",
    "\n",
    "\n",
    "This data set is a fictitious scenario where 100 people were surveyed to pick a number between 1 and 10. Due to some unknown mechanism even numbers on occasionally lost. \n",
    "\n",
    "* `first_name` - first name of person polled\n",
    "* `number` - They were asked to pick a number between 1-10\n",
    "* missingness - with a small probability, numbers are missing if they are odd"
   ]
  },
  {
   "cell_type": "code",
   "execution_count": 7,
   "metadata": {},
   "outputs": [
    {
     "data": {
      "text/html": [
       "<div>\n",
       "<style scoped>\n",
       "    .dataframe tbody tr th:only-of-type {\n",
       "        vertical-align: middle;\n",
       "    }\n",
       "\n",
       "    .dataframe tbody tr th {\n",
       "        vertical-align: top;\n",
       "    }\n",
       "\n",
       "    .dataframe thead th {\n",
       "        text-align: right;\n",
       "    }\n",
       "</style>\n",
       "<table border=\"1\" class=\"dataframe\">\n",
       "  <thead>\n",
       "    <tr style=\"text-align: right;\">\n",
       "      <th></th>\n",
       "      <th>first_name</th>\n",
       "      <th>number</th>\n",
       "    </tr>\n",
       "  </thead>\n",
       "  <tbody>\n",
       "    <tr>\n",
       "      <th>0</th>\n",
       "      <td>Salvatore</td>\n",
       "      <td>6.0</td>\n",
       "    </tr>\n",
       "    <tr>\n",
       "      <th>1</th>\n",
       "      <td>Scott</td>\n",
       "      <td>NaN</td>\n",
       "    </tr>\n",
       "    <tr>\n",
       "      <th>2</th>\n",
       "      <td>Anthony</td>\n",
       "      <td>8.0</td>\n",
       "    </tr>\n",
       "    <tr>\n",
       "      <th>3</th>\n",
       "      <td>Anthony</td>\n",
       "      <td>NaN</td>\n",
       "    </tr>\n",
       "    <tr>\n",
       "      <th>4</th>\n",
       "      <td>James</td>\n",
       "      <td>3.0</td>\n",
       "    </tr>\n",
       "    <tr>\n",
       "      <th>5</th>\n",
       "      <td>Eric</td>\n",
       "      <td>8.0</td>\n",
       "    </tr>\n",
       "    <tr>\n",
       "      <th>6</th>\n",
       "      <td>Winifred</td>\n",
       "      <td>9.0</td>\n",
       "    </tr>\n",
       "    <tr>\n",
       "      <th>7</th>\n",
       "      <td>Pamela</td>\n",
       "      <td>3.0</td>\n",
       "    </tr>\n",
       "    <tr>\n",
       "      <th>8</th>\n",
       "      <td>Elizabeth</td>\n",
       "      <td>8.0</td>\n",
       "    </tr>\n",
       "    <tr>\n",
       "      <th>9</th>\n",
       "      <td>Kimberly</td>\n",
       "      <td>6.0</td>\n",
       "    </tr>\n",
       "    <tr>\n",
       "      <th>10</th>\n",
       "      <td>Kris</td>\n",
       "      <td>NaN</td>\n",
       "    </tr>\n",
       "    <tr>\n",
       "      <th>11</th>\n",
       "      <td>Kathleen</td>\n",
       "      <td>8.0</td>\n",
       "    </tr>\n",
       "    <tr>\n",
       "      <th>12</th>\n",
       "      <td>Samantha</td>\n",
       "      <td>5.0</td>\n",
       "    </tr>\n",
       "    <tr>\n",
       "      <th>13</th>\n",
       "      <td>Helen</td>\n",
       "      <td>NaN</td>\n",
       "    </tr>\n",
       "    <tr>\n",
       "      <th>14</th>\n",
       "      <td>Lynda</td>\n",
       "      <td>7.0</td>\n",
       "    </tr>\n",
       "    <tr>\n",
       "      <th>15</th>\n",
       "      <td>Lawrence</td>\n",
       "      <td>8.0</td>\n",
       "    </tr>\n",
       "    <tr>\n",
       "      <th>16</th>\n",
       "      <td>Marjorie</td>\n",
       "      <td>6.0</td>\n",
       "    </tr>\n",
       "    <tr>\n",
       "      <th>17</th>\n",
       "      <td>Randy</td>\n",
       "      <td>6.0</td>\n",
       "    </tr>\n",
       "    <tr>\n",
       "      <th>18</th>\n",
       "      <td>Gary</td>\n",
       "      <td>6.0</td>\n",
       "    </tr>\n",
       "    <tr>\n",
       "      <th>19</th>\n",
       "      <td>Clarence</td>\n",
       "      <td>6.0</td>\n",
       "    </tr>\n",
       "  </tbody>\n",
       "</table>\n",
       "</div>"
      ],
      "text/plain": [
       "   first_name  number\n",
       "0   Salvatore     6.0\n",
       "1       Scott     NaN\n",
       "2     Anthony     8.0\n",
       "3     Anthony     NaN\n",
       "4       James     3.0\n",
       "5        Eric     8.0\n",
       "6    Winifred     9.0\n",
       "7      Pamela     3.0\n",
       "8   Elizabeth     8.0\n",
       "9    Kimberly     6.0\n",
       "10       Kris     NaN\n",
       "11   Kathleen     8.0\n",
       "12   Samantha     5.0\n",
       "13      Helen     NaN\n",
       "14      Lynda     7.0\n",
       "15   Lawrence     8.0\n",
       "16   Marjorie     6.0\n",
       "17      Randy     6.0\n",
       "18       Gary     6.0\n",
       "19   Clarence     6.0"
      ]
     },
     "execution_count": 7,
     "metadata": {},
     "output_type": "execute_result"
    }
   ],
   "source": [
    "df=pd.read_csv('../data/favorite_numbers.csv')\n",
    "df.head(20)"
   ]
  },
  {
   "cell_type": "markdown",
   "metadata": {},
   "source": [
    "### $\\color{purple}{\\text{What can we tell about the missing data ?}}$\n",
    "* Data itself can tell us nothing\n",
    "* Outside knowledge can help\n",
    "* More data can help\n",
    "\n",
    "Based on the data set alone, there is knowledge as to what the missing values are aside from that they are even. \n",
    "One might assume that since most people tend to pick numbers from the middle hence you might infer that the numbers 4 and 6 are more common. However, this is based on knowledge outside the data set itself. Furthermore you might have statistics from outside sources indicating gender preference.\n"
   ]
  },
  {
   "cell_type": "code",
   "execution_count": 10,
   "metadata": {
    "tags": [
     "master"
    ]
   },
   "outputs": [
    {
     "data": {
      "text/plain": [
       "<AxesSubplot:>"
      ]
     },
     "execution_count": 10,
     "metadata": {},
     "output_type": "execute_result"
    },
    {
     "data": {
      "image/png": "[encoded data removed]",
      "text/plain": [
       "<Figure size 432x288 with 1 Axes>"
      ]
     },
     "metadata": {
      "needs_background": "light"
     },
     "output_type": "display_data"
    }
   ],
   "source": [
    "df.number.hist(grid=False,rwidth=.8)"
   ]
  },
  {
   "cell_type": "code",
   "execution_count": 11,
   "metadata": {
    "tags": [
     "master"
    ]
   },
   "outputs": [
    {
     "data": {
      "text/plain": [
       "first_name     0\n",
       "number        15\n",
       "dtype: int64"
      ]
     },
     "execution_count": 11,
     "metadata": {},
     "output_type": "execute_result"
    }
   ],
   "source": [
    "df.isnull().sum()"
   ]
  },
  {
   "cell_type": "markdown",
   "metadata": {},
   "source": [
    "Suppose now we have their last names. We see the surnames and might be able to apply additional domain knowledge to better determine how likely the distribution of the missing numbers might be.\n",
    "\n",
    "Traditionally, in Chinese culture, 6 and 8 are considered lucky where 4 and 10 are considered unlucky."
   ]
  },
  {
   "cell_type": "code",
   "execution_count": 13,
   "metadata": {},
   "outputs": [
    {
     "data": {
      "text/html": [
       "<div>\n",
       "<style scoped>\n",
       "    .dataframe tbody tr th:only-of-type {\n",
       "        vertical-align: middle;\n",
       "    }\n",
       "\n",
       "    .dataframe tbody tr th {\n",
       "        vertical-align: top;\n",
       "    }\n",
       "\n",
       "    .dataframe thead th {\n",
       "        text-align: right;\n",
       "    }\n",
       "</style>\n",
       "<table border=\"1\" class=\"dataframe\">\n",
       "  <thead>\n",
       "    <tr style=\"text-align: right;\">\n",
       "      <th></th>\n",
       "      <th>first_name</th>\n",
       "      <th>last_name</th>\n",
       "      <th>number</th>\n",
       "    </tr>\n",
       "  </thead>\n",
       "  <tbody>\n",
       "    <tr>\n",
       "      <th>0</th>\n",
       "      <td>Salvatore</td>\n",
       "      <td>Lin</td>\n",
       "      <td>6.0</td>\n",
       "    </tr>\n",
       "    <tr>\n",
       "      <th>1</th>\n",
       "      <td>Scott</td>\n",
       "      <td>Qian</td>\n",
       "      <td>NaN</td>\n",
       "    </tr>\n",
       "    <tr>\n",
       "      <th>2</th>\n",
       "      <td>Anthony</td>\n",
       "      <td>Zhuang</td>\n",
       "      <td>8.0</td>\n",
       "    </tr>\n",
       "    <tr>\n",
       "      <th>3</th>\n",
       "      <td>Anthony</td>\n",
       "      <td>Ch'iu</td>\n",
       "      <td>NaN</td>\n",
       "    </tr>\n",
       "    <tr>\n",
       "      <th>4</th>\n",
       "      <td>James</td>\n",
       "      <td>Chung</td>\n",
       "      <td>3.0</td>\n",
       "    </tr>\n",
       "    <tr>\n",
       "      <th>5</th>\n",
       "      <td>Eric</td>\n",
       "      <td>Ma</td>\n",
       "      <td>8.0</td>\n",
       "    </tr>\n",
       "    <tr>\n",
       "      <th>6</th>\n",
       "      <td>Winifred</td>\n",
       "      <td>Hsin</td>\n",
       "      <td>9.0</td>\n",
       "    </tr>\n",
       "    <tr>\n",
       "      <th>7</th>\n",
       "      <td>Pamela</td>\n",
       "      <td>Ren</td>\n",
       "      <td>3.0</td>\n",
       "    </tr>\n",
       "    <tr>\n",
       "      <th>8</th>\n",
       "      <td>Elizabeth</td>\n",
       "      <td>Luo</td>\n",
       "      <td>8.0</td>\n",
       "    </tr>\n",
       "    <tr>\n",
       "      <th>9</th>\n",
       "      <td>Kimberly</td>\n",
       "      <td>Tuan</td>\n",
       "      <td>6.0</td>\n",
       "    </tr>\n",
       "    <tr>\n",
       "      <th>10</th>\n",
       "      <td>Kris</td>\n",
       "      <td>Liang</td>\n",
       "      <td>NaN</td>\n",
       "    </tr>\n",
       "    <tr>\n",
       "      <th>11</th>\n",
       "      <td>Kathleen</td>\n",
       "      <td>Su</td>\n",
       "      <td>8.0</td>\n",
       "    </tr>\n",
       "    <tr>\n",
       "      <th>12</th>\n",
       "      <td>Samantha</td>\n",
       "      <td>Tang</td>\n",
       "      <td>5.0</td>\n",
       "    </tr>\n",
       "    <tr>\n",
       "      <th>13</th>\n",
       "      <td>Helen</td>\n",
       "      <td>Sung</td>\n",
       "      <td>NaN</td>\n",
       "    </tr>\n",
       "    <tr>\n",
       "      <th>14</th>\n",
       "      <td>Lynda</td>\n",
       "      <td>Xu</td>\n",
       "      <td>7.0</td>\n",
       "    </tr>\n",
       "    <tr>\n",
       "      <th>15</th>\n",
       "      <td>Lawrence</td>\n",
       "      <td>Ou</td>\n",
       "      <td>8.0</td>\n",
       "    </tr>\n",
       "    <tr>\n",
       "      <th>16</th>\n",
       "      <td>Marjorie</td>\n",
       "      <td>Xiang</td>\n",
       "      <td>6.0</td>\n",
       "    </tr>\n",
       "    <tr>\n",
       "      <th>17</th>\n",
       "      <td>Randy</td>\n",
       "      <td>Chiang</td>\n",
       "      <td>6.0</td>\n",
       "    </tr>\n",
       "    <tr>\n",
       "      <th>18</th>\n",
       "      <td>Gary</td>\n",
       "      <td>Luo</td>\n",
       "      <td>6.0</td>\n",
       "    </tr>\n",
       "    <tr>\n",
       "      <th>19</th>\n",
       "      <td>Clarence</td>\n",
       "      <td>Hsiung</td>\n",
       "      <td>6.0</td>\n",
       "    </tr>\n",
       "  </tbody>\n",
       "</table>\n",
       "</div>"
      ],
      "text/plain": [
       "   first_name last_name  number\n",
       "0   Salvatore       Lin     6.0\n",
       "1       Scott      Qian     NaN\n",
       "2     Anthony    Zhuang     8.0\n",
       "3     Anthony     Ch'iu     NaN\n",
       "4       James     Chung     3.0\n",
       "5        Eric        Ma     8.0\n",
       "6    Winifred      Hsin     9.0\n",
       "7      Pamela       Ren     3.0\n",
       "8   Elizabeth       Luo     8.0\n",
       "9    Kimberly      Tuan     6.0\n",
       "10       Kris     Liang     NaN\n",
       "11   Kathleen        Su     8.0\n",
       "12   Samantha      Tang     5.0\n",
       "13      Helen      Sung     NaN\n",
       "14      Lynda        Xu     7.0\n",
       "15   Lawrence        Ou     8.0\n",
       "16   Marjorie     Xiang     6.0\n",
       "17      Randy    Chiang     6.0\n",
       "18       Gary       Luo     6.0\n",
       "19   Clarence    Hsiung     6.0"
      ]
     },
     "execution_count": 13,
     "metadata": {},
     "output_type": "execute_result"
    }
   ],
   "source": [
    "df=pd.read_csv('../data/favorite_numbers_full_name.csv')\n",
    "df.head(20)"
   ]
  },
  {
   "cell_type": "code",
   "execution_count": 15,
   "metadata": {
    "tags": [
     "master"
    ]
   },
   "outputs": [
    {
     "data": {
      "text/plain": [
       "array([[<AxesSubplot:title={'center':'number'}>]], dtype=object)"
      ]
     },
     "execution_count": 15,
     "metadata": {},
     "output_type": "execute_result"
    },
    {
     "data": {
      "image/png": "[encoded data removed]",
      "text/plain": [
       "<Figure size 432x288 with 1 Axes>"
      ]
     },
     "metadata": {
      "needs_background": "light"
     },
     "output_type": "display_data"
    }
   ],
   "source": [
    "df.hist(grid=False, rwidth=.8)"
   ]
  },
  {
   "cell_type": "code",
   "execution_count": 16,
   "metadata": {
    "tags": [
     "master"
    ]
   },
   "outputs": [
    {
     "data": {
      "text/plain": [
       "array([[<AxesSubplot:title={'center':'number'}>]], dtype=object)"
      ]
     },
     "execution_count": 16,
     "metadata": {},
     "output_type": "execute_result"
    },
    {
     "data": {
      "image/png": "[encoded data removed]",
      "text/plain": [
       "<Figure size 432x288 with 1 Axes>"
      ]
     },
     "metadata": {
      "needs_background": "light"
     },
     "output_type": "display_data"
    }
   ],
   "source": [
    "full_df=pd.read_csv('../data/favorite_numbers_full.csv')\n",
    "full_df.hist(grid=False,rwidth=.8)"
   ]
  },
  {
   "cell_type": "markdown",
   "metadata": {},
   "source": [
    "## $\\color{purple}{\\text{Key Takeaways}}$\n",
    "* Be sure to correctly identify what is truly missing\n",
    "* The proper treatment of missing data requires identifying the type of missingness mechanism (MCAR, MAR, MNAR)\n",
    "* Data missing due to MNAR requires domain knowledge to address"
   ]
  }
 ],
 "metadata": {
  "celltoolbar": "Tags",
  "colab": {
   "authorship_tag": "ABX9TyPJPCKz3Vf0S1QHlXB9OeAl",
   "collapsed_sections": [],
   "name": "0-Introduction to Missingness.ipynb",
   "provenance": []
  },
  "kernelspec": {
   "display_name": "Python 3",
   "language": "python",
   "name": "python3"
  },
  "language_info": {
   "codemirror_mode": {
    "name": "ipython",
    "version": 3
   },
   "file_extension": ".py",
   "mimetype": "text/x-python",
   "name": "python",
   "nbconvert_exporter": "python",
   "pygments_lexer": "ipython3",
   "version": "3.9.7"
  },
  "toc": {
   "base_numbering": 1,
   "nav_menu": {},
   "number_sections": true,
   "sideBar": true,
   "skip_h1_title": false,
   "title_cell": "Table of Contents",
   "title_sidebar": "Contents",
   "toc_cell": false,
   "toc_position": {},
   "toc_section_display": true,
   "toc_window_display": false
  }
 },
 "nbformat": 4,
 "nbformat_minor": 1
}
