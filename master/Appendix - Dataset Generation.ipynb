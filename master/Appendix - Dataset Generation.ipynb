{
 "cells": [
  {
   "cell_type": "code",
   "execution_count": null,
   "metadata": {
    "executionInfo": {
     "elapsed": 352,
     "status": "ok",
     "timestamp": 1654210883509,
     "user": {
      "displayName": "Haw-minn Lu",
      "userId": "16109571175851064283"
     },
     "user_tz": 420
    },
    "id": "MyqDj3llBzsv"
   },
   "outputs": [],
   "source": [
    "import numpy as np\n",
    "import math\n",
    "import pandas as pd\n",
    "import matplotlib.pyplot as plt  # a library to plot nice graphs. plt is just a short alias\n",
    "plt.style.use('ggplot')      \n",
    "x=np.concatenate([np.random.uniform(low=0.0, high=2*math.pi, size=8),[0, 2*math.pi]])\n",
    "np.sort(x)\n",
    "y=np.vectorize(math.sin)(x)\n",
    "z=np.vectorize(math.cos)(x)\n",
    "full_df = pd.DataFrame(dict(x=x,y=y,z=z))\n",
    "missing_x = np.random.uniform(low=0.0, high=2*math.pi, size=40)\n",
    "missing_df = pd.DataFrame(dict(x=missing_x, y=np.nan, z=np.nan))\n",
    "df=pd.concat([full_df, missing_df]).sort_values('x').reset_index().sample(frac=1)"
   ]
  },
  {
   "cell_type": "code",
   "execution_count": null,
   "metadata": {
    "executionInfo": {
     "elapsed": 2,
     "status": "ok",
     "timestamp": 1654210883509,
     "user": {
      "displayName": "Haw-minn Lu",
      "userId": "16109571175851064283"
     },
     "user_tz": 420
    },
    "id": "KF0fTfoRCGEH"
   },
   "outputs": [],
   "source": [
    "df.to_csv('interpolate.csv', index=False)"
   ]
  },
  {
   "cell_type": "code",
   "execution_count": null,
   "metadata": {
    "id": "pjQm0L2pCJIf"
   },
   "outputs": [],
   "source": []
  },
  {
   "cell_type": "code",
   "execution_count": null,
   "metadata": {
    "colab": {
     "base_uri": "https://localhost:8080/"
    },
    "executionInfo": {
     "elapsed": 17444,
     "status": "ok",
     "timestamp": 1654210878347,
     "user": {
      "displayName": "Haw-minn Lu",
      "userId": "16109571175851064283"
     },
     "user_tz": 420
    },
    "id": "8tdWZiHkmz1L",
    "outputId": "15ce2472-af84-443b-af13-fae2f1fad17b"
   },
   "outputs": [],
   "source": [
    "from google.colab import drive\n",
    "import os\n",
    "drive.mount('/content/drive')\n",
    "os.chdir('/content/drive/My Drive/missingness_tutorial')"
   ]
  },
  {
   "cell_type": "code",
   "execution_count": null,
   "metadata": {
    "id": "rvQjpLzqpoM3"
   },
   "outputs": [],
   "source": []
  }
 ],
 "metadata": {
  "colab": {
   "authorship_tag": "ABX9TyPgpcP7WKH7DrUhtQnrScsD",
   "name": "Untitled3.ipynb",
   "provenance": []
  },
  "kernelspec": {
   "display_name": "Python 3",
   "name": "python3"
  },
  "language_info": {
   "name": "python"
  }
 },
 "nbformat": 4,
 "nbformat_minor": 0
}
