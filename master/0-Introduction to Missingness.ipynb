{
 "cells": [
  {
   "cell_type": "markdown",
   "metadata": {
    "id": "IcWr96v59sU8"
   },
   "source": [
    "# $\\color{purple}{\\text{Understanding Missing Data and How to Deal with It (Part 1)}}$"
   ]
  },
  {
   "cell_type": "markdown",
   "metadata": {
    "id": "mW9hx3zZlGRO",
    "tags": [
     "colab"
    ]
   },
   "source": [
    "### $\\color{purple}{\\text{Colab Environmental Setup}}$\n",
    "We will be saving and reading files. If you are following along with me and use colab. It will be a lot easier to mount your google drive.\n"
   ]
  },
  {
   "cell_type": "code",
   "execution_count": null,
   "metadata": {
    "colab": {
     "base_uri": "https://localhost:8080/"
    },
    "executionInfo": {
     "elapsed": 1537,
     "status": "ok",
     "timestamp": 1654209989072,
     "user": {
      "displayName": "Haw-minn Lu",
      "userId": "16109571175851064283"
     },
     "user_tz": 420
    },
    "id": "7xlRCtZjlDww",
    "outputId": "57a6db14-eaa9-4af6-96f2-39edf97493c4",
    "tags": [
     "colab"
    ]
   },
   "outputs": [],
   "source": [
    "from google.colab import drive\n",
    "drive.mount('/content/drive')\n",
    "import os\n",
    "#os.mkdir('/content/drive/My Drive/missingness_tutorial')\n",
    "os.chdir('/content/drive/My Drive/missingness_tutorial')"
   ]
  },
  {
   "cell_type": "markdown",
   "metadata": {
    "id": "qFTeZP_Q_VPd"
   },
   "source": [
    "## $\\color{purple}{\\text{Nomenclature}}$\n",
    "\n",
    "* columns\n",
    "  * features\n",
    "  * variables\n",
    "\n",
    "* rows\n",
    "  * observations\n",
    "  * cases\n",
    "  * records"
   ]
  },
  {
   "cell_type": "code",
   "execution_count": null,
   "metadata": {
    "id": "fRq0Qjz2kggD"
   },
   "outputs": [],
   "source": [
    "import pandas as pd\n",
    "import numpy as np"
   ]
  },
  {
   "cell_type": "code",
   "execution_count": null,
   "metadata": {
    "colab": {
     "base_uri": "https://localhost:8080/",
     "height": 175
    },
    "executionInfo": {
     "elapsed": 139,
     "status": "ok",
     "timestamp": 1653941289738,
     "user": {
      "displayName": "Haw-minn Lu",
      "userId": "16109571175851064283"
     },
     "user_tz": 420
    },
    "id": "kT5aGCodklbB",
    "outputId": "5307e8aa-e43b-43a4-ead8-259cd2d2ab7a"
   },
   "outputs": [],
   "source": [
    "pd.DataFrame(np.random.randn(4, 3), columns=['columns', 'features', 'variables'], index=['rows', 'observations', 'cases', 'records'])"
   ]
  },
  {
   "cell_type": "markdown",
   "metadata": {
    "id": "qrfMjKc3_JCs"
   },
   "source": [
    "## $\\color{purple}{\\text{Identifying Missing Features}}$\n",
    "$\\color{red}{\\Large{\\text{ ⚠}}}$ Always examine your data and determine what are missing values\n",
    "\n",
    "  * Values that are missing:\n",
    "      * CSV files with blanks\n",
    "      * NULL in a database\n",
    "      * Impossible Values\n",
    "  * Values that are non necessarily missing:\n",
    "      * N/A\n",
    "        * Not Available - missing\n",
    "        * Not Applicable - maybe not missing\n",
    "      * NaN\n",
    "\n",
    "| Patient | Sex| Pregnant | Testicular Cancer |\n",
    "|---------|----|----------|-------------------|\n",
    "| Mary    | F  |  N       |   N/A             |\n",
    "| John    | M  |  N/A     |    N              |\n",
    "\n",
    "\n",
    "Is N/A really missing or just Not Applicable in this case?"
   ]
  },
  {
   "cell_type": "markdown",
   "metadata": {
    "id": "cKAWAemVEnaI"
   },
   "source": [
    "### $\\color{red}{\\Large{\\text{ ⚠}}}$ Remember NaN really stands for Not a Number. \n",
    "\n",
    "Many python tools use NaN to denote missing values in a table. But it does not necessarily mean the value is missing. A NaN could be incurred from bad processing somewhere in the pipeline or could even be expected.\n",
    "\n",
    "However, for the rest of this we will use NaN in a `pandas` `DataFrame` to denote a missing value."
   ]
  },
  {
   "cell_type": "code",
   "execution_count": null,
   "metadata": {
    "colab": {
     "base_uri": "https://localhost:8080/"
    },
    "executionInfo": {
     "elapsed": 179,
     "status": "ok",
     "timestamp": 1653941564515,
     "user": {
      "displayName": "Haw-minn Lu",
      "userId": "16109571175851064283"
     },
     "user_tz": 420
    },
    "id": "TC8vj2uTl0Eo",
    "outputId": "42ef5cc6-8497-4cfe-a254-b8ca9a5d6ddf"
   },
   "outputs": [],
   "source": [
    "df = pd.DataFrame({'a': [1,2,3], 'b': [1, -1, 4]})\n",
    "df['sqrt_b']=np.sqrt(df.b)"
   ]
  },
  {
   "cell_type": "code",
   "execution_count": null,
   "metadata": {
    "colab": {
     "base_uri": "https://localhost:8080/",
     "height": 143
    },
    "executionInfo": {
     "elapsed": 144,
     "status": "ok",
     "timestamp": 1653941565875,
     "user": {
      "displayName": "Haw-minn Lu",
      "userId": "16109571175851064283"
     },
     "user_tz": 420
    },
    "id": "n71K4FckF0Mo",
    "outputId": "60368ea7-f034-4f51-8060-b457209c1fc0"
   },
   "outputs": [],
   "source": [
    "df"
   ]
  },
  {
   "cell_type": "markdown",
   "metadata": {
    "id": "5FdTwbOWV9l7"
   },
   "source": [
    "## $\\color{purple}{\\text{Missingness Mechanism vs. Pattern}}$\n",
    "\n",
    "* Missingness Mechanism (Is an observation complete?)\n",
    "  * Missing Completely at Random (MCAR)\n",
    "  * Missing at Random (MAR)\n",
    "  * Missing not at Random (MNAR)\n",
    "\n",
    "* Missingness Pattern (What features are missing within an observation?)\n",
    "  * Uniform\n",
    "  * Monotonic\n",
    "  * Random"
   ]
  },
  {
   "cell_type": "markdown",
   "metadata": {
    "id": "4rDcrrOpZh7N"
   },
   "source": [
    "## $\\color{purple}{\\text{Missingness Patterns}}$\n",
    "No standard terminology but here is one version:\n",
    "* If a row has missing data, the same features are always missing\n",
    "#### $\\color{purple}{\\text{Uniform}}$\n",
    "\n",
    "| Height | Weight | Sex  | Temperature | Pulse | BP Systolic |\n",
    "| ------ | ------ | ---- | ----------- | ----- | ----------- |\n",
    "| NaN    | NaN    | M    | 98.6        | 70    | NaN         |\n",
    "| 61     | 120    | F    | 98.2        | 77    | 110         |\n",
    "| 65     | 160    | M    | 99.1        | 62    | 140         |\n",
    "| NaN    | NaN    | F    | 98.9        | 55    | NaN         |\n",
    "\n",
    "* If a feature is missing, the rest of the features in the row are missing\n",
    "#### $\\color{purple}{\\text{Monotonic}}$\n",
    "\n",
    "| Height | Weight | Sex  | Temperature | Pulse | BP Systolic |\n",
    "| ------ | ------ | ---- | ----------- | ----- | ----------- |\n",
    "| 71     | 190    | M    | 98.6        | 70    | 120         |\n",
    "| 61     | 120    |      | NaN         | NaN   | NaN         |\n",
    "| 65     | 160    | M    | 99.1        | 62    | 140         |\n",
    "| 63     | 125    | F    | 98.9        | NaN   | NaN         |\n",
    "\n",
    "* No particular pattern to the missingness\n",
    "#### $\\color{purple}{\\text{Random}}$\n",
    "\n",
    "| Height | Weight | Sex  | Temperature | Pulse | BP Systolic |\n",
    "| ------ | ------ | ---- | ----------- | ----- | ----------- |\n",
    "| 71     | NaN    | M    | 98.6        | NaN   | 120         |\n",
    "| 61     | 120    | F    | 98.2        | 77    | 110         |\n",
    "| 65     | NaN    | M    | NaN         | NaN   | 140         |\n",
    "| 63     | 125    | F    | 98.9        | 55    | 100         |\n",
    "\n",
    "\n",
    "\n",
    "\n"
   ]
  },
  {
   "cell_type": "markdown",
   "metadata": {
    "id": "MQiQpXTiOfBU"
   },
   "source": [
    "## $\\color{purple}{\\text{Missingness Mechanisms}}$\n",
    "\n",
    "Rubin’s taxonomy:\n",
    "  * MCAR: the probability of data being missing does not depend on the values\n",
    "observed or unobserved variables\n",
    "  * MAR: the probability of data being missing does not depend on the unobserved\n",
    "data, conditional on the observed data\n",
    "  * MNAR: the probability of data being missing depends on the unobserved data,\n",
    "**even after conditioning on the observed data** \n",
    "\n",
    "Source: [Missing data in propensity\n",
    "score analysis](\n",
    "https://www.ucl.ac.uk/population-health-sciences/sites/population_health_sciences/files/nash-missing_dataps_clemence_leyret.pdf)"
   ]
  },
  {
   "cell_type": "markdown",
   "metadata": {
    "id": "m--kI55mbY2U"
   },
   "source": [
    "## $\\color{purple}{\\text{Why Should I Care? Missing is Missing}}$\n",
    " * MCAR can apply deletion\n",
    " * MAR can use imputation\n",
    " * MNAR requires looking outside the data to handle\n",
    "\n",
    "$\\color{red}{\\text{⚠}}$ Many research papers purport to be able to impute MNAR data. Do not believe them, most of the methodology is the claims is faulty."
   ]
  },
  {
   "cell_type": "markdown",
   "metadata": {
    "id": "wuHbxCzmdRfa"
   },
   "source": [
    "## $\\color{purple}{\\text{Simple Case of Unimputatble NMAR Data}}$"
   ]
  },
  {
   "cell_type": "markdown",
   "metadata": {
    "id": "RHEAJI5-F01J"
   },
   "source": []
  },
  {
   "cell_type": "code",
   "execution_count": null,
   "metadata": {
    "id": "AjbBlydaP97E"
   },
   "outputs": [],
   "source": [
    "import numpy as np"
   ]
  },
  {
   "cell_type": "code",
   "execution_count": null,
   "metadata": {
    "id": "0gi0Vfz3QNMh"
   },
   "outputs": [],
   "source": [
    "cov=[[1.6545195264181267,\n",
    "  0.6346001403246381,\n",
    "  1.573255077832285,\n",
    "  0.7457615955325402],\n",
    " [0.6346001403246381,\n",
    "  0.5636389213610075,\n",
    "  0.5861890592085826,\n",
    "  0.6638139531999303],\n",
    " [1.573255077832285,\n",
    "  0.5861890592085826,\n",
    "  1.6461885333121087,\n",
    "  0.4916921086792136],\n",
    " [0.7457615955325402,\n",
    "  0.6638139531999303,\n",
    "  0.4916921086792136,\n",
    "  1.0900299890979697]]\n",
    "mean = np.random.normal(np.random.uniform(low=1, high=5), np.random.uniform(high=5), 4)"
   ]
  },
  {
   "cell_type": "code",
   "execution_count": null,
   "metadata": {
    "colab": {
     "base_uri": "https://localhost:8080/"
    },
    "executionInfo": {
     "elapsed": 178,
     "status": "ok",
     "timestamp": 1651294635932,
     "user": {
      "displayName": "Haw-minn Lu",
      "userId": "16109571175851064283"
     },
     "user_tz": 420
    },
    "id": "kGWSxd4AQgaI",
    "outputId": "16f45759-0b16-4b01-9371-13227ecac7fa"
   },
   "outputs": [],
   "source": [
    "mean"
   ]
  },
  {
   "cell_type": "code",
   "execution_count": null,
   "metadata": {
    "colab": {
     "base_uri": "https://localhost:8080/",
     "height": 175
    },
    "executionInfo": {
     "elapsed": 188,
     "status": "ok",
     "timestamp": 1651294636954,
     "user": {
      "displayName": "Haw-minn Lu",
      "userId": "16109571175851064283"
     },
     "user_tz": 420
    },
    "id": "wvvEfIz-QBFY",
    "outputId": "b939b05d-3974-430e-a85b-96ef2095d9d9"
   },
   "outputs": [],
   "source": [
    "import pandas as pd\n",
    "df = pd.DataFrame(np.random.multivariate_normal(mean, cov, size=10000), columns=['feature a', 'feature b', 'feature c', 'feature d'])\n",
    "df.cov()"
   ]
  },
  {
   "cell_type": "code",
   "execution_count": null,
   "metadata": {
    "colab": {
     "base_uri": "https://localhost:8080/",
     "height": 175
    },
    "executionInfo": {
     "elapsed": 178,
     "status": "ok",
     "timestamp": 1651294663817,
     "user": {
      "displayName": "Haw-minn Lu",
      "userId": "16109571175851064283"
     },
     "user_tz": 420
    },
    "id": "h8oGnZ9LRnF_",
    "outputId": "56737628-3d89-4e71-e1db-fa32631c3c76"
   },
   "outputs": [],
   "source": [
    "pd.DataFrame(cov)"
   ]
  },
  {
   "cell_type": "code",
   "execution_count": null,
   "metadata": {
    "id": "FjAlEhf2RCUw"
   },
   "outputs": [],
   "source": [
    "df['uncorrelated']=np.random.rand(10000)"
   ]
  },
  {
   "cell_type": "code",
   "execution_count": null,
   "metadata": {
    "colab": {
     "base_uri": "https://localhost:8080/",
     "height": 206
    },
    "executionInfo": {
     "elapsed": 210,
     "status": "ok",
     "timestamp": 1651294675987,
     "user": {
      "displayName": "Haw-minn Lu",
      "userId": "16109571175851064283"
     },
     "user_tz": 420
    },
    "id": "Wg2zYRxQRT6o",
    "outputId": "4e0f98ea-081b-4e3a-e429-788a7f5375a3"
   },
   "outputs": [],
   "source": [
    "df.corr()"
   ]
  },
  {
   "cell_type": "code",
   "execution_count": null,
   "metadata": {
    "id": "Mh5-y5musg4i"
   },
   "outputs": [],
   "source": [
    "def clobber(df, column, probability, depends=[]):\n",
    "  clob = df[column]==df[column] # Always True\n",
    "  for dep_column in depends:\n",
    "    clob &= df[dep_column]>df[dep_column].median()\n",
    "  clob *= probability\n",
    "  rand = np.random.uniform(0,1, size=len(clob))\n",
    "  ret = df.copy()\n",
    "  ret[column]=np.where(clob < rand, df[column], np.nan)\n",
    "  return ret"
   ]
  },
  {
   "cell_type": "code",
   "execution_count": null,
   "metadata": {
    "id": "d7NC0PSLw5Df"
   },
   "outputs": [],
   "source": [
    "mar_df=clobber(df, 'feature a', 0.4, depends=['feature c'])\n",
    "mar_df['missing']=mar_df['feature a'].isnull()"
   ]
  },
  {
   "cell_type": "code",
   "execution_count": null,
   "metadata": {
    "id": "QDV_fAqlzP1b"
   },
   "outputs": [],
   "source": [
    "mcar_df = clobber(df, 'feature a', 0.2)\n",
    "mcar_df['missing']=mcar_df['feature a'].isnull()"
   ]
  },
  {
   "cell_type": "code",
   "execution_count": null,
   "metadata": {
    "id": "8jzpGFjLzlbM"
   },
   "outputs": [],
   "source": [
    "fmnar_df=clobber(df, 'feature a', 0.4, depends=['feature a'])\n",
    "fmnar_df['missing']=fmnar_df['feature a'].isnull()"
   ]
  },
  {
   "cell_type": "code",
   "execution_count": null,
   "metadata": {
    "colab": {
     "base_uri": "https://localhost:8080/"
    },
    "executionInfo": {
     "elapsed": 174,
     "status": "ok",
     "timestamp": 1651294694587,
     "user": {
      "displayName": "Haw-minn Lu",
      "userId": "16109571175851064283"
     },
     "user_tz": 420
    },
    "id": "Zo6Kgm5nzPNO",
    "outputId": "548f4b98-a220-40f0-efa2-124305a11de5"
   },
   "outputs": [],
   "source": [
    "mcar_df.mean()"
   ]
  },
  {
   "cell_type": "code",
   "execution_count": null,
   "metadata": {
    "colab": {
     "base_uri": "https://localhost:8080/"
    },
    "executionInfo": {
     "elapsed": 234,
     "status": "ok",
     "timestamp": 1651294307154,
     "user": {
      "displayName": "Haw-minn Lu",
      "userId": "16109571175851064283"
     },
     "user_tz": 420
    },
    "id": "1qHdvl0xz1K1",
    "outputId": "2940d99d-d938-4e3f-a704-f793d495c9a1"
   },
   "outputs": [],
   "source": [
    "fmnar_df.mean()"
   ]
  },
  {
   "cell_type": "code",
   "execution_count": null,
   "metadata": {
    "colab": {
     "base_uri": "https://localhost:8080/"
    },
    "executionInfo": {
     "elapsed": 8,
     "status": "ok",
     "timestamp": 1651294175174,
     "user": {
      "displayName": "Haw-minn Lu",
      "userId": "16109571175851064283"
     },
     "user_tz": 420
    },
    "id": "VMn-t4z6y8o_",
    "outputId": "0b684284-a1a8-42ad-aa07-e3cf7d56df9e"
   },
   "outputs": [],
   "source": [
    "c_df.mean()"
   ]
  },
  {
   "cell_type": "code",
   "execution_count": null,
   "metadata": {
    "colab": {
     "base_uri": "https://localhost:8080/"
    },
    "executionInfo": {
     "elapsed": 261,
     "status": "ok",
     "timestamp": 1651294176902,
     "user": {
      "displayName": "Haw-minn Lu",
      "userId": "16109571175851064283"
     },
     "user_tz": 420
    },
    "id": "4JYTV89OzBaN",
    "outputId": "eddfe9e7-8635-4be8-cd10-587f240d8e7b"
   },
   "outputs": [],
   "source": [
    "df.mean()"
   ]
  },
  {
   "cell_type": "code",
   "execution_count": null,
   "metadata": {
    "colab": {
     "base_uri": "https://localhost:8080/"
    },
    "executionInfo": {
     "elapsed": 210,
     "status": "ok",
     "timestamp": 1651294486315,
     "user": {
      "displayName": "Haw-minn Lu",
      "userId": "16109571175851064283"
     },
     "user_tz": 420
    },
    "id": "Go6jAE2_0cU8",
    "outputId": "523dba10-a897-4733-fe02-9d8f450eaa17"
   },
   "outputs": [],
   "source": [
    "c_df['feature a'].corr(c_df['feature b'])"
   ]
  },
  {
   "cell_type": "code",
   "execution_count": null,
   "metadata": {
    "id": "S6uuM0Lw1aIL"
   },
   "outputs": [],
   "source": [
    "missing=mcar_df['feature a'].isnull()"
   ]
  },
  {
   "cell_type": "code",
   "execution_count": null,
   "metadata": {
    "id": "e12nOYCQ1lgy"
   },
   "outputs": [],
   "source": [
    "mcar_df['missing']=missing"
   ]
  },
  {
   "cell_type": "code",
   "execution_count": null,
   "metadata": {
    "colab": {
     "base_uri": "https://localhost:8080/",
     "height": 238
    },
    "executionInfo": {
     "elapsed": 187,
     "status": "ok",
     "timestamp": 1651295586355,
     "user": {
      "displayName": "Haw-minn Lu",
      "userId": "16109571175851064283"
     },
     "user_tz": 420
    },
    "id": "-iY5BPfJ2BVE",
    "outputId": "548a309f-d35d-45bf-d233-ff878212a8f0"
   },
   "outputs": [],
   "source": [
    "fmnar_df.corr()"
   ]
  },
  {
   "cell_type": "markdown",
   "metadata": {
    "id": "IoHIBEteF04C"
   },
   "source": []
  },
  {
   "cell_type": "markdown",
   "metadata": {
    "id": "sgzuGawv9dxu"
   },
   "source": []
  },
  {
   "cell_type": "code",
   "execution_count": null,
   "metadata": {
    "id": "uKVI6Ks6lASt"
   },
   "outputs": [],
   "source": [
    "from sklearn.covariance import EmpiricalCovariance"
   ]
  },
  {
   "cell_type": "code",
   "execution_count": null,
   "metadata": {
    "colab": {
     "base_uri": "https://localhost:8080/"
    },
    "executionInfo": {
     "elapsed": 201,
     "status": "ok",
     "timestamp": 1651302557042,
     "user": {
      "displayName": "Haw-minn Lu",
      "userId": "16109571175851064283"
     },
     "user_tz": 420
    },
    "id": "hJB1x8DIlD3k",
    "outputId": "199a4a71-b149-4397-8037-f4e2fc059583"
   },
   "outputs": [],
   "source": [
    "mcar_df.mean()"
   ]
  },
  {
   "cell_type": "code",
   "execution_count": null,
   "metadata": {
    "colab": {
     "base_uri": "https://localhost:8080/"
    },
    "executionInfo": {
     "elapsed": 222,
     "status": "ok",
     "timestamp": 1651302552049,
     "user": {
      "displayName": "Haw-minn Lu",
      "userId": "16109571175851064283"
     },
     "user_tz": 420
    },
    "id": "7ZZQXg82lEgW",
    "outputId": "821ce4df-119b-451f-84c2-9ac91ff4a889"
   },
   "outputs": [],
   "source": [
    "mcar_df.dropna().mean()"
   ]
  },
  {
   "cell_type": "code",
   "execution_count": null,
   "metadata": {
    "colab": {
     "base_uri": "https://localhost:8080/"
    },
    "executionInfo": {
     "elapsed": 217,
     "status": "ok",
     "timestamp": 1651302649454,
     "user": {
      "displayName": "Haw-minn Lu",
      "userId": "16109571175851064283"
     },
     "user_tz": 420
    },
    "id": "Iy0fRo2YTXVF",
    "outputId": "ed031b94-4ec5-4c96-9697-f4381f8a5947"
   },
   "outputs": [],
   "source": [
    "mcar_df[mcar_df['feature a'].isnull()].mean()"
   ]
  },
  {
   "cell_type": "code",
   "execution_count": null,
   "metadata": {
    "colab": {
     "base_uri": "https://localhost:8080/"
    },
    "executionInfo": {
     "elapsed": 209,
     "status": "ok",
     "timestamp": 1651302410166,
     "user": {
      "displayName": "Haw-minn Lu",
      "userId": "16109571175851064283"
     },
     "user_tz": 420
    },
    "id": "CHpIl1-dlN4d",
    "outputId": "c755ca8e-a5cb-4be4-bf08-1094dbe6f599"
   },
   "outputs": [],
   "source": [
    "mar_df.dropna().mean()"
   ]
  },
  {
   "cell_type": "code",
   "execution_count": null,
   "metadata": {
    "colab": {
     "base_uri": "https://localhost:8080/"
    },
    "executionInfo": {
     "elapsed": 155,
     "status": "ok",
     "timestamp": 1651302478623,
     "user": {
      "displayName": "Haw-minn Lu",
      "userId": "16109571175851064283"
     },
     "user_tz": 420
    },
    "id": "j7Phhtt6lOYr",
    "outputId": "329860d8-4d66-4259-ac68-60ef80ee98c4"
   },
   "outputs": [],
   "source": [
    "mar_df.mean()"
   ]
  },
  {
   "cell_type": "code",
   "execution_count": null,
   "metadata": {
    "colab": {
     "base_uri": "https://localhost:8080/"
    },
    "executionInfo": {
     "elapsed": 285,
     "status": "ok",
     "timestamp": 1651302509298,
     "user": {
      "displayName": "Haw-minn Lu",
      "userId": "16109571175851064283"
     },
     "user_tz": 420
    },
    "id": "w3PcA1lmlYBD",
    "outputId": "a4df85d6-d009-46bd-9ff3-352020dc8143"
   },
   "outputs": [],
   "source": [
    "mar_df[mar_df['feature a'].isnull()].mean()"
   ]
  },
  {
   "cell_type": "code",
   "execution_count": null,
   "metadata": {
    "colab": {
     "base_uri": "https://localhost:8080/",
     "height": 38
    },
    "executionInfo": {
     "elapsed": 175,
     "status": "ok",
     "timestamp": 1651122920379,
     "user": {
      "displayName": "Haw-minn Lu",
      "userId": "16109571175851064283"
     },
     "user_tz": 420
    },
    "id": "TVxmiyNylx7r",
    "outputId": "22fd0d32-1acf-4126-d649-3e88198c2f33"
   },
   "outputs": [],
   "source": [
    "r"
   ]
  },
  {
   "cell_type": "code",
   "execution_count": null,
   "metadata": {
    "id": "vkZSdgI7ly6M"
   },
   "outputs": [],
   "source": []
  },
  {
   "cell_type": "markdown",
   "metadata": {
    "id": "LvO5vSmaUeRj"
   },
   "source": [
    ":warning\n",
    "\n",
    "# $\\color{red}{\\text{⚠}}$\n"
   ]
  },
  {
   "cell_type": "code",
   "execution_count": null,
   "metadata": {
    "id": "AjWabbXOUy2a"
   },
   "outputs": [],
   "source": []
  }
 ],
 "metadata": {
  "celltoolbar": "Tags",
  "colab": {
   "authorship_tag": "ABX9TyPJPCKz3Vf0S1QHlXB9OeAl",
   "collapsed_sections": [],
   "name": "0-Introduction to Missingness.ipynb",
   "provenance": []
  },
  "kernelspec": {
   "display_name": "Python 3 (ipykernel)",
   "language": "python",
   "name": "python3"
  },
  "language_info": {
   "codemirror_mode": {
    "name": "ipython",
    "version": 3
   },
   "file_extension": ".py",
   "mimetype": "text/x-python",
   "name": "python",
   "nbconvert_exporter": "python",
   "pygments_lexer": "ipython3",
   "version": "3.9.7"
  }
 },
 "nbformat": 4,
 "nbformat_minor": 1
}
